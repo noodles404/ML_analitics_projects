{
 "cells": [
  {
   "cell_type": "markdown",
   "id": "d57c5c0d",
   "metadata": {},
   "source": [
    "<div style=\"border:solid Chocolate 2px; padding: 40px\">\n",
    "\n",
    "Артем, привет, меня зовут Станислав, и я буду проверять твой проект. Предлагаю общаться на «ты», но если это неудобно - дай знать, и мы перейдем на «вы».\n",
    "Это учебный проект и здесь не стоит бояться делать ошибки, я хочу поделиться своим опытом и помочь тебе стать аналитиком данных.\n",
    "Уже выполнена большая работа над проектом, давай сделаем его еще лучше. Ниже ты найдешь мои комментарии - пожалуйста, не перемещай, не изменяй и не удаляй их. Я буду использовать цветовую разметку:\n",
    "\n",
    "<div class=\"alert alert-danger\">\n",
    "❌ <b>Комментарий с замечанием ревьюера:</b> Так выделены самые важные замечания. Как только ты их исправишь проект будет принят. </div>\n",
    "\n",
    "<div class=\"alert alert-warning\">\n",
    "⚠️  <b>Комментарий с небольшим замечанием или советом ревьюера:</b> Так выделены небольшие замечания или советы. \n",
    "</div>\n",
    "\n",
    "<div class=\"alert alert-success\">\n",
    "✔️ <b>Комментарий с комплиментом ревьюера:</b> Так я выделяю все остальные комментарии.</div>\n",
    "\n",
    "Давай работать над проектом в диалоге: если ты что-то меняешь в проекте или отвечаешь на мои комментарии — пиши об этом.\n",
    "Мне будет легче отследить изменения, если ты выделишь свои комментарии:\n",
    "<div class=\"alert alert-info\"> <b>🎓 Комментарий студента:</b> Например, вот так.</div>\n",
    "Всё это поможет выполнить повторную проверку твоего проекта оперативнее.\n",
    "</div>\n"
   ]
  },
  {
   "cell_type": "markdown",
   "id": "d5ffac03",
   "metadata": {},
   "source": [
    "<div style=\"border:solid Chocolate 2px; padding: 40px\">\n",
    "\n",
    "# Общий вывод ревьюера по проекту\n",
    "\n",
    "<div class=\"alert alert-success\">\n",
    "Проделана хорошая работа. Код написан чисто, соблюдена структура проекта. Есть несколько замечаний, исправь их и проект будет принят.\n",
    "</div>\n",
    "\n",
    "<div class=\"alert alert-danger\">\n",
    "    \n",
    "- скорректируй, пожалуйста, визуализации\n",
    "    \n",
    "-  добавь, пожалуйста, формулировки гипотез   \n",
    "    \n",
    "- скорректируй, пожалуйста, проверки гипотез    \n",
    "    \n",
    "- добавь, пожалуйста, промежуточные выводы и общий вывод.\n",
    "    \n",
    "</div>\n",
    "</div>\n"
   ]
  },
  {
   "cell_type": "markdown",
   "id": "f24c5677",
   "metadata": {},
   "source": [
    "<div style=\"border:solid Chocolate 2px; padding: 40px\">\n",
    "\n",
    "# Общий вывод ревьюера по проекту в2\n",
    "\n",
    "<div class=\"alert alert-success\">\n",
    "Спасибо за проработку замечаний, осталось исправить несколько моментов.\n",
    "</div>\n",
    "\n",
    "<div class=\"alert alert-danger\">\n",
    "    \n",
    "-  добавь, пожалуйста, вступительную часть к проекту\n",
    "    \n",
    "- добавь, пожалуйста, расчет доли для каждого типа пользователя относительно общего числа пользователей    \n",
    "    \n",
    "-  добавь, пожалуйста, формулировки гипотез   \n",
    "    \n",
    "\n",
    "    \n",
    "</div>\n",
    "</div>"
   ]
  },
  {
   "cell_type": "markdown",
   "id": "4645dec8",
   "metadata": {},
   "source": [
    "<div class=\"alert alert-danger\">\n",
    "❌<b>Комментарий с замечанием ревьюера:</b>\n",
    "\n",
    "Для того, чтобы сразу понять, о чем проект, в начале лучше добавить:\n",
    "    \n",
    "- краткое описание проекта;\n",
    "\n",
    "- описание данных;\n",
    "\n",
    "- план работы;\n",
    "\n",
    "- цель проекта;\n",
    "    \n",
    "- заголовок.\n",
    "\n",
    "</div>\n",
    "\n"
   ]
  },
  {
   "cell_type": "markdown",
   "id": "1350cb05",
   "metadata": {},
   "source": [
    "<div class=\"alert alert-danger\">\n",
    "❌<b>Комментарий с замечанием ревьюера в2:</b>\n",
    "\n",
    "Проработай, пожалуйста, замечание выше."
   ]
  },
  {
   "cell_type": "markdown",
   "id": "92c0cd9c",
   "metadata": {},
   "source": [
    " \n",
    "                                             ###Анализ данных сервиса Gofast\n",
    " \n",
    " Gofast - сервис, который оказывает услуги по предоставлению электросамокатов для аренды физическим лицам.\n",
    "\n",
    " Цель проекта - комплексное исследование и проверка основных гипотез на основе данных, педоставленных сервисом Gofast. \n",
    " \n",
    " Подвергнуть анализу предстоит следующие данные: \n",
    "    1) О пользователях сервиса(ID, имя, возраст, нп и тип подписки на сервис)\n",
    "    2) Об уникальных поездках пользователей(ID, расстояние пройденное за поездку в метрах, время поездки в минутах, дата самой поездки)\n",
    "    3) О доступных предложениях для пользователей от сервиса(тип подписки, стоимость поездки в минуту, стоимость начала поездки, стоимость подписки в месяц)\n",
    "    \n",
    " Общий план:\n",
    " 1) Вывести имеющиеся категории данных для пониманимания основных категорий датасета, с которыми предстоит работать.\n",
    " 2) Изучить данные на предмет пропусков, дубликатов. По необходимости привести данные к корректному для них типу.\n",
    " 3) Провести исследовательский анализ данных, вывести графики, показывающие частотность, корреляции, соотношения, исследуемых данных, по возможности избавиться от аномалий. На основе изученного построить выводы об рассмотренных данных.\n",
    " 4) Проверка статистических гипотез поставленных заказчиком.\n",
    " 5) Предоставление сервису результатов исследования, а также формирование рекомендаций для дальнешего успешного функционирования сервиса.\n",
    "    \n",
    " \n",
    " \n",
    "    \n",
    "\n"
   ]
  },
  {
   "cell_type": "markdown",
   "id": "08abc38f",
   "metadata": {},
   "source": [
    "<div class=\"alert alert-success\">\n",
    "✔️ <b>Комментарий с комплиментом ревьюера в3:</b> \n",
    "\n",
    "Отлично, описание добавлено"
   ]
  },
  {
   "cell_type": "code",
   "execution_count": 1,
   "id": "72576667",
   "metadata": {},
   "outputs": [],
   "source": [
    "import pandas as pd\n",
    "import scipy.stats as st\n",
    "import matplotlib.pyplot as plt\n",
    "import numpy as np\n",
    "from scipy.stats import binom"
   ]
  },
  {
   "cell_type": "markdown",
   "id": "c42cbe00",
   "metadata": {},
   "source": [
    "#### Шаг 1. Загрузка данных"
   ]
  },
  {
   "cell_type": "markdown",
   "id": "f21b0f1a",
   "metadata": {},
   "source": [
    "#### 1.1"
   ]
  },
  {
   "cell_type": "code",
   "execution_count": 2,
   "id": "eff9f206",
   "metadata": {},
   "outputs": [],
   "source": [
    "user = pd.read_csv('/datasets/users_go.csv')\n",
    "ride = pd.read_csv('/datasets/rides_go.csv')\n",
    "subscription = pd.read_csv('/datasets/subscriptions_go.csv')"
   ]
  },
  {
   "cell_type": "markdown",
   "id": "11b7bfb6",
   "metadata": {},
   "source": [
    "#### 1.2"
   ]
  },
  {
   "cell_type": "code",
   "execution_count": 3,
   "id": "7e67a6c0",
   "metadata": {},
   "outputs": [
    {
     "data": {
      "text/html": [
       "<div>\n",
       "<style scoped>\n",
       "    .dataframe tbody tr th:only-of-type {\n",
       "        vertical-align: middle;\n",
       "    }\n",
       "\n",
       "    .dataframe tbody tr th {\n",
       "        vertical-align: top;\n",
       "    }\n",
       "\n",
       "    .dataframe thead th {\n",
       "        text-align: right;\n",
       "    }\n",
       "</style>\n",
       "<table border=\"1\" class=\"dataframe\">\n",
       "  <thead>\n",
       "    <tr style=\"text-align: right;\">\n",
       "      <th></th>\n",
       "      <th>user_id</th>\n",
       "      <th>name</th>\n",
       "      <th>age</th>\n",
       "      <th>city</th>\n",
       "      <th>subscription_type</th>\n",
       "    </tr>\n",
       "  </thead>\n",
       "  <tbody>\n",
       "    <tr>\n",
       "      <th>0</th>\n",
       "      <td>1</td>\n",
       "      <td>Кира</td>\n",
       "      <td>22</td>\n",
       "      <td>Тюмень</td>\n",
       "      <td>ultra</td>\n",
       "    </tr>\n",
       "    <tr>\n",
       "      <th>1</th>\n",
       "      <td>2</td>\n",
       "      <td>Станислав</td>\n",
       "      <td>31</td>\n",
       "      <td>Омск</td>\n",
       "      <td>ultra</td>\n",
       "    </tr>\n",
       "    <tr>\n",
       "      <th>2</th>\n",
       "      <td>3</td>\n",
       "      <td>Алексей</td>\n",
       "      <td>20</td>\n",
       "      <td>Москва</td>\n",
       "      <td>ultra</td>\n",
       "    </tr>\n",
       "    <tr>\n",
       "      <th>3</th>\n",
       "      <td>4</td>\n",
       "      <td>Константин</td>\n",
       "      <td>26</td>\n",
       "      <td>Ростов-на-Дону</td>\n",
       "      <td>ultra</td>\n",
       "    </tr>\n",
       "    <tr>\n",
       "      <th>4</th>\n",
       "      <td>5</td>\n",
       "      <td>Адель</td>\n",
       "      <td>28</td>\n",
       "      <td>Омск</td>\n",
       "      <td>ultra</td>\n",
       "    </tr>\n",
       "    <tr>\n",
       "      <th>5</th>\n",
       "      <td>6</td>\n",
       "      <td>Регина</td>\n",
       "      <td>25</td>\n",
       "      <td>Краснодар</td>\n",
       "      <td>ultra</td>\n",
       "    </tr>\n",
       "    <tr>\n",
       "      <th>6</th>\n",
       "      <td>7</td>\n",
       "      <td>Игорь</td>\n",
       "      <td>23</td>\n",
       "      <td>Омск</td>\n",
       "      <td>ultra</td>\n",
       "    </tr>\n",
       "    <tr>\n",
       "      <th>7</th>\n",
       "      <td>8</td>\n",
       "      <td>Юрий</td>\n",
       "      <td>23</td>\n",
       "      <td>Краснодар</td>\n",
       "      <td>ultra</td>\n",
       "    </tr>\n",
       "    <tr>\n",
       "      <th>8</th>\n",
       "      <td>9</td>\n",
       "      <td>Ян</td>\n",
       "      <td>21</td>\n",
       "      <td>Пятигорск</td>\n",
       "      <td>ultra</td>\n",
       "    </tr>\n",
       "    <tr>\n",
       "      <th>9</th>\n",
       "      <td>10</td>\n",
       "      <td>Валерий</td>\n",
       "      <td>18</td>\n",
       "      <td>Екатеринбург</td>\n",
       "      <td>ultra</td>\n",
       "    </tr>\n",
       "  </tbody>\n",
       "</table>\n",
       "</div>"
      ],
      "text/plain": [
       "   user_id        name  age            city subscription_type\n",
       "0        1        Кира   22          Тюмень             ultra\n",
       "1        2   Станислав   31            Омск             ultra\n",
       "2        3     Алексей   20          Москва             ultra\n",
       "3        4  Константин   26  Ростов-на-Дону             ultra\n",
       "4        5       Адель   28            Омск             ultra\n",
       "5        6      Регина   25       Краснодар             ultra\n",
       "6        7       Игорь   23            Омск             ultra\n",
       "7        8        Юрий   23       Краснодар             ultra\n",
       "8        9          Ян   21       Пятигорск             ultra\n",
       "9       10     Валерий   18    Екатеринбург             ultra"
      ]
     },
     "execution_count": 3,
     "metadata": {},
     "output_type": "execute_result"
    }
   ],
   "source": [
    "user.head(10)"
   ]
  },
  {
   "cell_type": "code",
   "execution_count": 4,
   "id": "679d362c",
   "metadata": {},
   "outputs": [
    {
     "name": "stdout",
     "output_type": "stream",
     "text": [
      "<class 'pandas.core.frame.DataFrame'>\n",
      "RangeIndex: 1565 entries, 0 to 1564\n",
      "Data columns (total 5 columns):\n",
      " #   Column             Non-Null Count  Dtype \n",
      "---  ------             --------------  ----- \n",
      " 0   user_id            1565 non-null   int64 \n",
      " 1   name               1565 non-null   object\n",
      " 2   age                1565 non-null   int64 \n",
      " 3   city               1565 non-null   object\n",
      " 4   subscription_type  1565 non-null   object\n",
      "dtypes: int64(2), object(3)\n",
      "memory usage: 61.3+ KB\n"
     ]
    }
   ],
   "source": [
    "user.info()"
   ]
  },
  {
   "cell_type": "code",
   "execution_count": 5,
   "id": "6af55f80",
   "metadata": {},
   "outputs": [
    {
     "data": {
      "text/html": [
       "<div>\n",
       "<style scoped>\n",
       "    .dataframe tbody tr th:only-of-type {\n",
       "        vertical-align: middle;\n",
       "    }\n",
       "\n",
       "    .dataframe tbody tr th {\n",
       "        vertical-align: top;\n",
       "    }\n",
       "\n",
       "    .dataframe thead th {\n",
       "        text-align: right;\n",
       "    }\n",
       "</style>\n",
       "<table border=\"1\" class=\"dataframe\">\n",
       "  <thead>\n",
       "    <tr style=\"text-align: right;\">\n",
       "      <th></th>\n",
       "      <th>user_id</th>\n",
       "      <th>distance</th>\n",
       "      <th>duration</th>\n",
       "      <th>date</th>\n",
       "    </tr>\n",
       "  </thead>\n",
       "  <tbody>\n",
       "    <tr>\n",
       "      <th>0</th>\n",
       "      <td>1</td>\n",
       "      <td>4409.919140</td>\n",
       "      <td>25.599769</td>\n",
       "      <td>2021-01-01</td>\n",
       "    </tr>\n",
       "    <tr>\n",
       "      <th>1</th>\n",
       "      <td>1</td>\n",
       "      <td>2617.592153</td>\n",
       "      <td>15.816871</td>\n",
       "      <td>2021-01-18</td>\n",
       "    </tr>\n",
       "    <tr>\n",
       "      <th>2</th>\n",
       "      <td>1</td>\n",
       "      <td>754.159807</td>\n",
       "      <td>6.232113</td>\n",
       "      <td>2021-04-20</td>\n",
       "    </tr>\n",
       "    <tr>\n",
       "      <th>3</th>\n",
       "      <td>1</td>\n",
       "      <td>2694.783254</td>\n",
       "      <td>18.511000</td>\n",
       "      <td>2021-08-11</td>\n",
       "    </tr>\n",
       "    <tr>\n",
       "      <th>4</th>\n",
       "      <td>1</td>\n",
       "      <td>4028.687306</td>\n",
       "      <td>26.265803</td>\n",
       "      <td>2021-08-28</td>\n",
       "    </tr>\n",
       "    <tr>\n",
       "      <th>5</th>\n",
       "      <td>1</td>\n",
       "      <td>2770.890808</td>\n",
       "      <td>16.650138</td>\n",
       "      <td>2021-10-09</td>\n",
       "    </tr>\n",
       "    <tr>\n",
       "      <th>6</th>\n",
       "      <td>1</td>\n",
       "      <td>3039.020292</td>\n",
       "      <td>14.927879</td>\n",
       "      <td>2021-10-19</td>\n",
       "    </tr>\n",
       "    <tr>\n",
       "      <th>7</th>\n",
       "      <td>1</td>\n",
       "      <td>2842.118050</td>\n",
       "      <td>23.117468</td>\n",
       "      <td>2021-11-06</td>\n",
       "    </tr>\n",
       "    <tr>\n",
       "      <th>8</th>\n",
       "      <td>1</td>\n",
       "      <td>3412.690668</td>\n",
       "      <td>15.238072</td>\n",
       "      <td>2021-11-14</td>\n",
       "    </tr>\n",
       "    <tr>\n",
       "      <th>9</th>\n",
       "      <td>1</td>\n",
       "      <td>748.690645</td>\n",
       "      <td>15.041884</td>\n",
       "      <td>2021-11-22</td>\n",
       "    </tr>\n",
       "  </tbody>\n",
       "</table>\n",
       "</div>"
      ],
      "text/plain": [
       "   user_id     distance   duration        date\n",
       "0        1  4409.919140  25.599769  2021-01-01\n",
       "1        1  2617.592153  15.816871  2021-01-18\n",
       "2        1   754.159807   6.232113  2021-04-20\n",
       "3        1  2694.783254  18.511000  2021-08-11\n",
       "4        1  4028.687306  26.265803  2021-08-28\n",
       "5        1  2770.890808  16.650138  2021-10-09\n",
       "6        1  3039.020292  14.927879  2021-10-19\n",
       "7        1  2842.118050  23.117468  2021-11-06\n",
       "8        1  3412.690668  15.238072  2021-11-14\n",
       "9        1   748.690645  15.041884  2021-11-22"
      ]
     },
     "execution_count": 5,
     "metadata": {},
     "output_type": "execute_result"
    }
   ],
   "source": [
    "ride.head(10)"
   ]
  },
  {
   "cell_type": "code",
   "execution_count": 6,
   "id": "ea79a92c",
   "metadata": {},
   "outputs": [
    {
     "data": {
      "text/html": [
       "<div>\n",
       "<style scoped>\n",
       "    .dataframe tbody tr th:only-of-type {\n",
       "        vertical-align: middle;\n",
       "    }\n",
       "\n",
       "    .dataframe tbody tr th {\n",
       "        vertical-align: top;\n",
       "    }\n",
       "\n",
       "    .dataframe thead th {\n",
       "        text-align: right;\n",
       "    }\n",
       "</style>\n",
       "<table border=\"1\" class=\"dataframe\">\n",
       "  <thead>\n",
       "    <tr style=\"text-align: right;\">\n",
       "      <th></th>\n",
       "      <th>subscription_type</th>\n",
       "      <th>minute_price</th>\n",
       "      <th>start_ride_price</th>\n",
       "      <th>subscription_fee</th>\n",
       "    </tr>\n",
       "  </thead>\n",
       "  <tbody>\n",
       "    <tr>\n",
       "      <th>0</th>\n",
       "      <td>free</td>\n",
       "      <td>8</td>\n",
       "      <td>50</td>\n",
       "      <td>0</td>\n",
       "    </tr>\n",
       "    <tr>\n",
       "      <th>1</th>\n",
       "      <td>ultra</td>\n",
       "      <td>6</td>\n",
       "      <td>0</td>\n",
       "      <td>199</td>\n",
       "    </tr>\n",
       "  </tbody>\n",
       "</table>\n",
       "</div>"
      ],
      "text/plain": [
       "  subscription_type  minute_price  start_ride_price  subscription_fee\n",
       "0              free             8                50                 0\n",
       "1             ultra             6                 0               199"
      ]
     },
     "execution_count": 6,
     "metadata": {},
     "output_type": "execute_result"
    }
   ],
   "source": [
    "subscription.head(10)"
   ]
  },
  {
   "cell_type": "markdown",
   "id": "e95ebca7",
   "metadata": {},
   "source": [
    "#### Шаг 2. Предобработка данных"
   ]
  },
  {
   "cell_type": "markdown",
   "id": "337ea241",
   "metadata": {},
   "source": [
    "Поменям тип данных в колонке date"
   ]
  },
  {
   "cell_type": "code",
   "execution_count": 7,
   "id": "af6d202c",
   "metadata": {},
   "outputs": [
    {
     "name": "stdout",
     "output_type": "stream",
     "text": [
      "<class 'pandas.core.frame.DataFrame'>\n",
      "RangeIndex: 18068 entries, 0 to 18067\n",
      "Data columns (total 4 columns):\n",
      " #   Column    Non-Null Count  Dtype         \n",
      "---  ------    --------------  -----         \n",
      " 0   user_id   18068 non-null  int64         \n",
      " 1   distance  18068 non-null  float64       \n",
      " 2   duration  18068 non-null  float64       \n",
      " 3   date      18068 non-null  datetime64[ns]\n",
      "dtypes: datetime64[ns](1), float64(2), int64(1)\n",
      "memory usage: 564.8 KB\n"
     ]
    }
   ],
   "source": [
    "ride['date'] = pd.to_datetime(arg=ride['date'], format='%Y-%m-%d')\n",
    "ride.info()"
   ]
  },
  {
   "cell_type": "code",
   "execution_count": 8,
   "id": "d7cdda15",
   "metadata": {},
   "outputs": [
    {
     "data": {
      "text/plain": [
       "user_id              0\n",
       "name                 0\n",
       "age                  0\n",
       "city                 0\n",
       "subscription_type    0\n",
       "dtype: int64"
      ]
     },
     "execution_count": 8,
     "metadata": {},
     "output_type": "execute_result"
    }
   ],
   "source": [
    "user.isna().sum()"
   ]
  },
  {
   "cell_type": "code",
   "execution_count": 9,
   "id": "9bcebb0c",
   "metadata": {},
   "outputs": [
    {
     "data": {
      "text/plain": [
       "user_id     0\n",
       "distance    0\n",
       "duration    0\n",
       "date        0\n",
       "dtype: int64"
      ]
     },
     "execution_count": 9,
     "metadata": {},
     "output_type": "execute_result"
    }
   ],
   "source": [
    "ride.isna().sum()"
   ]
  },
  {
   "cell_type": "code",
   "execution_count": 10,
   "id": "83fa4b31",
   "metadata": {},
   "outputs": [
    {
     "data": {
      "text/plain": [
       "subscription_type    0\n",
       "minute_price         0\n",
       "start_ride_price     0\n",
       "subscription_fee     0\n",
       "dtype: int64"
      ]
     },
     "execution_count": 10,
     "metadata": {},
     "output_type": "execute_result"
    }
   ],
   "source": [
    "subscription.isna().sum()"
   ]
  },
  {
   "cell_type": "code",
   "execution_count": 11,
   "id": "b415c303",
   "metadata": {},
   "outputs": [
    {
     "data": {
      "text/html": [
       "<div>\n",
       "<style scoped>\n",
       "    .dataframe tbody tr th:only-of-type {\n",
       "        vertical-align: middle;\n",
       "    }\n",
       "\n",
       "    .dataframe tbody tr th {\n",
       "        vertical-align: top;\n",
       "    }\n",
       "\n",
       "    .dataframe thead th {\n",
       "        text-align: right;\n",
       "    }\n",
       "</style>\n",
       "<table border=\"1\" class=\"dataframe\">\n",
       "  <thead>\n",
       "    <tr style=\"text-align: right;\">\n",
       "      <th></th>\n",
       "      <th>user_id</th>\n",
       "      <th>name</th>\n",
       "      <th>age</th>\n",
       "      <th>city</th>\n",
       "      <th>subscription_type</th>\n",
       "    </tr>\n",
       "  </thead>\n",
       "  <tbody>\n",
       "    <tr>\n",
       "      <th>1529</th>\n",
       "      <td>1530.0</td>\n",
       "      <td>Ростислав</td>\n",
       "      <td>29</td>\n",
       "      <td>Сочи</td>\n",
       "      <td>free</td>\n",
       "    </tr>\n",
       "    <tr>\n",
       "      <th>1530</th>\n",
       "      <td>1531.0</td>\n",
       "      <td>Никита</td>\n",
       "      <td>25</td>\n",
       "      <td>Пятигорск</td>\n",
       "      <td>free</td>\n",
       "    </tr>\n",
       "    <tr>\n",
       "      <th>1531</th>\n",
       "      <td>1532.0</td>\n",
       "      <td>Алексей</td>\n",
       "      <td>26</td>\n",
       "      <td>Тюмень</td>\n",
       "      <td>free</td>\n",
       "    </tr>\n",
       "    <tr>\n",
       "      <th>1532</th>\n",
       "      <td>1533.0</td>\n",
       "      <td>Степан</td>\n",
       "      <td>22</td>\n",
       "      <td>Краснодар</td>\n",
       "      <td>free</td>\n",
       "    </tr>\n",
       "    <tr>\n",
       "      <th>1533</th>\n",
       "      <td>1534.0</td>\n",
       "      <td>Альберт</td>\n",
       "      <td>25</td>\n",
       "      <td>Краснодар</td>\n",
       "      <td>free</td>\n",
       "    </tr>\n",
       "  </tbody>\n",
       "</table>\n",
       "</div>"
      ],
      "text/plain": [
       "      user_id       name  age       city subscription_type\n",
       "1529   1530.0  Ростислав   29       Сочи              free\n",
       "1530   1531.0     Никита   25  Пятигорск              free\n",
       "1531   1532.0    Алексей   26     Тюмень              free\n",
       "1532   1533.0     Степан   22  Краснодар              free\n",
       "1533   1534.0    Альберт   25  Краснодар              free"
      ]
     },
     "execution_count": 11,
     "metadata": {},
     "output_type": "execute_result"
    }
   ],
   "source": [
    "user.loc[user['user_id'].duplicated()]\n",
    "# судя по всему закралась какая-то ошибка и эти пользователи были продублированы\n",
    "# эти дупликаты находятся не по всему датафрейму, а на конкретных сроках, их судя по всему ошибочно включили\n",
    "user['user_id'] = user['user_id'].drop_duplicates().reset_index(drop=True)\n",
    "user = user.dropna()\n",
    "user.tail()"
   ]
  },
  {
   "cell_type": "code",
   "execution_count": 12,
   "id": "10701320",
   "metadata": {},
   "outputs": [
    {
     "data": {
      "text/html": [
       "<div>\n",
       "<style scoped>\n",
       "    .dataframe tbody tr th:only-of-type {\n",
       "        vertical-align: middle;\n",
       "    }\n",
       "\n",
       "    .dataframe tbody tr th {\n",
       "        vertical-align: top;\n",
       "    }\n",
       "\n",
       "    .dataframe thead th {\n",
       "        text-align: right;\n",
       "    }\n",
       "</style>\n",
       "<table border=\"1\" class=\"dataframe\">\n",
       "  <thead>\n",
       "    <tr style=\"text-align: right;\">\n",
       "      <th></th>\n",
       "      <th>user_id</th>\n",
       "      <th>name</th>\n",
       "      <th>age</th>\n",
       "      <th>city</th>\n",
       "      <th>subscription_type</th>\n",
       "    </tr>\n",
       "  </thead>\n",
       "  <tbody>\n",
       "    <tr>\n",
       "      <th>0</th>\n",
       "      <td>1</td>\n",
       "      <td>Кира</td>\n",
       "      <td>22</td>\n",
       "      <td>Тюмень</td>\n",
       "      <td>ultra</td>\n",
       "    </tr>\n",
       "    <tr>\n",
       "      <th>1</th>\n",
       "      <td>2</td>\n",
       "      <td>Станислав</td>\n",
       "      <td>31</td>\n",
       "      <td>Омск</td>\n",
       "      <td>ultra</td>\n",
       "    </tr>\n",
       "    <tr>\n",
       "      <th>2</th>\n",
       "      <td>3</td>\n",
       "      <td>Алексей</td>\n",
       "      <td>20</td>\n",
       "      <td>Москва</td>\n",
       "      <td>ultra</td>\n",
       "    </tr>\n",
       "    <tr>\n",
       "      <th>3</th>\n",
       "      <td>4</td>\n",
       "      <td>Константин</td>\n",
       "      <td>26</td>\n",
       "      <td>Ростов-на-Дону</td>\n",
       "      <td>ultra</td>\n",
       "    </tr>\n",
       "    <tr>\n",
       "      <th>4</th>\n",
       "      <td>5</td>\n",
       "      <td>Адель</td>\n",
       "      <td>28</td>\n",
       "      <td>Омск</td>\n",
       "      <td>ultra</td>\n",
       "    </tr>\n",
       "  </tbody>\n",
       "</table>\n",
       "</div>"
      ],
      "text/plain": [
       "   user_id        name  age            city subscription_type\n",
       "0        1        Кира   22          Тюмень             ultra\n",
       "1        2   Станислав   31            Омск             ultra\n",
       "2        3     Алексей   20          Москва             ultra\n",
       "3        4  Константин   26  Ростов-на-Дону             ultra\n",
       "4        5       Адель   28            Омск             ultra"
      ]
     },
     "execution_count": 12,
     "metadata": {},
     "output_type": "execute_result"
    }
   ],
   "source": [
    "user['user_id'] = pd.to_numeric(user['user_id'], errors='ignore')\n",
    "user['user_id'] = user['user_id'].astype('int')\n",
    "user.head()"
   ]
  },
  {
   "cell_type": "code",
   "execution_count": 13,
   "id": "a4795da8",
   "metadata": {},
   "outputs": [
    {
     "data": {
      "text/html": [
       "<div>\n",
       "<style scoped>\n",
       "    .dataframe tbody tr th:only-of-type {\n",
       "        vertical-align: middle;\n",
       "    }\n",
       "\n",
       "    .dataframe tbody tr th {\n",
       "        vertical-align: top;\n",
       "    }\n",
       "\n",
       "    .dataframe thead th {\n",
       "        text-align: right;\n",
       "    }\n",
       "</style>\n",
       "<table border=\"1\" class=\"dataframe\">\n",
       "  <thead>\n",
       "    <tr style=\"text-align: right;\">\n",
       "      <th></th>\n",
       "      <th>user_id</th>\n",
       "      <th>distance</th>\n",
       "      <th>duration</th>\n",
       "      <th>date</th>\n",
       "      <th>month</th>\n",
       "    </tr>\n",
       "  </thead>\n",
       "  <tbody>\n",
       "    <tr>\n",
       "      <th>0</th>\n",
       "      <td>1</td>\n",
       "      <td>4409.919140</td>\n",
       "      <td>25.599769</td>\n",
       "      <td>2021-01-01</td>\n",
       "      <td>1</td>\n",
       "    </tr>\n",
       "    <tr>\n",
       "      <th>1</th>\n",
       "      <td>1</td>\n",
       "      <td>2617.592153</td>\n",
       "      <td>15.816871</td>\n",
       "      <td>2021-01-18</td>\n",
       "      <td>1</td>\n",
       "    </tr>\n",
       "    <tr>\n",
       "      <th>2</th>\n",
       "      <td>1</td>\n",
       "      <td>754.159807</td>\n",
       "      <td>6.232113</td>\n",
       "      <td>2021-04-20</td>\n",
       "      <td>4</td>\n",
       "    </tr>\n",
       "    <tr>\n",
       "      <th>3</th>\n",
       "      <td>1</td>\n",
       "      <td>2694.783254</td>\n",
       "      <td>18.511000</td>\n",
       "      <td>2021-08-11</td>\n",
       "      <td>8</td>\n",
       "    </tr>\n",
       "    <tr>\n",
       "      <th>4</th>\n",
       "      <td>1</td>\n",
       "      <td>4028.687306</td>\n",
       "      <td>26.265803</td>\n",
       "      <td>2021-08-28</td>\n",
       "      <td>8</td>\n",
       "    </tr>\n",
       "  </tbody>\n",
       "</table>\n",
       "</div>"
      ],
      "text/plain": [
       "   user_id     distance   duration       date  month\n",
       "0        1  4409.919140  25.599769 2021-01-01      1\n",
       "1        1  2617.592153  15.816871 2021-01-18      1\n",
       "2        1   754.159807   6.232113 2021-04-20      4\n",
       "3        1  2694.783254  18.511000 2021-08-11      8\n",
       "4        1  4028.687306  26.265803 2021-08-28      8"
      ]
     },
     "execution_count": 13,
     "metadata": {},
     "output_type": "execute_result"
    }
   ],
   "source": [
    "ride['month'] = ride['date'].dt.month\n",
    "ride.head()"
   ]
  },
  {
   "cell_type": "code",
   "execution_count": 14,
   "id": "386916de",
   "metadata": {
    "scrolled": false
   },
   "outputs": [
    {
     "data": {
      "text/plain": [
       "array([2021])"
      ]
     },
     "execution_count": 14,
     "metadata": {},
     "output_type": "execute_result"
    }
   ],
   "source": [
    "#check year\n",
    "ride['date'].dt.year.unique()"
   ]
  },
  {
   "cell_type": "markdown",
   "id": "f84ba8bb",
   "metadata": {},
   "source": [
    "Данные у нас только за 21 год, так что всё окей"
   ]
  },
  {
   "cell_type": "markdown",
   "id": "21029a6a",
   "metadata": {},
   "source": [
    "<div class=\"alert alert-danger\">\n",
    "❌<b>Комментарий с замечанием ревьюера:</b>\n",
    "\n",
    "Согласно ТЗ необходимо создать новый столбец с номером месяца на основе столбца date.\n"
   ]
  },
  {
   "cell_type": "markdown",
   "id": "de3fe67f",
   "metadata": {},
   "source": [
    "<div class=\"alert alert-success\">\n",
    "✔️ <b>Комментарий с комплиментом ревьюера в2:</b> \n",
    "\n",
    "Отлично"
   ]
  },
  {
   "cell_type": "markdown",
   "id": "40ca5461",
   "metadata": {},
   "source": [
    "<div class=\"alert alert-success\">\n",
    "✔️ <b>Комментарий с комплиментом ревьюера:</b> \n",
    "\n",
    "Проделана хорошая работа по подготовке данных к анализу. \n",
    "    \n",
    "Классно, что изучены данные на наличие пропусков, проверены на дубликаты и изменены типы данных. 👍\n",
    "    \n",
    "Советую перед удалением данных всегда анализировать их долю, чтоы понимать от какого количества значений ты избавляешься.\n"
   ]
  },
  {
   "cell_type": "markdown",
   "id": "776b8386",
   "metadata": {},
   "source": [
    "<div class=\"alert alert-warning\">\n",
    "⚠️  <b>Комментарий с советом ревьюера:</b>\n",
    "\n",
    "\n",
    "При агрегации данных по месяцам в том случае, если мы имеем данные за несколько лет, то они склеятся, поэтому на этом этапе важно проанализировать за какой период у нас данные.\n",
    "</div>\n"
   ]
  },
  {
   "cell_type": "markdown",
   "id": "46f510c7",
   "metadata": {},
   "source": [
    "<div class=\"alert alert-warning\">\n",
    "⚠️  <b>Комментарий с советом ревьюера:</b>\n",
    "\n",
    "\n",
    "Для того, чтобы твой проект стал еще лучше, можно сделать округление данных в столбце 'distance'\n",
    "\n",
    "</div>\n"
   ]
  },
  {
   "cell_type": "markdown",
   "id": "212593c7",
   "metadata": {},
   "source": [
    "#### Шаг 3. Исследовательский анализ данных"
   ]
  },
  {
   "cell_type": "markdown",
   "id": "7f349e99",
   "metadata": {},
   "source": [
    "#### 3.1"
   ]
  },
  {
   "cell_type": "code",
   "execution_count": 15,
   "id": "e3a4274c",
   "metadata": {},
   "outputs": [],
   "source": [
    "#user.groupby('city')['city'].count().plot(kind='pie', figsize=(10, 10), subplots=False, legend=True)\n",
    "#plt.show()"
   ]
  },
  {
   "cell_type": "markdown",
   "id": "7d5e52cc",
   "metadata": {},
   "source": [
    "На удивление в Москве меньше всего пользователей, а наибольшее число в Пятигорске. Возможно, такой перепад в показателях связан с высоким уровнем конкуренции на рынке аренды электросамокатов в Москве, поскольку в Мск самый высокий спрос на электросамокаты в этом перечне городов, да и в принципе по России. Из этого следует, что привлечь новых клиентов ввиду существования в Москве других, возможно, более крупных сервисов для аренды самокатов крайне трудно.   "
   ]
  },
  {
   "cell_type": "markdown",
   "id": "35992394",
   "metadata": {},
   "source": [
    "<div class=\"alert alert-danger\">\n",
    "❌<b>Комментарий с замечанием ревьюера:</b> \n",
    "\n",
    "Оформление графиков - очень важный скилл для аналитика, поэтому предлагаю поработать над этим.\n",
    "    \n",
    "У графика должно быть название, которое будет точно описывать суть графика. \n",
    "    \n",
    "У графика должны быть подписаны оси на том языке, на котором сделан весь проект\n",
    "    \n",
    "Легенда должна нести смысловую нагрузку, просто так не следует ее размещать.\n",
    "    \n",
    "Удобно читаемая ориентация отметок значений на осях (к примеру даты можно расположить под углом 30-45 градусов)\n",
    "    \n",
    "В данном случае достаточно только графика bar chart, pie chart, который ты нарисовал выше - не подходящая визуализация для этих данных, во первых слишком много значений (лучше его применять для не более 4-5 значений), во вторых без подписи значений очень сложно различить доли между собой.\n",
    "    \n",
    "Также советую сделать сортировку по убыванию для bar chart.\n",
    "</div>\n"
   ]
  },
  {
   "cell_type": "code",
   "execution_count": 16,
   "id": "b775dd57",
   "metadata": {
    "scrolled": false
   },
   "outputs": [
    {
     "data": {
      "text/plain": [
       "Text(0.5, 1.0, 'Количество пользоввателей по городам')"
      ]
     },
     "execution_count": 16,
     "metadata": {},
     "output_type": "execute_result"
    },
    {
     "data": {
      "image/png": "[encoded data removed]",
      "text/plain": [
       "<Figure size 720x576 with 1 Axes>"
      ]
     },
     "metadata": {
      "needs_background": "light"
     },
     "output_type": "display_data"
    }
   ],
   "source": [
    "user.groupby('city')['city'].count().sort_values(ascending=True).plot(kind\n",
    "                                        ='barh', figsize=(10, 8), subplots\n",
    "                                        =False, legend\n",
    "                                        =False, xlabel\n",
    "                                        ='Города', rot\n",
    "                                        =10).set_title('Количество пользоввателей по городам', fontsize=14, color='Black')"
   ]
  },
  {
   "cell_type": "markdown",
   "id": "180bc142",
   "metadata": {},
   "source": [
    "Порылся в matplotlib, не нашел там вывод значений на столбцы, нарыл только про величину ошибки. У нас же углубленный matplotlib cо следующего модуля? Накидай материалов, буду благодарен"
   ]
  },
  {
   "cell_type": "markdown",
   "id": "077b86ab",
   "metadata": {},
   "source": [
    "<div class=\"alert alert-danger\">\n",
    "❌ <b>Комментарий с замечанием ревьюера:</b> \n",
    "\n",
    "Выведи, пожалуйста, на график числовые значения частотности городов.\n",
    "</div>\n"
   ]
  },
  {
   "cell_type": "markdown",
   "id": "14ec12ac",
   "metadata": {},
   "source": [
    "<div class=\"alert alert-success\">\n",
    "✔️ <b>Комментарий с комплиментом ревьюера в2:</b> \n",
    "\n",
    "Отлично, да, конечно, ссылки ниже, но также хочу отметить, что можно просто в виде таблице вывести значения, важно перед собой иметь эти данные.\n",
    "\n",
    "https://matplotlib.org/stable/api/_as_gen/matplotlib.pyplot.bar_label.html    \n",
    "    \n",
    "https://matplotlib.org/stable/gallery/lines_bars_and_markers/bar_label_demo.html"
   ]
  },
  {
   "cell_type": "markdown",
   "id": "a88db26a",
   "metadata": {},
   "source": [
    "#### 3.2"
   ]
  },
  {
   "cell_type": "markdown",
   "id": "ad6a5219",
   "metadata": {},
   "source": [
    "Как видно из этих столбиков пользователей без подписки больше, чем с подпиской, но не на много"
   ]
  },
  {
   "cell_type": "code",
   "execution_count": 17,
   "id": "d4149fbb",
   "metadata": {},
   "outputs": [
    {
     "data": {
      "text/plain": [
       "([<matplotlib.patches.Wedge at 0x7f4f0f48d040>,\n",
       "  <matplotlib.patches.Wedge at 0x7f4f0f420190>],\n",
       " [Text(-0.152693865829377, 1.0893505328121342, ''),\n",
       "  Text(0.15269396782173408, -1.0893505185158978, '')],\n",
       " [Text(-0.08328756317966017, 0.5941911997157094, '54.4%'),\n",
       "  Text(0.08328761881185494, -0.5941911919177624, '45.6%')])"
      ]
     },
     "execution_count": 17,
     "metadata": {},
     "output_type": "execute_result"
    },
    {
     "data": {
      "image/png": "[encoded data removed]",
      "text/plain": [
       "<Figure size 1440x720 with 1 Axes>"
      ]
     },
     "metadata": {},
     "output_type": "display_data"
    }
   ],
   "source": [
    "fig, ax = plt.subplots()\n",
    "x = user.groupby('subscription_type')['subscription_type'].count()\n",
    "x.plot(kind='pie', figsize\n",
    "                    =(20, 10), legend=False, ylabel\n",
    "                    ='Типы пользователей', labels\n",
    "                    =['Без подписки', 'С подпиской']).set_title('Соотношение пользователей по наличию подписки',fontsize\n",
    "                    =14, color='Black')\n",
    "user['subscription_type'].loc[user['subscription_type'] == 'free'].count() / user['subscription_type'].count()\n",
    "ax.pie(x, autopct='%.1f%%')\n"
   ]
  },
  {
   "cell_type": "markdown",
   "id": "1860b2fb",
   "metadata": {},
   "source": [
    "<div class=\"alert alert-danger\">\n",
    "❌<b>Комментарий с замечанием ревьюера:</b> \n",
    "\n",
    "Добавь, пожалуйста, заголовки и подписи осей для всех графиков в проекте.\n",
    "    \n",
    "    \n",
    "В этом пункте как раз практичеснее построить график pie chart.\n",
    "</div>\n"
   ]
  },
  {
   "cell_type": "markdown",
   "id": "dab25fef",
   "metadata": {},
   "source": [
    "<div class=\"alert alert-danger\">\n",
    "❌<b>Комментарий с замечанием ревьюера в2:</b> \n",
    "\n",
    "Добавь, пожалуйста, либо отдельно расчет доли для каждого типа пользователя относительно общего числа пользователей, так как в ТЗ под соотношением подразумевается вычислить долю для каждой группы, либо, что лучше вывести эти значения на график, ссылки ниже помогут тебе.\n",
    "    \n",
    "https://www.pythoncharts.com/matplotlib/pie-chart-matplotlib/\n",
    "    \n",
    "https://matplotlib.org/stable/gallery/pie_and_polar_charts/pie_and_donut_labels.html"
   ]
  },
  {
   "cell_type": "markdown",
   "id": "d28a629c",
   "metadata": {},
   "source": [
    "<div class=\"alert alert-success\">\n",
    "✔️ <b>Комментарий с комплиментом ревьюера в3:</b> \n",
    "\n",
    "Отлично"
   ]
  },
  {
   "cell_type": "markdown",
   "id": "fb523e98",
   "metadata": {},
   "source": [
    "#### 3.3"
   ]
  },
  {
   "cell_type": "markdown",
   "id": "bd2edc3d",
   "metadata": {},
   "source": [
    "Ого гистограмма возрастов пользователей выглядит как нормальное распределение, с центральным значением в 25 лет. Всё выглядит логично, старшему поколению привычно перемещатся с помощью более консервативных средств передвижения, а целевая аудитория у самокатов судя по возрастам это меллиниалы от 20, до 30. Хоть такие выводы пока рановато делать. Выброс с пользователями за 40 убрал. Действий с людьми младше 15 лет пока не предпринимал, их не много, но и выбросом этот интервал назвать сложно. Стоит понаблюдать за тем с какая плотность вероятности у этого участка."
   ]
  },
  {
   "cell_type": "markdown",
   "id": "66838a33",
   "metadata": {},
   "source": [
    "<div class=\"alert alert-success\">\n",
    "✔️ <b>Комментарий с комплиментом ревьюера:</b>\n",
    "\n",
    "Здорово, добавлен корректный вывод.\n",
    "    \n",
    "\n",
    "</div>\n"
   ]
  },
  {
   "cell_type": "code",
   "execution_count": 18,
   "id": "20518959",
   "metadata": {
    "scrolled": false
   },
   "outputs": [
    {
     "data": {
      "text/plain": [
       "[Text(0.5, 0, 'Возраст пользователей')]"
      ]
     },
     "execution_count": 18,
     "metadata": {},
     "output_type": "execute_result"
    },
    {
     "data": {
      "image/png": "[encoded data removed]",
      "text/plain": [
       "<Figure size 720x432 with 1 Axes>"
      ]
     },
     "metadata": {
      "needs_background": "light"
     },
     "output_type": "display_data"
    }
   ],
   "source": [
    "#user['age'].plot(kind='hist', grid=True, figsize=(12, 8), bins=30)\n",
    "user = user.query('age <= 40')\n",
    "user['age'].plot(kind='hist', grid=True, figsize=(10, 6), bins\n",
    "                 =28).set_title('Пользователи по возрасту', color='Black', fontsize=14)\n",
    "plt.gca().set(xlabel='Возраст пользователей')"
   ]
  },
  {
   "cell_type": "markdown",
   "id": "94c670fa",
   "metadata": {},
   "source": [
    "#### 3.4"
   ]
  },
  {
   "cell_type": "code",
   "execution_count": 19,
   "id": "119a95b1",
   "metadata": {},
   "outputs": [
    {
     "data": {
      "text/plain": [
       "[Text(0.5, 0, 'Расстояние в метрах')]"
      ]
     },
     "execution_count": 19,
     "metadata": {},
     "output_type": "execute_result"
    },
    {
     "data": {
      "image/png": "[encoded data removed]",
      "text/plain": [
       "<Figure size 720x432 with 1 Axes>"
      ]
     },
     "metadata": {
      "needs_background": "light"
     },
     "output_type": "display_data"
    }
   ],
   "source": [
    "ride['distance'].plot(kind='hist', grid=True, bins=30, figsize\n",
    "                      =(10, 6), ).set_title('Пройденное польвателями расстояние', color\n",
    "                      ='Black', fontsize=14)\n",
    "plt.gca().set(xlabel='Расстояние в метрах')"
   ]
  },
  {
   "cell_type": "markdown",
   "id": "ef627669",
   "metadata": {},
   "source": [
    "Как мы видим на гистограмме расстояния, которое проезжают пользователи, большинство значений находится в диапазоне от 2000 метров, до 4500 метров, что выглядит правдиво, чаще всего судя по всему проходят расстояние в районе 3000 метров. Единственное, что бросается в глаза это относсительно большое число поездок с пройденым расстоянием до 1000 метров. Арендовать самокат, чтобы проехать 500 метров, выглядит как минимум странно, стоит разобраться с этим в следующем блоке."
   ]
  },
  {
   "cell_type": "markdown",
   "id": "74c8b78e",
   "metadata": {},
   "source": [
    "<div class=\"alert alert-danger\">\n",
    "❌<b>Комментарий с замечанием ревьюера:</b> \n",
    "\n",
    "Добавь, пожалуйста, вывод для графика.\n",
    "</div>\n"
   ]
  },
  {
   "cell_type": "markdown",
   "id": "1c397b42",
   "metadata": {},
   "source": [
    "<div class=\"alert alert-danger\">\n",
    "❌<b>Комментарий с замечанием ревьюера:</b> \n",
    "\n",
    "Добавь, пожалуйста, промежуточный вывод.\n",
    "</div>"
   ]
  },
  {
   "cell_type": "markdown",
   "id": "4ef51331",
   "metadata": {},
   "source": [
    "#### Шаг 4. Объединение данных"
   ]
  },
  {
   "cell_type": "markdown",
   "id": "3bf9d1c3",
   "metadata": {},
   "source": [
    "#### 4.1"
   ]
  },
  {
   "cell_type": "code",
   "execution_count": 20,
   "id": "6bf288b5",
   "metadata": {},
   "outputs": [
    {
     "data": {
      "text/html": [
       "<div>\n",
       "<style scoped>\n",
       "    .dataframe tbody tr th:only-of-type {\n",
       "        vertical-align: middle;\n",
       "    }\n",
       "\n",
       "    .dataframe tbody tr th {\n",
       "        vertical-align: top;\n",
       "    }\n",
       "\n",
       "    .dataframe thead th {\n",
       "        text-align: right;\n",
       "    }\n",
       "</style>\n",
       "<table border=\"1\" class=\"dataframe\">\n",
       "  <thead>\n",
       "    <tr style=\"text-align: right;\">\n",
       "      <th></th>\n",
       "      <th>user_id</th>\n",
       "      <th>name</th>\n",
       "      <th>age</th>\n",
       "      <th>city</th>\n",
       "      <th>subscription_type</th>\n",
       "      <th>distance</th>\n",
       "      <th>duration</th>\n",
       "      <th>date</th>\n",
       "      <th>month</th>\n",
       "    </tr>\n",
       "  </thead>\n",
       "  <tbody>\n",
       "    <tr>\n",
       "      <th>0</th>\n",
       "      <td>1</td>\n",
       "      <td>Кира</td>\n",
       "      <td>22</td>\n",
       "      <td>Тюмень</td>\n",
       "      <td>ultra</td>\n",
       "      <td>4409.919140</td>\n",
       "      <td>25.599769</td>\n",
       "      <td>2021-01-01</td>\n",
       "      <td>1</td>\n",
       "    </tr>\n",
       "    <tr>\n",
       "      <th>1</th>\n",
       "      <td>1</td>\n",
       "      <td>Кира</td>\n",
       "      <td>22</td>\n",
       "      <td>Тюмень</td>\n",
       "      <td>ultra</td>\n",
       "      <td>2617.592153</td>\n",
       "      <td>15.816871</td>\n",
       "      <td>2021-01-18</td>\n",
       "      <td>1</td>\n",
       "    </tr>\n",
       "    <tr>\n",
       "      <th>2</th>\n",
       "      <td>1</td>\n",
       "      <td>Кира</td>\n",
       "      <td>22</td>\n",
       "      <td>Тюмень</td>\n",
       "      <td>ultra</td>\n",
       "      <td>754.159807</td>\n",
       "      <td>6.232113</td>\n",
       "      <td>2021-04-20</td>\n",
       "      <td>4</td>\n",
       "    </tr>\n",
       "    <tr>\n",
       "      <th>3</th>\n",
       "      <td>1</td>\n",
       "      <td>Кира</td>\n",
       "      <td>22</td>\n",
       "      <td>Тюмень</td>\n",
       "      <td>ultra</td>\n",
       "      <td>2694.783254</td>\n",
       "      <td>18.511000</td>\n",
       "      <td>2021-08-11</td>\n",
       "      <td>8</td>\n",
       "    </tr>\n",
       "    <tr>\n",
       "      <th>4</th>\n",
       "      <td>1</td>\n",
       "      <td>Кира</td>\n",
       "      <td>22</td>\n",
       "      <td>Тюмень</td>\n",
       "      <td>ultra</td>\n",
       "      <td>4028.687306</td>\n",
       "      <td>26.265803</td>\n",
       "      <td>2021-08-28</td>\n",
       "      <td>8</td>\n",
       "    </tr>\n",
       "    <tr>\n",
       "      <th>5</th>\n",
       "      <td>1</td>\n",
       "      <td>Кира</td>\n",
       "      <td>22</td>\n",
       "      <td>Тюмень</td>\n",
       "      <td>ultra</td>\n",
       "      <td>2770.890808</td>\n",
       "      <td>16.650138</td>\n",
       "      <td>2021-10-09</td>\n",
       "      <td>10</td>\n",
       "    </tr>\n",
       "    <tr>\n",
       "      <th>6</th>\n",
       "      <td>1</td>\n",
       "      <td>Кира</td>\n",
       "      <td>22</td>\n",
       "      <td>Тюмень</td>\n",
       "      <td>ultra</td>\n",
       "      <td>3039.020292</td>\n",
       "      <td>14.927879</td>\n",
       "      <td>2021-10-19</td>\n",
       "      <td>10</td>\n",
       "    </tr>\n",
       "    <tr>\n",
       "      <th>7</th>\n",
       "      <td>1</td>\n",
       "      <td>Кира</td>\n",
       "      <td>22</td>\n",
       "      <td>Тюмень</td>\n",
       "      <td>ultra</td>\n",
       "      <td>2842.118050</td>\n",
       "      <td>23.117468</td>\n",
       "      <td>2021-11-06</td>\n",
       "      <td>11</td>\n",
       "    </tr>\n",
       "    <tr>\n",
       "      <th>8</th>\n",
       "      <td>1</td>\n",
       "      <td>Кира</td>\n",
       "      <td>22</td>\n",
       "      <td>Тюмень</td>\n",
       "      <td>ultra</td>\n",
       "      <td>3412.690668</td>\n",
       "      <td>15.238072</td>\n",
       "      <td>2021-11-14</td>\n",
       "      <td>11</td>\n",
       "    </tr>\n",
       "    <tr>\n",
       "      <th>9</th>\n",
       "      <td>1</td>\n",
       "      <td>Кира</td>\n",
       "      <td>22</td>\n",
       "      <td>Тюмень</td>\n",
       "      <td>ultra</td>\n",
       "      <td>748.690645</td>\n",
       "      <td>15.041884</td>\n",
       "      <td>2021-11-22</td>\n",
       "      <td>11</td>\n",
       "    </tr>\n",
       "  </tbody>\n",
       "</table>\n",
       "</div>"
      ],
      "text/plain": [
       "   user_id  name  age    city subscription_type     distance   duration  \\\n",
       "0        1  Кира   22  Тюмень             ultra  4409.919140  25.599769   \n",
       "1        1  Кира   22  Тюмень             ultra  2617.592153  15.816871   \n",
       "2        1  Кира   22  Тюмень             ultra   754.159807   6.232113   \n",
       "3        1  Кира   22  Тюмень             ultra  2694.783254  18.511000   \n",
       "4        1  Кира   22  Тюмень             ultra  4028.687306  26.265803   \n",
       "5        1  Кира   22  Тюмень             ultra  2770.890808  16.650138   \n",
       "6        1  Кира   22  Тюмень             ultra  3039.020292  14.927879   \n",
       "7        1  Кира   22  Тюмень             ultra  2842.118050  23.117468   \n",
       "8        1  Кира   22  Тюмень             ultra  3412.690668  15.238072   \n",
       "9        1  Кира   22  Тюмень             ultra   748.690645  15.041884   \n",
       "\n",
       "        date  month  \n",
       "0 2021-01-01      1  \n",
       "1 2021-01-18      1  \n",
       "2 2021-04-20      4  \n",
       "3 2021-08-11      8  \n",
       "4 2021-08-28      8  \n",
       "5 2021-10-09     10  \n",
       "6 2021-10-19     10  \n",
       "7 2021-11-06     11  \n",
       "8 2021-11-14     11  \n",
       "9 2021-11-22     11  "
      ]
     },
     "execution_count": 20,
     "metadata": {},
     "output_type": "execute_result"
    }
   ],
   "source": [
    "stage_data = user.merge(ride, on='user_id', how='left')\n",
    "stage_data.head(10)"
   ]
  },
  {
   "cell_type": "code",
   "execution_count": null,
   "id": "ae11a7c8",
   "metadata": {},
   "outputs": [],
   "source": []
  },
  {
   "cell_type": "code",
   "execution_count": 21,
   "id": "722549c2",
   "metadata": {},
   "outputs": [
    {
     "data": {
      "text/html": [
       "<div>\n",
       "<style scoped>\n",
       "    .dataframe tbody tr th:only-of-type {\n",
       "        vertical-align: middle;\n",
       "    }\n",
       "\n",
       "    .dataframe tbody tr th {\n",
       "        vertical-align: top;\n",
       "    }\n",
       "\n",
       "    .dataframe thead th {\n",
       "        text-align: right;\n",
       "    }\n",
       "</style>\n",
       "<table border=\"1\" class=\"dataframe\">\n",
       "  <thead>\n",
       "    <tr style=\"text-align: right;\">\n",
       "      <th></th>\n",
       "      <th>user_id</th>\n",
       "      <th>name</th>\n",
       "      <th>age</th>\n",
       "      <th>city</th>\n",
       "      <th>subscription_type</th>\n",
       "      <th>distance</th>\n",
       "      <th>duration</th>\n",
       "      <th>date</th>\n",
       "      <th>month</th>\n",
       "      <th>minute_price</th>\n",
       "      <th>start_ride_price</th>\n",
       "      <th>subscription_fee</th>\n",
       "    </tr>\n",
       "  </thead>\n",
       "  <tbody>\n",
       "    <tr>\n",
       "      <th>0</th>\n",
       "      <td>1</td>\n",
       "      <td>Кира</td>\n",
       "      <td>22</td>\n",
       "      <td>Тюмень</td>\n",
       "      <td>ultra</td>\n",
       "      <td>4409.919140</td>\n",
       "      <td>25.599769</td>\n",
       "      <td>2021-01-01</td>\n",
       "      <td>1</td>\n",
       "      <td>6</td>\n",
       "      <td>0</td>\n",
       "      <td>199</td>\n",
       "    </tr>\n",
       "    <tr>\n",
       "      <th>1</th>\n",
       "      <td>1</td>\n",
       "      <td>Кира</td>\n",
       "      <td>22</td>\n",
       "      <td>Тюмень</td>\n",
       "      <td>ultra</td>\n",
       "      <td>2617.592153</td>\n",
       "      <td>15.816871</td>\n",
       "      <td>2021-01-18</td>\n",
       "      <td>1</td>\n",
       "      <td>6</td>\n",
       "      <td>0</td>\n",
       "      <td>199</td>\n",
       "    </tr>\n",
       "    <tr>\n",
       "      <th>2</th>\n",
       "      <td>1</td>\n",
       "      <td>Кира</td>\n",
       "      <td>22</td>\n",
       "      <td>Тюмень</td>\n",
       "      <td>ultra</td>\n",
       "      <td>754.159807</td>\n",
       "      <td>6.232113</td>\n",
       "      <td>2021-04-20</td>\n",
       "      <td>4</td>\n",
       "      <td>6</td>\n",
       "      <td>0</td>\n",
       "      <td>199</td>\n",
       "    </tr>\n",
       "    <tr>\n",
       "      <th>3</th>\n",
       "      <td>1</td>\n",
       "      <td>Кира</td>\n",
       "      <td>22</td>\n",
       "      <td>Тюмень</td>\n",
       "      <td>ultra</td>\n",
       "      <td>2694.783254</td>\n",
       "      <td>18.511000</td>\n",
       "      <td>2021-08-11</td>\n",
       "      <td>8</td>\n",
       "      <td>6</td>\n",
       "      <td>0</td>\n",
       "      <td>199</td>\n",
       "    </tr>\n",
       "    <tr>\n",
       "      <th>4</th>\n",
       "      <td>1</td>\n",
       "      <td>Кира</td>\n",
       "      <td>22</td>\n",
       "      <td>Тюмень</td>\n",
       "      <td>ultra</td>\n",
       "      <td>4028.687306</td>\n",
       "      <td>26.265803</td>\n",
       "      <td>2021-08-28</td>\n",
       "      <td>8</td>\n",
       "      <td>6</td>\n",
       "      <td>0</td>\n",
       "      <td>199</td>\n",
       "    </tr>\n",
       "    <tr>\n",
       "      <th>5</th>\n",
       "      <td>1</td>\n",
       "      <td>Кира</td>\n",
       "      <td>22</td>\n",
       "      <td>Тюмень</td>\n",
       "      <td>ultra</td>\n",
       "      <td>2770.890808</td>\n",
       "      <td>16.650138</td>\n",
       "      <td>2021-10-09</td>\n",
       "      <td>10</td>\n",
       "      <td>6</td>\n",
       "      <td>0</td>\n",
       "      <td>199</td>\n",
       "    </tr>\n",
       "    <tr>\n",
       "      <th>6</th>\n",
       "      <td>1</td>\n",
       "      <td>Кира</td>\n",
       "      <td>22</td>\n",
       "      <td>Тюмень</td>\n",
       "      <td>ultra</td>\n",
       "      <td>3039.020292</td>\n",
       "      <td>14.927879</td>\n",
       "      <td>2021-10-19</td>\n",
       "      <td>10</td>\n",
       "      <td>6</td>\n",
       "      <td>0</td>\n",
       "      <td>199</td>\n",
       "    </tr>\n",
       "    <tr>\n",
       "      <th>7</th>\n",
       "      <td>1</td>\n",
       "      <td>Кира</td>\n",
       "      <td>22</td>\n",
       "      <td>Тюмень</td>\n",
       "      <td>ultra</td>\n",
       "      <td>2842.118050</td>\n",
       "      <td>23.117468</td>\n",
       "      <td>2021-11-06</td>\n",
       "      <td>11</td>\n",
       "      <td>6</td>\n",
       "      <td>0</td>\n",
       "      <td>199</td>\n",
       "    </tr>\n",
       "    <tr>\n",
       "      <th>8</th>\n",
       "      <td>1</td>\n",
       "      <td>Кира</td>\n",
       "      <td>22</td>\n",
       "      <td>Тюмень</td>\n",
       "      <td>ultra</td>\n",
       "      <td>3412.690668</td>\n",
       "      <td>15.238072</td>\n",
       "      <td>2021-11-14</td>\n",
       "      <td>11</td>\n",
       "      <td>6</td>\n",
       "      <td>0</td>\n",
       "      <td>199</td>\n",
       "    </tr>\n",
       "    <tr>\n",
       "      <th>9</th>\n",
       "      <td>1</td>\n",
       "      <td>Кира</td>\n",
       "      <td>22</td>\n",
       "      <td>Тюмень</td>\n",
       "      <td>ultra</td>\n",
       "      <td>748.690645</td>\n",
       "      <td>15.041884</td>\n",
       "      <td>2021-11-22</td>\n",
       "      <td>11</td>\n",
       "      <td>6</td>\n",
       "      <td>0</td>\n",
       "      <td>199</td>\n",
       "    </tr>\n",
       "  </tbody>\n",
       "</table>\n",
       "</div>"
      ],
      "text/plain": [
       "   user_id  name  age    city subscription_type     distance   duration  \\\n",
       "0        1  Кира   22  Тюмень             ultra  4409.919140  25.599769   \n",
       "1        1  Кира   22  Тюмень             ultra  2617.592153  15.816871   \n",
       "2        1  Кира   22  Тюмень             ultra   754.159807   6.232113   \n",
       "3        1  Кира   22  Тюмень             ultra  2694.783254  18.511000   \n",
       "4        1  Кира   22  Тюмень             ultra  4028.687306  26.265803   \n",
       "5        1  Кира   22  Тюмень             ultra  2770.890808  16.650138   \n",
       "6        1  Кира   22  Тюмень             ultra  3039.020292  14.927879   \n",
       "7        1  Кира   22  Тюмень             ultra  2842.118050  23.117468   \n",
       "8        1  Кира   22  Тюмень             ultra  3412.690668  15.238072   \n",
       "9        1  Кира   22  Тюмень             ultra   748.690645  15.041884   \n",
       "\n",
       "        date  month  minute_price  start_ride_price  subscription_fee  \n",
       "0 2021-01-01      1             6                 0               199  \n",
       "1 2021-01-18      1             6                 0               199  \n",
       "2 2021-04-20      4             6                 0               199  \n",
       "3 2021-08-11      8             6                 0               199  \n",
       "4 2021-08-28      8             6                 0               199  \n",
       "5 2021-10-09     10             6                 0               199  \n",
       "6 2021-10-19     10             6                 0               199  \n",
       "7 2021-11-06     11             6                 0               199  \n",
       "8 2021-11-14     11             6                 0               199  \n",
       "9 2021-11-22     11             6                 0               199  "
      ]
     },
     "execution_count": 21,
     "metadata": {},
     "output_type": "execute_result"
    }
   ],
   "source": [
    "full_data = stage_data.merge(subscription, on='subscription_type', how='left')\n",
    "full_data.head(10)"
   ]
  },
  {
   "cell_type": "code",
   "execution_count": 22,
   "id": "8a11c55c",
   "metadata": {},
   "outputs": [
    {
     "name": "stdout",
     "output_type": "stream",
     "text": [
      "<class 'pandas.core.frame.DataFrame'>\n",
      "Int64Index: 18052 entries, 0 to 18051\n",
      "Data columns (total 12 columns):\n",
      " #   Column             Non-Null Count  Dtype         \n",
      "---  ------             --------------  -----         \n",
      " 0   user_id            18052 non-null  int64         \n",
      " 1   name               18052 non-null  object        \n",
      " 2   age                18052 non-null  int64         \n",
      " 3   city               18052 non-null  object        \n",
      " 4   subscription_type  18052 non-null  object        \n",
      " 5   distance           18052 non-null  float64       \n",
      " 6   duration           18052 non-null  float64       \n",
      " 7   date               18052 non-null  datetime64[ns]\n",
      " 8   month              18052 non-null  int64         \n",
      " 9   minute_price       18052 non-null  int64         \n",
      " 10  start_ride_price   18052 non-null  int64         \n",
      " 11  subscription_fee   18052 non-null  int64         \n",
      "dtypes: datetime64[ns](1), float64(2), int64(6), object(3)\n",
      "memory usage: 1.8+ MB\n"
     ]
    }
   ],
   "source": [
    "# check\n",
    "full_data.info()"
   ]
  },
  {
   "cell_type": "markdown",
   "id": "215fe1b9",
   "metadata": {},
   "source": [
    "#### 4.2"
   ]
  },
  {
   "cell_type": "code",
   "execution_count": 23,
   "id": "182787a7",
   "metadata": {},
   "outputs": [
    {
     "name": "stdout",
     "output_type": "stream",
     "text": [
      "<class 'pandas.core.frame.DataFrame'>\n",
      "Int64Index: 6500 entries, 0 to 6499\n",
      "Data columns (total 12 columns):\n",
      " #   Column             Non-Null Count  Dtype         \n",
      "---  ------             --------------  -----         \n",
      " 0   user_id            6500 non-null   int64         \n",
      " 1   name               6500 non-null   object        \n",
      " 2   age                6500 non-null   int64         \n",
      " 3   city               6500 non-null   object        \n",
      " 4   subscription_type  6500 non-null   object        \n",
      " 5   distance           6500 non-null   float64       \n",
      " 6   duration           6500 non-null   float64       \n",
      " 7   date               6500 non-null   datetime64[ns]\n",
      " 8   month              6500 non-null   int64         \n",
      " 9   minute_price       6500 non-null   int64         \n",
      " 10  start_ride_price   6500 non-null   int64         \n",
      " 11  subscription_fee   6500 non-null   int64         \n",
      "dtypes: datetime64[ns](1), float64(2), int64(6), object(3)\n",
      "memory usage: 660.2+ KB\n"
     ]
    }
   ],
   "source": [
    "subscribed = full_data.query('subscription_type == \"ultra\"')\n",
    "subscribed.head()\n",
    "subscribed.info()"
   ]
  },
  {
   "cell_type": "code",
   "execution_count": 24,
   "id": "a171661b",
   "metadata": {},
   "outputs": [
    {
     "name": "stdout",
     "output_type": "stream",
     "text": [
      "<class 'pandas.core.frame.DataFrame'>\n",
      "Int64Index: 11552 entries, 6500 to 18051\n",
      "Data columns (total 12 columns):\n",
      " #   Column             Non-Null Count  Dtype         \n",
      "---  ------             --------------  -----         \n",
      " 0   user_id            11552 non-null  int64         \n",
      " 1   name               11552 non-null  object        \n",
      " 2   age                11552 non-null  int64         \n",
      " 3   city               11552 non-null  object        \n",
      " 4   subscription_type  11552 non-null  object        \n",
      " 5   distance           11552 non-null  float64       \n",
      " 6   duration           11552 non-null  float64       \n",
      " 7   date               11552 non-null  datetime64[ns]\n",
      " 8   month              11552 non-null  int64         \n",
      " 9   minute_price       11552 non-null  int64         \n",
      " 10  start_ride_price   11552 non-null  int64         \n",
      " 11  subscription_fee   11552 non-null  int64         \n",
      "dtypes: datetime64[ns](1), float64(2), int64(6), object(3)\n",
      "memory usage: 1.1+ MB\n"
     ]
    }
   ],
   "source": [
    "non_subscribed = full_data.query('subscription_type == \"free\"')\n",
    "non_subscribed.info()"
   ]
  },
  {
   "cell_type": "markdown",
   "id": "4bd64e58",
   "metadata": {},
   "source": [
    "А вот после проверки выяснилось, что больше всего поездок совершают люди без подписок, причем у них почти в два раза больше поездок, это говорит о многом. Теперь вклад людей без подписок становится наиболее весомым для компании, чем это могло показаться по соотношению пользователей из столбчатой диаграммы, показанной ранее "
   ]
  },
  {
   "cell_type": "markdown",
   "id": "581b7ef7",
   "metadata": {},
   "source": [
    "<div class=\"alert alert-success\">\n",
    "✔️ <b>Комментарий с комплиментом ревьюера:</b>\n",
    "\n",
    "Созданы корректные датафреймы.    \n",
    "    \n"
   ]
  },
  {
   "cell_type": "markdown",
   "id": "072c82bf",
   "metadata": {},
   "source": [
    "#### 4.3"
   ]
  },
  {
   "cell_type": "markdown",
   "id": "865c0e7d",
   "metadata": {},
   "source": [
    "Похоже на нормальное распределение. Та же проблема, что и при первом исследовании, большое кол-во поездок с дистанцией от 500 и до 1200 метров. Эти поездки довольно обычные, однако слабо верится, что к примеру 900 метров, пользователь проехал за 17 минут. Возможно, учитывается время всего пользования самокатом, а не только время самой поездки, т.к поездка могла быть приостановлена, но не закончена, а сам пользователь ушел по делам, выпил чашку кофе и т.д."
   ]
  },
  {
   "cell_type": "code",
   "execution_count": 25,
   "id": "bfb7004c",
   "metadata": {
    "scrolled": false
   },
   "outputs": [
    {
     "data": {
      "text/html": [
       "<div>\n",
       "<style scoped>\n",
       "    .dataframe tbody tr th:only-of-type {\n",
       "        vertical-align: middle;\n",
       "    }\n",
       "\n",
       "    .dataframe tbody tr th {\n",
       "        vertical-align: top;\n",
       "    }\n",
       "\n",
       "    .dataframe thead th {\n",
       "        text-align: right;\n",
       "    }\n",
       "</style>\n",
       "<table border=\"1\" class=\"dataframe\">\n",
       "  <thead>\n",
       "    <tr style=\"text-align: right;\">\n",
       "      <th></th>\n",
       "      <th>user_id</th>\n",
       "      <th>name</th>\n",
       "      <th>age</th>\n",
       "      <th>city</th>\n",
       "      <th>subscription_type</th>\n",
       "      <th>distance</th>\n",
       "      <th>duration</th>\n",
       "      <th>date</th>\n",
       "      <th>month</th>\n",
       "      <th>minute_price</th>\n",
       "      <th>start_ride_price</th>\n",
       "      <th>subscription_fee</th>\n",
       "    </tr>\n",
       "  </thead>\n",
       "  <tbody>\n",
       "    <tr>\n",
       "      <th>2</th>\n",
       "      <td>1</td>\n",
       "      <td>Кира</td>\n",
       "      <td>22</td>\n",
       "      <td>Тюмень</td>\n",
       "      <td>ultra</td>\n",
       "      <td>754.159807</td>\n",
       "      <td>6.232113</td>\n",
       "      <td>2021-04-20</td>\n",
       "      <td>4</td>\n",
       "      <td>6</td>\n",
       "      <td>0</td>\n",
       "      <td>199</td>\n",
       "    </tr>\n",
       "    <tr>\n",
       "      <th>9</th>\n",
       "      <td>1</td>\n",
       "      <td>Кира</td>\n",
       "      <td>22</td>\n",
       "      <td>Тюмень</td>\n",
       "      <td>ultra</td>\n",
       "      <td>748.690645</td>\n",
       "      <td>15.041884</td>\n",
       "      <td>2021-11-22</td>\n",
       "      <td>11</td>\n",
       "      <td>6</td>\n",
       "      <td>0</td>\n",
       "      <td>199</td>\n",
       "    </tr>\n",
       "    <tr>\n",
       "      <th>20</th>\n",
       "      <td>2</td>\n",
       "      <td>Станислав</td>\n",
       "      <td>31</td>\n",
       "      <td>Омск</td>\n",
       "      <td>ultra</td>\n",
       "      <td>923.007439</td>\n",
       "      <td>6.914760</td>\n",
       "      <td>2021-08-03</td>\n",
       "      <td>8</td>\n",
       "      <td>6</td>\n",
       "      <td>0</td>\n",
       "      <td>199</td>\n",
       "    </tr>\n",
       "    <tr>\n",
       "      <th>47</th>\n",
       "      <td>4</td>\n",
       "      <td>Константин</td>\n",
       "      <td>26</td>\n",
       "      <td>Ростов-на-Дону</td>\n",
       "      <td>ultra</td>\n",
       "      <td>724.559572</td>\n",
       "      <td>11.811399</td>\n",
       "      <td>2021-11-14</td>\n",
       "      <td>11</td>\n",
       "      <td>6</td>\n",
       "      <td>0</td>\n",
       "      <td>199</td>\n",
       "    </tr>\n",
       "    <tr>\n",
       "      <th>91</th>\n",
       "      <td>9</td>\n",
       "      <td>Ян</td>\n",
       "      <td>21</td>\n",
       "      <td>Пятигорск</td>\n",
       "      <td>ultra</td>\n",
       "      <td>979.657684</td>\n",
       "      <td>17.521497</td>\n",
       "      <td>2021-03-08</td>\n",
       "      <td>3</td>\n",
       "      <td>6</td>\n",
       "      <td>0</td>\n",
       "      <td>199</td>\n",
       "    </tr>\n",
       "    <tr>\n",
       "      <th>100</th>\n",
       "      <td>10</td>\n",
       "      <td>Валерий</td>\n",
       "      <td>18</td>\n",
       "      <td>Екатеринбург</td>\n",
       "      <td>ultra</td>\n",
       "      <td>680.952663</td>\n",
       "      <td>5.150377</td>\n",
       "      <td>2021-02-21</td>\n",
       "      <td>2</td>\n",
       "      <td>6</td>\n",
       "      <td>0</td>\n",
       "      <td>199</td>\n",
       "    </tr>\n",
       "    <tr>\n",
       "      <th>132</th>\n",
       "      <td>13</td>\n",
       "      <td>Ева</td>\n",
       "      <td>24</td>\n",
       "      <td>Краснодар</td>\n",
       "      <td>ultra</td>\n",
       "      <td>1158.851148</td>\n",
       "      <td>7.345692</td>\n",
       "      <td>2021-10-26</td>\n",
       "      <td>10</td>\n",
       "      <td>6</td>\n",
       "      <td>0</td>\n",
       "      <td>199</td>\n",
       "    </tr>\n",
       "    <tr>\n",
       "      <th>149</th>\n",
       "      <td>15</td>\n",
       "      <td>Валерия</td>\n",
       "      <td>24</td>\n",
       "      <td>Тюмень</td>\n",
       "      <td>ultra</td>\n",
       "      <td>634.891669</td>\n",
       "      <td>15.809350</td>\n",
       "      <td>2021-04-05</td>\n",
       "      <td>4</td>\n",
       "      <td>6</td>\n",
       "      <td>0</td>\n",
       "      <td>199</td>\n",
       "    </tr>\n",
       "    <tr>\n",
       "      <th>153</th>\n",
       "      <td>15</td>\n",
       "      <td>Валерия</td>\n",
       "      <td>24</td>\n",
       "      <td>Тюмень</td>\n",
       "      <td>ultra</td>\n",
       "      <td>671.851433</td>\n",
       "      <td>12.031109</td>\n",
       "      <td>2021-11-15</td>\n",
       "      <td>11</td>\n",
       "      <td>6</td>\n",
       "      <td>0</td>\n",
       "      <td>199</td>\n",
       "    </tr>\n",
       "    <tr>\n",
       "      <th>154</th>\n",
       "      <td>16</td>\n",
       "      <td>Амалия</td>\n",
       "      <td>27</td>\n",
       "      <td>Краснодар</td>\n",
       "      <td>ultra</td>\n",
       "      <td>850.321732</td>\n",
       "      <td>13.125804</td>\n",
       "      <td>2021-02-18</td>\n",
       "      <td>2</td>\n",
       "      <td>6</td>\n",
       "      <td>0</td>\n",
       "      <td>199</td>\n",
       "    </tr>\n",
       "  </tbody>\n",
       "</table>\n",
       "</div>"
      ],
      "text/plain": [
       "     user_id        name  age            city subscription_type     distance  \\\n",
       "2          1        Кира   22          Тюмень             ultra   754.159807   \n",
       "9          1        Кира   22          Тюмень             ultra   748.690645   \n",
       "20         2   Станислав   31            Омск             ultra   923.007439   \n",
       "47         4  Константин   26  Ростов-на-Дону             ultra   724.559572   \n",
       "91         9          Ян   21       Пятигорск             ultra   979.657684   \n",
       "100       10     Валерий   18    Екатеринбург             ultra   680.952663   \n",
       "132       13         Ева   24       Краснодар             ultra  1158.851148   \n",
       "149       15     Валерия   24          Тюмень             ultra   634.891669   \n",
       "153       15     Валерия   24          Тюмень             ultra   671.851433   \n",
       "154       16      Амалия   27       Краснодар             ultra   850.321732   \n",
       "\n",
       "      duration       date  month  minute_price  start_ride_price  \\\n",
       "2     6.232113 2021-04-20      4             6                 0   \n",
       "9    15.041884 2021-11-22     11             6                 0   \n",
       "20    6.914760 2021-08-03      8             6                 0   \n",
       "47   11.811399 2021-11-14     11             6                 0   \n",
       "91   17.521497 2021-03-08      3             6                 0   \n",
       "100   5.150377 2021-02-21      2             6                 0   \n",
       "132   7.345692 2021-10-26     10             6                 0   \n",
       "149  15.809350 2021-04-05      4             6                 0   \n",
       "153  12.031109 2021-11-15     11             6                 0   \n",
       "154  13.125804 2021-02-18      2             6                 0   \n",
       "\n",
       "     subscription_fee  \n",
       "2                 199  \n",
       "9                 199  \n",
       "20                199  \n",
       "47                199  \n",
       "91                199  \n",
       "100               199  \n",
       "132               199  \n",
       "149               199  \n",
       "153               199  \n",
       "154               199  "
      ]
     },
     "execution_count": 25,
     "metadata": {},
     "output_type": "execute_result"
    },
    {
     "data": {
      "image/png": "[encoded data removed]",
      "text/plain": [
       "<Figure size 648x432 with 1 Axes>"
      ]
     },
     "metadata": {
      "needs_background": "light"
     },
     "output_type": "display_data"
    }
   ],
   "source": [
    "subscribed['distance'].plot(kind='hist', grid=True, bins=30, figsize\n",
    "                            =(9,6), color\n",
    "                            ='darkslategray').set_title('Пройденное расстояние пользователями c подпиской', color\n",
    "                            ='Black', fontsize=14)\n",
    "plt.gca().set(xlabel='Расстояние в метрах')\n",
    "subscribed.query('distance <= 1200').head(10)"
   ]
  },
  {
   "cell_type": "code",
   "execution_count": 26,
   "id": "eccc9fc2",
   "metadata": {},
   "outputs": [
    {
     "data": {
      "text/plain": [
       "[Text(0.5, 0, 'Расстояние в метрах')]"
      ]
     },
     "execution_count": 26,
     "metadata": {},
     "output_type": "execute_result"
    },
    {
     "data": {
      "image/png": "[encoded data removed]",
      "text/plain": [
       "<Figure size 648x432 with 1 Axes>"
      ]
     },
     "metadata": {
      "needs_background": "light"
     },
     "output_type": "display_data"
    }
   ],
   "source": [
    "subscribed['distance'].plot(kind='hist', grid=True, bins\n",
    "                            =20, figsize=(9,6), color='darkslategray', range\n",
    "                            =(400, 1500)).set_title('Пройденное расстояние пользователями c подпиской', color\n",
    "                            ='Black', fontsize=14)\n",
    "plt.gca().set(xlabel='Расстояние в метрах')"
   ]
  },
  {
   "cell_type": "code",
   "execution_count": 27,
   "id": "8aeedbb3",
   "metadata": {},
   "outputs": [
    {
     "data": {
      "text/plain": [
       "[Text(0.5, 0, 'Время поездки в минутах')]"
      ]
     },
     "execution_count": 27,
     "metadata": {},
     "output_type": "execute_result"
    },
    {
     "data": {
      "image/png": "[encoded data removed]",
      "text/plain": [
       "<Figure size 648x432 with 1 Axes>"
      ]
     },
     "metadata": {
      "needs_background": "light"
     },
     "output_type": "display_data"
    }
   ],
   "source": [
    "subscribed['duration'].plot(kind='hist', grid=True, bins=30, figsize=(9,6), color\n",
    "                            ='darkslategray').set_title('Время поездки пользователей c подпиской', color\n",
    "                            ='Black', fontsize=14)\n",
    "plt.gca().set(xlabel='Время поездки в минутах')"
   ]
  },
  {
   "cell_type": "markdown",
   "id": "97595184",
   "metadata": {},
   "source": [
    "Мои опасения подтверждает корреляция, связь между длительностью поездки и пройденным расстоянием"
   ]
  },
  {
   "cell_type": "code",
   "execution_count": 28,
   "id": "bee6840e",
   "metadata": {},
   "outputs": [
    {
     "data": {
      "text/plain": [
       "0.4933405982485452"
      ]
     },
     "execution_count": 28,
     "metadata": {},
     "output_type": "execute_result"
    },
    {
     "data": {
      "image/png": "[encoded data removed]",
      "text/plain": [
       "<Figure size 864x720 with 1 Axes>"
      ]
     },
     "metadata": {
      "needs_background": "light"
     },
     "output_type": "display_data"
    }
   ],
   "source": [
    "subscribed.plot(kind='scatter', grid=False, figsize=(12,10), color='darkslategray', x='distance', y ='duration', alpha\n",
    "                =0.5).set_title('Корреляция длительности поездки от пройденного расстояния', color\n",
    "                ='Black', fontsize=14)\n",
    "plt.gca().set(xlabel='Расстояние в метрах', ylabel='Длительность поездки')\n",
    "subscribed['distance'].corr(subscribed['duration'])"
   ]
  },
  {
   "cell_type": "markdown",
   "id": "68c07700",
   "metadata": {},
   "source": [
    "Аналогичная ситуация с пользователями без подписки, разве что их по просту больше. Однако гистограмма начинается с нуля. Это стоит проверить"
   ]
  },
  {
   "cell_type": "code",
   "execution_count": 29,
   "id": "a04d3f45",
   "metadata": {},
   "outputs": [
    {
     "data": {
      "text/plain": [
       "[Text(0.5, 0, 'Расстояние в метрах')]"
      ]
     },
     "execution_count": 29,
     "metadata": {},
     "output_type": "execute_result"
    },
    {
     "data": {
      "image/png": "[encoded data removed]",
      "text/plain": [
       "<Figure size 648x432 with 1 Axes>"
      ]
     },
     "metadata": {
      "needs_background": "light"
     },
     "output_type": "display_data"
    }
   ],
   "source": [
    "non_subscribed['distance'].plot(kind='hist', grid=True, bins=30, figsize=(9,6), color\n",
    "                                ='g').set_title('Пройденное расстояние пользователями без подписки', color\n",
    "                                ='Black', fontsize=14)\n",
    "plt.gca().set(xlabel='Расстояние в метрах')"
   ]
  },
  {
   "cell_type": "markdown",
   "id": "e39c519e",
   "metadata": {},
   "source": [
    "Я готов поверить, что пользователи арендуют самокат для того, чтобы проехать 400 метров и более, но не меньше и тем более не менее 100 метров. Изучим промежуток"
   ]
  },
  {
   "cell_type": "code",
   "execution_count": 30,
   "id": "bbaae07b",
   "metadata": {},
   "outputs": [
    {
     "data": {
      "text/plain": [
       "[Text(0.5, 0, 'Расстояние в метрах')]"
      ]
     },
     "execution_count": 30,
     "metadata": {},
     "output_type": "execute_result"
    },
    {
     "data": {
      "image/png": "[encoded data removed]",
      "text/plain": [
       "<Figure size 648x432 with 1 Axes>"
      ]
     },
     "metadata": {
      "needs_background": "light"
     },
     "output_type": "display_data"
    }
   ],
   "source": [
    "non_subscribed['distance'].plot(kind='hist', grid=True, bins=20, figsize=(9,6), color='g', range\n",
    "                                =(0, 500)).set_title('Пройденное расстояние пользователями без подписки', color\n",
    "                                ='Black', fontsize=14)\n",
    "plt.gca().set(xlabel='Расстояние в метрах')"
   ]
  },
  {
   "cell_type": "code",
   "execution_count": 31,
   "id": "ec59d2dd",
   "metadata": {},
   "outputs": [
    {
     "data": {
      "image/png": "[encoded data removed]",
      "text/plain": [
       "<Figure size 648x432 with 1 Axes>"
      ]
     },
     "metadata": {
      "needs_background": "light"
     },
     "output_type": "display_data"
    }
   ],
   "source": [
    "non_subscribed['distance'].plot(kind='hist', grid=True, bins=50, figsize=(9,6), color='g', range\n",
    "                                =(0, 300)).set_title('Пройденное расстояние пользователями без подписки', color\n",
    "                                ='Black', fontsize=14)\n",
    "plt.gca().set(xlabel='Расстояние в метрах')\n",
    "# таких аномальных значенийи оказалось довольно много, их следует убрать\n",
    "non_subscribed = non_subscribed.query('distance >= 200')"
   ]
  },
  {
   "cell_type": "code",
   "execution_count": 32,
   "id": "19e5564a",
   "metadata": {},
   "outputs": [
    {
     "data": {
      "text/html": [
       "<div>\n",
       "<style scoped>\n",
       "    .dataframe tbody tr th:only-of-type {\n",
       "        vertical-align: middle;\n",
       "    }\n",
       "\n",
       "    .dataframe tbody tr th {\n",
       "        vertical-align: top;\n",
       "    }\n",
       "\n",
       "    .dataframe thead th {\n",
       "        text-align: right;\n",
       "    }\n",
       "</style>\n",
       "<table border=\"1\" class=\"dataframe\">\n",
       "  <thead>\n",
       "    <tr style=\"text-align: right;\">\n",
       "      <th></th>\n",
       "      <th>user_id</th>\n",
       "      <th>name</th>\n",
       "      <th>age</th>\n",
       "      <th>city</th>\n",
       "      <th>subscription_type</th>\n",
       "      <th>distance</th>\n",
       "      <th>duration</th>\n",
       "      <th>date</th>\n",
       "      <th>month</th>\n",
       "      <th>minute_price</th>\n",
       "      <th>start_ride_price</th>\n",
       "      <th>subscription_fee</th>\n",
       "    </tr>\n",
       "  </thead>\n",
       "  <tbody>\n",
       "    <tr>\n",
       "      <th>6500</th>\n",
       "      <td>700</td>\n",
       "      <td>Айдар</td>\n",
       "      <td>22</td>\n",
       "      <td>Омск</td>\n",
       "      <td>free</td>\n",
       "      <td>2515.690719</td>\n",
       "      <td>14.944286</td>\n",
       "      <td>2021-01-02</td>\n",
       "      <td>1</td>\n",
       "      <td>8</td>\n",
       "      <td>50</td>\n",
       "      <td>0</td>\n",
       "    </tr>\n",
       "    <tr>\n",
       "      <th>6501</th>\n",
       "      <td>700</td>\n",
       "      <td>Айдар</td>\n",
       "      <td>22</td>\n",
       "      <td>Омск</td>\n",
       "      <td>free</td>\n",
       "      <td>846.932642</td>\n",
       "      <td>16.234663</td>\n",
       "      <td>2021-02-01</td>\n",
       "      <td>2</td>\n",
       "      <td>8</td>\n",
       "      <td>50</td>\n",
       "      <td>0</td>\n",
       "    </tr>\n",
       "    <tr>\n",
       "      <th>6502</th>\n",
       "      <td>700</td>\n",
       "      <td>Айдар</td>\n",
       "      <td>22</td>\n",
       "      <td>Омск</td>\n",
       "      <td>free</td>\n",
       "      <td>4004.434142</td>\n",
       "      <td>20.016628</td>\n",
       "      <td>2021-02-04</td>\n",
       "      <td>2</td>\n",
       "      <td>8</td>\n",
       "      <td>50</td>\n",
       "      <td>0</td>\n",
       "    </tr>\n",
       "    <tr>\n",
       "      <th>6503</th>\n",
       "      <td>700</td>\n",
       "      <td>Айдар</td>\n",
       "      <td>22</td>\n",
       "      <td>Омск</td>\n",
       "      <td>free</td>\n",
       "      <td>1205.911290</td>\n",
       "      <td>9.782872</td>\n",
       "      <td>2021-02-10</td>\n",
       "      <td>2</td>\n",
       "      <td>8</td>\n",
       "      <td>50</td>\n",
       "      <td>0</td>\n",
       "    </tr>\n",
       "    <tr>\n",
       "      <th>6504</th>\n",
       "      <td>700</td>\n",
       "      <td>Айдар</td>\n",
       "      <td>22</td>\n",
       "      <td>Омск</td>\n",
       "      <td>free</td>\n",
       "      <td>3047.379435</td>\n",
       "      <td>17.427673</td>\n",
       "      <td>2021-02-14</td>\n",
       "      <td>2</td>\n",
       "      <td>8</td>\n",
       "      <td>50</td>\n",
       "      <td>0</td>\n",
       "    </tr>\n",
       "  </tbody>\n",
       "</table>\n",
       "</div>"
      ],
      "text/plain": [
       "      user_id   name  age  city subscription_type     distance   duration  \\\n",
       "6500      700  Айдар   22  Омск              free  2515.690719  14.944286   \n",
       "6501      700  Айдар   22  Омск              free   846.932642  16.234663   \n",
       "6502      700  Айдар   22  Омск              free  4004.434142  20.016628   \n",
       "6503      700  Айдар   22  Омск              free  1205.911290   9.782872   \n",
       "6504      700  Айдар   22  Омск              free  3047.379435  17.427673   \n",
       "\n",
       "           date  month  minute_price  start_ride_price  subscription_fee  \n",
       "6500 2021-01-02      1             8                50                 0  \n",
       "6501 2021-02-01      2             8                50                 0  \n",
       "6502 2021-02-04      2             8                50                 0  \n",
       "6503 2021-02-10      2             8                50                 0  \n",
       "6504 2021-02-14      2             8                50                 0  "
      ]
     },
     "execution_count": 32,
     "metadata": {},
     "output_type": "execute_result"
    },
    {
     "data": {
      "image/png": "[encoded data removed]",
      "text/plain": [
       "<Figure size 648x432 with 1 Axes>"
      ]
     },
     "metadata": {
      "needs_background": "light"
     },
     "output_type": "display_data"
    }
   ],
   "source": [
    "non_subscribed['duration'].plot(kind='hist', grid=True, bins=30, figsize=(9,6), color='g')\n",
    "non_subscribed = non_subscribed.query('duration >= 3')\n",
    "non_subscribed['duration'].plot(kind='hist', grid=True, bins=30, figsize=(9,6), color\n",
    "                                ='g').set_title('Время поездки пользователей без подписки', color\n",
    "                                ='Black', fontsize=14)\n",
    "plt.gca().set(xlabel='Время в минутах')\n",
    "non_subscribed.head()"
   ]
  },
  {
   "cell_type": "markdown",
   "id": "3c1a6e7d",
   "metadata": {},
   "source": [
    "Выглядит как нормальное распределение, если не считать всплеска показателей в самом начале, возможно, эти люди брали самокат и передумали или заряд оказался слишком низким, а вполне, возможно, что он у них просто не запустился и пришлось завершить поездку. В остальном большинство значений находятся в диапозоне от 10 и до 25 минут, что коррелирует с действительностью "
   ]
  },
  {
   "cell_type": "markdown",
   "id": "1ca6b8f5",
   "metadata": {},
   "source": [
    "<div class=\"alert alert-danger\">\n",
    "❌<b>Комментарий с замечанием ревьюера:</b> \n",
    "\n",
    "Добавь, пожалуйста, вывод для графика.\n",
    "</div>"
   ]
  },
  {
   "cell_type": "markdown",
   "id": "53b8a252",
   "metadata": {},
   "source": [
    "<div class=\"alert alert-success\">\n",
    "✔️ <b>Комментарий с комплиментом ревьюера в2:</b> \n",
    "\n",
    "Отлично"
   ]
  },
  {
   "cell_type": "markdown",
   "id": "402d620f",
   "metadata": {},
   "source": [
    "#### Шаг 5. Подсчёт выручки"
   ]
  },
  {
   "cell_type": "markdown",
   "id": "613f42cf",
   "metadata": {},
   "source": [
    "#### 5.1"
   ]
  },
  {
   "cell_type": "code",
   "execution_count": null,
   "id": "a371cdd5",
   "metadata": {},
   "outputs": [],
   "source": []
  },
  {
   "cell_type": "code",
   "execution_count": 33,
   "id": "53049e0a",
   "metadata": {},
   "outputs": [
    {
     "data": {
      "text/html": [
       "<div>\n",
       "<style scoped>\n",
       "    .dataframe tbody tr th:only-of-type {\n",
       "        vertical-align: middle;\n",
       "    }\n",
       "\n",
       "    .dataframe tbody tr th {\n",
       "        vertical-align: top;\n",
       "    }\n",
       "\n",
       "    .dataframe thead th {\n",
       "        text-align: right;\n",
       "    }\n",
       "</style>\n",
       "<table border=\"1\" class=\"dataframe\">\n",
       "  <thead>\n",
       "    <tr style=\"text-align: right;\">\n",
       "      <th></th>\n",
       "      <th></th>\n",
       "      <th></th>\n",
       "      <th>distance</th>\n",
       "      <th>duration</th>\n",
       "    </tr>\n",
       "    <tr>\n",
       "      <th>user_id</th>\n",
       "      <th>month</th>\n",
       "      <th></th>\n",
       "      <th></th>\n",
       "      <th></th>\n",
       "    </tr>\n",
       "  </thead>\n",
       "  <tbody>\n",
       "    <tr>\n",
       "      <th rowspan=\"12\" valign=\"top\">700</th>\n",
       "      <th>1</th>\n",
       "      <th>6500</th>\n",
       "      <td>2515.690719</td>\n",
       "      <td>15</td>\n",
       "    </tr>\n",
       "    <tr>\n",
       "      <th rowspan=\"5\" valign=\"top\">2</th>\n",
       "      <th>6501</th>\n",
       "      <td>846.932642</td>\n",
       "      <td>17</td>\n",
       "    </tr>\n",
       "    <tr>\n",
       "      <th>6502</th>\n",
       "      <td>4004.434142</td>\n",
       "      <td>21</td>\n",
       "    </tr>\n",
       "    <tr>\n",
       "      <th>6503</th>\n",
       "      <td>1205.911290</td>\n",
       "      <td>10</td>\n",
       "    </tr>\n",
       "    <tr>\n",
       "      <th>6504</th>\n",
       "      <td>3047.379435</td>\n",
       "      <td>18</td>\n",
       "    </tr>\n",
       "    <tr>\n",
       "      <th>6505</th>\n",
       "      <td>4342.002254</td>\n",
       "      <td>23</td>\n",
       "    </tr>\n",
       "    <tr>\n",
       "      <th>3</th>\n",
       "      <th>6506</th>\n",
       "      <td>3798.334905</td>\n",
       "      <td>19</td>\n",
       "    </tr>\n",
       "    <tr>\n",
       "      <th>4</th>\n",
       "      <th>6507</th>\n",
       "      <td>2984.551206</td>\n",
       "      <td>16</td>\n",
       "    </tr>\n",
       "    <tr>\n",
       "      <th rowspan=\"2\" valign=\"top\">6</th>\n",
       "      <th>6508</th>\n",
       "      <td>3360.107141</td>\n",
       "      <td>17</td>\n",
       "    </tr>\n",
       "    <tr>\n",
       "      <th>6509</th>\n",
       "      <td>2567.543847</td>\n",
       "      <td>12</td>\n",
       "    </tr>\n",
       "    <tr>\n",
       "      <th rowspan=\"2\" valign=\"top\">7</th>\n",
       "      <th>6510</th>\n",
       "      <td>4110.232038</td>\n",
       "      <td>16</td>\n",
       "    </tr>\n",
       "    <tr>\n",
       "      <th>6511</th>\n",
       "      <td>288.974241</td>\n",
       "      <td>5</td>\n",
       "    </tr>\n",
       "  </tbody>\n",
       "</table>\n",
       "</div>"
      ],
      "text/plain": [
       "                       distance  duration\n",
       "user_id month                            \n",
       "700     1     6500  2515.690719        15\n",
       "        2     6501   846.932642        17\n",
       "              6502  4004.434142        21\n",
       "              6503  1205.911290        10\n",
       "              6504  3047.379435        18\n",
       "              6505  4342.002254        23\n",
       "        3     6506  3798.334905        19\n",
       "        4     6507  2984.551206        16\n",
       "        6     6508  3360.107141        17\n",
       "              6509  2567.543847        12\n",
       "        7     6510  4110.232038        16\n",
       "              6511   288.974241         5"
      ]
     },
     "execution_count": 33,
     "metadata": {},
     "output_type": "execute_result"
    }
   ],
   "source": [
    "ride_data = non_subscribed.pivot_table(index=['user_id', 'month', non_subscribed['month'].index], values\n",
    "                                  =['distance', 'duration'])\n",
    "ride_data.columns = ['distance', 'duration']\n",
    "ride_data['duration'] = np.ceil(ride_data['duration'])\n",
    "\n",
    "ride_data['duration'] = pd.to_numeric(ride_data['duration'], errors = 'ignore')\n",
    "ride_data['duration'] = ride_data['duration'].astype('int')\n",
    "ride_data.head(12)"
   ]
  },
  {
   "cell_type": "code",
   "execution_count": 34,
   "id": "03a7c1ea",
   "metadata": {},
   "outputs": [
    {
     "data": {
      "text/html": [
       "<div>\n",
       "<style scoped>\n",
       "    .dataframe tbody tr th:only-of-type {\n",
       "        vertical-align: middle;\n",
       "    }\n",
       "\n",
       "    .dataframe tbody tr th {\n",
       "        vertical-align: top;\n",
       "    }\n",
       "\n",
       "    .dataframe thead th {\n",
       "        text-align: right;\n",
       "    }\n",
       "</style>\n",
       "<table border=\"1\" class=\"dataframe\">\n",
       "  <thead>\n",
       "    <tr style=\"text-align: right;\">\n",
       "      <th></th>\n",
       "      <th></th>\n",
       "      <th></th>\n",
       "      <th>distance</th>\n",
       "      <th>duration</th>\n",
       "    </tr>\n",
       "    <tr>\n",
       "      <th>user_id</th>\n",
       "      <th>month</th>\n",
       "      <th></th>\n",
       "      <th></th>\n",
       "      <th></th>\n",
       "    </tr>\n",
       "  </thead>\n",
       "  <tbody>\n",
       "    <tr>\n",
       "      <th rowspan=\"12\" valign=\"top\">1</th>\n",
       "      <th rowspan=\"2\" valign=\"top\">1</th>\n",
       "      <th>0</th>\n",
       "      <td>4410.0</td>\n",
       "      <td>26</td>\n",
       "    </tr>\n",
       "    <tr>\n",
       "      <th>1</th>\n",
       "      <td>2618.0</td>\n",
       "      <td>16</td>\n",
       "    </tr>\n",
       "    <tr>\n",
       "      <th>4</th>\n",
       "      <th>2</th>\n",
       "      <td>755.0</td>\n",
       "      <td>7</td>\n",
       "    </tr>\n",
       "    <tr>\n",
       "      <th rowspan=\"2\" valign=\"top\">8</th>\n",
       "      <th>3</th>\n",
       "      <td>2695.0</td>\n",
       "      <td>19</td>\n",
       "    </tr>\n",
       "    <tr>\n",
       "      <th>4</th>\n",
       "      <td>4029.0</td>\n",
       "      <td>27</td>\n",
       "    </tr>\n",
       "    <tr>\n",
       "      <th rowspan=\"2\" valign=\"top\">10</th>\n",
       "      <th>5</th>\n",
       "      <td>2771.0</td>\n",
       "      <td>17</td>\n",
       "    </tr>\n",
       "    <tr>\n",
       "      <th>6</th>\n",
       "      <td>3040.0</td>\n",
       "      <td>15</td>\n",
       "    </tr>\n",
       "    <tr>\n",
       "      <th rowspan=\"3\" valign=\"top\">11</th>\n",
       "      <th>7</th>\n",
       "      <td>2843.0</td>\n",
       "      <td>24</td>\n",
       "    </tr>\n",
       "    <tr>\n",
       "      <th>8</th>\n",
       "      <td>3413.0</td>\n",
       "      <td>16</td>\n",
       "    </tr>\n",
       "    <tr>\n",
       "      <th>9</th>\n",
       "      <td>749.0</td>\n",
       "      <td>16</td>\n",
       "    </tr>\n",
       "    <tr>\n",
       "      <th rowspan=\"2\" valign=\"top\">12</th>\n",
       "      <th>10</th>\n",
       "      <td>4032.0</td>\n",
       "      <td>18</td>\n",
       "    </tr>\n",
       "    <tr>\n",
       "      <th>11</th>\n",
       "      <td>2721.0</td>\n",
       "      <td>10</td>\n",
       "    </tr>\n",
       "  </tbody>\n",
       "</table>\n",
       "</div>"
      ],
      "text/plain": [
       "                  distance  duration\n",
       "user_id month                       \n",
       "1       1     0     4410.0        26\n",
       "              1     2618.0        16\n",
       "        4     2      755.0         7\n",
       "        8     3     2695.0        19\n",
       "              4     4029.0        27\n",
       "        10    5     2771.0        17\n",
       "              6     3040.0        15\n",
       "        11    7     2843.0        24\n",
       "              8     3413.0        16\n",
       "              9      749.0        16\n",
       "        12    10    4032.0        18\n",
       "              11    2721.0        10"
      ]
     },
     "execution_count": 34,
     "metadata": {},
     "output_type": "execute_result"
    }
   ],
   "source": [
    "ride_subdata = subscribed.pivot_table(index=['user_id', 'month', subscribed['month'].index], values\n",
    "                                  =['distance', 'duration'])\n",
    "ride_subdata.columns = ['distance', 'duration']\n",
    "ride_subdata['duration'] = np.ceil(ride_subdata['duration'])\n",
    "ride_subdata['distance'] = np.ceil(ride_subdata['distance'])\n",
    "ride_subdata['duration'] = pd.to_numeric(ride_subdata['duration'], errors = 'ignore')\n",
    "ride_subdata['duration'] = ride_subdata['duration'].astype('int')\n",
    "ride_subdata.head(12)"
   ]
  },
  {
   "cell_type": "markdown",
   "id": "f19c9de0",
   "metadata": {},
   "source": [
    "#### 5.2"
   ]
  },
  {
   "cell_type": "code",
   "execution_count": 35,
   "id": "8ebd3692",
   "metadata": {},
   "outputs": [
    {
     "data": {
      "text/html": [
       "<div>\n",
       "<style scoped>\n",
       "    .dataframe tbody tr th:only-of-type {\n",
       "        vertical-align: middle;\n",
       "    }\n",
       "\n",
       "    .dataframe tbody tr th {\n",
       "        vertical-align: top;\n",
       "    }\n",
       "\n",
       "    .dataframe thead th {\n",
       "        text-align: right;\n",
       "    }\n",
       "</style>\n",
       "<table border=\"1\" class=\"dataframe\">\n",
       "  <thead>\n",
       "    <tr style=\"text-align: right;\">\n",
       "      <th></th>\n",
       "      <th></th>\n",
       "      <th></th>\n",
       "      <th>distance</th>\n",
       "      <th>duration</th>\n",
       "      <th>margin</th>\n",
       "    </tr>\n",
       "    <tr>\n",
       "      <th>user_id</th>\n",
       "      <th>month</th>\n",
       "      <th></th>\n",
       "      <th></th>\n",
       "      <th></th>\n",
       "      <th></th>\n",
       "    </tr>\n",
       "  </thead>\n",
       "  <tbody>\n",
       "    <tr>\n",
       "      <th rowspan=\"5\" valign=\"top\">700</th>\n",
       "      <th>1</th>\n",
       "      <th>6500</th>\n",
       "      <td>2515.690719</td>\n",
       "      <td>15</td>\n",
       "      <td>170</td>\n",
       "    </tr>\n",
       "    <tr>\n",
       "      <th rowspan=\"4\" valign=\"top\">2</th>\n",
       "      <th>6501</th>\n",
       "      <td>846.932642</td>\n",
       "      <td>17</td>\n",
       "      <td>186</td>\n",
       "    </tr>\n",
       "    <tr>\n",
       "      <th>6502</th>\n",
       "      <td>4004.434142</td>\n",
       "      <td>21</td>\n",
       "      <td>218</td>\n",
       "    </tr>\n",
       "    <tr>\n",
       "      <th>6503</th>\n",
       "      <td>1205.911290</td>\n",
       "      <td>10</td>\n",
       "      <td>130</td>\n",
       "    </tr>\n",
       "    <tr>\n",
       "      <th>6504</th>\n",
       "      <td>3047.379435</td>\n",
       "      <td>18</td>\n",
       "      <td>194</td>\n",
       "    </tr>\n",
       "  </tbody>\n",
       "</table>\n",
       "</div>"
      ],
      "text/plain": [
       "                       distance  duration  margin\n",
       "user_id month                                    \n",
       "700     1     6500  2515.690719        15     170\n",
       "        2     6501   846.932642        17     186\n",
       "              6502  4004.434142        21     218\n",
       "              6503  1205.911290        10     130\n",
       "              6504  3047.379435        18     194"
      ]
     },
     "execution_count": 35,
     "metadata": {},
     "output_type": "execute_result"
    }
   ],
   "source": [
    "ride_data['margin'] = (ride_data['duration'] * 8) + 50\n",
    "ride_data.head()"
   ]
  },
  {
   "cell_type": "markdown",
   "id": "58c1e502",
   "metadata": {},
   "source": [
    "Как взаимодействовать с сводной таблицей с таким большим мультииндексом? Не очень понимаю как грамотно прибавить. Через функцию пока не могу, поскольку не знаю как обратиться к мультииндексу, конкретно к индексу месяца"
   ]
  },
  {
   "cell_type": "code",
   "execution_count": 36,
   "id": "2c4b106c",
   "metadata": {
    "scrolled": true
   },
   "outputs": [
    {
     "data": {
      "text/html": [
       "<div>\n",
       "<style scoped>\n",
       "    .dataframe tbody tr th:only-of-type {\n",
       "        vertical-align: middle;\n",
       "    }\n",
       "\n",
       "    .dataframe tbody tr th {\n",
       "        vertical-align: top;\n",
       "    }\n",
       "\n",
       "    .dataframe thead th {\n",
       "        text-align: right;\n",
       "    }\n",
       "</style>\n",
       "<table border=\"1\" class=\"dataframe\">\n",
       "  <thead>\n",
       "    <tr style=\"text-align: right;\">\n",
       "      <th></th>\n",
       "      <th></th>\n",
       "      <th></th>\n",
       "      <th>distance</th>\n",
       "      <th>duration</th>\n",
       "      <th>margin</th>\n",
       "    </tr>\n",
       "    <tr>\n",
       "      <th>user_id</th>\n",
       "      <th>month</th>\n",
       "      <th></th>\n",
       "      <th></th>\n",
       "      <th></th>\n",
       "      <th></th>\n",
       "    </tr>\n",
       "  </thead>\n",
       "  <tbody>\n",
       "    <tr>\n",
       "      <th rowspan=\"10\" valign=\"top\">1</th>\n",
       "      <th rowspan=\"2\" valign=\"top\">1</th>\n",
       "      <th>0</th>\n",
       "      <td>4410.0</td>\n",
       "      <td>26</td>\n",
       "      <td>355</td>\n",
       "    </tr>\n",
       "    <tr>\n",
       "      <th>1</th>\n",
       "      <td>2618.0</td>\n",
       "      <td>16</td>\n",
       "      <td>295</td>\n",
       "    </tr>\n",
       "    <tr>\n",
       "      <th>4</th>\n",
       "      <th>2</th>\n",
       "      <td>755.0</td>\n",
       "      <td>7</td>\n",
       "      <td>241</td>\n",
       "    </tr>\n",
       "    <tr>\n",
       "      <th rowspan=\"2\" valign=\"top\">8</th>\n",
       "      <th>3</th>\n",
       "      <td>2695.0</td>\n",
       "      <td>19</td>\n",
       "      <td>313</td>\n",
       "    </tr>\n",
       "    <tr>\n",
       "      <th>4</th>\n",
       "      <td>4029.0</td>\n",
       "      <td>27</td>\n",
       "      <td>361</td>\n",
       "    </tr>\n",
       "    <tr>\n",
       "      <th rowspan=\"2\" valign=\"top\">10</th>\n",
       "      <th>5</th>\n",
       "      <td>2771.0</td>\n",
       "      <td>17</td>\n",
       "      <td>301</td>\n",
       "    </tr>\n",
       "    <tr>\n",
       "      <th>6</th>\n",
       "      <td>3040.0</td>\n",
       "      <td>15</td>\n",
       "      <td>289</td>\n",
       "    </tr>\n",
       "    <tr>\n",
       "      <th rowspan=\"3\" valign=\"top\">11</th>\n",
       "      <th>7</th>\n",
       "      <td>2843.0</td>\n",
       "      <td>24</td>\n",
       "      <td>343</td>\n",
       "    </tr>\n",
       "    <tr>\n",
       "      <th>8</th>\n",
       "      <td>3413.0</td>\n",
       "      <td>16</td>\n",
       "      <td>295</td>\n",
       "    </tr>\n",
       "    <tr>\n",
       "      <th>9</th>\n",
       "      <td>749.0</td>\n",
       "      <td>16</td>\n",
       "      <td>295</td>\n",
       "    </tr>\n",
       "  </tbody>\n",
       "</table>\n",
       "</div>"
      ],
      "text/plain": [
       "                 distance  duration  margin\n",
       "user_id month                              \n",
       "1       1     0    4410.0        26     355\n",
       "              1    2618.0        16     295\n",
       "        4     2     755.0         7     241\n",
       "        8     3    2695.0        19     313\n",
       "              4    4029.0        27     361\n",
       "        10    5    2771.0        17     301\n",
       "              6    3040.0        15     289\n",
       "        11    7    2843.0        24     343\n",
       "              8    3413.0        16     295\n",
       "              9     749.0        16     295"
      ]
     },
     "execution_count": 36,
     "metadata": {},
     "output_type": "execute_result"
    }
   ],
   "source": [
    "ride_subdata['margin'] = (ride_subdata['duration'] * 6 + 199)\n",
    "ride_subdata.head(10)"
   ]
  },
  {
   "cell_type": "markdown",
   "id": "341636fd",
   "metadata": {},
   "source": [
    "<div class=\"alert alert-warning\">\n",
    "⚠️  <b>Комментарий с небольшим замечанием ревьюера:</b>\n",
    "\n",
    "В формуле ошибка, абонентская плата — 199 рублей в месяц;\n"
   ]
  },
  {
   "cell_type": "markdown",
   "id": "41545ac0",
   "metadata": {},
   "source": [
    "#### Шаг 6. Проверка гипотез"
   ]
  },
  {
   "cell_type": "markdown",
   "id": "df36c771",
   "metadata": {},
   "source": [
    "#### 6.1"
   ]
  },
  {
   "cell_type": "markdown",
   "id": "e3ef2025",
   "metadata": {},
   "source": [
    "Важно понять, тратят ли пользователи с подпиской больше времени на поездки? Если да, то пользователи с подпиской могут быть «выгоднее» для компании. Проверьте гипотезу. Используйте исходные данные о продолжительности каждой сессии — отдельно для подписчиков и тех, у кого нет подписки.\n",
    "\n",
    "H0 - время поездки пользователей с подпиской и без примерно одинаково.\n",
    "Н1 - время поездки у пользователей с подпиской больше, чем у пользоваетелей без."
   ]
  },
  {
   "cell_type": "code",
   "execution_count": 37,
   "id": "a432ad8b",
   "metadata": {},
   "outputs": [
    {
     "data": {
      "text/plain": [
       "[Text(0.5, 0, 'Расстояние в метрах')]"
      ]
     },
     "execution_count": 37,
     "metadata": {},
     "output_type": "execute_result"
    },
    {
     "data": {
      "image/png": "[encoded data removed]",
      "text/plain": [
       "<Figure size 648x432 with 1 Axes>"
      ]
     },
     "metadata": {
      "needs_background": "light"
     },
     "output_type": "display_data"
    }
   ],
   "source": [
    "ride_data['distance'].plot(kind='hist', grid=True, figsize=(9, 6), bins=40, color\n",
    "                           ='darkslategray').set_title('Пройденное расстояние пользователями', color\n",
    "                                ='Black', fontsize=14)\n",
    "plt.gca().set(xlabel='Расстояние в метрах')"
   ]
  },
  {
   "cell_type": "markdown",
   "id": "6c3b099b",
   "metadata": {},
   "source": []
  },
  {
   "cell_type": "code",
   "execution_count": 38,
   "id": "d0d509be",
   "metadata": {},
   "outputs": [
    {
     "data": {
      "text/plain": [
       "1.4922988132543942e-20"
      ]
     },
     "execution_count": 38,
     "metadata": {},
     "output_type": "execute_result"
    }
   ],
   "source": [
    "alpha = 0.01\n",
    "res = st.ttest_ind(ride_subdata['duration'], ride_data['duration'], alternative='greater')\n",
    "res.pvalue"
   ]
  },
  {
   "cell_type": "markdown",
   "id": "ef91b2b7",
   "metadata": {},
   "source": [
    "Судя по всему альтернативная гипотеза подтвердилась, пользователи с подпиской в среднем тратят времени на поездки больше чем пользователи без"
   ]
  },
  {
   "cell_type": "markdown",
   "id": "28a34541",
   "metadata": {},
   "source": [
    "<div class=\"alert alert-danger\">\n",
    "❌<b>Комментарий с замечанием ревьюера:</b> \n",
    "\n",
    "Добавь, пожалуйста, формулировку гипотез.\n",
    "    \n",
    "Согласно ТЗ нам надо проверить длительнось поездок, а не расстояние, скорректируй, пожалуйста, проверку.\n",
    "</div>"
   ]
  },
  {
   "cell_type": "markdown",
   "id": "c6a13e66",
   "metadata": {},
   "source": [
    "<div class=\"alert alert-success\">\n",
    "✔️ <b>Комментарий с комплиментом ревьюера в3:</b> \n",
    "\n",
    "Отлично, из формулировки можно убрать слово примерно"
   ]
  },
  {
   "cell_type": "markdown",
   "id": "34b436b9",
   "metadata": {},
   "source": [
    "<div class=\"alert alert-danger\">\n",
    "❌<b>Комментарий с замечанием ревьюера:</b> \n",
    "\n",
    "При проверки гипотез необходимо скорректировать данные, мы сравниваем все поездки, поэтому агрегирования быть не должно, выборки должны быть сформированы из таблицы: пользователь1 - месяц1 - поездка1, пользователь1 - месяц1 - поездка2 и т.д.\n",
    "    \n",
    "Таблицы необходимо скорректировать для каждой проверки."
   ]
  },
  {
   "cell_type": "markdown",
   "id": "edccf734",
   "metadata": {},
   "source": [
    "#### 6.2"
   ]
  },
  {
   "cell_type": "markdown",
   "id": "d0180fb1",
   "metadata": {},
   "source": [
    "Расстояние одной поездки в 3130 метров — оптимальное с точки зрения износа самоката. Можно ли сказать, что среднее расстояние, которое проезжают пользователи с подпиской за одну поездку, не превышает 3130 метров? Проверьте гипотезу и сделайте выводы.\n",
    "\n",
    "Н0 - пользователи в среднем проезжают примерно 3130 метров.\n",
    "Н1 - пользователи обычно проезжают больше 3130 метров за поездку."
   ]
  },
  {
   "cell_type": "code",
   "execution_count": 39,
   "id": "34a958a2",
   "metadata": {},
   "outputs": [
    {
     "name": "stdout",
     "output_type": "stream",
     "text": [
      "Не отверагем 0.9120422337080507\n"
     ]
    }
   ],
   "source": [
    "p_parametr = 3130\n",
    "res_H3130 = st.ttest_1samp(ride_subdata['distance'], p_parametr, alternative='greater')\n",
    "res_H3130.pvalue\n",
    "if res_H3130.pvalue < alpha:\n",
    "    print('Отвергаем', res_H3130.pvalue)\n",
    "else:\n",
    "    print('Не отверагем', res_H3130.pvalue)"
   ]
  },
  {
   "cell_type": "markdown",
   "id": "bd84f530",
   "metadata": {},
   "source": [
    "Тогда получается, что мы отвергаем нулевую гипотезу, это значит, что в среднем проезжают более 3130 метров."
   ]
  },
  {
   "cell_type": "markdown",
   "id": "ff919e51",
   "metadata": {},
   "source": [
    "<div class=\"alert alert-danger\">\n",
    "❌<b>Комментарий с замечанием ревьюера:</b> \n",
    "\n",
    "Поскольку оптимальное расстояние по износу составляет 3130 м, значит большее расстояние приводит к повышенному износу самоката. Следовательно, имеет смысл сформулировать альтернативную гипотезу \"Подписчики в среднем проезжают расстояние больше оптимального\" и соответственно в статистическом тесте использовать параметр alternative = 'greater'\""
   ]
  },
  {
   "cell_type": "markdown",
   "id": "24635928",
   "metadata": {},
   "source": [
    "<div class=\"alert alert-success\">\n",
    "✔️ <b>Комментарий с комплиментом ревьюера в2:</b> \n",
    "\n",
    "Отлично"
   ]
  },
  {
   "cell_type": "markdown",
   "id": "6fa0bed9",
   "metadata": {},
   "source": [
    "#### 6.3"
   ]
  },
  {
   "cell_type": "markdown",
   "id": "924cf1c7",
   "metadata": {},
   "source": [
    "Проверьте гипотезу о том, будет ли помесячная выручка от пользователей с подпиской по месяцам выше, чем выручка от пользователей без подписки. Сделайте вывод.\n",
    "\n",
    "Н0 - доходы от пользователей с подпиской и без примерно равны.\n",
    "Н1 - доходы от пользоваетелй с подпиской превышают доходы с пользователей без неё."
   ]
  },
  {
   "cell_type": "code",
   "execution_count": 40,
   "id": "354fa266",
   "metadata": {},
   "outputs": [
    {
     "name": "stdout",
     "output_type": "stream",
     "text": [
      "Отвергаем 0.0\n"
     ]
    }
   ],
   "source": [
    "res_H = st.ttest_ind(ride_subdata['margin'], ride_data['margin'], alternative='greater')\n",
    "res_H.pvalue\n",
    "if res_H.pvalue < alpha:\n",
    "    print('Отвергаем', res_H.pvalue)\n",
    "else:\n",
    "    print('Не отвергаем', res_H.pvalue)"
   ]
  },
  {
   "cell_type": "markdown",
   "id": "0d649321",
   "metadata": {},
   "source": [
    "Получается, что мы отвергаем нулевую гипотезу. Это означает, что доходы от пользователей с подпиской значительно выше, чем с пользователей без. Скорее всего пользователи либо активно пользуются подпиской  В данном случае компании стоит повысить привлекательность подписки на свой сервис, поскольку пока он не пользуется желаемой популярностью. Да число людей с подпиской уступает, количеству пользователей без, но как и было выяснено раньше, больше всего поездок совершают пользователи без подписки. Рекомендую компании добавить такую опцию, как пробный период подписки или повысить популярность этой опции за счет маркетинга, возможно, стоит договорится с партнерами, дабы уже на их смервисах была возможность получить пробный период подписки в подарок с сниженными тарифами на конкретный срок, или дарить бесплатные километры или минуты поездки, но только при подключении к подписке новому пользователю"
   ]
  },
  {
   "cell_type": "markdown",
   "id": "dad051f9",
   "metadata": {},
   "source": [
    "#### 6.4"
   ]
  },
  {
   "cell_type": "markdown",
   "id": "c501820d",
   "metadata": {},
   "source": [
    "Представьте такую ситуацию: техническая команда сервиса обновила сервера, с которыми взаимодействует мобильное приложение. Она надеется, что из-за этого количество обращений в техподдержку значимо снизилось. Некоторый файл содержит для каждого пользователя данные о количестве обращений до обновления и после него. Какой тест вам понадобился бы для проверки этой гипотезы?"
   ]
  },
  {
   "cell_type": "markdown",
   "id": "11d9bec7",
   "metadata": {},
   "source": [
    "Нам бы пригодился T-тест для проверки равенства средних двух парных(зависимых) выборок)"
   ]
  },
  {
   "cell_type": "markdown",
   "id": "0d13a2ce",
   "metadata": {},
   "source": [
    "<div class=\"alert alert-success\">\n",
    "✔️ <b>Комментарий с комплиментом ревьюера:</b>\n",
    "\n",
    "Отлично\n",
    "\n",
    "</div>\n"
   ]
  },
  {
   "cell_type": "markdown",
   "id": "61213c5e",
   "metadata": {},
   "source": [
    "#### Шаг 7. Распределения"
   ]
  },
  {
   "cell_type": "markdown",
   "id": "385a11bf",
   "metadata": {},
   "source": [
    "#### 7.1"
   ]
  },
  {
   "cell_type": "markdown",
   "id": "b086f664",
   "metadata": {},
   "source": [
    "Отделу маркетинга GoFast поставили задачу: нужно провести акцию с раздачей промокодов на один бесплатный месяц подписки, в рамках которой как минимум 100 существующих клиентов должны продлить эту подписку. То есть по завершении периода действия подписки пользователь может либо отказаться от неё, либо продлить, совершив соответствующий платёж. \n",
    "Эта акция уже проводилась ранее и по итогу выяснилось, что после бесплатного пробного периода подписку продлевают 10 %\n",
    "пользователей. Выясните, какое минимальное количество промокодов нужно разослать, чтобы вероятность не выполнить план была примерно 5 %. Подберите параметры распределения, описывающего эту ситуацию, постройте график распределения и сформулируйте ответ на вопрос о количестве промокодов."
   ]
  },
  {
   "cell_type": "code",
   "execution_count": 41,
   "id": "b751ff54",
   "metadata": {
    "scrolled": true
   },
   "outputs": [
    {
     "data": {
      "text/plain": [
       "0.05382149866528518"
      ]
     },
     "execution_count": 41,
     "metadata": {},
     "output_type": "execute_result"
    }
   ],
   "source": [
    "from math import sqrt\n",
    "from scipy.stats import binom\n",
    "p = 0.1\n",
    "p1 = 0.05\n",
    "n = 1710\n",
    "#distr = []\n",
    "\n",
    "mu = n * p1\n",
    "sigma = sqrt(n * p1 *(1 - p1))\n",
    "\n",
    "distr = st.norm(mu, sigma)\n",
    "    \n",
    "result = 1 - distr.cdf(100)\n",
    "#result\n",
    "k = 0\n",
    "#for k in range (0, n+1):\n",
    "#    value = binom.pmf(k, n, p)\n",
    "#    distr.append(value)\n",
    "#    if (value) == 0.05:\n",
    "#        print(k)\n",
    "#        break\n",
    "#plt.bar(range(0, n+1),distr)        \n",
    "# Я чего-то ничего не понял. Мы же ищем пороговое значение по вероятности, значит нам нужен ppf, а не cdf\n",
    "# И я не понял как тут без апроксимации\n",
    "result"
   ]
  },
  {
   "cell_type": "markdown",
   "id": "bc47cdf3",
   "metadata": {},
   "source": [
    "Я не понял. Как мы применим cdf если мы имеем дело не с нормальным распределением. Заодно хочу научиться лучше визуализировать разпределния и апроксимации. Я перебирал числа и хорошо подошло число 1710, т.е именно столько пользователей должны воспользоваться акцией, чтобы вероятность не выполнить план по привлечению сотни пользователей к переходу на подписку составила примерно 5 %."
   ]
  },
  {
   "cell_type": "markdown",
   "id": "b96beea5",
   "metadata": {},
   "source": [
    "<div class=\"alert alert-warning\">\n",
    "⚠️  <b>Комментарий с советом ревьюера:</b>\n",
    "\n",
    "    \n",
    "Тут должно быть решение от обратного:\n",
    "    \n",
    "Лучше задать параметры для функции биномиального распределения и использовать цикл и посчитать вероятность, пока она не достигнет заданной. Для расчета вероятности можно использовать метод cdf().\n",
    "    \n"
   ]
  },
  {
   "cell_type": "markdown",
   "id": "af54f744",
   "metadata": {},
   "source": [
    "<div class=\"alert alert-warning\">\n",
    "⚠️  <b>Комментарий с советом ревьюера в2:</b>\n",
    "\n",
    "У вашей когорты есть преподователь, ему можно (и нужно) задавать вопросы по проекту, если они у тебя есть, это его роль в обучении студентов, у него получиться помочь тебе с вопросами, которые у тебя возникают на этапе обучения."
   ]
  },
  {
   "cell_type": "markdown",
   "id": "68c73a81",
   "metadata": {},
   "source": [
    "#### 7.2"
   ]
  },
  {
   "cell_type": "markdown",
   "id": "45d2e27d",
   "metadata": {},
   "source": [
    "Отдел маркетинга рассылает клиентам push-уведомления в мобильном приложении. Клиенты могут открыть его или не открывать. Известно, что уведомления открывают около 40 % получивших клиентов. Отдел планирует разослать 1 млн уведомлений. С помощью аппроксимации постройте примерный график распределения и оцените вероятность того, что уведомление откроют не более 399,5 тыс. пользователей."
   ]
  },
  {
   "cell_type": "code",
   "execution_count": 42,
   "id": "1c378aac",
   "metadata": {},
   "outputs": [],
   "source": [
    "# решу последнюю, после вашего фидбэка"
   ]
  },
  {
   "cell_type": "markdown",
   "id": "c6f4b191",
   "metadata": {},
   "source": [
    "<div class=\"alert alert-danger\">\n",
    "❌<b>Комментарий с замечанием ревьюера:</b> \n",
    "\n",
    "По итогу проведенной работы важно добавить общий вывод по проекту.\n",
    "</div>\n"
   ]
  },
  {
   "cell_type": "markdown",
   "id": "f86e8693",
   "metadata": {},
   "source": [
    "### Вывод"
   ]
  },
  {
   "cell_type": "markdown",
   "id": "26752cb0",
   "metadata": {},
   "source": [
    " После проведения мной последовательных процедур предобработки, исследовательского и статистического анализа датафреймов содержащих данные о пользователях, их поездках и типах подписок на сервис аренды самокатов Gofast. По итогам были изучены многие аномалии и проверены некоторые гипотезы.\n",
    "\n",
    " В рамках предобработки убраны дубликаты, изменены типы данных, сами датасеты проверены на наличие пропусков. В последствии данные были успешно обьединены в один общий датасет для более удобного взаимодействия с ними. Орг моменты.\n",
    " \n",
    " В ходе исследовательского анализа выяснилось, что в регионах сеть довольно успешно расширилась, когда в Москве на фоне высококонкурентного рынка не удалось показать аналогичные результаты, такие же как в других крупных городах - миллионниках, в которых представлена эта компания. Большинство пользователей сервиса арендуют самокаты без подписки, их доля составляет 54 %, соостветсвенно с подпиской 46%, небольшой отрыв, однако большинство поездок совершают пользователи без подписки, поездок за 21 год у них почти в два раза больше, чем у пользователей с подпиской. Также в процессе исследовательского анализа были выявлены и удалены некоторые аномалии. В данной ситуации, компания уже прибегнула к реализации акционных предложений, для завлечения новых пользователей. Поэтому рекомендую активнее искать партнеров, у которых при выполнении целевых действий можно юудет получить, возможность арендовать самокаты бесплатно по подписке целый месяц. Также следует предложить данную акцию старым пользователям с целью перевода их на постоянную платную подписку. Также после успешного введения этой акции рекоменду посмотреть, какая часть пользователей отказывается от подписки через месяц, а какая продлевает ее еще на один месяц и отказывается уже на втором, в последнем случае часто пользователи просто могут воспользоваться акцией, а потом забыть отписаться. что нам разумеется не нужно. Но все вышесказанное это уже отдельное исследование направленное на оценку эффиктивности выбранной компанией стратегией по привлечению новых клиентов.\n",
    " \n",
    " В ходе статистического анализа были проверены некоторые гипотезы. Так выяснилось что пользователи с подпиской скорее всего тратят больше времени на поездки, покольку платят за подписку, а сам тариф стоит всего 6 рублей вместо 8 рублей, за счет чего эти пользователи чувствуют, что могут себе позволить никуда не торопиться. Гипотеза связанная с оптимальным расстоянием поездки тоже не подтврдилась, за частую пользователи проезжают больше, чем 3130 метров, это значит, что компании стоит взять во внимние вероятность возможного скорого износа самокатов при сохранении действующей тендеции с последующей необходимостью частичной замены парка самокатов, что влечет за собой весомые затраты в будущем. Также из вышесказанного следует, что при увеличении доли пользователей с подпиской, будет становится больше людей с долгими поездками. Гипотезы о бОльших денежных поступлениях со стороны пользователей с подпиской полностью подтвердилась. Именно эти пользователи вносят потенциально наиболее значимый вклад в улучшение фин результатов работы сервиса. При условии, что большинство поездок совершают именно пользователи без подписки, рекомендую добавить метрику активного пользователя. К примеру если человек совершает в месяц более пяти поездок и проезжает за каждую из них более 2000 метров, то ему автоматически предлагается перейти на подписку по акционным условиям, но только один раз. Само же предложение для него будет действовать в плоть до сроков окончания действия акции. Даю такую рекомендацию посколько мне достоверно неизвестно, проводится ли эта акция только для новых пользователей или же для пользователей без подписки.\n",
    " \n",
    " В конечном итоге я хорошо поработал над предобработкой данных. Провел исследовательский анализ категорий датасета, сделал корректные выводы графиков и добавил к ним соответсвующие выводы, которые надеюсь дадут возможность топ-менеджменту лучше понимать сложившуюся обстановку для компании. И наконец завершил проверку гипотез статистического анализа. В итогах к каждого изученного раздела добавил рекомендации, которые надеюсь помогут сервису Gofast, модернизировать и дальше улучшать стратегию своего развития. Фух.\n",
    " \n",
    "\n",
    " \n",
    " \n",
    " \n",
    " "
   ]
  },
  {
   "cell_type": "markdown",
   "id": "fb48aca4",
   "metadata": {},
   "source": [
    "<div style=\"border:solid Chocolate 2px; padding: 40px\">\n",
    "\n",
    "# Общий вывод ревьюера по проекту\n",
    "\n",
    "<div class=\"alert alert-success\">\n",
    "Проделана хорошая работа. Код написан чисто, соблюдена структура проекта. Есть несколько замечаний, исправь их и проект будет принят.\n",
    "</div>\n",
    "\n",
    "<div class=\"alert alert-danger\">\n",
    "    \n",
    "- скорректируй, пожалуйста, визуализации\n",
    "    \n",
    "-  добавь, пожалуйста, формулировки гипотез   \n",
    "    \n",
    "- скорректируй, пожалуйста, проверки гипотез    \n",
    "    \n",
    "- добавь, пожалуйста, промежуточные выводы и общий вывод.\n",
    "    \n",
    "</div>\n",
    "</div>\n"
   ]
  },
  {
   "cell_type": "markdown",
   "id": "9fb539d8",
   "metadata": {},
   "source": [
    "<div style=\"border:solid Chocolate 2px; padding: 40px\">\n",
    "\n",
    "# Общий вывод ревьюера по проекту в2\n",
    "\n",
    "<div class=\"alert alert-success\">\n",
    "Спасибо за проработку замечаний, осталось исправить несколько моментов.\n",
    "</div>\n",
    "\n",
    "<div class=\"alert alert-danger\">\n",
    "    \n",
    "-  добавь, пожалуйста, вступительную часть к проекту\n",
    "    \n",
    "- добавь, пожалуйста, расчет доли для каждого типа пользователя относительно общего числа пользователей    \n",
    "    \n",
    "-  добавь, пожалуйста, формулировки гипотез   \n",
    "    \n",
    "\n",
    "    \n",
    "</div>\n",
    "</div>"
   ]
  },
  {
   "cell_type": "markdown",
   "id": "95047be0",
   "metadata": {},
   "source": [
    "<div style=\"border:solid Chocolate 2px; padding: 40px\">\n",
    "\n",
    "# Общий вывод ревьюера по проекту в3\n",
    "\n",
    "<div class=\"alert alert-success\">\n",
    "Замечания доработаны корректно, желаю тебе успеха в следующих проектах."
   ]
  },
  {
   "cell_type": "code",
   "execution_count": null,
   "id": "f530d355",
   "metadata": {},
   "outputs": [],
   "source": []
  }
 ],
 "metadata": {
  "ExecuteTimeLog": [
   {
    "duration": 357,
    "start_time": "2023-12-16T10:06:47.258Z"
   },
   {
    "duration": 194,
    "start_time": "2023-12-16T10:06:47.617Z"
   },
   {
    "duration": 2,
    "start_time": "2023-12-16T10:07:42.655Z"
   },
   {
    "duration": 69,
    "start_time": "2023-12-16T10:07:42.660Z"
   },
   {
    "duration": 9,
    "start_time": "2023-12-16T10:07:42.730Z"
   },
   {
    "duration": 9,
    "start_time": "2023-12-16T10:07:42.741Z"
   },
   {
    "duration": 9,
    "start_time": "2023-12-16T10:07:42.752Z"
   },
   {
    "duration": 2,
    "start_time": "2023-12-16T10:11:20.313Z"
   },
   {
    "duration": 67,
    "start_time": "2023-12-16T10:11:20.317Z"
   },
   {
    "duration": 10,
    "start_time": "2023-12-16T10:11:20.385Z"
   },
   {
    "duration": 10,
    "start_time": "2023-12-16T10:11:20.397Z"
   },
   {
    "duration": 8,
    "start_time": "2023-12-16T10:11:20.409Z"
   },
   {
    "duration": 686,
    "start_time": "2023-12-16T10:11:22.719Z"
   },
   {
    "duration": 874,
    "start_time": "2023-12-16T10:11:37.467Z"
   },
   {
    "duration": 628,
    "start_time": "2023-12-16T10:12:12.106Z"
   },
   {
    "duration": 12,
    "start_time": "2023-12-16T10:13:46.276Z"
   },
   {
    "duration": 54,
    "start_time": "2023-12-16T10:14:08.518Z"
   },
   {
    "duration": 21,
    "start_time": "2023-12-16T10:14:18.578Z"
   },
   {
    "duration": 8,
    "start_time": "2023-12-16T10:18:40.551Z"
   },
   {
    "duration": 5,
    "start_time": "2023-12-16T10:19:51.316Z"
   },
   {
    "duration": 2,
    "start_time": "2023-12-16T10:21:26.160Z"
   },
   {
    "duration": 82,
    "start_time": "2023-12-16T10:21:26.164Z"
   },
   {
    "duration": 9,
    "start_time": "2023-12-16T10:21:26.247Z"
   },
   {
    "duration": 12,
    "start_time": "2023-12-16T10:21:26.258Z"
   },
   {
    "duration": 20,
    "start_time": "2023-12-16T10:21:26.273Z"
   },
   {
    "duration": 14,
    "start_time": "2023-12-16T10:21:26.294Z"
   },
   {
    "duration": 6,
    "start_time": "2023-12-16T10:21:26.310Z"
   },
   {
    "duration": 15,
    "start_time": "2023-12-16T10:21:26.317Z"
   },
   {
    "duration": 5,
    "start_time": "2023-12-16T10:21:26.333Z"
   },
   {
    "duration": 6,
    "start_time": "2023-12-16T10:22:22.219Z"
   },
   {
    "duration": 5,
    "start_time": "2023-12-16T10:23:40.519Z"
   },
   {
    "duration": 5,
    "start_time": "2023-12-16T10:25:25.959Z"
   },
   {
    "duration": 11,
    "start_time": "2023-12-16T10:26:39.844Z"
   },
   {
    "duration": 7,
    "start_time": "2023-12-16T10:31:32.617Z"
   },
   {
    "duration": 14,
    "start_time": "2023-12-16T10:31:38.474Z"
   },
   {
    "duration": 5,
    "start_time": "2023-12-16T10:31:52.982Z"
   },
   {
    "duration": 956,
    "start_time": "2023-12-16T10:32:02.921Z"
   },
   {
    "duration": 887,
    "start_time": "2023-12-16T10:32:20.608Z"
   },
   {
    "duration": 901,
    "start_time": "2023-12-16T10:32:50.023Z"
   },
   {
    "duration": 3,
    "start_time": "2023-12-16T10:32:57.041Z"
   },
   {
    "duration": 67,
    "start_time": "2023-12-16T10:32:57.045Z"
   },
   {
    "duration": 10,
    "start_time": "2023-12-16T10:32:57.114Z"
   },
   {
    "duration": 14,
    "start_time": "2023-12-16T10:32:57.126Z"
   },
   {
    "duration": 10,
    "start_time": "2023-12-16T10:32:57.142Z"
   },
   {
    "duration": 26,
    "start_time": "2023-12-16T10:32:57.154Z"
   },
   {
    "duration": 6,
    "start_time": "2023-12-16T10:32:57.182Z"
   },
   {
    "duration": 29,
    "start_time": "2023-12-16T10:32:57.190Z"
   },
   {
    "duration": 9,
    "start_time": "2023-12-16T10:32:57.221Z"
   },
   {
    "duration": 7,
    "start_time": "2023-12-16T10:32:57.232Z"
   },
   {
    "duration": 3,
    "start_time": "2023-12-16T10:33:02.301Z"
   },
   {
    "duration": 96,
    "start_time": "2023-12-16T10:33:02.306Z"
   },
   {
    "duration": 8,
    "start_time": "2023-12-16T10:33:02.403Z"
   },
   {
    "duration": 11,
    "start_time": "2023-12-16T10:33:02.412Z"
   },
   {
    "duration": 11,
    "start_time": "2023-12-16T10:33:02.425Z"
   },
   {
    "duration": 19,
    "start_time": "2023-12-16T10:33:02.437Z"
   },
   {
    "duration": 5,
    "start_time": "2023-12-16T10:33:02.457Z"
   },
   {
    "duration": 26,
    "start_time": "2023-12-16T10:33:02.464Z"
   },
   {
    "duration": 8,
    "start_time": "2023-12-16T10:33:02.492Z"
   },
   {
    "duration": 13,
    "start_time": "2023-12-16T10:33:02.502Z"
   },
   {
    "duration": 14,
    "start_time": "2023-12-16T10:33:11.062Z"
   },
   {
    "duration": 9,
    "start_time": "2023-12-16T10:33:33.012Z"
   },
   {
    "duration": 910,
    "start_time": "2023-12-16T10:35:10.645Z"
   },
   {
    "duration": 2,
    "start_time": "2023-12-16T10:35:46.630Z"
   },
   {
    "duration": 67,
    "start_time": "2023-12-16T10:35:46.634Z"
   },
   {
    "duration": 9,
    "start_time": "2023-12-16T10:35:46.702Z"
   },
   {
    "duration": 12,
    "start_time": "2023-12-16T10:35:46.712Z"
   },
   {
    "duration": 9,
    "start_time": "2023-12-16T10:35:46.725Z"
   },
   {
    "duration": 17,
    "start_time": "2023-12-16T10:35:46.736Z"
   },
   {
    "duration": 5,
    "start_time": "2023-12-16T10:35:46.754Z"
   },
   {
    "duration": 6,
    "start_time": "2023-12-16T10:35:46.760Z"
   },
   {
    "duration": 5,
    "start_time": "2023-12-16T10:35:46.767Z"
   },
   {
    "duration": 6,
    "start_time": "2023-12-16T10:35:46.773Z"
   },
   {
    "duration": 2,
    "start_time": "2023-12-16T10:35:58.236Z"
   },
   {
    "duration": 79,
    "start_time": "2023-12-16T10:35:58.240Z"
   },
   {
    "duration": 9,
    "start_time": "2023-12-16T10:35:58.320Z"
   },
   {
    "duration": 12,
    "start_time": "2023-12-16T10:35:58.330Z"
   },
   {
    "duration": 10,
    "start_time": "2023-12-16T10:35:58.343Z"
   },
   {
    "duration": 16,
    "start_time": "2023-12-16T10:35:58.354Z"
   },
   {
    "duration": 6,
    "start_time": "2023-12-16T10:35:58.371Z"
   },
   {
    "duration": 6,
    "start_time": "2023-12-16T10:35:58.378Z"
   },
   {
    "duration": 7,
    "start_time": "2023-12-16T10:35:58.385Z"
   },
   {
    "duration": 25,
    "start_time": "2023-12-16T10:35:58.393Z"
   },
   {
    "duration": 3,
    "start_time": "2023-12-16T10:36:16.851Z"
   },
   {
    "duration": 70,
    "start_time": "2023-12-16T10:36:16.856Z"
   },
   {
    "duration": 9,
    "start_time": "2023-12-16T10:36:16.927Z"
   },
   {
    "duration": 9,
    "start_time": "2023-12-16T10:36:16.937Z"
   },
   {
    "duration": 16,
    "start_time": "2023-12-16T10:36:16.948Z"
   },
   {
    "duration": 22,
    "start_time": "2023-12-16T10:36:16.965Z"
   },
   {
    "duration": 6,
    "start_time": "2023-12-16T10:36:16.989Z"
   },
   {
    "duration": 6,
    "start_time": "2023-12-16T10:36:16.996Z"
   },
   {
    "duration": 6,
    "start_time": "2023-12-16T10:36:17.011Z"
   },
   {
    "duration": 14,
    "start_time": "2023-12-16T10:36:17.018Z"
   },
   {
    "duration": 14,
    "start_time": "2023-12-16T10:36:32.393Z"
   },
   {
    "duration": 13,
    "start_time": "2023-12-16T10:37:27.948Z"
   },
   {
    "duration": 10,
    "start_time": "2023-12-16T10:38:15.521Z"
   },
   {
    "duration": 11,
    "start_time": "2023-12-16T10:38:15.532Z"
   },
   {
    "duration": 11,
    "start_time": "2023-12-16T10:38:15.544Z"
   },
   {
    "duration": 26,
    "start_time": "2023-12-16T10:38:15.556Z"
   },
   {
    "duration": 6,
    "start_time": "2023-12-16T10:38:15.584Z"
   },
   {
    "duration": 7,
    "start_time": "2023-12-16T10:38:15.591Z"
   },
   {
    "duration": 5,
    "start_time": "2023-12-16T10:38:15.611Z"
   },
   {
    "duration": 13,
    "start_time": "2023-12-16T10:38:15.618Z"
   },
   {
    "duration": 15,
    "start_time": "2023-12-16T10:39:05.070Z"
   },
   {
    "duration": 10,
    "start_time": "2023-12-16T10:40:06.294Z"
   },
   {
    "duration": 18,
    "start_time": "2023-12-16T10:40:14.800Z"
   },
   {
    "duration": 16,
    "start_time": "2023-12-16T10:40:57.187Z"
   },
   {
    "duration": 13,
    "start_time": "2023-12-16T10:41:42.637Z"
   },
   {
    "duration": 740,
    "start_time": "2023-12-16T11:01:35.889Z"
   },
   {
    "duration": 442,
    "start_time": "2023-12-16T11:02:45.950Z"
   },
   {
    "duration": 275,
    "start_time": "2023-12-16T11:03:00.020Z"
   },
   {
    "duration": 284,
    "start_time": "2023-12-16T11:03:42.866Z"
   },
   {
    "duration": 347,
    "start_time": "2023-12-16T11:04:02.811Z"
   },
   {
    "duration": 342,
    "start_time": "2023-12-16T11:04:51.442Z"
   },
   {
    "duration": 398,
    "start_time": "2023-12-16T11:05:33.342Z"
   },
   {
    "duration": 65,
    "start_time": "2023-12-16T11:05:33.742Z"
   },
   {
    "duration": 13,
    "start_time": "2023-12-16T11:05:33.809Z"
   },
   {
    "duration": 16,
    "start_time": "2023-12-16T11:05:33.824Z"
   },
   {
    "duration": 10,
    "start_time": "2023-12-16T11:05:33.843Z"
   },
   {
    "duration": 10,
    "start_time": "2023-12-16T11:05:33.854Z"
   },
   {
    "duration": 18,
    "start_time": "2023-12-16T11:05:33.865Z"
   },
   {
    "duration": 28,
    "start_time": "2023-12-16T11:05:33.884Z"
   },
   {
    "duration": 8,
    "start_time": "2023-12-16T11:05:33.915Z"
   },
   {
    "duration": 7,
    "start_time": "2023-12-16T11:05:33.925Z"
   },
   {
    "duration": 12,
    "start_time": "2023-12-16T11:05:33.934Z"
   },
   {
    "duration": 424,
    "start_time": "2023-12-16T11:05:33.947Z"
   },
   {
    "duration": 3,
    "start_time": "2023-12-16T11:06:14.098Z"
   },
   {
    "duration": 67,
    "start_time": "2023-12-16T11:06:14.103Z"
   },
   {
    "duration": 9,
    "start_time": "2023-12-16T11:06:14.171Z"
   },
   {
    "duration": 11,
    "start_time": "2023-12-16T11:06:14.181Z"
   },
   {
    "duration": 9,
    "start_time": "2023-12-16T11:06:14.195Z"
   },
   {
    "duration": 9,
    "start_time": "2023-12-16T11:06:14.205Z"
   },
   {
    "duration": 19,
    "start_time": "2023-12-16T11:06:14.216Z"
   },
   {
    "duration": 5,
    "start_time": "2023-12-16T11:06:14.237Z"
   },
   {
    "duration": 17,
    "start_time": "2023-12-16T11:06:14.244Z"
   },
   {
    "duration": 5,
    "start_time": "2023-12-16T11:06:14.263Z"
   },
   {
    "duration": 16,
    "start_time": "2023-12-16T11:06:14.269Z"
   },
   {
    "duration": 304,
    "start_time": "2023-12-16T11:06:14.286Z"
   },
   {
    "duration": 251,
    "start_time": "2023-12-16T11:06:29.050Z"
   },
   {
    "duration": 182,
    "start_time": "2023-12-16T11:06:39.728Z"
   },
   {
    "duration": 13,
    "start_time": "2023-12-16T11:07:58.663Z"
   },
   {
    "duration": 3,
    "start_time": "2023-12-16T11:26:42.138Z"
   },
   {
    "duration": 66,
    "start_time": "2023-12-16T11:26:42.145Z"
   },
   {
    "duration": 8,
    "start_time": "2023-12-16T11:26:42.213Z"
   },
   {
    "duration": 11,
    "start_time": "2023-12-16T11:26:42.223Z"
   },
   {
    "duration": 8,
    "start_time": "2023-12-16T11:26:42.236Z"
   },
   {
    "duration": 7,
    "start_time": "2023-12-16T11:26:42.246Z"
   },
   {
    "duration": 27,
    "start_time": "2023-12-16T11:26:42.254Z"
   },
   {
    "duration": 30,
    "start_time": "2023-12-16T11:26:42.283Z"
   },
   {
    "duration": 7,
    "start_time": "2023-12-16T11:26:42.315Z"
   },
   {
    "duration": 5,
    "start_time": "2023-12-16T11:26:42.324Z"
   },
   {
    "duration": 13,
    "start_time": "2023-12-16T11:26:42.332Z"
   },
   {
    "duration": 264,
    "start_time": "2023-12-16T11:26:42.347Z"
   },
   {
    "duration": 186,
    "start_time": "2023-12-16T11:26:42.612Z"
   },
   {
    "duration": 165,
    "start_time": "2023-12-16T11:26:42.800Z"
   },
   {
    "duration": 169,
    "start_time": "2023-12-16T11:29:21.425Z"
   },
   {
    "duration": 190,
    "start_time": "2023-12-16T11:29:36.984Z"
   },
   {
    "duration": 191,
    "start_time": "2023-12-16T11:29:45.458Z"
   },
   {
    "duration": 173,
    "start_time": "2023-12-16T11:37:43.003Z"
   },
   {
    "duration": 259,
    "start_time": "2023-12-16T11:37:55.338Z"
   },
   {
    "duration": 176,
    "start_time": "2023-12-16T11:40:26.649Z"
   },
   {
    "duration": 1102,
    "start_time": "2023-12-17T12:27:55.194Z"
   },
   {
    "duration": 227,
    "start_time": "2023-12-17T12:27:56.298Z"
   },
   {
    "duration": 10,
    "start_time": "2023-12-17T12:27:56.527Z"
   },
   {
    "duration": 40,
    "start_time": "2023-12-17T12:27:56.538Z"
   },
   {
    "duration": 77,
    "start_time": "2023-12-17T12:27:56.579Z"
   },
   {
    "duration": 35,
    "start_time": "2023-12-17T12:27:56.658Z"
   },
   {
    "duration": 45,
    "start_time": "2023-12-17T12:27:56.694Z"
   },
   {
    "duration": 8,
    "start_time": "2023-12-17T12:27:56.740Z"
   },
   {
    "duration": 51,
    "start_time": "2023-12-17T12:27:56.749Z"
   },
   {
    "duration": 16,
    "start_time": "2023-12-17T12:27:56.801Z"
   },
   {
    "duration": 34,
    "start_time": "2023-12-17T12:27:56.818Z"
   },
   {
    "duration": 223,
    "start_time": "2023-12-17T12:27:56.853Z"
   },
   {
    "duration": 167,
    "start_time": "2023-12-17T12:27:57.077Z"
   },
   {
    "duration": 145,
    "start_time": "2023-12-17T12:27:57.246Z"
   },
   {
    "duration": 138,
    "start_time": "2023-12-17T12:27:57.392Z"
   },
   {
    "duration": 145,
    "start_time": "2023-12-17T12:27:57.532Z"
   },
   {
    "duration": 16,
    "start_time": "2023-12-17T12:27:57.678Z"
   },
   {
    "duration": 18,
    "start_time": "2023-12-17T12:28:18.333Z"
   },
   {
    "duration": 3,
    "start_time": "2023-12-17T12:28:38.476Z"
   },
   {
    "duration": 71,
    "start_time": "2023-12-17T12:28:38.481Z"
   },
   {
    "duration": 7,
    "start_time": "2023-12-17T12:28:38.554Z"
   },
   {
    "duration": 9,
    "start_time": "2023-12-17T12:28:38.562Z"
   },
   {
    "duration": 6,
    "start_time": "2023-12-17T12:28:38.572Z"
   },
   {
    "duration": 25,
    "start_time": "2023-12-17T12:28:38.580Z"
   },
   {
    "duration": 21,
    "start_time": "2023-12-17T12:28:38.606Z"
   },
   {
    "duration": 5,
    "start_time": "2023-12-17T12:28:38.628Z"
   },
   {
    "duration": 21,
    "start_time": "2023-12-17T12:28:38.634Z"
   },
   {
    "duration": 6,
    "start_time": "2023-12-17T12:28:38.656Z"
   },
   {
    "duration": 11,
    "start_time": "2023-12-17T12:28:38.664Z"
   },
   {
    "duration": 199,
    "start_time": "2023-12-17T12:28:38.676Z"
   },
   {
    "duration": 156,
    "start_time": "2023-12-17T12:28:38.876Z"
   },
   {
    "duration": 151,
    "start_time": "2023-12-17T12:28:39.035Z"
   },
   {
    "duration": 140,
    "start_time": "2023-12-17T12:28:39.187Z"
   },
   {
    "duration": 156,
    "start_time": "2023-12-17T12:28:39.328Z"
   },
   {
    "duration": 16,
    "start_time": "2023-12-17T12:28:39.486Z"
   },
   {
    "duration": 20,
    "start_time": "2023-12-17T12:28:39.504Z"
   },
   {
    "duration": 15,
    "start_time": "2023-12-17T12:30:38.564Z"
   },
   {
    "duration": 10,
    "start_time": "2023-12-17T12:31:01.202Z"
   },
   {
    "duration": 84,
    "start_time": "2023-12-17T12:33:54.731Z"
   },
   {
    "duration": 13,
    "start_time": "2023-12-17T12:33:59.119Z"
   },
   {
    "duration": 11,
    "start_time": "2023-12-17T12:34:15.211Z"
   },
   {
    "duration": 56,
    "start_time": "2023-12-17T12:35:37.747Z"
   },
   {
    "duration": 133,
    "start_time": "2023-12-17T12:40:53.474Z"
   },
   {
    "duration": 140,
    "start_time": "2023-12-17T12:41:24.685Z"
   },
   {
    "duration": 132,
    "start_time": "2023-12-17T12:41:35.049Z"
   },
   {
    "duration": 99,
    "start_time": "2023-12-17T12:41:43.406Z"
   },
   {
    "duration": 107,
    "start_time": "2023-12-17T12:41:49.044Z"
   },
   {
    "duration": 135,
    "start_time": "2023-12-17T12:41:54.409Z"
   },
   {
    "duration": 161,
    "start_time": "2023-12-17T12:43:00.771Z"
   },
   {
    "duration": 139,
    "start_time": "2023-12-17T12:43:14.141Z"
   },
   {
    "duration": 162,
    "start_time": "2023-12-17T12:44:39.134Z"
   },
   {
    "duration": 2,
    "start_time": "2023-12-17T12:44:48.837Z"
   },
   {
    "duration": 64,
    "start_time": "2023-12-17T12:44:48.840Z"
   },
   {
    "duration": 7,
    "start_time": "2023-12-17T12:44:48.905Z"
   },
   {
    "duration": 23,
    "start_time": "2023-12-17T12:44:48.914Z"
   },
   {
    "duration": 10,
    "start_time": "2023-12-17T12:44:48.941Z"
   },
   {
    "duration": 11,
    "start_time": "2023-12-17T12:44:48.953Z"
   },
   {
    "duration": 11,
    "start_time": "2023-12-17T12:44:48.965Z"
   },
   {
    "duration": 4,
    "start_time": "2023-12-17T12:44:48.977Z"
   },
   {
    "duration": 9,
    "start_time": "2023-12-17T12:44:48.982Z"
   },
   {
    "duration": 4,
    "start_time": "2023-12-17T12:44:48.992Z"
   },
   {
    "duration": 28,
    "start_time": "2023-12-17T12:44:48.998Z"
   },
   {
    "duration": 217,
    "start_time": "2023-12-17T12:44:49.029Z"
   },
   {
    "duration": 168,
    "start_time": "2023-12-17T12:44:49.247Z"
   },
   {
    "duration": 203,
    "start_time": "2023-12-17T12:44:49.427Z"
   },
   {
    "duration": 139,
    "start_time": "2023-12-17T12:44:49.632Z"
   },
   {
    "duration": 167,
    "start_time": "2023-12-17T12:44:49.773Z"
   },
   {
    "duration": 26,
    "start_time": "2023-12-17T12:44:49.942Z"
   },
   {
    "duration": 13,
    "start_time": "2023-12-17T12:44:49.970Z"
   },
   {
    "duration": 40,
    "start_time": "2023-12-17T12:44:49.984Z"
   },
   {
    "duration": 11,
    "start_time": "2023-12-17T12:44:50.033Z"
   },
   {
    "duration": 15,
    "start_time": "2023-12-17T12:44:50.045Z"
   },
   {
    "duration": 11,
    "start_time": "2023-12-17T12:44:50.062Z"
   },
   {
    "duration": 153,
    "start_time": "2023-12-17T12:44:50.074Z"
   },
   {
    "duration": 133,
    "start_time": "2023-12-17T12:44:50.229Z"
   },
   {
    "duration": 163,
    "start_time": "2023-12-17T12:44:50.364Z"
   },
   {
    "duration": 2,
    "start_time": "2023-12-17T12:45:30.203Z"
   },
   {
    "duration": 90,
    "start_time": "2023-12-17T12:45:30.208Z"
   },
   {
    "duration": 8,
    "start_time": "2023-12-17T12:45:30.299Z"
   },
   {
    "duration": 34,
    "start_time": "2023-12-17T12:45:30.308Z"
   },
   {
    "duration": 68,
    "start_time": "2023-12-17T12:45:30.344Z"
   },
   {
    "duration": 40,
    "start_time": "2023-12-17T12:45:30.413Z"
   },
   {
    "duration": 45,
    "start_time": "2023-12-17T12:45:30.454Z"
   },
   {
    "duration": 29,
    "start_time": "2023-12-17T12:45:30.500Z"
   },
   {
    "duration": 37,
    "start_time": "2023-12-17T12:45:30.530Z"
   },
   {
    "duration": 42,
    "start_time": "2023-12-17T12:45:30.569Z"
   },
   {
    "duration": 31,
    "start_time": "2023-12-17T12:45:30.612Z"
   },
   {
    "duration": 252,
    "start_time": "2023-12-17T12:45:30.645Z"
   },
   {
    "duration": 162,
    "start_time": "2023-12-17T12:45:30.898Z"
   },
   {
    "duration": 152,
    "start_time": "2023-12-17T12:45:31.062Z"
   },
   {
    "duration": 138,
    "start_time": "2023-12-17T12:45:31.215Z"
   },
   {
    "duration": 152,
    "start_time": "2023-12-17T12:45:31.354Z"
   },
   {
    "duration": 18,
    "start_time": "2023-12-17T12:45:31.507Z"
   },
   {
    "duration": 26,
    "start_time": "2023-12-17T12:45:31.527Z"
   },
   {
    "duration": 36,
    "start_time": "2023-12-17T12:45:31.555Z"
   },
   {
    "duration": 21,
    "start_time": "2023-12-17T12:45:31.592Z"
   },
   {
    "duration": 28,
    "start_time": "2023-12-17T12:45:31.615Z"
   },
   {
    "duration": 29,
    "start_time": "2023-12-17T12:45:31.644Z"
   },
   {
    "duration": 135,
    "start_time": "2023-12-17T12:45:31.674Z"
   },
   {
    "duration": 217,
    "start_time": "2023-12-17T12:45:31.810Z"
   },
   {
    "duration": 135,
    "start_time": "2023-12-17T12:45:32.028Z"
   },
   {
    "duration": 134,
    "start_time": "2023-12-17T12:47:15.331Z"
   },
   {
    "duration": 160,
    "start_time": "2023-12-17T12:47:15.467Z"
   },
   {
    "duration": 143,
    "start_time": "2023-12-17T12:50:02.927Z"
   },
   {
    "duration": 137,
    "start_time": "2023-12-17T12:50:03.072Z"
   },
   {
    "duration": 145,
    "start_time": "2023-12-17T12:50:03.211Z"
   },
   {
    "duration": 148,
    "start_time": "2023-12-17T12:50:03.357Z"
   },
   {
    "duration": 140,
    "start_time": "2023-12-17T12:51:15.247Z"
   },
   {
    "duration": 146,
    "start_time": "2023-12-17T12:51:15.389Z"
   },
   {
    "duration": 148,
    "start_time": "2023-12-17T12:51:15.537Z"
   },
   {
    "duration": 149,
    "start_time": "2023-12-17T12:51:15.686Z"
   },
   {
    "duration": 299,
    "start_time": "2023-12-17T12:58:07.827Z"
   },
   {
    "duration": 141,
    "start_time": "2023-12-17T12:58:08.127Z"
   },
   {
    "duration": 141,
    "start_time": "2023-12-17T12:58:08.269Z"
   },
   {
    "duration": 5,
    "start_time": "2023-12-17T12:58:44.444Z"
   },
   {
    "duration": 70,
    "start_time": "2023-12-17T12:58:44.454Z"
   },
   {
    "duration": 10,
    "start_time": "2023-12-17T12:58:44.526Z"
   },
   {
    "duration": 11,
    "start_time": "2023-12-17T12:58:44.537Z"
   },
   {
    "duration": 12,
    "start_time": "2023-12-17T12:58:44.550Z"
   },
   {
    "duration": 6,
    "start_time": "2023-12-17T12:58:44.563Z"
   },
   {
    "duration": 11,
    "start_time": "2023-12-17T12:58:44.570Z"
   },
   {
    "duration": 4,
    "start_time": "2023-12-17T12:58:44.582Z"
   },
   {
    "duration": 16,
    "start_time": "2023-12-17T12:58:44.587Z"
   },
   {
    "duration": 7,
    "start_time": "2023-12-17T12:58:44.604Z"
   },
   {
    "duration": 14,
    "start_time": "2023-12-17T12:58:44.614Z"
   },
   {
    "duration": 218,
    "start_time": "2023-12-17T12:58:44.630Z"
   },
   {
    "duration": 182,
    "start_time": "2023-12-17T12:58:44.850Z"
   },
   {
    "duration": 154,
    "start_time": "2023-12-17T12:58:45.035Z"
   },
   {
    "duration": 151,
    "start_time": "2023-12-17T12:58:45.191Z"
   },
   {
    "duration": 154,
    "start_time": "2023-12-17T12:58:45.343Z"
   },
   {
    "duration": 31,
    "start_time": "2023-12-17T12:58:45.498Z"
   },
   {
    "duration": 10,
    "start_time": "2023-12-17T12:58:45.530Z"
   },
   {
    "duration": 27,
    "start_time": "2023-12-17T12:58:45.541Z"
   },
   {
    "duration": 11,
    "start_time": "2023-12-17T12:58:45.569Z"
   },
   {
    "duration": 12,
    "start_time": "2023-12-17T12:58:45.581Z"
   },
   {
    "duration": 16,
    "start_time": "2023-12-17T12:58:45.594Z"
   },
   {
    "duration": 165,
    "start_time": "2023-12-17T12:58:45.611Z"
   },
   {
    "duration": 134,
    "start_time": "2023-12-17T12:58:45.777Z"
   },
   {
    "duration": 179,
    "start_time": "2023-12-17T12:58:45.914Z"
   },
   {
    "duration": 150,
    "start_time": "2023-12-17T12:58:46.095Z"
   },
   {
    "duration": 151,
    "start_time": "2023-12-17T12:58:46.246Z"
   },
   {
    "duration": 181,
    "start_time": "2023-12-17T12:59:52.157Z"
   },
   {
    "duration": 150,
    "start_time": "2023-12-17T12:59:52.340Z"
   },
   {
    "duration": 156,
    "start_time": "2023-12-17T12:59:52.491Z"
   },
   {
    "duration": 3,
    "start_time": "2023-12-17T13:01:08.552Z"
   },
   {
    "duration": 81,
    "start_time": "2023-12-17T13:01:08.557Z"
   },
   {
    "duration": 7,
    "start_time": "2023-12-17T13:01:08.639Z"
   },
   {
    "duration": 11,
    "start_time": "2023-12-17T13:01:08.647Z"
   },
   {
    "duration": 18,
    "start_time": "2023-12-17T13:01:08.659Z"
   },
   {
    "duration": 6,
    "start_time": "2023-12-17T13:01:08.678Z"
   },
   {
    "duration": 16,
    "start_time": "2023-12-17T13:01:08.685Z"
   },
   {
    "duration": 5,
    "start_time": "2023-12-17T13:01:08.702Z"
   },
   {
    "duration": 4,
    "start_time": "2023-12-17T13:01:08.708Z"
   },
   {
    "duration": 15,
    "start_time": "2023-12-17T13:01:08.714Z"
   },
   {
    "duration": 18,
    "start_time": "2023-12-17T13:01:08.730Z"
   },
   {
    "duration": 202,
    "start_time": "2023-12-17T13:01:08.749Z"
   },
   {
    "duration": 254,
    "start_time": "2023-12-17T13:01:08.953Z"
   },
   {
    "duration": 158,
    "start_time": "2023-12-17T13:01:09.208Z"
   },
   {
    "duration": 137,
    "start_time": "2023-12-17T13:01:09.367Z"
   },
   {
    "duration": 155,
    "start_time": "2023-12-17T13:01:09.505Z"
   },
   {
    "duration": 17,
    "start_time": "2023-12-17T13:01:09.661Z"
   },
   {
    "duration": 10,
    "start_time": "2023-12-17T13:01:09.679Z"
   },
   {
    "duration": 38,
    "start_time": "2023-12-17T13:01:09.690Z"
   },
   {
    "duration": 11,
    "start_time": "2023-12-17T13:01:09.730Z"
   },
   {
    "duration": 15,
    "start_time": "2023-12-17T13:01:09.742Z"
   },
   {
    "duration": 29,
    "start_time": "2023-12-17T13:01:09.758Z"
   },
   {
    "duration": 146,
    "start_time": "2023-12-17T13:01:09.789Z"
   },
   {
    "duration": 151,
    "start_time": "2023-12-17T13:01:09.937Z"
   },
   {
    "duration": 188,
    "start_time": "2023-12-17T13:01:10.089Z"
   },
   {
    "duration": 175,
    "start_time": "2023-12-17T13:01:10.278Z"
   },
   {
    "duration": 153,
    "start_time": "2023-12-17T13:01:10.454Z"
   },
   {
    "duration": 199,
    "start_time": "2023-12-17T13:01:31.687Z"
   },
   {
    "duration": 150,
    "start_time": "2023-12-17T13:01:31.887Z"
   },
   {
    "duration": 158,
    "start_time": "2023-12-17T13:01:32.038Z"
   },
   {
    "duration": 133,
    "start_time": "2023-12-17T13:02:34.620Z"
   },
   {
    "duration": 147,
    "start_time": "2023-12-17T13:02:34.754Z"
   },
   {
    "duration": 202,
    "start_time": "2023-12-17T13:02:34.902Z"
   },
   {
    "duration": 154,
    "start_time": "2023-12-17T13:02:35.106Z"
   },
   {
    "duration": 162,
    "start_time": "2023-12-17T13:02:35.262Z"
   },
   {
    "duration": 131,
    "start_time": "2023-12-17T13:07:12.903Z"
   },
   {
    "duration": 139,
    "start_time": "2023-12-17T13:07:13.036Z"
   },
   {
    "duration": 307,
    "start_time": "2023-12-17T13:07:13.176Z"
   },
   {
    "duration": 146,
    "start_time": "2023-12-17T13:07:13.484Z"
   },
   {
    "duration": 145,
    "start_time": "2023-12-17T13:07:13.632Z"
   },
   {
    "duration": 120,
    "start_time": "2023-12-17T13:07:38.464Z"
   },
   {
    "duration": 139,
    "start_time": "2023-12-17T13:07:38.586Z"
   },
   {
    "duration": 189,
    "start_time": "2023-12-17T13:07:38.726Z"
   },
   {
    "duration": 149,
    "start_time": "2023-12-17T13:07:38.917Z"
   },
   {
    "duration": 163,
    "start_time": "2023-12-17T13:07:39.067Z"
   },
   {
    "duration": 129,
    "start_time": "2023-12-17T16:40:02.836Z"
   },
   {
    "duration": 149,
    "start_time": "2023-12-17T16:40:02.967Z"
   },
   {
    "duration": 161,
    "start_time": "2023-12-17T16:43:38.006Z"
   },
   {
    "duration": 166,
    "start_time": "2023-12-17T16:43:38.168Z"
   },
   {
    "duration": 159,
    "start_time": "2023-12-17T16:50:42.393Z"
   },
   {
    "duration": 151,
    "start_time": "2023-12-17T16:50:42.553Z"
   },
   {
    "duration": 156,
    "start_time": "2023-12-17T16:51:05.806Z"
   },
   {
    "duration": 153,
    "start_time": "2023-12-17T16:51:05.964Z"
   },
   {
    "duration": 3,
    "start_time": "2023-12-17T16:51:18.523Z"
   },
   {
    "duration": 65,
    "start_time": "2023-12-17T16:51:18.528Z"
   },
   {
    "duration": 7,
    "start_time": "2023-12-17T16:51:18.594Z"
   },
   {
    "duration": 9,
    "start_time": "2023-12-17T16:51:18.602Z"
   },
   {
    "duration": 7,
    "start_time": "2023-12-17T16:51:18.613Z"
   },
   {
    "duration": 7,
    "start_time": "2023-12-17T16:51:18.621Z"
   },
   {
    "duration": 15,
    "start_time": "2023-12-17T16:51:18.630Z"
   },
   {
    "duration": 5,
    "start_time": "2023-12-17T16:51:18.647Z"
   },
   {
    "duration": 11,
    "start_time": "2023-12-17T16:51:18.653Z"
   },
   {
    "duration": 4,
    "start_time": "2023-12-17T16:51:18.665Z"
   },
   {
    "duration": 21,
    "start_time": "2023-12-17T16:51:18.671Z"
   },
   {
    "duration": 216,
    "start_time": "2023-12-17T16:51:18.694Z"
   },
   {
    "duration": 162,
    "start_time": "2023-12-17T16:51:18.915Z"
   },
   {
    "duration": 158,
    "start_time": "2023-12-17T16:51:19.079Z"
   },
   {
    "duration": 146,
    "start_time": "2023-12-17T16:51:19.239Z"
   },
   {
    "duration": 158,
    "start_time": "2023-12-17T16:51:19.386Z"
   },
   {
    "duration": 17,
    "start_time": "2023-12-17T16:51:19.546Z"
   },
   {
    "duration": 10,
    "start_time": "2023-12-17T16:51:19.564Z"
   },
   {
    "duration": 15,
    "start_time": "2023-12-17T16:51:19.575Z"
   },
   {
    "duration": 31,
    "start_time": "2023-12-17T16:51:19.591Z"
   },
   {
    "duration": 14,
    "start_time": "2023-12-17T16:51:19.623Z"
   },
   {
    "duration": 162,
    "start_time": "2023-12-17T16:51:19.638Z"
   },
   {
    "duration": 148,
    "start_time": "2023-12-17T16:51:19.801Z"
   },
   {
    "duration": 136,
    "start_time": "2023-12-17T16:51:19.950Z"
   },
   {
    "duration": 154,
    "start_time": "2023-12-17T16:51:20.087Z"
   },
   {
    "duration": 216,
    "start_time": "2023-12-17T16:51:20.243Z"
   },
   {
    "duration": 146,
    "start_time": "2023-12-17T16:51:20.460Z"
   },
   {
    "duration": 153,
    "start_time": "2023-12-17T16:51:20.608Z"
   },
   {
    "duration": 162,
    "start_time": "2023-12-17T16:51:20.763Z"
   },
   {
    "duration": 153,
    "start_time": "2023-12-17T16:51:20.927Z"
   },
   {
    "duration": 166,
    "start_time": "2023-12-17T16:52:00.231Z"
   },
   {
    "duration": 169,
    "start_time": "2023-12-17T16:52:00.399Z"
   },
   {
    "duration": 2,
    "start_time": "2023-12-17T16:52:03.677Z"
   },
   {
    "duration": 72,
    "start_time": "2023-12-17T16:52:03.680Z"
   },
   {
    "duration": 8,
    "start_time": "2023-12-17T16:52:03.753Z"
   },
   {
    "duration": 9,
    "start_time": "2023-12-17T16:52:03.762Z"
   },
   {
    "duration": 12,
    "start_time": "2023-12-17T16:52:03.772Z"
   },
   {
    "duration": 6,
    "start_time": "2023-12-17T16:52:03.786Z"
   },
   {
    "duration": 12,
    "start_time": "2023-12-17T16:52:03.794Z"
   },
   {
    "duration": 10,
    "start_time": "2023-12-17T16:52:03.808Z"
   },
   {
    "duration": 5,
    "start_time": "2023-12-17T16:52:03.819Z"
   },
   {
    "duration": 8,
    "start_time": "2023-12-17T16:52:03.826Z"
   },
   {
    "duration": 13,
    "start_time": "2023-12-17T16:52:03.835Z"
   },
   {
    "duration": 227,
    "start_time": "2023-12-17T16:52:03.850Z"
   },
   {
    "duration": 184,
    "start_time": "2023-12-17T16:52:04.080Z"
   },
   {
    "duration": 165,
    "start_time": "2023-12-17T16:52:04.265Z"
   },
   {
    "duration": 144,
    "start_time": "2023-12-17T16:52:04.432Z"
   },
   {
    "duration": 169,
    "start_time": "2023-12-17T16:52:04.577Z"
   },
   {
    "duration": 16,
    "start_time": "2023-12-17T16:52:04.747Z"
   },
   {
    "duration": 9,
    "start_time": "2023-12-17T16:52:04.765Z"
   },
   {
    "duration": 17,
    "start_time": "2023-12-17T16:52:04.776Z"
   },
   {
    "duration": 26,
    "start_time": "2023-12-17T16:52:04.794Z"
   },
   {
    "duration": 14,
    "start_time": "2023-12-17T16:52:04.821Z"
   },
   {
    "duration": 12,
    "start_time": "2023-12-17T16:52:04.837Z"
   },
   {
    "duration": 168,
    "start_time": "2023-12-17T16:52:04.850Z"
   },
   {
    "duration": 137,
    "start_time": "2023-12-17T16:52:05.020Z"
   },
   {
    "duration": 157,
    "start_time": "2023-12-17T16:52:05.158Z"
   },
   {
    "duration": 205,
    "start_time": "2023-12-17T16:52:05.316Z"
   },
   {
    "duration": 152,
    "start_time": "2023-12-17T16:52:05.522Z"
   },
   {
    "duration": 128,
    "start_time": "2023-12-17T16:52:05.676Z"
   },
   {
    "duration": 193,
    "start_time": "2023-12-17T16:52:05.805Z"
   },
   {
    "duration": 186,
    "start_time": "2023-12-17T16:52:06.000Z"
   },
   {
    "duration": 145,
    "start_time": "2023-12-17T16:53:27.130Z"
   },
   {
    "duration": 174,
    "start_time": "2023-12-17T16:53:37.214Z"
   },
   {
    "duration": 8,
    "start_time": "2023-12-17T17:16:06.725Z"
   },
   {
    "duration": 10,
    "start_time": "2023-12-17T17:16:19.517Z"
   },
   {
    "duration": 7,
    "start_time": "2023-12-17T17:16:47.002Z"
   },
   {
    "duration": 7,
    "start_time": "2023-12-17T17:16:55.986Z"
   },
   {
    "duration": 8,
    "start_time": "2023-12-17T17:17:02.133Z"
   },
   {
    "duration": 11,
    "start_time": "2023-12-17T17:18:21.000Z"
   },
   {
    "duration": 21,
    "start_time": "2023-12-17T17:18:40.347Z"
   },
   {
    "duration": 21,
    "start_time": "2023-12-17T17:19:01.629Z"
   },
   {
    "duration": 14,
    "start_time": "2023-12-17T17:20:06.495Z"
   },
   {
    "duration": 371,
    "start_time": "2023-12-17T17:20:29.468Z"
   },
   {
    "duration": 15,
    "start_time": "2023-12-17T17:20:29.840Z"
   },
   {
    "duration": 15,
    "start_time": "2023-12-17T17:21:16.789Z"
   },
   {
    "duration": 8,
    "start_time": "2023-12-17T17:26:34.488Z"
   },
   {
    "duration": 216,
    "start_time": "2023-12-17T17:26:34.497Z"
   },
   {
    "duration": 177,
    "start_time": "2023-12-17T17:26:34.715Z"
   },
   {
    "duration": 167,
    "start_time": "2023-12-17T17:26:34.895Z"
   },
   {
    "duration": 164,
    "start_time": "2023-12-17T17:26:35.064Z"
   },
   {
    "duration": 155,
    "start_time": "2023-12-17T17:26:35.233Z"
   },
   {
    "duration": 16,
    "start_time": "2023-12-17T17:26:35.391Z"
   },
   {
    "duration": 12,
    "start_time": "2023-12-17T17:26:35.415Z"
   },
   {
    "duration": 22,
    "start_time": "2023-12-17T17:26:35.429Z"
   },
   {
    "duration": 10,
    "start_time": "2023-12-17T17:26:35.452Z"
   },
   {
    "duration": 16,
    "start_time": "2023-12-17T17:26:35.463Z"
   },
   {
    "duration": 18,
    "start_time": "2023-12-17T17:26:35.480Z"
   },
   {
    "duration": 161,
    "start_time": "2023-12-17T17:26:35.499Z"
   },
   {
    "duration": 146,
    "start_time": "2023-12-17T17:26:35.661Z"
   },
   {
    "duration": 148,
    "start_time": "2023-12-17T17:26:35.809Z"
   },
   {
    "duration": 199,
    "start_time": "2023-12-17T17:26:35.958Z"
   },
   {
    "duration": 159,
    "start_time": "2023-12-17T17:26:36.158Z"
   },
   {
    "duration": 142,
    "start_time": "2023-12-17T17:26:36.318Z"
   },
   {
    "duration": 163,
    "start_time": "2023-12-17T17:26:36.461Z"
   },
   {
    "duration": 199,
    "start_time": "2023-12-17T17:26:36.626Z"
   },
   {
    "duration": 16,
    "start_time": "2023-12-17T17:26:36.828Z"
   },
   {
    "duration": 184,
    "start_time": "2023-12-17T17:27:43.534Z"
   },
   {
    "duration": 17,
    "start_time": "2023-12-17T17:27:43.719Z"
   },
   {
    "duration": 15,
    "start_time": "2023-12-17T17:28:54.535Z"
   },
   {
    "duration": 15,
    "start_time": "2023-12-17T17:29:04.552Z"
   },
   {
    "duration": 20,
    "start_time": "2023-12-17T17:29:52.019Z"
   },
   {
    "duration": 15,
    "start_time": "2023-12-17T18:13:11.388Z"
   },
   {
    "duration": 3,
    "start_time": "2023-12-17T18:13:15.227Z"
   },
   {
    "duration": 64,
    "start_time": "2023-12-17T18:13:15.231Z"
   },
   {
    "duration": 7,
    "start_time": "2023-12-17T18:13:15.297Z"
   },
   {
    "duration": 8,
    "start_time": "2023-12-17T18:13:15.306Z"
   },
   {
    "duration": 6,
    "start_time": "2023-12-17T18:13:15.315Z"
   },
   {
    "duration": 7,
    "start_time": "2023-12-17T18:13:15.323Z"
   },
   {
    "duration": 12,
    "start_time": "2023-12-17T18:13:15.331Z"
   },
   {
    "duration": 4,
    "start_time": "2023-12-17T18:13:15.345Z"
   },
   {
    "duration": 5,
    "start_time": "2023-12-17T18:13:15.352Z"
   },
   {
    "duration": 4,
    "start_time": "2023-12-17T18:13:15.358Z"
   },
   {
    "duration": 10,
    "start_time": "2023-12-17T18:13:15.363Z"
   },
   {
    "duration": 41,
    "start_time": "2023-12-17T18:13:15.375Z"
   },
   {
    "duration": 203,
    "start_time": "2023-12-17T18:13:15.418Z"
   },
   {
    "duration": 166,
    "start_time": "2023-12-17T18:13:15.622Z"
   },
   {
    "duration": 141,
    "start_time": "2023-12-17T18:13:15.790Z"
   },
   {
    "duration": 136,
    "start_time": "2023-12-17T18:13:15.933Z"
   },
   {
    "duration": 157,
    "start_time": "2023-12-17T18:13:16.070Z"
   },
   {
    "duration": 14,
    "start_time": "2023-12-17T18:13:16.229Z"
   },
   {
    "duration": 9,
    "start_time": "2023-12-17T18:13:16.244Z"
   },
   {
    "duration": 13,
    "start_time": "2023-12-17T18:13:16.254Z"
   },
   {
    "duration": 10,
    "start_time": "2023-12-17T18:13:16.269Z"
   },
   {
    "duration": 38,
    "start_time": "2023-12-17T18:13:16.280Z"
   },
   {
    "duration": 12,
    "start_time": "2023-12-17T18:13:16.319Z"
   },
   {
    "duration": 149,
    "start_time": "2023-12-17T18:13:16.333Z"
   },
   {
    "duration": 129,
    "start_time": "2023-12-17T18:13:16.483Z"
   },
   {
    "duration": 143,
    "start_time": "2023-12-17T18:13:16.614Z"
   },
   {
    "duration": 192,
    "start_time": "2023-12-17T18:13:16.758Z"
   },
   {
    "duration": 144,
    "start_time": "2023-12-17T18:13:16.951Z"
   },
   {
    "duration": 140,
    "start_time": "2023-12-17T18:13:17.096Z"
   },
   {
    "duration": 157,
    "start_time": "2023-12-17T18:13:17.237Z"
   },
   {
    "duration": 388,
    "start_time": "2023-12-17T18:13:17.395Z"
   },
   {
    "duration": 17,
    "start_time": "2023-12-17T18:13:17.785Z"
   },
   {
    "duration": 1152,
    "start_time": "2023-12-17T18:19:05.964Z"
   },
   {
    "duration": 25,
    "start_time": "2023-12-17T18:19:39.713Z"
   },
   {
    "duration": 24,
    "start_time": "2023-12-17T18:21:40.884Z"
   },
   {
    "duration": 26,
    "start_time": "2023-12-17T18:22:37.908Z"
   },
   {
    "duration": 24,
    "start_time": "2023-12-17T18:23:25.628Z"
   },
   {
    "duration": 301,
    "start_time": "2023-12-17T18:24:03.041Z"
   },
   {
    "duration": 33,
    "start_time": "2023-12-17T18:24:17.301Z"
   },
   {
    "duration": 26,
    "start_time": "2023-12-17T18:27:31.539Z"
   },
   {
    "duration": 26,
    "start_time": "2023-12-17T18:29:43.243Z"
   },
   {
    "duration": 1382,
    "start_time": "2023-12-17T18:30:25.616Z"
   },
   {
    "duration": 27,
    "start_time": "2023-12-17T18:30:49.313Z"
   },
   {
    "duration": 24,
    "start_time": "2023-12-17T18:33:56.013Z"
   },
   {
    "duration": 3,
    "start_time": "2023-12-17T18:34:28.268Z"
   },
   {
    "duration": 86,
    "start_time": "2023-12-17T18:34:28.272Z"
   },
   {
    "duration": 7,
    "start_time": "2023-12-17T18:34:28.359Z"
   },
   {
    "duration": 12,
    "start_time": "2023-12-17T18:34:28.367Z"
   },
   {
    "duration": 12,
    "start_time": "2023-12-17T18:34:28.381Z"
   },
   {
    "duration": 29,
    "start_time": "2023-12-17T18:34:28.394Z"
   },
   {
    "duration": 22,
    "start_time": "2023-12-17T18:34:28.424Z"
   },
   {
    "duration": 4,
    "start_time": "2023-12-17T18:34:28.447Z"
   },
   {
    "duration": 5,
    "start_time": "2023-12-17T18:34:28.453Z"
   },
   {
    "duration": 4,
    "start_time": "2023-12-17T18:34:28.459Z"
   },
   {
    "duration": 12,
    "start_time": "2023-12-17T18:34:28.464Z"
   },
   {
    "duration": 8,
    "start_time": "2023-12-17T18:34:28.477Z"
   },
   {
    "duration": 226,
    "start_time": "2023-12-17T18:34:28.486Z"
   },
   {
    "duration": 162,
    "start_time": "2023-12-17T18:34:28.716Z"
   },
   {
    "duration": 150,
    "start_time": "2023-12-17T18:34:28.880Z"
   },
   {
    "duration": 138,
    "start_time": "2023-12-17T18:34:29.032Z"
   },
   {
    "duration": 154,
    "start_time": "2023-12-17T18:34:29.172Z"
   },
   {
    "duration": 14,
    "start_time": "2023-12-17T18:34:29.327Z"
   },
   {
    "duration": 10,
    "start_time": "2023-12-17T18:34:29.342Z"
   },
   {
    "duration": 14,
    "start_time": "2023-12-17T18:34:29.353Z"
   },
   {
    "duration": 11,
    "start_time": "2023-12-17T18:34:29.367Z"
   },
   {
    "duration": 38,
    "start_time": "2023-12-17T18:34:29.379Z"
   },
   {
    "duration": 11,
    "start_time": "2023-12-17T18:34:29.418Z"
   },
   {
    "duration": 149,
    "start_time": "2023-12-17T18:34:29.430Z"
   },
   {
    "duration": 138,
    "start_time": "2023-12-17T18:34:29.581Z"
   },
   {
    "duration": 134,
    "start_time": "2023-12-17T18:34:29.720Z"
   },
   {
    "duration": 193,
    "start_time": "2023-12-17T18:34:29.856Z"
   },
   {
    "duration": 142,
    "start_time": "2023-12-17T18:34:30.050Z"
   },
   {
    "duration": 142,
    "start_time": "2023-12-17T18:34:30.193Z"
   },
   {
    "duration": 177,
    "start_time": "2023-12-17T18:34:30.337Z"
   },
   {
    "duration": 201,
    "start_time": "2023-12-17T18:34:30.515Z"
   },
   {
    "duration": 28,
    "start_time": "2023-12-17T18:34:30.718Z"
   },
   {
    "duration": 20,
    "start_time": "2023-12-17T18:34:30.747Z"
   },
   {
    "duration": 286,
    "start_time": "2023-12-17T18:34:38.077Z"
   },
   {
    "duration": 2,
    "start_time": "2023-12-17T18:34:59.227Z"
   },
   {
    "duration": 62,
    "start_time": "2023-12-17T18:34:59.231Z"
   },
   {
    "duration": 7,
    "start_time": "2023-12-17T18:34:59.294Z"
   },
   {
    "duration": 12,
    "start_time": "2023-12-17T18:34:59.302Z"
   },
   {
    "duration": 7,
    "start_time": "2023-12-17T18:34:59.315Z"
   },
   {
    "duration": 7,
    "start_time": "2023-12-17T18:34:59.323Z"
   },
   {
    "duration": 11,
    "start_time": "2023-12-17T18:34:59.331Z"
   },
   {
    "duration": 6,
    "start_time": "2023-12-17T18:34:59.343Z"
   },
   {
    "duration": 5,
    "start_time": "2023-12-17T18:34:59.350Z"
   },
   {
    "duration": 4,
    "start_time": "2023-12-17T18:34:59.358Z"
   },
   {
    "duration": 11,
    "start_time": "2023-12-17T18:34:59.364Z"
   },
   {
    "duration": 40,
    "start_time": "2023-12-17T18:34:59.376Z"
   },
   {
    "duration": 205,
    "start_time": "2023-12-17T18:34:59.417Z"
   },
   {
    "duration": 164,
    "start_time": "2023-12-17T18:34:59.623Z"
   },
   {
    "duration": 145,
    "start_time": "2023-12-17T18:34:59.788Z"
   },
   {
    "duration": 147,
    "start_time": "2023-12-17T18:34:59.934Z"
   },
   {
    "duration": 154,
    "start_time": "2023-12-17T18:35:00.082Z"
   },
   {
    "duration": 14,
    "start_time": "2023-12-17T18:35:00.237Z"
   },
   {
    "duration": 158,
    "start_time": "2023-12-17T18:35:00.253Z"
   },
   {
    "duration": 119,
    "start_time": "2023-12-17T18:35:00.412Z"
   },
   {
    "duration": 47,
    "start_time": "2023-12-17T18:35:00.532Z"
   },
   {
    "duration": 27,
    "start_time": "2023-12-17T18:35:00.580Z"
   },
   {
    "duration": 50,
    "start_time": "2023-12-17T18:35:00.609Z"
   },
   {
    "duration": 162,
    "start_time": "2023-12-17T18:35:00.661Z"
   },
   {
    "duration": 130,
    "start_time": "2023-12-17T18:35:00.825Z"
   },
   {
    "duration": 148,
    "start_time": "2023-12-17T18:35:00.956Z"
   },
   {
    "duration": 196,
    "start_time": "2023-12-17T18:35:01.105Z"
   },
   {
    "duration": 146,
    "start_time": "2023-12-17T18:35:01.304Z"
   },
   {
    "duration": 136,
    "start_time": "2023-12-17T18:35:01.451Z"
   },
   {
    "duration": 160,
    "start_time": "2023-12-17T18:35:01.588Z"
   },
   {
    "duration": 192,
    "start_time": "2023-12-17T18:35:01.749Z"
   },
   {
    "duration": 24,
    "start_time": "2023-12-17T18:35:01.942Z"
   },
   {
    "duration": 445,
    "start_time": "2023-12-17T18:35:01.967Z"
   },
   {
    "duration": 23,
    "start_time": "2023-12-17T18:35:30.574Z"
   },
   {
    "duration": 24,
    "start_time": "2023-12-17T18:36:58.479Z"
   },
   {
    "duration": 23,
    "start_time": "2023-12-17T18:38:28.285Z"
   },
   {
    "duration": 2,
    "start_time": "2023-12-17T18:41:36.153Z"
   },
   {
    "duration": 68,
    "start_time": "2023-12-17T18:41:36.157Z"
   },
   {
    "duration": 9,
    "start_time": "2023-12-17T18:41:36.226Z"
   },
   {
    "duration": 11,
    "start_time": "2023-12-17T18:41:36.238Z"
   },
   {
    "duration": 11,
    "start_time": "2023-12-17T18:41:36.251Z"
   },
   {
    "duration": 10,
    "start_time": "2023-12-17T18:41:36.263Z"
   },
   {
    "duration": 31,
    "start_time": "2023-12-17T18:41:36.275Z"
   },
   {
    "duration": 6,
    "start_time": "2023-12-17T18:41:36.307Z"
   },
   {
    "duration": 6,
    "start_time": "2023-12-17T18:41:36.314Z"
   },
   {
    "duration": 6,
    "start_time": "2023-12-17T18:41:36.323Z"
   },
   {
    "duration": 16,
    "start_time": "2023-12-17T18:41:36.330Z"
   },
   {
    "duration": 8,
    "start_time": "2023-12-17T18:41:36.348Z"
   },
   {
    "duration": 225,
    "start_time": "2023-12-17T18:41:36.358Z"
   },
   {
    "duration": 163,
    "start_time": "2023-12-17T18:41:36.585Z"
   },
   {
    "duration": 157,
    "start_time": "2023-12-17T18:41:36.750Z"
   },
   {
    "duration": 146,
    "start_time": "2023-12-17T18:41:36.908Z"
   },
   {
    "duration": 159,
    "start_time": "2023-12-17T18:41:37.056Z"
   },
   {
    "duration": 15,
    "start_time": "2023-12-17T18:41:37.217Z"
   },
   {
    "duration": 12,
    "start_time": "2023-12-17T18:41:37.234Z"
   },
   {
    "duration": 15,
    "start_time": "2023-12-17T18:41:37.247Z"
   },
   {
    "duration": 10,
    "start_time": "2023-12-17T18:41:37.263Z"
   },
   {
    "duration": 12,
    "start_time": "2023-12-17T18:41:37.274Z"
   },
   {
    "duration": 13,
    "start_time": "2023-12-17T18:41:37.316Z"
   },
   {
    "duration": 148,
    "start_time": "2023-12-17T18:41:37.331Z"
   },
   {
    "duration": 355,
    "start_time": "2023-12-17T18:41:37.480Z"
   },
   {
    "duration": 142,
    "start_time": "2023-12-17T18:41:37.837Z"
   },
   {
    "duration": 192,
    "start_time": "2023-12-17T18:41:37.980Z"
   },
   {
    "duration": 147,
    "start_time": "2023-12-17T18:41:38.175Z"
   },
   {
    "duration": 143,
    "start_time": "2023-12-17T18:41:38.323Z"
   },
   {
    "duration": 158,
    "start_time": "2023-12-17T18:41:38.468Z"
   },
   {
    "duration": 190,
    "start_time": "2023-12-17T18:41:38.628Z"
   },
   {
    "duration": 23,
    "start_time": "2023-12-17T18:41:38.819Z"
   },
   {
    "duration": 22,
    "start_time": "2023-12-17T18:41:38.843Z"
   },
   {
    "duration": 7,
    "start_time": "2023-12-17T18:41:38.866Z"
   },
   {
    "duration": 15,
    "start_time": "2023-12-17T18:41:38.874Z"
   },
   {
    "duration": 1250,
    "start_time": "2023-12-20T15:01:58.706Z"
   },
   {
    "duration": 246,
    "start_time": "2023-12-20T15:01:59.958Z"
   },
   {
    "duration": 13,
    "start_time": "2023-12-20T15:02:00.205Z"
   },
   {
    "duration": 43,
    "start_time": "2023-12-20T15:02:00.220Z"
   },
   {
    "duration": 20,
    "start_time": "2023-12-20T15:02:00.265Z"
   },
   {
    "duration": 43,
    "start_time": "2023-12-20T15:02:00.286Z"
   },
   {
    "duration": 47,
    "start_time": "2023-12-20T15:02:00.330Z"
   },
   {
    "duration": 20,
    "start_time": "2023-12-20T15:02:00.378Z"
   },
   {
    "duration": 35,
    "start_time": "2023-12-20T15:02:00.399Z"
   },
   {
    "duration": 32,
    "start_time": "2023-12-20T15:02:00.436Z"
   },
   {
    "duration": 61,
    "start_time": "2023-12-20T15:02:00.470Z"
   },
   {
    "duration": 47,
    "start_time": "2023-12-20T15:02:00.533Z"
   },
   {
    "duration": 369,
    "start_time": "2023-12-20T15:02:00.582Z"
   },
   {
    "duration": 205,
    "start_time": "2023-12-20T15:02:00.954Z"
   },
   {
    "duration": 187,
    "start_time": "2023-12-20T15:02:01.161Z"
   },
   {
    "duration": 193,
    "start_time": "2023-12-20T15:02:01.350Z"
   },
   {
    "duration": 209,
    "start_time": "2023-12-20T15:02:01.545Z"
   },
   {
    "duration": 18,
    "start_time": "2023-12-20T15:02:01.755Z"
   },
   {
    "duration": 94,
    "start_time": "2023-12-20T15:02:01.775Z"
   },
   {
    "duration": 40,
    "start_time": "2023-12-20T15:02:01.871Z"
   },
   {
    "duration": 28,
    "start_time": "2023-12-20T15:02:01.913Z"
   },
   {
    "duration": 37,
    "start_time": "2023-12-20T15:02:01.943Z"
   },
   {
    "duration": 60,
    "start_time": "2023-12-20T15:02:01.981Z"
   },
   {
    "duration": 187,
    "start_time": "2023-12-20T15:02:02.042Z"
   },
   {
    "duration": 174,
    "start_time": "2023-12-20T15:02:02.231Z"
   },
   {
    "duration": 190,
    "start_time": "2023-12-20T15:02:02.406Z"
   },
   {
    "duration": 259,
    "start_time": "2023-12-20T15:02:02.598Z"
   },
   {
    "duration": 185,
    "start_time": "2023-12-20T15:02:02.859Z"
   },
   {
    "duration": 250,
    "start_time": "2023-12-20T15:02:03.045Z"
   },
   {
    "duration": 214,
    "start_time": "2023-12-20T15:02:03.297Z"
   },
   {
    "duration": 259,
    "start_time": "2023-12-20T15:02:03.513Z"
   },
   {
    "duration": 30,
    "start_time": "2023-12-20T15:02:03.773Z"
   },
   {
    "duration": 42,
    "start_time": "2023-12-20T15:02:03.805Z"
   },
   {
    "duration": 33,
    "start_time": "2023-12-20T15:02:03.849Z"
   },
   {
    "duration": 18,
    "start_time": "2023-12-20T15:02:03.883Z"
   },
   {
    "duration": 202,
    "start_time": "2023-12-20T15:02:03.902Z"
   },
   {
    "duration": 3,
    "start_time": "2023-12-20T15:02:53.782Z"
   },
   {
    "duration": 68,
    "start_time": "2023-12-20T15:02:53.786Z"
   },
   {
    "duration": 9,
    "start_time": "2023-12-20T15:02:53.855Z"
   },
   {
    "duration": 18,
    "start_time": "2023-12-20T15:02:53.865Z"
   },
   {
    "duration": 9,
    "start_time": "2023-12-20T15:02:53.885Z"
   },
   {
    "duration": 9,
    "start_time": "2023-12-20T15:02:53.895Z"
   },
   {
    "duration": 18,
    "start_time": "2023-12-20T15:02:53.905Z"
   },
   {
    "duration": 7,
    "start_time": "2023-12-20T15:02:53.924Z"
   },
   {
    "duration": 7,
    "start_time": "2023-12-20T15:02:53.932Z"
   },
   {
    "duration": 6,
    "start_time": "2023-12-20T15:02:53.941Z"
   },
   {
    "duration": 17,
    "start_time": "2023-12-20T15:02:53.948Z"
   },
   {
    "duration": 10,
    "start_time": "2023-12-20T15:02:53.966Z"
   },
   {
    "duration": 281,
    "start_time": "2023-12-20T15:02:53.977Z"
   },
   {
    "duration": 185,
    "start_time": "2023-12-20T15:02:54.261Z"
   },
   {
    "duration": 166,
    "start_time": "2023-12-20T15:02:54.447Z"
   },
   {
    "duration": 183,
    "start_time": "2023-12-20T15:02:54.614Z"
   },
   {
    "duration": 203,
    "start_time": "2023-12-20T15:02:54.798Z"
   },
   {
    "duration": 22,
    "start_time": "2023-12-20T15:02:55.003Z"
   },
   {
    "duration": 12,
    "start_time": "2023-12-20T15:02:55.027Z"
   },
   {
    "duration": 17,
    "start_time": "2023-12-20T15:02:55.040Z"
   },
   {
    "duration": 13,
    "start_time": "2023-12-20T15:02:55.059Z"
   },
   {
    "duration": 33,
    "start_time": "2023-12-20T15:02:55.073Z"
   },
   {
    "duration": 109,
    "start_time": "2023-12-20T15:02:55.107Z"
   },
   {
    "duration": 171,
    "start_time": "2023-12-20T15:02:55.222Z"
   },
   {
    "duration": 171,
    "start_time": "2023-12-20T15:02:55.394Z"
   },
   {
    "duration": 172,
    "start_time": "2023-12-20T15:02:55.566Z"
   },
   {
    "duration": 220,
    "start_time": "2023-12-20T15:02:55.739Z"
   },
   {
    "duration": 177,
    "start_time": "2023-12-20T15:02:55.961Z"
   },
   {
    "duration": 170,
    "start_time": "2023-12-20T15:02:56.140Z"
   },
   {
    "duration": 204,
    "start_time": "2023-12-20T15:02:56.312Z"
   },
   {
    "duration": 243,
    "start_time": "2023-12-20T15:02:56.518Z"
   },
   {
    "duration": 31,
    "start_time": "2023-12-20T15:02:56.762Z"
   },
   {
    "duration": 43,
    "start_time": "2023-12-20T15:02:56.794Z"
   },
   {
    "duration": 10,
    "start_time": "2023-12-20T15:02:56.839Z"
   },
   {
    "duration": 14,
    "start_time": "2023-12-20T15:02:56.851Z"
   },
   {
    "duration": 201,
    "start_time": "2023-12-20T15:02:56.866Z"
   },
   {
    "duration": 301,
    "start_time": "2023-12-20T15:02:57.069Z"
   },
   {
    "duration": 7,
    "start_time": "2023-12-20T15:08:16.578Z"
   },
   {
    "duration": 6,
    "start_time": "2023-12-20T15:09:48.085Z"
   },
   {
    "duration": 5,
    "start_time": "2023-12-20T15:12:04.740Z"
   },
   {
    "duration": 5,
    "start_time": "2023-12-20T15:12:25.294Z"
   },
   {
    "duration": 4,
    "start_time": "2023-12-20T15:39:33.333Z"
   },
   {
    "duration": 4,
    "start_time": "2023-12-20T15:39:56.252Z"
   },
   {
    "duration": 4,
    "start_time": "2023-12-20T15:40:09.051Z"
   },
   {
    "duration": 4,
    "start_time": "2023-12-20T15:43:00.510Z"
   },
   {
    "duration": 6,
    "start_time": "2023-12-20T15:49:46.564Z"
   },
   {
    "duration": 5,
    "start_time": "2023-12-20T15:49:46.587Z"
   },
   {
    "duration": 5,
    "start_time": "2023-12-20T15:51:17.421Z"
   },
   {
    "duration": 5,
    "start_time": "2023-12-20T15:59:28.859Z"
   },
   {
    "duration": 99,
    "start_time": "2023-12-20T16:03:16.573Z"
   },
   {
    "duration": 13,
    "start_time": "2023-12-20T16:03:35.037Z"
   },
   {
    "duration": 5,
    "start_time": "2023-12-20T16:03:48.880Z"
   },
   {
    "duration": 4,
    "start_time": "2023-12-20T16:04:38.655Z"
   },
   {
    "duration": 4,
    "start_time": "2023-12-20T16:06:44.468Z"
   },
   {
    "duration": 5,
    "start_time": "2023-12-20T16:06:44.487Z"
   },
   {
    "duration": 5,
    "start_time": "2023-12-20T16:07:34.658Z"
   },
   {
    "duration": 5,
    "start_time": "2023-12-20T16:07:34.665Z"
   },
   {
    "duration": 5,
    "start_time": "2023-12-20T16:23:12.798Z"
   },
   {
    "duration": 6,
    "start_time": "2023-12-20T16:23:12.805Z"
   },
   {
    "duration": 6,
    "start_time": "2023-12-20T16:23:31.172Z"
   },
   {
    "duration": 5,
    "start_time": "2023-12-20T16:23:45.433Z"
   },
   {
    "duration": 67,
    "start_time": "2023-12-20T16:23:45.440Z"
   },
   {
    "duration": 8,
    "start_time": "2023-12-20T16:23:45.509Z"
   },
   {
    "duration": 13,
    "start_time": "2023-12-20T16:23:45.520Z"
   },
   {
    "duration": 13,
    "start_time": "2023-12-20T16:23:45.536Z"
   },
   {
    "duration": 35,
    "start_time": "2023-12-20T16:23:45.551Z"
   },
   {
    "duration": 22,
    "start_time": "2023-12-20T16:23:45.588Z"
   },
   {
    "duration": 6,
    "start_time": "2023-12-20T16:23:45.611Z"
   },
   {
    "duration": 11,
    "start_time": "2023-12-20T16:23:45.619Z"
   },
   {
    "duration": 8,
    "start_time": "2023-12-20T16:23:45.632Z"
   },
   {
    "duration": 15,
    "start_time": "2023-12-20T16:23:45.642Z"
   },
   {
    "duration": 10,
    "start_time": "2023-12-20T16:23:45.658Z"
   },
   {
    "duration": 282,
    "start_time": "2023-12-20T16:23:45.670Z"
   },
   {
    "duration": 195,
    "start_time": "2023-12-20T16:23:45.955Z"
   },
   {
    "duration": 186,
    "start_time": "2023-12-20T16:23:46.152Z"
   },
   {
    "duration": 188,
    "start_time": "2023-12-20T16:23:46.340Z"
   },
   {
    "duration": 213,
    "start_time": "2023-12-20T16:23:46.529Z"
   },
   {
    "duration": 18,
    "start_time": "2023-12-20T16:23:46.744Z"
   },
   {
    "duration": 13,
    "start_time": "2023-12-20T16:23:46.763Z"
   },
   {
    "duration": 17,
    "start_time": "2023-12-20T16:23:46.778Z"
   },
   {
    "duration": 36,
    "start_time": "2023-12-20T16:23:46.796Z"
   },
   {
    "duration": 17,
    "start_time": "2023-12-20T16:23:46.833Z"
   },
   {
    "duration": 20,
    "start_time": "2023-12-20T16:23:46.853Z"
   },
   {
    "duration": 189,
    "start_time": "2023-12-20T16:23:46.874Z"
   },
   {
    "duration": 169,
    "start_time": "2023-12-20T16:23:47.065Z"
   },
   {
    "duration": 192,
    "start_time": "2023-12-20T16:23:47.236Z"
   },
   {
    "duration": 268,
    "start_time": "2023-12-20T16:23:47.430Z"
   },
   {
    "duration": 178,
    "start_time": "2023-12-20T16:23:47.700Z"
   },
   {
    "duration": 173,
    "start_time": "2023-12-20T16:23:47.879Z"
   },
   {
    "duration": 327,
    "start_time": "2023-12-20T16:23:48.054Z"
   },
   {
    "duration": 268,
    "start_time": "2023-12-20T16:23:48.383Z"
   },
   {
    "duration": 30,
    "start_time": "2023-12-20T16:23:48.652Z"
   },
   {
    "duration": 58,
    "start_time": "2023-12-20T16:23:48.684Z"
   },
   {
    "duration": 15,
    "start_time": "2023-12-20T16:23:48.745Z"
   },
   {
    "duration": 32,
    "start_time": "2023-12-20T16:23:48.762Z"
   },
   {
    "duration": 204,
    "start_time": "2023-12-20T16:23:48.796Z"
   },
   {
    "duration": 168,
    "start_time": "2023-12-20T16:23:49.001Z"
   },
   {
    "duration": 7,
    "start_time": "2023-12-20T16:23:49.171Z"
   },
   {
    "duration": 16,
    "start_time": "2023-12-20T16:23:49.180Z"
   },
   {
    "duration": 24,
    "start_time": "2023-12-20T16:23:49.198Z"
   },
   {
    "duration": 174,
    "start_time": "2023-12-20T17:49:07.072Z"
   },
   {
    "duration": 6,
    "start_time": "2023-12-20T17:49:07.248Z"
   },
   {
    "duration": 22,
    "start_time": "2023-12-20T17:49:07.255Z"
   },
   {
    "duration": 17,
    "start_time": "2023-12-20T17:49:07.279Z"
   },
   {
    "duration": 12,
    "start_time": "2023-12-20T18:38:21.169Z"
   },
   {
    "duration": 3,
    "start_time": "2023-12-20T18:38:26.074Z"
   },
   {
    "duration": 63,
    "start_time": "2023-12-20T18:38:26.080Z"
   },
   {
    "duration": 9,
    "start_time": "2023-12-20T18:38:26.145Z"
   },
   {
    "duration": 14,
    "start_time": "2023-12-20T18:38:26.155Z"
   },
   {
    "duration": 19,
    "start_time": "2023-12-20T18:38:26.171Z"
   },
   {
    "duration": 15,
    "start_time": "2023-12-20T18:38:26.192Z"
   },
   {
    "duration": 16,
    "start_time": "2023-12-20T18:38:26.209Z"
   },
   {
    "duration": 7,
    "start_time": "2023-12-20T18:38:26.226Z"
   },
   {
    "duration": 13,
    "start_time": "2023-12-20T18:38:26.236Z"
   },
   {
    "duration": 7,
    "start_time": "2023-12-20T18:38:26.251Z"
   },
   {
    "duration": 36,
    "start_time": "2023-12-20T18:38:26.260Z"
   },
   {
    "duration": 11,
    "start_time": "2023-12-20T18:38:26.298Z"
   },
   {
    "duration": 260,
    "start_time": "2023-12-20T18:38:26.311Z"
   },
   {
    "duration": 202,
    "start_time": "2023-12-20T18:38:26.575Z"
   },
   {
    "duration": 173,
    "start_time": "2023-12-20T18:38:26.778Z"
   },
   {
    "duration": 186,
    "start_time": "2023-12-20T18:38:26.953Z"
   },
   {
    "duration": 200,
    "start_time": "2023-12-20T18:38:27.141Z"
   },
   {
    "duration": 18,
    "start_time": "2023-12-20T18:38:27.342Z"
   },
   {
    "duration": 23,
    "start_time": "2023-12-20T18:38:27.361Z"
   },
   {
    "duration": 41,
    "start_time": "2023-12-20T18:38:27.385Z"
   },
   {
    "duration": 39,
    "start_time": "2023-12-20T18:38:27.427Z"
   },
   {
    "duration": 35,
    "start_time": "2023-12-20T18:38:27.468Z"
   },
   {
    "duration": 24,
    "start_time": "2023-12-20T18:38:27.505Z"
   },
   {
    "duration": 191,
    "start_time": "2023-12-20T18:38:27.531Z"
   },
   {
    "duration": 182,
    "start_time": "2023-12-20T18:38:27.724Z"
   },
   {
    "duration": 321,
    "start_time": "2023-12-20T18:38:27.907Z"
   },
   {
    "duration": 231,
    "start_time": "2023-12-20T18:38:28.230Z"
   },
   {
    "duration": 189,
    "start_time": "2023-12-20T18:38:28.463Z"
   },
   {
    "duration": 184,
    "start_time": "2023-12-20T18:38:28.654Z"
   },
   {
    "duration": 228,
    "start_time": "2023-12-20T18:38:28.839Z"
   },
   {
    "duration": 253,
    "start_time": "2023-12-20T18:38:29.069Z"
   },
   {
    "duration": 29,
    "start_time": "2023-12-20T18:38:29.324Z"
   },
   {
    "duration": 26,
    "start_time": "2023-12-20T18:38:29.355Z"
   },
   {
    "duration": 12,
    "start_time": "2023-12-20T18:38:29.383Z"
   },
   {
    "duration": 30,
    "start_time": "2023-12-20T18:38:29.397Z"
   },
   {
    "duration": 217,
    "start_time": "2023-12-20T18:38:29.429Z"
   },
   {
    "duration": 189,
    "start_time": "2023-12-20T18:38:29.648Z"
   },
   {
    "duration": 5,
    "start_time": "2023-12-20T18:38:29.838Z"
   },
   {
    "duration": 20,
    "start_time": "2023-12-20T18:38:29.844Z"
   },
   {
    "duration": 26,
    "start_time": "2023-12-20T18:38:29.866Z"
   },
   {
    "duration": 20,
    "start_time": "2023-12-20T18:38:29.895Z"
   },
   {
    "duration": 247,
    "start_time": "2023-12-20T18:38:49.404Z"
   },
   {
    "duration": 255,
    "start_time": "2023-12-20T18:45:44.504Z"
   },
   {
    "duration": 401,
    "start_time": "2023-12-20T18:51:27.674Z"
   },
   {
    "duration": 3,
    "start_time": "2023-12-20T18:59:43.570Z"
   },
   {
    "duration": 64,
    "start_time": "2023-12-20T18:59:43.575Z"
   },
   {
    "duration": 9,
    "start_time": "2023-12-20T18:59:43.641Z"
   },
   {
    "duration": 10,
    "start_time": "2023-12-20T18:59:43.652Z"
   },
   {
    "duration": 10,
    "start_time": "2023-12-20T18:59:43.664Z"
   },
   {
    "duration": 9,
    "start_time": "2023-12-20T18:59:43.675Z"
   },
   {
    "duration": 14,
    "start_time": "2023-12-20T18:59:43.686Z"
   },
   {
    "duration": 23,
    "start_time": "2023-12-20T18:59:43.701Z"
   },
   {
    "duration": 8,
    "start_time": "2023-12-20T18:59:43.725Z"
   },
   {
    "duration": 10,
    "start_time": "2023-12-20T18:59:43.734Z"
   },
   {
    "duration": 22,
    "start_time": "2023-12-20T18:59:43.745Z"
   },
   {
    "duration": 10,
    "start_time": "2023-12-20T18:59:43.769Z"
   },
   {
    "duration": 271,
    "start_time": "2023-12-20T18:59:43.782Z"
   },
   {
    "duration": 196,
    "start_time": "2023-12-20T18:59:44.055Z"
   },
   {
    "duration": 186,
    "start_time": "2023-12-20T18:59:44.253Z"
   },
   {
    "duration": 183,
    "start_time": "2023-12-20T18:59:44.441Z"
   },
   {
    "duration": 201,
    "start_time": "2023-12-20T18:59:44.626Z"
   },
   {
    "duration": 22,
    "start_time": "2023-12-20T18:59:44.828Z"
   },
   {
    "duration": 13,
    "start_time": "2023-12-20T18:59:44.851Z"
   },
   {
    "duration": 24,
    "start_time": "2023-12-20T18:59:44.866Z"
   },
   {
    "duration": 40,
    "start_time": "2023-12-20T18:59:44.892Z"
   },
   {
    "duration": 14,
    "start_time": "2023-12-20T18:59:44.934Z"
   },
   {
    "duration": 18,
    "start_time": "2023-12-20T18:59:44.950Z"
   },
   {
    "duration": 180,
    "start_time": "2023-12-20T18:59:44.970Z"
   },
   {
    "duration": 158,
    "start_time": "2023-12-20T18:59:45.152Z"
   },
   {
    "duration": 185,
    "start_time": "2023-12-20T18:59:45.312Z"
   },
   {
    "duration": 210,
    "start_time": "2023-12-20T18:59:45.499Z"
   },
   {
    "duration": 171,
    "start_time": "2023-12-20T18:59:45.710Z"
   },
   {
    "duration": 168,
    "start_time": "2023-12-20T18:59:45.882Z"
   },
   {
    "duration": 197,
    "start_time": "2023-12-20T18:59:46.051Z"
   },
   {
    "duration": 243,
    "start_time": "2023-12-20T18:59:46.250Z"
   },
   {
    "duration": 38,
    "start_time": "2023-12-20T18:59:46.495Z"
   },
   {
    "duration": 30,
    "start_time": "2023-12-20T18:59:46.535Z"
   },
   {
    "duration": 14,
    "start_time": "2023-12-20T18:59:46.566Z"
   },
   {
    "duration": 15,
    "start_time": "2023-12-20T18:59:46.582Z"
   },
   {
    "duration": 191,
    "start_time": "2023-12-20T18:59:46.621Z"
   },
   {
    "duration": 188,
    "start_time": "2023-12-20T18:59:46.821Z"
   },
   {
    "duration": 12,
    "start_time": "2023-12-20T18:59:47.011Z"
   },
   {
    "duration": 5,
    "start_time": "2023-12-20T18:59:47.024Z"
   },
   {
    "duration": 7,
    "start_time": "2023-12-20T18:59:47.030Z"
   },
   {
    "duration": 6,
    "start_time": "2023-12-20T18:59:47.038Z"
   },
   {
    "duration": 7,
    "start_time": "2023-12-20T19:03:29.603Z"
   },
   {
    "duration": 6,
    "start_time": "2023-12-20T19:03:29.613Z"
   },
   {
    "duration": 50,
    "start_time": "2023-12-21T11:48:54.059Z"
   },
   {
    "duration": 1257,
    "start_time": "2023-12-21T11:58:20.263Z"
   },
   {
    "duration": 254,
    "start_time": "2023-12-21T11:58:21.522Z"
   },
   {
    "duration": 13,
    "start_time": "2023-12-21T11:58:21.778Z"
   },
   {
    "duration": 11,
    "start_time": "2023-12-21T11:58:21.792Z"
   },
   {
    "duration": 18,
    "start_time": "2023-12-21T11:58:21.804Z"
   },
   {
    "duration": 9,
    "start_time": "2023-12-21T11:58:21.823Z"
   },
   {
    "duration": 26,
    "start_time": "2023-12-21T11:58:21.833Z"
   },
   {
    "duration": 5,
    "start_time": "2023-12-21T11:58:21.861Z"
   },
   {
    "duration": 34,
    "start_time": "2023-12-21T11:58:21.868Z"
   },
   {
    "duration": 24,
    "start_time": "2023-12-21T11:58:21.905Z"
   },
   {
    "duration": 25,
    "start_time": "2023-12-21T11:58:21.930Z"
   },
   {
    "duration": 10,
    "start_time": "2023-12-21T11:58:21.956Z"
   },
   {
    "duration": 279,
    "start_time": "2023-12-21T11:58:21.967Z"
   },
   {
    "duration": 202,
    "start_time": "2023-12-21T11:58:22.247Z"
   },
   {
    "duration": 180,
    "start_time": "2023-12-21T11:58:22.451Z"
   },
   {
    "duration": 177,
    "start_time": "2023-12-21T11:58:22.633Z"
   },
   {
    "duration": 194,
    "start_time": "2023-12-21T11:58:22.811Z"
   },
   {
    "duration": 17,
    "start_time": "2023-12-21T11:58:23.007Z"
   },
   {
    "duration": 38,
    "start_time": "2023-12-21T11:58:23.025Z"
   },
   {
    "duration": 13,
    "start_time": "2023-12-21T11:58:23.064Z"
   },
   {
    "duration": 25,
    "start_time": "2023-12-21T11:58:23.079Z"
   },
   {
    "duration": 15,
    "start_time": "2023-12-21T11:58:23.106Z"
   },
   {
    "duration": 184,
    "start_time": "2023-12-21T11:58:23.123Z"
   },
   {
    "duration": 170,
    "start_time": "2023-12-21T11:58:23.308Z"
   },
   {
    "duration": 213,
    "start_time": "2023-12-21T11:58:23.480Z"
   },
   {
    "duration": 244,
    "start_time": "2023-12-21T11:58:23.695Z"
   },
   {
    "duration": 167,
    "start_time": "2023-12-21T11:58:23.941Z"
   },
   {
    "duration": 233,
    "start_time": "2023-12-21T11:58:24.112Z"
   },
   {
    "duration": 204,
    "start_time": "2023-12-21T11:58:24.347Z"
   },
   {
    "duration": 268,
    "start_time": "2023-12-21T11:58:24.552Z"
   },
   {
    "duration": 30,
    "start_time": "2023-12-21T11:58:24.822Z"
   },
   {
    "duration": 41,
    "start_time": "2023-12-21T11:58:24.853Z"
   },
   {
    "duration": 10,
    "start_time": "2023-12-21T11:58:24.896Z"
   },
   {
    "duration": 20,
    "start_time": "2023-12-21T11:58:24.907Z"
   },
   {
    "duration": 195,
    "start_time": "2023-12-21T11:58:24.928Z"
   },
   {
    "duration": 192,
    "start_time": "2023-12-21T11:58:25.124Z"
   },
   {
    "duration": 5,
    "start_time": "2023-12-21T11:58:25.317Z"
   },
   {
    "duration": 38,
    "start_time": "2023-12-21T11:58:25.324Z"
   },
   {
    "duration": 23,
    "start_time": "2023-12-21T11:58:25.363Z"
   },
   {
    "duration": 30,
    "start_time": "2023-12-21T11:58:25.387Z"
   },
   {
    "duration": 22,
    "start_time": "2023-12-21T11:58:25.418Z"
   },
   {
    "duration": 13,
    "start_time": "2023-12-21T12:00:40.949Z"
   },
   {
    "duration": 1124,
    "start_time": "2023-12-23T10:34:46.842Z"
   },
   {
    "duration": 351,
    "start_time": "2023-12-23T10:34:47.968Z"
   },
   {
    "duration": 11,
    "start_time": "2023-12-23T10:34:48.321Z"
   },
   {
    "duration": 10,
    "start_time": "2023-12-23T10:34:48.334Z"
   },
   {
    "duration": 7,
    "start_time": "2023-12-23T10:34:48.345Z"
   },
   {
    "duration": 5,
    "start_time": "2023-12-23T10:34:48.354Z"
   },
   {
    "duration": 14,
    "start_time": "2023-12-23T10:34:48.360Z"
   },
   {
    "duration": 5,
    "start_time": "2023-12-23T10:34:48.375Z"
   },
   {
    "duration": 8,
    "start_time": "2023-12-23T10:34:48.381Z"
   },
   {
    "duration": 8,
    "start_time": "2023-12-23T10:34:48.398Z"
   },
   {
    "duration": 17,
    "start_time": "2023-12-23T10:34:48.408Z"
   },
   {
    "duration": 8,
    "start_time": "2023-12-23T10:34:48.426Z"
   },
   {
    "duration": 242,
    "start_time": "2023-12-23T10:34:48.435Z"
   },
   {
    "duration": 183,
    "start_time": "2023-12-23T10:34:48.678Z"
   },
   {
    "duration": 160,
    "start_time": "2023-12-23T10:34:48.863Z"
   },
   {
    "duration": 155,
    "start_time": "2023-12-23T10:34:49.025Z"
   },
   {
    "duration": 169,
    "start_time": "2023-12-23T10:34:49.181Z"
   },
   {
    "duration": 17,
    "start_time": "2023-12-23T10:34:49.352Z"
   },
   {
    "duration": 30,
    "start_time": "2023-12-23T10:34:49.371Z"
   },
   {
    "duration": 12,
    "start_time": "2023-12-23T10:34:49.402Z"
   },
   {
    "duration": 14,
    "start_time": "2023-12-23T10:34:49.415Z"
   },
   {
    "duration": 14,
    "start_time": "2023-12-23T10:34:49.430Z"
   },
   {
    "duration": 169,
    "start_time": "2023-12-23T10:34:49.445Z"
   },
   {
    "duration": 152,
    "start_time": "2023-12-23T10:34:49.616Z"
   },
   {
    "duration": 163,
    "start_time": "2023-12-23T10:34:49.770Z"
   },
   {
    "duration": 223,
    "start_time": "2023-12-23T10:34:49.934Z"
   },
   {
    "duration": 147,
    "start_time": "2023-12-23T10:34:50.159Z"
   },
   {
    "duration": 207,
    "start_time": "2023-12-23T10:34:50.309Z"
   },
   {
    "duration": 168,
    "start_time": "2023-12-23T10:34:50.518Z"
   },
   {
    "duration": 208,
    "start_time": "2023-12-23T10:34:50.687Z"
   },
   {
    "duration": 25,
    "start_time": "2023-12-23T10:34:50.899Z"
   },
   {
    "duration": 23,
    "start_time": "2023-12-23T10:34:50.926Z"
   },
   {
    "duration": 8,
    "start_time": "2023-12-23T10:34:50.950Z"
   },
   {
    "duration": 9,
    "start_time": "2023-12-23T10:34:50.960Z"
   },
   {
    "duration": 190,
    "start_time": "2023-12-23T10:34:50.970Z"
   },
   {
    "duration": 162,
    "start_time": "2023-12-23T10:34:51.162Z"
   },
   {
    "duration": 5,
    "start_time": "2023-12-23T10:34:51.325Z"
   },
   {
    "duration": 27,
    "start_time": "2023-12-23T10:34:51.332Z"
   },
   {
    "duration": 7,
    "start_time": "2023-12-23T10:34:51.361Z"
   },
   {
    "duration": 5,
    "start_time": "2023-12-23T10:34:51.370Z"
   },
   {
    "duration": 27,
    "start_time": "2023-12-23T10:34:51.377Z"
   },
   {
    "duration": 317,
    "start_time": "2023-12-23T16:02:08.462Z"
   },
   {
    "duration": 0,
    "start_time": "2023-12-23T16:02:08.782Z"
   },
   {
    "duration": 0,
    "start_time": "2023-12-23T16:02:08.783Z"
   },
   {
    "duration": 0,
    "start_time": "2023-12-23T16:02:08.784Z"
   },
   {
    "duration": 1,
    "start_time": "2023-12-23T16:02:08.785Z"
   },
   {
    "duration": 0,
    "start_time": "2023-12-23T16:02:08.787Z"
   },
   {
    "duration": 0,
    "start_time": "2023-12-23T16:02:08.788Z"
   },
   {
    "duration": 0,
    "start_time": "2023-12-23T16:02:08.790Z"
   },
   {
    "duration": 0,
    "start_time": "2023-12-23T16:02:08.791Z"
   },
   {
    "duration": 0,
    "start_time": "2023-12-23T16:02:08.792Z"
   },
   {
    "duration": 20,
    "start_time": "2023-12-23T16:02:58.648Z"
   },
   {
    "duration": 10,
    "start_time": "2023-12-23T16:02:58.669Z"
   },
   {
    "duration": 8,
    "start_time": "2023-12-23T16:02:58.681Z"
   },
   {
    "duration": 678,
    "start_time": "2023-12-23T16:02:58.692Z"
   },
   {
    "duration": 1,
    "start_time": "2023-12-23T16:02:59.371Z"
   },
   {
    "duration": 0,
    "start_time": "2023-12-23T16:02:59.372Z"
   },
   {
    "duration": 0,
    "start_time": "2023-12-23T16:02:59.373Z"
   },
   {
    "duration": 0,
    "start_time": "2023-12-23T16:02:59.374Z"
   },
   {
    "duration": 0,
    "start_time": "2023-12-23T16:02:59.375Z"
   },
   {
    "duration": 0,
    "start_time": "2023-12-23T16:02:59.377Z"
   },
   {
    "duration": 26,
    "start_time": "2023-12-23T16:04:07.623Z"
   },
   {
    "duration": 9,
    "start_time": "2023-12-23T16:04:07.650Z"
   },
   {
    "duration": 10,
    "start_time": "2023-12-23T16:04:07.660Z"
   },
   {
    "duration": 3,
    "start_time": "2023-12-23T16:04:07.672Z"
   },
   {
    "duration": 170,
    "start_time": "2023-12-23T16:04:07.676Z"
   },
   {
    "duration": 7,
    "start_time": "2023-12-23T16:04:07.847Z"
   },
   {
    "duration": 14,
    "start_time": "2023-12-23T16:04:07.855Z"
   },
   {
    "duration": 12,
    "start_time": "2023-12-23T16:04:07.871Z"
   },
   {
    "duration": 51,
    "start_time": "2023-12-23T16:04:07.885Z"
   },
   {
    "duration": 0,
    "start_time": "2023-12-23T16:04:07.938Z"
   },
   {
    "duration": 4,
    "start_time": "2023-12-23T16:04:13.291Z"
   },
   {
    "duration": 64,
    "start_time": "2023-12-23T16:04:13.297Z"
   },
   {
    "duration": 8,
    "start_time": "2023-12-23T16:04:13.362Z"
   },
   {
    "duration": 13,
    "start_time": "2023-12-23T16:04:13.372Z"
   },
   {
    "duration": 10,
    "start_time": "2023-12-23T16:04:13.386Z"
   },
   {
    "duration": 9,
    "start_time": "2023-12-23T16:04:13.397Z"
   },
   {
    "duration": 15,
    "start_time": "2023-12-23T16:04:13.407Z"
   },
   {
    "duration": 5,
    "start_time": "2023-12-23T16:04:13.424Z"
   },
   {
    "duration": 8,
    "start_time": "2023-12-23T16:04:13.430Z"
   },
   {
    "duration": 5,
    "start_time": "2023-12-23T16:04:13.441Z"
   },
   {
    "duration": 21,
    "start_time": "2023-12-23T16:04:13.448Z"
   },
   {
    "duration": 10,
    "start_time": "2023-12-23T16:04:13.471Z"
   },
   {
    "duration": 233,
    "start_time": "2023-12-23T16:04:13.499Z"
   },
   {
    "duration": 177,
    "start_time": "2023-12-23T16:04:13.733Z"
   },
   {
    "duration": 155,
    "start_time": "2023-12-23T16:04:13.912Z"
   },
   {
    "duration": 253,
    "start_time": "2023-12-23T16:04:14.068Z"
   },
   {
    "duration": 192,
    "start_time": "2023-12-23T16:04:14.322Z"
   },
   {
    "duration": 18,
    "start_time": "2023-12-23T16:04:14.516Z"
   },
   {
    "duration": 27,
    "start_time": "2023-12-23T16:04:14.535Z"
   },
   {
    "duration": 12,
    "start_time": "2023-12-23T16:04:14.563Z"
   },
   {
    "duration": 27,
    "start_time": "2023-12-23T16:04:14.577Z"
   },
   {
    "duration": 14,
    "start_time": "2023-12-23T16:04:14.605Z"
   },
   {
    "duration": 164,
    "start_time": "2023-12-23T16:04:14.620Z"
   },
   {
    "duration": 150,
    "start_time": "2023-12-23T16:04:14.786Z"
   },
   {
    "duration": 170,
    "start_time": "2023-12-23T16:04:14.937Z"
   },
   {
    "duration": 211,
    "start_time": "2023-12-23T16:04:15.108Z"
   },
   {
    "duration": 187,
    "start_time": "2023-12-23T16:04:15.320Z"
   },
   {
    "duration": 167,
    "start_time": "2023-12-23T16:04:15.510Z"
   },
   {
    "duration": 201,
    "start_time": "2023-12-23T16:04:15.679Z"
   },
   {
    "duration": 238,
    "start_time": "2023-12-23T16:04:15.881Z"
   },
   {
    "duration": 26,
    "start_time": "2023-12-23T16:04:16.121Z"
   },
   {
    "duration": 120,
    "start_time": "2023-12-23T16:04:16.148Z"
   },
   {
    "duration": 8,
    "start_time": "2023-12-23T16:04:16.270Z"
   },
   {
    "duration": 29,
    "start_time": "2023-12-23T16:04:16.279Z"
   },
   {
    "duration": 2,
    "start_time": "2023-12-23T16:04:16.310Z"
   },
   {
    "duration": 162,
    "start_time": "2023-12-23T16:04:16.313Z"
   },
   {
    "duration": 5,
    "start_time": "2023-12-23T16:04:16.476Z"
   },
   {
    "duration": 17,
    "start_time": "2023-12-23T16:04:16.482Z"
   },
   {
    "duration": 5,
    "start_time": "2023-12-23T16:04:16.500Z"
   },
   {
    "duration": 40,
    "start_time": "2023-12-23T16:04:16.506Z"
   },
   {
    "duration": 0,
    "start_time": "2023-12-23T16:04:16.548Z"
   },
   {
    "duration": 15,
    "start_time": "2023-12-23T16:06:30.177Z"
   },
   {
    "duration": 0,
    "start_time": "2023-12-23T16:06:30.194Z"
   },
   {
    "duration": 0,
    "start_time": "2023-12-23T16:06:30.195Z"
   },
   {
    "duration": 0,
    "start_time": "2023-12-23T16:06:30.196Z"
   },
   {
    "duration": 285,
    "start_time": "2023-12-23T16:06:30.198Z"
   },
   {
    "duration": 5,
    "start_time": "2023-12-23T16:06:30.485Z"
   },
   {
    "duration": 51,
    "start_time": "2023-12-23T16:06:30.499Z"
   },
   {
    "duration": 54,
    "start_time": "2023-12-23T16:06:30.551Z"
   },
   {
    "duration": 45,
    "start_time": "2023-12-23T16:06:30.607Z"
   },
   {
    "duration": 0,
    "start_time": "2023-12-23T16:06:30.653Z"
   },
   {
    "duration": 4,
    "start_time": "2023-12-23T16:26:21.127Z"
   },
   {
    "duration": 73,
    "start_time": "2023-12-23T16:26:21.134Z"
   },
   {
    "duration": 9,
    "start_time": "2023-12-23T16:26:21.209Z"
   },
   {
    "duration": 11,
    "start_time": "2023-12-23T16:26:21.219Z"
   },
   {
    "duration": 9,
    "start_time": "2023-12-23T16:26:21.232Z"
   },
   {
    "duration": 9,
    "start_time": "2023-12-23T16:26:21.243Z"
   },
   {
    "duration": 17,
    "start_time": "2023-12-23T16:26:21.253Z"
   },
   {
    "duration": 32,
    "start_time": "2023-12-23T16:26:21.271Z"
   },
   {
    "duration": 7,
    "start_time": "2023-12-23T16:26:21.305Z"
   },
   {
    "duration": 5,
    "start_time": "2023-12-23T16:26:21.314Z"
   },
   {
    "duration": 18,
    "start_time": "2023-12-23T16:26:21.320Z"
   },
   {
    "duration": 10,
    "start_time": "2023-12-23T16:26:21.340Z"
   },
   {
    "duration": 284,
    "start_time": "2023-12-23T16:26:21.352Z"
   },
   {
    "duration": 207,
    "start_time": "2023-12-23T16:26:21.639Z"
   },
   {
    "duration": 164,
    "start_time": "2023-12-23T16:26:21.847Z"
   },
   {
    "duration": 173,
    "start_time": "2023-12-23T16:26:22.013Z"
   },
   {
    "duration": 194,
    "start_time": "2023-12-23T16:26:22.188Z"
   },
   {
    "duration": 33,
    "start_time": "2023-12-23T16:26:22.384Z"
   },
   {
    "duration": 28,
    "start_time": "2023-12-23T16:26:22.419Z"
   },
   {
    "duration": 14,
    "start_time": "2023-12-23T16:26:22.449Z"
   },
   {
    "duration": 45,
    "start_time": "2023-12-23T16:26:22.465Z"
   },
   {
    "duration": 19,
    "start_time": "2023-12-23T16:26:22.511Z"
   },
   {
    "duration": 184,
    "start_time": "2023-12-23T16:26:22.532Z"
   },
   {
    "duration": 169,
    "start_time": "2023-12-23T16:26:22.718Z"
   },
   {
    "duration": 183,
    "start_time": "2023-12-23T16:26:22.889Z"
   },
   {
    "duration": 216,
    "start_time": "2023-12-23T16:26:23.074Z"
   },
   {
    "duration": 171,
    "start_time": "2023-12-23T16:26:23.299Z"
   },
   {
    "duration": 318,
    "start_time": "2023-12-23T16:26:23.471Z"
   },
   {
    "duration": 183,
    "start_time": "2023-12-23T16:26:23.790Z"
   },
   {
    "duration": 235,
    "start_time": "2023-12-23T16:26:23.974Z"
   },
   {
    "duration": 6,
    "start_time": "2023-12-23T16:26:24.211Z"
   },
   {
    "duration": 31,
    "start_time": "2023-12-23T16:26:24.219Z"
   },
   {
    "duration": 22,
    "start_time": "2023-12-23T16:26:24.251Z"
   },
   {
    "duration": 32,
    "start_time": "2023-12-23T16:26:24.275Z"
   },
   {
    "duration": 11,
    "start_time": "2023-12-23T16:26:24.309Z"
   },
   {
    "duration": 3,
    "start_time": "2023-12-23T16:26:24.322Z"
   },
   {
    "duration": 186,
    "start_time": "2023-12-23T16:26:24.327Z"
   },
   {
    "duration": 6,
    "start_time": "2023-12-23T16:26:24.514Z"
   },
   {
    "duration": 5,
    "start_time": "2023-12-23T16:26:24.521Z"
   },
   {
    "duration": 5,
    "start_time": "2023-12-23T16:26:24.527Z"
   },
   {
    "duration": 67,
    "start_time": "2023-12-23T16:26:24.536Z"
   },
   {
    "duration": 0,
    "start_time": "2023-12-23T16:26:24.604Z"
   },
   {
    "duration": 16,
    "start_time": "2023-12-23T16:27:08.957Z"
   },
   {
    "duration": 28,
    "start_time": "2023-12-23T16:27:08.975Z"
   },
   {
    "duration": 21,
    "start_time": "2023-12-23T16:27:09.005Z"
   },
   {
    "duration": 10,
    "start_time": "2023-12-23T16:27:09.027Z"
   },
   {
    "duration": 10,
    "start_time": "2023-12-23T16:27:09.038Z"
   },
   {
    "duration": 3,
    "start_time": "2023-12-23T16:27:09.050Z"
   },
   {
    "duration": 200,
    "start_time": "2023-12-23T16:27:09.054Z"
   },
   {
    "duration": 6,
    "start_time": "2023-12-23T16:27:09.255Z"
   },
   {
    "duration": 5,
    "start_time": "2023-12-23T16:27:09.262Z"
   },
   {
    "duration": 5,
    "start_time": "2023-12-23T16:27:09.269Z"
   },
   {
    "duration": 51,
    "start_time": "2023-12-23T16:27:09.276Z"
   },
   {
    "duration": 0,
    "start_time": "2023-12-23T16:27:09.329Z"
   },
   {
    "duration": 3,
    "start_time": "2023-12-23T16:28:16.450Z"
   },
   {
    "duration": 69,
    "start_time": "2023-12-23T16:28:16.454Z"
   },
   {
    "duration": 9,
    "start_time": "2023-12-23T16:28:16.525Z"
   },
   {
    "duration": 12,
    "start_time": "2023-12-23T16:28:16.536Z"
   },
   {
    "duration": 11,
    "start_time": "2023-12-23T16:28:16.550Z"
   },
   {
    "duration": 7,
    "start_time": "2023-12-23T16:28:16.563Z"
   },
   {
    "duration": 42,
    "start_time": "2023-12-23T16:28:16.571Z"
   },
   {
    "duration": 6,
    "start_time": "2023-12-23T16:28:16.614Z"
   },
   {
    "duration": 6,
    "start_time": "2023-12-23T16:28:16.621Z"
   },
   {
    "duration": 5,
    "start_time": "2023-12-23T16:28:16.629Z"
   },
   {
    "duration": 14,
    "start_time": "2023-12-23T16:28:16.637Z"
   },
   {
    "duration": 18,
    "start_time": "2023-12-23T16:28:16.653Z"
   },
   {
    "duration": 269,
    "start_time": "2023-12-23T16:28:16.672Z"
   },
   {
    "duration": 190,
    "start_time": "2023-12-23T16:28:16.942Z"
   },
   {
    "duration": 167,
    "start_time": "2023-12-23T16:28:17.134Z"
   },
   {
    "duration": 170,
    "start_time": "2023-12-23T16:28:17.303Z"
   },
   {
    "duration": 184,
    "start_time": "2023-12-23T16:28:17.475Z"
   },
   {
    "duration": 18,
    "start_time": "2023-12-23T16:28:17.660Z"
   },
   {
    "duration": 36,
    "start_time": "2023-12-23T16:28:17.680Z"
   },
   {
    "duration": 15,
    "start_time": "2023-12-23T16:28:17.717Z"
   },
   {
    "duration": 14,
    "start_time": "2023-12-23T16:28:17.734Z"
   },
   {
    "duration": 16,
    "start_time": "2023-12-23T16:28:17.750Z"
   },
   {
    "duration": 192,
    "start_time": "2023-12-23T16:28:17.767Z"
   },
   {
    "duration": 161,
    "start_time": "2023-12-23T16:28:17.960Z"
   },
   {
    "duration": 324,
    "start_time": "2023-12-23T16:28:18.123Z"
   },
   {
    "duration": 217,
    "start_time": "2023-12-23T16:28:18.449Z"
   },
   {
    "duration": 184,
    "start_time": "2023-12-23T16:28:18.668Z"
   },
   {
    "duration": 164,
    "start_time": "2023-12-23T16:28:18.853Z"
   },
   {
    "duration": 199,
    "start_time": "2023-12-23T16:28:19.020Z"
   },
   {
    "duration": 250,
    "start_time": "2023-12-23T16:28:19.220Z"
   },
   {
    "duration": 15,
    "start_time": "2023-12-23T16:28:19.471Z"
   },
   {
    "duration": 28,
    "start_time": "2023-12-23T16:28:19.499Z"
   },
   {
    "duration": 26,
    "start_time": "2023-12-23T16:28:19.529Z"
   },
   {
    "duration": 142,
    "start_time": "2023-12-23T16:28:19.557Z"
   },
   {
    "duration": 11,
    "start_time": "2023-12-23T16:28:19.701Z"
   },
   {
    "duration": 3,
    "start_time": "2023-12-23T16:28:19.714Z"
   },
   {
    "duration": 187,
    "start_time": "2023-12-23T16:28:19.718Z"
   },
   {
    "duration": 5,
    "start_time": "2023-12-23T16:28:19.907Z"
   },
   {
    "duration": 5,
    "start_time": "2023-12-23T16:28:19.913Z"
   },
   {
    "duration": 5,
    "start_time": "2023-12-23T16:28:19.919Z"
   },
   {
    "duration": 44,
    "start_time": "2023-12-23T16:28:19.925Z"
   },
   {
    "duration": 0,
    "start_time": "2023-12-23T16:28:19.970Z"
   },
   {
    "duration": 229,
    "start_time": "2023-12-23T16:30:26.693Z"
   },
   {
    "duration": 0,
    "start_time": "2023-12-23T16:30:26.924Z"
   },
   {
    "duration": 0,
    "start_time": "2023-12-23T16:30:26.925Z"
   },
   {
    "duration": 0,
    "start_time": "2023-12-23T16:30:26.926Z"
   },
   {
    "duration": 0,
    "start_time": "2023-12-23T16:30:26.927Z"
   },
   {
    "duration": 0,
    "start_time": "2023-12-23T16:30:26.928Z"
   },
   {
    "duration": 0,
    "start_time": "2023-12-23T16:30:26.929Z"
   },
   {
    "duration": 0,
    "start_time": "2023-12-23T16:30:26.930Z"
   },
   {
    "duration": 1,
    "start_time": "2023-12-23T16:30:26.930Z"
   },
   {
    "duration": 0,
    "start_time": "2023-12-23T16:30:26.932Z"
   },
   {
    "duration": 28,
    "start_time": "2023-12-23T16:31:14.785Z"
   },
   {
    "duration": 10,
    "start_time": "2023-12-23T16:31:14.815Z"
   },
   {
    "duration": 14,
    "start_time": "2023-12-23T16:31:14.826Z"
   },
   {
    "duration": 4,
    "start_time": "2023-12-23T16:31:14.841Z"
   },
   {
    "duration": 196,
    "start_time": "2023-12-23T16:31:14.848Z"
   },
   {
    "duration": 6,
    "start_time": "2023-12-23T16:31:15.045Z"
   },
   {
    "duration": 59,
    "start_time": "2023-12-23T16:31:15.053Z"
   },
   {
    "duration": 14,
    "start_time": "2023-12-23T16:31:15.114Z"
   },
   {
    "duration": 48,
    "start_time": "2023-12-23T16:31:15.129Z"
   },
   {
    "duration": 0,
    "start_time": "2023-12-23T16:31:15.178Z"
   },
   {
    "duration": 203,
    "start_time": "2023-12-23T16:32:14.645Z"
   },
   {
    "duration": 0,
    "start_time": "2023-12-23T16:32:14.851Z"
   },
   {
    "duration": 0,
    "start_time": "2023-12-23T16:32:14.852Z"
   },
   {
    "duration": 0,
    "start_time": "2023-12-23T16:32:14.852Z"
   },
   {
    "duration": 0,
    "start_time": "2023-12-23T16:32:14.853Z"
   },
   {
    "duration": 0,
    "start_time": "2023-12-23T16:32:14.854Z"
   },
   {
    "duration": 0,
    "start_time": "2023-12-23T16:32:14.855Z"
   },
   {
    "duration": 0,
    "start_time": "2023-12-23T16:32:14.856Z"
   },
   {
    "duration": 0,
    "start_time": "2023-12-23T16:32:14.857Z"
   },
   {
    "duration": 0,
    "start_time": "2023-12-23T16:32:14.858Z"
   },
   {
    "duration": 19,
    "start_time": "2023-12-23T16:32:45.122Z"
   },
   {
    "duration": 11,
    "start_time": "2023-12-23T16:32:45.143Z"
   },
   {
    "duration": 11,
    "start_time": "2023-12-23T16:32:45.156Z"
   },
   {
    "duration": 12,
    "start_time": "2023-12-23T16:32:45.169Z"
   },
   {
    "duration": 184,
    "start_time": "2023-12-23T16:32:45.183Z"
   },
   {
    "duration": 6,
    "start_time": "2023-12-23T16:32:45.369Z"
   },
   {
    "duration": 5,
    "start_time": "2023-12-23T16:32:45.377Z"
   },
   {
    "duration": 5,
    "start_time": "2023-12-23T16:32:45.400Z"
   },
   {
    "duration": 54,
    "start_time": "2023-12-23T16:32:45.407Z"
   },
   {
    "duration": 0,
    "start_time": "2023-12-23T16:32:45.463Z"
   },
   {
    "duration": 20,
    "start_time": "2023-12-23T16:33:16.829Z"
   },
   {
    "duration": 10,
    "start_time": "2023-12-23T16:33:16.851Z"
   },
   {
    "duration": 22,
    "start_time": "2023-12-23T16:33:16.862Z"
   },
   {
    "duration": 33,
    "start_time": "2023-12-23T16:33:16.886Z"
   },
   {
    "duration": 180,
    "start_time": "2023-12-23T16:33:16.921Z"
   },
   {
    "duration": 7,
    "start_time": "2023-12-23T16:33:17.102Z"
   },
   {
    "duration": 15,
    "start_time": "2023-12-23T16:33:17.110Z"
   },
   {
    "duration": 12,
    "start_time": "2023-12-23T16:33:17.126Z"
   },
   {
    "duration": 57,
    "start_time": "2023-12-23T16:33:17.139Z"
   },
   {
    "duration": 0,
    "start_time": "2023-12-23T16:33:17.198Z"
   },
   {
    "duration": 27,
    "start_time": "2023-12-23T16:38:33.258Z"
   },
   {
    "duration": 17,
    "start_time": "2023-12-23T16:38:33.287Z"
   },
   {
    "duration": 9,
    "start_time": "2023-12-23T16:38:33.306Z"
   },
   {
    "duration": 12,
    "start_time": "2023-12-23T16:38:33.317Z"
   },
   {
    "duration": 9,
    "start_time": "2023-12-23T16:38:33.331Z"
   },
   {
    "duration": 194,
    "start_time": "2023-12-23T16:38:33.341Z"
   },
   {
    "duration": 6,
    "start_time": "2023-12-23T16:38:33.537Z"
   },
   {
    "duration": 5,
    "start_time": "2023-12-23T16:38:33.545Z"
   },
   {
    "duration": 6,
    "start_time": "2023-12-23T16:38:33.551Z"
   },
   {
    "duration": 47,
    "start_time": "2023-12-23T16:38:33.559Z"
   },
   {
    "duration": 0,
    "start_time": "2023-12-23T16:38:33.607Z"
   },
   {
    "duration": 753,
    "start_time": "2023-12-23T16:39:01.258Z"
   },
   {
    "duration": 0,
    "start_time": "2023-12-23T16:39:02.013Z"
   },
   {
    "duration": 0,
    "start_time": "2023-12-23T16:39:02.013Z"
   },
   {
    "duration": 0,
    "start_time": "2023-12-23T16:39:02.015Z"
   },
   {
    "duration": 0,
    "start_time": "2023-12-23T16:39:02.015Z"
   },
   {
    "duration": 0,
    "start_time": "2023-12-23T16:39:02.016Z"
   },
   {
    "duration": 0,
    "start_time": "2023-12-23T16:39:02.018Z"
   },
   {
    "duration": 0,
    "start_time": "2023-12-23T16:39:02.018Z"
   },
   {
    "duration": 0,
    "start_time": "2023-12-23T16:39:02.019Z"
   },
   {
    "duration": 0,
    "start_time": "2023-12-23T16:39:02.020Z"
   },
   {
    "duration": 21,
    "start_time": "2023-12-23T16:39:17.071Z"
   },
   {
    "duration": 10,
    "start_time": "2023-12-23T16:39:17.094Z"
   },
   {
    "duration": 14,
    "start_time": "2023-12-23T16:39:17.105Z"
   },
   {
    "duration": 4,
    "start_time": "2023-12-23T16:39:17.121Z"
   },
   {
    "duration": 182,
    "start_time": "2023-12-23T16:39:17.126Z"
   },
   {
    "duration": 5,
    "start_time": "2023-12-23T16:39:17.309Z"
   },
   {
    "duration": 7,
    "start_time": "2023-12-23T16:39:17.316Z"
   },
   {
    "duration": 6,
    "start_time": "2023-12-23T16:39:17.325Z"
   },
   {
    "duration": 44,
    "start_time": "2023-12-23T16:39:17.333Z"
   },
   {
    "duration": 0,
    "start_time": "2023-12-23T16:39:17.378Z"
   },
   {
    "duration": 206,
    "start_time": "2023-12-23T16:40:51.261Z"
   },
   {
    "duration": 0,
    "start_time": "2023-12-23T16:40:51.469Z"
   },
   {
    "duration": 0,
    "start_time": "2023-12-23T16:40:51.470Z"
   },
   {
    "duration": 0,
    "start_time": "2023-12-23T16:40:51.472Z"
   },
   {
    "duration": 0,
    "start_time": "2023-12-23T16:40:51.473Z"
   },
   {
    "duration": 0,
    "start_time": "2023-12-23T16:40:51.475Z"
   },
   {
    "duration": 0,
    "start_time": "2023-12-23T16:40:51.476Z"
   },
   {
    "duration": 0,
    "start_time": "2023-12-23T16:40:51.477Z"
   },
   {
    "duration": 0,
    "start_time": "2023-12-23T16:40:51.479Z"
   },
   {
    "duration": 0,
    "start_time": "2023-12-23T16:40:51.480Z"
   },
   {
    "duration": 19,
    "start_time": "2023-12-23T16:41:06.720Z"
   },
   {
    "duration": 8,
    "start_time": "2023-12-23T16:41:06.741Z"
   },
   {
    "duration": 10,
    "start_time": "2023-12-23T16:41:06.751Z"
   },
   {
    "duration": 9,
    "start_time": "2023-12-23T16:41:06.762Z"
   },
   {
    "duration": 173,
    "start_time": "2023-12-23T16:41:06.773Z"
   },
   {
    "duration": 5,
    "start_time": "2023-12-23T16:41:06.947Z"
   },
   {
    "duration": 31,
    "start_time": "2023-12-23T16:41:06.953Z"
   },
   {
    "duration": 30,
    "start_time": "2023-12-23T16:41:06.985Z"
   },
   {
    "duration": 54,
    "start_time": "2023-12-23T16:41:07.016Z"
   },
   {
    "duration": 0,
    "start_time": "2023-12-23T16:41:07.071Z"
   },
   {
    "duration": 16,
    "start_time": "2023-12-23T16:44:24.108Z"
   },
   {
    "duration": 0,
    "start_time": "2023-12-23T16:44:24.126Z"
   },
   {
    "duration": 0,
    "start_time": "2023-12-23T16:44:24.127Z"
   },
   {
    "duration": 0,
    "start_time": "2023-12-23T16:44:24.129Z"
   },
   {
    "duration": 0,
    "start_time": "2023-12-23T16:44:24.130Z"
   },
   {
    "duration": 0,
    "start_time": "2023-12-23T16:44:24.132Z"
   },
   {
    "duration": 0,
    "start_time": "2023-12-23T16:44:24.133Z"
   },
   {
    "duration": 0,
    "start_time": "2023-12-23T16:44:24.135Z"
   },
   {
    "duration": 0,
    "start_time": "2023-12-23T16:44:24.136Z"
   },
   {
    "duration": 0,
    "start_time": "2023-12-23T16:44:24.138Z"
   },
   {
    "duration": 20,
    "start_time": "2023-12-23T16:49:49.922Z"
   },
   {
    "duration": 0,
    "start_time": "2023-12-23T16:49:49.944Z"
   },
   {
    "duration": 0,
    "start_time": "2023-12-23T16:49:49.945Z"
   },
   {
    "duration": 0,
    "start_time": "2023-12-23T16:49:49.946Z"
   },
   {
    "duration": 0,
    "start_time": "2023-12-23T16:49:49.948Z"
   },
   {
    "duration": 0,
    "start_time": "2023-12-23T16:49:49.949Z"
   },
   {
    "duration": 0,
    "start_time": "2023-12-23T16:49:49.950Z"
   },
   {
    "duration": 0,
    "start_time": "2023-12-23T16:49:49.951Z"
   },
   {
    "duration": 0,
    "start_time": "2023-12-23T16:49:49.952Z"
   },
   {
    "duration": 0,
    "start_time": "2023-12-23T16:49:50.120Z"
   },
   {
    "duration": 0,
    "start_time": "2023-12-23T16:49:50.121Z"
   },
   {
    "duration": 19,
    "start_time": "2023-12-23T16:50:43.326Z"
   },
   {
    "duration": 9,
    "start_time": "2023-12-23T16:50:43.347Z"
   },
   {
    "duration": 9,
    "start_time": "2023-12-23T16:50:43.358Z"
   },
   {
    "duration": 5,
    "start_time": "2023-12-23T16:50:43.369Z"
   },
   {
    "duration": 193,
    "start_time": "2023-12-23T16:50:43.375Z"
   },
   {
    "duration": 6,
    "start_time": "2023-12-23T16:50:43.569Z"
   },
   {
    "duration": 4,
    "start_time": "2023-12-23T16:50:43.577Z"
   },
   {
    "duration": 20,
    "start_time": "2023-12-23T16:50:43.583Z"
   },
   {
    "duration": 54,
    "start_time": "2023-12-23T16:50:43.604Z"
   },
   {
    "duration": 0,
    "start_time": "2023-12-23T16:50:43.660Z"
   },
   {
    "duration": 3,
    "start_time": "2023-12-23T16:52:44.347Z"
   },
   {
    "duration": 62,
    "start_time": "2023-12-23T16:52:44.352Z"
   },
   {
    "duration": 8,
    "start_time": "2023-12-23T16:52:44.416Z"
   },
   {
    "duration": 10,
    "start_time": "2023-12-23T16:52:44.426Z"
   },
   {
    "duration": 9,
    "start_time": "2023-12-23T16:52:44.438Z"
   },
   {
    "duration": 9,
    "start_time": "2023-12-23T16:52:44.449Z"
   },
   {
    "duration": 15,
    "start_time": "2023-12-23T16:52:44.459Z"
   },
   {
    "duration": 29,
    "start_time": "2023-12-23T16:52:44.475Z"
   },
   {
    "duration": 7,
    "start_time": "2023-12-23T16:52:44.505Z"
   },
   {
    "duration": 14,
    "start_time": "2023-12-23T16:52:44.513Z"
   },
   {
    "duration": 39,
    "start_time": "2023-12-23T16:52:44.529Z"
   },
   {
    "duration": 18,
    "start_time": "2023-12-23T16:52:44.570Z"
   },
   {
    "duration": 239,
    "start_time": "2023-12-23T16:52:44.590Z"
   },
   {
    "duration": 181,
    "start_time": "2023-12-23T16:52:44.830Z"
   },
   {
    "duration": 176,
    "start_time": "2023-12-23T16:52:45.013Z"
   },
   {
    "duration": 173,
    "start_time": "2023-12-23T16:52:45.191Z"
   },
   {
    "duration": 202,
    "start_time": "2023-12-23T16:52:45.365Z"
   },
   {
    "duration": 31,
    "start_time": "2023-12-23T16:52:45.569Z"
   },
   {
    "duration": 19,
    "start_time": "2023-12-23T16:52:45.602Z"
   },
   {
    "duration": 18,
    "start_time": "2023-12-23T16:52:45.623Z"
   },
   {
    "duration": 16,
    "start_time": "2023-12-23T16:52:45.642Z"
   },
   {
    "duration": 40,
    "start_time": "2023-12-23T16:52:45.660Z"
   },
   {
    "duration": 168,
    "start_time": "2023-12-23T16:52:45.702Z"
   },
   {
    "duration": 154,
    "start_time": "2023-12-23T16:52:45.872Z"
   },
   {
    "duration": 173,
    "start_time": "2023-12-23T16:52:46.027Z"
   },
   {
    "duration": 211,
    "start_time": "2023-12-23T16:52:46.202Z"
   },
   {
    "duration": 190,
    "start_time": "2023-12-23T16:52:46.415Z"
   },
   {
    "duration": 171,
    "start_time": "2023-12-23T16:52:46.607Z"
   },
   {
    "duration": 188,
    "start_time": "2023-12-23T16:52:46.781Z"
   },
   {
    "duration": 231,
    "start_time": "2023-12-23T16:52:46.971Z"
   },
   {
    "duration": 15,
    "start_time": "2023-12-23T16:52:47.203Z"
   },
   {
    "duration": 25,
    "start_time": "2023-12-23T16:52:47.219Z"
   },
   {
    "duration": 21,
    "start_time": "2023-12-23T16:52:47.245Z"
   },
   {
    "duration": 34,
    "start_time": "2023-12-23T16:52:47.267Z"
   },
   {
    "duration": 9,
    "start_time": "2023-12-23T16:52:47.302Z"
   },
   {
    "duration": 30,
    "start_time": "2023-12-23T16:52:47.313Z"
   },
   {
    "duration": 171,
    "start_time": "2023-12-23T16:52:47.344Z"
   },
   {
    "duration": 5,
    "start_time": "2023-12-23T16:52:47.516Z"
   },
   {
    "duration": 5,
    "start_time": "2023-12-23T16:52:47.522Z"
   },
   {
    "duration": 8,
    "start_time": "2023-12-23T16:52:47.528Z"
   },
   {
    "duration": 55,
    "start_time": "2023-12-23T16:52:47.538Z"
   },
   {
    "duration": 0,
    "start_time": "2023-12-23T16:52:47.594Z"
   },
   {
    "duration": 13,
    "start_time": "2023-12-23T16:54:17.693Z"
   },
   {
    "duration": 0,
    "start_time": "2023-12-23T16:54:17.708Z"
   },
   {
    "duration": 0,
    "start_time": "2023-12-23T16:54:17.710Z"
   },
   {
    "duration": 0,
    "start_time": "2023-12-23T16:54:17.711Z"
   },
   {
    "duration": 0,
    "start_time": "2023-12-23T16:54:17.712Z"
   },
   {
    "duration": 0,
    "start_time": "2023-12-23T16:54:17.713Z"
   },
   {
    "duration": 0,
    "start_time": "2023-12-23T16:54:17.714Z"
   },
   {
    "duration": 0,
    "start_time": "2023-12-23T16:54:17.716Z"
   },
   {
    "duration": 0,
    "start_time": "2023-12-23T16:54:17.717Z"
   },
   {
    "duration": 0,
    "start_time": "2023-12-23T16:54:17.718Z"
   },
   {
    "duration": 10,
    "start_time": "2023-12-23T16:54:39.136Z"
   },
   {
    "duration": 0,
    "start_time": "2023-12-23T16:54:39.147Z"
   },
   {
    "duration": 1,
    "start_time": "2023-12-23T16:54:39.148Z"
   },
   {
    "duration": 0,
    "start_time": "2023-12-23T16:54:39.149Z"
   },
   {
    "duration": 0,
    "start_time": "2023-12-23T16:54:39.151Z"
   },
   {
    "duration": 0,
    "start_time": "2023-12-23T16:54:39.152Z"
   },
   {
    "duration": 0,
    "start_time": "2023-12-23T16:54:39.152Z"
   },
   {
    "duration": 0,
    "start_time": "2023-12-23T16:54:39.153Z"
   },
   {
    "duration": 0,
    "start_time": "2023-12-23T16:54:39.154Z"
   },
   {
    "duration": 3,
    "start_time": "2023-12-23T16:54:39.157Z"
   },
   {
    "duration": 22,
    "start_time": "2023-12-23T16:54:57.028Z"
   },
   {
    "duration": 9,
    "start_time": "2023-12-23T16:54:57.051Z"
   },
   {
    "duration": 8,
    "start_time": "2023-12-23T16:54:57.062Z"
   },
   {
    "duration": 2,
    "start_time": "2023-12-23T16:54:57.072Z"
   },
   {
    "duration": 170,
    "start_time": "2023-12-23T16:54:57.076Z"
   },
   {
    "duration": 6,
    "start_time": "2023-12-23T16:54:57.248Z"
   },
   {
    "duration": 6,
    "start_time": "2023-12-23T16:54:57.255Z"
   },
   {
    "duration": 4,
    "start_time": "2023-12-23T16:54:57.263Z"
   },
   {
    "duration": 54,
    "start_time": "2023-12-23T16:54:57.268Z"
   },
   {
    "duration": 0,
    "start_time": "2023-12-23T16:54:57.324Z"
   },
   {
    "duration": 2,
    "start_time": "2023-12-23T16:56:15.608Z"
   },
   {
    "duration": 64,
    "start_time": "2023-12-23T16:56:15.612Z"
   },
   {
    "duration": 9,
    "start_time": "2023-12-23T16:56:15.678Z"
   },
   {
    "duration": 18,
    "start_time": "2023-12-23T16:56:15.689Z"
   },
   {
    "duration": 11,
    "start_time": "2023-12-23T16:56:15.710Z"
   },
   {
    "duration": 8,
    "start_time": "2023-12-23T16:56:15.722Z"
   },
   {
    "duration": 17,
    "start_time": "2023-12-23T16:56:15.731Z"
   },
   {
    "duration": 7,
    "start_time": "2023-12-23T16:56:15.749Z"
   },
   {
    "duration": 5,
    "start_time": "2023-12-23T16:56:15.758Z"
   },
   {
    "duration": 6,
    "start_time": "2023-12-23T16:56:15.799Z"
   },
   {
    "duration": 14,
    "start_time": "2023-12-23T16:56:15.808Z"
   },
   {
    "duration": 9,
    "start_time": "2023-12-23T16:56:15.823Z"
   },
   {
    "duration": 257,
    "start_time": "2023-12-23T16:56:15.833Z"
   },
   {
    "duration": 345,
    "start_time": "2023-12-23T16:56:16.098Z"
   },
   {
    "duration": 159,
    "start_time": "2023-12-23T16:56:16.445Z"
   },
   {
    "duration": 170,
    "start_time": "2023-12-23T16:56:16.605Z"
   },
   {
    "duration": 186,
    "start_time": "2023-12-23T16:56:16.776Z"
   },
   {
    "duration": 17,
    "start_time": "2023-12-23T16:56:16.963Z"
   },
   {
    "duration": 28,
    "start_time": "2023-12-23T16:56:16.981Z"
   },
   {
    "duration": 13,
    "start_time": "2023-12-23T16:56:17.010Z"
   },
   {
    "duration": 14,
    "start_time": "2023-12-23T16:56:17.025Z"
   },
   {
    "duration": 14,
    "start_time": "2023-12-23T16:56:17.041Z"
   },
   {
    "duration": 187,
    "start_time": "2023-12-23T16:56:17.057Z"
   },
   {
    "duration": 152,
    "start_time": "2023-12-23T16:56:17.245Z"
   },
   {
    "duration": 168,
    "start_time": "2023-12-23T16:56:17.398Z"
   },
   {
    "duration": 206,
    "start_time": "2023-12-23T16:56:17.568Z"
   },
   {
    "duration": 169,
    "start_time": "2023-12-23T16:56:17.775Z"
   },
   {
    "duration": 156,
    "start_time": "2023-12-23T16:56:17.946Z"
   },
   {
    "duration": 184,
    "start_time": "2023-12-23T16:56:18.105Z"
   },
   {
    "duration": 230,
    "start_time": "2023-12-23T16:56:18.291Z"
   },
   {
    "duration": 15,
    "start_time": "2023-12-23T16:56:18.522Z"
   },
   {
    "duration": 20,
    "start_time": "2023-12-23T16:56:18.539Z"
   },
   {
    "duration": 39,
    "start_time": "2023-12-23T16:56:18.561Z"
   },
   {
    "duration": 750,
    "start_time": "2023-12-23T16:56:18.602Z"
   },
   {
    "duration": 0,
    "start_time": "2023-12-23T16:56:19.353Z"
   },
   {
    "duration": 0,
    "start_time": "2023-12-23T16:56:19.355Z"
   },
   {
    "duration": 0,
    "start_time": "2023-12-23T16:56:19.356Z"
   },
   {
    "duration": 0,
    "start_time": "2023-12-23T16:56:19.358Z"
   },
   {
    "duration": 0,
    "start_time": "2023-12-23T16:56:19.359Z"
   },
   {
    "duration": 0,
    "start_time": "2023-12-23T16:56:19.360Z"
   },
   {
    "duration": 0,
    "start_time": "2023-12-23T16:56:19.361Z"
   },
   {
    "duration": 0,
    "start_time": "2023-12-23T16:56:19.363Z"
   },
   {
    "duration": 11,
    "start_time": "2023-12-23T16:58:14.206Z"
   },
   {
    "duration": 33,
    "start_time": "2023-12-23T16:58:14.219Z"
   },
   {
    "duration": 17,
    "start_time": "2023-12-23T16:58:14.253Z"
   },
   {
    "duration": 206,
    "start_time": "2023-12-23T16:58:14.271Z"
   },
   {
    "duration": 6,
    "start_time": "2023-12-23T16:58:14.478Z"
   },
   {
    "duration": 28,
    "start_time": "2023-12-23T16:58:14.485Z"
   },
   {
    "duration": 31,
    "start_time": "2023-12-23T16:58:14.515Z"
   },
   {
    "duration": 41,
    "start_time": "2023-12-23T16:58:14.547Z"
   },
   {
    "duration": 0,
    "start_time": "2023-12-23T16:58:14.590Z"
   },
   {
    "duration": 11,
    "start_time": "2023-12-23T17:00:19.280Z"
   },
   {
    "duration": 6,
    "start_time": "2023-12-23T17:00:19.292Z"
   },
   {
    "duration": 215,
    "start_time": "2023-12-23T17:00:19.300Z"
   },
   {
    "duration": 6,
    "start_time": "2023-12-23T17:00:19.518Z"
   },
   {
    "duration": 7,
    "start_time": "2023-12-23T17:00:19.525Z"
   },
   {
    "duration": 14,
    "start_time": "2023-12-23T17:00:19.533Z"
   },
   {
    "duration": 67,
    "start_time": "2023-12-23T17:00:19.549Z"
   },
   {
    "duration": 0,
    "start_time": "2023-12-23T17:00:19.618Z"
   },
   {
    "duration": 746,
    "start_time": "2023-12-23T17:08:08.117Z"
   },
   {
    "duration": 0,
    "start_time": "2023-12-23T17:08:08.865Z"
   },
   {
    "duration": 0,
    "start_time": "2023-12-23T17:08:08.867Z"
   },
   {
    "duration": 0,
    "start_time": "2023-12-23T17:08:08.868Z"
   },
   {
    "duration": 0,
    "start_time": "2023-12-23T17:08:08.869Z"
   },
   {
    "duration": 0,
    "start_time": "2023-12-23T17:08:08.870Z"
   },
   {
    "duration": 0,
    "start_time": "2023-12-23T17:08:08.871Z"
   },
   {
    "duration": 0,
    "start_time": "2023-12-23T17:08:08.872Z"
   },
   {
    "duration": 16,
    "start_time": "2023-12-23T17:08:48.073Z"
   },
   {
    "duration": 0,
    "start_time": "2023-12-23T17:08:48.091Z"
   },
   {
    "duration": 0,
    "start_time": "2023-12-23T17:08:48.092Z"
   },
   {
    "duration": 0,
    "start_time": "2023-12-23T17:08:48.093Z"
   },
   {
    "duration": 0,
    "start_time": "2023-12-23T17:08:48.094Z"
   },
   {
    "duration": 0,
    "start_time": "2023-12-23T17:08:48.095Z"
   },
   {
    "duration": 0,
    "start_time": "2023-12-23T17:08:48.096Z"
   },
   {
    "duration": 0,
    "start_time": "2023-12-23T17:08:48.098Z"
   },
   {
    "duration": 18,
    "start_time": "2023-12-23T17:09:26.251Z"
   },
   {
    "duration": 0,
    "start_time": "2023-12-23T17:09:26.271Z"
   },
   {
    "duration": 0,
    "start_time": "2023-12-23T17:09:26.272Z"
   },
   {
    "duration": 0,
    "start_time": "2023-12-23T17:09:26.274Z"
   },
   {
    "duration": 0,
    "start_time": "2023-12-23T17:09:26.275Z"
   },
   {
    "duration": 0,
    "start_time": "2023-12-23T17:09:26.276Z"
   },
   {
    "duration": 0,
    "start_time": "2023-12-23T17:09:26.277Z"
   },
   {
    "duration": 0,
    "start_time": "2023-12-23T17:09:26.278Z"
   },
   {
    "duration": 698,
    "start_time": "2023-12-23T17:09:49.117Z"
   },
   {
    "duration": 0,
    "start_time": "2023-12-23T17:09:49.817Z"
   },
   {
    "duration": 0,
    "start_time": "2023-12-23T17:09:49.818Z"
   },
   {
    "duration": 0,
    "start_time": "2023-12-23T17:09:49.818Z"
   },
   {
    "duration": 0,
    "start_time": "2023-12-23T17:09:49.819Z"
   },
   {
    "duration": 0,
    "start_time": "2023-12-23T17:09:49.821Z"
   },
   {
    "duration": 0,
    "start_time": "2023-12-23T17:09:49.821Z"
   },
   {
    "duration": 0,
    "start_time": "2023-12-23T17:09:49.822Z"
   },
   {
    "duration": 555,
    "start_time": "2023-12-23T17:10:34.578Z"
   },
   {
    "duration": 0,
    "start_time": "2023-12-23T17:10:35.135Z"
   },
   {
    "duration": 0,
    "start_time": "2023-12-23T17:10:35.136Z"
   },
   {
    "duration": 0,
    "start_time": "2023-12-23T17:10:35.137Z"
   },
   {
    "duration": 0,
    "start_time": "2023-12-23T17:10:35.138Z"
   },
   {
    "duration": 0,
    "start_time": "2023-12-23T17:10:35.138Z"
   },
   {
    "duration": 0,
    "start_time": "2023-12-23T17:10:35.139Z"
   },
   {
    "duration": 0,
    "start_time": "2023-12-23T17:10:35.141Z"
   },
   {
    "duration": 682,
    "start_time": "2023-12-23T17:11:01.301Z"
   },
   {
    "duration": 0,
    "start_time": "2023-12-23T17:11:01.985Z"
   },
   {
    "duration": 0,
    "start_time": "2023-12-23T17:11:01.986Z"
   },
   {
    "duration": 0,
    "start_time": "2023-12-23T17:11:01.988Z"
   },
   {
    "duration": 0,
    "start_time": "2023-12-23T17:11:01.989Z"
   },
   {
    "duration": 0,
    "start_time": "2023-12-23T17:11:01.990Z"
   },
   {
    "duration": 0,
    "start_time": "2023-12-23T17:11:01.992Z"
   },
   {
    "duration": 0,
    "start_time": "2023-12-23T17:11:01.993Z"
   },
   {
    "duration": 12,
    "start_time": "2023-12-23T17:13:41.270Z"
   },
   {
    "duration": 0,
    "start_time": "2023-12-23T17:13:41.283Z"
   },
   {
    "duration": 0,
    "start_time": "2023-12-23T17:13:41.284Z"
   },
   {
    "duration": 0,
    "start_time": "2023-12-23T17:13:41.285Z"
   },
   {
    "duration": 0,
    "start_time": "2023-12-23T17:13:41.286Z"
   },
   {
    "duration": 0,
    "start_time": "2023-12-23T17:13:41.287Z"
   },
   {
    "duration": 0,
    "start_time": "2023-12-23T17:13:41.288Z"
   },
   {
    "duration": 0,
    "start_time": "2023-12-23T17:13:41.289Z"
   },
   {
    "duration": 0,
    "start_time": "2023-12-23T17:13:41.290Z"
   },
   {
    "duration": 0,
    "start_time": "2023-12-23T17:13:41.291Z"
   },
   {
    "duration": 0,
    "start_time": "2023-12-23T17:13:41.292Z"
   },
   {
    "duration": 24,
    "start_time": "2023-12-23T17:16:18.204Z"
   },
   {
    "duration": 9,
    "start_time": "2023-12-23T17:16:18.230Z"
   },
   {
    "duration": 689,
    "start_time": "2023-12-23T17:16:18.240Z"
   },
   {
    "duration": 0,
    "start_time": "2023-12-23T17:16:18.931Z"
   },
   {
    "duration": 0,
    "start_time": "2023-12-23T17:16:18.932Z"
   },
   {
    "duration": 0,
    "start_time": "2023-12-23T17:16:18.933Z"
   },
   {
    "duration": 0,
    "start_time": "2023-12-23T17:16:18.934Z"
   },
   {
    "duration": 0,
    "start_time": "2023-12-23T17:16:18.935Z"
   },
   {
    "duration": 0,
    "start_time": "2023-12-23T17:16:18.936Z"
   },
   {
    "duration": 0,
    "start_time": "2023-12-23T17:16:18.937Z"
   },
   {
    "duration": 46,
    "start_time": "2023-12-23T17:47:08.753Z"
   },
   {
    "duration": 3,
    "start_time": "2023-12-23T17:47:08.801Z"
   },
   {
    "duration": 211,
    "start_time": "2023-12-23T17:47:08.806Z"
   },
   {
    "duration": 7,
    "start_time": "2023-12-23T17:47:09.020Z"
   },
   {
    "duration": 17,
    "start_time": "2023-12-23T17:47:09.028Z"
   },
   {
    "duration": 5,
    "start_time": "2023-12-23T17:47:09.047Z"
   },
   {
    "duration": 54,
    "start_time": "2023-12-23T17:47:09.054Z"
   },
   {
    "duration": 1,
    "start_time": "2023-12-23T17:47:09.109Z"
   },
   {
    "duration": 48,
    "start_time": "2023-12-23T17:47:56.295Z"
   },
   {
    "duration": 3,
    "start_time": "2023-12-23T17:47:56.344Z"
   },
   {
    "duration": 201,
    "start_time": "2023-12-23T17:47:56.348Z"
   },
   {
    "duration": 6,
    "start_time": "2023-12-23T17:47:56.552Z"
   },
   {
    "duration": 15,
    "start_time": "2023-12-23T17:47:56.560Z"
   },
   {
    "duration": 9,
    "start_time": "2023-12-23T17:47:56.577Z"
   },
   {
    "duration": 42,
    "start_time": "2023-12-23T17:47:56.588Z"
   },
   {
    "duration": 0,
    "start_time": "2023-12-23T17:47:56.632Z"
   },
   {
    "duration": 68,
    "start_time": "2023-12-23T17:48:24.490Z"
   },
   {
    "duration": 3,
    "start_time": "2023-12-23T17:48:24.559Z"
   },
   {
    "duration": 203,
    "start_time": "2023-12-23T17:48:24.564Z"
   },
   {
    "duration": 6,
    "start_time": "2023-12-23T17:48:24.769Z"
   },
   {
    "duration": 6,
    "start_time": "2023-12-23T17:48:24.776Z"
   },
   {
    "duration": 25,
    "start_time": "2023-12-23T17:48:24.783Z"
   },
   {
    "duration": 54,
    "start_time": "2023-12-23T17:48:24.810Z"
   },
   {
    "duration": 0,
    "start_time": "2023-12-23T17:48:24.866Z"
   },
   {
    "duration": 42,
    "start_time": "2023-12-23T17:56:49.940Z"
   },
   {
    "duration": 3,
    "start_time": "2023-12-23T17:56:49.984Z"
   },
   {
    "duration": 192,
    "start_time": "2023-12-23T17:56:49.988Z"
   },
   {
    "duration": 6,
    "start_time": "2023-12-23T17:56:50.182Z"
   },
   {
    "duration": 5,
    "start_time": "2023-12-23T17:56:50.200Z"
   },
   {
    "duration": 5,
    "start_time": "2023-12-23T17:56:50.207Z"
   },
   {
    "duration": 60,
    "start_time": "2023-12-23T17:56:50.213Z"
   },
   {
    "duration": 0,
    "start_time": "2023-12-23T17:56:50.275Z"
   },
   {
    "duration": 50,
    "start_time": "2023-12-23T18:06:56.007Z"
   },
   {
    "duration": 0,
    "start_time": "2023-12-23T18:06:56.059Z"
   },
   {
    "duration": 379,
    "start_time": "2023-12-23T18:07:15.162Z"
   },
   {
    "duration": 3,
    "start_time": "2023-12-23T18:07:15.543Z"
   },
   {
    "duration": 141,
    "start_time": "2023-12-23T18:07:39.758Z"
   },
   {
    "duration": 2,
    "start_time": "2023-12-23T18:07:39.901Z"
   },
   {
    "duration": 4,
    "start_time": "2023-12-23T18:07:50.737Z"
   },
   {
    "duration": 5,
    "start_time": "2023-12-23T18:07:50.743Z"
   },
   {
    "duration": 136,
    "start_time": "2023-12-23T18:08:20.442Z"
   },
   {
    "duration": 2,
    "start_time": "2023-12-23T18:08:20.581Z"
   },
   {
    "duration": 1100,
    "start_time": "2023-12-23T18:08:26.564Z"
   },
   {
    "duration": 2,
    "start_time": "2023-12-23T18:08:27.666Z"
   },
   {
    "duration": 19,
    "start_time": "2023-12-23T18:11:56.354Z"
   },
   {
    "duration": 21,
    "start_time": "2023-12-23T18:11:56.375Z"
   },
   {
    "duration": 1366,
    "start_time": "2023-12-23T18:19:54.028Z"
   },
   {
    "duration": 3,
    "start_time": "2023-12-23T18:19:55.399Z"
   },
   {
    "duration": 499,
    "start_time": "2023-12-23T18:20:10.481Z"
   },
   {
    "duration": 3,
    "start_time": "2023-12-23T18:20:10.981Z"
   },
   {
    "duration": 1448,
    "start_time": "2023-12-23T21:21:43.946Z"
   },
   {
    "duration": 4,
    "start_time": "2023-12-23T21:21:45.396Z"
   },
   {
    "duration": 849,
    "start_time": "2023-12-23T21:22:01.983Z"
   },
   {
    "duration": 2,
    "start_time": "2023-12-23T21:22:02.834Z"
   },
   {
    "duration": 6,
    "start_time": "2023-12-23T21:24:17.728Z"
   },
   {
    "duration": 2,
    "start_time": "2023-12-23T21:24:17.736Z"
   },
   {
    "duration": 7,
    "start_time": "2023-12-23T21:24:34.482Z"
   },
   {
    "duration": 21,
    "start_time": "2023-12-23T21:24:34.490Z"
   },
   {
    "duration": 8,
    "start_time": "2023-12-23T21:24:45.493Z"
   },
   {
    "duration": 3,
    "start_time": "2023-12-23T21:24:45.503Z"
   },
   {
    "duration": 7,
    "start_time": "2023-12-23T21:24:51.959Z"
   },
   {
    "duration": 28,
    "start_time": "2023-12-23T21:24:51.968Z"
   },
   {
    "duration": 7,
    "start_time": "2023-12-23T21:25:10.929Z"
   },
   {
    "duration": 10,
    "start_time": "2023-12-23T21:25:10.937Z"
   },
   {
    "duration": 119,
    "start_time": "2023-12-23T21:25:23.800Z"
   },
   {
    "duration": 0,
    "start_time": "2023-12-23T21:25:23.921Z"
   },
   {
    "duration": 124,
    "start_time": "2023-12-23T21:25:34.896Z"
   },
   {
    "duration": 0,
    "start_time": "2023-12-23T21:25:35.022Z"
   },
   {
    "duration": 108,
    "start_time": "2023-12-23T21:25:48.625Z"
   },
   {
    "duration": 0,
    "start_time": "2023-12-23T21:25:48.735Z"
   },
   {
    "duration": 12,
    "start_time": "2023-12-23T21:25:58.116Z"
   },
   {
    "duration": 0,
    "start_time": "2023-12-23T21:25:58.130Z"
   },
   {
    "duration": 8,
    "start_time": "2023-12-23T21:28:18.863Z"
   },
   {
    "duration": 11,
    "start_time": "2023-12-23T21:28:18.873Z"
   },
   {
    "duration": 7,
    "start_time": "2023-12-23T21:28:29.214Z"
   },
   {
    "duration": 3,
    "start_time": "2023-12-23T21:28:29.223Z"
   },
   {
    "duration": 6,
    "start_time": "2023-12-23T21:28:36.165Z"
   },
   {
    "duration": 11,
    "start_time": "2023-12-23T21:28:36.172Z"
   },
   {
    "duration": 6,
    "start_time": "2023-12-23T21:28:48.332Z"
   },
   {
    "duration": 3,
    "start_time": "2023-12-23T21:28:48.340Z"
   },
   {
    "duration": 7,
    "start_time": "2023-12-23T21:28:58.157Z"
   },
   {
    "duration": 24,
    "start_time": "2023-12-23T21:28:58.166Z"
   },
   {
    "duration": 11,
    "start_time": "2023-12-23T21:29:06.707Z"
   },
   {
    "duration": 3,
    "start_time": "2023-12-23T21:29:06.721Z"
   },
   {
    "duration": 8,
    "start_time": "2023-12-23T21:29:23.490Z"
   },
   {
    "duration": 5,
    "start_time": "2023-12-23T21:29:23.500Z"
   },
   {
    "duration": 6,
    "start_time": "2023-12-23T21:29:35.086Z"
   },
   {
    "duration": 46,
    "start_time": "2023-12-23T21:29:35.094Z"
   },
   {
    "duration": 6,
    "start_time": "2023-12-23T21:29:41.416Z"
   },
   {
    "duration": 24,
    "start_time": "2023-12-23T21:29:41.423Z"
   },
   {
    "duration": 3,
    "start_time": "2023-12-23T21:31:28.136Z"
   },
   {
    "duration": 69,
    "start_time": "2023-12-23T21:31:28.140Z"
   },
   {
    "duration": 8,
    "start_time": "2023-12-23T21:31:28.210Z"
   },
   {
    "duration": 27,
    "start_time": "2023-12-23T21:31:28.220Z"
   },
   {
    "duration": 10,
    "start_time": "2023-12-23T21:31:28.248Z"
   },
   {
    "duration": 12,
    "start_time": "2023-12-23T21:31:28.259Z"
   },
   {
    "duration": 22,
    "start_time": "2023-12-23T21:31:28.272Z"
   },
   {
    "duration": 5,
    "start_time": "2023-12-23T21:31:28.296Z"
   },
   {
    "duration": 17,
    "start_time": "2023-12-23T21:31:28.302Z"
   },
   {
    "duration": 28,
    "start_time": "2023-12-23T21:31:28.321Z"
   },
   {
    "duration": 43,
    "start_time": "2023-12-23T21:31:28.350Z"
   },
   {
    "duration": 20,
    "start_time": "2023-12-23T21:31:28.395Z"
   },
   {
    "duration": 242,
    "start_time": "2023-12-23T21:31:28.416Z"
   },
   {
    "duration": 176,
    "start_time": "2023-12-23T21:31:28.659Z"
   },
   {
    "duration": 149,
    "start_time": "2023-12-23T21:31:28.836Z"
   },
   {
    "duration": 149,
    "start_time": "2023-12-23T21:31:28.986Z"
   },
   {
    "duration": 167,
    "start_time": "2023-12-23T21:31:29.136Z"
   },
   {
    "duration": 14,
    "start_time": "2023-12-23T21:31:29.305Z"
   },
   {
    "duration": 23,
    "start_time": "2023-12-23T21:31:29.321Z"
   },
   {
    "duration": 17,
    "start_time": "2023-12-23T21:31:29.346Z"
   },
   {
    "duration": 22,
    "start_time": "2023-12-23T21:31:29.365Z"
   },
   {
    "duration": 13,
    "start_time": "2023-12-23T21:31:29.388Z"
   },
   {
    "duration": 143,
    "start_time": "2023-12-23T21:31:29.403Z"
   },
   {
    "duration": 139,
    "start_time": "2023-12-23T21:31:29.547Z"
   },
   {
    "duration": 155,
    "start_time": "2023-12-23T21:31:29.688Z"
   },
   {
    "duration": 206,
    "start_time": "2023-12-23T21:31:29.844Z"
   },
   {
    "duration": 164,
    "start_time": "2023-12-23T21:31:30.052Z"
   },
   {
    "duration": 148,
    "start_time": "2023-12-23T21:31:30.220Z"
   },
   {
    "duration": 182,
    "start_time": "2023-12-23T21:31:30.370Z"
   },
   {
    "duration": 218,
    "start_time": "2023-12-23T21:31:30.554Z"
   },
   {
    "duration": 14,
    "start_time": "2023-12-23T21:31:30.773Z"
   },
   {
    "duration": 81,
    "start_time": "2023-12-23T21:31:30.799Z"
   },
   {
    "duration": 41,
    "start_time": "2023-12-23T21:31:30.882Z"
   },
   {
    "duration": 12,
    "start_time": "2023-12-23T21:31:30.924Z"
   },
   {
    "duration": 37,
    "start_time": "2023-12-23T21:31:30.937Z"
   },
   {
    "duration": 22,
    "start_time": "2023-12-23T21:31:30.975Z"
   },
   {
    "duration": 191,
    "start_time": "2023-12-23T21:31:30.998Z"
   },
   {
    "duration": 5,
    "start_time": "2023-12-23T21:31:31.190Z"
   },
   {
    "duration": 24,
    "start_time": "2023-12-23T21:31:31.198Z"
   },
   {
    "duration": 24,
    "start_time": "2023-12-23T21:31:31.223Z"
   },
   {
    "duration": 24,
    "start_time": "2023-12-23T21:31:31.249Z"
   },
   {
    "duration": 25,
    "start_time": "2023-12-23T21:31:31.275Z"
   },
   {
    "duration": 12,
    "start_time": "2023-12-23T21:37:54.239Z"
   },
   {
    "duration": 0,
    "start_time": "2023-12-23T21:37:54.253Z"
   },
   {
    "duration": 0,
    "start_time": "2023-12-23T21:37:54.254Z"
   },
   {
    "duration": 0,
    "start_time": "2023-12-23T21:37:54.255Z"
   },
   {
    "duration": 0,
    "start_time": "2023-12-23T21:37:54.256Z"
   },
   {
    "duration": 0,
    "start_time": "2023-12-23T21:37:54.257Z"
   },
   {
    "duration": 0,
    "start_time": "2023-12-23T21:37:54.257Z"
   },
   {
    "duration": 0,
    "start_time": "2023-12-23T21:37:54.258Z"
   },
   {
    "duration": 0,
    "start_time": "2023-12-23T21:37:54.259Z"
   },
   {
    "duration": 0,
    "start_time": "2023-12-23T21:37:54.260Z"
   },
   {
    "duration": 0,
    "start_time": "2023-12-23T21:37:54.261Z"
   },
   {
    "duration": 0,
    "start_time": "2023-12-23T21:37:54.262Z"
   },
   {
    "duration": 149,
    "start_time": "2023-12-23T21:37:54.264Z"
   },
   {
    "duration": 141,
    "start_time": "2023-12-23T21:37:54.414Z"
   },
   {
    "duration": 162,
    "start_time": "2023-12-23T21:37:54.556Z"
   },
   {
    "duration": 211,
    "start_time": "2023-12-23T21:37:54.719Z"
   },
   {
    "duration": 12,
    "start_time": "2023-12-23T21:37:54.932Z"
   },
   {
    "duration": 17,
    "start_time": "2023-12-23T21:37:54.945Z"
   },
   {
    "duration": 36,
    "start_time": "2023-12-23T21:37:54.963Z"
   },
   {
    "duration": 8,
    "start_time": "2023-12-23T21:37:55.000Z"
   },
   {
    "duration": 15,
    "start_time": "2023-12-23T21:37:55.009Z"
   },
   {
    "duration": 5,
    "start_time": "2023-12-23T21:37:55.025Z"
   },
   {
    "duration": 171,
    "start_time": "2023-12-23T21:37:55.031Z"
   },
   {
    "duration": 5,
    "start_time": "2023-12-23T21:37:55.204Z"
   },
   {
    "duration": 8,
    "start_time": "2023-12-23T21:37:55.210Z"
   },
   {
    "duration": 6,
    "start_time": "2023-12-23T21:37:55.219Z"
   },
   {
    "duration": 10,
    "start_time": "2023-12-23T21:37:55.226Z"
   },
   {
    "duration": 2,
    "start_time": "2023-12-23T21:37:55.238Z"
   },
   {
    "duration": 89,
    "start_time": "2023-12-23T21:38:10.445Z"
   },
   {
    "duration": 157,
    "start_time": "2023-12-23T21:38:10.535Z"
   },
   {
    "duration": 178,
    "start_time": "2023-12-23T21:38:10.694Z"
   },
   {
    "duration": 15,
    "start_time": "2023-12-23T21:38:10.873Z"
   },
   {
    "duration": 23,
    "start_time": "2023-12-23T21:38:10.889Z"
   },
   {
    "duration": 11,
    "start_time": "2023-12-23T21:38:10.913Z"
   },
   {
    "duration": 13,
    "start_time": "2023-12-23T21:38:10.925Z"
   },
   {
    "duration": 13,
    "start_time": "2023-12-23T21:38:10.939Z"
   },
   {
    "duration": 163,
    "start_time": "2023-12-23T21:38:10.954Z"
   },
   {
    "duration": 462,
    "start_time": "2023-12-23T21:38:11.119Z"
   },
   {
    "duration": 158,
    "start_time": "2023-12-23T21:38:11.582Z"
   },
   {
    "duration": 192,
    "start_time": "2023-12-23T21:38:11.741Z"
   },
   {
    "duration": 154,
    "start_time": "2023-12-23T21:38:11.934Z"
   },
   {
    "duration": 140,
    "start_time": "2023-12-23T21:38:12.089Z"
   },
   {
    "duration": 163,
    "start_time": "2023-12-23T21:38:12.230Z"
   },
   {
    "duration": 205,
    "start_time": "2023-12-23T21:38:12.394Z"
   },
   {
    "duration": 14,
    "start_time": "2023-12-23T21:38:12.600Z"
   },
   {
    "duration": 18,
    "start_time": "2023-12-23T21:38:12.615Z"
   },
   {
    "duration": 17,
    "start_time": "2023-12-23T21:38:12.634Z"
   },
   {
    "duration": 8,
    "start_time": "2023-12-23T21:38:12.652Z"
   },
   {
    "duration": 38,
    "start_time": "2023-12-23T21:38:12.661Z"
   },
   {
    "duration": 2,
    "start_time": "2023-12-23T21:38:12.700Z"
   },
   {
    "duration": 171,
    "start_time": "2023-12-23T21:38:12.703Z"
   },
   {
    "duration": 5,
    "start_time": "2023-12-23T21:38:12.876Z"
   },
   {
    "duration": 4,
    "start_time": "2023-12-23T21:38:12.882Z"
   },
   {
    "duration": 4,
    "start_time": "2023-12-23T21:38:12.899Z"
   },
   {
    "duration": 10,
    "start_time": "2023-12-23T21:38:12.905Z"
   },
   {
    "duration": 8,
    "start_time": "2023-12-23T21:38:12.917Z"
   },
   {
    "duration": 12,
    "start_time": "2023-12-23T21:51:12.653Z"
   },
   {
    "duration": 0,
    "start_time": "2023-12-23T21:51:12.666Z"
   },
   {
    "duration": 0,
    "start_time": "2023-12-23T21:51:12.667Z"
   },
   {
    "duration": 0,
    "start_time": "2023-12-23T21:51:12.669Z"
   },
   {
    "duration": 0,
    "start_time": "2023-12-23T21:51:12.669Z"
   },
   {
    "duration": 0,
    "start_time": "2023-12-23T21:51:12.670Z"
   },
   {
    "duration": 0,
    "start_time": "2023-12-23T21:51:12.671Z"
   },
   {
    "duration": 0,
    "start_time": "2023-12-23T21:51:12.673Z"
   },
   {
    "duration": 0,
    "start_time": "2023-12-23T21:51:12.674Z"
   },
   {
    "duration": 168,
    "start_time": "2023-12-23T21:51:12.676Z"
   },
   {
    "duration": 143,
    "start_time": "2023-12-23T21:51:12.845Z"
   },
   {
    "duration": 153,
    "start_time": "2023-12-23T21:51:12.989Z"
   },
   {
    "duration": 195,
    "start_time": "2023-12-23T21:51:13.144Z"
   },
   {
    "duration": 163,
    "start_time": "2023-12-23T21:51:13.341Z"
   },
   {
    "duration": 144,
    "start_time": "2023-12-23T21:51:13.505Z"
   },
   {
    "duration": 179,
    "start_time": "2023-12-23T21:51:13.651Z"
   },
   {
    "duration": 216,
    "start_time": "2023-12-23T21:51:13.831Z"
   },
   {
    "duration": 18,
    "start_time": "2023-12-23T21:51:14.049Z"
   },
   {
    "duration": 31,
    "start_time": "2023-12-23T21:51:14.069Z"
   },
   {
    "duration": 16,
    "start_time": "2023-12-23T21:51:14.102Z"
   },
   {
    "duration": 20,
    "start_time": "2023-12-23T21:51:14.119Z"
   },
   {
    "duration": 13,
    "start_time": "2023-12-23T21:51:14.140Z"
   },
   {
    "duration": 194,
    "start_time": "2023-12-23T21:51:14.154Z"
   },
   {
    "duration": 6,
    "start_time": "2023-12-23T21:51:14.349Z"
   },
   {
    "duration": 16,
    "start_time": "2023-12-23T21:51:14.356Z"
   },
   {
    "duration": 36,
    "start_time": "2023-12-23T21:51:14.374Z"
   },
   {
    "duration": 27,
    "start_time": "2023-12-23T21:51:14.411Z"
   },
   {
    "duration": 6,
    "start_time": "2023-12-23T21:51:14.440Z"
   },
   {
    "duration": 9,
    "start_time": "2023-12-23T21:53:27.487Z"
   },
   {
    "duration": 0,
    "start_time": "2023-12-23T21:53:27.497Z"
   },
   {
    "duration": 0,
    "start_time": "2023-12-23T21:53:27.498Z"
   },
   {
    "duration": 0,
    "start_time": "2023-12-23T21:53:27.499Z"
   },
   {
    "duration": 0,
    "start_time": "2023-12-23T21:53:27.501Z"
   },
   {
    "duration": 17,
    "start_time": "2023-12-23T21:53:27.502Z"
   },
   {
    "duration": 12,
    "start_time": "2023-12-23T21:53:27.520Z"
   },
   {
    "duration": 13,
    "start_time": "2023-12-23T21:53:27.533Z"
   },
   {
    "duration": 14,
    "start_time": "2023-12-23T21:53:27.548Z"
   },
   {
    "duration": 196,
    "start_time": "2023-12-23T21:53:27.563Z"
   },
   {
    "duration": 144,
    "start_time": "2023-12-23T21:53:27.760Z"
   },
   {
    "duration": 154,
    "start_time": "2023-12-23T21:53:27.906Z"
   },
   {
    "duration": 192,
    "start_time": "2023-12-23T21:53:28.061Z"
   },
   {
    "duration": 154,
    "start_time": "2023-12-23T21:53:28.255Z"
   },
   {
    "duration": 140,
    "start_time": "2023-12-23T21:53:28.410Z"
   },
   {
    "duration": 170,
    "start_time": "2023-12-23T21:53:28.551Z"
   },
   {
    "duration": 211,
    "start_time": "2023-12-23T21:53:28.724Z"
   },
   {
    "duration": 718,
    "start_time": "2023-12-23T21:53:28.936Z"
   },
   {
    "duration": 0,
    "start_time": "2023-12-23T21:53:29.656Z"
   },
   {
    "duration": 0,
    "start_time": "2023-12-23T21:53:29.656Z"
   },
   {
    "duration": 0,
    "start_time": "2023-12-23T21:53:29.657Z"
   },
   {
    "duration": 1,
    "start_time": "2023-12-23T21:53:29.658Z"
   },
   {
    "duration": 0,
    "start_time": "2023-12-23T21:53:29.659Z"
   },
   {
    "duration": 0,
    "start_time": "2023-12-23T21:53:29.660Z"
   },
   {
    "duration": 0,
    "start_time": "2023-12-23T21:53:29.661Z"
   },
   {
    "duration": 0,
    "start_time": "2023-12-23T21:53:29.662Z"
   },
   {
    "duration": 0,
    "start_time": "2023-12-23T21:53:29.663Z"
   },
   {
    "duration": 0,
    "start_time": "2023-12-23T21:53:29.664Z"
   },
   {
    "duration": 9,
    "start_time": "2023-12-23T21:53:43.304Z"
   },
   {
    "duration": 0,
    "start_time": "2023-12-23T21:53:43.315Z"
   },
   {
    "duration": 0,
    "start_time": "2023-12-23T21:53:43.316Z"
   },
   {
    "duration": 0,
    "start_time": "2023-12-23T21:53:43.317Z"
   },
   {
    "duration": 0,
    "start_time": "2023-12-23T21:53:43.318Z"
   },
   {
    "duration": 0,
    "start_time": "2023-12-23T21:53:43.318Z"
   },
   {
    "duration": 0,
    "start_time": "2023-12-23T21:53:43.319Z"
   },
   {
    "duration": 14,
    "start_time": "2023-12-23T21:53:43.321Z"
   },
   {
    "duration": 13,
    "start_time": "2023-12-23T21:53:43.337Z"
   },
   {
    "duration": 192,
    "start_time": "2023-12-23T21:53:43.351Z"
   },
   {
    "duration": 138,
    "start_time": "2023-12-23T21:53:43.544Z"
   },
   {
    "duration": 159,
    "start_time": "2023-12-23T21:53:43.684Z"
   },
   {
    "duration": 194,
    "start_time": "2023-12-23T21:53:43.845Z"
   },
   {
    "duration": 165,
    "start_time": "2023-12-23T21:53:44.041Z"
   },
   {
    "duration": 149,
    "start_time": "2023-12-23T21:53:44.207Z"
   },
   {
    "duration": 174,
    "start_time": "2023-12-23T21:53:44.357Z"
   },
   {
    "duration": 586,
    "start_time": "2023-12-23T21:53:44.533Z"
   },
   {
    "duration": 711,
    "start_time": "2023-12-23T21:53:45.121Z"
   },
   {
    "duration": 0,
    "start_time": "2023-12-23T21:53:45.833Z"
   },
   {
    "duration": 0,
    "start_time": "2023-12-23T21:53:45.835Z"
   },
   {
    "duration": 0,
    "start_time": "2023-12-23T21:53:45.836Z"
   },
   {
    "duration": 0,
    "start_time": "2023-12-23T21:53:45.837Z"
   },
   {
    "duration": 0,
    "start_time": "2023-12-23T21:53:45.838Z"
   },
   {
    "duration": 0,
    "start_time": "2023-12-23T21:53:45.839Z"
   },
   {
    "duration": 0,
    "start_time": "2023-12-23T21:53:45.840Z"
   },
   {
    "duration": 0,
    "start_time": "2023-12-23T21:53:45.841Z"
   },
   {
    "duration": 0,
    "start_time": "2023-12-23T21:53:45.842Z"
   },
   {
    "duration": 0,
    "start_time": "2023-12-23T21:53:45.843Z"
   },
   {
    "duration": 12,
    "start_time": "2023-12-23T21:54:32.593Z"
   },
   {
    "duration": 0,
    "start_time": "2023-12-23T21:54:32.607Z"
   },
   {
    "duration": 0,
    "start_time": "2023-12-23T21:54:32.608Z"
   },
   {
    "duration": 0,
    "start_time": "2023-12-23T21:54:32.609Z"
   },
   {
    "duration": 0,
    "start_time": "2023-12-23T21:54:32.611Z"
   },
   {
    "duration": 27,
    "start_time": "2023-12-23T21:54:32.612Z"
   },
   {
    "duration": 15,
    "start_time": "2023-12-23T21:54:32.640Z"
   },
   {
    "duration": 44,
    "start_time": "2023-12-23T21:54:32.657Z"
   },
   {
    "duration": 21,
    "start_time": "2023-12-23T21:54:32.703Z"
   },
   {
    "duration": 160,
    "start_time": "2023-12-23T21:54:32.726Z"
   },
   {
    "duration": 145,
    "start_time": "2023-12-23T21:54:32.888Z"
   },
   {
    "duration": 162,
    "start_time": "2023-12-23T21:54:33.034Z"
   },
   {
    "duration": 191,
    "start_time": "2023-12-23T21:54:33.200Z"
   },
   {
    "duration": 180,
    "start_time": "2023-12-23T21:54:33.393Z"
   },
   {
    "duration": 150,
    "start_time": "2023-12-23T21:54:33.575Z"
   },
   {
    "duration": 178,
    "start_time": "2023-12-23T21:54:33.726Z"
   },
   {
    "duration": 220,
    "start_time": "2023-12-23T21:54:33.905Z"
   },
   {
    "duration": 633,
    "start_time": "2023-12-23T21:54:34.127Z"
   },
   {
    "duration": 0,
    "start_time": "2023-12-23T21:54:34.762Z"
   },
   {
    "duration": 0,
    "start_time": "2023-12-23T21:54:34.763Z"
   },
   {
    "duration": 0,
    "start_time": "2023-12-23T21:54:34.764Z"
   },
   {
    "duration": 0,
    "start_time": "2023-12-23T21:54:34.765Z"
   },
   {
    "duration": 0,
    "start_time": "2023-12-23T21:54:34.766Z"
   },
   {
    "duration": 0,
    "start_time": "2023-12-23T21:54:34.767Z"
   },
   {
    "duration": 0,
    "start_time": "2023-12-23T21:54:34.768Z"
   },
   {
    "duration": 0,
    "start_time": "2023-12-23T21:54:34.769Z"
   },
   {
    "duration": 0,
    "start_time": "2023-12-23T21:54:34.770Z"
   },
   {
    "duration": 0,
    "start_time": "2023-12-23T21:54:34.771Z"
   },
   {
    "duration": 178,
    "start_time": "2023-12-23T21:54:46.606Z"
   },
   {
    "duration": 92,
    "start_time": "2023-12-23T21:54:46.785Z"
   },
   {
    "duration": 159,
    "start_time": "2023-12-23T21:54:46.879Z"
   },
   {
    "duration": 168,
    "start_time": "2023-12-23T21:54:47.039Z"
   },
   {
    "duration": 15,
    "start_time": "2023-12-23T21:54:47.209Z"
   },
   {
    "duration": 14,
    "start_time": "2023-12-23T21:54:47.226Z"
   },
   {
    "duration": 11,
    "start_time": "2023-12-23T21:54:47.242Z"
   },
   {
    "duration": 12,
    "start_time": "2023-12-23T21:54:47.254Z"
   },
   {
    "duration": 40,
    "start_time": "2023-12-23T21:54:47.267Z"
   },
   {
    "duration": 146,
    "start_time": "2023-12-23T21:54:47.309Z"
   },
   {
    "duration": 143,
    "start_time": "2023-12-23T21:54:47.457Z"
   },
   {
    "duration": 161,
    "start_time": "2023-12-23T21:54:47.602Z"
   },
   {
    "duration": 199,
    "start_time": "2023-12-23T21:54:47.765Z"
   },
   {
    "duration": 160,
    "start_time": "2023-12-23T21:54:47.965Z"
   },
   {
    "duration": 149,
    "start_time": "2023-12-23T21:54:48.128Z"
   },
   {
    "duration": 175,
    "start_time": "2023-12-23T21:54:48.279Z"
   },
   {
    "duration": 222,
    "start_time": "2023-12-23T21:54:48.455Z"
   },
   {
    "duration": 706,
    "start_time": "2023-12-23T21:54:48.679Z"
   },
   {
    "duration": 0,
    "start_time": "2023-12-23T21:54:49.387Z"
   },
   {
    "duration": 0,
    "start_time": "2023-12-23T21:54:49.388Z"
   },
   {
    "duration": 0,
    "start_time": "2023-12-23T21:54:49.389Z"
   },
   {
    "duration": 0,
    "start_time": "2023-12-23T21:54:49.390Z"
   },
   {
    "duration": 0,
    "start_time": "2023-12-23T21:54:49.391Z"
   },
   {
    "duration": 0,
    "start_time": "2023-12-23T21:54:49.393Z"
   },
   {
    "duration": 0,
    "start_time": "2023-12-23T21:54:49.394Z"
   },
   {
    "duration": 0,
    "start_time": "2023-12-23T21:54:49.395Z"
   },
   {
    "duration": 1,
    "start_time": "2023-12-23T21:54:49.396Z"
   },
   {
    "duration": 0,
    "start_time": "2023-12-23T21:54:49.398Z"
   },
   {
    "duration": 138,
    "start_time": "2023-12-23T21:57:12.255Z"
   },
   {
    "duration": 87,
    "start_time": "2023-12-23T21:57:12.396Z"
   },
   {
    "duration": 154,
    "start_time": "2023-12-23T21:57:12.485Z"
   },
   {
    "duration": 168,
    "start_time": "2023-12-23T21:57:12.641Z"
   },
   {
    "duration": 17,
    "start_time": "2023-12-23T21:57:12.810Z"
   },
   {
    "duration": 16,
    "start_time": "2023-12-23T21:57:12.828Z"
   },
   {
    "duration": 11,
    "start_time": "2023-12-23T21:57:12.846Z"
   },
   {
    "duration": 15,
    "start_time": "2023-12-23T21:57:12.858Z"
   },
   {
    "duration": 16,
    "start_time": "2023-12-23T21:57:12.898Z"
   },
   {
    "duration": 162,
    "start_time": "2023-12-23T21:57:12.916Z"
   },
   {
    "duration": 140,
    "start_time": "2023-12-23T21:57:13.080Z"
   },
   {
    "duration": 159,
    "start_time": "2023-12-23T21:57:13.221Z"
   },
   {
    "duration": 204,
    "start_time": "2023-12-23T21:57:13.381Z"
   },
   {
    "duration": 156,
    "start_time": "2023-12-23T21:57:13.586Z"
   },
   {
    "duration": 144,
    "start_time": "2023-12-23T21:57:13.744Z"
   },
   {
    "duration": 169,
    "start_time": "2023-12-23T21:57:13.890Z"
   },
   {
    "duration": 227,
    "start_time": "2023-12-23T21:57:14.060Z"
   },
   {
    "duration": 781,
    "start_time": "2023-12-23T21:57:14.288Z"
   },
   {
    "duration": 0,
    "start_time": "2023-12-23T21:57:15.070Z"
   },
   {
    "duration": 0,
    "start_time": "2023-12-23T21:57:15.072Z"
   },
   {
    "duration": 0,
    "start_time": "2023-12-23T21:57:15.073Z"
   },
   {
    "duration": 0,
    "start_time": "2023-12-23T21:57:15.074Z"
   },
   {
    "duration": 0,
    "start_time": "2023-12-23T21:57:15.076Z"
   },
   {
    "duration": 0,
    "start_time": "2023-12-23T21:57:15.077Z"
   },
   {
    "duration": 0,
    "start_time": "2023-12-23T21:57:15.078Z"
   },
   {
    "duration": 0,
    "start_time": "2023-12-23T21:57:15.079Z"
   },
   {
    "duration": 0,
    "start_time": "2023-12-23T21:57:15.081Z"
   },
   {
    "duration": 0,
    "start_time": "2023-12-23T21:57:15.082Z"
   },
   {
    "duration": 143,
    "start_time": "2023-12-23T22:01:54.633Z"
   },
   {
    "duration": 0,
    "start_time": "2023-12-23T22:01:54.778Z"
   },
   {
    "duration": 0,
    "start_time": "2023-12-23T22:01:54.780Z"
   },
   {
    "duration": 0,
    "start_time": "2023-12-23T22:01:54.780Z"
   },
   {
    "duration": 0,
    "start_time": "2023-12-23T22:01:54.781Z"
   },
   {
    "duration": 0,
    "start_time": "2023-12-23T22:01:54.782Z"
   },
   {
    "duration": 0,
    "start_time": "2023-12-23T22:01:54.783Z"
   },
   {
    "duration": 0,
    "start_time": "2023-12-23T22:01:54.784Z"
   },
   {
    "duration": 0,
    "start_time": "2023-12-23T22:01:54.785Z"
   },
   {
    "duration": 0,
    "start_time": "2023-12-23T22:01:54.785Z"
   },
   {
    "duration": 0,
    "start_time": "2023-12-23T22:01:54.800Z"
   },
   {
    "duration": 0,
    "start_time": "2023-12-23T22:01:54.801Z"
   },
   {
    "duration": 0,
    "start_time": "2023-12-23T22:01:54.802Z"
   },
   {
    "duration": 0,
    "start_time": "2023-12-23T22:01:54.803Z"
   },
   {
    "duration": 0,
    "start_time": "2023-12-23T22:01:54.805Z"
   },
   {
    "duration": 0,
    "start_time": "2023-12-23T22:01:54.806Z"
   },
   {
    "duration": 0,
    "start_time": "2023-12-23T22:01:54.807Z"
   },
   {
    "duration": 0,
    "start_time": "2023-12-23T22:01:54.809Z"
   },
   {
    "duration": 0,
    "start_time": "2023-12-23T22:01:54.810Z"
   },
   {
    "duration": 0,
    "start_time": "2023-12-23T22:01:54.811Z"
   },
   {
    "duration": 0,
    "start_time": "2023-12-23T22:01:54.812Z"
   },
   {
    "duration": 0,
    "start_time": "2023-12-23T22:01:54.813Z"
   },
   {
    "duration": 1,
    "start_time": "2023-12-23T22:01:54.814Z"
   },
   {
    "duration": 0,
    "start_time": "2023-12-23T22:01:54.816Z"
   },
   {
    "duration": 0,
    "start_time": "2023-12-23T22:01:54.817Z"
   },
   {
    "duration": 0,
    "start_time": "2023-12-23T22:01:54.818Z"
   },
   {
    "duration": 0,
    "start_time": "2023-12-23T22:01:54.819Z"
   },
   {
    "duration": 0,
    "start_time": "2023-12-23T22:01:54.821Z"
   },
   {
    "duration": 136,
    "start_time": "2023-12-23T22:05:32.846Z"
   },
   {
    "duration": 0,
    "start_time": "2023-12-23T22:05:32.984Z"
   },
   {
    "duration": 0,
    "start_time": "2023-12-23T22:05:32.985Z"
   },
   {
    "duration": 0,
    "start_time": "2023-12-23T22:05:32.986Z"
   },
   {
    "duration": 0,
    "start_time": "2023-12-23T22:05:32.987Z"
   },
   {
    "duration": 0,
    "start_time": "2023-12-23T22:05:32.988Z"
   },
   {
    "duration": 0,
    "start_time": "2023-12-23T22:05:32.998Z"
   },
   {
    "duration": 0,
    "start_time": "2023-12-23T22:05:32.999Z"
   },
   {
    "duration": 0,
    "start_time": "2023-12-23T22:05:33.000Z"
   },
   {
    "duration": 0,
    "start_time": "2023-12-23T22:05:33.001Z"
   },
   {
    "duration": 0,
    "start_time": "2023-12-23T22:05:33.002Z"
   },
   {
    "duration": 0,
    "start_time": "2023-12-23T22:05:33.003Z"
   },
   {
    "duration": 0,
    "start_time": "2023-12-23T22:05:33.003Z"
   },
   {
    "duration": 0,
    "start_time": "2023-12-23T22:05:33.004Z"
   },
   {
    "duration": 0,
    "start_time": "2023-12-23T22:05:33.005Z"
   },
   {
    "duration": 0,
    "start_time": "2023-12-23T22:05:33.006Z"
   },
   {
    "duration": 0,
    "start_time": "2023-12-23T22:05:33.007Z"
   },
   {
    "duration": 0,
    "start_time": "2023-12-23T22:05:33.008Z"
   },
   {
    "duration": 0,
    "start_time": "2023-12-23T22:05:33.009Z"
   },
   {
    "duration": 0,
    "start_time": "2023-12-23T22:05:33.010Z"
   },
   {
    "duration": 0,
    "start_time": "2023-12-23T22:05:33.011Z"
   },
   {
    "duration": 0,
    "start_time": "2023-12-23T22:05:33.011Z"
   },
   {
    "duration": 0,
    "start_time": "2023-12-23T22:05:33.012Z"
   },
   {
    "duration": 0,
    "start_time": "2023-12-23T22:05:33.013Z"
   },
   {
    "duration": 0,
    "start_time": "2023-12-23T22:05:33.014Z"
   },
   {
    "duration": 0,
    "start_time": "2023-12-23T22:05:33.015Z"
   },
   {
    "duration": 0,
    "start_time": "2023-12-23T22:05:33.016Z"
   },
   {
    "duration": 0,
    "start_time": "2023-12-23T22:05:33.017Z"
   },
   {
    "duration": 143,
    "start_time": "2023-12-23T22:05:43.971Z"
   },
   {
    "duration": 96,
    "start_time": "2023-12-23T22:05:44.116Z"
   },
   {
    "duration": 155,
    "start_time": "2023-12-23T22:05:44.213Z"
   },
   {
    "duration": 166,
    "start_time": "2023-12-23T22:05:44.371Z"
   },
   {
    "duration": 16,
    "start_time": "2023-12-23T22:05:44.539Z"
   },
   {
    "duration": 16,
    "start_time": "2023-12-23T22:05:44.557Z"
   },
   {
    "duration": 31,
    "start_time": "2023-12-23T22:05:44.575Z"
   },
   {
    "duration": 14,
    "start_time": "2023-12-23T22:05:44.608Z"
   },
   {
    "duration": 14,
    "start_time": "2023-12-23T22:05:44.623Z"
   },
   {
    "duration": 170,
    "start_time": "2023-12-23T22:05:44.639Z"
   },
   {
    "duration": 144,
    "start_time": "2023-12-23T22:05:44.810Z"
   },
   {
    "duration": 154,
    "start_time": "2023-12-23T22:05:44.955Z"
   },
   {
    "duration": 646,
    "start_time": "2023-12-23T22:05:45.111Z"
   },
   {
    "duration": 148,
    "start_time": "2023-12-23T22:05:45.759Z"
   },
   {
    "duration": 145,
    "start_time": "2023-12-23T22:05:45.909Z"
   },
   {
    "duration": 167,
    "start_time": "2023-12-23T22:05:46.055Z"
   },
   {
    "duration": 206,
    "start_time": "2023-12-23T22:05:46.224Z"
   },
   {
    "duration": 801,
    "start_time": "2023-12-23T22:05:46.431Z"
   },
   {
    "duration": 0,
    "start_time": "2023-12-23T22:05:47.234Z"
   },
   {
    "duration": 0,
    "start_time": "2023-12-23T22:05:47.236Z"
   },
   {
    "duration": 0,
    "start_time": "2023-12-23T22:05:47.237Z"
   },
   {
    "duration": 0,
    "start_time": "2023-12-23T22:05:47.238Z"
   },
   {
    "duration": 0,
    "start_time": "2023-12-23T22:05:47.239Z"
   },
   {
    "duration": 0,
    "start_time": "2023-12-23T22:05:47.241Z"
   },
   {
    "duration": 0,
    "start_time": "2023-12-23T22:05:47.242Z"
   },
   {
    "duration": 0,
    "start_time": "2023-12-23T22:05:47.243Z"
   },
   {
    "duration": 1,
    "start_time": "2023-12-23T22:05:47.244Z"
   },
   {
    "duration": 0,
    "start_time": "2023-12-23T22:05:47.246Z"
   },
   {
    "duration": 146,
    "start_time": "2023-12-23T22:06:29.194Z"
   },
   {
    "duration": 99,
    "start_time": "2023-12-23T22:06:29.342Z"
   },
   {
    "duration": 159,
    "start_time": "2023-12-23T22:06:29.442Z"
   },
   {
    "duration": 174,
    "start_time": "2023-12-23T22:06:29.603Z"
   },
   {
    "duration": 21,
    "start_time": "2023-12-23T22:06:29.779Z"
   },
   {
    "duration": 16,
    "start_time": "2023-12-23T22:06:29.802Z"
   },
   {
    "duration": 11,
    "start_time": "2023-12-23T22:06:29.819Z"
   },
   {
    "duration": 14,
    "start_time": "2023-12-23T22:06:29.831Z"
   },
   {
    "duration": 13,
    "start_time": "2023-12-23T22:06:29.846Z"
   },
   {
    "duration": 169,
    "start_time": "2023-12-23T22:06:29.861Z"
   },
   {
    "duration": 160,
    "start_time": "2023-12-23T22:06:30.032Z"
   },
   {
    "duration": 160,
    "start_time": "2023-12-23T22:06:30.194Z"
   },
   {
    "duration": 193,
    "start_time": "2023-12-23T22:06:30.356Z"
   },
   {
    "duration": 158,
    "start_time": "2023-12-23T22:06:30.550Z"
   },
   {
    "duration": 161,
    "start_time": "2023-12-23T22:06:30.710Z"
   },
   {
    "duration": 178,
    "start_time": "2023-12-23T22:06:30.873Z"
   },
   {
    "duration": 214,
    "start_time": "2023-12-23T22:06:31.053Z"
   },
   {
    "duration": 705,
    "start_time": "2023-12-23T22:06:31.269Z"
   },
   {
    "duration": 0,
    "start_time": "2023-12-23T22:06:31.975Z"
   },
   {
    "duration": 0,
    "start_time": "2023-12-23T22:06:31.976Z"
   },
   {
    "duration": 0,
    "start_time": "2023-12-23T22:06:31.977Z"
   },
   {
    "duration": 0,
    "start_time": "2023-12-23T22:06:31.978Z"
   },
   {
    "duration": 0,
    "start_time": "2023-12-23T22:06:31.979Z"
   },
   {
    "duration": 0,
    "start_time": "2023-12-23T22:06:31.980Z"
   },
   {
    "duration": 0,
    "start_time": "2023-12-23T22:06:31.981Z"
   },
   {
    "duration": 0,
    "start_time": "2023-12-23T22:06:31.982Z"
   },
   {
    "duration": 0,
    "start_time": "2023-12-23T22:06:31.983Z"
   },
   {
    "duration": 0,
    "start_time": "2023-12-23T22:06:31.984Z"
   },
   {
    "duration": 1151,
    "start_time": "2023-12-24T10:31:55.442Z"
   },
   {
    "duration": 243,
    "start_time": "2023-12-24T10:31:56.595Z"
   },
   {
    "duration": 12,
    "start_time": "2023-12-24T10:31:56.840Z"
   },
   {
    "duration": 15,
    "start_time": "2023-12-24T10:31:56.854Z"
   },
   {
    "duration": 9,
    "start_time": "2023-12-24T10:31:56.871Z"
   },
   {
    "duration": 14,
    "start_time": "2023-12-24T10:31:56.882Z"
   },
   {
    "duration": 13,
    "start_time": "2023-12-24T10:31:56.897Z"
   },
   {
    "duration": 5,
    "start_time": "2023-12-24T10:31:56.912Z"
   },
   {
    "duration": 6,
    "start_time": "2023-12-24T10:31:56.918Z"
   },
   {
    "duration": 4,
    "start_time": "2023-12-24T10:31:56.926Z"
   },
   {
    "duration": 14,
    "start_time": "2023-12-24T10:31:56.932Z"
   },
   {
    "duration": 12,
    "start_time": "2023-12-24T10:31:56.947Z"
   },
   {
    "duration": 1251,
    "start_time": "2023-12-24T10:31:56.961Z"
   },
   {
    "duration": 0,
    "start_time": "2023-12-24T10:31:58.214Z"
   },
   {
    "duration": 0,
    "start_time": "2023-12-24T10:31:58.216Z"
   },
   {
    "duration": 0,
    "start_time": "2023-12-24T10:31:58.216Z"
   },
   {
    "duration": 0,
    "start_time": "2023-12-24T10:31:58.218Z"
   },
   {
    "duration": 0,
    "start_time": "2023-12-24T10:31:58.219Z"
   },
   {
    "duration": 0,
    "start_time": "2023-12-24T10:31:58.220Z"
   },
   {
    "duration": 0,
    "start_time": "2023-12-24T10:31:58.220Z"
   },
   {
    "duration": 0,
    "start_time": "2023-12-24T10:31:58.221Z"
   },
   {
    "duration": 0,
    "start_time": "2023-12-24T10:31:58.222Z"
   },
   {
    "duration": 0,
    "start_time": "2023-12-24T10:31:58.223Z"
   },
   {
    "duration": 0,
    "start_time": "2023-12-24T10:31:58.224Z"
   },
   {
    "duration": 0,
    "start_time": "2023-12-24T10:31:58.225Z"
   },
   {
    "duration": 0,
    "start_time": "2023-12-24T10:31:58.226Z"
   },
   {
    "duration": 0,
    "start_time": "2023-12-24T10:31:58.227Z"
   },
   {
    "duration": 0,
    "start_time": "2023-12-24T10:31:58.228Z"
   },
   {
    "duration": 0,
    "start_time": "2023-12-24T10:31:58.229Z"
   },
   {
    "duration": 0,
    "start_time": "2023-12-24T10:31:58.230Z"
   },
   {
    "duration": 0,
    "start_time": "2023-12-24T10:31:58.231Z"
   },
   {
    "duration": 0,
    "start_time": "2023-12-24T10:31:58.232Z"
   },
   {
    "duration": 0,
    "start_time": "2023-12-24T10:31:58.233Z"
   },
   {
    "duration": 0,
    "start_time": "2023-12-24T10:31:58.234Z"
   },
   {
    "duration": 0,
    "start_time": "2023-12-24T10:31:58.235Z"
   },
   {
    "duration": 0,
    "start_time": "2023-12-24T10:31:58.236Z"
   },
   {
    "duration": 0,
    "start_time": "2023-12-24T10:31:58.237Z"
   },
   {
    "duration": 0,
    "start_time": "2023-12-24T10:31:58.238Z"
   },
   {
    "duration": 0,
    "start_time": "2023-12-24T10:31:58.239Z"
   },
   {
    "duration": 0,
    "start_time": "2023-12-24T10:31:58.240Z"
   },
   {
    "duration": 0,
    "start_time": "2023-12-24T10:31:58.241Z"
   },
   {
    "duration": 0,
    "start_time": "2023-12-24T10:31:58.242Z"
   },
   {
    "duration": 3,
    "start_time": "2023-12-24T10:32:49.502Z"
   },
   {
    "duration": 64,
    "start_time": "2023-12-24T10:32:49.506Z"
   },
   {
    "duration": 8,
    "start_time": "2023-12-24T10:32:49.571Z"
   },
   {
    "duration": 22,
    "start_time": "2023-12-24T10:32:49.581Z"
   },
   {
    "duration": 16,
    "start_time": "2023-12-24T10:32:49.605Z"
   },
   {
    "duration": 7,
    "start_time": "2023-12-24T10:32:49.623Z"
   },
   {
    "duration": 14,
    "start_time": "2023-12-24T10:32:49.632Z"
   },
   {
    "duration": 5,
    "start_time": "2023-12-24T10:32:49.647Z"
   },
   {
    "duration": 8,
    "start_time": "2023-12-24T10:32:49.654Z"
   },
   {
    "duration": 5,
    "start_time": "2023-12-24T10:32:49.663Z"
   },
   {
    "duration": 14,
    "start_time": "2023-12-24T10:32:49.669Z"
   },
   {
    "duration": 31,
    "start_time": "2023-12-24T10:32:49.684Z"
   },
   {
    "duration": 29,
    "start_time": "2023-12-24T10:32:49.716Z"
   },
   {
    "duration": 258,
    "start_time": "2023-12-24T10:32:49.746Z"
   },
   {
    "duration": 157,
    "start_time": "2023-12-24T10:32:50.005Z"
   },
   {
    "duration": 106,
    "start_time": "2023-12-24T10:32:50.164Z"
   },
   {
    "duration": 175,
    "start_time": "2023-12-24T10:32:50.272Z"
   },
   {
    "duration": 191,
    "start_time": "2023-12-24T10:32:50.449Z"
   },
   {
    "duration": 18,
    "start_time": "2023-12-24T10:32:50.642Z"
   },
   {
    "duration": 19,
    "start_time": "2023-12-24T10:32:50.662Z"
   },
   {
    "duration": 35,
    "start_time": "2023-12-24T10:32:50.683Z"
   },
   {
    "duration": 15,
    "start_time": "2023-12-24T10:32:50.720Z"
   },
   {
    "duration": 15,
    "start_time": "2023-12-24T10:32:50.737Z"
   },
   {
    "duration": 183,
    "start_time": "2023-12-24T10:32:50.756Z"
   },
   {
    "duration": 149,
    "start_time": "2023-12-24T10:32:50.941Z"
   },
   {
    "duration": 178,
    "start_time": "2023-12-24T10:32:51.092Z"
   },
   {
    "duration": 232,
    "start_time": "2023-12-24T10:32:51.272Z"
   },
   {
    "duration": 173,
    "start_time": "2023-12-24T10:32:51.506Z"
   },
   {
    "duration": 230,
    "start_time": "2023-12-24T10:32:51.681Z"
   },
   {
    "duration": 200,
    "start_time": "2023-12-24T10:32:51.912Z"
   },
   {
    "duration": 233,
    "start_time": "2023-12-24T10:32:52.113Z"
   },
   {
    "duration": 21,
    "start_time": "2023-12-24T10:32:52.348Z"
   },
   {
    "duration": 20,
    "start_time": "2023-12-24T10:32:52.371Z"
   },
   {
    "duration": 26,
    "start_time": "2023-12-24T10:32:52.392Z"
   },
   {
    "duration": 9,
    "start_time": "2023-12-24T10:32:52.420Z"
   },
   {
    "duration": 2,
    "start_time": "2023-12-24T10:32:52.430Z"
   },
   {
    "duration": 200,
    "start_time": "2023-12-24T10:32:52.434Z"
   },
   {
    "duration": 5,
    "start_time": "2023-12-24T10:32:52.635Z"
   },
   {
    "duration": 5,
    "start_time": "2023-12-24T10:32:52.641Z"
   },
   {
    "duration": 6,
    "start_time": "2023-12-24T10:32:52.648Z"
   },
   {
    "duration": 7,
    "start_time": "2023-12-24T10:32:52.655Z"
   },
   {
    "duration": 4,
    "start_time": "2023-12-24T10:32:52.664Z"
   },
   {
    "duration": 9,
    "start_time": "2023-12-24T10:35:51.549Z"
   },
   {
    "duration": 236,
    "start_time": "2023-12-24T10:35:51.559Z"
   },
   {
    "duration": 156,
    "start_time": "2023-12-24T10:35:51.796Z"
   },
   {
    "duration": 112,
    "start_time": "2023-12-24T10:35:51.954Z"
   },
   {
    "duration": 169,
    "start_time": "2023-12-24T10:35:52.068Z"
   },
   {
    "duration": 181,
    "start_time": "2023-12-24T10:35:52.239Z"
   },
   {
    "duration": 18,
    "start_time": "2023-12-24T10:35:52.421Z"
   },
   {
    "duration": 19,
    "start_time": "2023-12-24T10:35:52.441Z"
   },
   {
    "duration": 15,
    "start_time": "2023-12-24T10:35:52.461Z"
   },
   {
    "duration": 15,
    "start_time": "2023-12-24T10:35:52.511Z"
   },
   {
    "duration": 103,
    "start_time": "2023-12-24T10:35:52.529Z"
   },
   {
    "duration": 166,
    "start_time": "2023-12-24T10:35:52.634Z"
   },
   {
    "duration": 145,
    "start_time": "2023-12-24T10:35:52.801Z"
   },
   {
    "duration": 166,
    "start_time": "2023-12-24T10:35:52.948Z"
   },
   {
    "duration": 201,
    "start_time": "2023-12-24T10:35:53.115Z"
   },
   {
    "duration": 165,
    "start_time": "2023-12-24T10:35:53.318Z"
   },
   {
    "duration": 167,
    "start_time": "2023-12-24T10:35:53.485Z"
   },
   {
    "duration": 191,
    "start_time": "2023-12-24T10:35:53.653Z"
   },
   {
    "duration": 237,
    "start_time": "2023-12-24T10:35:53.846Z"
   },
   {
    "duration": 28,
    "start_time": "2023-12-24T10:35:54.084Z"
   },
   {
    "duration": 19,
    "start_time": "2023-12-24T10:35:54.113Z"
   },
   {
    "duration": 9,
    "start_time": "2023-12-24T10:35:54.134Z"
   },
   {
    "duration": 13,
    "start_time": "2023-12-24T10:35:54.144Z"
   },
   {
    "duration": 6,
    "start_time": "2023-12-24T10:35:54.158Z"
   },
   {
    "duration": 204,
    "start_time": "2023-12-24T10:35:54.165Z"
   },
   {
    "duration": 5,
    "start_time": "2023-12-24T10:35:54.371Z"
   },
   {
    "duration": 12,
    "start_time": "2023-12-24T10:35:54.377Z"
   },
   {
    "duration": 5,
    "start_time": "2023-12-24T10:35:54.392Z"
   },
   {
    "duration": 14,
    "start_time": "2023-12-24T10:35:54.398Z"
   },
   {
    "duration": 8,
    "start_time": "2023-12-24T10:35:54.413Z"
   },
   {
    "duration": 4,
    "start_time": "2023-12-24T11:28:51.978Z"
   },
   {
    "duration": 82,
    "start_time": "2023-12-24T11:28:51.984Z"
   },
   {
    "duration": 9,
    "start_time": "2023-12-24T11:28:52.068Z"
   },
   {
    "duration": 15,
    "start_time": "2023-12-24T11:28:52.079Z"
   },
   {
    "duration": 10,
    "start_time": "2023-12-24T11:28:52.095Z"
   },
   {
    "duration": 8,
    "start_time": "2023-12-24T11:28:52.107Z"
   },
   {
    "duration": 19,
    "start_time": "2023-12-24T11:28:52.117Z"
   },
   {
    "duration": 6,
    "start_time": "2023-12-24T11:28:52.137Z"
   },
   {
    "duration": 6,
    "start_time": "2023-12-24T11:28:52.147Z"
   },
   {
    "duration": 142,
    "start_time": "2023-12-24T11:28:52.155Z"
   },
   {
    "duration": 14,
    "start_time": "2023-12-24T11:28:52.310Z"
   },
   {
    "duration": 9,
    "start_time": "2023-12-24T11:28:52.325Z"
   },
   {
    "duration": 10,
    "start_time": "2023-12-24T11:28:52.336Z"
   },
   {
    "duration": 8,
    "start_time": "2023-12-24T11:28:52.347Z"
   },
   {
    "duration": 2,
    "start_time": "2023-12-24T11:28:52.357Z"
   },
   {
    "duration": 195,
    "start_time": "2023-12-24T11:28:52.361Z"
   },
   {
    "duration": 131,
    "start_time": "2023-12-24T11:28:52.558Z"
   },
   {
    "duration": 174,
    "start_time": "2023-12-24T11:28:52.691Z"
   },
   {
    "duration": 187,
    "start_time": "2023-12-24T11:28:52.867Z"
   },
   {
    "duration": 25,
    "start_time": "2023-12-24T11:28:53.056Z"
   },
   {
    "duration": 37,
    "start_time": "2023-12-24T11:28:53.082Z"
   },
   {
    "duration": 15,
    "start_time": "2023-12-24T11:28:53.121Z"
   },
   {
    "duration": 15,
    "start_time": "2023-12-24T11:28:53.138Z"
   },
   {
    "duration": 15,
    "start_time": "2023-12-24T11:28:53.156Z"
   },
   {
    "duration": 191,
    "start_time": "2023-12-24T11:28:53.172Z"
   },
   {
    "duration": 162,
    "start_time": "2023-12-24T11:28:53.365Z"
   },
   {
    "duration": 189,
    "start_time": "2023-12-24T11:28:53.529Z"
   },
   {
    "duration": 221,
    "start_time": "2023-12-24T11:28:53.720Z"
   },
   {
    "duration": 183,
    "start_time": "2023-12-24T11:28:53.942Z"
   },
   {
    "duration": 179,
    "start_time": "2023-12-24T11:28:54.127Z"
   },
   {
    "duration": 198,
    "start_time": "2023-12-24T11:28:54.311Z"
   },
   {
    "duration": 333,
    "start_time": "2023-12-24T11:28:54.510Z"
   },
   {
    "duration": 21,
    "start_time": "2023-12-24T11:28:54.845Z"
   },
   {
    "duration": 19,
    "start_time": "2023-12-24T11:28:54.867Z"
   },
   {
    "duration": 29,
    "start_time": "2023-12-24T11:28:54.888Z"
   },
   {
    "duration": 11,
    "start_time": "2023-12-24T11:28:54.919Z"
   },
   {
    "duration": 20,
    "start_time": "2023-12-24T11:28:54.931Z"
   },
   {
    "duration": 199,
    "start_time": "2023-12-24T11:28:54.953Z"
   },
   {
    "duration": 5,
    "start_time": "2023-12-24T11:28:55.154Z"
   },
   {
    "duration": 24,
    "start_time": "2023-12-24T11:28:55.161Z"
   },
   {
    "duration": 23,
    "start_time": "2023-12-24T11:28:55.187Z"
   },
   {
    "duration": 6,
    "start_time": "2023-12-24T11:28:55.212Z"
   },
   {
    "duration": 3,
    "start_time": "2023-12-24T11:28:55.220Z"
   },
   {
    "duration": 3,
    "start_time": "2023-12-24T12:06:46.503Z"
   },
   {
    "duration": 63,
    "start_time": "2023-12-24T12:06:46.508Z"
   },
   {
    "duration": 8,
    "start_time": "2023-12-24T12:06:46.573Z"
   },
   {
    "duration": 14,
    "start_time": "2023-12-24T12:06:46.583Z"
   },
   {
    "duration": 8,
    "start_time": "2023-12-24T12:06:46.599Z"
   },
   {
    "duration": 20,
    "start_time": "2023-12-24T12:06:46.609Z"
   },
   {
    "duration": 21,
    "start_time": "2023-12-24T12:06:46.630Z"
   },
   {
    "duration": 5,
    "start_time": "2023-12-24T12:06:46.652Z"
   },
   {
    "duration": 8,
    "start_time": "2023-12-24T12:06:46.659Z"
   },
   {
    "duration": 5,
    "start_time": "2023-12-24T12:06:46.670Z"
   },
   {
    "duration": 13,
    "start_time": "2023-12-24T12:06:46.677Z"
   },
   {
    "duration": 9,
    "start_time": "2023-12-24T12:06:46.691Z"
   },
   {
    "duration": 10,
    "start_time": "2023-12-24T12:06:46.711Z"
   },
   {
    "duration": 7,
    "start_time": "2023-12-24T12:06:46.723Z"
   },
   {
    "duration": 5,
    "start_time": "2023-12-24T12:06:46.732Z"
   },
   {
    "duration": 174,
    "start_time": "2023-12-24T12:06:46.739Z"
   },
   {
    "duration": 110,
    "start_time": "2023-12-24T12:06:46.915Z"
   },
   {
    "duration": 169,
    "start_time": "2023-12-24T12:06:47.026Z"
   },
   {
    "duration": 181,
    "start_time": "2023-12-24T12:06:47.197Z"
   },
   {
    "duration": 17,
    "start_time": "2023-12-24T12:06:47.380Z"
   },
   {
    "duration": 28,
    "start_time": "2023-12-24T12:06:47.398Z"
   },
   {
    "duration": 12,
    "start_time": "2023-12-24T12:06:47.428Z"
   },
   {
    "duration": 13,
    "start_time": "2023-12-24T12:06:47.442Z"
   },
   {
    "duration": 14,
    "start_time": "2023-12-24T12:06:47.456Z"
   },
   {
    "duration": 184,
    "start_time": "2023-12-24T12:06:47.471Z"
   },
   {
    "duration": 150,
    "start_time": "2023-12-24T12:06:47.657Z"
   },
   {
    "duration": 184,
    "start_time": "2023-12-24T12:06:47.808Z"
   },
   {
    "duration": 205,
    "start_time": "2023-12-24T12:06:47.996Z"
   },
   {
    "duration": 166,
    "start_time": "2023-12-24T12:06:48.203Z"
   },
   {
    "duration": 157,
    "start_time": "2023-12-24T12:06:48.370Z"
   },
   {
    "duration": 193,
    "start_time": "2023-12-24T12:06:48.529Z"
   },
   {
    "duration": 371,
    "start_time": "2023-12-24T12:06:48.723Z"
   },
   {
    "duration": 31,
    "start_time": "2023-12-24T12:06:49.096Z"
   },
   {
    "duration": 24,
    "start_time": "2023-12-24T12:06:49.129Z"
   },
   {
    "duration": 12,
    "start_time": "2023-12-24T12:06:49.155Z"
   },
   {
    "duration": 13,
    "start_time": "2023-12-24T12:06:49.168Z"
   },
   {
    "duration": 29,
    "start_time": "2023-12-24T12:06:49.183Z"
   },
   {
    "duration": 206,
    "start_time": "2023-12-24T12:06:49.214Z"
   },
   {
    "duration": 5,
    "start_time": "2023-12-24T12:06:49.422Z"
   },
   {
    "duration": 30,
    "start_time": "2023-12-24T12:06:49.429Z"
   },
   {
    "duration": 14,
    "start_time": "2023-12-24T12:06:49.461Z"
   },
   {
    "duration": 7,
    "start_time": "2023-12-24T12:06:49.477Z"
   },
   {
    "duration": 2,
    "start_time": "2023-12-24T12:06:49.486Z"
   },
   {
    "duration": 185,
    "start_time": "2023-12-24T12:07:11.521Z"
   },
   {
    "duration": 220,
    "start_time": "2023-12-24T12:07:11.711Z"
   },
   {
    "duration": 24,
    "start_time": "2023-12-24T12:07:11.932Z"
   },
   {
    "duration": 21,
    "start_time": "2023-12-24T12:07:11.958Z"
   },
   {
    "duration": 38,
    "start_time": "2023-12-24T12:07:11.980Z"
   },
   {
    "duration": 16,
    "start_time": "2023-12-24T12:07:12.020Z"
   },
   {
    "duration": 18,
    "start_time": "2023-12-24T12:07:12.037Z"
   },
   {
    "duration": 187,
    "start_time": "2023-12-24T12:07:12.057Z"
   },
   {
    "duration": 171,
    "start_time": "2023-12-24T12:07:12.246Z"
   },
   {
    "duration": 177,
    "start_time": "2023-12-24T12:07:12.420Z"
   },
   {
    "duration": 227,
    "start_time": "2023-12-24T12:07:12.599Z"
   },
   {
    "duration": 186,
    "start_time": "2023-12-24T12:07:12.827Z"
   },
   {
    "duration": 177,
    "start_time": "2023-12-24T12:07:13.015Z"
   },
   {
    "duration": 199,
    "start_time": "2023-12-24T12:07:13.193Z"
   },
   {
    "duration": 242,
    "start_time": "2023-12-24T12:07:13.394Z"
   },
   {
    "duration": 21,
    "start_time": "2023-12-24T12:07:13.637Z"
   },
   {
    "duration": 21,
    "start_time": "2023-12-24T12:07:13.659Z"
   },
   {
    "duration": 30,
    "start_time": "2023-12-24T12:07:13.681Z"
   },
   {
    "duration": 11,
    "start_time": "2023-12-24T12:07:13.713Z"
   },
   {
    "duration": 2,
    "start_time": "2023-12-24T12:07:13.726Z"
   },
   {
    "duration": 211,
    "start_time": "2023-12-24T12:07:13.729Z"
   },
   {
    "duration": 5,
    "start_time": "2023-12-24T12:07:13.942Z"
   },
   {
    "duration": 6,
    "start_time": "2023-12-24T12:07:13.948Z"
   },
   {
    "duration": 9,
    "start_time": "2023-12-24T12:07:13.955Z"
   },
   {
    "duration": 7,
    "start_time": "2023-12-24T12:07:13.965Z"
   },
   {
    "duration": 7,
    "start_time": "2023-12-24T12:07:13.973Z"
   },
   {
    "duration": 177,
    "start_time": "2023-12-24T12:07:38.580Z"
   },
   {
    "duration": 333,
    "start_time": "2023-12-24T12:07:38.759Z"
   },
   {
    "duration": 29,
    "start_time": "2023-12-24T12:07:39.093Z"
   },
   {
    "duration": 17,
    "start_time": "2023-12-24T12:07:39.124Z"
   },
   {
    "duration": 13,
    "start_time": "2023-12-24T12:07:39.143Z"
   },
   {
    "duration": 14,
    "start_time": "2023-12-24T12:07:39.157Z"
   },
   {
    "duration": 42,
    "start_time": "2023-12-24T12:07:39.172Z"
   },
   {
    "duration": 187,
    "start_time": "2023-12-24T12:07:39.216Z"
   },
   {
    "duration": 151,
    "start_time": "2023-12-24T12:07:39.405Z"
   },
   {
    "duration": 181,
    "start_time": "2023-12-24T12:07:39.558Z"
   },
   {
    "duration": 209,
    "start_time": "2023-12-24T12:07:39.741Z"
   },
   {
    "duration": 173,
    "start_time": "2023-12-24T12:07:39.951Z"
   },
   {
    "duration": 154,
    "start_time": "2023-12-24T12:07:40.126Z"
   },
   {
    "duration": 197,
    "start_time": "2023-12-24T12:07:40.281Z"
   },
   {
    "duration": 217,
    "start_time": "2023-12-24T12:07:40.480Z"
   },
   {
    "duration": 22,
    "start_time": "2023-12-24T12:07:40.699Z"
   },
   {
    "duration": 19,
    "start_time": "2023-12-24T12:07:40.723Z"
   },
   {
    "duration": 8,
    "start_time": "2023-12-24T12:07:40.744Z"
   },
   {
    "duration": 13,
    "start_time": "2023-12-24T12:07:40.753Z"
   },
   {
    "duration": 3,
    "start_time": "2023-12-24T12:07:40.768Z"
   },
   {
    "duration": 209,
    "start_time": "2023-12-24T12:07:40.772Z"
   },
   {
    "duration": 4,
    "start_time": "2023-12-24T12:07:40.983Z"
   },
   {
    "duration": 13,
    "start_time": "2023-12-24T12:07:40.989Z"
   },
   {
    "duration": 8,
    "start_time": "2023-12-24T12:07:41.003Z"
   },
   {
    "duration": 23,
    "start_time": "2023-12-24T12:07:41.012Z"
   },
   {
    "duration": 7,
    "start_time": "2023-12-24T12:07:41.036Z"
   },
   {
    "duration": 181,
    "start_time": "2023-12-24T12:08:04.793Z"
   },
   {
    "duration": 176,
    "start_time": "2023-12-24T12:08:04.975Z"
   },
   {
    "duration": 17,
    "start_time": "2023-12-24T12:08:05.153Z"
   },
   {
    "duration": 24,
    "start_time": "2023-12-24T12:08:05.172Z"
   },
   {
    "duration": 22,
    "start_time": "2023-12-24T12:08:05.197Z"
   },
   {
    "duration": 26,
    "start_time": "2023-12-24T12:08:05.221Z"
   },
   {
    "duration": 23,
    "start_time": "2023-12-24T12:08:05.248Z"
   },
   {
    "duration": 171,
    "start_time": "2023-12-24T12:08:05.272Z"
   },
   {
    "duration": 162,
    "start_time": "2023-12-24T12:08:05.444Z"
   },
   {
    "duration": 165,
    "start_time": "2023-12-24T12:08:05.613Z"
   },
   {
    "duration": 360,
    "start_time": "2023-12-24T12:08:05.780Z"
   },
   {
    "duration": 169,
    "start_time": "2023-12-24T12:08:06.142Z"
   },
   {
    "duration": 172,
    "start_time": "2023-12-24T12:08:06.313Z"
   },
   {
    "duration": 197,
    "start_time": "2023-12-24T12:08:06.487Z"
   },
   {
    "duration": 218,
    "start_time": "2023-12-24T12:08:06.686Z"
   },
   {
    "duration": 24,
    "start_time": "2023-12-24T12:08:06.905Z"
   },
   {
    "duration": 19,
    "start_time": "2023-12-24T12:08:06.931Z"
   },
   {
    "duration": 9,
    "start_time": "2023-12-24T12:08:06.951Z"
   },
   {
    "duration": 12,
    "start_time": "2023-12-24T12:08:06.961Z"
   },
   {
    "duration": 7,
    "start_time": "2023-12-24T12:08:06.974Z"
   },
   {
    "duration": 198,
    "start_time": "2023-12-24T12:08:06.982Z"
   },
   {
    "duration": 5,
    "start_time": "2023-12-24T12:08:07.182Z"
   },
   {
    "duration": 6,
    "start_time": "2023-12-24T12:08:07.188Z"
   },
   {
    "duration": 17,
    "start_time": "2023-12-24T12:08:07.195Z"
   },
   {
    "duration": 10,
    "start_time": "2023-12-24T12:08:07.214Z"
   },
   {
    "duration": 17,
    "start_time": "2023-12-24T12:08:07.225Z"
   },
   {
    "duration": 3,
    "start_time": "2023-12-24T12:13:52.184Z"
   },
   {
    "duration": 63,
    "start_time": "2023-12-24T12:13:52.188Z"
   },
   {
    "duration": 8,
    "start_time": "2023-12-24T12:13:52.253Z"
   },
   {
    "duration": 10,
    "start_time": "2023-12-24T12:13:52.263Z"
   },
   {
    "duration": 15,
    "start_time": "2023-12-24T12:13:52.275Z"
   },
   {
    "duration": 7,
    "start_time": "2023-12-24T12:13:52.291Z"
   },
   {
    "duration": 17,
    "start_time": "2023-12-24T12:13:52.299Z"
   },
   {
    "duration": 5,
    "start_time": "2023-12-24T12:13:52.317Z"
   },
   {
    "duration": 6,
    "start_time": "2023-12-24T12:13:52.324Z"
   },
   {
    "duration": 5,
    "start_time": "2023-12-24T12:13:52.332Z"
   },
   {
    "duration": 17,
    "start_time": "2023-12-24T12:13:52.338Z"
   },
   {
    "duration": 11,
    "start_time": "2023-12-24T12:13:52.357Z"
   },
   {
    "duration": 17,
    "start_time": "2023-12-24T12:13:52.370Z"
   },
   {
    "duration": 30,
    "start_time": "2023-12-24T12:13:52.388Z"
   },
   {
    "duration": 3,
    "start_time": "2023-12-24T12:13:52.420Z"
   },
   {
    "duration": 174,
    "start_time": "2023-12-24T12:13:52.425Z"
   },
   {
    "duration": 115,
    "start_time": "2023-12-24T12:13:52.601Z"
   },
   {
    "duration": 180,
    "start_time": "2023-12-24T12:13:52.718Z"
   },
   {
    "duration": 179,
    "start_time": "2023-12-24T12:13:52.899Z"
   },
   {
    "duration": 18,
    "start_time": "2023-12-24T12:13:53.079Z"
   },
   {
    "duration": 31,
    "start_time": "2023-12-24T12:13:53.098Z"
   },
   {
    "duration": 13,
    "start_time": "2023-12-24T12:13:53.131Z"
   },
   {
    "duration": 14,
    "start_time": "2023-12-24T12:13:53.145Z"
   },
   {
    "duration": 15,
    "start_time": "2023-12-24T12:13:53.163Z"
   },
   {
    "duration": 200,
    "start_time": "2023-12-24T12:13:53.179Z"
   },
   {
    "duration": 157,
    "start_time": "2023-12-24T12:13:53.381Z"
   },
   {
    "duration": 186,
    "start_time": "2023-12-24T12:13:53.540Z"
   },
   {
    "duration": 214,
    "start_time": "2023-12-24T12:13:53.728Z"
   },
   {
    "duration": 172,
    "start_time": "2023-12-24T12:13:53.944Z"
   },
   {
    "duration": 160,
    "start_time": "2023-12-24T12:13:54.117Z"
   },
   {
    "duration": 196,
    "start_time": "2023-12-24T12:13:54.279Z"
   },
   {
    "duration": 422,
    "start_time": "2023-12-24T12:13:54.476Z"
   },
   {
    "duration": 23,
    "start_time": "2023-12-24T12:13:54.899Z"
   },
   {
    "duration": 19,
    "start_time": "2023-12-24T12:13:54.923Z"
   },
   {
    "duration": 11,
    "start_time": "2023-12-24T12:13:54.943Z"
   },
   {
    "duration": 10,
    "start_time": "2023-12-24T12:13:54.955Z"
   },
   {
    "duration": 2,
    "start_time": "2023-12-24T12:13:54.966Z"
   },
   {
    "duration": 206,
    "start_time": "2023-12-24T12:13:54.970Z"
   },
   {
    "duration": 5,
    "start_time": "2023-12-24T12:13:55.177Z"
   },
   {
    "duration": 4,
    "start_time": "2023-12-24T12:13:55.184Z"
   },
   {
    "duration": 22,
    "start_time": "2023-12-24T12:13:55.189Z"
   },
   {
    "duration": 5,
    "start_time": "2023-12-24T12:13:55.213Z"
   },
   {
    "duration": 4,
    "start_time": "2023-12-24T12:13:55.219Z"
   },
   {
    "duration": 7,
    "start_time": "2023-12-24T12:14:55.719Z"
   },
   {
    "duration": 3,
    "start_time": "2023-12-24T12:14:55.727Z"
   },
   {
    "duration": 164,
    "start_time": "2023-12-24T12:14:55.731Z"
   },
   {
    "duration": 109,
    "start_time": "2023-12-24T12:14:55.896Z"
   },
   {
    "duration": 166,
    "start_time": "2023-12-24T12:14:56.010Z"
   },
   {
    "duration": 185,
    "start_time": "2023-12-24T12:14:56.177Z"
   },
   {
    "duration": 16,
    "start_time": "2023-12-24T12:14:56.364Z"
   },
   {
    "duration": 34,
    "start_time": "2023-12-24T12:14:56.382Z"
   },
   {
    "duration": 13,
    "start_time": "2023-12-24T12:14:56.418Z"
   },
   {
    "duration": 14,
    "start_time": "2023-12-24T12:14:56.433Z"
   },
   {
    "duration": 14,
    "start_time": "2023-12-24T12:14:56.448Z"
   },
   {
    "duration": 188,
    "start_time": "2023-12-24T12:14:56.464Z"
   },
   {
    "duration": 162,
    "start_time": "2023-12-24T12:14:56.653Z"
   },
   {
    "duration": 165,
    "start_time": "2023-12-24T12:14:56.817Z"
   },
   {
    "duration": 208,
    "start_time": "2023-12-24T12:14:56.983Z"
   },
   {
    "duration": 173,
    "start_time": "2023-12-24T12:14:57.193Z"
   },
   {
    "duration": 158,
    "start_time": "2023-12-24T12:14:57.368Z"
   },
   {
    "duration": 201,
    "start_time": "2023-12-24T12:14:57.528Z"
   },
   {
    "duration": 243,
    "start_time": "2023-12-24T12:14:57.731Z"
   },
   {
    "duration": 21,
    "start_time": "2023-12-24T12:14:57.976Z"
   },
   {
    "duration": 21,
    "start_time": "2023-12-24T12:14:58.011Z"
   },
   {
    "duration": 9,
    "start_time": "2023-12-24T12:14:58.034Z"
   },
   {
    "duration": 22,
    "start_time": "2023-12-24T12:14:58.044Z"
   },
   {
    "duration": 8,
    "start_time": "2023-12-24T12:14:58.067Z"
   },
   {
    "duration": 194,
    "start_time": "2023-12-24T12:14:58.077Z"
   },
   {
    "duration": 6,
    "start_time": "2023-12-24T12:14:58.273Z"
   },
   {
    "duration": 5,
    "start_time": "2023-12-24T12:14:58.281Z"
   },
   {
    "duration": 25,
    "start_time": "2023-12-24T12:14:58.290Z"
   },
   {
    "duration": 9,
    "start_time": "2023-12-24T12:14:58.317Z"
   },
   {
    "duration": 3,
    "start_time": "2023-12-24T12:14:58.328Z"
   },
   {
    "duration": 5,
    "start_time": "2023-12-24T12:15:19.364Z"
   },
   {
    "duration": 6,
    "start_time": "2023-12-24T12:15:19.371Z"
   },
   {
    "duration": 165,
    "start_time": "2023-12-24T12:15:19.379Z"
   },
   {
    "duration": 114,
    "start_time": "2023-12-24T12:15:19.546Z"
   },
   {
    "duration": 183,
    "start_time": "2023-12-24T12:15:19.662Z"
   },
   {
    "duration": 176,
    "start_time": "2023-12-24T12:15:19.847Z"
   },
   {
    "duration": 17,
    "start_time": "2023-12-24T12:15:20.024Z"
   },
   {
    "duration": 17,
    "start_time": "2023-12-24T12:15:20.042Z"
   },
   {
    "duration": 11,
    "start_time": "2023-12-24T12:15:20.061Z"
   },
   {
    "duration": 43,
    "start_time": "2023-12-24T12:15:20.074Z"
   },
   {
    "duration": 67,
    "start_time": "2023-12-24T12:15:20.120Z"
   },
   {
    "duration": 165,
    "start_time": "2023-12-24T12:15:20.189Z"
   },
   {
    "duration": 170,
    "start_time": "2023-12-24T12:15:20.355Z"
   },
   {
    "duration": 165,
    "start_time": "2023-12-24T12:15:20.526Z"
   },
   {
    "duration": 425,
    "start_time": "2023-12-24T12:15:20.692Z"
   },
   {
    "duration": 168,
    "start_time": "2023-12-24T12:15:21.118Z"
   },
   {
    "duration": 149,
    "start_time": "2023-12-24T12:15:21.288Z"
   },
   {
    "duration": 206,
    "start_time": "2023-12-24T12:15:21.438Z"
   },
   {
    "duration": 226,
    "start_time": "2023-12-24T12:15:21.647Z"
   },
   {
    "duration": 20,
    "start_time": "2023-12-24T12:15:21.875Z"
   },
   {
    "duration": 20,
    "start_time": "2023-12-24T12:15:21.910Z"
   },
   {
    "duration": 12,
    "start_time": "2023-12-24T12:15:21.932Z"
   },
   {
    "duration": 10,
    "start_time": "2023-12-24T12:15:21.945Z"
   },
   {
    "duration": 2,
    "start_time": "2023-12-24T12:15:21.957Z"
   },
   {
    "duration": 207,
    "start_time": "2023-12-24T12:15:21.961Z"
   },
   {
    "duration": 5,
    "start_time": "2023-12-24T12:15:22.169Z"
   },
   {
    "duration": 13,
    "start_time": "2023-12-24T12:15:22.176Z"
   },
   {
    "duration": 5,
    "start_time": "2023-12-24T12:15:22.191Z"
   },
   {
    "duration": 5,
    "start_time": "2023-12-24T12:15:22.211Z"
   },
   {
    "duration": 4,
    "start_time": "2023-12-24T12:15:22.217Z"
   },
   {
    "duration": 170,
    "start_time": "2023-12-24T12:16:28.148Z"
   },
   {
    "duration": 191,
    "start_time": "2023-12-24T12:16:28.320Z"
   },
   {
    "duration": 22,
    "start_time": "2023-12-24T12:16:28.512Z"
   },
   {
    "duration": 26,
    "start_time": "2023-12-24T12:16:28.536Z"
   },
   {
    "duration": 16,
    "start_time": "2023-12-24T12:16:28.564Z"
   },
   {
    "duration": 40,
    "start_time": "2023-12-24T12:16:28.582Z"
   },
   {
    "duration": 14,
    "start_time": "2023-12-24T12:16:28.624Z"
   },
   {
    "duration": 171,
    "start_time": "2023-12-24T12:16:28.640Z"
   },
   {
    "duration": 159,
    "start_time": "2023-12-24T12:16:28.813Z"
   },
   {
    "duration": 180,
    "start_time": "2023-12-24T12:16:28.975Z"
   },
   {
    "duration": 225,
    "start_time": "2023-12-24T12:16:29.157Z"
   },
   {
    "duration": 172,
    "start_time": "2023-12-24T12:16:29.384Z"
   },
   {
    "duration": 157,
    "start_time": "2023-12-24T12:16:29.557Z"
   },
   {
    "duration": 190,
    "start_time": "2023-12-24T12:16:29.715Z"
   },
   {
    "duration": 217,
    "start_time": "2023-12-24T12:16:29.910Z"
   },
   {
    "duration": 19,
    "start_time": "2023-12-24T12:16:30.129Z"
   },
   {
    "duration": 19,
    "start_time": "2023-12-24T12:16:30.149Z"
   },
   {
    "duration": 20,
    "start_time": "2023-12-24T12:16:30.169Z"
   },
   {
    "duration": 34,
    "start_time": "2023-12-24T12:16:30.190Z"
   },
   {
    "duration": 30,
    "start_time": "2023-12-24T12:16:30.226Z"
   },
   {
    "duration": 223,
    "start_time": "2023-12-24T12:16:30.257Z"
   },
   {
    "duration": 5,
    "start_time": "2023-12-24T12:16:30.482Z"
   },
   {
    "duration": 88,
    "start_time": "2023-12-24T12:16:30.488Z"
   },
   {
    "duration": 102,
    "start_time": "2023-12-24T12:16:30.577Z"
   },
   {
    "duration": 77,
    "start_time": "2023-12-24T12:16:30.681Z"
   },
   {
    "duration": 53,
    "start_time": "2023-12-24T12:16:30.759Z"
   },
   {
    "duration": 185,
    "start_time": "2023-12-24T12:30:01.274Z"
   },
   {
    "duration": 0,
    "start_time": "2023-12-24T12:30:01.461Z"
   },
   {
    "duration": 0,
    "start_time": "2023-12-24T12:30:01.462Z"
   },
   {
    "duration": 0,
    "start_time": "2023-12-24T12:30:01.463Z"
   },
   {
    "duration": 0,
    "start_time": "2023-12-24T12:30:01.464Z"
   },
   {
    "duration": 0,
    "start_time": "2023-12-24T12:30:01.465Z"
   },
   {
    "duration": 0,
    "start_time": "2023-12-24T12:30:01.467Z"
   },
   {
    "duration": 0,
    "start_time": "2023-12-24T12:30:01.467Z"
   },
   {
    "duration": 0,
    "start_time": "2023-12-24T12:30:01.468Z"
   },
   {
    "duration": 0,
    "start_time": "2023-12-24T12:30:01.469Z"
   },
   {
    "duration": 0,
    "start_time": "2023-12-24T12:30:01.470Z"
   },
   {
    "duration": 0,
    "start_time": "2023-12-24T12:30:01.471Z"
   },
   {
    "duration": 0,
    "start_time": "2023-12-24T12:30:01.472Z"
   },
   {
    "duration": 0,
    "start_time": "2023-12-24T12:30:01.473Z"
   },
   {
    "duration": 0,
    "start_time": "2023-12-24T12:30:01.474Z"
   },
   {
    "duration": 0,
    "start_time": "2023-12-24T12:30:01.475Z"
   },
   {
    "duration": 0,
    "start_time": "2023-12-24T12:30:01.476Z"
   },
   {
    "duration": 0,
    "start_time": "2023-12-24T12:30:01.477Z"
   },
   {
    "duration": 0,
    "start_time": "2023-12-24T12:30:01.478Z"
   },
   {
    "duration": 168,
    "start_time": "2023-12-24T12:30:44.299Z"
   },
   {
    "duration": 0,
    "start_time": "2023-12-24T12:30:44.469Z"
   },
   {
    "duration": 0,
    "start_time": "2023-12-24T12:30:44.470Z"
   },
   {
    "duration": 0,
    "start_time": "2023-12-24T12:30:44.471Z"
   },
   {
    "duration": 0,
    "start_time": "2023-12-24T12:30:44.472Z"
   },
   {
    "duration": 0,
    "start_time": "2023-12-24T12:30:44.473Z"
   },
   {
    "duration": 0,
    "start_time": "2023-12-24T12:30:44.474Z"
   },
   {
    "duration": 0,
    "start_time": "2023-12-24T12:30:44.475Z"
   },
   {
    "duration": 0,
    "start_time": "2023-12-24T12:30:44.476Z"
   },
   {
    "duration": 0,
    "start_time": "2023-12-24T12:30:44.477Z"
   },
   {
    "duration": 0,
    "start_time": "2023-12-24T12:30:44.478Z"
   },
   {
    "duration": 0,
    "start_time": "2023-12-24T12:30:44.479Z"
   },
   {
    "duration": 0,
    "start_time": "2023-12-24T12:30:44.480Z"
   },
   {
    "duration": 0,
    "start_time": "2023-12-24T12:30:44.481Z"
   },
   {
    "duration": 0,
    "start_time": "2023-12-24T12:30:44.482Z"
   },
   {
    "duration": 0,
    "start_time": "2023-12-24T12:30:44.483Z"
   },
   {
    "duration": 0,
    "start_time": "2023-12-24T12:30:44.484Z"
   },
   {
    "duration": 0,
    "start_time": "2023-12-24T12:30:44.511Z"
   },
   {
    "duration": 0,
    "start_time": "2023-12-24T12:30:44.512Z"
   },
   {
    "duration": 186,
    "start_time": "2023-12-24T12:34:07.415Z"
   },
   {
    "duration": 0,
    "start_time": "2023-12-24T12:34:07.603Z"
   },
   {
    "duration": 0,
    "start_time": "2023-12-24T12:34:07.604Z"
   },
   {
    "duration": 0,
    "start_time": "2023-12-24T12:34:07.611Z"
   },
   {
    "duration": 0,
    "start_time": "2023-12-24T12:34:07.613Z"
   },
   {
    "duration": 0,
    "start_time": "2023-12-24T12:34:07.615Z"
   },
   {
    "duration": 0,
    "start_time": "2023-12-24T12:34:07.617Z"
   },
   {
    "duration": 0,
    "start_time": "2023-12-24T12:34:07.618Z"
   },
   {
    "duration": 0,
    "start_time": "2023-12-24T12:34:07.620Z"
   },
   {
    "duration": 0,
    "start_time": "2023-12-24T12:34:07.621Z"
   },
   {
    "duration": 0,
    "start_time": "2023-12-24T12:34:07.622Z"
   },
   {
    "duration": 0,
    "start_time": "2023-12-24T12:34:07.624Z"
   },
   {
    "duration": 0,
    "start_time": "2023-12-24T12:34:07.625Z"
   },
   {
    "duration": 0,
    "start_time": "2023-12-24T12:34:07.627Z"
   },
   {
    "duration": 0,
    "start_time": "2023-12-24T12:34:07.628Z"
   },
   {
    "duration": 0,
    "start_time": "2023-12-24T12:34:07.629Z"
   },
   {
    "duration": 0,
    "start_time": "2023-12-24T12:34:07.630Z"
   },
   {
    "duration": 0,
    "start_time": "2023-12-24T12:34:07.631Z"
   },
   {
    "duration": 0,
    "start_time": "2023-12-24T12:34:07.632Z"
   },
   {
    "duration": 184,
    "start_time": "2023-12-24T12:36:32.856Z"
   },
   {
    "duration": 0,
    "start_time": "2023-12-24T12:36:33.041Z"
   },
   {
    "duration": 1,
    "start_time": "2023-12-24T12:36:33.042Z"
   },
   {
    "duration": 0,
    "start_time": "2023-12-24T12:36:33.043Z"
   },
   {
    "duration": 0,
    "start_time": "2023-12-24T12:36:33.045Z"
   },
   {
    "duration": 0,
    "start_time": "2023-12-24T12:36:33.046Z"
   },
   {
    "duration": 0,
    "start_time": "2023-12-24T12:36:33.047Z"
   },
   {
    "duration": 0,
    "start_time": "2023-12-24T12:36:33.048Z"
   },
   {
    "duration": 0,
    "start_time": "2023-12-24T12:36:33.049Z"
   },
   {
    "duration": 0,
    "start_time": "2023-12-24T12:36:33.050Z"
   },
   {
    "duration": 0,
    "start_time": "2023-12-24T12:36:33.051Z"
   },
   {
    "duration": 0,
    "start_time": "2023-12-24T12:36:33.051Z"
   },
   {
    "duration": 0,
    "start_time": "2023-12-24T12:36:33.052Z"
   },
   {
    "duration": 0,
    "start_time": "2023-12-24T12:36:33.053Z"
   },
   {
    "duration": 0,
    "start_time": "2023-12-24T12:36:33.054Z"
   },
   {
    "duration": 0,
    "start_time": "2023-12-24T12:36:33.055Z"
   },
   {
    "duration": 0,
    "start_time": "2023-12-24T12:36:33.056Z"
   },
   {
    "duration": 0,
    "start_time": "2023-12-24T12:36:33.057Z"
   },
   {
    "duration": 0,
    "start_time": "2023-12-24T12:36:33.058Z"
   },
   {
    "duration": 173,
    "start_time": "2023-12-24T12:37:37.833Z"
   },
   {
    "duration": 0,
    "start_time": "2023-12-24T12:37:38.010Z"
   },
   {
    "duration": 0,
    "start_time": "2023-12-24T12:37:38.011Z"
   },
   {
    "duration": 0,
    "start_time": "2023-12-24T12:37:38.013Z"
   },
   {
    "duration": 0,
    "start_time": "2023-12-24T12:37:38.014Z"
   },
   {
    "duration": 0,
    "start_time": "2023-12-24T12:37:38.016Z"
   },
   {
    "duration": 0,
    "start_time": "2023-12-24T12:37:38.017Z"
   },
   {
    "duration": 0,
    "start_time": "2023-12-24T12:37:38.019Z"
   },
   {
    "duration": 0,
    "start_time": "2023-12-24T12:37:38.020Z"
   },
   {
    "duration": 1,
    "start_time": "2023-12-24T12:37:38.021Z"
   },
   {
    "duration": 0,
    "start_time": "2023-12-24T12:37:38.023Z"
   },
   {
    "duration": 0,
    "start_time": "2023-12-24T12:37:38.024Z"
   },
   {
    "duration": 0,
    "start_time": "2023-12-24T12:37:38.025Z"
   },
   {
    "duration": 0,
    "start_time": "2023-12-24T12:37:38.027Z"
   },
   {
    "duration": 0,
    "start_time": "2023-12-24T12:37:38.028Z"
   },
   {
    "duration": 0,
    "start_time": "2023-12-24T12:37:38.029Z"
   },
   {
    "duration": 0,
    "start_time": "2023-12-24T12:37:38.030Z"
   },
   {
    "duration": 0,
    "start_time": "2023-12-24T12:37:38.031Z"
   },
   {
    "duration": 0,
    "start_time": "2023-12-24T12:37:38.032Z"
   },
   {
    "duration": 183,
    "start_time": "2023-12-24T12:37:49.073Z"
   },
   {
    "duration": 444,
    "start_time": "2023-12-24T12:37:49.258Z"
   },
   {
    "duration": 182,
    "start_time": "2023-12-24T12:37:49.704Z"
   },
   {
    "duration": 238,
    "start_time": "2023-12-24T12:37:49.887Z"
   },
   {
    "duration": 171,
    "start_time": "2023-12-24T12:37:50.127Z"
   },
   {
    "duration": 174,
    "start_time": "2023-12-24T12:37:50.300Z"
   },
   {
    "duration": 192,
    "start_time": "2023-12-24T12:37:50.475Z"
   },
   {
    "duration": 246,
    "start_time": "2023-12-24T12:37:50.669Z"
   },
   {
    "duration": 23,
    "start_time": "2023-12-24T12:37:50.917Z"
   },
   {
    "duration": 19,
    "start_time": "2023-12-24T12:37:50.942Z"
   },
   {
    "duration": 9,
    "start_time": "2023-12-24T12:37:50.962Z"
   },
   {
    "duration": 9,
    "start_time": "2023-12-24T12:37:50.973Z"
   },
   {
    "duration": 29,
    "start_time": "2023-12-24T12:37:50.983Z"
   },
   {
    "duration": 216,
    "start_time": "2023-12-24T12:37:51.016Z"
   },
   {
    "duration": 6,
    "start_time": "2023-12-24T12:37:51.234Z"
   },
   {
    "duration": 5,
    "start_time": "2023-12-24T12:37:51.241Z"
   },
   {
    "duration": 21,
    "start_time": "2023-12-24T12:37:51.247Z"
   },
   {
    "duration": 7,
    "start_time": "2023-12-24T12:37:51.269Z"
   },
   {
    "duration": 3,
    "start_time": "2023-12-24T12:37:51.277Z"
   },
   {
    "duration": 4,
    "start_time": "2023-12-24T16:03:18.386Z"
   },
   {
    "duration": 66,
    "start_time": "2023-12-24T16:03:18.392Z"
   },
   {
    "duration": 10,
    "start_time": "2023-12-24T16:03:18.459Z"
   },
   {
    "duration": 13,
    "start_time": "2023-12-24T16:03:18.471Z"
   },
   {
    "duration": 20,
    "start_time": "2023-12-24T16:03:18.485Z"
   },
   {
    "duration": 8,
    "start_time": "2023-12-24T16:03:18.507Z"
   },
   {
    "duration": 17,
    "start_time": "2023-12-24T16:03:18.516Z"
   },
   {
    "duration": 6,
    "start_time": "2023-12-24T16:03:18.535Z"
   },
   {
    "duration": 23,
    "start_time": "2023-12-24T16:03:18.542Z"
   },
   {
    "duration": 6,
    "start_time": "2023-12-24T16:03:18.569Z"
   },
   {
    "duration": 17,
    "start_time": "2023-12-24T16:03:18.577Z"
   },
   {
    "duration": 23,
    "start_time": "2023-12-24T16:03:18.596Z"
   },
   {
    "duration": 11,
    "start_time": "2023-12-24T16:03:18.620Z"
   },
   {
    "duration": 6,
    "start_time": "2023-12-24T16:03:18.632Z"
   },
   {
    "duration": 2,
    "start_time": "2023-12-24T16:03:18.640Z"
   },
   {
    "duration": 201,
    "start_time": "2023-12-24T16:03:18.644Z"
   },
   {
    "duration": 116,
    "start_time": "2023-12-24T16:03:18.846Z"
   },
   {
    "duration": 175,
    "start_time": "2023-12-24T16:03:18.964Z"
   },
   {
    "duration": 199,
    "start_time": "2023-12-24T16:03:19.141Z"
   },
   {
    "duration": 18,
    "start_time": "2023-12-24T16:03:19.341Z"
   },
   {
    "duration": 19,
    "start_time": "2023-12-24T16:03:19.361Z"
   },
   {
    "duration": 33,
    "start_time": "2023-12-24T16:03:19.381Z"
   },
   {
    "duration": 16,
    "start_time": "2023-12-24T16:03:19.416Z"
   },
   {
    "duration": 14,
    "start_time": "2023-12-24T16:03:19.433Z"
   },
   {
    "duration": 218,
    "start_time": "2023-12-24T16:03:19.449Z"
   },
   {
    "duration": 151,
    "start_time": "2023-12-24T16:03:19.669Z"
   },
   {
    "duration": 169,
    "start_time": "2023-12-24T16:03:19.822Z"
   },
   {
    "duration": 206,
    "start_time": "2023-12-24T16:03:19.994Z"
   },
   {
    "duration": 168,
    "start_time": "2023-12-24T16:03:20.201Z"
   },
   {
    "duration": 149,
    "start_time": "2023-12-24T16:03:20.371Z"
   },
   {
    "duration": 181,
    "start_time": "2023-12-24T16:03:20.522Z"
   },
   {
    "duration": 225,
    "start_time": "2023-12-24T16:03:20.705Z"
   },
   {
    "duration": 20,
    "start_time": "2023-12-24T16:03:20.932Z"
   },
   {
    "duration": 19,
    "start_time": "2023-12-24T16:03:20.953Z"
   },
   {
    "duration": 12,
    "start_time": "2023-12-24T16:03:20.973Z"
   },
   {
    "duration": 14,
    "start_time": "2023-12-24T16:03:21.012Z"
   },
   {
    "duration": 15,
    "start_time": "2023-12-24T16:03:21.027Z"
   },
   {
    "duration": 206,
    "start_time": "2023-12-24T16:03:21.043Z"
   },
   {
    "duration": 5,
    "start_time": "2023-12-24T16:03:21.251Z"
   },
   {
    "duration": 5,
    "start_time": "2023-12-24T16:03:21.257Z"
   },
   {
    "duration": 12,
    "start_time": "2023-12-24T16:03:21.264Z"
   },
   {
    "duration": 8,
    "start_time": "2023-12-24T16:03:21.278Z"
   },
   {
    "duration": 12,
    "start_time": "2023-12-24T16:03:21.287Z"
   },
   {
    "duration": 149,
    "start_time": "2023-12-24T17:15:38.263Z"
   },
   {
    "duration": 0,
    "start_time": "2023-12-24T17:15:38.415Z"
   },
   {
    "duration": 0,
    "start_time": "2023-12-24T17:15:38.416Z"
   },
   {
    "duration": 0,
    "start_time": "2023-12-24T17:15:38.418Z"
   },
   {
    "duration": 0,
    "start_time": "2023-12-24T17:15:38.419Z"
   },
   {
    "duration": 0,
    "start_time": "2023-12-24T17:15:38.421Z"
   },
   {
    "duration": 0,
    "start_time": "2023-12-24T17:15:38.422Z"
   },
   {
    "duration": 0,
    "start_time": "2023-12-24T17:15:38.424Z"
   },
   {
    "duration": 0,
    "start_time": "2023-12-24T17:15:38.426Z"
   },
   {
    "duration": 0,
    "start_time": "2023-12-24T17:15:38.427Z"
   },
   {
    "duration": 0,
    "start_time": "2023-12-24T17:15:38.428Z"
   },
   {
    "duration": 0,
    "start_time": "2023-12-24T17:15:38.429Z"
   },
   {
    "duration": 0,
    "start_time": "2023-12-24T17:15:38.431Z"
   },
   {
    "duration": 0,
    "start_time": "2023-12-24T17:15:38.432Z"
   },
   {
    "duration": 0,
    "start_time": "2023-12-24T17:15:38.432Z"
   },
   {
    "duration": 0,
    "start_time": "2023-12-24T17:15:38.433Z"
   },
   {
    "duration": 0,
    "start_time": "2023-12-24T17:15:38.434Z"
   },
   {
    "duration": 0,
    "start_time": "2023-12-24T17:15:38.435Z"
   },
   {
    "duration": 0,
    "start_time": "2023-12-24T17:15:38.436Z"
   },
   {
    "duration": 0,
    "start_time": "2023-12-24T17:15:38.438Z"
   },
   {
    "duration": 0,
    "start_time": "2023-12-24T17:15:38.439Z"
   },
   {
    "duration": 0,
    "start_time": "2023-12-24T17:15:38.440Z"
   },
   {
    "duration": 0,
    "start_time": "2023-12-24T17:15:38.441Z"
   },
   {
    "duration": 0,
    "start_time": "2023-12-24T17:15:38.443Z"
   },
   {
    "duration": 0,
    "start_time": "2023-12-24T17:15:38.444Z"
   },
   {
    "duration": 0,
    "start_time": "2023-12-24T17:15:38.444Z"
   },
   {
    "duration": 0,
    "start_time": "2023-12-24T17:15:38.445Z"
   },
   {
    "duration": 125,
    "start_time": "2023-12-24T17:16:41.972Z"
   },
   {
    "duration": 191,
    "start_time": "2023-12-24T17:16:42.099Z"
   },
   {
    "duration": 203,
    "start_time": "2023-12-24T17:16:42.292Z"
   },
   {
    "duration": 26,
    "start_time": "2023-12-24T17:16:42.498Z"
   },
   {
    "duration": 18,
    "start_time": "2023-12-24T17:16:42.526Z"
   },
   {
    "duration": 14,
    "start_time": "2023-12-24T17:16:42.546Z"
   },
   {
    "duration": 14,
    "start_time": "2023-12-24T17:16:42.561Z"
   },
   {
    "duration": 43,
    "start_time": "2023-12-24T17:16:42.577Z"
   },
   {
    "duration": 190,
    "start_time": "2023-12-24T17:16:42.621Z"
   },
   {
    "duration": 166,
    "start_time": "2023-12-24T17:16:42.814Z"
   },
   {
    "duration": 488,
    "start_time": "2023-12-24T17:16:42.982Z"
   },
   {
    "duration": 5,
    "start_time": "2023-12-24T17:16:43.472Z"
   },
   {
    "duration": 0,
    "start_time": "2023-12-24T17:16:43.478Z"
   },
   {
    "duration": 0,
    "start_time": "2023-12-24T17:16:43.480Z"
   },
   {
    "duration": 0,
    "start_time": "2023-12-24T17:16:43.481Z"
   },
   {
    "duration": 0,
    "start_time": "2023-12-24T17:16:43.483Z"
   },
   {
    "duration": 0,
    "start_time": "2023-12-24T17:16:43.484Z"
   },
   {
    "duration": 0,
    "start_time": "2023-12-24T17:16:43.485Z"
   },
   {
    "duration": 0,
    "start_time": "2023-12-24T17:16:43.487Z"
   },
   {
    "duration": 0,
    "start_time": "2023-12-24T17:16:43.487Z"
   },
   {
    "duration": 0,
    "start_time": "2023-12-24T17:16:43.512Z"
   },
   {
    "duration": 0,
    "start_time": "2023-12-24T17:16:43.513Z"
   },
   {
    "duration": 0,
    "start_time": "2023-12-24T17:16:43.514Z"
   },
   {
    "duration": 0,
    "start_time": "2023-12-24T17:16:43.516Z"
   },
   {
    "duration": 0,
    "start_time": "2023-12-24T17:16:43.517Z"
   },
   {
    "duration": 0,
    "start_time": "2023-12-24T17:16:43.519Z"
   },
   {
    "duration": 0,
    "start_time": "2023-12-24T17:16:43.521Z"
   },
   {
    "duration": 111,
    "start_time": "2023-12-24T17:17:24.075Z"
   },
   {
    "duration": 187,
    "start_time": "2023-12-24T17:17:24.188Z"
   },
   {
    "duration": 197,
    "start_time": "2023-12-24T17:17:24.377Z"
   },
   {
    "duration": 18,
    "start_time": "2023-12-24T17:17:24.576Z"
   },
   {
    "duration": 18,
    "start_time": "2023-12-24T17:17:24.611Z"
   },
   {
    "duration": 13,
    "start_time": "2023-12-24T17:17:24.630Z"
   },
   {
    "duration": 14,
    "start_time": "2023-12-24T17:17:24.645Z"
   },
   {
    "duration": 15,
    "start_time": "2023-12-24T17:17:24.661Z"
   },
   {
    "duration": 215,
    "start_time": "2023-12-24T17:17:24.677Z"
   },
   {
    "duration": 181,
    "start_time": "2023-12-24T17:17:24.894Z"
   },
   {
    "duration": 185,
    "start_time": "2023-12-24T17:17:25.077Z"
   },
   {
    "duration": 4,
    "start_time": "2023-12-24T17:17:25.263Z"
   },
   {
    "duration": 1,
    "start_time": "2023-12-24T17:17:25.268Z"
   },
   {
    "duration": 0,
    "start_time": "2023-12-24T17:17:25.270Z"
   },
   {
    "duration": 0,
    "start_time": "2023-12-24T17:17:25.271Z"
   },
   {
    "duration": 0,
    "start_time": "2023-12-24T17:17:25.272Z"
   },
   {
    "duration": 0,
    "start_time": "2023-12-24T17:17:25.273Z"
   },
   {
    "duration": 0,
    "start_time": "2023-12-24T17:17:25.274Z"
   },
   {
    "duration": 0,
    "start_time": "2023-12-24T17:17:25.275Z"
   },
   {
    "duration": 0,
    "start_time": "2023-12-24T17:17:25.276Z"
   },
   {
    "duration": 0,
    "start_time": "2023-12-24T17:17:25.277Z"
   },
   {
    "duration": 0,
    "start_time": "2023-12-24T17:17:25.278Z"
   },
   {
    "duration": 0,
    "start_time": "2023-12-24T17:17:25.279Z"
   },
   {
    "duration": 0,
    "start_time": "2023-12-24T17:17:25.280Z"
   },
   {
    "duration": 0,
    "start_time": "2023-12-24T17:17:25.281Z"
   },
   {
    "duration": 0,
    "start_time": "2023-12-24T17:17:25.282Z"
   },
   {
    "duration": 0,
    "start_time": "2023-12-24T17:17:25.282Z"
   },
   {
    "duration": 212,
    "start_time": "2023-12-24T17:19:43.235Z"
   },
   {
    "duration": 190,
    "start_time": "2023-12-24T17:19:43.449Z"
   },
   {
    "duration": 188,
    "start_time": "2023-12-24T17:19:43.640Z"
   },
   {
    "duration": 203,
    "start_time": "2023-12-24T17:19:43.830Z"
   },
   {
    "duration": 253,
    "start_time": "2023-12-24T17:19:44.034Z"
   },
   {
    "duration": 27,
    "start_time": "2023-12-24T17:19:44.289Z"
   },
   {
    "duration": 19,
    "start_time": "2023-12-24T17:19:44.318Z"
   },
   {
    "duration": 9,
    "start_time": "2023-12-24T17:19:44.338Z"
   },
   {
    "duration": 13,
    "start_time": "2023-12-24T17:19:44.348Z"
   },
   {
    "duration": 2,
    "start_time": "2023-12-24T17:19:44.363Z"
   },
   {
    "duration": 189,
    "start_time": "2023-12-24T17:19:44.366Z"
   },
   {
    "duration": 5,
    "start_time": "2023-12-24T17:19:44.556Z"
   },
   {
    "duration": 4,
    "start_time": "2023-12-24T17:19:44.562Z"
   },
   {
    "duration": 9,
    "start_time": "2023-12-24T17:19:44.567Z"
   },
   {
    "duration": 6,
    "start_time": "2023-12-24T17:19:44.577Z"
   },
   {
    "duration": 3,
    "start_time": "2023-12-24T17:19:44.584Z"
   },
   {
    "duration": 225,
    "start_time": "2023-12-24T18:49:01.505Z"
   },
   {
    "duration": 6,
    "start_time": "2023-12-24T18:49:01.731Z"
   },
   {
    "duration": 38,
    "start_time": "2023-12-24T18:49:01.738Z"
   },
   {
    "duration": 51,
    "start_time": "2023-12-24T18:49:01.778Z"
   },
   {
    "duration": 36,
    "start_time": "2023-12-24T18:49:01.831Z"
   },
   {
    "duration": 25,
    "start_time": "2023-12-24T18:49:01.868Z"
   },
   {
    "duration": 1035,
    "start_time": "2023-12-24T22:52:49.662Z"
   },
   {
    "duration": 94,
    "start_time": "2023-12-24T22:52:50.699Z"
   },
   {
    "duration": 12,
    "start_time": "2023-12-24T22:52:50.794Z"
   },
   {
    "duration": 29,
    "start_time": "2023-12-24T22:52:50.808Z"
   },
   {
    "duration": 29,
    "start_time": "2023-12-24T22:52:50.839Z"
   },
   {
    "duration": 36,
    "start_time": "2023-12-24T22:52:50.869Z"
   },
   {
    "duration": 33,
    "start_time": "2023-12-24T22:52:50.907Z"
   },
   {
    "duration": 5,
    "start_time": "2023-12-24T22:52:50.941Z"
   },
   {
    "duration": 31,
    "start_time": "2023-12-24T22:52:50.948Z"
   },
   {
    "duration": 13,
    "start_time": "2023-12-24T22:52:50.982Z"
   },
   {
    "duration": 42,
    "start_time": "2023-12-24T22:52:50.996Z"
   },
   {
    "duration": 30,
    "start_time": "2023-12-24T22:52:51.040Z"
   },
   {
    "duration": 20,
    "start_time": "2023-12-24T22:52:51.072Z"
   },
   {
    "duration": 46,
    "start_time": "2023-12-24T22:52:51.094Z"
   },
   {
    "duration": 20,
    "start_time": "2023-12-24T22:52:51.142Z"
   },
   {
    "duration": 181,
    "start_time": "2023-12-24T22:52:51.164Z"
   },
   {
    "duration": 109,
    "start_time": "2023-12-24T22:52:51.346Z"
   },
   {
    "duration": 180,
    "start_time": "2023-12-24T22:52:51.456Z"
   },
   {
    "duration": 194,
    "start_time": "2023-12-24T22:52:51.637Z"
   },
   {
    "duration": 17,
    "start_time": "2023-12-24T22:52:51.832Z"
   },
   {
    "duration": 29,
    "start_time": "2023-12-24T22:52:51.851Z"
   },
   {
    "duration": 12,
    "start_time": "2023-12-24T22:52:51.882Z"
   },
   {
    "duration": 15,
    "start_time": "2023-12-24T22:52:51.895Z"
   },
   {
    "duration": 14,
    "start_time": "2023-12-24T22:52:51.912Z"
   },
   {
    "duration": 198,
    "start_time": "2023-12-24T22:52:51.927Z"
   },
   {
    "duration": 167,
    "start_time": "2023-12-24T22:52:52.126Z"
   },
   {
    "duration": 185,
    "start_time": "2023-12-24T22:52:52.295Z"
   },
   {
    "duration": 248,
    "start_time": "2023-12-24T22:52:52.483Z"
   },
   {
    "duration": 172,
    "start_time": "2023-12-24T22:52:52.733Z"
   },
   {
    "duration": 174,
    "start_time": "2023-12-24T22:52:52.906Z"
   },
   {
    "duration": 266,
    "start_time": "2023-12-24T22:52:53.081Z"
   },
   {
    "duration": 269,
    "start_time": "2023-12-24T22:52:53.349Z"
   },
   {
    "duration": 20,
    "start_time": "2023-12-24T22:52:53.619Z"
   },
   {
    "duration": 35,
    "start_time": "2023-12-24T22:52:53.640Z"
   },
   {
    "duration": 21,
    "start_time": "2023-12-24T22:52:53.677Z"
   },
   {
    "duration": 27,
    "start_time": "2023-12-24T22:52:53.700Z"
   },
   {
    "duration": 223,
    "start_time": "2023-12-24T22:52:53.728Z"
   },
   {
    "duration": 6,
    "start_time": "2023-12-24T22:52:53.952Z"
   },
   {
    "duration": 21,
    "start_time": "2023-12-24T22:52:53.964Z"
   },
   {
    "duration": 24,
    "start_time": "2023-12-24T22:52:53.987Z"
   },
   {
    "duration": 48,
    "start_time": "2023-12-24T22:52:54.013Z"
   },
   {
    "duration": 24,
    "start_time": "2023-12-24T22:52:54.063Z"
   },
   {
    "duration": 14,
    "start_time": "2023-12-24T23:03:36.395Z"
   },
   {
    "duration": 48,
    "start_time": "2023-12-28T13:50:35.486Z"
   },
   {
    "duration": 0,
    "start_time": "2023-12-28T13:50:35.535Z"
   },
   {
    "duration": 0,
    "start_time": "2023-12-28T13:50:35.536Z"
   },
   {
    "duration": 0,
    "start_time": "2023-12-28T13:50:35.537Z"
   },
   {
    "duration": 0,
    "start_time": "2023-12-28T13:50:35.538Z"
   },
   {
    "duration": 0,
    "start_time": "2023-12-28T13:50:35.540Z"
   },
   {
    "duration": 0,
    "start_time": "2023-12-28T13:50:35.540Z"
   },
   {
    "duration": 1171,
    "start_time": "2023-12-28T13:50:41.671Z"
   },
   {
    "duration": 362,
    "start_time": "2023-12-28T13:50:42.844Z"
   },
   {
    "duration": 13,
    "start_time": "2023-12-28T13:50:43.208Z"
   },
   {
    "duration": 16,
    "start_time": "2023-12-28T13:50:43.223Z"
   },
   {
    "duration": 15,
    "start_time": "2023-12-28T13:50:43.242Z"
   },
   {
    "duration": 14,
    "start_time": "2023-12-28T13:50:43.259Z"
   },
   {
    "duration": 15,
    "start_time": "2023-12-28T13:50:43.275Z"
   },
   {
    "duration": 25,
    "start_time": "2023-12-28T13:50:43.292Z"
   },
   {
    "duration": 12,
    "start_time": "2023-12-28T13:50:43.319Z"
   },
   {
    "duration": 6,
    "start_time": "2023-12-28T13:50:43.333Z"
   },
   {
    "duration": 15,
    "start_time": "2023-12-28T13:50:43.341Z"
   },
   {
    "duration": 10,
    "start_time": "2023-12-28T13:50:43.357Z"
   },
   {
    "duration": 11,
    "start_time": "2023-12-28T13:50:43.368Z"
   },
   {
    "duration": 7,
    "start_time": "2023-12-28T13:50:43.414Z"
   },
   {
    "duration": 4,
    "start_time": "2023-12-28T13:50:43.423Z"
   },
   {
    "duration": 192,
    "start_time": "2023-12-28T13:50:43.429Z"
   },
   {
    "duration": 141,
    "start_time": "2023-12-28T13:50:43.623Z"
   },
   {
    "duration": 234,
    "start_time": "2023-12-28T13:50:43.766Z"
   },
   {
    "duration": 203,
    "start_time": "2023-12-28T13:50:44.002Z"
   },
   {
    "duration": 23,
    "start_time": "2023-12-28T13:50:44.207Z"
   },
   {
    "duration": 18,
    "start_time": "2023-12-28T13:50:44.232Z"
   },
   {
    "duration": 16,
    "start_time": "2023-12-28T13:50:44.252Z"
   },
   {
    "duration": 16,
    "start_time": "2023-12-28T13:50:44.270Z"
   },
   {
    "duration": 41,
    "start_time": "2023-12-28T13:50:44.288Z"
   },
   {
    "duration": 199,
    "start_time": "2023-12-28T13:50:44.331Z"
   },
   {
    "duration": 179,
    "start_time": "2023-12-28T13:50:44.531Z"
   },
   {
    "duration": 202,
    "start_time": "2023-12-28T13:50:44.715Z"
   },
   {
    "duration": 309,
    "start_time": "2023-12-28T13:50:44.919Z"
   },
   {
    "duration": 181,
    "start_time": "2023-12-28T13:50:45.230Z"
   },
   {
    "duration": 172,
    "start_time": "2023-12-28T13:50:45.412Z"
   },
   {
    "duration": 288,
    "start_time": "2023-12-28T13:50:45.585Z"
   },
   {
    "duration": 258,
    "start_time": "2023-12-28T13:50:45.875Z"
   },
   {
    "duration": 22,
    "start_time": "2023-12-28T13:50:46.135Z"
   },
   {
    "duration": 22,
    "start_time": "2023-12-28T13:50:46.158Z"
   },
   {
    "duration": 33,
    "start_time": "2023-12-28T13:50:46.182Z"
   },
   {
    "duration": 11,
    "start_time": "2023-12-28T13:50:46.216Z"
   },
   {
    "duration": 226,
    "start_time": "2023-12-28T13:50:46.228Z"
   },
   {
    "duration": 5,
    "start_time": "2023-12-28T13:50:46.456Z"
   },
   {
    "duration": 9,
    "start_time": "2023-12-28T13:50:46.462Z"
   },
   {
    "duration": 10,
    "start_time": "2023-12-28T13:50:46.473Z"
   },
   {
    "duration": 7,
    "start_time": "2023-12-28T13:50:46.486Z"
   },
   {
    "duration": 20,
    "start_time": "2023-12-28T13:50:46.494Z"
   },
   {
    "duration": 184,
    "start_time": "2023-12-28T14:56:17.290Z"
   },
   {
    "duration": 0,
    "start_time": "2023-12-28T14:56:17.476Z"
   },
   {
    "duration": 0,
    "start_time": "2023-12-28T14:56:17.478Z"
   },
   {
    "duration": 0,
    "start_time": "2023-12-28T14:56:17.479Z"
   },
   {
    "duration": 0,
    "start_time": "2023-12-28T14:56:17.480Z"
   },
   {
    "duration": 0,
    "start_time": "2023-12-28T14:56:17.481Z"
   },
   {
    "duration": 0,
    "start_time": "2023-12-28T14:56:17.482Z"
   },
   {
    "duration": 0,
    "start_time": "2023-12-28T14:56:17.483Z"
   },
   {
    "duration": 0,
    "start_time": "2023-12-28T14:56:17.484Z"
   },
   {
    "duration": 0,
    "start_time": "2023-12-28T14:56:17.485Z"
   },
   {
    "duration": 0,
    "start_time": "2023-12-28T14:56:17.486Z"
   },
   {
    "duration": 0,
    "start_time": "2023-12-28T14:56:17.487Z"
   },
   {
    "duration": 0,
    "start_time": "2023-12-28T14:56:17.488Z"
   },
   {
    "duration": 0,
    "start_time": "2023-12-28T14:56:17.489Z"
   },
   {
    "duration": 0,
    "start_time": "2023-12-28T14:56:17.490Z"
   },
   {
    "duration": 0,
    "start_time": "2023-12-28T14:56:17.515Z"
   },
   {
    "duration": 0,
    "start_time": "2023-12-28T14:56:17.516Z"
   },
   {
    "duration": 0,
    "start_time": "2023-12-28T14:56:17.518Z"
   },
   {
    "duration": 0,
    "start_time": "2023-12-28T14:56:17.519Z"
   },
   {
    "duration": 0,
    "start_time": "2023-12-28T14:56:17.520Z"
   },
   {
    "duration": 0,
    "start_time": "2023-12-28T14:56:17.521Z"
   },
   {
    "duration": 0,
    "start_time": "2023-12-28T14:56:17.522Z"
   },
   {
    "duration": 0,
    "start_time": "2023-12-28T14:56:17.523Z"
   },
   {
    "duration": 0,
    "start_time": "2023-12-28T14:56:17.524Z"
   },
   {
    "duration": 0,
    "start_time": "2023-12-28T14:56:17.525Z"
   },
   {
    "duration": 0,
    "start_time": "2023-12-28T14:56:17.526Z"
   },
   {
    "duration": 55,
    "start_time": "2023-12-28T14:57:01.102Z"
   },
   {
    "duration": 0,
    "start_time": "2023-12-28T14:57:01.159Z"
   },
   {
    "duration": 0,
    "start_time": "2023-12-28T14:57:01.160Z"
   },
   {
    "duration": 0,
    "start_time": "2023-12-28T14:57:01.162Z"
   },
   {
    "duration": 0,
    "start_time": "2023-12-28T14:57:01.163Z"
   },
   {
    "duration": 0,
    "start_time": "2023-12-28T14:57:01.164Z"
   },
   {
    "duration": 0,
    "start_time": "2023-12-28T14:57:01.165Z"
   },
   {
    "duration": 0,
    "start_time": "2023-12-28T14:57:01.166Z"
   },
   {
    "duration": 0,
    "start_time": "2023-12-28T14:57:01.167Z"
   },
   {
    "duration": 0,
    "start_time": "2023-12-28T14:57:01.168Z"
   },
   {
    "duration": 0,
    "start_time": "2023-12-28T14:57:01.169Z"
   },
   {
    "duration": 0,
    "start_time": "2023-12-28T14:57:01.170Z"
   },
   {
    "duration": 0,
    "start_time": "2023-12-28T14:57:01.171Z"
   },
   {
    "duration": 0,
    "start_time": "2023-12-28T14:57:01.172Z"
   },
   {
    "duration": 0,
    "start_time": "2023-12-28T14:57:01.173Z"
   },
   {
    "duration": 0,
    "start_time": "2023-12-28T14:57:01.174Z"
   },
   {
    "duration": 0,
    "start_time": "2023-12-28T14:57:01.175Z"
   },
   {
    "duration": 0,
    "start_time": "2023-12-28T14:57:01.176Z"
   },
   {
    "duration": 0,
    "start_time": "2023-12-28T14:57:01.177Z"
   },
   {
    "duration": 0,
    "start_time": "2023-12-28T14:57:01.179Z"
   },
   {
    "duration": 260,
    "start_time": "2023-12-28T14:57:01.182Z"
   },
   {
    "duration": 7,
    "start_time": "2023-12-28T14:57:01.444Z"
   },
   {
    "duration": 90,
    "start_time": "2023-12-28T14:57:01.453Z"
   },
   {
    "duration": 79,
    "start_time": "2023-12-28T14:57:01.545Z"
   },
   {
    "duration": 39,
    "start_time": "2023-12-28T14:57:01.625Z"
   },
   {
    "duration": 31,
    "start_time": "2023-12-28T14:57:01.666Z"
   },
   {
    "duration": 115,
    "start_time": "2023-12-28T14:57:40.733Z"
   },
   {
    "duration": 0,
    "start_time": "2023-12-28T14:57:40.850Z"
   },
   {
    "duration": 0,
    "start_time": "2023-12-28T14:57:40.852Z"
   },
   {
    "duration": 0,
    "start_time": "2023-12-28T14:57:40.852Z"
   },
   {
    "duration": 0,
    "start_time": "2023-12-28T14:57:40.853Z"
   },
   {
    "duration": 0,
    "start_time": "2023-12-28T14:57:40.854Z"
   },
   {
    "duration": 0,
    "start_time": "2023-12-28T14:57:40.855Z"
   },
   {
    "duration": 0,
    "start_time": "2023-12-28T14:57:40.856Z"
   },
   {
    "duration": 0,
    "start_time": "2023-12-28T14:57:40.857Z"
   },
   {
    "duration": 0,
    "start_time": "2023-12-28T14:57:40.858Z"
   },
   {
    "duration": 0,
    "start_time": "2023-12-28T14:57:40.859Z"
   },
   {
    "duration": 0,
    "start_time": "2023-12-28T14:57:40.860Z"
   },
   {
    "duration": 0,
    "start_time": "2023-12-28T14:57:40.861Z"
   },
   {
    "duration": 0,
    "start_time": "2023-12-28T14:57:40.862Z"
   },
   {
    "duration": 0,
    "start_time": "2023-12-28T14:57:40.863Z"
   },
   {
    "duration": 0,
    "start_time": "2023-12-28T14:57:40.864Z"
   },
   {
    "duration": 0,
    "start_time": "2023-12-28T14:57:40.864Z"
   },
   {
    "duration": 0,
    "start_time": "2023-12-28T14:57:40.866Z"
   },
   {
    "duration": 0,
    "start_time": "2023-12-28T14:57:40.866Z"
   },
   {
    "duration": 0,
    "start_time": "2023-12-28T14:57:40.867Z"
   },
   {
    "duration": 0,
    "start_time": "2023-12-28T14:57:40.868Z"
   },
   {
    "duration": 0,
    "start_time": "2023-12-28T14:57:40.869Z"
   },
   {
    "duration": 0,
    "start_time": "2023-12-28T14:57:40.870Z"
   },
   {
    "duration": 0,
    "start_time": "2023-12-28T14:57:40.871Z"
   },
   {
    "duration": 0,
    "start_time": "2023-12-28T14:57:40.872Z"
   },
   {
    "duration": 0,
    "start_time": "2023-12-28T14:57:40.873Z"
   },
   {
    "duration": 151,
    "start_time": "2023-12-28T14:57:57.020Z"
   },
   {
    "duration": 187,
    "start_time": "2023-12-28T14:57:57.172Z"
   },
   {
    "duration": 297,
    "start_time": "2023-12-28T14:57:57.361Z"
   },
   {
    "duration": 19,
    "start_time": "2023-12-28T14:57:57.660Z"
   },
   {
    "duration": 18,
    "start_time": "2023-12-28T14:57:57.680Z"
   },
   {
    "duration": 13,
    "start_time": "2023-12-28T14:57:57.714Z"
   },
   {
    "duration": 14,
    "start_time": "2023-12-28T14:57:57.728Z"
   },
   {
    "duration": 12,
    "start_time": "2023-12-28T14:57:57.744Z"
   },
   {
    "duration": 194,
    "start_time": "2023-12-28T14:57:57.758Z"
   },
   {
    "duration": 172,
    "start_time": "2023-12-28T14:57:57.954Z"
   },
   {
    "duration": 202,
    "start_time": "2023-12-28T14:57:58.127Z"
   },
   {
    "duration": 227,
    "start_time": "2023-12-28T14:57:58.331Z"
   },
   {
    "duration": 192,
    "start_time": "2023-12-28T14:57:58.559Z"
   },
   {
    "duration": 193,
    "start_time": "2023-12-28T14:57:58.753Z"
   },
   {
    "duration": 214,
    "start_time": "2023-12-28T14:57:58.948Z"
   },
   {
    "duration": 256,
    "start_time": "2023-12-28T14:57:59.164Z"
   },
   {
    "duration": 22,
    "start_time": "2023-12-28T14:57:59.422Z"
   },
   {
    "duration": 21,
    "start_time": "2023-12-28T14:57:59.446Z"
   },
   {
    "duration": 10,
    "start_time": "2023-12-28T14:57:59.468Z"
   },
   {
    "duration": 37,
    "start_time": "2023-12-28T14:57:59.479Z"
   },
   {
    "duration": 208,
    "start_time": "2023-12-28T14:57:59.518Z"
   },
   {
    "duration": 5,
    "start_time": "2023-12-28T14:57:59.727Z"
   },
   {
    "duration": 5,
    "start_time": "2023-12-28T14:57:59.734Z"
   },
   {
    "duration": 5,
    "start_time": "2023-12-28T14:57:59.740Z"
   },
   {
    "duration": 7,
    "start_time": "2023-12-28T14:57:59.747Z"
   },
   {
    "duration": 4,
    "start_time": "2023-12-28T14:57:59.755Z"
   },
   {
    "duration": 1094,
    "start_time": "2023-12-28T21:17:13.654Z"
   },
   {
    "duration": 236,
    "start_time": "2023-12-28T21:17:14.750Z"
   },
   {
    "duration": 12,
    "start_time": "2023-12-28T21:17:14.988Z"
   },
   {
    "duration": 33,
    "start_time": "2023-12-28T21:17:15.001Z"
   },
   {
    "duration": 34,
    "start_time": "2023-12-28T21:17:15.035Z"
   },
   {
    "duration": 43,
    "start_time": "2023-12-28T21:17:15.071Z"
   },
   {
    "duration": 25,
    "start_time": "2023-12-28T21:17:15.115Z"
   },
   {
    "duration": 7,
    "start_time": "2023-12-28T21:17:15.142Z"
   },
   {
    "duration": 22,
    "start_time": "2023-12-28T21:17:15.150Z"
   },
   {
    "duration": 15,
    "start_time": "2023-12-28T21:17:15.174Z"
   },
   {
    "duration": 15,
    "start_time": "2023-12-28T21:17:15.190Z"
   },
   {
    "duration": 21,
    "start_time": "2023-12-28T21:17:15.206Z"
   },
   {
    "duration": 20,
    "start_time": "2023-12-28T21:17:15.228Z"
   },
   {
    "duration": 5,
    "start_time": "2023-12-28T21:17:15.249Z"
   },
   {
    "duration": 12,
    "start_time": "2023-12-28T21:17:15.255Z"
   },
   {
    "duration": 184,
    "start_time": "2023-12-28T21:17:15.268Z"
   },
   {
    "duration": 151,
    "start_time": "2023-12-28T21:17:15.453Z"
   },
   {
    "duration": 203,
    "start_time": "2023-12-28T21:17:15.605Z"
   },
   {
    "duration": 233,
    "start_time": "2023-12-28T21:17:15.810Z"
   },
   {
    "duration": 19,
    "start_time": "2023-12-28T21:17:16.045Z"
   },
   {
    "duration": 34,
    "start_time": "2023-12-28T21:17:16.065Z"
   },
   {
    "duration": 13,
    "start_time": "2023-12-28T21:17:16.101Z"
   },
   {
    "duration": 18,
    "start_time": "2023-12-28T21:17:16.116Z"
   },
   {
    "duration": 15,
    "start_time": "2023-12-28T21:17:16.136Z"
   },
   {
    "duration": 217,
    "start_time": "2023-12-28T21:17:16.153Z"
   },
   {
    "duration": 183,
    "start_time": "2023-12-28T21:17:16.382Z"
   },
   {
    "duration": 213,
    "start_time": "2023-12-28T21:17:16.567Z"
   },
   {
    "duration": 240,
    "start_time": "2023-12-28T21:17:16.784Z"
   },
   {
    "duration": 199,
    "start_time": "2023-12-28T21:17:17.026Z"
   },
   {
    "duration": 178,
    "start_time": "2023-12-28T21:17:17.226Z"
   },
   {
    "duration": 278,
    "start_time": "2023-12-28T21:17:17.406Z"
   },
   {
    "duration": 271,
    "start_time": "2023-12-28T21:17:17.685Z"
   },
   {
    "duration": 31,
    "start_time": "2023-12-28T21:17:17.958Z"
   },
   {
    "duration": 20,
    "start_time": "2023-12-28T21:17:17.991Z"
   },
   {
    "duration": 9,
    "start_time": "2023-12-28T21:17:18.012Z"
   },
   {
    "duration": 14,
    "start_time": "2023-12-28T21:17:18.022Z"
   },
   {
    "duration": 240,
    "start_time": "2023-12-28T21:17:18.037Z"
   },
   {
    "duration": 7,
    "start_time": "2023-12-28T21:17:18.278Z"
   },
   {
    "duration": 5,
    "start_time": "2023-12-28T21:17:18.287Z"
   },
   {
    "duration": 12,
    "start_time": "2023-12-28T21:17:18.293Z"
   },
   {
    "duration": 30,
    "start_time": "2023-12-28T21:17:18.306Z"
   },
   {
    "duration": 4,
    "start_time": "2023-12-28T21:17:18.337Z"
   }
  ],
  "kernelspec": {
   "display_name": "Python 3 (ipykernel)",
   "language": "python",
   "name": "python3"
  },
  "language_info": {
   "codemirror_mode": {
    "name": "ipython",
    "version": 3
   },
   "file_extension": ".py",
   "mimetype": "text/x-python",
   "name": "python",
   "nbconvert_exporter": "python",
   "pygments_lexer": "ipython3",
   "version": "3.9.5"
  },
  "toc": {
   "base_numbering": 1,
   "nav_menu": {},
   "number_sections": true,
   "sideBar": true,
   "skip_h1_title": true,
   "title_cell": "Table of Contents",
   "title_sidebar": "Contents",
   "toc_cell": false,
   "toc_position": {},
   "toc_section_display": true,
   "toc_window_display": false
  }
 },
 "nbformat": 4,
 "nbformat_minor": 5
}
