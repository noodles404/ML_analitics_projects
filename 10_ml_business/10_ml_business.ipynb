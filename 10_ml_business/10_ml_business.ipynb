{
 "cells": [
  {
   "cell_type": "markdown",
   "metadata": {},
   "source": [
    "Привет, меня зовут Артем. Сегодня я проверю твой проект.\n",
    "<br> Дальнейшее общение будет происходить на \"ты\" если это не вызывает никаких проблем.\n",
    "<br> Желательно реагировать на каждый мой комментарий ('исправил', 'не понятно как исправить ошибку', ...)\n",
    "<br> Пожалуйста, не удаляй комментарии ревьюера, так как они повышают качество повторного ревью.\n",
    "\n",
    "Комментарии будут в <font color='green'>зеленой</font>, <font color='blue'>синей</font> или <font color='red'>красной</font> рамках:\n",
    "\n",
    "<div class=\"alert alert-block alert-success\">\n",
    "<b>Успех:</b> Если все сделано отлично\n",
    "</div>\n",
    "\n",
    "<div class=\"alert alert-block alert-info\">\n",
    "<b>Совет: </b> Если можно немного улучшить\n",
    "</div>\n",
    "\n",
    "<div class=\"alert alert-block alert-danger\">\n",
    "<b>Ошибка:</b> Если требуются исправления. Работа не может быть принята с красными комментариями.\n",
    "</div>\n",
    "\n",
    "-------------------\n",
    "\n",
    "Будет очень хорошо, если ты будешь помечать свои действия следующим образом:\n",
    "<div class=\"alert alert-block alert-warning\">\n",
    "<b>Комментарий студента:</b> ...\n",
    "</div>\n",
    "\n",
    "<div class=\"alert alert-block alert-warning\">\n",
    "<b>Изменения:</b> Были внесены следующие изменения ...\n",
    "</div>\n",
    "\n",
    "### <font color='orange'>Общее впечатление</font>\n",
    "* Большое спасибо за проделанную работу. Видно, что приложено много усилий.\n",
    "* Выводы и рассуждения получились содержательными, их было интересно читать.\n",
    "* Отлично, что доверительный интервал и риск убытков посчитаны верно.\n",
    "* Над этим проектом нужно будет еще немного поработать. Однако, изменения не должны занять много времени.\n",
    "* В работе я оставил несколько советов. Буду рад, если ты учтешь их.\n",
    "* С радостью отвечу на твои вопросы, если они есть. Лучше всего их собрать в следующей ячейке. Жду новую версию проекта."
   ]
  },
  {
   "cell_type": "markdown",
   "metadata": {},
   "source": [
    "### <font color='orange'>Общее впечатление (ревью 2)</font>\n",
    "* После исправлений проект улучшился и теперь он может быть зачтен.\n",
    "* Для удобства все новые комментарии обозначены фразой \"ревью 2\".\n",
    "* Удачи в дальнейшем обучении и следующих работах!"
   ]
  },
  {
   "cell_type": "markdown",
   "metadata": {},
   "source": [
    "# Выбор локации для скважины"
   ]
  },
  {
   "cell_type": "markdown",
   "metadata": {},
   "source": [
    "Допустим, вы работаете в добывающей компании «ГлавРосГосНефть». Нужно решить, где бурить новую скважину.\n",
    "\n",
    "Вам предоставлены пробы нефти в трёх регионах: в каждом 10 000 месторождений, где измерили качество нефти и объём её запасов. Постройте модель машинного обучения, которая поможет определить регион, где добыча принесёт наибольшую прибыль. Проанализируйте возможную прибыль и риски техникой *Bootstrap.*\n",
    "\n",
    "Шаги для выбора локации:\n",
    "\n",
    "- В избранном регионе ищут месторождения, для каждого определяют значения признаков;\n",
    "- Строят модель и оценивают объём запасов;\n",
    "- Выбирают месторождения с самым высокими оценками значений. Количество месторождений зависит от бюджета компании и стоимости разработки одной скважины;\n",
    "- Прибыль равна суммарной прибыли отобранных месторождений."
   ]
  },
  {
   "cell_type": "code",
   "execution_count": 1,
   "metadata": {},
   "outputs": [],
   "source": [
    "!pip install shap -q \n",
    "!pip install -Uq scikit-learn -q \n",
    "!pip install phik -q"
   ]
  },
  {
   "cell_type": "code",
   "execution_count": 2,
   "metadata": {},
   "outputs": [],
   "source": [
    "import pandas as pd\n",
    "import seaborn as sns \n",
    "import numpy as np\n",
    "import matplotlib.pyplot as plt\n",
    "import scipy.stats as st\n",
    "\n",
    "from sklearn.model_selection import train_test_split\n",
    "\n",
    "from sklearn.linear_model import LogisticRegression\n",
    "from sklearn.linear_model import LinearRegression\n",
    "from sklearn.neighbors import KNeighborsClassifier\n",
    "\n",
    "from sklearn.svm import SVC\n",
    "\n",
    "from sklearn.metrics import (f1_score, mean_squared_error, mean_absolute_error,\n",
    "                             accuracy_score, recall_score, precision_score, make_scorer, root_mean_squared_error, r2_score)\n",
    "\n",
    "from sklearn.metrics import roc_auc_score, RocCurveDisplay\n",
    "\n",
    "from sklearn.model_selection import GridSearchCV, RandomizedSearchCV\n",
    "from sklearn.compose import ColumnTransformer\n",
    "from sklearn.pipeline import Pipeline\n",
    "\n",
    "from sklearn.preprocessing import (StandardScaler, \n",
    "                                   MinMaxScaler, \n",
    "                                   RobustScaler,\n",
    "                                   PolynomialFeatures, \n",
    "                                   OneHotEncoder,\n",
    "                                   OrdinalEncoder, \n",
    "                                   LabelEncoder)\n",
    "\n",
    "from sklearn.impute import SimpleImputer\n",
    "#from imblearn.over_sampling import SMOTE\n",
    "\n",
    "from sklearn.tree import DecisionTreeClassifier, DecisionTreeRegressor\n",
    "\n",
    "from warnings import simplefilter\n",
    "\n",
    "import shap\n",
    "from sklearn.feature_selection import SelectKBest, f_classif\n",
    "from sklearn.inspection import permutation_importance\n",
    "\n",
    "from phik.report import plot_correlation_matrix\n",
    "from phik import report\n",
    "from phik import phik_matrix\n"
   ]
  },
  {
   "cell_type": "markdown",
   "metadata": {},
   "source": [
    "<div class=\"alert alert-block alert-success\">\n",
    "<b>Успех:</b> Отлично, что все импорты собраны в первой ячейке ноутбука! Если у того, кто будет запускать твой ноутбук будут отсутствовать некоторые библиотеки, то он это увидит сразу, а не в процессе!\n",
    "</div>"
   ]
  },
  {
   "cell_type": "code",
   "execution_count": 3,
   "metadata": {},
   "outputs": [],
   "source": [
    "def review_data(datasets):\n",
    "        print(datasets.info())\n",
    "        print(' ')\n",
    "        print('Duplicates')\n",
    "        print(datasets.duplicated().value_counts())"
   ]
  },
  {
   "cell_type": "code",
   "execution_count": 4,
   "metadata": {},
   "outputs": [],
   "source": [
    "def researchvis_num_features(df, df_features, color):\n",
    "    \n",
    "    for feat in df_features:\n",
    "        \n",
    "        fig, ax = plt.subplots(1, 2, figsize=(15, 6))\n",
    "        sns.histplot(ax=ax[0], data=df, x=df[feat], kde=True, bins=30, color=color)\n",
    "            \n",
    "        ax[0].set_ylabel('Частота')\n",
    "        ax[0].set_title(f'Распределение показателей {df[feat].name}', fontsize=12)\n",
    "            \n",
    "        sns.boxplot(ax=ax[1], data=df, x=df[feat], color=color, medianprops={'color': \"darkred\", \"linewidth\": 2})\n",
    "        ax[1].set_title(f'Диаграмма размаха {df[feat].name}', fontsize = 12)\n",
    "            "
   ]
  },
  {
   "cell_type": "markdown",
   "metadata": {},
   "source": [
    "## Загрузка и подготовка данных"
   ]
  },
  {
   "cell_type": "code",
   "execution_count": 5,
   "metadata": {},
   "outputs": [],
   "source": [
    "region_0 = pd.read_csv('/datasets/geo_data_0.csv', sep=',', decimal='.')"
   ]
  },
  {
   "cell_type": "code",
   "execution_count": 6,
   "metadata": {},
   "outputs": [],
   "source": [
    "region_1 = pd.read_csv('/datasets/geo_data_1.csv', sep=',', decimal='.')"
   ]
  },
  {
   "cell_type": "code",
   "execution_count": 7,
   "metadata": {},
   "outputs": [],
   "source": [
    "region_2 = pd.read_csv('/datasets/geo_data_2.csv', sep=',', decimal='.')"
   ]
  },
  {
   "cell_type": "code",
   "execution_count": 8,
   "metadata": {},
   "outputs": [
    {
     "data": {
      "text/html": [
       "<div>\n",
       "<style scoped>\n",
       "    .dataframe tbody tr th:only-of-type {\n",
       "        vertical-align: middle;\n",
       "    }\n",
       "\n",
       "    .dataframe tbody tr th {\n",
       "        vertical-align: top;\n",
       "    }\n",
       "\n",
       "    .dataframe thead th {\n",
       "        text-align: right;\n",
       "    }\n",
       "</style>\n",
       "<table border=\"1\" class=\"dataframe\">\n",
       "  <thead>\n",
       "    <tr style=\"text-align: right;\">\n",
       "      <th></th>\n",
       "      <th>id</th>\n",
       "      <th>f0</th>\n",
       "      <th>f1</th>\n",
       "      <th>f2</th>\n",
       "      <th>product</th>\n",
       "    </tr>\n",
       "  </thead>\n",
       "  <tbody>\n",
       "    <tr>\n",
       "      <th>0</th>\n",
       "      <td>txEyH</td>\n",
       "      <td>0.705745</td>\n",
       "      <td>-0.497823</td>\n",
       "      <td>1.221170</td>\n",
       "      <td>105.280062</td>\n",
       "    </tr>\n",
       "    <tr>\n",
       "      <th>1</th>\n",
       "      <td>2acmU</td>\n",
       "      <td>1.334711</td>\n",
       "      <td>-0.340164</td>\n",
       "      <td>4.365080</td>\n",
       "      <td>73.037750</td>\n",
       "    </tr>\n",
       "    <tr>\n",
       "      <th>2</th>\n",
       "      <td>409Wp</td>\n",
       "      <td>1.022732</td>\n",
       "      <td>0.151990</td>\n",
       "      <td>1.419926</td>\n",
       "      <td>85.265647</td>\n",
       "    </tr>\n",
       "    <tr>\n",
       "      <th>3</th>\n",
       "      <td>iJLyR</td>\n",
       "      <td>-0.032172</td>\n",
       "      <td>0.139033</td>\n",
       "      <td>2.978566</td>\n",
       "      <td>168.620776</td>\n",
       "    </tr>\n",
       "    <tr>\n",
       "      <th>4</th>\n",
       "      <td>Xdl7t</td>\n",
       "      <td>1.988431</td>\n",
       "      <td>0.155413</td>\n",
       "      <td>4.751769</td>\n",
       "      <td>154.036647</td>\n",
       "    </tr>\n",
       "  </tbody>\n",
       "</table>\n",
       "</div>"
      ],
      "text/plain": [
       "      id        f0        f1        f2     product\n",
       "0  txEyH  0.705745 -0.497823  1.221170  105.280062\n",
       "1  2acmU  1.334711 -0.340164  4.365080   73.037750\n",
       "2  409Wp  1.022732  0.151990  1.419926   85.265647\n",
       "3  iJLyR -0.032172  0.139033  2.978566  168.620776\n",
       "4  Xdl7t  1.988431  0.155413  4.751769  154.036647"
      ]
     },
     "execution_count": 8,
     "metadata": {},
     "output_type": "execute_result"
    }
   ],
   "source": [
    "region_0.head()"
   ]
  },
  {
   "cell_type": "code",
   "execution_count": 9,
   "metadata": {},
   "outputs": [
    {
     "data": {
      "text/html": [
       "<div>\n",
       "<style scoped>\n",
       "    .dataframe tbody tr th:only-of-type {\n",
       "        vertical-align: middle;\n",
       "    }\n",
       "\n",
       "    .dataframe tbody tr th {\n",
       "        vertical-align: top;\n",
       "    }\n",
       "\n",
       "    .dataframe thead th {\n",
       "        text-align: right;\n",
       "    }\n",
       "</style>\n",
       "<table border=\"1\" class=\"dataframe\">\n",
       "  <thead>\n",
       "    <tr style=\"text-align: right;\">\n",
       "      <th></th>\n",
       "      <th>id</th>\n",
       "      <th>f0</th>\n",
       "      <th>f1</th>\n",
       "      <th>f2</th>\n",
       "      <th>product</th>\n",
       "    </tr>\n",
       "  </thead>\n",
       "  <tbody>\n",
       "    <tr>\n",
       "      <th>0</th>\n",
       "      <td>kBEdx</td>\n",
       "      <td>-15.001348</td>\n",
       "      <td>-8.276000</td>\n",
       "      <td>-0.005876</td>\n",
       "      <td>3.179103</td>\n",
       "    </tr>\n",
       "    <tr>\n",
       "      <th>1</th>\n",
       "      <td>62mP7</td>\n",
       "      <td>14.272088</td>\n",
       "      <td>-3.475083</td>\n",
       "      <td>0.999183</td>\n",
       "      <td>26.953261</td>\n",
       "    </tr>\n",
       "    <tr>\n",
       "      <th>2</th>\n",
       "      <td>vyE1P</td>\n",
       "      <td>6.263187</td>\n",
       "      <td>-5.948386</td>\n",
       "      <td>5.001160</td>\n",
       "      <td>134.766305</td>\n",
       "    </tr>\n",
       "    <tr>\n",
       "      <th>3</th>\n",
       "      <td>KcrkZ</td>\n",
       "      <td>-13.081196</td>\n",
       "      <td>-11.506057</td>\n",
       "      <td>4.999415</td>\n",
       "      <td>137.945408</td>\n",
       "    </tr>\n",
       "    <tr>\n",
       "      <th>4</th>\n",
       "      <td>AHL4O</td>\n",
       "      <td>12.702195</td>\n",
       "      <td>-8.147433</td>\n",
       "      <td>5.004363</td>\n",
       "      <td>134.766305</td>\n",
       "    </tr>\n",
       "  </tbody>\n",
       "</table>\n",
       "</div>"
      ],
      "text/plain": [
       "      id         f0         f1        f2     product\n",
       "0  kBEdx -15.001348  -8.276000 -0.005876    3.179103\n",
       "1  62mP7  14.272088  -3.475083  0.999183   26.953261\n",
       "2  vyE1P   6.263187  -5.948386  5.001160  134.766305\n",
       "3  KcrkZ -13.081196 -11.506057  4.999415  137.945408\n",
       "4  AHL4O  12.702195  -8.147433  5.004363  134.766305"
      ]
     },
     "execution_count": 9,
     "metadata": {},
     "output_type": "execute_result"
    }
   ],
   "source": [
    "region_1.head()"
   ]
  },
  {
   "cell_type": "code",
   "execution_count": 10,
   "metadata": {},
   "outputs": [
    {
     "data": {
      "text/html": [
       "<div>\n",
       "<style scoped>\n",
       "    .dataframe tbody tr th:only-of-type {\n",
       "        vertical-align: middle;\n",
       "    }\n",
       "\n",
       "    .dataframe tbody tr th {\n",
       "        vertical-align: top;\n",
       "    }\n",
       "\n",
       "    .dataframe thead th {\n",
       "        text-align: right;\n",
       "    }\n",
       "</style>\n",
       "<table border=\"1\" class=\"dataframe\">\n",
       "  <thead>\n",
       "    <tr style=\"text-align: right;\">\n",
       "      <th></th>\n",
       "      <th>id</th>\n",
       "      <th>f0</th>\n",
       "      <th>f1</th>\n",
       "      <th>f2</th>\n",
       "      <th>product</th>\n",
       "    </tr>\n",
       "  </thead>\n",
       "  <tbody>\n",
       "    <tr>\n",
       "      <th>0</th>\n",
       "      <td>fwXo0</td>\n",
       "      <td>-1.146987</td>\n",
       "      <td>0.963328</td>\n",
       "      <td>-0.828965</td>\n",
       "      <td>27.758673</td>\n",
       "    </tr>\n",
       "    <tr>\n",
       "      <th>1</th>\n",
       "      <td>WJtFt</td>\n",
       "      <td>0.262778</td>\n",
       "      <td>0.269839</td>\n",
       "      <td>-2.530187</td>\n",
       "      <td>56.069697</td>\n",
       "    </tr>\n",
       "    <tr>\n",
       "      <th>2</th>\n",
       "      <td>ovLUW</td>\n",
       "      <td>0.194587</td>\n",
       "      <td>0.289035</td>\n",
       "      <td>-5.586433</td>\n",
       "      <td>62.871910</td>\n",
       "    </tr>\n",
       "    <tr>\n",
       "      <th>3</th>\n",
       "      <td>q6cA6</td>\n",
       "      <td>2.236060</td>\n",
       "      <td>-0.553760</td>\n",
       "      <td>0.930038</td>\n",
       "      <td>114.572842</td>\n",
       "    </tr>\n",
       "    <tr>\n",
       "      <th>4</th>\n",
       "      <td>WPMUX</td>\n",
       "      <td>-0.515993</td>\n",
       "      <td>1.716266</td>\n",
       "      <td>5.899011</td>\n",
       "      <td>149.600746</td>\n",
       "    </tr>\n",
       "  </tbody>\n",
       "</table>\n",
       "</div>"
      ],
      "text/plain": [
       "      id        f0        f1        f2     product\n",
       "0  fwXo0 -1.146987  0.963328 -0.828965   27.758673\n",
       "1  WJtFt  0.262778  0.269839 -2.530187   56.069697\n",
       "2  ovLUW  0.194587  0.289035 -5.586433   62.871910\n",
       "3  q6cA6  2.236060 -0.553760  0.930038  114.572842\n",
       "4  WPMUX -0.515993  1.716266  5.899011  149.600746"
      ]
     },
     "execution_count": 10,
     "metadata": {},
     "output_type": "execute_result"
    }
   ],
   "source": [
    "region_2.head()"
   ]
  },
  {
   "cell_type": "code",
   "execution_count": 11,
   "metadata": {},
   "outputs": [
    {
     "name": "stdout",
     "output_type": "stream",
     "text": [
      "<class 'pandas.core.frame.DataFrame'>\n",
      "RangeIndex: 100000 entries, 0 to 99999\n",
      "Data columns (total 5 columns):\n",
      " #   Column   Non-Null Count   Dtype  \n",
      "---  ------   --------------   -----  \n",
      " 0   id       100000 non-null  object \n",
      " 1   f0       100000 non-null  float64\n",
      " 2   f1       100000 non-null  float64\n",
      " 3   f2       100000 non-null  float64\n",
      " 4   product  100000 non-null  float64\n",
      "dtypes: float64(4), object(1)\n",
      "memory usage: 3.8+ MB\n",
      "None\n",
      " \n",
      "Duplicates\n",
      "False    100000\n",
      "dtype: int64\n"
     ]
    }
   ],
   "source": [
    "review_data(region_0)"
   ]
  },
  {
   "cell_type": "code",
   "execution_count": 12,
   "metadata": {},
   "outputs": [
    {
     "name": "stdout",
     "output_type": "stream",
     "text": [
      "<class 'pandas.core.frame.DataFrame'>\n",
      "RangeIndex: 100000 entries, 0 to 99999\n",
      "Data columns (total 5 columns):\n",
      " #   Column   Non-Null Count   Dtype  \n",
      "---  ------   --------------   -----  \n",
      " 0   id       100000 non-null  object \n",
      " 1   f0       100000 non-null  float64\n",
      " 2   f1       100000 non-null  float64\n",
      " 3   f2       100000 non-null  float64\n",
      " 4   product  100000 non-null  float64\n",
      "dtypes: float64(4), object(1)\n",
      "memory usage: 3.8+ MB\n",
      "None\n",
      " \n",
      "Duplicates\n",
      "False    100000\n",
      "dtype: int64\n"
     ]
    }
   ],
   "source": [
    "review_data(region_1)"
   ]
  },
  {
   "cell_type": "code",
   "execution_count": 13,
   "metadata": {},
   "outputs": [
    {
     "name": "stdout",
     "output_type": "stream",
     "text": [
      "<class 'pandas.core.frame.DataFrame'>\n",
      "RangeIndex: 100000 entries, 0 to 99999\n",
      "Data columns (total 5 columns):\n",
      " #   Column   Non-Null Count   Dtype  \n",
      "---  ------   --------------   -----  \n",
      " 0   id       100000 non-null  object \n",
      " 1   f0       100000 non-null  float64\n",
      " 2   f1       100000 non-null  float64\n",
      " 3   f2       100000 non-null  float64\n",
      " 4   product  100000 non-null  float64\n",
      "dtypes: float64(4), object(1)\n",
      "memory usage: 3.8+ MB\n",
      "None\n",
      " \n",
      "Duplicates\n",
      "False    100000\n",
      "dtype: int64\n"
     ]
    }
   ],
   "source": [
    "review_data(region_2)"
   ]
  },
  {
   "cell_type": "markdown",
   "metadata": {},
   "source": [
    "## Исследовательский анализ данных по регионам"
   ]
  },
  {
   "cell_type": "markdown",
   "metadata": {},
   "source": [
    "## Регион 2"
   ]
  },
  {
   "cell_type": "code",
   "execution_count": 14,
   "metadata": {},
   "outputs": [
    {
     "data": {
      "image/png": "[encoded data removed]",
      "text/plain": [
       "<Figure size 1080x432 with 2 Axes>"
      ]
     },
     "metadata": {
      "needs_background": "light"
     },
     "output_type": "display_data"
    }
   ],
   "source": [
    "researchvis_num_features(region_0, ['product'], 'black')"
   ]
  },
  {
   "cell_type": "markdown",
   "metadata": {},
   "source": [
    "#### f фичи для региона 0"
   ]
  },
  {
   "cell_type": "code",
   "execution_count": 15,
   "metadata": {},
   "outputs": [],
   "source": [
    "num_col = ['f0', 'f1', 'f2']"
   ]
  },
  {
   "cell_type": "code",
   "execution_count": 16,
   "metadata": {},
   "outputs": [
    {
     "data": {
      "image/png": "[encoded data removed]",
      "text/plain": [
       "<Figure size 1080x432 with 2 Axes>"
      ]
     },
     "metadata": {
      "needs_background": "light"
     },
     "output_type": "display_data"
    },
    {
     "data": {
      "image/png": "[encoded data removed]",
      "text/plain": [
       "<Figure size 1080x432 with 2 Axes>"
      ]
     },
     "metadata": {
      "needs_background": "light"
     },
     "output_type": "display_data"
    },
    {
     "data": {
      "image/png": "[encoded data removed]",
      "text/plain": [
       "<Figure size 1080x432 with 2 Axes>"
      ]
     },
     "metadata": {
      "needs_background": "light"
     },
     "output_type": "display_data"
    }
   ],
   "source": [
    "for i in num_col:\n",
    "    researchvis_num_features(region_0, [i], 'darkgreen')"
   ]
  },
  {
   "cell_type": "code",
   "execution_count": 17,
   "metadata": {},
   "outputs": [
    {
     "data": {
      "text/html": [
       "<div>\n",
       "<style scoped>\n",
       "    .dataframe tbody tr th:only-of-type {\n",
       "        vertical-align: middle;\n",
       "    }\n",
       "\n",
       "    .dataframe tbody tr th {\n",
       "        vertical-align: top;\n",
       "    }\n",
       "\n",
       "    .dataframe thead th {\n",
       "        text-align: right;\n",
       "    }\n",
       "</style>\n",
       "<table border=\"1\" class=\"dataframe\">\n",
       "  <thead>\n",
       "    <tr style=\"text-align: right;\">\n",
       "      <th></th>\n",
       "      <th>count</th>\n",
       "      <th>mean</th>\n",
       "      <th>std</th>\n",
       "      <th>min</th>\n",
       "      <th>25%</th>\n",
       "      <th>50%</th>\n",
       "      <th>75%</th>\n",
       "      <th>max</th>\n",
       "    </tr>\n",
       "  </thead>\n",
       "  <tbody>\n",
       "    <tr>\n",
       "      <th>f0</th>\n",
       "      <td>100000.0</td>\n",
       "      <td>0.500419</td>\n",
       "      <td>0.871832</td>\n",
       "      <td>-1.408605</td>\n",
       "      <td>-0.072580</td>\n",
       "      <td>0.502360</td>\n",
       "      <td>1.073581</td>\n",
       "      <td>2.362331</td>\n",
       "    </tr>\n",
       "    <tr>\n",
       "      <th>f1</th>\n",
       "      <td>100000.0</td>\n",
       "      <td>0.250143</td>\n",
       "      <td>0.504433</td>\n",
       "      <td>-0.848218</td>\n",
       "      <td>-0.200881</td>\n",
       "      <td>0.250252</td>\n",
       "      <td>0.700646</td>\n",
       "      <td>1.343769</td>\n",
       "    </tr>\n",
       "    <tr>\n",
       "      <th>f2</th>\n",
       "      <td>100000.0</td>\n",
       "      <td>2.502647</td>\n",
       "      <td>3.248248</td>\n",
       "      <td>-12.088328</td>\n",
       "      <td>0.287748</td>\n",
       "      <td>2.515969</td>\n",
       "      <td>4.715088</td>\n",
       "      <td>16.003790</td>\n",
       "    </tr>\n",
       "    <tr>\n",
       "      <th>product</th>\n",
       "      <td>100000.0</td>\n",
       "      <td>92.500000</td>\n",
       "      <td>44.288691</td>\n",
       "      <td>0.000000</td>\n",
       "      <td>56.497507</td>\n",
       "      <td>91.849972</td>\n",
       "      <td>128.564089</td>\n",
       "      <td>185.364347</td>\n",
       "    </tr>\n",
       "  </tbody>\n",
       "</table>\n",
       "</div>"
      ],
      "text/plain": [
       "            count       mean        std        min        25%        50%  \\\n",
       "f0       100000.0   0.500419   0.871832  -1.408605  -0.072580   0.502360   \n",
       "f1       100000.0   0.250143   0.504433  -0.848218  -0.200881   0.250252   \n",
       "f2       100000.0   2.502647   3.248248 -12.088328   0.287748   2.515969   \n",
       "product  100000.0  92.500000  44.288691   0.000000  56.497507  91.849972   \n",
       "\n",
       "                75%         max  \n",
       "f0         1.073581    2.362331  \n",
       "f1         0.700646    1.343769  \n",
       "f2         4.715088   16.003790  \n",
       "product  128.564089  185.364347  "
      ]
     },
     "execution_count": 17,
     "metadata": {},
     "output_type": "execute_result"
    }
   ],
   "source": [
    "region_0.describe().T"
   ]
  },
  {
   "cell_type": "markdown",
   "metadata": {},
   "source": [
    "## Регион 2"
   ]
  },
  {
   "cell_type": "code",
   "execution_count": 18,
   "metadata": {},
   "outputs": [
    {
     "data": {
      "image/png": "[encoded data removed]",
      "text/plain": [
       "<Figure size 1080x432 with 2 Axes>"
      ]
     },
     "metadata": {
      "needs_background": "light"
     },
     "output_type": "display_data"
    }
   ],
   "source": [
    "researchvis_num_features(region_1, ['product'], 'black')"
   ]
  },
  {
   "cell_type": "markdown",
   "metadata": {},
   "source": [
    "#### f фичи для региона 1"
   ]
  },
  {
   "cell_type": "code",
   "execution_count": 19,
   "metadata": {},
   "outputs": [
    {
     "data": {
      "image/png": "[encoded data removed]",
      "text/plain": [
       "<Figure size 1080x432 with 2 Axes>"
      ]
     },
     "metadata": {
      "needs_background": "light"
     },
     "output_type": "display_data"
    },
    {
     "data": {
      "image/png": "[encoded data removed]",
      "text/plain": [
       "<Figure size 1080x432 with 2 Axes>"
      ]
     },
     "metadata": {
      "needs_background": "light"
     },
     "output_type": "display_data"
    },
    {
     "data": {
      "image/png": "[encoded data removed]",
      "text/plain": [
       "<Figure size 1080x432 with 2 Axes>"
      ]
     },
     "metadata": {
      "needs_background": "light"
     },
     "output_type": "display_data"
    }
   ],
   "source": [
    "for i in num_col:\n",
    "    researchvis_num_features(region_1, [i], 'darkgreen')"
   ]
  },
  {
   "cell_type": "code",
   "execution_count": 20,
   "metadata": {},
   "outputs": [
    {
     "data": {
      "text/html": [
       "<div>\n",
       "<style scoped>\n",
       "    .dataframe tbody tr th:only-of-type {\n",
       "        vertical-align: middle;\n",
       "    }\n",
       "\n",
       "    .dataframe tbody tr th {\n",
       "        vertical-align: top;\n",
       "    }\n",
       "\n",
       "    .dataframe thead th {\n",
       "        text-align: right;\n",
       "    }\n",
       "</style>\n",
       "<table border=\"1\" class=\"dataframe\">\n",
       "  <thead>\n",
       "    <tr style=\"text-align: right;\">\n",
       "      <th></th>\n",
       "      <th>count</th>\n",
       "      <th>mean</th>\n",
       "      <th>std</th>\n",
       "      <th>min</th>\n",
       "      <th>25%</th>\n",
       "      <th>50%</th>\n",
       "      <th>75%</th>\n",
       "      <th>max</th>\n",
       "    </tr>\n",
       "  </thead>\n",
       "  <tbody>\n",
       "    <tr>\n",
       "      <th>f0</th>\n",
       "      <td>100000.0</td>\n",
       "      <td>1.141296</td>\n",
       "      <td>8.965932</td>\n",
       "      <td>-31.609576</td>\n",
       "      <td>-6.298551</td>\n",
       "      <td>1.153055</td>\n",
       "      <td>8.621015</td>\n",
       "      <td>29.421755</td>\n",
       "    </tr>\n",
       "    <tr>\n",
       "      <th>f1</th>\n",
       "      <td>100000.0</td>\n",
       "      <td>-4.796579</td>\n",
       "      <td>5.119872</td>\n",
       "      <td>-26.358598</td>\n",
       "      <td>-8.267985</td>\n",
       "      <td>-4.813172</td>\n",
       "      <td>-1.332816</td>\n",
       "      <td>18.734063</td>\n",
       "    </tr>\n",
       "    <tr>\n",
       "      <th>f2</th>\n",
       "      <td>100000.0</td>\n",
       "      <td>2.494541</td>\n",
       "      <td>1.703572</td>\n",
       "      <td>-0.018144</td>\n",
       "      <td>1.000021</td>\n",
       "      <td>2.011479</td>\n",
       "      <td>3.999904</td>\n",
       "      <td>5.019721</td>\n",
       "    </tr>\n",
       "    <tr>\n",
       "      <th>product</th>\n",
       "      <td>100000.0</td>\n",
       "      <td>68.825000</td>\n",
       "      <td>45.944423</td>\n",
       "      <td>0.000000</td>\n",
       "      <td>26.953261</td>\n",
       "      <td>57.085625</td>\n",
       "      <td>107.813044</td>\n",
       "      <td>137.945408</td>\n",
       "    </tr>\n",
       "  </tbody>\n",
       "</table>\n",
       "</div>"
      ],
      "text/plain": [
       "            count       mean        std        min        25%        50%  \\\n",
       "f0       100000.0   1.141296   8.965932 -31.609576  -6.298551   1.153055   \n",
       "f1       100000.0  -4.796579   5.119872 -26.358598  -8.267985  -4.813172   \n",
       "f2       100000.0   2.494541   1.703572  -0.018144   1.000021   2.011479   \n",
       "product  100000.0  68.825000  45.944423   0.000000  26.953261  57.085625   \n",
       "\n",
       "                75%         max  \n",
       "f0         8.621015   29.421755  \n",
       "f1        -1.332816   18.734063  \n",
       "f2         3.999904    5.019721  \n",
       "product  107.813044  137.945408  "
      ]
     },
     "execution_count": 20,
     "metadata": {},
     "output_type": "execute_result"
    }
   ],
   "source": [
    "region_1.describe().T"
   ]
  },
  {
   "cell_type": "markdown",
   "metadata": {},
   "source": [
    "## Регион 2"
   ]
  },
  {
   "cell_type": "code",
   "execution_count": 21,
   "metadata": {},
   "outputs": [
    {
     "data": {
      "image/png": "[encoded data removed]",
      "text/plain": [
       "<Figure size 1080x432 with 2 Axes>"
      ]
     },
     "metadata": {
      "needs_background": "light"
     },
     "output_type": "display_data"
    }
   ],
   "source": [
    "researchvis_num_features(region_2, ['product'], 'black')"
   ]
  },
  {
   "cell_type": "markdown",
   "metadata": {},
   "source": [
    "#### f фичи для региона 2"
   ]
  },
  {
   "cell_type": "code",
   "execution_count": 22,
   "metadata": {},
   "outputs": [
    {
     "data": {
      "image/png": "[encoded data removed]",
      "text/plain": [
       "<Figure size 1080x432 with 2 Axes>"
      ]
     },
     "metadata": {
      "needs_background": "light"
     },
     "output_type": "display_data"
    },
    {
     "data": {
      "image/png": "[encoded data removed]",
      "text/plain": [
       "<Figure size 1080x432 with 2 Axes>"
      ]
     },
     "metadata": {
      "needs_background": "light"
     },
     "output_type": "display_data"
    },
    {
     "data": {
      "image/png": "[encoded data removed]",
      "text/plain": [
       "<Figure size 1080x432 with 2 Axes>"
      ]
     },
     "metadata": {
      "needs_background": "light"
     },
     "output_type": "display_data"
    }
   ],
   "source": [
    "for i in num_col:\n",
    "    researchvis_num_features(region_2, [i], 'darkgreen')"
   ]
  },
  {
   "cell_type": "code",
   "execution_count": 23,
   "metadata": {},
   "outputs": [
    {
     "data": {
      "text/html": [
       "<div>\n",
       "<style scoped>\n",
       "    .dataframe tbody tr th:only-of-type {\n",
       "        vertical-align: middle;\n",
       "    }\n",
       "\n",
       "    .dataframe tbody tr th {\n",
       "        vertical-align: top;\n",
       "    }\n",
       "\n",
       "    .dataframe thead th {\n",
       "        text-align: right;\n",
       "    }\n",
       "</style>\n",
       "<table border=\"1\" class=\"dataframe\">\n",
       "  <thead>\n",
       "    <tr style=\"text-align: right;\">\n",
       "      <th></th>\n",
       "      <th>count</th>\n",
       "      <th>mean</th>\n",
       "      <th>std</th>\n",
       "      <th>min</th>\n",
       "      <th>25%</th>\n",
       "      <th>50%</th>\n",
       "      <th>75%</th>\n",
       "      <th>max</th>\n",
       "    </tr>\n",
       "  </thead>\n",
       "  <tbody>\n",
       "    <tr>\n",
       "      <th>f0</th>\n",
       "      <td>100000.0</td>\n",
       "      <td>0.002023</td>\n",
       "      <td>1.732045</td>\n",
       "      <td>-8.760004</td>\n",
       "      <td>-1.162288</td>\n",
       "      <td>0.009424</td>\n",
       "      <td>1.158535</td>\n",
       "      <td>7.238262</td>\n",
       "    </tr>\n",
       "    <tr>\n",
       "      <th>f1</th>\n",
       "      <td>100000.0</td>\n",
       "      <td>-0.002081</td>\n",
       "      <td>1.730417</td>\n",
       "      <td>-7.084020</td>\n",
       "      <td>-1.174820</td>\n",
       "      <td>-0.009482</td>\n",
       "      <td>1.163678</td>\n",
       "      <td>7.844801</td>\n",
       "    </tr>\n",
       "    <tr>\n",
       "      <th>f2</th>\n",
       "      <td>100000.0</td>\n",
       "      <td>2.495128</td>\n",
       "      <td>3.473445</td>\n",
       "      <td>-11.970335</td>\n",
       "      <td>0.130359</td>\n",
       "      <td>2.484236</td>\n",
       "      <td>4.858794</td>\n",
       "      <td>16.739402</td>\n",
       "    </tr>\n",
       "    <tr>\n",
       "      <th>product</th>\n",
       "      <td>100000.0</td>\n",
       "      <td>95.000000</td>\n",
       "      <td>44.749921</td>\n",
       "      <td>0.000000</td>\n",
       "      <td>59.450441</td>\n",
       "      <td>94.925613</td>\n",
       "      <td>130.595027</td>\n",
       "      <td>190.029838</td>\n",
       "    </tr>\n",
       "  </tbody>\n",
       "</table>\n",
       "</div>"
      ],
      "text/plain": [
       "            count       mean        std        min        25%        50%  \\\n",
       "f0       100000.0   0.002023   1.732045  -8.760004  -1.162288   0.009424   \n",
       "f1       100000.0  -0.002081   1.730417  -7.084020  -1.174820  -0.009482   \n",
       "f2       100000.0   2.495128   3.473445 -11.970335   0.130359   2.484236   \n",
       "product  100000.0  95.000000  44.749921   0.000000  59.450441  94.925613   \n",
       "\n",
       "                75%         max  \n",
       "f0         1.158535    7.238262  \n",
       "f1         1.163678    7.844801  \n",
       "f2         4.858794   16.739402  \n",
       "product  130.595027  190.029838  "
      ]
     },
     "execution_count": 23,
     "metadata": {},
     "output_type": "execute_result"
    }
   ],
   "source": [
    "region_2.describe().T"
   ]
  },
  {
   "cell_type": "markdown",
   "metadata": {},
   "source": [
    "  Целевой признак(обьём нефтяных скважин в тыс баррелей)  в основном не вызывает подозрений, в регионах 0 и 2 распределение блиско к нормальному, разве что множество идентичных вершин вокруг центрального значения и отстутвие хвостов распределения. Вызывает вопросы регион 1. На гистограме видны явно не непрерывные величины, в основном данные сгруппированы около конкретных значений, а между ними с одним и тем же шагом идут разрывы. Складывается впечатление, что в регионе 1 были исследованы конкретные месторождения в количестве около 12. Из-за отстутвия единообразия, скорее всего адекватность прогнозов будет маловероятной. Это при том, что явнях дубликатов в данных нет вовсе.\n",
    " \n",
    "  В основном коэффициэнты качества продукта в норме, выбросов нет, распределения либо нормальные, либо мультимодальные, что не критично. Из общей картины выбивается разве что признак f2 в регионе 1, он скорее имеет категориальное характер распределения, поскольку большинство величчин сгруппированы вокруг целых чисел, а между ними разрывы, в данном случае можно предположить, что этот признак заполнялся автоматически и заполнен сугубо синтетическими данными, что заметно снижает доверие к показателям из региона 1. Важно отметить, что каждый из f признаков это показатели качества нефти, содержание парафина, то насколько эта нефть легкая, скорее всего и геология региона, поскольку в разных регионах разная нефть и совсем разные условия добычи и совсем разные принимающие сырую нефть НПЗ.\n",
    "  \n",
    "  Однако регион 1 в отличие от остальных, может быть достаточно однородным, при условии, что геологию проводили на территории разных нефтяных бассейнов в регионе из-за чего множество данных имеют дискретный характер распределния."
   ]
  },
  {
   "cell_type": "markdown",
   "metadata": {},
   "source": [
    "<div class=\"alert alert-block alert-success\">\n",
    "<b>Успех:</b> Данные загружены и осмотрены корректно. Радует, что распределения были визуализированы!\n",
    "</div>"
   ]
  },
  {
   "cell_type": "markdown",
   "metadata": {},
   "source": [
    "## Обучение и проверка модели"
   ]
  },
  {
   "cell_type": "code",
   "execution_count": 24,
   "metadata": {},
   "outputs": [],
   "source": [
    "def fill_predict(df, data_preprocessor):\n",
    "    \n",
    "    df = df.set_index('id')\n",
    "    X = df.drop(['product'], axis=1)\n",
    "    y = df['product']\n",
    "\n",
    "    RANDOM_STATE = 42\n",
    "\n",
    "    X_train, X_valid, y_train, y_valid = train_test_split(X, y, random_state=RANDOM_STATE, test_size=0.25)\n",
    "    \n",
    "    model = LinearRegression(n_jobs=-1)\n",
    "    \n",
    "    X_train_prepare = pd.DataFrame(data_preprocessor.fit_transform(X_train), columns=data_preprocessor.get_feature_names_out())\n",
    "\n",
    "    X_valid_prepare = pd.DataFrame(data_preprocessor.transform(X_valid), columns=data_preprocessor.get_feature_names_out())\n",
    "    \n",
    "    model.fit(X_train_prepare, y_train)\n",
    "\n",
    "    y_predict = model.predict(X_valid_prepare)\n",
    "    \n",
    "    y_predict = pd.DataFrame(y_predict, columns=['pred_prod'])\n",
    "    y_predict['id'] = y_valid.index\n",
    "\n",
    "    y_valid = y_valid.reset_index()\n",
    "    X_valid = X_valid.reset_index()\n",
    "\n",
    "    valid_sample_3 = X_valid.merge(y_valid, on='id', how='right')\n",
    "    valid_sample_3 = valid_sample_3.merge(y_predict, on='id', how='left')\n",
    "    \n",
    "    return valid_sample_3\n",
    "    "
   ]
  },
  {
   "cell_type": "code",
   "execution_count": 25,
   "metadata": {},
   "outputs": [],
   "source": [
    "num_pipe = Pipeline(\n",
    "    [\n",
    "        (\n",
    "            'simpleImputer_num', \n",
    "            SimpleImputer(strategy='median')\n",
    "        ),\n",
    "        (\n",
    "            'scaler', \n",
    "            MinMaxScaler()\n",
    "        )\n",
    "    ]\n",
    ")"
   ]
  },
  {
   "cell_type": "code",
   "execution_count": 26,
   "metadata": {},
   "outputs": [],
   "source": [
    "data_preprocessor = ColumnTransformer(\n",
    "    \n",
    "    [\n",
    "        ('num', num_pipe, num_col)\n",
    "    ],\n",
    "    remainder='passthrough'\n",
    "\n",
    ")"
   ]
  },
  {
   "cell_type": "code",
   "execution_count": 27,
   "metadata": {},
   "outputs": [],
   "source": [
    "pipe_final = Pipeline(\n",
    "    [\n",
    "        ('preprocessor', data_preprocessor),\n",
    "        ('models', LinearRegression())\n",
    "    ]\n",
    ")"
   ]
  },
  {
   "cell_type": "code",
   "execution_count": 28,
   "metadata": {},
   "outputs": [],
   "source": [
    "param_grid = [{\n",
    "    \n",
    "    'models': [LinearRegression(n_jobs=-1)],\n",
    "    'preprocessor__num': [StandardScaler(), MinMaxScaler(), RobustScaler(), 'passthrough']\n",
    "}]"
   ]
  },
  {
   "cell_type": "markdown",
   "metadata": {},
   "source": [
    "### REGION_0"
   ]
  },
  {
   "cell_type": "code",
   "execution_count": 29,
   "metadata": {},
   "outputs": [],
   "source": [
    "def metrics(true, pred):\n",
    "    \n",
    "    print(f'Среднее: {pred.mean()}')\n",
    "    print(f'RMSE: {root_mean_squared_error(true, pred)}')\n",
    "    print(f'MSE: {mean_squared_error(true, pred)}')\n",
    "    print(f'MAE: {mean_absolute_error(true, pred)}')\n",
    "    "
   ]
  },
  {
   "cell_type": "code",
   "execution_count": 30,
   "metadata": {},
   "outputs": [
    {
     "data": {
      "text/html": [
       "<div>\n",
       "<style scoped>\n",
       "    .dataframe tbody tr th:only-of-type {\n",
       "        vertical-align: middle;\n",
       "    }\n",
       "\n",
       "    .dataframe tbody tr th {\n",
       "        vertical-align: top;\n",
       "    }\n",
       "\n",
       "    .dataframe thead th {\n",
       "        text-align: right;\n",
       "    }\n",
       "</style>\n",
       "<table border=\"1\" class=\"dataframe\">\n",
       "  <thead>\n",
       "    <tr style=\"text-align: right;\">\n",
       "      <th></th>\n",
       "      <th>id</th>\n",
       "      <th>f0</th>\n",
       "      <th>f1</th>\n",
       "      <th>f2</th>\n",
       "      <th>product</th>\n",
       "      <th>pred_prod</th>\n",
       "    </tr>\n",
       "  </thead>\n",
       "  <tbody>\n",
       "    <tr>\n",
       "      <th>0</th>\n",
       "      <td>7C6bA</td>\n",
       "      <td>0.599283</td>\n",
       "      <td>-0.557623</td>\n",
       "      <td>2.121187</td>\n",
       "      <td>122.073350</td>\n",
       "      <td>101.901017</td>\n",
       "    </tr>\n",
       "    <tr>\n",
       "      <th>1</th>\n",
       "      <td>dVxsn</td>\n",
       "      <td>0.739017</td>\n",
       "      <td>-0.463156</td>\n",
       "      <td>-1.347584</td>\n",
       "      <td>48.738540</td>\n",
       "      <td>78.217774</td>\n",
       "    </tr>\n",
       "    <tr>\n",
       "      <th>2</th>\n",
       "      <td>1Gm3l</td>\n",
       "      <td>1.422743</td>\n",
       "      <td>-0.534917</td>\n",
       "      <td>3.718798</td>\n",
       "      <td>131.338088</td>\n",
       "      <td>115.266901</td>\n",
       "    </tr>\n",
       "    <tr>\n",
       "      <th>3</th>\n",
       "      <td>Nzg1t</td>\n",
       "      <td>1.580244</td>\n",
       "      <td>-0.238458</td>\n",
       "      <td>2.805149</td>\n",
       "      <td>88.327757</td>\n",
       "      <td>105.618618</td>\n",
       "    </tr>\n",
       "    <tr>\n",
       "      <th>4</th>\n",
       "      <td>Z7b4F</td>\n",
       "      <td>0.918974</td>\n",
       "      <td>0.023961</td>\n",
       "      <td>2.598575</td>\n",
       "      <td>36.959266</td>\n",
       "      <td>97.980185</td>\n",
       "    </tr>\n",
       "  </tbody>\n",
       "</table>\n",
       "</div>"
      ],
      "text/plain": [
       "      id        f0        f1        f2     product   pred_prod\n",
       "0  7C6bA  0.599283 -0.557623  2.121187  122.073350  101.901017\n",
       "1  dVxsn  0.739017 -0.463156 -1.347584   48.738540   78.217774\n",
       "2  1Gm3l  1.422743 -0.534917  3.718798  131.338088  115.266901\n",
       "3  Nzg1t  1.580244 -0.238458  2.805149   88.327757  105.618618\n",
       "4  Z7b4F  0.918974  0.023961  2.598575   36.959266   97.980185"
      ]
     },
     "execution_count": 30,
     "metadata": {},
     "output_type": "execute_result"
    }
   ],
   "source": [
    "valid_sample_0 = fill_predict(region_0, data_preprocessor)\n",
    "valid_sample_0.head()"
   ]
  },
  {
   "cell_type": "markdown",
   "metadata": {},
   "source": [
    "### Сравнение истинного обьема с предсказаннным по региону 0"
   ]
  },
  {
   "cell_type": "code",
   "execution_count": 31,
   "metadata": {},
   "outputs": [
    {
     "data": {
      "image/png": "[encoded data removed]",
      "text/plain": [
       "<Figure size 1080x432 with 2 Axes>"
      ]
     },
     "metadata": {
      "needs_background": "light"
     },
     "output_type": "display_data"
    }
   ],
   "source": [
    "researchvis_num_features(valid_sample_0, ['product'], 'black')"
   ]
  },
  {
   "cell_type": "code",
   "execution_count": 32,
   "metadata": {},
   "outputs": [
    {
     "name": "stdout",
     "output_type": "stream",
     "text": [
      "None\n",
      "Среднее: 92.39879990657768\n",
      "RMSE: 37.75660035026169\n",
      "MSE: 1425.5608700093812\n",
      "MAE: 31.047681538788183\n"
     ]
    },
    {
     "data": {
      "image/png": "[encoded data removed]",
      "text/plain": [
       "<Figure size 1080x432 with 2 Axes>"
      ]
     },
     "metadata": {
      "needs_background": "light"
     },
     "output_type": "display_data"
    }
   ],
   "source": [
    "print(researchvis_num_features(valid_sample_0, ['pred_prod'], 'black'))\n",
    "metrics(valid_sample_0[\"product\"], valid_sample_0[\"pred_prod\"])"
   ]
  },
  {
   "cell_type": "markdown",
   "metadata": {},
   "source": [
    "### REGION_1"
   ]
  },
  {
   "cell_type": "code",
   "execution_count": 33,
   "metadata": {},
   "outputs": [
    {
     "data": {
      "text/html": [
       "<div>\n",
       "<style scoped>\n",
       "    .dataframe tbody tr th:only-of-type {\n",
       "        vertical-align: middle;\n",
       "    }\n",
       "\n",
       "    .dataframe tbody tr th {\n",
       "        vertical-align: top;\n",
       "    }\n",
       "\n",
       "    .dataframe thead th {\n",
       "        text-align: right;\n",
       "    }\n",
       "</style>\n",
       "<table border=\"1\" class=\"dataframe\">\n",
       "  <thead>\n",
       "    <tr style=\"text-align: right;\">\n",
       "      <th></th>\n",
       "      <th>id</th>\n",
       "      <th>f0</th>\n",
       "      <th>f1</th>\n",
       "      <th>f2</th>\n",
       "      <th>product</th>\n",
       "      <th>pred_prod</th>\n",
       "    </tr>\n",
       "  </thead>\n",
       "  <tbody>\n",
       "    <tr>\n",
       "      <th>0</th>\n",
       "      <td>fYVDK</td>\n",
       "      <td>6.078076</td>\n",
       "      <td>0.084568</td>\n",
       "      <td>0.002957</td>\n",
       "      <td>0.000000</td>\n",
       "      <td>0.844738</td>\n",
       "    </tr>\n",
       "    <tr>\n",
       "      <th>1</th>\n",
       "      <td>3SQcq</td>\n",
       "      <td>16.462386</td>\n",
       "      <td>2.712946</td>\n",
       "      <td>1.993030</td>\n",
       "      <td>53.906522</td>\n",
       "      <td>52.921612</td>\n",
       "    </tr>\n",
       "    <tr>\n",
       "      <th>2</th>\n",
       "      <td>hQ1gJ</td>\n",
       "      <td>7.051898</td>\n",
       "      <td>0.766983</td>\n",
       "      <td>4.990194</td>\n",
       "      <td>134.766305</td>\n",
       "      <td>135.110385</td>\n",
       "    </tr>\n",
       "    <tr>\n",
       "      <th>3</th>\n",
       "      <td>Y4vux</td>\n",
       "      <td>-0.240045</td>\n",
       "      <td>-0.380804</td>\n",
       "      <td>3.999693</td>\n",
       "      <td>107.813044</td>\n",
       "      <td>109.494863</td>\n",
       "    </tr>\n",
       "    <tr>\n",
       "      <th>4</th>\n",
       "      <td>H1NUw</td>\n",
       "      <td>13.350111</td>\n",
       "      <td>-8.558281</td>\n",
       "      <td>0.002010</td>\n",
       "      <td>0.000000</td>\n",
       "      <td>-0.047292</td>\n",
       "    </tr>\n",
       "  </tbody>\n",
       "</table>\n",
       "</div>"
      ],
      "text/plain": [
       "      id         f0        f1        f2     product   pred_prod\n",
       "0  fYVDK   6.078076  0.084568  0.002957    0.000000    0.844738\n",
       "1  3SQcq  16.462386  2.712946  1.993030   53.906522   52.921612\n",
       "2  hQ1gJ   7.051898  0.766983  4.990194  134.766305  135.110385\n",
       "3  Y4vux  -0.240045 -0.380804  3.999693  107.813044  109.494863\n",
       "4  H1NUw  13.350111 -8.558281  0.002010    0.000000   -0.047292"
      ]
     },
     "execution_count": 33,
     "metadata": {},
     "output_type": "execute_result"
    }
   ],
   "source": [
    "valid_sample_1 = fill_predict(region_1, data_preprocessor)\n",
    "valid_sample_1.head()"
   ]
  },
  {
   "cell_type": "markdown",
   "metadata": {},
   "source": [
    "### Сравнение истинного обьема с предсказаннным по региону 1"
   ]
  },
  {
   "cell_type": "code",
   "execution_count": 34,
   "metadata": {},
   "outputs": [
    {
     "name": "stdout",
     "output_type": "stream",
     "text": [
      "None\n"
     ]
    },
    {
     "data": {
      "image/png": "[encoded data removed]",
      "text/plain": [
       "<Figure size 1080x432 with 2 Axes>"
      ]
     },
     "metadata": {
      "needs_background": "light"
     },
     "output_type": "display_data"
    }
   ],
   "source": [
    "print(researchvis_num_features(valid_sample_1, ['product'], 'black'))"
   ]
  },
  {
   "cell_type": "code",
   "execution_count": 35,
   "metadata": {},
   "outputs": [
    {
     "name": "stdout",
     "output_type": "stream",
     "text": [
      "None\n",
      "Среднее: 68.71287803913762\n",
      "RMSE: 0.8902801001028844\n",
      "MSE: 0.7925986566392018\n",
      "MAE: 0.7170119535682555\n"
     ]
    },
    {
     "data": {
      "image/png": "[encoded data removed]",
      "text/plain": [
       "<Figure size 1080x432 with 2 Axes>"
      ]
     },
     "metadata": {
      "needs_background": "light"
     },
     "output_type": "display_data"
    }
   ],
   "source": [
    "print(researchvis_num_features(valid_sample_1, ['pred_prod'], 'black'))\n",
    "metrics(valid_sample_1[\"product\"], valid_sample_1[\"pred_prod\"])"
   ]
  },
  {
   "cell_type": "markdown",
   "metadata": {},
   "source": [
    "### REGION_2"
   ]
  },
  {
   "cell_type": "code",
   "execution_count": 36,
   "metadata": {},
   "outputs": [
    {
     "data": {
      "text/html": [
       "<div>\n",
       "<style scoped>\n",
       "    .dataframe tbody tr th:only-of-type {\n",
       "        vertical-align: middle;\n",
       "    }\n",
       "\n",
       "    .dataframe tbody tr th {\n",
       "        vertical-align: top;\n",
       "    }\n",
       "\n",
       "    .dataframe thead th {\n",
       "        text-align: right;\n",
       "    }\n",
       "</style>\n",
       "<table border=\"1\" class=\"dataframe\">\n",
       "  <thead>\n",
       "    <tr style=\"text-align: right;\">\n",
       "      <th></th>\n",
       "      <th>id</th>\n",
       "      <th>f0</th>\n",
       "      <th>f1</th>\n",
       "      <th>f2</th>\n",
       "      <th>product</th>\n",
       "      <th>pred_prod</th>\n",
       "    </tr>\n",
       "  </thead>\n",
       "  <tbody>\n",
       "    <tr>\n",
       "      <th>0</th>\n",
       "      <td>sPjbT</td>\n",
       "      <td>2.111118</td>\n",
       "      <td>-1.679773</td>\n",
       "      <td>3.112240</td>\n",
       "      <td>117.441301</td>\n",
       "      <td>98.301916</td>\n",
       "    </tr>\n",
       "    <tr>\n",
       "      <th>1</th>\n",
       "      <td>1u4uo</td>\n",
       "      <td>0.734759</td>\n",
       "      <td>0.747788</td>\n",
       "      <td>3.670879</td>\n",
       "      <td>47.841249</td>\n",
       "      <td>101.592461</td>\n",
       "    </tr>\n",
       "    <tr>\n",
       "      <th>2</th>\n",
       "      <td>kZ6HO</td>\n",
       "      <td>-2.513109</td>\n",
       "      <td>0.844631</td>\n",
       "      <td>-4.922889</td>\n",
       "      <td>45.883483</td>\n",
       "      <td>52.449099</td>\n",
       "    </tr>\n",
       "    <tr>\n",
       "      <th>3</th>\n",
       "      <td>gCZGK</td>\n",
       "      <td>-2.035301</td>\n",
       "      <td>-1.522988</td>\n",
       "      <td>5.072839</td>\n",
       "      <td>139.014608</td>\n",
       "      <td>109.922127</td>\n",
       "    </tr>\n",
       "    <tr>\n",
       "      <th>4</th>\n",
       "      <td>rqJHx</td>\n",
       "      <td>2.744145</td>\n",
       "      <td>1.429952</td>\n",
       "      <td>-1.372661</td>\n",
       "      <td>84.004276</td>\n",
       "      <td>72.411847</td>\n",
       "    </tr>\n",
       "  </tbody>\n",
       "</table>\n",
       "</div>"
      ],
      "text/plain": [
       "      id        f0        f1        f2     product   pred_prod\n",
       "0  sPjbT  2.111118 -1.679773  3.112240  117.441301   98.301916\n",
       "1  1u4uo  0.734759  0.747788  3.670879   47.841249  101.592461\n",
       "2  kZ6HO -2.513109  0.844631 -4.922889   45.883483   52.449099\n",
       "3  gCZGK -2.035301 -1.522988  5.072839  139.014608  109.922127\n",
       "4  rqJHx  2.744145  1.429952 -1.372661   84.004276   72.411847"
      ]
     },
     "execution_count": 36,
     "metadata": {},
     "output_type": "execute_result"
    }
   ],
   "source": [
    "valid_sample_2 = fill_predict(region_2, data_preprocessor)\n",
    "valid_sample_2.head()"
   ]
  },
  {
   "cell_type": "markdown",
   "metadata": {},
   "source": [
    "### Сравнение истинного обьема с предсказаннным по региону 2"
   ]
  },
  {
   "cell_type": "code",
   "execution_count": 37,
   "metadata": {},
   "outputs": [
    {
     "name": "stdout",
     "output_type": "stream",
     "text": [
      "None\n"
     ]
    },
    {
     "data": {
      "image/png": "[encoded data removed]",
      "text/plain": [
       "<Figure size 1080x432 with 2 Axes>"
      ]
     },
     "metadata": {
      "needs_background": "light"
     },
     "output_type": "display_data"
    }
   ],
   "source": [
    "print(researchvis_num_features(valid_sample_2, ['product'], 'black'))"
   ]
  },
  {
   "cell_type": "code",
   "execution_count": 38,
   "metadata": {},
   "outputs": [
    {
     "name": "stdout",
     "output_type": "stream",
     "text": [
      "None\n",
      "Среднее: 94.77102387765939\n",
      "RMSE: 40.14587231134218\n",
      "MSE: 1611.6910636385905\n",
      "MAE: 32.896958610578054\n"
     ]
    },
    {
     "data": {
      "image/png": "[encoded data removed]",
      "text/plain": [
       "<Figure size 1080x432 with 2 Axes>"
      ]
     },
     "metadata": {
      "needs_background": "light"
     },
     "output_type": "display_data"
    }
   ],
   "source": [
    "print(researchvis_num_features(valid_sample_2, ['pred_prod'], 'black'))\n",
    "metrics(valid_sample_2[\"product\"], valid_sample_2[\"pred_prod\"])"
   ]
  },
  {
   "cell_type": "markdown",
   "metadata": {},
   "source": [
    " Выводы:\n",
    " \n",
    "Регион 0:\n",
    "         - Распределние предсказаний абсолютно нормальное\n",
    "         - Средний обьём скважины 92 тыс баррелей\n",
    "         - По RMSE 37, именно столько составляет погрешность прогноза\n",
    "         \n",
    "  Метрика RMSE отлично подходит для скоринга целевого признака т.к выбросов и аномальных значений обусловленных особенностью данных нет.       \n",
    "         \n",
    "Регион 1:\n",
    "         - Распределние предсказаний абсолютно нормальное\n",
    "         - Средний обьём скважины 68 тыс баррелей\n",
    "         - По RMSE 0.8, именно столько составляет погрешность прогноза\n",
    "         \n",
    " Средний показатель низкий из-за пробелов между показателями и слишком высокой общей скученности величин вокруг конкретных значений, которая только усугубляется по итогам прогноза. Погрешность крайне мала, по вышеуказанным причинам и в том числе из-за признака f2, который судя по всему имеет схожу природу с целевым признаком.         \n",
    "\n",
    "Регион 2:\n",
    "         - Распределние предсказаний абсолютно нормальное\n",
    "         - Средний обьём скважины 95 тыс баррелей\n",
    "         - По RMSE 42, именно столько составляет погрешность прогноза\n",
    "         \n",
    " В общем большее доверие вызывают результаты полученные из региона 0, да в среднем в регионе 2 целевые показатели обьёма выше, но и погрешность в предсказаниях значительно больше. Полученные прогнозы по региону 1 низкие и на данном этапе не вызывают доверия.       \n",
    "         "
   ]
  },
  {
   "cell_type": "markdown",
   "metadata": {},
   "source": [
    "<div class=\"alert alert-block alert-success\">\n",
    "<b>Успех:</b> Модели обучены корректно. Радует, что ты активно используешь функции. Это помогает избежать дублирования кода, а значит уменьшает вероятность совершить ошибку/опечатку!\n",
    "</div>"
   ]
  },
  {
   "cell_type": "markdown",
   "metadata": {},
   "source": [
    "## Подготовка к расчёту прибыли"
   ]
  },
  {
   "cell_type": "markdown",
   "metadata": {},
   "source": [
    " На предыдущем этапе мы получили средние значения обьёма в скважинах. Теперь предстоит подсчитать выручку от их освоения."
   ]
  },
  {
   "cell_type": "code",
   "execution_count": 39,
   "metadata": {},
   "outputs": [
    {
     "data": {
      "text/plain": [
       "111.11"
      ]
     },
     "execution_count": 39,
     "metadata": {},
     "output_type": "execute_result"
    }
   ],
   "source": [
    "budget = 10_000_000_000\n",
    "revenue_stocks = 450_000\n",
    "count_of_wells = 500\n",
    "best_wells = 200\n",
    "\n",
    "size_of_stocks = budget / (revenue_stocks * best_wells)\n",
    "round(size_of_stocks, 2)"
   ]
  },
  {
   "cell_type": "markdown",
   "metadata": {},
   "source": [
    "Как видно в итоге средний обьем скважины должен быть 111 тыс баррелей, для ведения безубыточной добычи, этот показатель уже выше среднего в каждом из регионов, а нам же и вовсе необходима маржинальность добычи с учетом настолько крупных вложений в разарботку месторождений."
   ]
  },
  {
   "cell_type": "markdown",
   "metadata": {},
   "source": [
    "<div class=\"alert alert-block alert-info\">\n",
    "\n",
    "<b>Совет: </b> В названиях константных переменных лучше использовать только БОЛЬШИЕ буквы. Это соглашение между программистами: https://pythonworld.ru/osnovy/pep-8-rukovodstvo-po-napisaniyu-koda-na-python.html#id29 .\n",
    "</div>\n",
    "\n",
    "<div class=\"alert alert-block alert-danger\">\n",
    "<b>Ошибка:</b> У тебя указано, что ТБ равна 44.44, а в выводы ты пишешь, что она равна 111. Какой из двух чисел корректно?\n",
    "</div>"
   ]
  },
  {
   "cell_type": "markdown",
   "metadata": {},
   "source": [
    "<b>Комментарий студента </b> Исправил\n",
    "</div>"
   ]
  },
  {
   "cell_type": "markdown",
   "metadata": {},
   "source": [
    "<div class=\"alert alert-block alert-success\">\n",
    "<b>Успех (ревью 2):</b> ОК.\n",
    "</div>"
   ]
  },
  {
   "cell_type": "markdown",
   "metadata": {},
   "source": [
    "## Расчёт прибыли и рисков "
   ]
  },
  {
   "cell_type": "code",
   "execution_count": null,
   "metadata": {},
   "outputs": [],
   "source": []
  },
  {
   "cell_type": "code",
   "execution_count": 40,
   "metadata": {},
   "outputs": [],
   "source": [
    " def revenue_well (valid_sample):\n",
    "    \n",
    "    revenue_stocks = 450_000\n",
    "    \n",
    "    revenue_sum = round((valid_sample['pred_prod'].sum() * revenue_stocks / 10**9 - 10), 2)\n",
    "    \n",
    "    return revenue_sum"
   ]
  },
  {
   "cell_type": "code",
   "execution_count": 41,
   "metadata": {},
   "outputs": [],
   "source": [
    "def revenue(true_pred_df, number_of_wells, rev_per_unit):\n",
    "    sorted_df = true_pred_df.sort_values(by='pred_prod', \n",
    "                                         ascending= False)[:number_of_wells]    \n",
    "\n",
    "    return sorted_df['product'].sum() * rev_per_unit -  budget"
   ]
  },
  {
   "cell_type": "code",
   "execution_count": 42,
   "metadata": {},
   "outputs": [
    {
     "data": {
      "text/html": [
       "<div>\n",
       "<style scoped>\n",
       "    .dataframe tbody tr th:only-of-type {\n",
       "        vertical-align: middle;\n",
       "    }\n",
       "\n",
       "    .dataframe tbody tr th {\n",
       "        vertical-align: top;\n",
       "    }\n",
       "\n",
       "    .dataframe thead th {\n",
       "        text-align: right;\n",
       "    }\n",
       "</style>\n",
       "<table border=\"1\" class=\"dataframe\">\n",
       "  <thead>\n",
       "    <tr style=\"text-align: right;\">\n",
       "      <th></th>\n",
       "      <th>id</th>\n",
       "      <th>f0</th>\n",
       "      <th>f1</th>\n",
       "      <th>f2</th>\n",
       "      <th>product</th>\n",
       "      <th>pred_prod</th>\n",
       "    </tr>\n",
       "  </thead>\n",
       "  <tbody>\n",
       "    <tr>\n",
       "      <th>6958</th>\n",
       "      <td>lfgbR</td>\n",
       "      <td>1.853784</td>\n",
       "      <td>-0.153503</td>\n",
       "      <td>13.585450</td>\n",
       "      <td>153.639837</td>\n",
       "      <td>176.536104</td>\n",
       "    </tr>\n",
       "    <tr>\n",
       "      <th>18194</th>\n",
       "      <td>WcCwe</td>\n",
       "      <td>1.723956</td>\n",
       "      <td>-0.376442</td>\n",
       "      <td>13.139065</td>\n",
       "      <td>140.631646</td>\n",
       "      <td>176.274510</td>\n",
       "    </tr>\n",
       "    <tr>\n",
       "      <th>17251</th>\n",
       "      <td>he3xS</td>\n",
       "      <td>0.370519</td>\n",
       "      <td>-0.283066</td>\n",
       "      <td>13.668868</td>\n",
       "      <td>178.879516</td>\n",
       "      <td>173.249504</td>\n",
       "    </tr>\n",
       "    <tr>\n",
       "      <th>457</th>\n",
       "      <td>kU92A</td>\n",
       "      <td>0.896968</td>\n",
       "      <td>-0.498996</td>\n",
       "      <td>12.828118</td>\n",
       "      <td>176.807828</td>\n",
       "      <td>172.802708</td>\n",
       "    </tr>\n",
       "    <tr>\n",
       "      <th>2202</th>\n",
       "      <td>2I3WV</td>\n",
       "      <td>1.114191</td>\n",
       "      <td>-0.217015</td>\n",
       "      <td>13.302975</td>\n",
       "      <td>130.985681</td>\n",
       "      <td>172.744977</td>\n",
       "    </tr>\n",
       "  </tbody>\n",
       "</table>\n",
       "</div>"
      ],
      "text/plain": [
       "          id        f0        f1         f2     product   pred_prod\n",
       "6958   lfgbR  1.853784 -0.153503  13.585450  153.639837  176.536104\n",
       "18194  WcCwe  1.723956 -0.376442  13.139065  140.631646  176.274510\n",
       "17251  he3xS  0.370519 -0.283066  13.668868  178.879516  173.249504\n",
       "457    kU92A  0.896968 -0.498996  12.828118  176.807828  172.802708\n",
       "2202   2I3WV  1.114191 -0.217015  13.302975  130.985681  172.744977"
      ]
     },
     "execution_count": 42,
     "metadata": {},
     "output_type": "execute_result"
    }
   ],
   "source": [
    "best_wells_reg_0 = valid_sample_0.sort_values(by='pred_prod', ascending=False)\n",
    "best_wells_reg_0 = best_wells_reg_0.head(count_of_wells)\n",
    "best_wells_reg_0.head()"
   ]
  },
  {
   "cell_type": "code",
   "execution_count": 43,
   "metadata": {},
   "outputs": [
    {
     "name": "stdout",
     "output_type": "stream",
     "text": [
      "30881.463288146988\n",
      "RMSE: 25.419053601213736\n"
     ]
    }
   ],
   "source": [
    "best_wells_reg_0 = best_wells_reg_0.head(best_wells)\n",
    "print(best_wells_reg_0['pred_prod'].head(best_wells).sum())\n",
    "print(f'RMSE: {root_mean_squared_error(best_wells_reg_0[\"product\"], best_wells_reg_0[\"pred_prod\"])}')"
   ]
  },
  {
   "cell_type": "code",
   "execution_count": 44,
   "metadata": {},
   "outputs": [
    {
     "data": {
      "text/html": [
       "<div>\n",
       "<style scoped>\n",
       "    .dataframe tbody tr th:only-of-type {\n",
       "        vertical-align: middle;\n",
       "    }\n",
       "\n",
       "    .dataframe tbody tr th {\n",
       "        vertical-align: top;\n",
       "    }\n",
       "\n",
       "    .dataframe thead th {\n",
       "        text-align: right;\n",
       "    }\n",
       "</style>\n",
       "<table border=\"1\" class=\"dataframe\">\n",
       "  <thead>\n",
       "    <tr style=\"text-align: right;\">\n",
       "      <th></th>\n",
       "      <th>id</th>\n",
       "      <th>f0</th>\n",
       "      <th>f1</th>\n",
       "      <th>f2</th>\n",
       "      <th>product</th>\n",
       "      <th>pred_prod</th>\n",
       "    </tr>\n",
       "  </thead>\n",
       "  <tbody>\n",
       "    <tr>\n",
       "      <th>20776</th>\n",
       "      <td>kpPCd</td>\n",
       "      <td>-23.884180</td>\n",
       "      <td>-3.773158</td>\n",
       "      <td>5.001008</td>\n",
       "      <td>137.945408</td>\n",
       "      <td>139.983277</td>\n",
       "    </tr>\n",
       "    <tr>\n",
       "      <th>2323</th>\n",
       "      <td>vd9ik</td>\n",
       "      <td>-20.401677</td>\n",
       "      <td>-11.205156</td>\n",
       "      <td>5.003276</td>\n",
       "      <td>137.945408</td>\n",
       "      <td>139.700803</td>\n",
       "    </tr>\n",
       "    <tr>\n",
       "      <th>13895</th>\n",
       "      <td>a8qSM</td>\n",
       "      <td>-17.391679</td>\n",
       "      <td>-12.347464</td>\n",
       "      <td>5.015414</td>\n",
       "      <td>137.945408</td>\n",
       "      <td>139.616544</td>\n",
       "    </tr>\n",
       "    <tr>\n",
       "      <th>6950</th>\n",
       "      <td>1m8tG</td>\n",
       "      <td>-19.352200</td>\n",
       "      <td>-7.969103</td>\n",
       "      <td>5.004618</td>\n",
       "      <td>137.945408</td>\n",
       "      <td>139.514768</td>\n",
       "    </tr>\n",
       "    <tr>\n",
       "      <th>9151</th>\n",
       "      <td>55xmk</td>\n",
       "      <td>-19.963551</td>\n",
       "      <td>-3.719157</td>\n",
       "      <td>5.003169</td>\n",
       "      <td>137.945408</td>\n",
       "      <td>139.472212</td>\n",
       "    </tr>\n",
       "  </tbody>\n",
       "</table>\n",
       "</div>"
      ],
      "text/plain": [
       "          id         f0         f1        f2     product   pred_prod\n",
       "20776  kpPCd -23.884180  -3.773158  5.001008  137.945408  139.983277\n",
       "2323   vd9ik -20.401677 -11.205156  5.003276  137.945408  139.700803\n",
       "13895  a8qSM -17.391679 -12.347464  5.015414  137.945408  139.616544\n",
       "6950   1m8tG -19.352200  -7.969103  5.004618  137.945408  139.514768\n",
       "9151   55xmk -19.963551  -3.719157  5.003169  137.945408  139.472212"
      ]
     },
     "execution_count": 44,
     "metadata": {},
     "output_type": "execute_result"
    }
   ],
   "source": [
    "best_wells_reg_1 = valid_sample_1.sort_values(by='pred_prod', ascending=False)\n",
    "best_wells_reg_1 = best_wells_reg_1.head(count_of_wells)\n",
    "best_wells_reg_1.head()"
   ]
  },
  {
   "cell_type": "code",
   "execution_count": 45,
   "metadata": {},
   "outputs": [
    {
     "name": "stdout",
     "output_type": "stream",
     "text": [
      "27748.751366664626\n",
      "RMSE: 0.8441311611602871\n"
     ]
    }
   ],
   "source": [
    "best_wells_reg_1 = best_wells_reg_1.head(best_wells)\n",
    "print(best_wells_reg_1['pred_prod'].head(best_wells).sum())\n",
    "print(f'RMSE: {root_mean_squared_error(best_wells_reg_1[\"product\"], best_wells_reg_1[\"pred_prod\"])}')"
   ]
  },
  {
   "cell_type": "code",
   "execution_count": 46,
   "metadata": {},
   "outputs": [
    {
     "data": {
      "text/html": [
       "<div>\n",
       "<style scoped>\n",
       "    .dataframe tbody tr th:only-of-type {\n",
       "        vertical-align: middle;\n",
       "    }\n",
       "\n",
       "    .dataframe tbody tr th {\n",
       "        vertical-align: top;\n",
       "    }\n",
       "\n",
       "    .dataframe thead th {\n",
       "        text-align: right;\n",
       "    }\n",
       "</style>\n",
       "<table border=\"1\" class=\"dataframe\">\n",
       "  <thead>\n",
       "    <tr style=\"text-align: right;\">\n",
       "      <th></th>\n",
       "      <th>id</th>\n",
       "      <th>f0</th>\n",
       "      <th>f1</th>\n",
       "      <th>f2</th>\n",
       "      <th>product</th>\n",
       "      <th>pred_prod</th>\n",
       "    </tr>\n",
       "  </thead>\n",
       "  <tbody>\n",
       "    <tr>\n",
       "      <th>21852</th>\n",
       "      <td>rtPef</td>\n",
       "      <td>-0.214989</td>\n",
       "      <td>1.849141</td>\n",
       "      <td>15.648691</td>\n",
       "      <td>101.225039</td>\n",
       "      <td>170.529209</td>\n",
       "    </tr>\n",
       "    <tr>\n",
       "      <th>10722</th>\n",
       "      <td>KJ6bS</td>\n",
       "      <td>0.517061</td>\n",
       "      <td>-2.686813</td>\n",
       "      <td>15.498363</td>\n",
       "      <td>151.655778</td>\n",
       "      <td>169.673332</td>\n",
       "    </tr>\n",
       "    <tr>\n",
       "      <th>6209</th>\n",
       "      <td>Jz7Ou</td>\n",
       "      <td>1.275966</td>\n",
       "      <td>-2.877779</td>\n",
       "      <td>14.748519</td>\n",
       "      <td>92.947333</td>\n",
       "      <td>165.300724</td>\n",
       "    </tr>\n",
       "    <tr>\n",
       "      <th>8203</th>\n",
       "      <td>yJO5k</td>\n",
       "      <td>-0.005191</td>\n",
       "      <td>-1.141924</td>\n",
       "      <td>14.614990</td>\n",
       "      <td>97.775979</td>\n",
       "      <td>164.613896</td>\n",
       "    </tr>\n",
       "    <tr>\n",
       "      <th>8042</th>\n",
       "      <td>bxRO7</td>\n",
       "      <td>-0.800689</td>\n",
       "      <td>-0.417209</td>\n",
       "      <td>14.492273</td>\n",
       "      <td>122.460897</td>\n",
       "      <td>163.964000</td>\n",
       "    </tr>\n",
       "  </tbody>\n",
       "</table>\n",
       "</div>"
      ],
      "text/plain": [
       "          id        f0        f1         f2     product   pred_prod\n",
       "21852  rtPef -0.214989  1.849141  15.648691  101.225039  170.529209\n",
       "10722  KJ6bS  0.517061 -2.686813  15.498363  151.655778  169.673332\n",
       "6209   Jz7Ou  1.275966 -2.877779  14.748519   92.947333  165.300724\n",
       "8203   yJO5k -0.005191 -1.141924  14.614990   97.775979  164.613896\n",
       "8042   bxRO7 -0.800689 -0.417209  14.492273  122.460897  163.964000"
      ]
     },
     "execution_count": 46,
     "metadata": {},
     "output_type": "execute_result"
    }
   ],
   "source": [
    "best_wells_reg_2 = valid_sample_2.sort_values(by='pred_prod', ascending=False)\n",
    "best_wells_reg_2 = best_wells_reg_2.head(count_of_wells)\n",
    "best_wells_reg_2.head()"
   ]
  },
  {
   "cell_type": "code",
   "execution_count": 47,
   "metadata": {},
   "outputs": [
    {
     "name": "stdout",
     "output_type": "stream",
     "text": [
      "29728.847808255443\n",
      "RMSE: 31.082659674231\n"
     ]
    }
   ],
   "source": [
    "best_wells_reg_2 = best_wells_reg_2.head(best_wells)\n",
    "print(best_wells_reg_2['pred_prod'].sum())\n",
    "print(f'RMSE: {root_mean_squared_error(best_wells_reg_2[\"product\"], best_wells_reg_2[\"pred_prod\"])}')"
   ]
  },
  {
   "cell_type": "code",
   "execution_count": 48,
   "metadata": {},
   "outputs": [
    {
     "name": "stdout",
     "output_type": "stream",
     "text": [
      "Прогнозируемая чистая прибыль по региону 0: 3.9 млрд рублей\n",
      "\n",
      "Прогнозируемая чистая прибыль по региону 1: 2.49 млрд рублей\n",
      "\n",
      "Прогнозируемая чистая прибыль по региону 2: 3.38 млрд рублей\n",
      "\n"
     ]
    }
   ],
   "source": [
    "\n",
    "for i in range(3):\n",
    "    \n",
    "    df = globals()[f\"best_wells_reg_{str(i)}\"]\n",
    "    \n",
    "    print(f'Прогнозируемая чистая прибыль по региону {i}:', f'{revenue_well(df)} млрд рублей')\n",
    "    \n",
    "    print()\n",
    "  "
   ]
  },
  {
   "cell_type": "markdown",
   "metadata": {},
   "source": [
    "Лидирует по величине чистой прибыли регион 0 с 3.9 млрд рублей. Рентабельнность относительно вложений составит 39 %, что является высоким показателем. Самая низкая чистая быль по региону 1, всего 2.49 млрд рублей, что естественно, потолок величин обьёма скважины там всего 139 тыс баррелей. Более скромные относительно первого региона значения чистой прибыли у региона 2, там она оставила 3.38 млрд рублей."
   ]
  },
  {
   "cell_type": "markdown",
   "metadata": {},
   "source": [
    "## Bootsrap"
   ]
  },
  {
   "cell_type": "code",
   "execution_count": 49,
   "metadata": {},
   "outputs": [],
   "source": [
    "state = np.random.RandomState(43) \n",
    "\n",
    "def risk_revenue(valid_sample, count_wells, revenue_stocks):\n",
    "    \n",
    "    revenue_per_stock = []\n",
    "\n",
    "    for i in range(1000):\n",
    "        samples = valid_sample.sample(n=500, replace=True, random_state=state)\n",
    "        revenue_sample = revenue(true_pred_df=samples, number_of_wells = count_wells, rev_per_unit = revenue_stocks)\n",
    "        revenue_per_stock.append(revenue_sample)\n",
    "        \n",
    "    revenue_per_stock = pd.Series(revenue_per_stock) \n",
    "\n",
    "    mean_val_rev = round(revenue_per_stock.mean()/10**9, 2)\n",
    "\n",
    "    risks = revenue_per_stock.loc[lambda x: x<0].count() / revenue_per_stock.count() * 100\n",
    "\n",
    "    confidence_interval = ([revenue_per_stock.quantile(0.025), revenue_per_stock.quantile(0.975)],)\n",
    "\n",
    "    return mean_val_rev, round(risks, 1), confidence_interval"
   ]
  },
  {
   "cell_type": "markdown",
   "metadata": {},
   "source": [
    "\n",
    "<div class=\"alert alert-block alert-danger\">\n",
    "<b>Ошибка:</b> Для выбора 200 лучших скважин нужно использовать предсказанные значения. А вот для подсчета прибыли должны использоваться настоящие значения соответствующих ячеек.\n",
    "</div>"
   ]
  },
  {
   "cell_type": "markdown",
   "metadata": {},
   "source": [
    "<b>Комментарий студента </b> Исправлено, ошибку понял\n",
    "</div>"
   ]
  },
  {
   "cell_type": "markdown",
   "metadata": {},
   "source": [
    "<div class=\"alert alert-block alert-success\">\n",
    "<b>Успех:</b> Отлично, что для подсчета доверительного интервала использовался именно метод квантилей!\n",
    "</div>\n",
    "\n",
    "\n",
    "<div class=\"alert alert-block alert-info\">\n",
    "\n",
    "<b>Совет: </b> Риск можно было найти чуть проще: `(values < 0).mean()`, если объект типа pandas Series или numpy array.\n",
    "</div>"
   ]
  },
  {
   "cell_type": "code",
   "execution_count": 50,
   "metadata": {},
   "outputs": [
    {
     "name": "stdout",
     "output_type": "stream",
     "text": [
      "Регион 0\n",
      "\n",
      "Cреднее значение положительной прибыли: 0.42\n",
      "Риски в %: 6.0\n",
      "Доверительный интервал 95%: ([-128565818.00802688, 951859014.8233461],)\n",
      "\n",
      "Регион 1\n",
      "\n",
      "Cреднее значение положительной прибыли: 0.45\n",
      "Риски в %: 2.0\n",
      "Доверительный интервал 95%: ([16773090.128479246, 808768230.6111852],)\n",
      "\n",
      "Регион 2\n",
      "\n",
      "Cреднее значение положительной прибыли: 0.37\n",
      "Риски в %: 9.2\n",
      "Доверительный интервал 95%: ([-135677583.56364262, 837060643.9435066],)\n",
      "\n"
     ]
    }
   ],
   "source": [
    "for i in range(3):\n",
    "    df = globals()[f'valid_sample_{i}']\n",
    "    \n",
    "    mean_val, risks, confidence_interval = risk_revenue(valid_sample=df, count_wells=200, revenue_stocks=revenue_stocks)\n",
    "    \n",
    "    print(f'Регион {i}')\n",
    "    print()\n",
    "    \n",
    "    print(f'Cреднее значение положительной прибыли: {mean_val}')\n",
    "    print(f'Риски в %: {risks}')\n",
    "    print(f'Доверительный интервал 95%: {confidence_interval}')\n",
    "    print()\n",
    "    "
   ]
  },
  {
   "cell_type": "markdown",
   "metadata": {},
   "source": [
    "  Как мы видим наилучшие результаты показал именно регион 1, лучшая чистая прибыль из всех, хоть и относительно низкая в целом - 0,45 млрд рублей, однако самый высокий риск из всех в 2 %, но всё же он не велик и не превышает обозначенный потолок в 2,5 %.\n",
    "  \n",
    "  В случае с регионами 0 и 2 дела обстоят несколько хуже. В регионе 0 прибыль составит 0,42 млрд рублей, что уже значительно ниже, при повышенном риске получить убытки в 6 %. В регионе 2 самая низкая прибыль, всего 0,37 млрд рублей и с самым высоким, недопустимым риском в 9,2 %.\n",
    "  \n",
    "  Следует выбрать регион 1, на протяжении всего исследовани и прогнозирования именно он показывал самые стабильные результаты, за счет крайне низкого разброса, хоть и с в среднем меньшим обьёмом, но с большим постоянством в величинах.   "
   ]
  },
  {
   "cell_type": "markdown",
   "metadata": {},
   "source": [
    "<div class=\"alert alert-block alert-success\">\n",
    "<b>Успех (ревью 2):</b> Теперь все статистики посчитаны корректно.\n",
    "</div>"
   ]
  },
  {
   "cell_type": "markdown",
   "metadata": {},
   "source": [
    "## Подведение итогов"
   ]
  },
  {
   "cell_type": "markdown",
   "metadata": {},
   "source": [
    " Можно подвести итоги проделанной работы. \n",
    " \n",
    " С данными сложно работать, поскольку значимые коэффициэнты исследования по сути скрыты, трудно выстраивать между ними взаимосвязи и также трудно обьяснять те или иные паттерны их распредления, следовательно гарантировать точную интерпретируемость имеющихся у меня вводных я не могу. Я лишь предполагаю. В остальном, данные качественные, без пропусков и явных дубликатов, хоть и являются синтетическими.\n",
    " \n",
    " Оптималным обьемом скважины, для обеспечения безубыточной прибыли является точка в 111 тыс баррелей. Это значение уже существенно превышает среднее по всем трём регионам.\n",
    " \n",
    " Самую высокую чистую прибыль показали регионы 0 и 2 в 3,9 и 3,4 млрд рублей соответственно, однако качество прогнозов модели по датасетам с этими регионами крайне низкое. Гораздо лучше дела обстоят с регионом 1, предсказания практически не имеют прогноза, за счет предположительно ограниченного количества месторождений числом в 10-12, в котороых в последствии планируется бурение. Чистая прибыль составит 2,7 млрд и при этом она будет гарантированной, когда случае с регионами 0 и 2 можно ожидать сильную дивергенцию между прогнозом и действительностью не в пользу компании.  Шансы же получить куда меньшие обьемы нефти в месторождении заранее отмеченном, как прибыльное, куда выше в регионах 0 и 2. \n",
    " \n",
    " Во всех регионах прослеживается низкая вероятность получить убытки, коя удовлетворяет критерии заказчика. Высокую среднюю положительную прибыль показал регион 1, в 0,45 млрд рублей, что значительно выше чем в остальных регионах, при сохранении низкой вероятности убытков, которую вовсе не могут обеспечить регионы 0 и 2. \n",
    " \n",
    "С учетом всего вышесказанного следует выбрать регион 1, как самый надёжный.\n",
    " "
   ]
  },
  {
   "cell_type": "markdown",
   "metadata": {},
   "source": [
    "<div class=\"alert alert-block alert-success\">\n",
    "<b>Успех (ревью 2):</b> С выбором региона согласен.\n",
    "</div>"
   ]
  },
  {
   "cell_type": "markdown",
   "metadata": {},
   "source": [
    "## Чек-лист готовности проекта"
   ]
  },
  {
   "cell_type": "markdown",
   "metadata": {},
   "source": [
    "Поставьте 'x' в выполненных пунктах. Далее нажмите Shift+Enter."
   ]
  },
  {
   "cell_type": "markdown",
   "metadata": {},
   "source": [
    "- [x]  Jupyter Notebook открыт\n",
    "- [x]  Весь код выполняется без ошибок\n",
    "- [x]  Ячейки с кодом расположены в порядке исполнения\n",
    "- [x]  Выполнен шаг 1: данные подготовлены\n",
    "- [x]  Выполнен шаг 2: модели обучены и проверены\n",
    "    - [x]  Данные корректно разбиты на обучающую и валидационную выборки\n",
    "    - [x]  Модели обучены, предсказания сделаны\n",
    "    - [x]  Предсказания и правильные ответы на валидационной выборке сохранены\n",
    "    - [x]  На экране напечатаны результаты\n",
    "    - [x]  Сделаны выводы\n",
    "- [x]  Выполнен шаг 3: проведена подготовка к расчёту прибыли\n",
    "    - [x]  Для всех ключевых значений созданы константы Python\n",
    "    - [x]  Посчитано минимальное среднее количество продукта в месторождениях региона, достаточное для разработки\n",
    "    - [x]  По предыдущему пункту сделаны выводы\n",
    "    - [x]  Написана функция расчёта прибыли\n",
    "- [x]  Выполнен шаг 4: посчитаны риски и прибыль\n",
    "    - [x]  Проведена процедура *Bootstrap*\n",
    "    - [x]  Все параметры бутстрепа соответствуют условию\n",
    "    - [x]  Найдены все нужные величины\n",
    "    - [x]  Предложен регион для разработки месторождения\n",
    "    - [x]  Выбор региона обоснован"
   ]
  },
  {
   "cell_type": "code",
   "execution_count": null,
   "metadata": {},
   "outputs": [],
   "source": []
  }
 ],
 "metadata": {
  "ExecuteTimeLog": [
   {
    "duration": 14170,
    "start_time": "2024-05-13T08:36:15.656Z"
   },
   {
    "duration": 1963,
    "start_time": "2024-05-13T08:36:29.828Z"
   },
   {
    "duration": 606,
    "start_time": "2024-05-13T08:36:31.792Z"
   },
   {
    "duration": 545,
    "start_time": "2024-05-13T08:36:32.400Z"
   },
   {
    "duration": 562,
    "start_time": "2024-05-13T08:36:32.947Z"
   },
   {
    "duration": 15,
    "start_time": "2024-05-13T08:36:33.511Z"
   },
   {
    "duration": 8146,
    "start_time": "2024-05-13T08:42:09.550Z"
   },
   {
    "duration": 7,
    "start_time": "2024-05-13T08:42:17.699Z"
   },
   {
    "duration": 31,
    "start_time": "2024-05-13T08:42:17.708Z"
   },
   {
    "duration": 174,
    "start_time": "2024-05-13T08:42:17.741Z"
   },
   {
    "duration": 138,
    "start_time": "2024-05-13T08:42:17.917Z"
   },
   {
    "duration": 140,
    "start_time": "2024-05-13T08:42:18.057Z"
   },
   {
    "duration": 10,
    "start_time": "2024-05-13T08:42:18.199Z"
   },
   {
    "duration": 153,
    "start_time": "2024-05-13T08:42:18.210Z"
   },
   {
    "duration": 7,
    "start_time": "2024-05-13T08:43:46.296Z"
   },
   {
    "duration": 3,
    "start_time": "2024-05-13T08:44:30.162Z"
   },
   {
    "duration": 266,
    "start_time": "2024-05-13T08:44:30.166Z"
   },
   {
    "duration": 139,
    "start_time": "2024-05-13T08:44:30.434Z"
   },
   {
    "duration": 143,
    "start_time": "2024-05-13T08:44:30.574Z"
   },
   {
    "duration": 9,
    "start_time": "2024-05-13T08:44:30.719Z"
   },
   {
    "duration": 201,
    "start_time": "2024-05-13T08:44:30.729Z"
   },
   {
    "duration": 4,
    "start_time": "2024-05-13T08:44:51.176Z"
   },
   {
    "duration": 177,
    "start_time": "2024-05-13T08:44:51.182Z"
   },
   {
    "duration": 146,
    "start_time": "2024-05-13T08:44:51.361Z"
   },
   {
    "duration": 136,
    "start_time": "2024-05-13T08:44:51.508Z"
   },
   {
    "duration": 10,
    "start_time": "2024-05-13T08:44:51.646Z"
   },
   {
    "duration": 71,
    "start_time": "2024-05-13T08:44:51.657Z"
   },
   {
    "duration": 8175,
    "start_time": "2024-05-13T08:45:47.439Z"
   },
   {
    "duration": 6,
    "start_time": "2024-05-13T08:45:55.617Z"
   },
   {
    "duration": 31,
    "start_time": "2024-05-13T08:45:55.624Z"
   },
   {
    "duration": 177,
    "start_time": "2024-05-13T08:45:55.657Z"
   },
   {
    "duration": 137,
    "start_time": "2024-05-13T08:45:55.836Z"
   },
   {
    "duration": 141,
    "start_time": "2024-05-13T08:45:55.975Z"
   },
   {
    "duration": 11,
    "start_time": "2024-05-13T08:45:56.118Z"
   },
   {
    "duration": 31,
    "start_time": "2024-05-13T08:45:56.131Z"
   },
   {
    "duration": 43,
    "start_time": "2024-05-13T08:45:56.164Z"
   },
   {
    "duration": 39,
    "start_time": "2024-05-13T08:45:56.209Z"
   },
   {
    "duration": 3,
    "start_time": "2024-05-13T08:46:45.028Z"
   },
   {
    "duration": 248,
    "start_time": "2024-05-13T08:46:45.033Z"
   },
   {
    "duration": 141,
    "start_time": "2024-05-13T08:46:45.283Z"
   },
   {
    "duration": 154,
    "start_time": "2024-05-13T08:46:45.426Z"
   },
   {
    "duration": 13,
    "start_time": "2024-05-13T08:46:45.582Z"
   },
   {
    "duration": 31,
    "start_time": "2024-05-13T08:46:45.597Z"
   },
   {
    "duration": 35,
    "start_time": "2024-05-13T08:46:45.630Z"
   },
   {
    "duration": 71,
    "start_time": "2024-05-13T08:46:45.666Z"
   },
   {
    "duration": 3,
    "start_time": "2024-05-13T08:47:47.278Z"
   },
   {
    "duration": 177,
    "start_time": "2024-05-13T08:47:47.283Z"
   },
   {
    "duration": 139,
    "start_time": "2024-05-13T08:47:47.461Z"
   },
   {
    "duration": 152,
    "start_time": "2024-05-13T08:47:47.601Z"
   },
   {
    "duration": 10,
    "start_time": "2024-05-13T08:47:47.755Z"
   },
   {
    "duration": 48,
    "start_time": "2024-05-13T08:47:47.767Z"
   },
   {
    "duration": 49,
    "start_time": "2024-05-13T08:47:47.817Z"
   },
   {
    "duration": 76,
    "start_time": "2024-05-13T08:47:47.868Z"
   },
   {
    "duration": 3,
    "start_time": "2024-05-13T08:48:45.632Z"
   },
   {
    "duration": 189,
    "start_time": "2024-05-13T08:48:45.636Z"
   },
   {
    "duration": 133,
    "start_time": "2024-05-13T08:48:45.827Z"
   },
   {
    "duration": 133,
    "start_time": "2024-05-13T08:48:45.961Z"
   },
   {
    "duration": 9,
    "start_time": "2024-05-13T08:48:46.096Z"
   },
   {
    "duration": 36,
    "start_time": "2024-05-13T08:48:46.107Z"
   },
   {
    "duration": 21,
    "start_time": "2024-05-13T08:48:46.145Z"
   },
   {
    "duration": 77,
    "start_time": "2024-05-13T08:48:46.168Z"
   },
   {
    "duration": 8302,
    "start_time": "2024-05-13T08:49:09.968Z"
   },
   {
    "duration": 6,
    "start_time": "2024-05-13T08:49:18.272Z"
   },
   {
    "duration": 38,
    "start_time": "2024-05-13T08:49:18.280Z"
   },
   {
    "duration": 208,
    "start_time": "2024-05-13T08:49:18.319Z"
   },
   {
    "duration": 125,
    "start_time": "2024-05-13T08:49:18.529Z"
   },
   {
    "duration": 139,
    "start_time": "2024-05-13T08:49:18.655Z"
   },
   {
    "duration": 10,
    "start_time": "2024-05-13T08:49:18.795Z"
   },
   {
    "duration": 30,
    "start_time": "2024-05-13T08:49:18.806Z"
   },
   {
    "duration": 52,
    "start_time": "2024-05-13T08:49:18.837Z"
   },
   {
    "duration": 85,
    "start_time": "2024-05-13T08:49:18.891Z"
   },
   {
    "duration": 59,
    "start_time": "2024-05-13T08:49:18.978Z"
   },
   {
    "duration": 66,
    "start_time": "2024-05-13T08:49:19.039Z"
   },
   {
    "duration": 13679,
    "start_time": "2024-05-13T20:05:42.243Z"
   },
   {
    "duration": 2010,
    "start_time": "2024-05-13T20:05:55.924Z"
   },
   {
    "duration": 4,
    "start_time": "2024-05-13T20:05:57.936Z"
   },
   {
    "duration": 250,
    "start_time": "2024-05-13T20:05:57.942Z"
   },
   {
    "duration": 215,
    "start_time": "2024-05-13T20:05:58.194Z"
   },
   {
    "duration": 226,
    "start_time": "2024-05-13T20:05:58.410Z"
   },
   {
    "duration": 13,
    "start_time": "2024-05-13T20:05:58.638Z"
   },
   {
    "duration": 9,
    "start_time": "2024-05-13T20:05:58.653Z"
   },
   {
    "duration": 11,
    "start_time": "2024-05-13T20:05:58.663Z"
   },
   {
    "duration": 77,
    "start_time": "2024-05-13T20:05:58.681Z"
   },
   {
    "duration": 53,
    "start_time": "2024-05-13T20:05:58.760Z"
   },
   {
    "duration": 58,
    "start_time": "2024-05-13T20:05:58.815Z"
   },
   {
    "duration": 9,
    "start_time": "2024-05-13T20:05:58.875Z"
   },
   {
    "duration": 155,
    "start_time": "2024-05-13T20:05:58.886Z"
   },
   {
    "duration": 0,
    "start_time": "2024-05-13T20:05:59.043Z"
   },
   {
    "duration": 0,
    "start_time": "2024-05-13T20:05:59.044Z"
   },
   {
    "duration": 0,
    "start_time": "2024-05-13T20:05:59.045Z"
   },
   {
    "duration": 0,
    "start_time": "2024-05-13T20:05:59.046Z"
   },
   {
    "duration": 8419,
    "start_time": "2024-05-13T20:07:30.924Z"
   },
   {
    "duration": 1811,
    "start_time": "2024-05-13T20:07:39.345Z"
   },
   {
    "duration": 3,
    "start_time": "2024-05-13T20:07:41.158Z"
   },
   {
    "duration": 159,
    "start_time": "2024-05-13T20:07:41.162Z"
   },
   {
    "duration": 138,
    "start_time": "2024-05-13T20:07:41.324Z"
   },
   {
    "duration": 143,
    "start_time": "2024-05-13T20:07:41.463Z"
   },
   {
    "duration": 14,
    "start_time": "2024-05-13T20:07:41.608Z"
   },
   {
    "duration": 9,
    "start_time": "2024-05-13T20:07:41.623Z"
   },
   {
    "duration": 12,
    "start_time": "2024-05-13T20:07:41.634Z"
   },
   {
    "duration": 106,
    "start_time": "2024-05-13T20:07:41.648Z"
   },
   {
    "duration": 68,
    "start_time": "2024-05-13T20:07:41.756Z"
   },
   {
    "duration": 69,
    "start_time": "2024-05-13T20:07:41.826Z"
   },
   {
    "duration": 3,
    "start_time": "2024-05-13T20:07:41.897Z"
   },
   {
    "duration": 160,
    "start_time": "2024-05-13T20:07:41.902Z"
   },
   {
    "duration": 0,
    "start_time": "2024-05-13T20:07:42.063Z"
   },
   {
    "duration": 0,
    "start_time": "2024-05-13T20:07:42.065Z"
   },
   {
    "duration": 0,
    "start_time": "2024-05-13T20:07:42.066Z"
   },
   {
    "duration": 0,
    "start_time": "2024-05-13T20:07:42.067Z"
   },
   {
    "duration": 3,
    "start_time": "2024-05-13T20:09:58.797Z"
   },
   {
    "duration": 9,
    "start_time": "2024-05-13T20:09:58.802Z"
   },
   {
    "duration": 4,
    "start_time": "2024-05-13T20:09:58.812Z"
   },
   {
    "duration": 11,
    "start_time": "2024-05-13T20:09:58.818Z"
   },
   {
    "duration": 3,
    "start_time": "2024-05-13T20:09:59.502Z"
   },
   {
    "duration": 16,
    "start_time": "2024-05-13T20:09:59.507Z"
   },
   {
    "duration": 16,
    "start_time": "2024-05-13T20:09:59.524Z"
   },
   {
    "duration": 8306,
    "start_time": "2024-05-13T20:11:57.766Z"
   },
   {
    "duration": 7,
    "start_time": "2024-05-13T20:12:06.074Z"
   },
   {
    "duration": 17,
    "start_time": "2024-05-13T20:12:06.082Z"
   },
   {
    "duration": 159,
    "start_time": "2024-05-13T20:12:06.100Z"
   },
   {
    "duration": 140,
    "start_time": "2024-05-13T20:12:06.261Z"
   },
   {
    "duration": 136,
    "start_time": "2024-05-13T20:12:06.403Z"
   },
   {
    "duration": 10,
    "start_time": "2024-05-13T20:12:06.541Z"
   },
   {
    "duration": 12,
    "start_time": "2024-05-13T20:12:06.553Z"
   },
   {
    "duration": 23,
    "start_time": "2024-05-13T20:12:06.566Z"
   },
   {
    "duration": 83,
    "start_time": "2024-05-13T20:12:06.590Z"
   },
   {
    "duration": 54,
    "start_time": "2024-05-13T20:12:06.674Z"
   },
   {
    "duration": 78,
    "start_time": "2024-05-13T20:12:06.729Z"
   },
   {
    "duration": 4,
    "start_time": "2024-05-13T20:12:06.808Z"
   },
   {
    "duration": 3,
    "start_time": "2024-05-13T20:12:06.814Z"
   },
   {
    "duration": 4,
    "start_time": "2024-05-13T20:12:06.818Z"
   },
   {
    "duration": 3,
    "start_time": "2024-05-13T20:12:06.823Z"
   },
   {
    "duration": 3,
    "start_time": "2024-05-13T20:12:06.828Z"
   },
   {
    "duration": 15,
    "start_time": "2024-05-13T20:12:06.833Z"
   },
   {
    "duration": 32,
    "start_time": "2024-05-13T20:12:06.850Z"
   },
   {
    "duration": 4,
    "start_time": "2024-05-13T20:14:43.162Z"
   },
   {
    "duration": 34,
    "start_time": "2024-05-13T20:14:43.168Z"
   },
   {
    "duration": 8487,
    "start_time": "2024-05-13T20:14:57.884Z"
   },
   {
    "duration": 1769,
    "start_time": "2024-05-13T20:15:06.373Z"
   },
   {
    "duration": 3,
    "start_time": "2024-05-13T20:15:08.143Z"
   },
   {
    "duration": 153,
    "start_time": "2024-05-13T20:15:08.148Z"
   },
   {
    "duration": 135,
    "start_time": "2024-05-13T20:15:08.304Z"
   },
   {
    "duration": 148,
    "start_time": "2024-05-13T20:15:08.441Z"
   },
   {
    "duration": 15,
    "start_time": "2024-05-13T20:15:08.590Z"
   },
   {
    "duration": 9,
    "start_time": "2024-05-13T20:15:08.607Z"
   },
   {
    "duration": 14,
    "start_time": "2024-05-13T20:15:08.618Z"
   },
   {
    "duration": 106,
    "start_time": "2024-05-13T20:15:08.634Z"
   },
   {
    "duration": 67,
    "start_time": "2024-05-13T20:15:08.741Z"
   },
   {
    "duration": 58,
    "start_time": "2024-05-13T20:15:08.810Z"
   },
   {
    "duration": 13,
    "start_time": "2024-05-13T20:15:08.870Z"
   },
   {
    "duration": 4,
    "start_time": "2024-05-13T20:15:08.886Z"
   },
   {
    "duration": 5,
    "start_time": "2024-05-13T20:15:08.891Z"
   },
   {
    "duration": 7,
    "start_time": "2024-05-13T20:15:08.897Z"
   },
   {
    "duration": 6,
    "start_time": "2024-05-13T20:15:08.905Z"
   },
   {
    "duration": 14,
    "start_time": "2024-05-13T20:15:08.912Z"
   },
   {
    "duration": 6,
    "start_time": "2024-05-13T20:15:08.928Z"
   },
   {
    "duration": 173,
    "start_time": "2024-05-13T20:15:08.935Z"
   },
   {
    "duration": 8362,
    "start_time": "2024-05-13T20:23:53.692Z"
   },
   {
    "duration": 1956,
    "start_time": "2024-05-13T20:24:02.057Z"
   },
   {
    "duration": 3,
    "start_time": "2024-05-13T20:24:04.015Z"
   },
   {
    "duration": 184,
    "start_time": "2024-05-13T20:24:04.020Z"
   },
   {
    "duration": 145,
    "start_time": "2024-05-13T20:24:04.206Z"
   },
   {
    "duration": 143,
    "start_time": "2024-05-13T20:24:04.353Z"
   },
   {
    "duration": 14,
    "start_time": "2024-05-13T20:24:04.498Z"
   },
   {
    "duration": 9,
    "start_time": "2024-05-13T20:24:04.514Z"
   },
   {
    "duration": 11,
    "start_time": "2024-05-13T20:24:04.525Z"
   },
   {
    "duration": 87,
    "start_time": "2024-05-13T20:24:04.537Z"
   },
   {
    "duration": 66,
    "start_time": "2024-05-13T20:24:04.626Z"
   },
   {
    "duration": 62,
    "start_time": "2024-05-13T20:24:04.694Z"
   },
   {
    "duration": 3,
    "start_time": "2024-05-13T20:24:04.758Z"
   },
   {
    "duration": 3,
    "start_time": "2024-05-13T20:24:04.782Z"
   },
   {
    "duration": 4,
    "start_time": "2024-05-13T20:24:04.787Z"
   },
   {
    "duration": 4,
    "start_time": "2024-05-13T20:24:04.792Z"
   },
   {
    "duration": 5,
    "start_time": "2024-05-13T20:24:04.797Z"
   },
   {
    "duration": 15,
    "start_time": "2024-05-13T20:24:04.803Z"
   },
   {
    "duration": 3,
    "start_time": "2024-05-13T20:24:04.820Z"
   },
   {
    "duration": 225,
    "start_time": "2024-05-13T20:24:04.824Z"
   },
   {
    "duration": 0,
    "start_time": "2024-05-13T20:24:05.051Z"
   },
   {
    "duration": 4,
    "start_time": "2024-05-13T20:26:51.958Z"
   },
   {
    "duration": 9,
    "start_time": "2024-05-13T20:26:51.964Z"
   },
   {
    "duration": 3,
    "start_time": "2024-05-13T20:26:51.975Z"
   },
   {
    "duration": 4,
    "start_time": "2024-05-13T20:26:51.980Z"
   },
   {
    "duration": 4,
    "start_time": "2024-05-13T20:26:51.986Z"
   },
   {
    "duration": 19,
    "start_time": "2024-05-13T20:26:51.991Z"
   },
   {
    "duration": 17,
    "start_time": "2024-05-13T20:26:52.011Z"
   },
   {
    "duration": 69,
    "start_time": "2024-05-13T20:26:52.029Z"
   },
   {
    "duration": 0,
    "start_time": "2024-05-13T20:26:52.100Z"
   },
   {
    "duration": 15,
    "start_time": "2024-05-13T20:27:51.001Z"
   },
   {
    "duration": 3,
    "start_time": "2024-05-13T20:27:51.018Z"
   },
   {
    "duration": 63,
    "start_time": "2024-05-13T20:27:51.022Z"
   },
   {
    "duration": 0,
    "start_time": "2024-05-13T20:27:51.087Z"
   },
   {
    "duration": 17,
    "start_time": "2024-05-13T20:28:44.640Z"
   },
   {
    "duration": 18,
    "start_time": "2024-05-13T20:28:44.659Z"
   },
   {
    "duration": 55,
    "start_time": "2024-05-13T20:28:44.678Z"
   },
   {
    "duration": 148,
    "start_time": "2024-05-13T20:28:44.735Z"
   },
   {
    "duration": 17,
    "start_time": "2024-05-13T20:30:18.081Z"
   },
   {
    "duration": 4,
    "start_time": "2024-05-13T20:30:51.279Z"
   },
   {
    "duration": 106,
    "start_time": "2024-05-13T20:31:47.078Z"
   },
   {
    "duration": 0,
    "start_time": "2024-05-13T20:31:47.186Z"
   },
   {
    "duration": 8451,
    "start_time": "2024-05-13T20:32:08.860Z"
   },
   {
    "duration": 1755,
    "start_time": "2024-05-13T20:32:17.314Z"
   },
   {
    "duration": 3,
    "start_time": "2024-05-13T20:32:19.071Z"
   },
   {
    "duration": 155,
    "start_time": "2024-05-13T20:32:19.076Z"
   },
   {
    "duration": 137,
    "start_time": "2024-05-13T20:32:19.233Z"
   },
   {
    "duration": 146,
    "start_time": "2024-05-13T20:32:19.372Z"
   },
   {
    "duration": 13,
    "start_time": "2024-05-13T20:32:19.519Z"
   },
   {
    "duration": 12,
    "start_time": "2024-05-13T20:32:19.534Z"
   },
   {
    "duration": 10,
    "start_time": "2024-05-13T20:32:19.548Z"
   },
   {
    "duration": 84,
    "start_time": "2024-05-13T20:32:19.561Z"
   },
   {
    "duration": 73,
    "start_time": "2024-05-13T20:32:19.647Z"
   },
   {
    "duration": 72,
    "start_time": "2024-05-13T20:32:19.722Z"
   },
   {
    "duration": 2,
    "start_time": "2024-05-13T20:32:19.797Z"
   },
   {
    "duration": 12,
    "start_time": "2024-05-13T20:32:19.800Z"
   },
   {
    "duration": 12,
    "start_time": "2024-05-13T20:32:19.813Z"
   },
   {
    "duration": 7,
    "start_time": "2024-05-13T20:32:19.827Z"
   },
   {
    "duration": 11,
    "start_time": "2024-05-13T20:32:19.835Z"
   },
   {
    "duration": 26,
    "start_time": "2024-05-13T20:32:19.847Z"
   },
   {
    "duration": 2,
    "start_time": "2024-05-13T20:32:19.875Z"
   },
   {
    "duration": 67,
    "start_time": "2024-05-13T20:32:19.881Z"
   },
   {
    "duration": 314,
    "start_time": "2024-05-13T20:32:19.950Z"
   },
   {
    "duration": 0,
    "start_time": "2024-05-13T20:32:20.265Z"
   },
   {
    "duration": 57,
    "start_time": "2024-05-13T20:32:58.127Z"
   },
   {
    "duration": 0,
    "start_time": "2024-05-13T20:32:58.186Z"
   },
   {
    "duration": 17,
    "start_time": "2024-05-13T20:33:05.821Z"
   },
   {
    "duration": 53,
    "start_time": "2024-05-13T20:33:05.841Z"
   },
   {
    "duration": 11,
    "start_time": "2024-05-13T20:34:52.243Z"
   },
   {
    "duration": 8491,
    "start_time": "2024-05-13T20:34:59.299Z"
   },
   {
    "duration": 1885,
    "start_time": "2024-05-13T20:35:07.793Z"
   },
   {
    "duration": 3,
    "start_time": "2024-05-13T20:35:09.679Z"
   },
   {
    "duration": 8,
    "start_time": "2024-05-13T20:35:09.684Z"
   },
   {
    "duration": 160,
    "start_time": "2024-05-13T20:35:09.694Z"
   },
   {
    "duration": 142,
    "start_time": "2024-05-13T20:35:09.856Z"
   },
   {
    "duration": 140,
    "start_time": "2024-05-13T20:35:10.000Z"
   },
   {
    "duration": 13,
    "start_time": "2024-05-13T20:35:10.141Z"
   },
   {
    "duration": 10,
    "start_time": "2024-05-13T20:35:10.156Z"
   },
   {
    "duration": 18,
    "start_time": "2024-05-13T20:35:10.168Z"
   },
   {
    "duration": 61,
    "start_time": "2024-05-13T20:35:10.188Z"
   },
   {
    "duration": 73,
    "start_time": "2024-05-13T20:35:10.251Z"
   },
   {
    "duration": 76,
    "start_time": "2024-05-13T20:35:10.325Z"
   },
   {
    "duration": 3,
    "start_time": "2024-05-13T20:35:10.404Z"
   },
   {
    "duration": 5,
    "start_time": "2024-05-13T20:35:10.408Z"
   },
   {
    "duration": 6,
    "start_time": "2024-05-13T20:35:10.414Z"
   },
   {
    "duration": 8,
    "start_time": "2024-05-13T20:35:10.421Z"
   },
   {
    "duration": 4,
    "start_time": "2024-05-13T20:35:10.431Z"
   },
   {
    "duration": 29,
    "start_time": "2024-05-13T20:35:10.436Z"
   },
   {
    "duration": 15,
    "start_time": "2024-05-13T20:35:10.467Z"
   },
   {
    "duration": 54,
    "start_time": "2024-05-13T20:35:10.484Z"
   },
   {
    "duration": 44,
    "start_time": "2024-05-13T20:35:10.540Z"
   },
   {
    "duration": 6,
    "start_time": "2024-05-13T20:35:10.585Z"
   },
   {
    "duration": 840,
    "start_time": "2024-05-13T20:35:10.593Z"
   },
   {
    "duration": 13015,
    "start_time": "2024-05-14T13:18:32.370Z"
   },
   {
    "duration": 1634,
    "start_time": "2024-05-14T13:18:45.387Z"
   },
   {
    "duration": 3,
    "start_time": "2024-05-14T13:18:47.024Z"
   },
   {
    "duration": 7,
    "start_time": "2024-05-14T13:18:47.029Z"
   },
   {
    "duration": 556,
    "start_time": "2024-05-14T13:18:47.038Z"
   },
   {
    "duration": 504,
    "start_time": "2024-05-14T13:18:47.595Z"
   },
   {
    "duration": 514,
    "start_time": "2024-05-14T13:18:48.101Z"
   },
   {
    "duration": 11,
    "start_time": "2024-05-14T13:18:48.617Z"
   },
   {
    "duration": 15,
    "start_time": "2024-05-14T13:18:48.629Z"
   },
   {
    "duration": 34,
    "start_time": "2024-05-14T13:18:48.645Z"
   },
   {
    "duration": 54,
    "start_time": "2024-05-14T13:18:48.680Z"
   },
   {
    "duration": 48,
    "start_time": "2024-05-14T13:18:48.736Z"
   },
   {
    "duration": 46,
    "start_time": "2024-05-14T13:18:48.786Z"
   },
   {
    "duration": 2,
    "start_time": "2024-05-14T13:18:48.833Z"
   },
   {
    "duration": 3,
    "start_time": "2024-05-14T13:18:48.836Z"
   },
   {
    "duration": 5,
    "start_time": "2024-05-14T13:18:48.840Z"
   },
   {
    "duration": 6,
    "start_time": "2024-05-14T13:18:48.846Z"
   },
   {
    "duration": 13,
    "start_time": "2024-05-14T13:18:48.853Z"
   },
   {
    "duration": 28,
    "start_time": "2024-05-14T13:18:48.867Z"
   },
   {
    "duration": 3,
    "start_time": "2024-05-14T13:18:48.896Z"
   },
   {
    "duration": 47,
    "start_time": "2024-05-14T13:18:48.900Z"
   },
   {
    "duration": 137,
    "start_time": "2024-05-14T13:18:48.948Z"
   },
   {
    "duration": 5,
    "start_time": "2024-05-14T13:18:49.087Z"
   },
   {
    "duration": 718,
    "start_time": "2024-05-14T13:18:49.093Z"
   },
   {
    "duration": 6,
    "start_time": "2024-05-14T13:18:49.812Z"
   },
   {
    "duration": 7,
    "start_time": "2024-05-14T13:19:52.606Z"
   },
   {
    "duration": 7964,
    "start_time": "2024-05-14T13:22:01.239Z"
   },
   {
    "duration": 1524,
    "start_time": "2024-05-14T13:22:09.205Z"
   },
   {
    "duration": 2,
    "start_time": "2024-05-14T13:22:10.730Z"
   },
   {
    "duration": 24,
    "start_time": "2024-05-14T13:22:10.733Z"
   },
   {
    "duration": 128,
    "start_time": "2024-05-14T13:22:10.759Z"
   },
   {
    "duration": 99,
    "start_time": "2024-05-14T13:22:10.888Z"
   },
   {
    "duration": 105,
    "start_time": "2024-05-14T13:22:10.988Z"
   },
   {
    "duration": 13,
    "start_time": "2024-05-14T13:22:11.095Z"
   },
   {
    "duration": 7,
    "start_time": "2024-05-14T13:22:11.109Z"
   },
   {
    "duration": 8,
    "start_time": "2024-05-14T13:22:11.118Z"
   },
   {
    "duration": 62,
    "start_time": "2024-05-14T13:22:11.127Z"
   },
   {
    "duration": 41,
    "start_time": "2024-05-14T13:22:11.191Z"
   },
   {
    "duration": 56,
    "start_time": "2024-05-14T13:22:11.233Z"
   },
   {
    "duration": 2,
    "start_time": "2024-05-14T13:22:11.291Z"
   },
   {
    "duration": 6,
    "start_time": "2024-05-14T13:22:11.294Z"
   },
   {
    "duration": 5,
    "start_time": "2024-05-14T13:22:11.301Z"
   },
   {
    "duration": 11,
    "start_time": "2024-05-14T13:22:11.307Z"
   },
   {
    "duration": 6,
    "start_time": "2024-05-14T13:22:11.319Z"
   },
   {
    "duration": 22,
    "start_time": "2024-05-14T13:22:11.326Z"
   },
   {
    "duration": 3,
    "start_time": "2024-05-14T13:22:11.349Z"
   },
   {
    "duration": 72,
    "start_time": "2024-05-14T13:22:11.353Z"
   },
   {
    "duration": 134,
    "start_time": "2024-05-14T13:22:11.427Z"
   },
   {
    "duration": 0,
    "start_time": "2024-05-14T13:22:11.563Z"
   },
   {
    "duration": 0,
    "start_time": "2024-05-14T13:22:11.563Z"
   },
   {
    "duration": 0,
    "start_time": "2024-05-14T13:22:11.564Z"
   },
   {
    "duration": 0,
    "start_time": "2024-05-14T13:22:11.565Z"
   },
   {
    "duration": 8138,
    "start_time": "2024-05-14T13:24:19.060Z"
   },
   {
    "duration": 1547,
    "start_time": "2024-05-14T13:24:27.200Z"
   },
   {
    "duration": 2,
    "start_time": "2024-05-14T13:24:28.749Z"
   },
   {
    "duration": 6,
    "start_time": "2024-05-14T13:24:28.753Z"
   },
   {
    "duration": 138,
    "start_time": "2024-05-14T13:24:28.760Z"
   },
   {
    "duration": 107,
    "start_time": "2024-05-14T13:24:28.899Z"
   },
   {
    "duration": 110,
    "start_time": "2024-05-14T13:24:29.008Z"
   },
   {
    "duration": 12,
    "start_time": "2024-05-14T13:24:29.119Z"
   },
   {
    "duration": 17,
    "start_time": "2024-05-14T13:24:29.132Z"
   },
   {
    "duration": 25,
    "start_time": "2024-05-14T13:24:29.152Z"
   },
   {
    "duration": 68,
    "start_time": "2024-05-14T13:24:29.178Z"
   },
   {
    "duration": 49,
    "start_time": "2024-05-14T13:24:29.247Z"
   },
   {
    "duration": 52,
    "start_time": "2024-05-14T13:24:29.297Z"
   },
   {
    "duration": 3,
    "start_time": "2024-05-14T13:24:29.350Z"
   },
   {
    "duration": 30,
    "start_time": "2024-05-14T13:24:29.354Z"
   },
   {
    "duration": 5,
    "start_time": "2024-05-14T13:24:29.385Z"
   },
   {
    "duration": 5,
    "start_time": "2024-05-14T13:24:29.391Z"
   },
   {
    "duration": 8,
    "start_time": "2024-05-14T13:24:29.397Z"
   },
   {
    "duration": 51,
    "start_time": "2024-05-14T13:24:29.406Z"
   },
   {
    "duration": 2,
    "start_time": "2024-05-14T13:24:29.459Z"
   },
   {
    "duration": 58,
    "start_time": "2024-05-14T13:24:29.462Z"
   },
   {
    "duration": 63,
    "start_time": "2024-05-14T13:24:29.522Z"
   },
   {
    "duration": 11,
    "start_time": "2024-05-14T13:24:29.586Z"
   },
   {
    "duration": 773,
    "start_time": "2024-05-14T13:24:29.685Z"
   },
   {
    "duration": 7,
    "start_time": "2024-05-14T13:24:30.460Z"
   },
   {
    "duration": 93,
    "start_time": "2024-05-14T13:24:30.468Z"
   },
   {
    "duration": 5,
    "start_time": "2024-05-14T13:26:12.395Z"
   },
   {
    "duration": 15,
    "start_time": "2024-05-14T13:26:12.401Z"
   },
   {
    "duration": 130,
    "start_time": "2024-05-14T13:26:43.171Z"
   },
   {
    "duration": 0,
    "start_time": "2024-05-14T13:26:43.302Z"
   },
   {
    "duration": 5,
    "start_time": "2024-05-14T13:27:03.099Z"
   },
   {
    "duration": 17,
    "start_time": "2024-05-14T13:27:03.105Z"
   },
   {
    "duration": 696,
    "start_time": "2024-05-14T13:28:54.260Z"
   },
   {
    "duration": 7,
    "start_time": "2024-05-14T13:28:54.957Z"
   },
   {
    "duration": 10,
    "start_time": "2024-05-14T13:28:54.966Z"
   },
   {
    "duration": 8069,
    "start_time": "2024-05-14T13:43:16.314Z"
   },
   {
    "duration": 1496,
    "start_time": "2024-05-14T13:43:24.385Z"
   },
   {
    "duration": 2,
    "start_time": "2024-05-14T13:43:25.882Z"
   },
   {
    "duration": 6,
    "start_time": "2024-05-14T13:43:25.885Z"
   },
   {
    "duration": 123,
    "start_time": "2024-05-14T13:43:25.892Z"
   },
   {
    "duration": 105,
    "start_time": "2024-05-14T13:43:26.017Z"
   },
   {
    "duration": 107,
    "start_time": "2024-05-14T13:43:26.123Z"
   },
   {
    "duration": 11,
    "start_time": "2024-05-14T13:43:26.231Z"
   },
   {
    "duration": 22,
    "start_time": "2024-05-14T13:43:26.243Z"
   },
   {
    "duration": 26,
    "start_time": "2024-05-14T13:43:26.266Z"
   },
   {
    "duration": 71,
    "start_time": "2024-05-14T13:43:26.293Z"
   },
   {
    "duration": 44,
    "start_time": "2024-05-14T13:43:26.365Z"
   },
   {
    "duration": 47,
    "start_time": "2024-05-14T13:43:26.410Z"
   },
   {
    "duration": 2,
    "start_time": "2024-05-14T13:43:26.459Z"
   },
   {
    "duration": 23,
    "start_time": "2024-05-14T13:43:26.463Z"
   },
   {
    "duration": 28,
    "start_time": "2024-05-14T13:43:26.487Z"
   },
   {
    "duration": 7,
    "start_time": "2024-05-14T13:43:26.516Z"
   },
   {
    "duration": 20,
    "start_time": "2024-05-14T13:43:26.525Z"
   },
   {
    "duration": 78,
    "start_time": "2024-05-14T13:43:26.546Z"
   },
   {
    "duration": 2,
    "start_time": "2024-05-14T13:43:26.625Z"
   },
   {
    "duration": 73,
    "start_time": "2024-05-14T13:43:26.628Z"
   },
   {
    "duration": 81,
    "start_time": "2024-05-14T13:43:26.703Z"
   },
   {
    "duration": 7,
    "start_time": "2024-05-14T13:43:26.786Z"
   },
   {
    "duration": 675,
    "start_time": "2024-05-14T13:43:26.884Z"
   },
   {
    "duration": 12,
    "start_time": "2024-05-14T13:43:27.561Z"
   },
   {
    "duration": 15,
    "start_time": "2024-05-14T13:43:27.584Z"
   },
   {
    "duration": 11,
    "start_time": "2024-05-14T13:46:46.301Z"
   },
   {
    "duration": 7,
    "start_time": "2024-05-14T13:46:46.313Z"
   },
   {
    "duration": 7870,
    "start_time": "2024-05-14T13:50:12.102Z"
   },
   {
    "duration": 1599,
    "start_time": "2024-05-14T13:50:19.974Z"
   },
   {
    "duration": 3,
    "start_time": "2024-05-14T13:50:21.577Z"
   },
   {
    "duration": 9,
    "start_time": "2024-05-14T13:50:21.582Z"
   },
   {
    "duration": 156,
    "start_time": "2024-05-14T13:50:21.593Z"
   },
   {
    "duration": 104,
    "start_time": "2024-05-14T13:50:21.751Z"
   },
   {
    "duration": 109,
    "start_time": "2024-05-14T13:50:21.857Z"
   },
   {
    "duration": 18,
    "start_time": "2024-05-14T13:50:21.967Z"
   },
   {
    "duration": 32,
    "start_time": "2024-05-14T13:50:21.986Z"
   },
   {
    "duration": 13,
    "start_time": "2024-05-14T13:50:22.020Z"
   },
   {
    "duration": 52,
    "start_time": "2024-05-14T13:50:22.035Z"
   },
   {
    "duration": 52,
    "start_time": "2024-05-14T13:50:22.089Z"
   },
   {
    "duration": 71,
    "start_time": "2024-05-14T13:50:22.143Z"
   },
   {
    "duration": 4,
    "start_time": "2024-05-14T13:50:22.215Z"
   },
   {
    "duration": 6,
    "start_time": "2024-05-14T13:50:22.220Z"
   },
   {
    "duration": 6,
    "start_time": "2024-05-14T13:50:22.227Z"
   },
   {
    "duration": 5,
    "start_time": "2024-05-14T13:50:22.235Z"
   },
   {
    "duration": 5,
    "start_time": "2024-05-14T13:50:22.242Z"
   },
   {
    "duration": 58,
    "start_time": "2024-05-14T13:50:22.249Z"
   },
   {
    "duration": 2,
    "start_time": "2024-05-14T13:50:22.308Z"
   },
   {
    "duration": 48,
    "start_time": "2024-05-14T13:50:22.312Z"
   },
   {
    "duration": 27,
    "start_time": "2024-05-14T13:50:22.361Z"
   },
   {
    "duration": 95,
    "start_time": "2024-05-14T13:50:22.389Z"
   },
   {
    "duration": 766,
    "start_time": "2024-05-14T13:50:22.488Z"
   },
   {
    "duration": 34,
    "start_time": "2024-05-14T13:50:23.256Z"
   },
   {
    "duration": 8,
    "start_time": "2024-05-14T13:50:23.291Z"
   },
   {
    "duration": 15246,
    "start_time": "2024-05-15T08:18:18.131Z"
   },
   {
    "duration": 2033,
    "start_time": "2024-05-15T08:18:33.380Z"
   },
   {
    "duration": 3,
    "start_time": "2024-05-15T08:18:35.415Z"
   },
   {
    "duration": 54,
    "start_time": "2024-05-15T08:18:35.419Z"
   },
   {
    "duration": 649,
    "start_time": "2024-05-15T08:18:35.475Z"
   },
   {
    "duration": 548,
    "start_time": "2024-05-15T08:18:36.126Z"
   },
   {
    "duration": 560,
    "start_time": "2024-05-15T08:18:36.675Z"
   },
   {
    "duration": 13,
    "start_time": "2024-05-15T08:18:37.237Z"
   },
   {
    "duration": 19,
    "start_time": "2024-05-15T08:18:37.252Z"
   },
   {
    "duration": 37,
    "start_time": "2024-05-15T08:18:37.273Z"
   },
   {
    "duration": 97,
    "start_time": "2024-05-15T08:18:37.311Z"
   },
   {
    "duration": 56,
    "start_time": "2024-05-15T08:18:37.410Z"
   },
   {
    "duration": 62,
    "start_time": "2024-05-15T08:18:37.472Z"
   },
   {
    "duration": 6,
    "start_time": "2024-05-15T08:18:37.537Z"
   },
   {
    "duration": 14,
    "start_time": "2024-05-15T08:18:37.545Z"
   },
   {
    "duration": 23,
    "start_time": "2024-05-15T08:18:37.560Z"
   },
   {
    "duration": 12,
    "start_time": "2024-05-15T08:18:37.585Z"
   },
   {
    "duration": 23,
    "start_time": "2024-05-15T08:18:37.598Z"
   },
   {
    "duration": 12,
    "start_time": "2024-05-15T08:18:37.623Z"
   },
   {
    "duration": 90,
    "start_time": "2024-05-15T08:18:37.636Z"
   },
   {
    "duration": 2,
    "start_time": "2024-05-15T08:18:37.728Z"
   },
   {
    "duration": 70,
    "start_time": "2024-05-15T08:18:37.731Z"
   },
   {
    "duration": 178,
    "start_time": "2024-05-15T08:18:37.803Z"
   },
   {
    "duration": 89,
    "start_time": "2024-05-15T08:18:37.984Z"
   },
   {
    "duration": 16,
    "start_time": "2024-05-15T08:18:38.075Z"
   },
   {
    "duration": 53,
    "start_time": "2024-05-15T08:18:38.094Z"
   },
   {
    "duration": 11,
    "start_time": "2024-05-15T08:18:38.149Z"
   },
   {
    "duration": 178,
    "start_time": "2024-05-15T08:18:38.161Z"
   },
   {
    "duration": 8836,
    "start_time": "2024-05-15T08:20:02.937Z"
   },
   {
    "duration": 7,
    "start_time": "2024-05-15T08:20:11.776Z"
   },
   {
    "duration": 21,
    "start_time": "2024-05-15T08:20:11.785Z"
   },
   {
    "duration": 41,
    "start_time": "2024-05-15T08:20:11.808Z"
   },
   {
    "duration": 216,
    "start_time": "2024-05-15T08:20:11.851Z"
   },
   {
    "duration": 150,
    "start_time": "2024-05-15T08:20:12.069Z"
   },
   {
    "duration": 144,
    "start_time": "2024-05-15T08:20:12.221Z"
   },
   {
    "duration": 14,
    "start_time": "2024-05-15T08:20:12.366Z"
   },
   {
    "duration": 40,
    "start_time": "2024-05-15T08:20:12.382Z"
   },
   {
    "duration": 26,
    "start_time": "2024-05-15T08:20:12.424Z"
   },
   {
    "duration": 66,
    "start_time": "2024-05-15T08:20:12.453Z"
   },
   {
    "duration": 59,
    "start_time": "2024-05-15T08:20:12.520Z"
   },
   {
    "duration": 75,
    "start_time": "2024-05-15T08:20:12.580Z"
   },
   {
    "duration": 19,
    "start_time": "2024-05-15T08:20:12.658Z"
   },
   {
    "duration": 15,
    "start_time": "2024-05-15T08:20:12.679Z"
   },
   {
    "duration": 24,
    "start_time": "2024-05-15T08:20:12.696Z"
   },
   {
    "duration": 30,
    "start_time": "2024-05-15T08:20:12.722Z"
   },
   {
    "duration": 19,
    "start_time": "2024-05-15T08:20:12.754Z"
   },
   {
    "duration": 42,
    "start_time": "2024-05-15T08:20:12.775Z"
   },
   {
    "duration": 32,
    "start_time": "2024-05-15T08:20:12.820Z"
   },
   {
    "duration": 7,
    "start_time": "2024-05-15T08:20:12.854Z"
   },
   {
    "duration": 46,
    "start_time": "2024-05-15T08:20:12.863Z"
   },
   {
    "duration": 0,
    "start_time": "2024-05-15T08:20:12.911Z"
   },
   {
    "duration": 0,
    "start_time": "2024-05-15T08:20:12.912Z"
   },
   {
    "duration": 0,
    "start_time": "2024-05-15T08:20:12.913Z"
   },
   {
    "duration": 0,
    "start_time": "2024-05-15T08:20:12.914Z"
   },
   {
    "duration": 0,
    "start_time": "2024-05-15T08:20:12.915Z"
   },
   {
    "duration": 0,
    "start_time": "2024-05-15T08:20:12.916Z"
   },
   {
    "duration": 5,
    "start_time": "2024-05-15T08:20:27.178Z"
   },
   {
    "duration": 15,
    "start_time": "2024-05-15T08:20:27.185Z"
   },
   {
    "duration": 12,
    "start_time": "2024-05-15T08:20:27.201Z"
   },
   {
    "duration": 8,
    "start_time": "2024-05-15T08:20:27.215Z"
   },
   {
    "duration": 19,
    "start_time": "2024-05-15T08:20:27.225Z"
   },
   {
    "duration": 18,
    "start_time": "2024-05-15T08:20:27.246Z"
   },
   {
    "duration": 28,
    "start_time": "2024-05-15T08:20:27.265Z"
   },
   {
    "duration": 21,
    "start_time": "2024-05-15T08:20:27.295Z"
   },
   {
    "duration": 8,
    "start_time": "2024-05-15T08:20:27.317Z"
   },
   {
    "duration": 18,
    "start_time": "2024-05-15T08:20:27.326Z"
   },
   {
    "duration": 13,
    "start_time": "2024-05-15T08:20:27.345Z"
   },
   {
    "duration": 10,
    "start_time": "2024-05-15T08:20:27.359Z"
   },
   {
    "duration": 7,
    "start_time": "2024-05-15T08:20:27.370Z"
   },
   {
    "duration": 8,
    "start_time": "2024-05-15T08:20:27.379Z"
   },
   {
    "duration": 148,
    "start_time": "2024-05-15T08:20:27.389Z"
   },
   {
    "duration": 6,
    "start_time": "2024-05-15T08:21:37.769Z"
   },
   {
    "duration": 30,
    "start_time": "2024-05-15T08:21:37.778Z"
   },
   {
    "duration": 32,
    "start_time": "2024-05-15T08:21:37.810Z"
   },
   {
    "duration": 43,
    "start_time": "2024-05-15T08:21:37.844Z"
   },
   {
    "duration": 43,
    "start_time": "2024-05-15T08:21:37.890Z"
   },
   {
    "duration": 31,
    "start_time": "2024-05-15T08:21:37.935Z"
   },
   {
    "duration": 23,
    "start_time": "2024-05-15T08:21:37.968Z"
   },
   {
    "duration": 50,
    "start_time": "2024-05-15T08:21:37.993Z"
   },
   {
    "duration": 16,
    "start_time": "2024-05-15T08:21:38.045Z"
   },
   {
    "duration": 30,
    "start_time": "2024-05-15T08:21:38.063Z"
   },
   {
    "duration": 21,
    "start_time": "2024-05-15T08:21:38.095Z"
   },
   {
    "duration": 29,
    "start_time": "2024-05-15T08:21:38.118Z"
   },
   {
    "duration": 47,
    "start_time": "2024-05-15T08:21:38.148Z"
   },
   {
    "duration": 42,
    "start_time": "2024-05-15T08:21:38.198Z"
   },
   {
    "duration": 467,
    "start_time": "2024-05-15T08:21:38.242Z"
   },
   {
    "duration": 8469,
    "start_time": "2024-05-15T08:21:50.816Z"
   },
   {
    "duration": 1868,
    "start_time": "2024-05-15T08:21:59.287Z"
   },
   {
    "duration": 3,
    "start_time": "2024-05-15T08:22:01.157Z"
   },
   {
    "duration": 123,
    "start_time": "2024-05-15T08:22:01.161Z"
   },
   {
    "duration": 494,
    "start_time": "2024-05-15T08:22:01.286Z"
   },
   {
    "duration": 139,
    "start_time": "2024-05-15T08:22:01.781Z"
   },
   {
    "duration": 145,
    "start_time": "2024-05-15T08:22:01.921Z"
   },
   {
    "duration": 15,
    "start_time": "2024-05-15T08:22:02.068Z"
   },
   {
    "duration": 25,
    "start_time": "2024-05-15T08:22:02.085Z"
   },
   {
    "duration": 74,
    "start_time": "2024-05-15T08:22:02.112Z"
   },
   {
    "duration": 94,
    "start_time": "2024-05-15T08:22:02.188Z"
   },
   {
    "duration": 58,
    "start_time": "2024-05-15T08:22:02.284Z"
   },
   {
    "duration": 70,
    "start_time": "2024-05-15T08:22:02.344Z"
   },
   {
    "duration": 6,
    "start_time": "2024-05-15T08:22:02.417Z"
   },
   {
    "duration": 20,
    "start_time": "2024-05-15T08:22:02.424Z"
   },
   {
    "duration": 23,
    "start_time": "2024-05-15T08:22:02.446Z"
   },
   {
    "duration": 36,
    "start_time": "2024-05-15T08:22:02.471Z"
   },
   {
    "duration": 86,
    "start_time": "2024-05-15T08:22:02.509Z"
   },
   {
    "duration": 52,
    "start_time": "2024-05-15T08:22:02.596Z"
   },
   {
    "duration": 26,
    "start_time": "2024-05-15T08:22:02.649Z"
   },
   {
    "duration": 55,
    "start_time": "2024-05-15T08:22:02.676Z"
   },
   {
    "duration": 28,
    "start_time": "2024-05-15T08:22:02.732Z"
   },
   {
    "duration": 16,
    "start_time": "2024-05-15T08:22:02.762Z"
   },
   {
    "duration": 36,
    "start_time": "2024-05-15T08:22:02.779Z"
   },
   {
    "duration": 38,
    "start_time": "2024-05-15T08:22:02.817Z"
   },
   {
    "duration": 38,
    "start_time": "2024-05-15T08:22:02.857Z"
   },
   {
    "duration": 92,
    "start_time": "2024-05-15T08:22:02.897Z"
   },
   {
    "duration": 570,
    "start_time": "2024-05-15T08:22:02.991Z"
   },
   {
    "duration": 6,
    "start_time": "2024-05-15T08:22:49.339Z"
   },
   {
    "duration": 43,
    "start_time": "2024-05-15T08:22:49.347Z"
   },
   {
    "duration": 14,
    "start_time": "2024-05-15T08:22:49.392Z"
   },
   {
    "duration": 9,
    "start_time": "2024-05-15T08:22:49.407Z"
   },
   {
    "duration": 16,
    "start_time": "2024-05-15T08:22:49.419Z"
   },
   {
    "duration": 10,
    "start_time": "2024-05-15T08:22:49.436Z"
   },
   {
    "duration": 10,
    "start_time": "2024-05-15T08:22:49.447Z"
   },
   {
    "duration": 17,
    "start_time": "2024-05-15T08:22:49.458Z"
   },
   {
    "duration": 22,
    "start_time": "2024-05-15T08:22:49.477Z"
   },
   {
    "duration": 18,
    "start_time": "2024-05-15T08:22:49.501Z"
   },
   {
    "duration": 40,
    "start_time": "2024-05-15T08:22:49.520Z"
   },
   {
    "duration": 6,
    "start_time": "2024-05-15T08:22:49.562Z"
   },
   {
    "duration": 9,
    "start_time": "2024-05-15T08:22:49.569Z"
   },
   {
    "duration": 2,
    "start_time": "2024-05-15T08:22:49.581Z"
   },
   {
    "duration": 321,
    "start_time": "2024-05-15T08:22:49.585Z"
   },
   {
    "duration": 8435,
    "start_time": "2024-05-15T08:23:11.788Z"
   },
   {
    "duration": 2023,
    "start_time": "2024-05-15T08:23:20.226Z"
   },
   {
    "duration": 4,
    "start_time": "2024-05-15T08:23:22.250Z"
   },
   {
    "duration": 13,
    "start_time": "2024-05-15T08:23:22.255Z"
   },
   {
    "duration": 178,
    "start_time": "2024-05-15T08:23:22.271Z"
   },
   {
    "duration": 157,
    "start_time": "2024-05-15T08:23:22.450Z"
   },
   {
    "duration": 150,
    "start_time": "2024-05-15T08:23:22.609Z"
   },
   {
    "duration": 14,
    "start_time": "2024-05-15T08:23:22.761Z"
   },
   {
    "duration": 12,
    "start_time": "2024-05-15T08:23:22.777Z"
   },
   {
    "duration": 27,
    "start_time": "2024-05-15T08:23:22.790Z"
   },
   {
    "duration": 73,
    "start_time": "2024-05-15T08:23:22.818Z"
   },
   {
    "duration": 59,
    "start_time": "2024-05-15T08:23:22.893Z"
   },
   {
    "duration": 78,
    "start_time": "2024-05-15T08:23:22.954Z"
   },
   {
    "duration": 5,
    "start_time": "2024-05-15T08:23:23.035Z"
   },
   {
    "duration": 7,
    "start_time": "2024-05-15T08:23:23.042Z"
   },
   {
    "duration": 18,
    "start_time": "2024-05-15T08:23:23.051Z"
   },
   {
    "duration": 10,
    "start_time": "2024-05-15T08:23:23.072Z"
   },
   {
    "duration": 6,
    "start_time": "2024-05-15T08:23:23.084Z"
   },
   {
    "duration": 6,
    "start_time": "2024-05-15T08:23:23.091Z"
   },
   {
    "duration": 13,
    "start_time": "2024-05-15T08:23:23.098Z"
   },
   {
    "duration": 18,
    "start_time": "2024-05-15T08:23:23.112Z"
   },
   {
    "duration": 23,
    "start_time": "2024-05-15T08:23:23.131Z"
   },
   {
    "duration": 16,
    "start_time": "2024-05-15T08:23:23.155Z"
   },
   {
    "duration": 4,
    "start_time": "2024-05-15T08:23:23.172Z"
   },
   {
    "duration": 4,
    "start_time": "2024-05-15T08:23:23.178Z"
   },
   {
    "duration": 6,
    "start_time": "2024-05-15T08:23:23.184Z"
   },
   {
    "duration": 12,
    "start_time": "2024-05-15T08:23:23.192Z"
   },
   {
    "duration": 302,
    "start_time": "2024-05-15T08:23:23.205Z"
   },
   {
    "duration": 277,
    "start_time": "2024-05-15T08:25:13.633Z"
   },
   {
    "duration": 294,
    "start_time": "2024-05-15T08:25:13.912Z"
   },
   {
    "duration": 301,
    "start_time": "2024-05-15T08:25:14.208Z"
   },
   {
    "duration": 308,
    "start_time": "2024-05-15T08:32:14.797Z"
   },
   {
    "duration": 595,
    "start_time": "2024-05-15T08:32:15.107Z"
   },
   {
    "duration": 655,
    "start_time": "2024-05-15T08:32:15.703Z"
   },
   {
    "duration": 344,
    "start_time": "2024-05-15T08:32:16.360Z"
   },
   {
    "duration": 305,
    "start_time": "2024-05-15T08:32:16.706Z"
   },
   {
    "duration": 8766,
    "start_time": "2024-05-15T08:35:52.657Z"
   },
   {
    "duration": 1820,
    "start_time": "2024-05-15T08:36:01.425Z"
   },
   {
    "duration": 3,
    "start_time": "2024-05-15T08:36:03.247Z"
   },
   {
    "duration": 20,
    "start_time": "2024-05-15T08:36:03.252Z"
   },
   {
    "duration": 167,
    "start_time": "2024-05-15T08:36:03.274Z"
   },
   {
    "duration": 150,
    "start_time": "2024-05-15T08:36:03.443Z"
   },
   {
    "duration": 143,
    "start_time": "2024-05-15T08:36:03.594Z"
   },
   {
    "duration": 14,
    "start_time": "2024-05-15T08:36:03.739Z"
   },
   {
    "duration": 22,
    "start_time": "2024-05-15T08:36:03.754Z"
   },
   {
    "duration": 18,
    "start_time": "2024-05-15T08:36:03.778Z"
   },
   {
    "duration": 100,
    "start_time": "2024-05-15T08:36:03.798Z"
   },
   {
    "duration": 61,
    "start_time": "2024-05-15T08:36:03.901Z"
   },
   {
    "duration": 71,
    "start_time": "2024-05-15T08:36:03.973Z"
   },
   {
    "duration": 5,
    "start_time": "2024-05-15T08:36:04.047Z"
   },
   {
    "duration": 34,
    "start_time": "2024-05-15T08:36:04.054Z"
   },
   {
    "duration": 66,
    "start_time": "2024-05-15T08:36:04.090Z"
   },
   {
    "duration": 17,
    "start_time": "2024-05-15T08:36:04.158Z"
   },
   {
    "duration": 12,
    "start_time": "2024-05-15T08:36:04.177Z"
   },
   {
    "duration": 21,
    "start_time": "2024-05-15T08:36:04.191Z"
   },
   {
    "duration": 23,
    "start_time": "2024-05-15T08:36:04.214Z"
   },
   {
    "duration": 28,
    "start_time": "2024-05-15T08:36:04.239Z"
   },
   {
    "duration": 339,
    "start_time": "2024-05-15T08:36:04.269Z"
   },
   {
    "duration": 598,
    "start_time": "2024-05-15T08:36:04.610Z"
   },
   {
    "duration": 573,
    "start_time": "2024-05-15T08:36:05.210Z"
   },
   {
    "duration": 62,
    "start_time": "2024-05-15T08:36:05.785Z"
   },
   {
    "duration": 0,
    "start_time": "2024-05-15T08:36:05.849Z"
   },
   {
    "duration": 0,
    "start_time": "2024-05-15T08:36:05.850Z"
   },
   {
    "duration": 8466,
    "start_time": "2024-05-15T08:37:40.369Z"
   },
   {
    "duration": 1856,
    "start_time": "2024-05-15T08:37:48.838Z"
   },
   {
    "duration": 2,
    "start_time": "2024-05-15T08:37:50.696Z"
   },
   {
    "duration": 16,
    "start_time": "2024-05-15T08:37:50.700Z"
   },
   {
    "duration": 167,
    "start_time": "2024-05-15T08:37:50.719Z"
   },
   {
    "duration": 142,
    "start_time": "2024-05-15T08:37:50.887Z"
   },
   {
    "duration": 151,
    "start_time": "2024-05-15T08:37:51.031Z"
   },
   {
    "duration": 13,
    "start_time": "2024-05-15T08:37:51.184Z"
   },
   {
    "duration": 12,
    "start_time": "2024-05-15T08:37:51.199Z"
   },
   {
    "duration": 18,
    "start_time": "2024-05-15T08:37:51.213Z"
   },
   {
    "duration": 80,
    "start_time": "2024-05-15T08:37:51.233Z"
   },
   {
    "duration": 63,
    "start_time": "2024-05-15T08:37:51.314Z"
   },
   {
    "duration": 59,
    "start_time": "2024-05-15T08:37:51.379Z"
   },
   {
    "duration": 5,
    "start_time": "2024-05-15T08:37:51.442Z"
   },
   {
    "duration": 24,
    "start_time": "2024-05-15T08:37:51.449Z"
   },
   {
    "duration": 24,
    "start_time": "2024-05-15T08:37:51.475Z"
   },
   {
    "duration": 42,
    "start_time": "2024-05-15T08:37:51.501Z"
   },
   {
    "duration": 42,
    "start_time": "2024-05-15T08:37:51.545Z"
   },
   {
    "duration": 6,
    "start_time": "2024-05-15T08:37:51.589Z"
   },
   {
    "duration": 6,
    "start_time": "2024-05-15T08:37:51.597Z"
   },
   {
    "duration": 11,
    "start_time": "2024-05-15T08:37:51.604Z"
   },
   {
    "duration": 292,
    "start_time": "2024-05-15T08:37:51.616Z"
   },
   {
    "duration": 599,
    "start_time": "2024-05-15T08:37:51.910Z"
   },
   {
    "duration": 592,
    "start_time": "2024-05-15T08:37:52.511Z"
   },
   {
    "duration": 60,
    "start_time": "2024-05-15T08:37:53.105Z"
   },
   {
    "duration": 0,
    "start_time": "2024-05-15T08:37:53.166Z"
   },
   {
    "duration": 0,
    "start_time": "2024-05-15T08:37:53.167Z"
   },
   {
    "duration": 69,
    "start_time": "2024-05-15T08:39:18.269Z"
   },
   {
    "duration": 0,
    "start_time": "2024-05-15T08:39:18.339Z"
   },
   {
    "duration": 0,
    "start_time": "2024-05-15T08:39:18.340Z"
   },
   {
    "duration": 5,
    "start_time": "2024-05-15T08:39:37.368Z"
   },
   {
    "duration": 335,
    "start_time": "2024-05-15T08:39:37.375Z"
   },
   {
    "duration": 294,
    "start_time": "2024-05-15T08:39:37.712Z"
   },
   {
    "duration": 664,
    "start_time": "2024-05-15T08:40:48.481Z"
   },
   {
    "duration": 344,
    "start_time": "2024-05-15T08:40:49.147Z"
   },
   {
    "duration": 314,
    "start_time": "2024-05-15T08:40:49.492Z"
   },
   {
    "duration": 9515,
    "start_time": "2024-05-15T08:42:00.768Z"
   },
   {
    "duration": 1820,
    "start_time": "2024-05-15T08:42:10.285Z"
   },
   {
    "duration": 3,
    "start_time": "2024-05-15T08:42:12.110Z"
   },
   {
    "duration": 21,
    "start_time": "2024-05-15T08:42:12.116Z"
   },
   {
    "duration": 176,
    "start_time": "2024-05-15T08:42:12.139Z"
   },
   {
    "duration": 140,
    "start_time": "2024-05-15T08:42:12.316Z"
   },
   {
    "duration": 149,
    "start_time": "2024-05-15T08:42:12.458Z"
   },
   {
    "duration": 14,
    "start_time": "2024-05-15T08:42:12.608Z"
   },
   {
    "duration": 35,
    "start_time": "2024-05-15T08:42:12.623Z"
   },
   {
    "duration": 18,
    "start_time": "2024-05-15T08:42:12.660Z"
   },
   {
    "duration": 83,
    "start_time": "2024-05-15T08:42:12.679Z"
   },
   {
    "duration": 70,
    "start_time": "2024-05-15T08:42:12.764Z"
   },
   {
    "duration": 69,
    "start_time": "2024-05-15T08:42:12.837Z"
   },
   {
    "duration": 6,
    "start_time": "2024-05-15T08:42:12.908Z"
   },
   {
    "duration": 14,
    "start_time": "2024-05-15T08:42:12.915Z"
   },
   {
    "duration": 30,
    "start_time": "2024-05-15T08:42:12.931Z"
   },
   {
    "duration": 5,
    "start_time": "2024-05-15T08:42:12.963Z"
   },
   {
    "duration": 6,
    "start_time": "2024-05-15T08:42:12.969Z"
   },
   {
    "duration": 7,
    "start_time": "2024-05-15T08:42:12.977Z"
   },
   {
    "duration": 5,
    "start_time": "2024-05-15T08:42:12.985Z"
   },
   {
    "duration": 19,
    "start_time": "2024-05-15T08:42:12.992Z"
   },
   {
    "duration": 296,
    "start_time": "2024-05-15T08:42:13.013Z"
   },
   {
    "duration": 590,
    "start_time": "2024-05-15T08:42:13.311Z"
   },
   {
    "duration": 617,
    "start_time": "2024-05-15T08:42:13.903Z"
   },
   {
    "duration": 285,
    "start_time": "2024-05-15T08:42:14.521Z"
   },
   {
    "duration": 583,
    "start_time": "2024-05-15T08:42:14.808Z"
   },
   {
    "duration": 311,
    "start_time": "2024-05-15T08:42:15.393Z"
   },
   {
    "duration": 704,
    "start_time": "2024-05-15T08:42:15.705Z"
   },
   {
    "duration": 586,
    "start_time": "2024-05-15T08:43:39.619Z"
   },
   {
    "duration": 611,
    "start_time": "2024-05-15T08:43:40.206Z"
   },
   {
    "duration": 290,
    "start_time": "2024-05-15T08:43:40.819Z"
   },
   {
    "duration": 572,
    "start_time": "2024-05-15T08:43:41.112Z"
   },
   {
    "duration": 636,
    "start_time": "2024-05-15T08:43:41.687Z"
   },
   {
    "duration": 8582,
    "start_time": "2024-05-15T08:48:08.551Z"
   },
   {
    "duration": 1847,
    "start_time": "2024-05-15T08:48:17.136Z"
   },
   {
    "duration": 3,
    "start_time": "2024-05-15T08:48:18.985Z"
   },
   {
    "duration": 32,
    "start_time": "2024-05-15T08:48:18.989Z"
   },
   {
    "duration": 189,
    "start_time": "2024-05-15T08:48:19.024Z"
   },
   {
    "duration": 149,
    "start_time": "2024-05-15T08:48:19.214Z"
   },
   {
    "duration": 156,
    "start_time": "2024-05-15T08:48:19.365Z"
   },
   {
    "duration": 14,
    "start_time": "2024-05-15T08:48:19.523Z"
   },
   {
    "duration": 10,
    "start_time": "2024-05-15T08:48:19.538Z"
   },
   {
    "duration": 37,
    "start_time": "2024-05-15T08:48:19.550Z"
   },
   {
    "duration": 71,
    "start_time": "2024-05-15T08:48:19.589Z"
   },
   {
    "duration": 57,
    "start_time": "2024-05-15T08:48:19.662Z"
   },
   {
    "duration": 69,
    "start_time": "2024-05-15T08:48:19.721Z"
   },
   {
    "duration": 6,
    "start_time": "2024-05-15T08:48:19.793Z"
   },
   {
    "duration": 73,
    "start_time": "2024-05-15T08:48:19.801Z"
   },
   {
    "duration": 63,
    "start_time": "2024-05-15T08:48:19.876Z"
   },
   {
    "duration": 11,
    "start_time": "2024-05-15T08:48:19.941Z"
   },
   {
    "duration": 5,
    "start_time": "2024-05-15T08:48:19.954Z"
   },
   {
    "duration": 6,
    "start_time": "2024-05-15T08:48:19.960Z"
   },
   {
    "duration": 336,
    "start_time": "2024-05-15T08:48:19.967Z"
   },
   {
    "duration": 618,
    "start_time": "2024-05-15T08:48:20.305Z"
   },
   {
    "duration": 581,
    "start_time": "2024-05-15T08:48:20.924Z"
   },
   {
    "duration": 302,
    "start_time": "2024-05-15T08:48:21.507Z"
   },
   {
    "duration": 610,
    "start_time": "2024-05-15T08:48:21.811Z"
   },
   {
    "duration": 677,
    "start_time": "2024-05-15T08:48:22.423Z"
   },
   {
    "duration": 301,
    "start_time": "2024-05-15T08:48:23.101Z"
   },
   {
    "duration": 593,
    "start_time": "2024-05-15T08:48:23.404Z"
   },
   {
    "duration": 585,
    "start_time": "2024-05-15T08:48:24.009Z"
   },
   {
    "duration": 5,
    "start_time": "2024-05-15T12:21:56.013Z"
   },
   {
    "duration": 4,
    "start_time": "2024-05-15T12:23:15.734Z"
   },
   {
    "duration": 4,
    "start_time": "2024-05-15T12:23:21.606Z"
   },
   {
    "duration": 4,
    "start_time": "2024-05-15T12:24:03.746Z"
   },
   {
    "duration": 4,
    "start_time": "2024-05-15T12:25:27.405Z"
   },
   {
    "duration": 5,
    "start_time": "2024-05-15T12:25:51.024Z"
   },
   {
    "duration": 21,
    "start_time": "2024-05-15T12:37:52.638Z"
   },
   {
    "duration": 16,
    "start_time": "2024-05-15T12:38:50.884Z"
   },
   {
    "duration": 19,
    "start_time": "2024-05-15T12:39:04.687Z"
   },
   {
    "duration": 24,
    "start_time": "2024-05-15T12:39:44.374Z"
   },
   {
    "duration": 22,
    "start_time": "2024-05-15T12:39:54.421Z"
   },
   {
    "duration": 17,
    "start_time": "2024-05-15T12:40:42.153Z"
   },
   {
    "duration": 16,
    "start_time": "2024-05-15T12:41:02.798Z"
   },
   {
    "duration": 17,
    "start_time": "2024-05-15T12:41:18.132Z"
   },
   {
    "duration": 17,
    "start_time": "2024-05-15T12:42:52.616Z"
   },
   {
    "duration": 16,
    "start_time": "2024-05-15T12:43:21.157Z"
   },
   {
    "duration": 16,
    "start_time": "2024-05-15T12:43:29.290Z"
   },
   {
    "duration": 16,
    "start_time": "2024-05-15T12:43:38.289Z"
   },
   {
    "duration": 16,
    "start_time": "2024-05-15T12:43:49.986Z"
   },
   {
    "duration": 22,
    "start_time": "2024-05-15T12:44:00.981Z"
   },
   {
    "duration": 15,
    "start_time": "2024-05-15T12:44:29.814Z"
   },
   {
    "duration": 31,
    "start_time": "2024-05-15T12:44:29.831Z"
   },
   {
    "duration": 16,
    "start_time": "2024-05-15T12:44:29.863Z"
   },
   {
    "duration": 16,
    "start_time": "2024-05-15T12:45:01.633Z"
   },
   {
    "duration": 76,
    "start_time": "2024-05-15T12:45:01.651Z"
   },
   {
    "duration": 61,
    "start_time": "2024-05-15T12:45:01.728Z"
   },
   {
    "duration": 8536,
    "start_time": "2024-05-15T12:45:26.403Z"
   },
   {
    "duration": 1976,
    "start_time": "2024-05-15T12:45:34.941Z"
   },
   {
    "duration": 3,
    "start_time": "2024-05-15T12:45:36.919Z"
   },
   {
    "duration": 28,
    "start_time": "2024-05-15T12:45:36.923Z"
   },
   {
    "duration": 188,
    "start_time": "2024-05-15T12:45:36.954Z"
   },
   {
    "duration": 156,
    "start_time": "2024-05-15T12:45:37.143Z"
   },
   {
    "duration": 145,
    "start_time": "2024-05-15T12:45:37.301Z"
   },
   {
    "duration": 14,
    "start_time": "2024-05-15T12:45:37.447Z"
   },
   {
    "duration": 18,
    "start_time": "2024-05-15T12:45:37.463Z"
   },
   {
    "duration": 26,
    "start_time": "2024-05-15T12:45:37.483Z"
   },
   {
    "duration": 92,
    "start_time": "2024-05-15T12:45:37.511Z"
   },
   {
    "duration": 69,
    "start_time": "2024-05-15T12:45:37.604Z"
   },
   {
    "duration": 63,
    "start_time": "2024-05-15T12:45:37.675Z"
   },
   {
    "duration": 6,
    "start_time": "2024-05-15T12:45:37.741Z"
   },
   {
    "duration": 14,
    "start_time": "2024-05-15T12:45:37.748Z"
   },
   {
    "duration": 29,
    "start_time": "2024-05-15T12:45:37.773Z"
   },
   {
    "duration": 12,
    "start_time": "2024-05-15T12:45:37.804Z"
   },
   {
    "duration": 15,
    "start_time": "2024-05-15T12:45:37.817Z"
   },
   {
    "duration": 6,
    "start_time": "2024-05-15T12:45:37.833Z"
   },
   {
    "duration": 271,
    "start_time": "2024-05-15T12:45:37.841Z"
   },
   {
    "duration": 619,
    "start_time": "2024-05-15T12:45:38.115Z"
   },
   {
    "duration": 561,
    "start_time": "2024-05-15T12:45:38.736Z"
   },
   {
    "duration": 307,
    "start_time": "2024-05-15T12:45:39.299Z"
   },
   {
    "duration": 615,
    "start_time": "2024-05-15T12:45:39.608Z"
   },
   {
    "duration": 684,
    "start_time": "2024-05-15T12:45:40.225Z"
   },
   {
    "duration": 298,
    "start_time": "2024-05-15T12:45:40.911Z"
   },
   {
    "duration": 609,
    "start_time": "2024-05-15T12:45:41.211Z"
   },
   {
    "duration": 574,
    "start_time": "2024-05-15T12:45:41.822Z"
   },
   {
    "duration": 4,
    "start_time": "2024-05-15T12:45:42.398Z"
   },
   {
    "duration": 31,
    "start_time": "2024-05-15T12:45:42.403Z"
   },
   {
    "duration": 32,
    "start_time": "2024-05-15T12:45:42.435Z"
   },
   {
    "duration": 25,
    "start_time": "2024-05-15T12:45:42.468Z"
   },
   {
    "duration": 16,
    "start_time": "2024-05-15T12:45:42.495Z"
   },
   {
    "duration": 15,
    "start_time": "2024-05-15T12:47:27.772Z"
   },
   {
    "duration": 8451,
    "start_time": "2024-05-15T12:48:38.030Z"
   },
   {
    "duration": 1847,
    "start_time": "2024-05-15T12:48:46.484Z"
   },
   {
    "duration": 3,
    "start_time": "2024-05-15T12:48:48.332Z"
   },
   {
    "duration": 38,
    "start_time": "2024-05-15T12:48:48.337Z"
   },
   {
    "duration": 172,
    "start_time": "2024-05-15T12:48:48.377Z"
   },
   {
    "duration": 135,
    "start_time": "2024-05-15T12:48:48.551Z"
   },
   {
    "duration": 140,
    "start_time": "2024-05-15T12:48:48.687Z"
   },
   {
    "duration": 13,
    "start_time": "2024-05-15T12:48:48.829Z"
   },
   {
    "duration": 12,
    "start_time": "2024-05-15T12:48:48.844Z"
   },
   {
    "duration": 17,
    "start_time": "2024-05-15T12:48:48.858Z"
   },
   {
    "duration": 76,
    "start_time": "2024-05-15T12:48:48.877Z"
   },
   {
    "duration": 61,
    "start_time": "2024-05-15T12:48:48.955Z"
   },
   {
    "duration": 69,
    "start_time": "2024-05-15T12:48:49.017Z"
   },
   {
    "duration": 5,
    "start_time": "2024-05-15T12:48:49.089Z"
   },
   {
    "duration": 11,
    "start_time": "2024-05-15T12:48:49.096Z"
   },
   {
    "duration": 33,
    "start_time": "2024-05-15T12:48:49.108Z"
   },
   {
    "duration": 5,
    "start_time": "2024-05-15T12:48:49.143Z"
   },
   {
    "duration": 21,
    "start_time": "2024-05-15T12:48:49.150Z"
   },
   {
    "duration": 10,
    "start_time": "2024-05-15T12:48:49.172Z"
   },
   {
    "duration": 327,
    "start_time": "2024-05-15T12:48:49.183Z"
   },
   {
    "duration": 595,
    "start_time": "2024-05-15T12:48:49.512Z"
   },
   {
    "duration": 608,
    "start_time": "2024-05-15T12:48:50.109Z"
   },
   {
    "duration": 286,
    "start_time": "2024-05-15T12:48:50.719Z"
   },
   {
    "duration": 589,
    "start_time": "2024-05-15T12:48:51.007Z"
   },
   {
    "duration": 731,
    "start_time": "2024-05-15T12:48:51.598Z"
   },
   {
    "duration": 274,
    "start_time": "2024-05-15T12:48:52.331Z"
   },
   {
    "duration": 586,
    "start_time": "2024-05-15T12:48:52.607Z"
   },
   {
    "duration": 607,
    "start_time": "2024-05-15T12:48:53.195Z"
   },
   {
    "duration": 5,
    "start_time": "2024-05-15T12:48:53.804Z"
   },
   {
    "duration": 6,
    "start_time": "2024-05-15T12:48:53.811Z"
   },
   {
    "duration": 27,
    "start_time": "2024-05-15T12:48:53.819Z"
   },
   {
    "duration": 37,
    "start_time": "2024-05-15T12:48:53.848Z"
   },
   {
    "duration": 17,
    "start_time": "2024-05-15T12:48:53.887Z"
   },
   {
    "duration": 16,
    "start_time": "2024-05-15T12:49:55.817Z"
   },
   {
    "duration": 35,
    "start_time": "2024-05-15T12:49:55.835Z"
   },
   {
    "duration": 30,
    "start_time": "2024-05-15T12:49:55.871Z"
   },
   {
    "duration": 4,
    "start_time": "2024-05-15T12:53:03.921Z"
   },
   {
    "duration": 33,
    "start_time": "2024-05-15T12:53:03.927Z"
   },
   {
    "duration": 14,
    "start_time": "2024-05-15T12:53:03.962Z"
   },
   {
    "duration": 15,
    "start_time": "2024-05-15T12:53:27.106Z"
   },
   {
    "duration": 5,
    "start_time": "2024-05-15T12:53:27.122Z"
   },
   {
    "duration": 25,
    "start_time": "2024-05-15T12:53:27.128Z"
   },
   {
    "duration": 5,
    "start_time": "2024-05-15T12:53:27.154Z"
   },
   {
    "duration": 27,
    "start_time": "2024-05-15T12:53:27.161Z"
   },
   {
    "duration": 4,
    "start_time": "2024-05-15T12:53:27.190Z"
   },
   {
    "duration": 15,
    "start_time": "2024-05-15T12:55:12.751Z"
   },
   {
    "duration": 7,
    "start_time": "2024-05-15T12:55:12.768Z"
   },
   {
    "duration": 28,
    "start_time": "2024-05-15T12:55:12.777Z"
   },
   {
    "duration": 37,
    "start_time": "2024-05-15T12:55:12.806Z"
   },
   {
    "duration": 29,
    "start_time": "2024-05-15T12:55:12.845Z"
   },
   {
    "duration": 6,
    "start_time": "2024-05-15T12:55:12.876Z"
   },
   {
    "duration": 8774,
    "start_time": "2024-05-15T17:58:02.673Z"
   },
   {
    "duration": 1862,
    "start_time": "2024-05-15T17:58:11.450Z"
   },
   {
    "duration": 4,
    "start_time": "2024-05-15T17:58:13.313Z"
   },
   {
    "duration": 31,
    "start_time": "2024-05-15T17:58:13.318Z"
   },
   {
    "duration": 220,
    "start_time": "2024-05-15T17:58:13.351Z"
   },
   {
    "duration": 154,
    "start_time": "2024-05-15T17:58:13.574Z"
   },
   {
    "duration": 144,
    "start_time": "2024-05-15T17:58:13.730Z"
   },
   {
    "duration": 15,
    "start_time": "2024-05-15T17:58:13.876Z"
   },
   {
    "duration": 11,
    "start_time": "2024-05-15T17:58:13.893Z"
   },
   {
    "duration": 22,
    "start_time": "2024-05-15T17:58:13.905Z"
   },
   {
    "duration": 84,
    "start_time": "2024-05-15T17:58:13.929Z"
   },
   {
    "duration": 64,
    "start_time": "2024-05-15T17:58:14.015Z"
   },
   {
    "duration": 92,
    "start_time": "2024-05-15T17:58:14.081Z"
   },
   {
    "duration": 8,
    "start_time": "2024-05-15T17:58:14.178Z"
   },
   {
    "duration": 23,
    "start_time": "2024-05-15T17:58:14.188Z"
   },
   {
    "duration": 21,
    "start_time": "2024-05-15T17:58:14.212Z"
   },
   {
    "duration": 19,
    "start_time": "2024-05-15T17:58:14.235Z"
   },
   {
    "duration": 5,
    "start_time": "2024-05-15T17:58:14.256Z"
   },
   {
    "duration": 20,
    "start_time": "2024-05-15T17:58:14.263Z"
   },
   {
    "duration": 18,
    "start_time": "2024-05-15T17:58:14.284Z"
   },
   {
    "duration": 298,
    "start_time": "2024-05-15T17:58:14.305Z"
   },
   {
    "duration": 182,
    "start_time": "2024-05-15T17:58:14.605Z"
   },
   {
    "duration": 0,
    "start_time": "2024-05-15T17:58:14.789Z"
   },
   {
    "duration": 1,
    "start_time": "2024-05-15T17:58:14.790Z"
   },
   {
    "duration": 0,
    "start_time": "2024-05-15T17:58:14.792Z"
   },
   {
    "duration": 0,
    "start_time": "2024-05-15T17:58:14.794Z"
   },
   {
    "duration": 0,
    "start_time": "2024-05-15T17:58:14.795Z"
   },
   {
    "duration": 0,
    "start_time": "2024-05-15T17:58:14.797Z"
   },
   {
    "duration": 0,
    "start_time": "2024-05-15T17:58:14.798Z"
   },
   {
    "duration": 0,
    "start_time": "2024-05-15T17:58:14.800Z"
   },
   {
    "duration": 0,
    "start_time": "2024-05-15T17:58:14.801Z"
   },
   {
    "duration": 0,
    "start_time": "2024-05-15T17:58:14.803Z"
   },
   {
    "duration": 0,
    "start_time": "2024-05-15T17:58:14.804Z"
   },
   {
    "duration": 0,
    "start_time": "2024-05-15T17:58:14.805Z"
   },
   {
    "duration": 0,
    "start_time": "2024-05-15T17:58:14.807Z"
   },
   {
    "duration": 0,
    "start_time": "2024-05-15T17:58:14.808Z"
   },
   {
    "duration": 0,
    "start_time": "2024-05-15T17:58:14.809Z"
   },
   {
    "duration": 739,
    "start_time": "2024-05-15T17:58:28.573Z"
   },
   {
    "duration": 595,
    "start_time": "2024-05-15T17:58:29.314Z"
   },
   {
    "duration": 292,
    "start_time": "2024-05-15T17:58:29.911Z"
   },
   {
    "duration": 11,
    "start_time": "2024-05-15T17:58:30.205Z"
   },
   {
    "duration": 0,
    "start_time": "2024-05-15T17:58:30.218Z"
   },
   {
    "duration": 0,
    "start_time": "2024-05-15T17:58:30.219Z"
   },
   {
    "duration": 0,
    "start_time": "2024-05-15T17:58:30.220Z"
   },
   {
    "duration": 0,
    "start_time": "2024-05-15T17:58:30.221Z"
   },
   {
    "duration": 0,
    "start_time": "2024-05-15T17:58:30.223Z"
   },
   {
    "duration": 0,
    "start_time": "2024-05-15T17:58:30.223Z"
   },
   {
    "duration": 0,
    "start_time": "2024-05-15T17:58:30.224Z"
   },
   {
    "duration": 0,
    "start_time": "2024-05-15T17:58:30.225Z"
   },
   {
    "duration": 0,
    "start_time": "2024-05-15T17:58:30.226Z"
   },
   {
    "duration": 0,
    "start_time": "2024-05-15T17:58:30.228Z"
   },
   {
    "duration": 0,
    "start_time": "2024-05-15T17:58:30.229Z"
   },
   {
    "duration": 0,
    "start_time": "2024-05-15T17:58:30.230Z"
   },
   {
    "duration": 8581,
    "start_time": "2024-05-15T18:00:34.633Z"
   },
   {
    "duration": 1863,
    "start_time": "2024-05-15T18:00:43.218Z"
   },
   {
    "duration": 4,
    "start_time": "2024-05-15T18:00:45.082Z"
   },
   {
    "duration": 48,
    "start_time": "2024-05-15T18:00:45.089Z"
   },
   {
    "duration": 212,
    "start_time": "2024-05-15T18:00:45.139Z"
   },
   {
    "duration": 141,
    "start_time": "2024-05-15T18:00:45.353Z"
   },
   {
    "duration": 143,
    "start_time": "2024-05-15T18:00:45.495Z"
   },
   {
    "duration": 13,
    "start_time": "2024-05-15T18:00:45.640Z"
   },
   {
    "duration": 50,
    "start_time": "2024-05-15T18:00:45.655Z"
   },
   {
    "duration": 37,
    "start_time": "2024-05-15T18:00:45.707Z"
   },
   {
    "duration": 118,
    "start_time": "2024-05-15T18:00:45.745Z"
   },
   {
    "duration": 65,
    "start_time": "2024-05-15T18:00:45.865Z"
   },
   {
    "duration": 72,
    "start_time": "2024-05-15T18:00:45.932Z"
   },
   {
    "duration": 6,
    "start_time": "2024-05-15T18:00:46.006Z"
   },
   {
    "duration": 24,
    "start_time": "2024-05-15T18:00:46.014Z"
   },
   {
    "duration": 10,
    "start_time": "2024-05-15T18:00:46.040Z"
   },
   {
    "duration": 8,
    "start_time": "2024-05-15T18:00:46.052Z"
   },
   {
    "duration": 10,
    "start_time": "2024-05-15T18:00:46.061Z"
   },
   {
    "duration": 11,
    "start_time": "2024-05-15T18:00:46.072Z"
   },
   {
    "duration": 8,
    "start_time": "2024-05-15T18:00:46.085Z"
   },
   {
    "duration": 317,
    "start_time": "2024-05-15T18:00:46.095Z"
   },
   {
    "duration": 598,
    "start_time": "2024-05-15T18:00:46.414Z"
   },
   {
    "duration": 588,
    "start_time": "2024-05-15T18:00:47.014Z"
   },
   {
    "duration": 295,
    "start_time": "2024-05-15T18:00:47.604Z"
   },
   {
    "duration": 579,
    "start_time": "2024-05-15T18:00:47.901Z"
   },
   {
    "duration": 635,
    "start_time": "2024-05-15T18:00:48.482Z"
   },
   {
    "duration": 287,
    "start_time": "2024-05-15T18:00:49.119Z"
   },
   {
    "duration": 689,
    "start_time": "2024-05-15T18:00:49.409Z"
   },
   {
    "duration": 551,
    "start_time": "2024-05-15T18:00:50.100Z"
   },
   {
    "duration": 7,
    "start_time": "2024-05-15T18:00:50.653Z"
   },
   {
    "duration": 64,
    "start_time": "2024-05-15T18:00:50.672Z"
   },
   {
    "duration": 13,
    "start_time": "2024-05-15T18:00:50.738Z"
   },
   {
    "duration": 39,
    "start_time": "2024-05-15T18:00:50.752Z"
   },
   {
    "duration": 9,
    "start_time": "2024-05-15T18:00:50.793Z"
   },
   {
    "duration": 48,
    "start_time": "2024-05-15T18:00:50.804Z"
   },
   {
    "duration": 5,
    "start_time": "2024-05-15T18:00:50.853Z"
   },
   {
    "duration": 28,
    "start_time": "2024-05-15T18:00:50.860Z"
   },
   {
    "duration": 8705,
    "start_time": "2024-05-15T18:43:56.359Z"
   },
   {
    "duration": 1943,
    "start_time": "2024-05-15T18:44:05.067Z"
   },
   {
    "duration": 4,
    "start_time": "2024-05-15T18:44:07.012Z"
   },
   {
    "duration": 21,
    "start_time": "2024-05-15T18:44:07.018Z"
   },
   {
    "duration": 202,
    "start_time": "2024-05-15T18:44:07.042Z"
   },
   {
    "duration": 154,
    "start_time": "2024-05-15T18:44:07.246Z"
   },
   {
    "duration": 165,
    "start_time": "2024-05-15T18:44:07.402Z"
   },
   {
    "duration": 13,
    "start_time": "2024-05-15T18:44:07.569Z"
   },
   {
    "duration": 11,
    "start_time": "2024-05-15T18:44:07.584Z"
   },
   {
    "duration": 16,
    "start_time": "2024-05-15T18:44:07.597Z"
   },
   {
    "duration": 88,
    "start_time": "2024-05-15T18:44:07.615Z"
   },
   {
    "duration": 69,
    "start_time": "2024-05-15T18:44:07.704Z"
   },
   {
    "duration": 64,
    "start_time": "2024-05-15T18:44:07.775Z"
   },
   {
    "duration": 5,
    "start_time": "2024-05-15T18:44:07.843Z"
   },
   {
    "duration": 3,
    "start_time": "2024-05-15T18:44:07.873Z"
   },
   {
    "duration": 31,
    "start_time": "2024-05-15T18:44:07.877Z"
   },
   {
    "duration": 25,
    "start_time": "2024-05-15T18:44:07.909Z"
   },
   {
    "duration": 10,
    "start_time": "2024-05-15T18:44:07.936Z"
   },
   {
    "duration": 17,
    "start_time": "2024-05-15T18:44:07.947Z"
   },
   {
    "duration": 38,
    "start_time": "2024-05-15T18:44:07.965Z"
   },
   {
    "duration": 377,
    "start_time": "2024-05-15T18:44:08.005Z"
   },
   {
    "duration": 624,
    "start_time": "2024-05-15T18:44:08.384Z"
   },
   {
    "duration": 586,
    "start_time": "2024-05-15T18:44:09.010Z"
   },
   {
    "duration": 305,
    "start_time": "2024-05-15T18:44:09.597Z"
   },
   {
    "duration": 608,
    "start_time": "2024-05-15T18:44:09.904Z"
   },
   {
    "duration": 707,
    "start_time": "2024-05-15T18:44:10.514Z"
   },
   {
    "duration": 289,
    "start_time": "2024-05-15T18:44:11.222Z"
   },
   {
    "duration": 638,
    "start_time": "2024-05-15T18:44:11.512Z"
   },
   {
    "duration": 650,
    "start_time": "2024-05-15T18:44:12.152Z"
   },
   {
    "duration": 5,
    "start_time": "2024-05-15T18:44:12.804Z"
   },
   {
    "duration": 32,
    "start_time": "2024-05-15T18:44:12.811Z"
   },
   {
    "duration": 38,
    "start_time": "2024-05-15T18:44:12.845Z"
   },
   {
    "duration": 10,
    "start_time": "2024-05-15T18:44:12.885Z"
   },
   {
    "duration": 21,
    "start_time": "2024-05-15T18:44:12.897Z"
   },
   {
    "duration": 6,
    "start_time": "2024-05-15T18:44:12.920Z"
   },
   {
    "duration": 29,
    "start_time": "2024-05-15T18:44:12.928Z"
   },
   {
    "duration": 5,
    "start_time": "2024-05-15T18:44:12.958Z"
   },
   {
    "duration": 85,
    "start_time": "2024-05-15T18:44:12.972Z"
   },
   {
    "duration": 5,
    "start_time": "2024-05-15T18:45:30.878Z"
   },
   {
    "duration": 66,
    "start_time": "2024-05-15T18:45:30.885Z"
   },
   {
    "duration": 3,
    "start_time": "2024-05-15T18:46:44.511Z"
   },
   {
    "duration": 29,
    "start_time": "2024-05-15T18:46:44.517Z"
   },
   {
    "duration": 6,
    "start_time": "2024-05-15T18:46:44.548Z"
   },
   {
    "duration": 21,
    "start_time": "2024-05-15T18:46:44.555Z"
   },
   {
    "duration": 5,
    "start_time": "2024-05-15T18:46:44.579Z"
   },
   {
    "duration": 17,
    "start_time": "2024-05-15T18:46:44.586Z"
   },
   {
    "duration": 4,
    "start_time": "2024-05-15T18:46:44.605Z"
   },
   {
    "duration": 43,
    "start_time": "2024-05-15T18:46:44.611Z"
   },
   {
    "duration": 5,
    "start_time": "2024-05-15T18:48:33.331Z"
   },
   {
    "duration": 6,
    "start_time": "2024-05-15T18:48:33.338Z"
   },
   {
    "duration": 4,
    "start_time": "2024-05-15T18:49:02.695Z"
   },
   {
    "duration": 74,
    "start_time": "2024-05-15T18:49:02.700Z"
   },
   {
    "duration": 6,
    "start_time": "2024-05-15T18:49:02.776Z"
   },
   {
    "duration": 49,
    "start_time": "2024-05-15T18:49:02.783Z"
   },
   {
    "duration": 33,
    "start_time": "2024-05-15T18:49:02.834Z"
   },
   {
    "duration": 43,
    "start_time": "2024-05-15T18:49:02.868Z"
   },
   {
    "duration": 5,
    "start_time": "2024-05-15T18:49:02.912Z"
   },
   {
    "duration": 22,
    "start_time": "2024-05-15T18:49:02.919Z"
   },
   {
    "duration": 3,
    "start_time": "2024-05-15T18:49:53.582Z"
   },
   {
    "duration": 33,
    "start_time": "2024-05-15T18:49:53.587Z"
   },
   {
    "duration": 5,
    "start_time": "2024-05-15T18:49:53.622Z"
   },
   {
    "duration": 25,
    "start_time": "2024-05-15T18:49:53.628Z"
   },
   {
    "duration": 5,
    "start_time": "2024-05-15T18:49:53.655Z"
   },
   {
    "duration": 22,
    "start_time": "2024-05-15T18:49:53.662Z"
   },
   {
    "duration": 7,
    "start_time": "2024-05-15T18:49:53.686Z"
   },
   {
    "duration": 13,
    "start_time": "2024-05-15T18:49:53.695Z"
   },
   {
    "duration": 4,
    "start_time": "2024-05-15T18:50:05.323Z"
   },
   {
    "duration": 81,
    "start_time": "2024-05-15T18:50:05.329Z"
   },
   {
    "duration": 68,
    "start_time": "2024-05-15T18:50:05.412Z"
   },
   {
    "duration": 57,
    "start_time": "2024-05-15T18:50:05.482Z"
   },
   {
    "duration": 18,
    "start_time": "2024-05-15T18:50:05.541Z"
   },
   {
    "duration": 36,
    "start_time": "2024-05-15T18:50:05.561Z"
   },
   {
    "duration": 6,
    "start_time": "2024-05-15T18:50:05.599Z"
   },
   {
    "duration": 22,
    "start_time": "2024-05-15T18:50:05.607Z"
   },
   {
    "duration": 5,
    "start_time": "2024-05-15T18:50:14.983Z"
   },
   {
    "duration": 6,
    "start_time": "2024-05-15T18:54:07.469Z"
   },
   {
    "duration": 5,
    "start_time": "2024-05-15T18:54:41.775Z"
   },
   {
    "duration": 5,
    "start_time": "2024-05-15T18:54:54.856Z"
   },
   {
    "duration": 8313,
    "start_time": "2024-05-15T18:58:43.691Z"
   },
   {
    "duration": 1805,
    "start_time": "2024-05-15T18:58:52.006Z"
   },
   {
    "duration": 3,
    "start_time": "2024-05-15T18:58:53.813Z"
   },
   {
    "duration": 16,
    "start_time": "2024-05-15T18:58:53.818Z"
   },
   {
    "duration": 166,
    "start_time": "2024-05-15T18:58:53.836Z"
   },
   {
    "duration": 149,
    "start_time": "2024-05-15T18:58:54.004Z"
   },
   {
    "duration": 143,
    "start_time": "2024-05-15T18:58:54.155Z"
   },
   {
    "duration": 17,
    "start_time": "2024-05-15T18:58:54.299Z"
   },
   {
    "duration": 15,
    "start_time": "2024-05-15T18:58:54.317Z"
   },
   {
    "duration": 16,
    "start_time": "2024-05-15T18:58:54.333Z"
   },
   {
    "duration": 90,
    "start_time": "2024-05-15T18:58:54.351Z"
   },
   {
    "duration": 60,
    "start_time": "2024-05-15T18:58:54.443Z"
   },
   {
    "duration": 60,
    "start_time": "2024-05-15T18:58:54.504Z"
   },
   {
    "duration": 6,
    "start_time": "2024-05-15T18:58:54.572Z"
   },
   {
    "duration": 5,
    "start_time": "2024-05-15T18:58:54.579Z"
   },
   {
    "duration": 7,
    "start_time": "2024-05-15T18:58:54.585Z"
   },
   {
    "duration": 7,
    "start_time": "2024-05-15T18:58:54.594Z"
   },
   {
    "duration": 11,
    "start_time": "2024-05-15T18:58:54.603Z"
   },
   {
    "duration": 8,
    "start_time": "2024-05-15T18:58:54.616Z"
   },
   {
    "duration": 19,
    "start_time": "2024-05-15T18:58:54.625Z"
   },
   {
    "duration": 152,
    "start_time": "2024-05-15T18:58:54.645Z"
   },
   {
    "duration": 0,
    "start_time": "2024-05-15T18:58:54.798Z"
   },
   {
    "duration": 0,
    "start_time": "2024-05-15T18:58:54.800Z"
   },
   {
    "duration": 0,
    "start_time": "2024-05-15T18:58:54.801Z"
   },
   {
    "duration": 1,
    "start_time": "2024-05-15T18:58:54.801Z"
   },
   {
    "duration": 0,
    "start_time": "2024-05-15T18:58:54.802Z"
   },
   {
    "duration": 0,
    "start_time": "2024-05-15T18:58:54.804Z"
   },
   {
    "duration": 0,
    "start_time": "2024-05-15T18:58:54.805Z"
   },
   {
    "duration": 0,
    "start_time": "2024-05-15T18:58:54.806Z"
   },
   {
    "duration": 0,
    "start_time": "2024-05-15T18:58:54.807Z"
   },
   {
    "duration": 0,
    "start_time": "2024-05-15T18:58:54.808Z"
   },
   {
    "duration": 0,
    "start_time": "2024-05-15T18:58:54.809Z"
   },
   {
    "duration": 0,
    "start_time": "2024-05-15T18:58:54.810Z"
   },
   {
    "duration": 0,
    "start_time": "2024-05-15T18:58:54.811Z"
   },
   {
    "duration": 0,
    "start_time": "2024-05-15T18:58:54.812Z"
   },
   {
    "duration": 0,
    "start_time": "2024-05-15T18:58:54.813Z"
   },
   {
    "duration": 0,
    "start_time": "2024-05-15T18:58:54.814Z"
   },
   {
    "duration": 0,
    "start_time": "2024-05-15T18:58:54.815Z"
   },
   {
    "duration": 0,
    "start_time": "2024-05-15T18:58:54.816Z"
   },
   {
    "duration": 3,
    "start_time": "2024-05-15T18:59:27.060Z"
   },
   {
    "duration": 24,
    "start_time": "2024-05-15T18:59:27.066Z"
   },
   {
    "duration": 0,
    "start_time": "2024-05-15T18:59:27.092Z"
   },
   {
    "duration": 0,
    "start_time": "2024-05-15T18:59:27.094Z"
   },
   {
    "duration": 0,
    "start_time": "2024-05-15T18:59:27.095Z"
   },
   {
    "duration": 0,
    "start_time": "2024-05-15T18:59:27.096Z"
   },
   {
    "duration": 0,
    "start_time": "2024-05-15T18:59:27.098Z"
   },
   {
    "duration": 0,
    "start_time": "2024-05-15T18:59:27.099Z"
   },
   {
    "duration": 0,
    "start_time": "2024-05-15T18:59:27.100Z"
   },
   {
    "duration": 0,
    "start_time": "2024-05-15T18:59:27.101Z"
   },
   {
    "duration": 0,
    "start_time": "2024-05-15T18:59:27.102Z"
   },
   {
    "duration": 0,
    "start_time": "2024-05-15T18:59:27.103Z"
   },
   {
    "duration": 0,
    "start_time": "2024-05-15T18:59:27.104Z"
   },
   {
    "duration": 0,
    "start_time": "2024-05-15T18:59:27.105Z"
   },
   {
    "duration": 0,
    "start_time": "2024-05-15T18:59:27.106Z"
   },
   {
    "duration": 0,
    "start_time": "2024-05-15T18:59:27.107Z"
   },
   {
    "duration": 0,
    "start_time": "2024-05-15T18:59:27.108Z"
   },
   {
    "duration": 0,
    "start_time": "2024-05-15T18:59:27.109Z"
   },
   {
    "duration": 0,
    "start_time": "2024-05-15T18:59:27.110Z"
   },
   {
    "duration": 0,
    "start_time": "2024-05-15T18:59:27.111Z"
   },
   {
    "duration": 10,
    "start_time": "2024-05-15T19:00:41.401Z"
   },
   {
    "duration": 0,
    "start_time": "2024-05-15T19:00:41.414Z"
   },
   {
    "duration": 0,
    "start_time": "2024-05-15T19:00:41.415Z"
   },
   {
    "duration": 0,
    "start_time": "2024-05-15T19:00:41.416Z"
   },
   {
    "duration": 0,
    "start_time": "2024-05-15T19:00:41.417Z"
   },
   {
    "duration": 0,
    "start_time": "2024-05-15T19:00:41.418Z"
   },
   {
    "duration": 0,
    "start_time": "2024-05-15T19:00:41.419Z"
   },
   {
    "duration": 0,
    "start_time": "2024-05-15T19:00:41.420Z"
   },
   {
    "duration": 0,
    "start_time": "2024-05-15T19:00:41.421Z"
   },
   {
    "duration": 0,
    "start_time": "2024-05-15T19:00:41.422Z"
   },
   {
    "duration": 0,
    "start_time": "2024-05-15T19:00:41.423Z"
   },
   {
    "duration": 0,
    "start_time": "2024-05-15T19:00:41.424Z"
   },
   {
    "duration": 0,
    "start_time": "2024-05-15T19:00:41.426Z"
   },
   {
    "duration": 0,
    "start_time": "2024-05-15T19:00:41.427Z"
   },
   {
    "duration": 0,
    "start_time": "2024-05-15T19:00:41.428Z"
   },
   {
    "duration": 0,
    "start_time": "2024-05-15T19:00:41.428Z"
   },
   {
    "duration": 0,
    "start_time": "2024-05-15T19:00:41.429Z"
   },
   {
    "duration": 0,
    "start_time": "2024-05-15T19:00:41.430Z"
   },
   {
    "duration": 8412,
    "start_time": "2024-05-15T19:00:49.288Z"
   },
   {
    "duration": 1752,
    "start_time": "2024-05-15T19:00:57.704Z"
   },
   {
    "duration": 4,
    "start_time": "2024-05-15T19:00:59.457Z"
   },
   {
    "duration": 15,
    "start_time": "2024-05-15T19:00:59.462Z"
   },
   {
    "duration": 182,
    "start_time": "2024-05-15T19:00:59.479Z"
   },
   {
    "duration": 135,
    "start_time": "2024-05-15T19:00:59.663Z"
   },
   {
    "duration": 142,
    "start_time": "2024-05-15T19:00:59.800Z"
   },
   {
    "duration": 13,
    "start_time": "2024-05-15T19:00:59.944Z"
   },
   {
    "duration": 15,
    "start_time": "2024-05-15T19:00:59.959Z"
   },
   {
    "duration": 12,
    "start_time": "2024-05-15T19:00:59.975Z"
   },
   {
    "duration": 120,
    "start_time": "2024-05-15T19:00:59.989Z"
   },
   {
    "duration": 80,
    "start_time": "2024-05-15T19:01:00.111Z"
   },
   {
    "duration": 89,
    "start_time": "2024-05-15T19:01:00.192Z"
   },
   {
    "duration": 6,
    "start_time": "2024-05-15T19:01:00.284Z"
   },
   {
    "duration": 66,
    "start_time": "2024-05-15T19:01:00.292Z"
   },
   {
    "duration": 128,
    "start_time": "2024-05-15T19:01:00.360Z"
   },
   {
    "duration": 52,
    "start_time": "2024-05-15T19:01:00.490Z"
   },
   {
    "duration": 65,
    "start_time": "2024-05-15T19:01:00.544Z"
   },
   {
    "duration": 109,
    "start_time": "2024-05-15T19:01:00.610Z"
   },
   {
    "duration": 95,
    "start_time": "2024-05-15T19:01:00.721Z"
   },
   {
    "duration": 388,
    "start_time": "2024-05-15T19:01:00.818Z"
   },
   {
    "duration": 168,
    "start_time": "2024-05-15T19:01:01.207Z"
   },
   {
    "duration": 0,
    "start_time": "2024-05-15T19:01:01.377Z"
   },
   {
    "duration": 0,
    "start_time": "2024-05-15T19:01:01.378Z"
   },
   {
    "duration": 0,
    "start_time": "2024-05-15T19:01:01.380Z"
   },
   {
    "duration": 0,
    "start_time": "2024-05-15T19:01:01.382Z"
   },
   {
    "duration": 0,
    "start_time": "2024-05-15T19:01:01.383Z"
   },
   {
    "duration": 0,
    "start_time": "2024-05-15T19:01:01.385Z"
   },
   {
    "duration": 0,
    "start_time": "2024-05-15T19:01:01.386Z"
   },
   {
    "duration": 0,
    "start_time": "2024-05-15T19:01:01.387Z"
   },
   {
    "duration": 0,
    "start_time": "2024-05-15T19:01:01.389Z"
   },
   {
    "duration": 0,
    "start_time": "2024-05-15T19:01:01.391Z"
   },
   {
    "duration": 0,
    "start_time": "2024-05-15T19:01:01.392Z"
   },
   {
    "duration": 0,
    "start_time": "2024-05-15T19:01:01.394Z"
   },
   {
    "duration": 0,
    "start_time": "2024-05-15T19:01:01.395Z"
   },
   {
    "duration": 0,
    "start_time": "2024-05-15T19:01:01.397Z"
   },
   {
    "duration": 0,
    "start_time": "2024-05-15T19:01:01.398Z"
   },
   {
    "duration": 0,
    "start_time": "2024-05-15T19:01:01.400Z"
   },
   {
    "duration": 0,
    "start_time": "2024-05-15T19:01:01.401Z"
   },
   {
    "duration": 307,
    "start_time": "2024-05-15T19:02:00.099Z"
   },
   {
    "duration": 10,
    "start_time": "2024-05-15T19:02:00.408Z"
   },
   {
    "duration": 0,
    "start_time": "2024-05-15T19:02:00.420Z"
   },
   {
    "duration": 0,
    "start_time": "2024-05-15T19:02:00.421Z"
   },
   {
    "duration": 0,
    "start_time": "2024-05-15T19:02:00.422Z"
   },
   {
    "duration": 0,
    "start_time": "2024-05-15T19:02:00.423Z"
   },
   {
    "duration": 0,
    "start_time": "2024-05-15T19:02:00.424Z"
   },
   {
    "duration": 1,
    "start_time": "2024-05-15T19:02:00.425Z"
   },
   {
    "duration": 0,
    "start_time": "2024-05-15T19:02:00.427Z"
   },
   {
    "duration": 0,
    "start_time": "2024-05-15T19:02:00.428Z"
   },
   {
    "duration": 0,
    "start_time": "2024-05-15T19:02:00.429Z"
   },
   {
    "duration": 0,
    "start_time": "2024-05-15T19:02:00.430Z"
   },
   {
    "duration": 0,
    "start_time": "2024-05-15T19:02:00.431Z"
   },
   {
    "duration": 0,
    "start_time": "2024-05-15T19:02:00.432Z"
   },
   {
    "duration": 0,
    "start_time": "2024-05-15T19:02:00.433Z"
   },
   {
    "duration": 0,
    "start_time": "2024-05-15T19:02:00.434Z"
   },
   {
    "duration": 0,
    "start_time": "2024-05-15T19:02:00.472Z"
   },
   {
    "duration": 0,
    "start_time": "2024-05-15T19:02:00.474Z"
   },
   {
    "duration": 0,
    "start_time": "2024-05-15T19:02:00.475Z"
   },
   {
    "duration": 11,
    "start_time": "2024-05-15T19:02:12.182Z"
   },
   {
    "duration": 0,
    "start_time": "2024-05-15T19:02:12.195Z"
   },
   {
    "duration": 0,
    "start_time": "2024-05-15T19:02:12.196Z"
   },
   {
    "duration": 0,
    "start_time": "2024-05-15T19:02:12.198Z"
   },
   {
    "duration": 0,
    "start_time": "2024-05-15T19:02:12.199Z"
   },
   {
    "duration": 0,
    "start_time": "2024-05-15T19:02:12.200Z"
   },
   {
    "duration": 0,
    "start_time": "2024-05-15T19:02:12.201Z"
   },
   {
    "duration": 0,
    "start_time": "2024-05-15T19:02:12.202Z"
   },
   {
    "duration": 0,
    "start_time": "2024-05-15T19:02:12.203Z"
   },
   {
    "duration": 0,
    "start_time": "2024-05-15T19:02:12.204Z"
   },
   {
    "duration": 0,
    "start_time": "2024-05-15T19:02:12.205Z"
   },
   {
    "duration": 0,
    "start_time": "2024-05-15T19:02:12.206Z"
   },
   {
    "duration": 0,
    "start_time": "2024-05-15T19:02:12.207Z"
   },
   {
    "duration": 0,
    "start_time": "2024-05-15T19:02:12.208Z"
   },
   {
    "duration": 0,
    "start_time": "2024-05-15T19:02:12.209Z"
   },
   {
    "duration": 0,
    "start_time": "2024-05-15T19:02:12.210Z"
   },
   {
    "duration": 0,
    "start_time": "2024-05-15T19:02:12.211Z"
   },
   {
    "duration": 0,
    "start_time": "2024-05-15T19:02:12.213Z"
   },
   {
    "duration": 1557,
    "start_time": "2024-05-15T19:02:50.450Z"
   },
   {
    "duration": 586,
    "start_time": "2024-05-15T19:02:52.010Z"
   },
   {
    "duration": 702,
    "start_time": "2024-05-15T19:02:52.598Z"
   },
   {
    "duration": 315,
    "start_time": "2024-05-15T19:02:53.302Z"
   },
   {
    "duration": 573,
    "start_time": "2024-05-15T19:02:53.619Z"
   },
   {
    "duration": 590,
    "start_time": "2024-05-15T19:02:54.193Z"
   },
   {
    "duration": 327,
    "start_time": "2024-05-15T19:02:54.786Z"
   },
   {
    "duration": 570,
    "start_time": "2024-05-15T19:02:55.115Z"
   },
   {
    "duration": 635,
    "start_time": "2024-05-15T19:02:55.687Z"
   },
   {
    "duration": 4,
    "start_time": "2024-05-15T19:02:56.325Z"
   },
   {
    "duration": 9,
    "start_time": "2024-05-15T19:02:56.332Z"
   },
   {
    "duration": 33,
    "start_time": "2024-05-15T19:02:56.343Z"
   },
   {
    "duration": 5,
    "start_time": "2024-05-15T19:02:56.378Z"
   },
   {
    "duration": 32,
    "start_time": "2024-05-15T19:02:56.385Z"
   },
   {
    "duration": 4,
    "start_time": "2024-05-15T19:02:56.419Z"
   },
   {
    "duration": 22,
    "start_time": "2024-05-15T19:02:56.425Z"
   },
   {
    "duration": 5,
    "start_time": "2024-05-15T19:02:56.449Z"
   },
   {
    "duration": 18,
    "start_time": "2024-05-15T19:02:56.456Z"
   },
   {
    "duration": 8489,
    "start_time": "2024-05-15T19:08:13.223Z"
   },
   {
    "duration": 1862,
    "start_time": "2024-05-15T19:08:21.714Z"
   },
   {
    "duration": 2,
    "start_time": "2024-05-15T19:08:23.578Z"
   },
   {
    "duration": 14,
    "start_time": "2024-05-15T19:08:23.582Z"
   },
   {
    "duration": 177,
    "start_time": "2024-05-15T19:08:23.598Z"
   },
   {
    "duration": 141,
    "start_time": "2024-05-15T19:08:23.776Z"
   },
   {
    "duration": 151,
    "start_time": "2024-05-15T19:08:23.918Z"
   },
   {
    "duration": 15,
    "start_time": "2024-05-15T19:08:24.071Z"
   },
   {
    "duration": 11,
    "start_time": "2024-05-15T19:08:24.087Z"
   },
   {
    "duration": 12,
    "start_time": "2024-05-15T19:08:24.099Z"
   },
   {
    "duration": 91,
    "start_time": "2024-05-15T19:08:24.113Z"
   },
   {
    "duration": 67,
    "start_time": "2024-05-15T19:08:24.206Z"
   },
   {
    "duration": 60,
    "start_time": "2024-05-15T19:08:24.275Z"
   },
   {
    "duration": 161,
    "start_time": "2024-05-15T19:08:24.339Z"
   },
   {
    "duration": 0,
    "start_time": "2024-05-15T19:08:24.502Z"
   },
   {
    "duration": 0,
    "start_time": "2024-05-15T19:08:24.503Z"
   },
   {
    "duration": 0,
    "start_time": "2024-05-15T19:08:24.504Z"
   },
   {
    "duration": 0,
    "start_time": "2024-05-15T19:08:24.505Z"
   },
   {
    "duration": 0,
    "start_time": "2024-05-15T19:08:24.507Z"
   },
   {
    "duration": 0,
    "start_time": "2024-05-15T19:08:24.508Z"
   },
   {
    "duration": 0,
    "start_time": "2024-05-15T19:08:24.509Z"
   },
   {
    "duration": 0,
    "start_time": "2024-05-15T19:08:24.510Z"
   },
   {
    "duration": 0,
    "start_time": "2024-05-15T19:08:24.511Z"
   },
   {
    "duration": 0,
    "start_time": "2024-05-15T19:08:24.512Z"
   },
   {
    "duration": 0,
    "start_time": "2024-05-15T19:08:24.513Z"
   },
   {
    "duration": 0,
    "start_time": "2024-05-15T19:08:24.514Z"
   },
   {
    "duration": 0,
    "start_time": "2024-05-15T19:08:24.516Z"
   },
   {
    "duration": 0,
    "start_time": "2024-05-15T19:08:24.516Z"
   },
   {
    "duration": 0,
    "start_time": "2024-05-15T19:08:24.517Z"
   },
   {
    "duration": 0,
    "start_time": "2024-05-15T19:08:24.518Z"
   },
   {
    "duration": 0,
    "start_time": "2024-05-15T19:08:24.519Z"
   },
   {
    "duration": 0,
    "start_time": "2024-05-15T19:08:24.520Z"
   },
   {
    "duration": 0,
    "start_time": "2024-05-15T19:08:24.521Z"
   },
   {
    "duration": 0,
    "start_time": "2024-05-15T19:08:24.522Z"
   },
   {
    "duration": 0,
    "start_time": "2024-05-15T19:08:24.523Z"
   },
   {
    "duration": 0,
    "start_time": "2024-05-15T19:08:24.525Z"
   },
   {
    "duration": 0,
    "start_time": "2024-05-15T19:08:24.526Z"
   },
   {
    "duration": 0,
    "start_time": "2024-05-15T19:08:24.527Z"
   },
   {
    "duration": 0,
    "start_time": "2024-05-15T19:08:24.528Z"
   },
   {
    "duration": 0,
    "start_time": "2024-05-15T19:08:24.529Z"
   },
   {
    "duration": 0,
    "start_time": "2024-05-15T19:08:24.573Z"
   },
   {
    "duration": 0,
    "start_time": "2024-05-15T19:08:24.575Z"
   },
   {
    "duration": 3,
    "start_time": "2024-05-15T19:09:37.418Z"
   },
   {
    "duration": 2467,
    "start_time": "2024-05-15T19:09:37.423Z"
   },
   {
    "duration": 2661,
    "start_time": "2024-05-15T19:09:39.892Z"
   },
   {
    "duration": 2558,
    "start_time": "2024-05-15T19:09:42.555Z"
   },
   {
    "duration": 9,
    "start_time": "2024-05-15T19:09:45.115Z"
   },
   {
    "duration": 66,
    "start_time": "2024-05-15T19:09:45.126Z"
   },
   {
    "duration": 57,
    "start_time": "2024-05-15T19:09:45.194Z"
   },
   {
    "duration": 63,
    "start_time": "2024-05-15T19:09:45.253Z"
   },
   {
    "duration": 47,
    "start_time": "2024-05-15T19:09:45.318Z"
   },
   {
    "duration": 20,
    "start_time": "2024-05-15T19:09:45.367Z"
   },
   {
    "duration": 318,
    "start_time": "2024-05-15T19:09:45.389Z"
   },
   {
    "duration": 596,
    "start_time": "2024-05-15T19:09:45.709Z"
   },
   {
    "duration": 602,
    "start_time": "2024-05-15T19:09:46.306Z"
   },
   {
    "duration": 290,
    "start_time": "2024-05-15T19:09:46.910Z"
   },
   {
    "duration": 1790,
    "start_time": "2024-05-15T19:09:47.202Z"
   },
   {
    "duration": 622,
    "start_time": "2024-05-15T19:09:48.993Z"
   },
   {
    "duration": 613,
    "start_time": "2024-05-15T19:09:49.617Z"
   },
   {
    "duration": 273,
    "start_time": "2024-05-15T19:09:50.232Z"
   },
   {
    "duration": 595,
    "start_time": "2024-05-15T19:09:50.506Z"
   },
   {
    "duration": 599,
    "start_time": "2024-05-15T19:09:51.102Z"
   },
   {
    "duration": 4,
    "start_time": "2024-05-15T19:09:51.703Z"
   },
   {
    "duration": 22,
    "start_time": "2024-05-15T19:09:51.708Z"
   },
   {
    "duration": 33,
    "start_time": "2024-05-15T19:09:51.732Z"
   },
   {
    "duration": 51,
    "start_time": "2024-05-15T19:09:51.766Z"
   },
   {
    "duration": 84,
    "start_time": "2024-05-15T19:09:51.819Z"
   },
   {
    "duration": 42,
    "start_time": "2024-05-15T19:09:51.905Z"
   },
   {
    "duration": 58,
    "start_time": "2024-05-15T19:09:51.949Z"
   },
   {
    "duration": 45,
    "start_time": "2024-05-15T19:09:52.008Z"
   },
   {
    "duration": 61,
    "start_time": "2024-05-15T19:09:52.054Z"
   },
   {
    "duration": 13095,
    "start_time": "2024-05-16T17:44:56.695Z"
   },
   {
    "duration": 1875,
    "start_time": "2024-05-16T17:45:09.792Z"
   },
   {
    "duration": 3,
    "start_time": "2024-05-16T17:45:11.668Z"
   },
   {
    "duration": 24,
    "start_time": "2024-05-16T17:45:11.673Z"
   },
   {
    "duration": 248,
    "start_time": "2024-05-16T17:45:11.699Z"
   },
   {
    "duration": 201,
    "start_time": "2024-05-16T17:45:11.949Z"
   },
   {
    "duration": 204,
    "start_time": "2024-05-16T17:45:12.152Z"
   },
   {
    "duration": 14,
    "start_time": "2024-05-16T17:45:12.357Z"
   },
   {
    "duration": 10,
    "start_time": "2024-05-16T17:45:12.372Z"
   },
   {
    "duration": 10,
    "start_time": "2024-05-16T17:45:12.383Z"
   },
   {
    "duration": 76,
    "start_time": "2024-05-16T17:45:12.395Z"
   },
   {
    "duration": 54,
    "start_time": "2024-05-16T17:45:12.472Z"
   },
   {
    "duration": 76,
    "start_time": "2024-05-16T17:45:12.527Z"
   },
   {
    "duration": 815,
    "start_time": "2024-05-16T17:45:12.607Z"
   },
   {
    "duration": 3,
    "start_time": "2024-05-16T17:45:13.424Z"
   },
   {
    "duration": 2278,
    "start_time": "2024-05-16T17:45:13.428Z"
   },
   {
    "duration": 863,
    "start_time": "2024-05-16T17:45:15.708Z"
   },
   {
    "duration": 2340,
    "start_time": "2024-05-16T17:45:16.573Z"
   },
   {
    "duration": 732,
    "start_time": "2024-05-16T17:45:18.915Z"
   },
   {
    "duration": 2398,
    "start_time": "2024-05-16T17:45:19.648Z"
   },
   {
    "duration": 126,
    "start_time": "2024-05-16T17:45:22.047Z"
   },
   {
    "duration": 6,
    "start_time": "2024-05-16T17:45:22.174Z"
   },
   {
    "duration": 4,
    "start_time": "2024-05-16T17:45:22.182Z"
   },
   {
    "duration": 3,
    "start_time": "2024-05-16T17:45:22.187Z"
   },
   {
    "duration": 7,
    "start_time": "2024-05-16T17:45:22.191Z"
   },
   {
    "duration": 4,
    "start_time": "2024-05-16T17:45:22.200Z"
   },
   {
    "duration": 367,
    "start_time": "2024-05-16T17:45:22.206Z"
   },
   {
    "duration": 610,
    "start_time": "2024-05-16T17:45:22.574Z"
   },
   {
    "duration": 572,
    "start_time": "2024-05-16T17:45:23.186Z"
   },
   {
    "duration": 326,
    "start_time": "2024-05-16T17:45:23.760Z"
   },
   {
    "duration": 574,
    "start_time": "2024-05-16T17:45:24.088Z"
   },
   {
    "duration": 498,
    "start_time": "2024-05-16T17:45:24.664Z"
   },
   {
    "duration": 327,
    "start_time": "2024-05-16T17:45:25.164Z"
   },
   {
    "duration": 595,
    "start_time": "2024-05-16T17:45:25.492Z"
   },
   {
    "duration": 652,
    "start_time": "2024-05-16T17:45:26.088Z"
   },
   {
    "duration": 4,
    "start_time": "2024-05-16T17:45:26.741Z"
   },
   {
    "duration": 3,
    "start_time": "2024-05-16T17:45:26.756Z"
   },
   {
    "duration": 23,
    "start_time": "2024-05-16T17:45:26.760Z"
   },
   {
    "duration": 4,
    "start_time": "2024-05-16T17:45:26.785Z"
   },
   {
    "duration": 18,
    "start_time": "2024-05-16T17:45:26.791Z"
   },
   {
    "duration": 4,
    "start_time": "2024-05-16T17:45:26.813Z"
   },
   {
    "duration": 42,
    "start_time": "2024-05-16T17:45:26.818Z"
   },
   {
    "duration": 4,
    "start_time": "2024-05-16T17:45:26.861Z"
   },
   {
    "duration": 6,
    "start_time": "2024-05-16T17:45:26.867Z"
   },
   {
    "duration": 696,
    "start_time": "2024-05-16T17:47:57.382Z"
   },
   {
    "duration": 138,
    "start_time": "2024-05-16T17:47:58.080Z"
   },
   {
    "duration": 0,
    "start_time": "2024-05-16T17:47:58.220Z"
   },
   {
    "duration": 1,
    "start_time": "2024-05-16T17:47:58.221Z"
   },
   {
    "duration": 0,
    "start_time": "2024-05-16T17:47:58.223Z"
   },
   {
    "duration": 0,
    "start_time": "2024-05-16T17:47:58.224Z"
   },
   {
    "duration": 0,
    "start_time": "2024-05-16T17:47:58.225Z"
   },
   {
    "duration": 0,
    "start_time": "2024-05-16T17:47:58.226Z"
   },
   {
    "duration": 0,
    "start_time": "2024-05-16T17:47:58.227Z"
   },
   {
    "duration": 0,
    "start_time": "2024-05-16T17:47:58.228Z"
   },
   {
    "duration": 0,
    "start_time": "2024-05-16T17:47:58.229Z"
   },
   {
    "duration": 0,
    "start_time": "2024-05-16T17:47:58.230Z"
   },
   {
    "duration": 0,
    "start_time": "2024-05-16T17:47:58.231Z"
   },
   {
    "duration": 0,
    "start_time": "2024-05-16T17:47:58.232Z"
   },
   {
    "duration": 0,
    "start_time": "2024-05-16T17:47:58.233Z"
   },
   {
    "duration": 0,
    "start_time": "2024-05-16T17:47:58.234Z"
   },
   {
    "duration": 0,
    "start_time": "2024-05-16T17:47:58.234Z"
   },
   {
    "duration": 0,
    "start_time": "2024-05-16T17:47:58.256Z"
   },
   {
    "duration": 0,
    "start_time": "2024-05-16T17:47:58.257Z"
   },
   {
    "duration": 0,
    "start_time": "2024-05-16T17:47:58.259Z"
   },
   {
    "duration": 0,
    "start_time": "2024-05-16T17:47:58.260Z"
   },
   {
    "duration": 0,
    "start_time": "2024-05-16T17:47:58.261Z"
   },
   {
    "duration": 0,
    "start_time": "2024-05-16T17:47:58.262Z"
   },
   {
    "duration": 0,
    "start_time": "2024-05-16T17:47:58.263Z"
   },
   {
    "duration": 0,
    "start_time": "2024-05-16T17:47:58.264Z"
   },
   {
    "duration": 0,
    "start_time": "2024-05-16T17:47:58.265Z"
   },
   {
    "duration": 0,
    "start_time": "2024-05-16T17:47:58.266Z"
   },
   {
    "duration": 0,
    "start_time": "2024-05-16T17:47:58.267Z"
   },
   {
    "duration": 0,
    "start_time": "2024-05-16T17:47:58.268Z"
   },
   {
    "duration": 0,
    "start_time": "2024-05-16T17:47:58.269Z"
   },
   {
    "duration": 0,
    "start_time": "2024-05-16T17:47:58.270Z"
   },
   {
    "duration": 0,
    "start_time": "2024-05-16T17:47:58.271Z"
   },
   {
    "duration": 0,
    "start_time": "2024-05-16T17:47:58.272Z"
   },
   {
    "duration": 0,
    "start_time": "2024-05-16T17:47:58.273Z"
   },
   {
    "duration": 5,
    "start_time": "2024-05-16T17:48:11.486Z"
   },
   {
    "duration": 36,
    "start_time": "2024-05-16T17:48:11.493Z"
   },
   {
    "duration": 2350,
    "start_time": "2024-05-16T17:48:11.530Z"
   },
   {
    "duration": 806,
    "start_time": "2024-05-16T17:48:13.881Z"
   },
   {
    "duration": 10,
    "start_time": "2024-05-16T17:48:14.689Z"
   },
   {
    "duration": 0,
    "start_time": "2024-05-16T17:48:14.701Z"
   },
   {
    "duration": 0,
    "start_time": "2024-05-16T17:48:14.702Z"
   },
   {
    "duration": 0,
    "start_time": "2024-05-16T17:48:14.704Z"
   },
   {
    "duration": 0,
    "start_time": "2024-05-16T17:48:14.705Z"
   },
   {
    "duration": 0,
    "start_time": "2024-05-16T17:48:14.706Z"
   },
   {
    "duration": 0,
    "start_time": "2024-05-16T17:48:14.708Z"
   },
   {
    "duration": 0,
    "start_time": "2024-05-16T17:48:14.709Z"
   },
   {
    "duration": 0,
    "start_time": "2024-05-16T17:48:14.710Z"
   },
   {
    "duration": 0,
    "start_time": "2024-05-16T17:48:14.711Z"
   },
   {
    "duration": 0,
    "start_time": "2024-05-16T17:48:14.713Z"
   },
   {
    "duration": 0,
    "start_time": "2024-05-16T17:48:14.714Z"
   },
   {
    "duration": 0,
    "start_time": "2024-05-16T17:48:14.715Z"
   },
   {
    "duration": 0,
    "start_time": "2024-05-16T17:48:14.717Z"
   },
   {
    "duration": 0,
    "start_time": "2024-05-16T17:48:14.718Z"
   },
   {
    "duration": 0,
    "start_time": "2024-05-16T17:48:14.719Z"
   },
   {
    "duration": 0,
    "start_time": "2024-05-16T17:48:14.719Z"
   },
   {
    "duration": 0,
    "start_time": "2024-05-16T17:48:14.720Z"
   },
   {
    "duration": 0,
    "start_time": "2024-05-16T17:48:14.720Z"
   },
   {
    "duration": 0,
    "start_time": "2024-05-16T17:48:14.721Z"
   },
   {
    "duration": 0,
    "start_time": "2024-05-16T17:48:14.721Z"
   },
   {
    "duration": 0,
    "start_time": "2024-05-16T17:48:14.722Z"
   },
   {
    "duration": 0,
    "start_time": "2024-05-16T17:48:14.722Z"
   },
   {
    "duration": 32,
    "start_time": "2024-05-16T17:48:14.723Z"
   },
   {
    "duration": 0,
    "start_time": "2024-05-16T17:48:14.757Z"
   },
   {
    "duration": 0,
    "start_time": "2024-05-16T17:48:14.758Z"
   },
   {
    "duration": 0,
    "start_time": "2024-05-16T17:48:14.759Z"
   },
   {
    "duration": 0,
    "start_time": "2024-05-16T17:48:14.760Z"
   },
   {
    "duration": 0,
    "start_time": "2024-05-16T17:48:14.761Z"
   },
   {
    "duration": 2,
    "start_time": "2024-05-16T17:48:25.104Z"
   },
   {
    "duration": 2225,
    "start_time": "2024-05-16T17:48:25.108Z"
   },
   {
    "duration": 691,
    "start_time": "2024-05-16T17:48:27.335Z"
   },
   {
    "duration": 5,
    "start_time": "2024-05-16T17:48:28.028Z"
   },
   {
    "duration": 2294,
    "start_time": "2024-05-16T17:48:28.036Z"
   },
   {
    "duration": 709,
    "start_time": "2024-05-16T17:48:30.332Z"
   },
   {
    "duration": 5,
    "start_time": "2024-05-16T17:48:31.042Z"
   },
   {
    "duration": 2512,
    "start_time": "2024-05-16T17:48:31.048Z"
   },
   {
    "duration": 5,
    "start_time": "2024-05-16T17:48:33.562Z"
   },
   {
    "duration": 40,
    "start_time": "2024-05-16T17:48:33.569Z"
   },
   {
    "duration": 15,
    "start_time": "2024-05-16T17:48:33.610Z"
   },
   {
    "duration": 27,
    "start_time": "2024-05-16T17:48:33.626Z"
   },
   {
    "duration": 44,
    "start_time": "2024-05-16T17:48:33.655Z"
   },
   {
    "duration": 18,
    "start_time": "2024-05-16T17:48:33.701Z"
   },
   {
    "duration": 361,
    "start_time": "2024-05-16T17:48:33.720Z"
   },
   {
    "duration": 552,
    "start_time": "2024-05-16T17:48:34.083Z"
   },
   {
    "duration": 504,
    "start_time": "2024-05-16T17:48:34.637Z"
   },
   {
    "duration": 339,
    "start_time": "2024-05-16T17:48:35.143Z"
   },
   {
    "duration": 564,
    "start_time": "2024-05-16T17:48:35.483Z"
   },
   {
    "duration": 480,
    "start_time": "2024-05-16T17:48:36.056Z"
   },
   {
    "duration": 250,
    "start_time": "2024-05-16T17:48:36.538Z"
   },
   {
    "duration": 636,
    "start_time": "2024-05-16T17:48:36.790Z"
   },
   {
    "duration": 509,
    "start_time": "2024-05-16T17:48:37.428Z"
   },
   {
    "duration": 4,
    "start_time": "2024-05-16T17:48:37.939Z"
   },
   {
    "duration": 8,
    "start_time": "2024-05-16T17:48:37.956Z"
   },
   {
    "duration": 52,
    "start_time": "2024-05-16T17:48:37.965Z"
   },
   {
    "duration": 8,
    "start_time": "2024-05-16T17:48:38.018Z"
   },
   {
    "duration": 40,
    "start_time": "2024-05-16T17:48:38.027Z"
   },
   {
    "duration": 38,
    "start_time": "2024-05-16T17:48:38.068Z"
   },
   {
    "duration": 45,
    "start_time": "2024-05-16T17:48:38.107Z"
   },
   {
    "duration": 21,
    "start_time": "2024-05-16T17:48:38.153Z"
   },
   {
    "duration": 44,
    "start_time": "2024-05-16T17:48:38.175Z"
   },
   {
    "duration": 8,
    "start_time": "2024-05-16T17:48:39.936Z"
   },
   {
    "duration": 3,
    "start_time": "2024-05-16T17:48:39.947Z"
   },
   {
    "duration": 2193,
    "start_time": "2024-05-16T17:48:39.952Z"
   },
   {
    "duration": 702,
    "start_time": "2024-05-16T17:48:42.147Z"
   },
   {
    "duration": 7,
    "start_time": "2024-05-16T17:48:42.850Z"
   },
   {
    "duration": 2415,
    "start_time": "2024-05-16T17:48:42.859Z"
   },
   {
    "duration": 794,
    "start_time": "2024-05-16T17:48:45.276Z"
   },
   {
    "duration": 5,
    "start_time": "2024-05-16T17:48:46.072Z"
   },
   {
    "duration": 2570,
    "start_time": "2024-05-16T17:48:46.078Z"
   },
   {
    "duration": 6,
    "start_time": "2024-05-16T17:48:48.652Z"
   },
   {
    "duration": 6,
    "start_time": "2024-05-16T17:48:48.660Z"
   },
   {
    "duration": 7,
    "start_time": "2024-05-16T17:48:48.667Z"
   },
   {
    "duration": 3,
    "start_time": "2024-05-16T17:48:48.677Z"
   },
   {
    "duration": 4,
    "start_time": "2024-05-16T17:48:48.682Z"
   },
   {
    "duration": 4,
    "start_time": "2024-05-16T17:48:48.688Z"
   },
   {
    "duration": 292,
    "start_time": "2024-05-16T17:48:48.694Z"
   },
   {
    "duration": 549,
    "start_time": "2024-05-16T17:48:48.988Z"
   },
   {
    "duration": 613,
    "start_time": "2024-05-16T17:48:49.539Z"
   },
   {
    "duration": 230,
    "start_time": "2024-05-16T17:48:50.153Z"
   },
   {
    "duration": 557,
    "start_time": "2024-05-16T17:48:50.385Z"
   },
   {
    "duration": 595,
    "start_time": "2024-05-16T17:48:50.944Z"
   },
   {
    "duration": 256,
    "start_time": "2024-05-16T17:48:51.541Z"
   },
   {
    "duration": 547,
    "start_time": "2024-05-16T17:48:51.799Z"
   },
   {
    "duration": 534,
    "start_time": "2024-05-16T17:48:52.348Z"
   },
   {
    "duration": 12,
    "start_time": "2024-05-16T17:48:52.884Z"
   },
   {
    "duration": 18,
    "start_time": "2024-05-16T17:48:52.898Z"
   },
   {
    "duration": 38,
    "start_time": "2024-05-16T17:48:52.918Z"
   },
   {
    "duration": 11,
    "start_time": "2024-05-16T17:48:52.960Z"
   },
   {
    "duration": 47,
    "start_time": "2024-05-16T17:48:52.972Z"
   },
   {
    "duration": 4,
    "start_time": "2024-05-16T17:48:53.021Z"
   },
   {
    "duration": 37,
    "start_time": "2024-05-16T17:48:53.026Z"
   },
   {
    "duration": 7,
    "start_time": "2024-05-16T17:48:53.065Z"
   },
   {
    "duration": 32,
    "start_time": "2024-05-16T17:48:53.073Z"
   },
   {
    "duration": 7354,
    "start_time": "2024-05-16T17:49:33.280Z"
   },
   {
    "duration": 1716,
    "start_time": "2024-05-16T17:49:40.637Z"
   },
   {
    "duration": 3,
    "start_time": "2024-05-16T17:49:42.356Z"
   },
   {
    "duration": 5,
    "start_time": "2024-05-16T17:49:42.361Z"
   },
   {
    "duration": 135,
    "start_time": "2024-05-16T17:49:42.368Z"
   },
   {
    "duration": 118,
    "start_time": "2024-05-16T17:49:42.505Z"
   },
   {
    "duration": 126,
    "start_time": "2024-05-16T17:49:42.625Z"
   },
   {
    "duration": 12,
    "start_time": "2024-05-16T17:49:42.752Z"
   },
   {
    "duration": 9,
    "start_time": "2024-05-16T17:49:42.766Z"
   },
   {
    "duration": 11,
    "start_time": "2024-05-16T17:49:42.776Z"
   },
   {
    "duration": 79,
    "start_time": "2024-05-16T17:49:42.788Z"
   },
   {
    "duration": 56,
    "start_time": "2024-05-16T17:49:42.868Z"
   },
   {
    "duration": 71,
    "start_time": "2024-05-16T17:49:42.927Z"
   },
   {
    "duration": 752,
    "start_time": "2024-05-16T17:49:42.999Z"
   },
   {
    "duration": 41,
    "start_time": "2024-05-16T17:49:43.756Z"
   },
   {
    "duration": 3,
    "start_time": "2024-05-16T17:49:43.798Z"
   },
   {
    "duration": 2140,
    "start_time": "2024-05-16T17:49:43.803Z"
   },
   {
    "duration": 887,
    "start_time": "2024-05-16T17:49:45.944Z"
   },
   {
    "duration": 40,
    "start_time": "2024-05-16T17:49:46.832Z"
   },
   {
    "duration": 2292,
    "start_time": "2024-05-16T17:49:46.874Z"
   },
   {
    "duration": 672,
    "start_time": "2024-05-16T17:49:49.167Z"
   },
   {
    "duration": 42,
    "start_time": "2024-05-16T17:49:49.840Z"
   },
   {
    "duration": 2410,
    "start_time": "2024-05-16T17:49:49.883Z"
   },
   {
    "duration": 128,
    "start_time": "2024-05-16T17:49:52.294Z"
   },
   {
    "duration": 16,
    "start_time": "2024-05-16T17:49:52.424Z"
   },
   {
    "duration": 8,
    "start_time": "2024-05-16T17:49:52.441Z"
   },
   {
    "duration": 10,
    "start_time": "2024-05-16T17:49:52.450Z"
   },
   {
    "duration": 14,
    "start_time": "2024-05-16T17:49:52.462Z"
   },
   {
    "duration": 5,
    "start_time": "2024-05-16T17:49:52.478Z"
   },
   {
    "duration": 298,
    "start_time": "2024-05-16T17:49:52.485Z"
   },
   {
    "duration": 579,
    "start_time": "2024-05-16T17:49:52.784Z"
   },
   {
    "duration": 478,
    "start_time": "2024-05-16T17:49:53.365Z"
   },
   {
    "duration": 338,
    "start_time": "2024-05-16T17:49:53.844Z"
   },
   {
    "duration": 575,
    "start_time": "2024-05-16T17:49:54.183Z"
   },
   {
    "duration": 494,
    "start_time": "2024-05-16T17:49:54.759Z"
   },
   {
    "duration": 326,
    "start_time": "2024-05-16T17:49:55.254Z"
   },
   {
    "duration": 578,
    "start_time": "2024-05-16T17:49:55.582Z"
   },
   {
    "duration": 584,
    "start_time": "2024-05-16T17:49:56.162Z"
   },
   {
    "duration": 3,
    "start_time": "2024-05-16T17:49:56.756Z"
   },
   {
    "duration": 21,
    "start_time": "2024-05-16T17:49:56.763Z"
   },
   {
    "duration": 26,
    "start_time": "2024-05-16T17:49:56.785Z"
   },
   {
    "duration": 11,
    "start_time": "2024-05-16T17:49:56.812Z"
   },
   {
    "duration": 33,
    "start_time": "2024-05-16T17:49:56.825Z"
   },
   {
    "duration": 19,
    "start_time": "2024-05-16T17:49:56.859Z"
   },
   {
    "duration": 28,
    "start_time": "2024-05-16T17:49:56.879Z"
   },
   {
    "duration": 18,
    "start_time": "2024-05-16T17:49:56.908Z"
   },
   {
    "duration": 39,
    "start_time": "2024-05-16T17:49:56.928Z"
   },
   {
    "duration": 7567,
    "start_time": "2024-05-16T17:50:40.912Z"
   },
   {
    "duration": 1660,
    "start_time": "2024-05-16T17:50:48.482Z"
   },
   {
    "duration": 3,
    "start_time": "2024-05-16T17:50:50.144Z"
   },
   {
    "duration": 9,
    "start_time": "2024-05-16T17:50:50.148Z"
   },
   {
    "duration": 160,
    "start_time": "2024-05-16T17:50:50.159Z"
   },
   {
    "duration": 125,
    "start_time": "2024-05-16T17:50:50.320Z"
   },
   {
    "duration": 131,
    "start_time": "2024-05-16T17:50:50.446Z"
   },
   {
    "duration": 13,
    "start_time": "2024-05-16T17:50:50.578Z"
   },
   {
    "duration": 24,
    "start_time": "2024-05-16T17:50:50.592Z"
   },
   {
    "duration": 12,
    "start_time": "2024-05-16T17:50:50.617Z"
   },
   {
    "duration": 89,
    "start_time": "2024-05-16T17:50:50.630Z"
   },
   {
    "duration": 52,
    "start_time": "2024-05-16T17:50:50.720Z"
   },
   {
    "duration": 56,
    "start_time": "2024-05-16T17:50:50.774Z"
   },
   {
    "duration": 727,
    "start_time": "2024-05-16T17:50:50.833Z"
   },
   {
    "duration": 3,
    "start_time": "2024-05-16T17:50:51.561Z"
   },
   {
    "duration": 2211,
    "start_time": "2024-05-16T17:50:51.565Z"
   },
   {
    "duration": 40,
    "start_time": "2024-05-16T17:50:53.777Z"
   },
   {
    "duration": 811,
    "start_time": "2024-05-16T17:50:53.818Z"
   },
   {
    "duration": 2250,
    "start_time": "2024-05-16T17:50:54.630Z"
   },
   {
    "duration": 35,
    "start_time": "2024-05-16T17:50:56.882Z"
   },
   {
    "duration": 742,
    "start_time": "2024-05-16T17:50:56.919Z"
   },
   {
    "duration": 2323,
    "start_time": "2024-05-16T17:50:57.663Z"
   },
   {
    "duration": 38,
    "start_time": "2024-05-16T17:50:59.988Z"
   },
   {
    "duration": 133,
    "start_time": "2024-05-16T17:51:00.028Z"
   },
   {
    "duration": 53,
    "start_time": "2024-05-16T17:51:00.162Z"
   },
   {
    "duration": 40,
    "start_time": "2024-05-16T17:51:00.217Z"
   },
   {
    "duration": 41,
    "start_time": "2024-05-16T17:51:00.259Z"
   },
   {
    "duration": 56,
    "start_time": "2024-05-16T17:51:00.302Z"
   },
   {
    "duration": 35,
    "start_time": "2024-05-16T17:51:00.360Z"
   },
   {
    "duration": 291,
    "start_time": "2024-05-16T17:51:00.397Z"
   },
   {
    "duration": 575,
    "start_time": "2024-05-16T17:51:00.690Z"
   },
   {
    "duration": 504,
    "start_time": "2024-05-16T17:51:01.267Z"
   },
   {
    "duration": 307,
    "start_time": "2024-05-16T17:51:01.773Z"
   },
   {
    "duration": 471,
    "start_time": "2024-05-16T17:51:02.081Z"
   },
   {
    "duration": 539,
    "start_time": "2024-05-16T17:51:02.556Z"
   },
   {
    "duration": 283,
    "start_time": "2024-05-16T17:51:03.096Z"
   },
   {
    "duration": 568,
    "start_time": "2024-05-16T17:51:03.380Z"
   },
   {
    "duration": 612,
    "start_time": "2024-05-16T17:51:03.950Z"
   },
   {
    "duration": 4,
    "start_time": "2024-05-16T17:51:04.563Z"
   },
   {
    "duration": 14,
    "start_time": "2024-05-16T17:51:04.568Z"
   },
   {
    "duration": 26,
    "start_time": "2024-05-16T17:51:04.585Z"
   },
   {
    "duration": 5,
    "start_time": "2024-05-16T17:51:04.612Z"
   },
   {
    "duration": 22,
    "start_time": "2024-05-16T17:51:04.618Z"
   },
   {
    "duration": 4,
    "start_time": "2024-05-16T17:51:04.641Z"
   },
   {
    "duration": 21,
    "start_time": "2024-05-16T17:51:04.647Z"
   },
   {
    "duration": 4,
    "start_time": "2024-05-16T17:51:04.670Z"
   },
   {
    "duration": 19,
    "start_time": "2024-05-16T17:51:04.676Z"
   },
   {
    "duration": 7525,
    "start_time": "2024-05-16T18:48:32.293Z"
   },
   {
    "duration": 1637,
    "start_time": "2024-05-16T18:48:39.821Z"
   },
   {
    "duration": 3,
    "start_time": "2024-05-16T18:48:41.460Z"
   },
   {
    "duration": 6,
    "start_time": "2024-05-16T18:48:41.465Z"
   },
   {
    "duration": 140,
    "start_time": "2024-05-16T18:48:41.474Z"
   },
   {
    "duration": 123,
    "start_time": "2024-05-16T18:48:41.615Z"
   },
   {
    "duration": 142,
    "start_time": "2024-05-16T18:48:41.740Z"
   },
   {
    "duration": 13,
    "start_time": "2024-05-16T18:48:41.884Z"
   },
   {
    "duration": 9,
    "start_time": "2024-05-16T18:48:41.899Z"
   },
   {
    "duration": 18,
    "start_time": "2024-05-16T18:48:41.910Z"
   },
   {
    "duration": 73,
    "start_time": "2024-05-16T18:48:41.930Z"
   },
   {
    "duration": 61,
    "start_time": "2024-05-16T18:48:42.005Z"
   },
   {
    "duration": 54,
    "start_time": "2024-05-16T18:48:42.068Z"
   },
   {
    "duration": 709,
    "start_time": "2024-05-16T18:48:42.126Z"
   },
   {
    "duration": 19,
    "start_time": "2024-05-16T18:48:42.837Z"
   },
   {
    "duration": 2359,
    "start_time": "2024-05-16T18:48:42.858Z"
   },
   {
    "duration": 44,
    "start_time": "2024-05-16T18:48:45.219Z"
   },
   {
    "duration": 780,
    "start_time": "2024-05-16T18:48:45.264Z"
   },
   {
    "duration": 2258,
    "start_time": "2024-05-16T18:48:46.046Z"
   },
   {
    "duration": 36,
    "start_time": "2024-05-16T18:48:48.305Z"
   },
   {
    "duration": 693,
    "start_time": "2024-05-16T18:48:48.342Z"
   },
   {
    "duration": 2362,
    "start_time": "2024-05-16T18:48:49.036Z"
   },
   {
    "duration": 36,
    "start_time": "2024-05-16T18:48:51.400Z"
   },
   {
    "duration": 130,
    "start_time": "2024-05-16T18:48:51.437Z"
   },
   {
    "duration": 6,
    "start_time": "2024-05-16T18:48:51.568Z"
   },
   {
    "duration": 11,
    "start_time": "2024-05-16T18:48:51.575Z"
   },
   {
    "duration": 3,
    "start_time": "2024-05-16T18:48:51.588Z"
   },
   {
    "duration": 9,
    "start_time": "2024-05-16T18:48:51.592Z"
   },
   {
    "duration": 6,
    "start_time": "2024-05-16T18:48:51.603Z"
   },
   {
    "duration": 278,
    "start_time": "2024-05-16T18:48:51.610Z"
   },
   {
    "duration": 564,
    "start_time": "2024-05-16T18:48:51.890Z"
   },
   {
    "duration": 504,
    "start_time": "2024-05-16T18:48:52.456Z"
   },
   {
    "duration": 320,
    "start_time": "2024-05-16T18:48:52.961Z"
   },
   {
    "duration": 574,
    "start_time": "2024-05-16T18:48:53.282Z"
   },
   {
    "duration": 496,
    "start_time": "2024-05-16T18:48:53.858Z"
   },
   {
    "duration": 324,
    "start_time": "2024-05-16T18:48:54.356Z"
   },
   {
    "duration": 553,
    "start_time": "2024-05-16T18:48:54.681Z"
   },
   {
    "duration": 606,
    "start_time": "2024-05-16T18:48:55.235Z"
   },
   {
    "duration": 4,
    "start_time": "2024-05-16T18:48:55.843Z"
   },
   {
    "duration": 3,
    "start_time": "2024-05-16T18:48:55.856Z"
   },
   {
    "duration": 14,
    "start_time": "2024-05-16T18:48:55.862Z"
   },
   {
    "duration": 5,
    "start_time": "2024-05-16T18:48:55.877Z"
   },
   {
    "duration": 24,
    "start_time": "2024-05-16T18:48:55.883Z"
   },
   {
    "duration": 4,
    "start_time": "2024-05-16T18:48:55.909Z"
   },
   {
    "duration": 14,
    "start_time": "2024-05-16T18:48:55.914Z"
   },
   {
    "duration": 30,
    "start_time": "2024-05-16T18:48:55.930Z"
   },
   {
    "duration": 11,
    "start_time": "2024-05-16T18:48:55.961Z"
   },
   {
    "duration": 11,
    "start_time": "2024-05-16T18:48:55.973Z"
   },
   {
    "duration": 146,
    "start_time": "2024-05-16T18:48:55.985Z"
   },
   {
    "duration": 4,
    "start_time": "2024-05-16T18:50:43.181Z"
   },
   {
    "duration": 6,
    "start_time": "2024-05-16T18:50:43.187Z"
   },
   {
    "duration": 18,
    "start_time": "2024-05-16T18:50:43.194Z"
   },
   {
    "duration": 5,
    "start_time": "2024-05-16T18:50:43.214Z"
   },
   {
    "duration": 17,
    "start_time": "2024-05-16T18:50:43.220Z"
   },
   {
    "duration": 5,
    "start_time": "2024-05-16T18:50:43.239Z"
   },
   {
    "duration": 16,
    "start_time": "2024-05-16T18:50:43.245Z"
   },
   {
    "duration": 4,
    "start_time": "2024-05-16T18:50:43.263Z"
   },
   {
    "duration": 9,
    "start_time": "2024-05-16T18:50:43.269Z"
   },
   {
    "duration": 6,
    "start_time": "2024-05-16T18:50:43.279Z"
   },
   {
    "duration": 13,
    "start_time": "2024-05-16T18:50:43.286Z"
   },
   {
    "duration": 7764,
    "start_time": "2024-05-16T19:46:08.846Z"
   },
   {
    "duration": 1662,
    "start_time": "2024-05-16T19:46:16.613Z"
   },
   {
    "duration": 3,
    "start_time": "2024-05-16T19:46:18.277Z"
   },
   {
    "duration": 29,
    "start_time": "2024-05-16T19:46:18.281Z"
   },
   {
    "duration": 185,
    "start_time": "2024-05-16T19:46:18.313Z"
   },
   {
    "duration": 124,
    "start_time": "2024-05-16T19:46:18.500Z"
   },
   {
    "duration": 128,
    "start_time": "2024-05-16T19:46:18.626Z"
   },
   {
    "duration": 12,
    "start_time": "2024-05-16T19:46:18.755Z"
   },
   {
    "duration": 28,
    "start_time": "2024-05-16T19:46:18.769Z"
   },
   {
    "duration": 31,
    "start_time": "2024-05-16T19:46:18.799Z"
   },
   {
    "duration": 64,
    "start_time": "2024-05-16T19:46:18.832Z"
   },
   {
    "duration": 51,
    "start_time": "2024-05-16T19:46:18.898Z"
   },
   {
    "duration": 56,
    "start_time": "2024-05-16T19:46:18.955Z"
   },
   {
    "duration": 748,
    "start_time": "2024-05-16T19:46:19.014Z"
   },
   {
    "duration": 3,
    "start_time": "2024-05-16T19:46:19.773Z"
   },
   {
    "duration": 2199,
    "start_time": "2024-05-16T19:46:19.778Z"
   },
   {
    "duration": 41,
    "start_time": "2024-05-16T19:46:21.980Z"
   },
   {
    "duration": 876,
    "start_time": "2024-05-16T19:46:22.023Z"
   },
   {
    "duration": 2282,
    "start_time": "2024-05-16T19:46:22.901Z"
   },
   {
    "duration": 38,
    "start_time": "2024-05-16T19:46:25.185Z"
   },
   {
    "duration": 731,
    "start_time": "2024-05-16T19:46:25.225Z"
   },
   {
    "duration": 2367,
    "start_time": "2024-05-16T19:46:25.958Z"
   },
   {
    "duration": 42,
    "start_time": "2024-05-16T19:46:28.326Z"
   },
   {
    "duration": 137,
    "start_time": "2024-05-16T19:46:28.370Z"
   },
   {
    "duration": 19,
    "start_time": "2024-05-16T19:46:28.508Z"
   },
   {
    "duration": 13,
    "start_time": "2024-05-16T19:46:28.528Z"
   },
   {
    "duration": 12,
    "start_time": "2024-05-16T19:46:28.543Z"
   },
   {
    "duration": 9,
    "start_time": "2024-05-16T19:46:28.556Z"
   },
   {
    "duration": 6,
    "start_time": "2024-05-16T19:46:28.567Z"
   },
   {
    "duration": 309,
    "start_time": "2024-05-16T19:46:28.574Z"
   },
   {
    "duration": 571,
    "start_time": "2024-05-16T19:46:28.885Z"
   },
   {
    "duration": 536,
    "start_time": "2024-05-16T19:46:29.458Z"
   },
   {
    "duration": 289,
    "start_time": "2024-05-16T19:46:29.996Z"
   },
   {
    "duration": 560,
    "start_time": "2024-05-16T19:46:30.287Z"
   },
   {
    "duration": 546,
    "start_time": "2024-05-16T19:46:30.849Z"
   },
   {
    "duration": 296,
    "start_time": "2024-05-16T19:46:31.396Z"
   },
   {
    "duration": 560,
    "start_time": "2024-05-16T19:46:31.694Z"
   },
   {
    "duration": 632,
    "start_time": "2024-05-16T19:46:32.256Z"
   },
   {
    "duration": 5,
    "start_time": "2024-05-16T19:46:32.890Z"
   },
   {
    "duration": 5,
    "start_time": "2024-05-16T19:46:32.897Z"
   },
   {
    "duration": 25,
    "start_time": "2024-05-16T19:46:32.907Z"
   },
   {
    "duration": 5,
    "start_time": "2024-05-16T19:46:32.934Z"
   },
   {
    "duration": 15,
    "start_time": "2024-05-16T19:46:32.956Z"
   },
   {
    "duration": 5,
    "start_time": "2024-05-16T19:46:32.972Z"
   },
   {
    "duration": 15,
    "start_time": "2024-05-16T19:46:32.979Z"
   },
   {
    "duration": 4,
    "start_time": "2024-05-16T19:46:32.996Z"
   },
   {
    "duration": 7,
    "start_time": "2024-05-16T19:46:33.002Z"
   },
   {
    "duration": 6,
    "start_time": "2024-05-16T19:46:33.010Z"
   },
   {
    "duration": 73,
    "start_time": "2024-05-16T19:46:33.055Z"
   },
   {
    "duration": 5,
    "start_time": "2024-05-16T19:47:33.328Z"
   },
   {
    "duration": 146,
    "start_time": "2024-05-16T19:47:33.335Z"
   },
   {
    "duration": 6,
    "start_time": "2024-05-16T19:48:05.853Z"
   },
   {
    "duration": 32,
    "start_time": "2024-05-16T19:48:05.861Z"
   },
   {
    "duration": 6,
    "start_time": "2024-05-16T19:49:43.155Z"
   },
   {
    "duration": 11,
    "start_time": "2024-05-16T19:49:43.162Z"
   },
   {
    "duration": 3,
    "start_time": "2024-05-16T19:50:59.174Z"
   },
   {
    "duration": 17,
    "start_time": "2024-05-16T19:50:59.181Z"
   },
   {
    "duration": 5,
    "start_time": "2024-05-16T19:50:59.200Z"
   },
   {
    "duration": 15,
    "start_time": "2024-05-16T19:50:59.207Z"
   },
   {
    "duration": 4,
    "start_time": "2024-05-16T19:50:59.224Z"
   },
   {
    "duration": 27,
    "start_time": "2024-05-16T19:50:59.230Z"
   },
   {
    "duration": 4,
    "start_time": "2024-05-16T19:50:59.259Z"
   },
   {
    "duration": 766,
    "start_time": "2024-05-16T19:50:59.265Z"
   },
   {
    "duration": 0,
    "start_time": "2024-05-16T19:51:00.032Z"
   },
   {
    "duration": 0,
    "start_time": "2024-05-16T19:51:00.033Z"
   },
   {
    "duration": 5,
    "start_time": "2024-05-16T19:51:27.320Z"
   },
   {
    "duration": 33,
    "start_time": "2024-05-16T19:51:27.328Z"
   },
   {
    "duration": 9,
    "start_time": "2024-05-16T19:51:27.363Z"
   },
   {
    "duration": 45,
    "start_time": "2024-05-16T19:51:27.374Z"
   },
   {
    "duration": 3,
    "start_time": "2024-05-16T19:52:22.377Z"
   },
   {
    "duration": 32,
    "start_time": "2024-05-16T19:52:22.381Z"
   },
   {
    "duration": 5,
    "start_time": "2024-05-16T19:52:22.414Z"
   },
   {
    "duration": 18,
    "start_time": "2024-05-16T19:52:22.421Z"
   },
   {
    "duration": 4,
    "start_time": "2024-05-16T19:52:22.441Z"
   },
   {
    "duration": 21,
    "start_time": "2024-05-16T19:52:22.447Z"
   },
   {
    "duration": 5,
    "start_time": "2024-05-16T19:52:22.470Z"
   },
   {
    "duration": 10,
    "start_time": "2024-05-16T19:52:22.476Z"
   },
   {
    "duration": 5,
    "start_time": "2024-05-16T19:52:22.488Z"
   },
   {
    "duration": 1360,
    "start_time": "2024-05-16T19:52:22.495Z"
   },
   {
    "duration": 1361,
    "start_time": "2024-05-16T19:52:42.768Z"
   },
   {
    "duration": 8,
    "start_time": "2024-05-16T19:52:44.131Z"
   },
   {
    "duration": 7,
    "start_time": "2024-05-16T19:54:16.478Z"
   },
   {
    "duration": 1412,
    "start_time": "2024-05-16T19:54:16.487Z"
   },
   {
    "duration": 8,
    "start_time": "2024-05-16T19:54:17.901Z"
   },
   {
    "duration": 6,
    "start_time": "2024-05-16T19:54:28.198Z"
   },
   {
    "duration": 1373,
    "start_time": "2024-05-16T19:54:28.205Z"
   },
   {
    "duration": 8,
    "start_time": "2024-05-16T19:54:29.580Z"
   },
   {
    "duration": 7725,
    "start_time": "2024-05-16T20:05:36.828Z"
   },
   {
    "duration": 1761,
    "start_time": "2024-05-16T20:05:44.556Z"
   },
   {
    "duration": 3,
    "start_time": "2024-05-16T20:05:46.321Z"
   },
   {
    "duration": 20,
    "start_time": "2024-05-16T20:05:46.326Z"
   },
   {
    "duration": 171,
    "start_time": "2024-05-16T20:05:46.348Z"
   },
   {
    "duration": 133,
    "start_time": "2024-05-16T20:05:46.521Z"
   },
   {
    "duration": 137,
    "start_time": "2024-05-16T20:05:46.655Z"
   },
   {
    "duration": 13,
    "start_time": "2024-05-16T20:05:46.793Z"
   },
   {
    "duration": 14,
    "start_time": "2024-05-16T20:05:46.808Z"
   },
   {
    "duration": 9,
    "start_time": "2024-05-16T20:05:46.823Z"
   },
   {
    "duration": 77,
    "start_time": "2024-05-16T20:05:46.834Z"
   },
   {
    "duration": 59,
    "start_time": "2024-05-16T20:05:46.912Z"
   },
   {
    "duration": 58,
    "start_time": "2024-05-16T20:05:46.974Z"
   },
   {
    "duration": 807,
    "start_time": "2024-05-16T20:05:47.033Z"
   },
   {
    "duration": 2,
    "start_time": "2024-05-16T20:05:47.842Z"
   },
   {
    "duration": 2122,
    "start_time": "2024-05-16T20:05:47.846Z"
   },
   {
    "duration": 42,
    "start_time": "2024-05-16T20:05:49.970Z"
   },
   {
    "duration": 820,
    "start_time": "2024-05-16T20:05:50.014Z"
   },
   {
    "duration": 2364,
    "start_time": "2024-05-16T20:05:50.836Z"
   },
   {
    "duration": 39,
    "start_time": "2024-05-16T20:05:53.202Z"
   },
   {
    "duration": 713,
    "start_time": "2024-05-16T20:05:53.242Z"
   },
   {
    "duration": 2351,
    "start_time": "2024-05-16T20:05:53.957Z"
   },
   {
    "duration": 37,
    "start_time": "2024-05-16T20:05:56.310Z"
   },
   {
    "duration": 135,
    "start_time": "2024-05-16T20:05:56.348Z"
   },
   {
    "duration": 5,
    "start_time": "2024-05-16T20:05:56.485Z"
   },
   {
    "duration": 4,
    "start_time": "2024-05-16T20:05:56.491Z"
   },
   {
    "duration": 10,
    "start_time": "2024-05-16T20:05:56.497Z"
   },
   {
    "duration": 4,
    "start_time": "2024-05-16T20:05:56.508Z"
   },
   {
    "duration": 3,
    "start_time": "2024-05-16T20:05:56.514Z"
   },
   {
    "duration": 368,
    "start_time": "2024-05-16T20:05:56.519Z"
   },
   {
    "duration": 653,
    "start_time": "2024-05-16T20:05:56.888Z"
   },
   {
    "duration": 506,
    "start_time": "2024-05-16T20:05:57.542Z"
   },
   {
    "duration": 331,
    "start_time": "2024-05-16T20:05:58.055Z"
   },
   {
    "duration": 563,
    "start_time": "2024-05-16T20:05:58.388Z"
   },
   {
    "duration": 502,
    "start_time": "2024-05-16T20:05:58.952Z"
   },
   {
    "duration": 327,
    "start_time": "2024-05-16T20:05:59.456Z"
   },
   {
    "duration": 578,
    "start_time": "2024-05-16T20:05:59.784Z"
   },
   {
    "duration": 601,
    "start_time": "2024-05-16T20:06:00.364Z"
   },
   {
    "duration": 5,
    "start_time": "2024-05-16T20:06:00.967Z"
   },
   {
    "duration": 25,
    "start_time": "2024-05-16T20:06:00.977Z"
   },
   {
    "duration": 48,
    "start_time": "2024-05-16T20:06:01.003Z"
   },
   {
    "duration": 59,
    "start_time": "2024-05-16T20:06:01.053Z"
   },
   {
    "duration": 30,
    "start_time": "2024-05-16T20:06:01.113Z"
   },
   {
    "duration": 67,
    "start_time": "2024-05-16T20:06:01.145Z"
   },
   {
    "duration": 34,
    "start_time": "2024-05-16T20:06:01.214Z"
   },
   {
    "duration": 66,
    "start_time": "2024-05-16T20:06:01.250Z"
   },
   {
    "duration": 40,
    "start_time": "2024-05-16T20:06:01.318Z"
   },
   {
    "duration": 43,
    "start_time": "2024-05-16T20:06:01.360Z"
   },
   {
    "duration": 56,
    "start_time": "2024-05-16T20:06:01.405Z"
   },
   {
    "duration": 0,
    "start_time": "2024-05-16T20:06:01.463Z"
   },
   {
    "duration": 0,
    "start_time": "2024-05-16T20:06:01.464Z"
   },
   {
    "duration": 5,
    "start_time": "2024-05-16T20:06:41.941Z"
   },
   {
    "duration": 152,
    "start_time": "2024-05-16T20:06:41.948Z"
   },
   {
    "duration": 0,
    "start_time": "2024-05-16T20:06:42.102Z"
   },
   {
    "duration": 17,
    "start_time": "2024-05-16T20:07:11.906Z"
   },
   {
    "duration": 0,
    "start_time": "2024-05-16T20:07:11.924Z"
   },
   {
    "duration": 12,
    "start_time": "2024-05-16T20:07:45.620Z"
   },
   {
    "duration": 0,
    "start_time": "2024-05-16T20:07:45.633Z"
   },
   {
    "duration": 6,
    "start_time": "2024-05-16T20:08:04.973Z"
   },
   {
    "duration": 23,
    "start_time": "2024-05-16T20:08:04.981Z"
   },
   {
    "duration": 0,
    "start_time": "2024-05-16T20:08:05.006Z"
   },
   {
    "duration": 7,
    "start_time": "2024-05-16T20:10:46.547Z"
   },
   {
    "duration": 46,
    "start_time": "2024-05-16T20:10:46.556Z"
   },
   {
    "duration": 0,
    "start_time": "2024-05-16T20:10:46.603Z"
   },
   {
    "duration": 3,
    "start_time": "2024-05-16T20:11:53.246Z"
   },
   {
    "duration": 8,
    "start_time": "2024-05-16T20:11:53.250Z"
   },
   {
    "duration": 18,
    "start_time": "2024-05-16T20:11:53.259Z"
   },
   {
    "duration": 5,
    "start_time": "2024-05-16T20:11:53.278Z"
   },
   {
    "duration": 16,
    "start_time": "2024-05-16T20:11:53.285Z"
   },
   {
    "duration": 5,
    "start_time": "2024-05-16T20:11:53.302Z"
   },
   {
    "duration": 14,
    "start_time": "2024-05-16T20:11:53.308Z"
   },
   {
    "duration": 4,
    "start_time": "2024-05-16T20:11:53.323Z"
   },
   {
    "duration": 4,
    "start_time": "2024-05-16T20:11:53.356Z"
   },
   {
    "duration": 5,
    "start_time": "2024-05-16T20:11:53.361Z"
   },
   {
    "duration": 2553,
    "start_time": "2024-05-16T20:11:53.367Z"
   },
   {
    "duration": 8,
    "start_time": "2024-05-16T20:11:55.921Z"
   },
   {
    "duration": 3,
    "start_time": "2024-05-16T20:12:28.543Z"
   },
   {
    "duration": 22,
    "start_time": "2024-05-16T20:12:28.547Z"
   },
   {
    "duration": 5,
    "start_time": "2024-05-16T20:12:28.571Z"
   },
   {
    "duration": 14,
    "start_time": "2024-05-16T20:12:28.578Z"
   },
   {
    "duration": 5,
    "start_time": "2024-05-16T20:12:28.593Z"
   },
   {
    "duration": 25,
    "start_time": "2024-05-16T20:12:28.599Z"
   },
   {
    "duration": 4,
    "start_time": "2024-05-16T20:12:28.626Z"
   },
   {
    "duration": 24,
    "start_time": "2024-05-16T20:12:28.632Z"
   },
   {
    "duration": 5,
    "start_time": "2024-05-16T20:12:28.658Z"
   },
   {
    "duration": 2642,
    "start_time": "2024-05-16T20:12:28.664Z"
   },
   {
    "duration": 8,
    "start_time": "2024-05-16T20:12:31.308Z"
   },
   {
    "duration": 6,
    "start_time": "2024-05-16T20:14:30.833Z"
   },
   {
    "duration": 2294,
    "start_time": "2024-05-16T20:14:30.840Z"
   },
   {
    "duration": 8,
    "start_time": "2024-05-16T20:14:33.135Z"
   },
   {
    "duration": 6,
    "start_time": "2024-05-16T20:15:43.234Z"
   },
   {
    "duration": 2542,
    "start_time": "2024-05-16T20:15:43.241Z"
   },
   {
    "duration": 14,
    "start_time": "2024-05-16T20:15:45.785Z"
   },
   {
    "duration": 14231,
    "start_time": "2024-05-19T18:55:58.513Z"
   },
   {
    "duration": 2059,
    "start_time": "2024-05-19T18:56:12.747Z"
   },
   {
    "duration": 3,
    "start_time": "2024-05-19T18:56:14.807Z"
   },
   {
    "duration": 15,
    "start_time": "2024-05-19T18:56:14.813Z"
   },
   {
    "duration": 319,
    "start_time": "2024-05-19T18:56:14.829Z"
   },
   {
    "duration": 223,
    "start_time": "2024-05-19T18:56:15.149Z"
   },
   {
    "duration": 222,
    "start_time": "2024-05-19T18:56:15.374Z"
   },
   {
    "duration": 15,
    "start_time": "2024-05-19T18:56:15.597Z"
   },
   {
    "duration": 32,
    "start_time": "2024-05-19T18:56:15.613Z"
   },
   {
    "duration": 31,
    "start_time": "2024-05-19T18:56:15.648Z"
   },
   {
    "duration": 101,
    "start_time": "2024-05-19T18:56:15.681Z"
   },
   {
    "duration": 64,
    "start_time": "2024-05-19T18:56:15.785Z"
   },
   {
    "duration": 63,
    "start_time": "2024-05-19T18:56:15.851Z"
   },
   {
    "duration": 898,
    "start_time": "2024-05-19T18:56:15.916Z"
   },
   {
    "duration": 3,
    "start_time": "2024-05-19T18:56:16.815Z"
   },
   {
    "duration": 2562,
    "start_time": "2024-05-19T18:56:16.820Z"
   },
   {
    "duration": 41,
    "start_time": "2024-05-19T18:56:19.384Z"
   },
   {
    "duration": 921,
    "start_time": "2024-05-19T18:56:19.427Z"
   },
   {
    "duration": 2489,
    "start_time": "2024-05-19T18:56:20.349Z"
   },
   {
    "duration": 57,
    "start_time": "2024-05-19T18:56:22.840Z"
   },
   {
    "duration": 783,
    "start_time": "2024-05-19T18:56:22.898Z"
   },
   {
    "duration": 2596,
    "start_time": "2024-05-19T18:56:23.682Z"
   },
   {
    "duration": 35,
    "start_time": "2024-05-19T18:56:26.280Z"
   },
   {
    "duration": 139,
    "start_time": "2024-05-19T18:56:26.317Z"
   },
   {
    "duration": 17,
    "start_time": "2024-05-19T18:56:26.457Z"
   },
   {
    "duration": 4,
    "start_time": "2024-05-19T18:56:26.476Z"
   },
   {
    "duration": 4,
    "start_time": "2024-05-19T18:56:26.481Z"
   },
   {
    "duration": 13,
    "start_time": "2024-05-19T18:56:26.488Z"
   },
   {
    "duration": 3,
    "start_time": "2024-05-19T18:56:26.502Z"
   },
   {
    "duration": 379,
    "start_time": "2024-05-19T18:56:26.506Z"
   },
   {
    "duration": 746,
    "start_time": "2024-05-19T18:56:26.886Z"
   },
   {
    "duration": 642,
    "start_time": "2024-05-19T18:56:27.633Z"
   },
   {
    "duration": 318,
    "start_time": "2024-05-19T18:56:28.278Z"
   },
   {
    "duration": 561,
    "start_time": "2024-05-19T18:56:28.598Z"
   },
   {
    "duration": 614,
    "start_time": "2024-05-19T18:56:29.164Z"
   },
   {
    "duration": 309,
    "start_time": "2024-05-19T18:56:29.780Z"
   },
   {
    "duration": 583,
    "start_time": "2024-05-19T18:56:30.091Z"
   },
   {
    "duration": 772,
    "start_time": "2024-05-19T18:56:30.675Z"
   },
   {
    "duration": 11,
    "start_time": "2024-05-19T18:56:31.449Z"
   },
   {
    "duration": 16,
    "start_time": "2024-05-19T18:56:31.461Z"
   },
   {
    "duration": 8,
    "start_time": "2024-05-19T18:56:31.478Z"
   },
   {
    "duration": 36,
    "start_time": "2024-05-19T18:56:31.488Z"
   },
   {
    "duration": 22,
    "start_time": "2024-05-19T18:56:31.525Z"
   },
   {
    "duration": 34,
    "start_time": "2024-05-19T18:56:31.549Z"
   },
   {
    "duration": 7,
    "start_time": "2024-05-19T18:56:31.585Z"
   },
   {
    "duration": 36,
    "start_time": "2024-05-19T18:56:31.594Z"
   },
   {
    "duration": 5,
    "start_time": "2024-05-19T18:56:31.632Z"
   },
   {
    "duration": 25,
    "start_time": "2024-05-19T18:56:31.639Z"
   },
   {
    "duration": 25,
    "start_time": "2024-05-19T18:56:31.666Z"
   },
   {
    "duration": 54,
    "start_time": "2024-05-19T18:56:31.693Z"
   },
   {
    "duration": 0,
    "start_time": "2024-05-19T18:56:31.748Z"
   },
   {
    "duration": 2637,
    "start_time": "2024-05-19T18:57:06.352Z"
   },
   {
    "duration": 3,
    "start_time": "2024-05-19T18:57:08.991Z"
   },
   {
    "duration": 8154,
    "start_time": "2024-05-19T19:08:21.925Z"
   },
   {
    "duration": 1752,
    "start_time": "2024-05-19T19:08:30.081Z"
   },
   {
    "duration": 4,
    "start_time": "2024-05-19T19:08:31.835Z"
   },
   {
    "duration": 29,
    "start_time": "2024-05-19T19:08:31.842Z"
   },
   {
    "duration": 157,
    "start_time": "2024-05-19T19:08:31.873Z"
   },
   {
    "duration": 137,
    "start_time": "2024-05-19T19:08:32.031Z"
   },
   {
    "duration": 131,
    "start_time": "2024-05-19T19:08:32.171Z"
   },
   {
    "duration": 13,
    "start_time": "2024-05-19T19:08:32.303Z"
   },
   {
    "duration": 10,
    "start_time": "2024-05-19T19:08:32.317Z"
   },
   {
    "duration": 9,
    "start_time": "2024-05-19T19:08:32.329Z"
   },
   {
    "duration": 80,
    "start_time": "2024-05-19T19:08:32.340Z"
   },
   {
    "duration": 71,
    "start_time": "2024-05-19T19:08:32.422Z"
   },
   {
    "duration": 81,
    "start_time": "2024-05-19T19:08:32.495Z"
   },
   {
    "duration": 843,
    "start_time": "2024-05-19T19:08:32.578Z"
   },
   {
    "duration": 2,
    "start_time": "2024-05-19T19:08:33.423Z"
   },
   {
    "duration": 2296,
    "start_time": "2024-05-19T19:08:33.427Z"
   },
   {
    "duration": 58,
    "start_time": "2024-05-19T19:08:35.725Z"
   },
   {
    "duration": 850,
    "start_time": "2024-05-19T19:08:35.785Z"
   },
   {
    "duration": 2308,
    "start_time": "2024-05-19T19:08:36.636Z"
   },
   {
    "duration": 46,
    "start_time": "2024-05-19T19:08:38.945Z"
   },
   {
    "duration": 758,
    "start_time": "2024-05-19T19:08:38.993Z"
   },
   {
    "duration": 2632,
    "start_time": "2024-05-19T19:08:39.753Z"
   },
   {
    "duration": 37,
    "start_time": "2024-05-19T19:08:42.386Z"
   },
   {
    "duration": 143,
    "start_time": "2024-05-19T19:08:42.424Z"
   },
   {
    "duration": 12,
    "start_time": "2024-05-19T19:08:42.568Z"
   },
   {
    "duration": 24,
    "start_time": "2024-05-19T19:08:42.581Z"
   },
   {
    "duration": 15,
    "start_time": "2024-05-19T19:08:42.607Z"
   },
   {
    "duration": 13,
    "start_time": "2024-05-19T19:08:42.626Z"
   },
   {
    "duration": 18,
    "start_time": "2024-05-19T19:08:42.641Z"
   },
   {
    "duration": 347,
    "start_time": "2024-05-19T19:08:42.663Z"
   },
   {
    "duration": 661,
    "start_time": "2024-05-19T19:08:43.014Z"
   },
   {
    "duration": 613,
    "start_time": "2024-05-19T19:08:43.677Z"
   },
   {
    "duration": 289,
    "start_time": "2024-05-19T19:08:44.291Z"
   },
   {
    "duration": 614,
    "start_time": "2024-05-19T19:08:44.582Z"
   },
   {
    "duration": 583,
    "start_time": "2024-05-19T19:08:45.198Z"
   },
   {
    "duration": 326,
    "start_time": "2024-05-19T19:08:45.783Z"
   },
   {
    "duration": 572,
    "start_time": "2024-05-19T19:08:46.110Z"
   },
   {
    "duration": 796,
    "start_time": "2024-05-19T19:08:46.684Z"
   },
   {
    "duration": 5,
    "start_time": "2024-05-19T19:08:47.482Z"
   },
   {
    "duration": 30,
    "start_time": "2024-05-19T19:08:47.489Z"
   },
   {
    "duration": 32,
    "start_time": "2024-05-19T19:08:47.521Z"
   },
   {
    "duration": 47,
    "start_time": "2024-05-19T19:08:47.555Z"
   },
   {
    "duration": 36,
    "start_time": "2024-05-19T19:08:47.604Z"
   },
   {
    "duration": 49,
    "start_time": "2024-05-19T19:08:47.643Z"
   },
   {
    "duration": 12,
    "start_time": "2024-05-19T19:08:47.693Z"
   },
   {
    "duration": 71,
    "start_time": "2024-05-19T19:08:47.707Z"
   },
   {
    "duration": 8,
    "start_time": "2024-05-19T19:08:47.780Z"
   },
   {
    "duration": 42,
    "start_time": "2024-05-19T19:08:47.790Z"
   },
   {
    "duration": 16,
    "start_time": "2024-05-19T19:08:47.834Z"
   },
   {
    "duration": 2686,
    "start_time": "2024-05-19T19:08:47.852Z"
   },
   {
    "duration": 62,
    "start_time": "2024-05-20T06:04:53.024Z"
   },
   {
    "duration": 14654,
    "start_time": "2024-05-20T16:40:34.338Z"
   },
   {
    "duration": 1972,
    "start_time": "2024-05-20T16:40:48.995Z"
   },
   {
    "duration": 3,
    "start_time": "2024-05-20T16:40:50.969Z"
   },
   {
    "duration": 25,
    "start_time": "2024-05-20T16:40:50.974Z"
   },
   {
    "duration": 686,
    "start_time": "2024-05-20T16:40:51.001Z"
   },
   {
    "duration": 547,
    "start_time": "2024-05-20T16:40:51.689Z"
   },
   {
    "duration": 543,
    "start_time": "2024-05-20T16:40:52.238Z"
   },
   {
    "duration": 13,
    "start_time": "2024-05-20T16:40:52.782Z"
   },
   {
    "duration": 35,
    "start_time": "2024-05-20T16:40:52.797Z"
   },
   {
    "duration": 23,
    "start_time": "2024-05-20T16:40:52.835Z"
   },
   {
    "duration": 66,
    "start_time": "2024-05-20T16:40:52.859Z"
   },
   {
    "duration": 58,
    "start_time": "2024-05-20T16:40:52.927Z"
   },
   {
    "duration": 58,
    "start_time": "2024-05-20T16:40:52.987Z"
   },
   {
    "duration": 775,
    "start_time": "2024-05-20T16:40:53.047Z"
   },
   {
    "duration": 2,
    "start_time": "2024-05-20T16:40:53.825Z"
   },
   {
    "duration": 2329,
    "start_time": "2024-05-20T16:40:53.829Z"
   },
   {
    "duration": 47,
    "start_time": "2024-05-20T16:40:56.159Z"
   },
   {
    "duration": 925,
    "start_time": "2024-05-20T16:40:56.208Z"
   },
   {
    "duration": 2327,
    "start_time": "2024-05-20T16:40:57.135Z"
   },
   {
    "duration": 46,
    "start_time": "2024-05-20T16:40:59.463Z"
   },
   {
    "duration": 788,
    "start_time": "2024-05-20T16:40:59.510Z"
   },
   {
    "duration": 2525,
    "start_time": "2024-05-20T16:41:00.300Z"
   },
   {
    "duration": 41,
    "start_time": "2024-05-20T16:41:02.827Z"
   },
   {
    "duration": 137,
    "start_time": "2024-05-20T16:41:02.880Z"
   },
   {
    "duration": 93,
    "start_time": "2024-05-20T16:41:03.019Z"
   },
   {
    "duration": 21,
    "start_time": "2024-05-20T16:41:03.113Z"
   },
   {
    "duration": 6,
    "start_time": "2024-05-20T16:41:03.135Z"
   },
   {
    "duration": 3,
    "start_time": "2024-05-20T16:41:03.145Z"
   },
   {
    "duration": 16,
    "start_time": "2024-05-20T16:41:03.149Z"
   },
   {
    "duration": 346,
    "start_time": "2024-05-20T16:41:03.167Z"
   },
   {
    "duration": 593,
    "start_time": "2024-05-20T16:41:03.515Z"
   },
   {
    "duration": 588,
    "start_time": "2024-05-20T16:41:04.110Z"
   },
   {
    "duration": 311,
    "start_time": "2024-05-20T16:41:04.700Z"
   },
   {
    "duration": 601,
    "start_time": "2024-05-20T16:41:05.013Z"
   },
   {
    "duration": 583,
    "start_time": "2024-05-20T16:41:05.616Z"
   },
   {
    "duration": 313,
    "start_time": "2024-05-20T16:41:06.201Z"
   },
   {
    "duration": 579,
    "start_time": "2024-05-20T16:41:06.517Z"
   },
   {
    "duration": 707,
    "start_time": "2024-05-20T16:41:07.097Z"
   },
   {
    "duration": 4,
    "start_time": "2024-05-20T16:41:07.806Z"
   },
   {
    "duration": 6,
    "start_time": "2024-05-20T16:41:07.812Z"
   },
   {
    "duration": 7,
    "start_time": "2024-05-20T16:41:07.819Z"
   },
   {
    "duration": 18,
    "start_time": "2024-05-20T16:41:07.828Z"
   },
   {
    "duration": 5,
    "start_time": "2024-05-20T16:41:07.848Z"
   },
   {
    "duration": 39,
    "start_time": "2024-05-20T16:41:07.854Z"
   },
   {
    "duration": 5,
    "start_time": "2024-05-20T16:41:07.894Z"
   },
   {
    "duration": 33,
    "start_time": "2024-05-20T16:41:07.901Z"
   },
   {
    "duration": 6,
    "start_time": "2024-05-20T16:41:07.936Z"
   },
   {
    "duration": 10,
    "start_time": "2024-05-20T16:41:07.944Z"
   },
   {
    "duration": 7,
    "start_time": "2024-05-20T16:41:07.956Z"
   },
   {
    "duration": 2835,
    "start_time": "2024-05-20T16:41:07.979Z"
   },
   {
    "duration": 8076,
    "start_time": "2024-05-20T16:42:28.814Z"
   },
   {
    "duration": 1813,
    "start_time": "2024-05-20T16:42:36.893Z"
   },
   {
    "duration": 4,
    "start_time": "2024-05-20T16:42:38.708Z"
   },
   {
    "duration": 20,
    "start_time": "2024-05-20T16:42:38.713Z"
   },
   {
    "duration": 155,
    "start_time": "2024-05-20T16:42:38.735Z"
   },
   {
    "duration": 129,
    "start_time": "2024-05-20T16:42:38.892Z"
   },
   {
    "duration": 129,
    "start_time": "2024-05-20T16:42:39.023Z"
   },
   {
    "duration": 12,
    "start_time": "2024-05-20T16:42:39.154Z"
   },
   {
    "duration": 14,
    "start_time": "2024-05-20T16:42:39.168Z"
   },
   {
    "duration": 30,
    "start_time": "2024-05-20T16:42:39.183Z"
   },
   {
    "duration": 71,
    "start_time": "2024-05-20T16:42:39.214Z"
   },
   {
    "duration": 54,
    "start_time": "2024-05-20T16:42:39.286Z"
   },
   {
    "duration": 74,
    "start_time": "2024-05-20T16:42:39.341Z"
   },
   {
    "duration": 790,
    "start_time": "2024-05-20T16:42:39.419Z"
   },
   {
    "duration": 3,
    "start_time": "2024-05-20T16:42:40.210Z"
   },
   {
    "duration": 2329,
    "start_time": "2024-05-20T16:42:40.214Z"
   },
   {
    "duration": 52,
    "start_time": "2024-05-20T16:42:42.545Z"
   },
   {
    "duration": 904,
    "start_time": "2024-05-20T16:42:42.599Z"
   },
   {
    "duration": 2393,
    "start_time": "2024-05-20T16:42:43.504Z"
   },
   {
    "duration": 37,
    "start_time": "2024-05-20T16:42:45.898Z"
   },
   {
    "duration": 765,
    "start_time": "2024-05-20T16:42:45.936Z"
   },
   {
    "duration": 2548,
    "start_time": "2024-05-20T16:42:46.703Z"
   },
   {
    "duration": 46,
    "start_time": "2024-05-20T16:42:49.253Z"
   },
   {
    "duration": 127,
    "start_time": "2024-05-20T16:42:49.301Z"
   },
   {
    "duration": 127,
    "start_time": "2024-05-20T16:42:49.430Z"
   },
   {
    "duration": 4,
    "start_time": "2024-05-20T16:42:49.559Z"
   },
   {
    "duration": 16,
    "start_time": "2024-05-20T16:42:49.565Z"
   },
   {
    "duration": 7,
    "start_time": "2024-05-20T16:42:49.583Z"
   },
   {
    "duration": 5,
    "start_time": "2024-05-20T16:42:49.592Z"
   },
   {
    "duration": 313,
    "start_time": "2024-05-20T16:42:49.599Z"
   },
   {
    "duration": 567,
    "start_time": "2024-05-20T16:42:49.914Z"
   },
   {
    "duration": 511,
    "start_time": "2024-05-20T16:42:50.484Z"
   },
   {
    "duration": 313,
    "start_time": "2024-05-20T16:42:50.997Z"
   },
   {
    "duration": 591,
    "start_time": "2024-05-20T16:42:51.312Z"
   },
   {
    "duration": 594,
    "start_time": "2024-05-20T16:42:51.905Z"
   },
   {
    "duration": 320,
    "start_time": "2024-05-20T16:42:52.501Z"
   },
   {
    "duration": 585,
    "start_time": "2024-05-20T16:42:52.822Z"
   },
   {
    "duration": 689,
    "start_time": "2024-05-20T16:42:53.409Z"
   },
   {
    "duration": 6,
    "start_time": "2024-05-20T16:42:54.100Z"
   },
   {
    "duration": 5,
    "start_time": "2024-05-20T16:42:54.107Z"
   },
   {
    "duration": 4,
    "start_time": "2024-05-20T16:42:54.115Z"
   },
   {
    "duration": 20,
    "start_time": "2024-05-20T16:42:54.121Z"
   },
   {
    "duration": 17,
    "start_time": "2024-05-20T16:42:54.142Z"
   },
   {
    "duration": 31,
    "start_time": "2024-05-20T16:42:54.160Z"
   },
   {
    "duration": 21,
    "start_time": "2024-05-20T16:42:54.192Z"
   },
   {
    "duration": 71,
    "start_time": "2024-05-20T16:42:54.215Z"
   },
   {
    "duration": 5,
    "start_time": "2024-05-20T16:42:54.288Z"
   },
   {
    "duration": 32,
    "start_time": "2024-05-20T16:42:54.294Z"
   },
   {
    "duration": 16,
    "start_time": "2024-05-20T16:42:54.327Z"
   },
   {
    "duration": 2866,
    "start_time": "2024-05-20T16:42:54.345Z"
   },
   {
    "duration": 14888,
    "start_time": "2024-05-21T10:07:14.036Z"
   },
   {
    "duration": 2174,
    "start_time": "2024-05-21T10:07:28.926Z"
   },
   {
    "duration": 3,
    "start_time": "2024-05-21T10:07:31.102Z"
   },
   {
    "duration": 172,
    "start_time": "2024-05-21T10:07:31.108Z"
   },
   {
    "duration": 700,
    "start_time": "2024-05-21T10:07:31.281Z"
   },
   {
    "duration": 553,
    "start_time": "2024-05-21T10:07:31.983Z"
   },
   {
    "duration": 557,
    "start_time": "2024-05-21T10:07:32.538Z"
   },
   {
    "duration": 14,
    "start_time": "2024-05-21T10:07:33.097Z"
   },
   {
    "duration": 17,
    "start_time": "2024-05-21T10:07:33.113Z"
   },
   {
    "duration": 12,
    "start_time": "2024-05-21T10:07:33.133Z"
   },
   {
    "duration": 82,
    "start_time": "2024-05-21T10:07:33.146Z"
   },
   {
    "duration": 74,
    "start_time": "2024-05-21T10:07:33.230Z"
   },
   {
    "duration": 74,
    "start_time": "2024-05-21T10:07:33.305Z"
   },
   {
    "duration": 903,
    "start_time": "2024-05-21T10:07:33.381Z"
   },
   {
    "duration": 3,
    "start_time": "2024-05-21T10:07:34.286Z"
   },
   {
    "duration": 2525,
    "start_time": "2024-05-21T10:07:34.290Z"
   },
   {
    "duration": 57,
    "start_time": "2024-05-21T10:07:36.817Z"
   },
   {
    "duration": 927,
    "start_time": "2024-05-21T10:07:36.877Z"
   },
   {
    "duration": 2538,
    "start_time": "2024-05-21T10:07:37.805Z"
   },
   {
    "duration": 45,
    "start_time": "2024-05-21T10:07:40.345Z"
   },
   {
    "duration": 832,
    "start_time": "2024-05-21T10:07:40.391Z"
   },
   {
    "duration": 2716,
    "start_time": "2024-05-21T10:07:41.225Z"
   },
   {
    "duration": 53,
    "start_time": "2024-05-21T10:07:43.943Z"
   },
   {
    "duration": 146,
    "start_time": "2024-05-21T10:07:43.998Z"
   },
   {
    "duration": 65,
    "start_time": "2024-05-21T10:07:44.146Z"
   },
   {
    "duration": 9,
    "start_time": "2024-05-21T10:07:44.213Z"
   },
   {
    "duration": 7,
    "start_time": "2024-05-21T10:07:44.224Z"
   },
   {
    "duration": 25,
    "start_time": "2024-05-21T10:07:44.235Z"
   },
   {
    "duration": 6,
    "start_time": "2024-05-21T10:07:44.262Z"
   },
   {
    "duration": 349,
    "start_time": "2024-05-21T10:07:44.269Z"
   },
   {
    "duration": 571,
    "start_time": "2024-05-21T10:07:44.620Z"
   },
   {
    "duration": 625,
    "start_time": "2024-05-21T10:07:45.193Z"
   },
   {
    "duration": 377,
    "start_time": "2024-05-21T10:07:45.820Z"
   },
   {
    "duration": 590,
    "start_time": "2024-05-21T10:07:46.199Z"
   },
   {
    "duration": 526,
    "start_time": "2024-05-21T10:07:46.790Z"
   },
   {
    "duration": 286,
    "start_time": "2024-05-21T10:07:47.317Z"
   },
   {
    "duration": 602,
    "start_time": "2024-05-21T10:07:47.605Z"
   },
   {
    "duration": 711,
    "start_time": "2024-05-21T10:07:48.209Z"
   },
   {
    "duration": 5,
    "start_time": "2024-05-21T10:07:48.921Z"
   },
   {
    "duration": 6,
    "start_time": "2024-05-21T10:07:48.928Z"
   },
   {
    "duration": 10,
    "start_time": "2024-05-21T10:07:48.936Z"
   },
   {
    "duration": 43,
    "start_time": "2024-05-21T10:07:48.947Z"
   },
   {
    "duration": 8,
    "start_time": "2024-05-21T10:07:48.992Z"
   },
   {
    "duration": 34,
    "start_time": "2024-05-21T10:07:49.002Z"
   },
   {
    "duration": 6,
    "start_time": "2024-05-21T10:07:49.038Z"
   },
   {
    "duration": 96,
    "start_time": "2024-05-21T10:07:49.045Z"
   },
   {
    "duration": 24,
    "start_time": "2024-05-21T10:07:49.143Z"
   },
   {
    "duration": 24,
    "start_time": "2024-05-21T10:07:49.168Z"
   },
   {
    "duration": 7,
    "start_time": "2024-05-21T10:07:49.194Z"
   },
   {
    "duration": 2893,
    "start_time": "2024-05-21T10:07:49.202Z"
   },
   {
    "duration": 4,
    "start_time": "2024-05-21T10:12:04.306Z"
   },
   {
    "duration": 73,
    "start_time": "2024-05-21T10:12:04.312Z"
   },
   {
    "duration": 6,
    "start_time": "2024-05-21T10:12:04.387Z"
   },
   {
    "duration": 27,
    "start_time": "2024-05-21T10:12:04.395Z"
   },
   {
    "duration": 5,
    "start_time": "2024-05-21T10:12:04.424Z"
   },
   {
    "duration": 51,
    "start_time": "2024-05-21T10:12:04.431Z"
   },
   {
    "duration": 20,
    "start_time": "2024-05-21T10:12:04.483Z"
   },
   {
    "duration": 149,
    "start_time": "2024-05-21T10:12:04.505Z"
   },
   {
    "duration": 30,
    "start_time": "2024-05-21T10:12:04.656Z"
   },
   {
    "duration": 2882,
    "start_time": "2024-05-21T10:12:04.688Z"
   },
   {
    "duration": 8667,
    "start_time": "2024-05-21T10:16:36.443Z"
   },
   {
    "duration": 1921,
    "start_time": "2024-05-21T10:16:45.114Z"
   },
   {
    "duration": 4,
    "start_time": "2024-05-21T10:16:47.037Z"
   },
   {
    "duration": 22,
    "start_time": "2024-05-21T10:16:47.043Z"
   },
   {
    "duration": 287,
    "start_time": "2024-05-21T10:16:47.068Z"
   },
   {
    "duration": 141,
    "start_time": "2024-05-21T10:16:47.356Z"
   },
   {
    "duration": 147,
    "start_time": "2024-05-21T10:16:47.499Z"
   },
   {
    "duration": 14,
    "start_time": "2024-05-21T10:16:47.648Z"
   },
   {
    "duration": 35,
    "start_time": "2024-05-21T10:16:47.663Z"
   },
   {
    "duration": 13,
    "start_time": "2024-05-21T10:16:47.699Z"
   },
   {
    "duration": 75,
    "start_time": "2024-05-21T10:16:47.713Z"
   },
   {
    "duration": 60,
    "start_time": "2024-05-21T10:16:47.790Z"
   },
   {
    "duration": 76,
    "start_time": "2024-05-21T10:16:47.852Z"
   },
   {
    "duration": 916,
    "start_time": "2024-05-21T10:16:47.931Z"
   },
   {
    "duration": 2,
    "start_time": "2024-05-21T10:16:48.849Z"
   },
   {
    "duration": 2551,
    "start_time": "2024-05-21T10:16:48.853Z"
   },
   {
    "duration": 47,
    "start_time": "2024-05-21T10:16:51.405Z"
   },
   {
    "duration": 869,
    "start_time": "2024-05-21T10:16:51.454Z"
   },
   {
    "duration": 2529,
    "start_time": "2024-05-21T10:16:52.325Z"
   },
   {
    "duration": 50,
    "start_time": "2024-05-21T10:16:54.855Z"
   },
   {
    "duration": 841,
    "start_time": "2024-05-21T10:16:54.906Z"
   },
   {
    "duration": 2973,
    "start_time": "2024-05-21T10:16:55.750Z"
   },
   {
    "duration": 49,
    "start_time": "2024-05-21T10:16:58.725Z"
   },
   {
    "duration": 147,
    "start_time": "2024-05-21T10:16:58.775Z"
   },
   {
    "duration": 18,
    "start_time": "2024-05-21T10:16:58.924Z"
   },
   {
    "duration": 7,
    "start_time": "2024-05-21T10:16:58.945Z"
   },
   {
    "duration": 28,
    "start_time": "2024-05-21T10:16:58.954Z"
   },
   {
    "duration": 12,
    "start_time": "2024-05-21T10:16:58.984Z"
   },
   {
    "duration": 23,
    "start_time": "2024-05-21T10:16:58.998Z"
   },
   {
    "duration": 373,
    "start_time": "2024-05-21T10:16:59.023Z"
   },
   {
    "duration": 597,
    "start_time": "2024-05-21T10:16:59.398Z"
   },
   {
    "duration": 632,
    "start_time": "2024-05-21T10:16:59.997Z"
   },
   {
    "duration": 365,
    "start_time": "2024-05-21T10:17:00.631Z"
   },
   {
    "duration": 606,
    "start_time": "2024-05-21T10:17:00.998Z"
   },
   {
    "duration": 624,
    "start_time": "2024-05-21T10:17:01.606Z"
   },
   {
    "duration": 358,
    "start_time": "2024-05-21T10:17:02.232Z"
   },
   {
    "duration": 608,
    "start_time": "2024-05-21T10:17:02.591Z"
   },
   {
    "duration": 749,
    "start_time": "2024-05-21T10:17:03.200Z"
   },
   {
    "duration": 5,
    "start_time": "2024-05-21T10:17:03.951Z"
   },
   {
    "duration": 20,
    "start_time": "2024-05-21T10:17:03.958Z"
   },
   {
    "duration": 119,
    "start_time": "2024-05-21T10:17:03.983Z"
   },
   {
    "duration": 27,
    "start_time": "2024-05-21T10:17:04.104Z"
   },
   {
    "duration": 137,
    "start_time": "2024-05-21T10:17:04.133Z"
   },
   {
    "duration": 36,
    "start_time": "2024-05-21T10:17:04.272Z"
   },
   {
    "duration": 7,
    "start_time": "2024-05-21T10:17:04.310Z"
   },
   {
    "duration": 29,
    "start_time": "2024-05-21T10:17:04.319Z"
   },
   {
    "duration": 6,
    "start_time": "2024-05-21T10:17:04.350Z"
   },
   {
    "duration": 30,
    "start_time": "2024-05-21T10:17:04.358Z"
   },
   {
    "duration": 23,
    "start_time": "2024-05-21T10:17:04.390Z"
   },
   {
    "duration": 79,
    "start_time": "2024-05-21T10:17:04.415Z"
   },
   {
    "duration": 0,
    "start_time": "2024-05-21T10:17:04.496Z"
   },
   {
    "duration": 8888,
    "start_time": "2024-05-21T10:17:41.965Z"
   },
   {
    "duration": 1947,
    "start_time": "2024-05-21T10:17:50.857Z"
   },
   {
    "duration": 4,
    "start_time": "2024-05-21T10:17:52.808Z"
   },
   {
    "duration": 42,
    "start_time": "2024-05-21T10:17:52.814Z"
   },
   {
    "duration": 184,
    "start_time": "2024-05-21T10:17:52.857Z"
   },
   {
    "duration": 153,
    "start_time": "2024-05-21T10:17:53.043Z"
   },
   {
    "duration": 147,
    "start_time": "2024-05-21T10:17:53.197Z"
   },
   {
    "duration": 16,
    "start_time": "2024-05-21T10:17:53.345Z"
   },
   {
    "duration": 18,
    "start_time": "2024-05-21T10:17:53.362Z"
   },
   {
    "duration": 31,
    "start_time": "2024-05-21T10:17:53.382Z"
   },
   {
    "duration": 101,
    "start_time": "2024-05-21T10:17:53.414Z"
   },
   {
    "duration": 69,
    "start_time": "2024-05-21T10:17:53.517Z"
   },
   {
    "duration": 66,
    "start_time": "2024-05-21T10:17:53.589Z"
   },
   {
    "duration": 798,
    "start_time": "2024-05-21T10:17:53.657Z"
   },
   {
    "duration": 5,
    "start_time": "2024-05-21T10:17:54.457Z"
   },
   {
    "duration": 2577,
    "start_time": "2024-05-21T10:17:54.477Z"
   },
   {
    "duration": 54,
    "start_time": "2024-05-21T10:17:57.056Z"
   },
   {
    "duration": 967,
    "start_time": "2024-05-21T10:17:57.111Z"
   },
   {
    "duration": 2360,
    "start_time": "2024-05-21T10:17:58.079Z"
   },
   {
    "duration": 51,
    "start_time": "2024-05-21T10:18:00.441Z"
   },
   {
    "duration": 1052,
    "start_time": "2024-05-21T10:18:00.494Z"
   },
   {
    "duration": 3041,
    "start_time": "2024-05-21T10:18:01.548Z"
   },
   {
    "duration": 59,
    "start_time": "2024-05-21T10:18:04.591Z"
   },
   {
    "duration": 176,
    "start_time": "2024-05-21T10:18:04.653Z"
   },
   {
    "duration": 23,
    "start_time": "2024-05-21T10:18:04.831Z"
   },
   {
    "duration": 21,
    "start_time": "2024-05-21T10:18:04.856Z"
   },
   {
    "duration": 3,
    "start_time": "2024-05-21T10:18:04.879Z"
   },
   {
    "duration": 33,
    "start_time": "2024-05-21T10:18:04.883Z"
   },
   {
    "duration": 21,
    "start_time": "2024-05-21T10:18:04.919Z"
   },
   {
    "duration": 365,
    "start_time": "2024-05-21T10:18:04.945Z"
   },
   {
    "duration": 676,
    "start_time": "2024-05-21T10:18:05.312Z"
   },
   {
    "duration": 671,
    "start_time": "2024-05-21T10:18:05.992Z"
   },
   {
    "duration": 373,
    "start_time": "2024-05-21T10:18:06.665Z"
   },
   {
    "duration": 748,
    "start_time": "2024-05-21T10:18:07.040Z"
   },
   {
    "duration": 703,
    "start_time": "2024-05-21T10:18:07.790Z"
   },
   {
    "duration": 444,
    "start_time": "2024-05-21T10:18:08.495Z"
   },
   {
    "duration": 826,
    "start_time": "2024-05-21T10:18:08.941Z"
   },
   {
    "duration": 852,
    "start_time": "2024-05-21T10:18:09.772Z"
   },
   {
    "duration": 4,
    "start_time": "2024-05-21T10:18:10.626Z"
   },
   {
    "duration": 58,
    "start_time": "2024-05-21T10:18:10.634Z"
   },
   {
    "duration": 33,
    "start_time": "2024-05-21T10:18:10.695Z"
   },
   {
    "duration": 48,
    "start_time": "2024-05-21T10:18:10.731Z"
   },
   {
    "duration": 9,
    "start_time": "2024-05-21T10:18:10.781Z"
   },
   {
    "duration": 74,
    "start_time": "2024-05-21T10:18:10.792Z"
   },
   {
    "duration": 54,
    "start_time": "2024-05-21T10:18:10.870Z"
   },
   {
    "duration": 69,
    "start_time": "2024-05-21T10:18:10.926Z"
   },
   {
    "duration": 10,
    "start_time": "2024-05-21T10:18:10.997Z"
   },
   {
    "duration": 19,
    "start_time": "2024-05-21T10:18:11.009Z"
   },
   {
    "duration": 45,
    "start_time": "2024-05-21T10:18:11.030Z"
   },
   {
    "duration": 3479,
    "start_time": "2024-05-21T10:18:11.077Z"
   }
  ],
  "kernelspec": {
   "display_name": "Python 3 (ipykernel)",
   "language": "python",
   "name": "python3"
  },
  "language_info": {
   "codemirror_mode": {
    "name": "ipython",
    "version": 3
   },
   "file_extension": ".py",
   "mimetype": "text/x-python",
   "name": "python",
   "nbconvert_exporter": "python",
   "pygments_lexer": "ipython3",
   "version": "3.9.5"
  },
  "toc": {
   "base_numbering": 1,
   "nav_menu": {},
   "number_sections": true,
   "sideBar": true,
   "skip_h1_title": true,
   "title_cell": "Table of Contents",
   "title_sidebar": "Contents",
   "toc_cell": false,
   "toc_position": {},
   "toc_section_display": true,
   "toc_window_display": false
  }
 },
 "nbformat": 4,
 "nbformat_minor": 2
}
