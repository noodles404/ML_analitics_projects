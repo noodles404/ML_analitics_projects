{
 "cells": [
  {
   "cell_type": "markdown",
   "metadata": {},
   "source": [
    "\n",
    "Привет, меня зовут Люман Аблаев. Сегодня я проверю твой проект.\n",
    "<br> Дальнейшее общение будет происходить на \"ты\" если это не вызывает никаких проблем.\n",
    "<br> Желательно реагировать на красные комментарии ('исправил', 'не понятно как исправить ошибку', ...)\n",
    "<br> Пожалуйста, не удаляй комментарии ревьюера, так как они повышают качество повторного ревью.\n",
    "\n",
    "Комментарии будут в <font color='green'>зеленой</font>, <font color='blue'>синей</font> или <font color='red'>красной</font> рамках:\n",
    "\n",
    "\n",
    "<div class=\"alert alert-block alert-success\">\n",
    "<b>Успех:</b> Если все сделано отлично\n",
    "</div>\n",
    "\n",
    "<div class=\"alert alert-block alert-info\">\n",
    "<b>Совет: </b> Если можно немного улучшить\n",
    "</div>\n",
    "\n",
    "<div class=\"alert alert-block alert-danger\">\n",
    "<b>Ошибка:</b> Если требуются исправления. Работа не может быть принята с красными комментариями.\n",
    "</div>\n",
    "\n",
    "-------------------\n",
    "\n",
    "Будет очень хорошо, если ты будешь помечать свои действия следующим образом:\n",
    "<div class=\"alert alert-block alert-warning\">\n",
    "<b>Комментарий студента:</b> ...\n",
    "</div>\n",
    "\n",
    "<div class=\"alert alert-block alert-warning\">\n",
    "<b>Изменения:</b> Были внесены следующие изменения ...\n",
    "</div>\n",
    "\n",
    "\n",
    "\n",
    "\n",
    "\n",
    "\n",
    "\n",
    "<font color='orange' style='font-size:24px; font-weight:bold'>Общее впечатление</font>\n",
    "* Спасибо за очень качественную работу - видно, что вложено много труда.\n",
    "- Я оставил некоторые советы, надеюсь они будут полезными и интересными\n",
    "- Есть некоторые недочеты, которые нужно поправить, но у тебя это не должно занять много времени)\n",
    "- Жду обновленную работу\n"
   ]
  },
  {
   "cell_type": "markdown",
   "metadata": {},
   "source": [
    "<font color='orange' style='font-size:24px; font-weight:bold'>Общее впечатление[2]</font>\n",
    "* Спасибо за оперативность\n",
    "- Приятно видеть фидбек \n",
    "- Недочеты исправлены - работа полностью корректна\n",
    "- Рад был быть полезен. Удачи в дальнейшем обучении!\n"
   ]
  },
  {
   "cell_type": "markdown",
   "metadata": {},
   "source": [
    "# Определение стоимости автомобилей"
   ]
  },
  {
   "cell_type": "markdown",
   "metadata": {},
   "source": [
    "Сервис по продаже автомобилей с пробегом «Не бит, не крашен» разрабатывает приложение для привлечения новых клиентов. В нём можно быстро узнать рыночную стоимость своего автомобиля. В вашем распоряжении исторические данные: технические характеристики, комплектации и цены автомобилей. Вам нужно построить модель для определения стоимости. \n",
    "\n",
    "Заказчику важны:\n",
    "\n",
    "- качество предсказания;\n",
    "- скорость предсказания;\n",
    "- время обучения."
   ]
  },
  {
   "cell_type": "code",
   "execution_count": 1,
   "metadata": {},
   "outputs": [],
   "source": [
    "!pip install -Uq scikit-learn -q\n",
    "!pip install phik -q\n",
    "!pip install shap -q \n",
    "!pip install lightgbm -q\n",
    "!pip install catboost -q\n",
    "!pip install xgboost -q"
   ]
  },
  {
   "cell_type": "code",
   "execution_count": 2,
   "metadata": {},
   "outputs": [],
   "source": [
    "import pandas as pd\n",
    "import numpy as np \n",
    "import seaborn as sns\n",
    "import matplotlib.pyplot as plt\n",
    "from statistics import mode\n",
    "\n",
    "from phik import phik_matrix\n",
    "\n",
    "from sklearn.model_selection import train_test_split, GridSearchCV, RandomizedSearchCV, cross_val_score\n",
    "from sklearn.preprocessing import (StandardScaler, \n",
    "                                   MinMaxScaler, \n",
    "                                   RobustScaler,\n",
    "                                   PolynomialFeatures, \n",
    "                                   OneHotEncoder,\n",
    "                                   OrdinalEncoder, \n",
    "                                   LabelEncoder)\n",
    "\n",
    "from sklearn.pipeline import Pipeline\n",
    "from sklearn.compose import ColumnTransformer\n",
    "\n",
    "from sklearn.impute import SimpleImputer\n",
    "\n",
    "from sklearn.linear_model import LinearRegression\n",
    "from sklearn.metrics import mean_squared_error ,mean_absolute_error, r2_score, make_scorer, root_mean_squared_error\n",
    "\n",
    "from catboost import CatBoostRegressor\n",
    "from xgboost import XGBRegressor\n",
    "from lightgbm import LGBMRegressor\n",
    "\n",
    "from sklearn.tree import  DecisionTreeClassifier, DecisionTreeRegressor\n",
    "\n",
    "from warnings import simplefilter\n",
    "\n",
    "import shap\n",
    "from sklearn.feature_selection import SelectKBest, f_classif\n",
    "from sklearn.inspection import permutation_importance\n",
    "\n",
    "from phik.report import plot_correlation_matrix\n",
    "from phik import report\n",
    "\n",
    "import re"
   ]
  },
  {
   "cell_type": "markdown",
   "metadata": {},
   "source": [
    "\n",
    "<div class=\"alert alert-block alert-success\">\n",
    "<b>Успех:</b> Импорты  на месте\n",
    "</div>"
   ]
  },
  {
   "cell_type": "code",
   "execution_count": 3,
   "metadata": {},
   "outputs": [],
   "source": [
    "def research_vis_cat(df, df_features, palet):\n",
    "    \n",
    "    for feat in df_features:\n",
    "        \n",
    "        fig, ax = plt.subplots(1, 2, figsize=(15, 6))\n",
    "        \n",
    "        sns.countplot(df[feat], palette=palet, ax=ax[0])\n",
    "        \n",
    "        ax[0].set_xlabel(f'{df[feat].name}')\n",
    "        ax[0].set_ylabel('Количество')\n",
    "        ax[0].set_title(f'Cтолбчатая диаграмма {df[feat].name}', fontsize=12)\n",
    "        \n",
    "        ax[1].pie(df[feat].value_counts(normalize=True),\n",
    "                        labels=df[feat].value_counts().index, \n",
    "                        autopct='%1.1f%%', \n",
    "                        startangle=140,\n",
    "                        colors=sns.color_palette(palet),\n",
    "                        textprops={'color':'white'})\n",
    "        \n",
    "        ax[1].legend()\n",
    "        ax[1].set_title(f'Круговая диаграмма {df[feat].name}', fontsize=12)"
   ]
  },
  {
   "cell_type": "code",
   "execution_count": 4,
   "metadata": {},
   "outputs": [],
   "source": [
    "def researchvis_num_features(df, df_features, color):\n",
    "    \n",
    "    for feat in df_features:\n",
    "        \n",
    "        fig, ax = plt.subplots(1, 2, figsize=(15, 6))\n",
    "        sns.histplot(ax=ax[0], data=df, x=df[feat], kde=True, bins=30, color=color)\n",
    "            \n",
    "        ax[0].set_ylabel('Частота')\n",
    "        ax[0].set_title(f'Распределение показателей {df[feat].name}', fontsize=12)\n",
    "            \n",
    "        sns.boxplot(ax=ax[1], data=df, x=df[feat], color=color, medianprops={'color': \"darkred\", \"linewidth\": 2})\n",
    "        ax[1].set_title(f'Диаграмма размаха {df[feat].name}', fontsize = 12)"
   ]
  },
  {
   "cell_type": "code",
   "execution_count": 5,
   "metadata": {},
   "outputs": [],
   "source": [
    "def phik_features_matrix(df, interval_cols):\n",
    "    phik_overview = phik_matrix(df, interval_cols=interval_cols)\n",
    "\n",
    "    plot_correlation_matrix(\n",
    "           phik_overview.values,\n",
    "           x_labels=phik_overview.columns,\n",
    "           y_labels=phik_overview.index,\n",
    "          title=r\"Матрица корреляций $\\phi_K$\",\n",
    "          fontsize_factor=1.5,\n",
    "          figsize=(12, 9)\n",
    ")"
   ]
  },
  {
   "cell_type": "markdown",
   "metadata": {},
   "source": [
    "\n",
    "<div class=\"alert alert-block alert-success\">\n",
    "<b>Успех:</b> Хорошие помощники\n",
    "</div>"
   ]
  },
  {
   "cell_type": "markdown",
   "metadata": {},
   "source": [
    "## Подготовка данных"
   ]
  },
  {
   "cell_type": "code",
   "execution_count": 6,
   "metadata": {},
   "outputs": [
    {
     "data": {
      "text/html": [
       "<div>\n",
       "<style scoped>\n",
       "    .dataframe tbody tr th:only-of-type {\n",
       "        vertical-align: middle;\n",
       "    }\n",
       "\n",
       "    .dataframe tbody tr th {\n",
       "        vertical-align: top;\n",
       "    }\n",
       "\n",
       "    .dataframe thead th {\n",
       "        text-align: right;\n",
       "    }\n",
       "</style>\n",
       "<table border=\"1\" class=\"dataframe\">\n",
       "  <thead>\n",
       "    <tr style=\"text-align: right;\">\n",
       "      <th></th>\n",
       "      <th>DateCrawled</th>\n",
       "      <th>Price</th>\n",
       "      <th>VehicleType</th>\n",
       "      <th>RegistrationYear</th>\n",
       "      <th>Gearbox</th>\n",
       "      <th>Power</th>\n",
       "      <th>Model</th>\n",
       "      <th>Kilometer</th>\n",
       "      <th>RegistrationMonth</th>\n",
       "      <th>FuelType</th>\n",
       "      <th>Brand</th>\n",
       "      <th>Repaired</th>\n",
       "      <th>DateCreated</th>\n",
       "      <th>NumberOfPictures</th>\n",
       "      <th>PostalCode</th>\n",
       "      <th>LastSeen</th>\n",
       "    </tr>\n",
       "  </thead>\n",
       "  <tbody>\n",
       "    <tr>\n",
       "      <th>0</th>\n",
       "      <td>2016-03-24 11:52:17</td>\n",
       "      <td>480</td>\n",
       "      <td>NaN</td>\n",
       "      <td>1993</td>\n",
       "      <td>manual</td>\n",
       "      <td>0</td>\n",
       "      <td>golf</td>\n",
       "      <td>150000</td>\n",
       "      <td>0</td>\n",
       "      <td>petrol</td>\n",
       "      <td>volkswagen</td>\n",
       "      <td>NaN</td>\n",
       "      <td>2016-03-24 00:00:00</td>\n",
       "      <td>0</td>\n",
       "      <td>70435</td>\n",
       "      <td>2016-04-07 03:16:57</td>\n",
       "    </tr>\n",
       "    <tr>\n",
       "      <th>1</th>\n",
       "      <td>2016-03-24 10:58:45</td>\n",
       "      <td>18300</td>\n",
       "      <td>coupe</td>\n",
       "      <td>2011</td>\n",
       "      <td>manual</td>\n",
       "      <td>190</td>\n",
       "      <td>NaN</td>\n",
       "      <td>125000</td>\n",
       "      <td>5</td>\n",
       "      <td>gasoline</td>\n",
       "      <td>audi</td>\n",
       "      <td>yes</td>\n",
       "      <td>2016-03-24 00:00:00</td>\n",
       "      <td>0</td>\n",
       "      <td>66954</td>\n",
       "      <td>2016-04-07 01:46:50</td>\n",
       "    </tr>\n",
       "    <tr>\n",
       "      <th>2</th>\n",
       "      <td>2016-03-14 12:52:21</td>\n",
       "      <td>9800</td>\n",
       "      <td>suv</td>\n",
       "      <td>2004</td>\n",
       "      <td>auto</td>\n",
       "      <td>163</td>\n",
       "      <td>grand</td>\n",
       "      <td>125000</td>\n",
       "      <td>8</td>\n",
       "      <td>gasoline</td>\n",
       "      <td>jeep</td>\n",
       "      <td>NaN</td>\n",
       "      <td>2016-03-14 00:00:00</td>\n",
       "      <td>0</td>\n",
       "      <td>90480</td>\n",
       "      <td>2016-04-05 12:47:46</td>\n",
       "    </tr>\n",
       "    <tr>\n",
       "      <th>3</th>\n",
       "      <td>2016-03-17 16:54:04</td>\n",
       "      <td>1500</td>\n",
       "      <td>small</td>\n",
       "      <td>2001</td>\n",
       "      <td>manual</td>\n",
       "      <td>75</td>\n",
       "      <td>golf</td>\n",
       "      <td>150000</td>\n",
       "      <td>6</td>\n",
       "      <td>petrol</td>\n",
       "      <td>volkswagen</td>\n",
       "      <td>no</td>\n",
       "      <td>2016-03-17 00:00:00</td>\n",
       "      <td>0</td>\n",
       "      <td>91074</td>\n",
       "      <td>2016-03-17 17:40:17</td>\n",
       "    </tr>\n",
       "    <tr>\n",
       "      <th>4</th>\n",
       "      <td>2016-03-31 17:25:20</td>\n",
       "      <td>3600</td>\n",
       "      <td>small</td>\n",
       "      <td>2008</td>\n",
       "      <td>manual</td>\n",
       "      <td>69</td>\n",
       "      <td>fabia</td>\n",
       "      <td>90000</td>\n",
       "      <td>7</td>\n",
       "      <td>gasoline</td>\n",
       "      <td>skoda</td>\n",
       "      <td>no</td>\n",
       "      <td>2016-03-31 00:00:00</td>\n",
       "      <td>0</td>\n",
       "      <td>60437</td>\n",
       "      <td>2016-04-06 10:17:21</td>\n",
       "    </tr>\n",
       "  </tbody>\n",
       "</table>\n",
       "</div>"
      ],
      "text/plain": [
       "           DateCrawled  Price VehicleType  RegistrationYear Gearbox  Power  \\\n",
       "0  2016-03-24 11:52:17    480         NaN              1993  manual      0   \n",
       "1  2016-03-24 10:58:45  18300       coupe              2011  manual    190   \n",
       "2  2016-03-14 12:52:21   9800         suv              2004    auto    163   \n",
       "3  2016-03-17 16:54:04   1500       small              2001  manual     75   \n",
       "4  2016-03-31 17:25:20   3600       small              2008  manual     69   \n",
       "\n",
       "   Model  Kilometer  RegistrationMonth  FuelType       Brand Repaired  \\\n",
       "0   golf     150000                  0    petrol  volkswagen      NaN   \n",
       "1    NaN     125000                  5  gasoline        audi      yes   \n",
       "2  grand     125000                  8  gasoline        jeep      NaN   \n",
       "3   golf     150000                  6    petrol  volkswagen       no   \n",
       "4  fabia      90000                  7  gasoline       skoda       no   \n",
       "\n",
       "           DateCreated  NumberOfPictures  PostalCode             LastSeen  \n",
       "0  2016-03-24 00:00:00                 0       70435  2016-04-07 03:16:57  \n",
       "1  2016-03-24 00:00:00                 0       66954  2016-04-07 01:46:50  \n",
       "2  2016-03-14 00:00:00                 0       90480  2016-04-05 12:47:46  \n",
       "3  2016-03-17 00:00:00                 0       91074  2016-03-17 17:40:17  \n",
       "4  2016-03-31 00:00:00                 0       60437  2016-04-06 10:17:21  "
      ]
     },
     "execution_count": 6,
     "metadata": {},
     "output_type": "execute_result"
    }
   ],
   "source": [
    "df = pd.read_csv('/datasets/autos.csv')\n",
    "df.head()"
   ]
  },
  {
   "cell_type": "code",
   "execution_count": 7,
   "metadata": {},
   "outputs": [
    {
     "name": "stdout",
     "output_type": "stream",
     "text": [
      "<class 'pandas.core.frame.DataFrame'>\n",
      "RangeIndex: 354369 entries, 0 to 354368\n",
      "Data columns (total 16 columns):\n",
      " #   Column             Non-Null Count   Dtype \n",
      "---  ------             --------------   ----- \n",
      " 0   DateCrawled        354369 non-null  object\n",
      " 1   Price              354369 non-null  int64 \n",
      " 2   VehicleType        316879 non-null  object\n",
      " 3   RegistrationYear   354369 non-null  int64 \n",
      " 4   Gearbox            334536 non-null  object\n",
      " 5   Power              354369 non-null  int64 \n",
      " 6   Model              334664 non-null  object\n",
      " 7   Kilometer          354369 non-null  int64 \n",
      " 8   RegistrationMonth  354369 non-null  int64 \n",
      " 9   FuelType           321474 non-null  object\n",
      " 10  Brand              354369 non-null  object\n",
      " 11  Repaired           283215 non-null  object\n",
      " 12  DateCreated        354369 non-null  object\n",
      " 13  NumberOfPictures   354369 non-null  int64 \n",
      " 14  PostalCode         354369 non-null  int64 \n",
      " 15  LastSeen           354369 non-null  object\n",
      "dtypes: int64(7), object(9)\n",
      "memory usage: 43.3+ MB\n"
     ]
    }
   ],
   "source": [
    "df.info()"
   ]
  },
  {
   "cell_type": "markdown",
   "metadata": {},
   "source": [
    "#### Изучение пропусков"
   ]
  },
  {
   "cell_type": "code",
   "execution_count": 8,
   "metadata": {},
   "outputs": [
    {
     "data": {
      "text/plain": [
       "DateCrawled              0\n",
       "Price                    0\n",
       "VehicleType          37490\n",
       "RegistrationYear         0\n",
       "Gearbox              19833\n",
       "Power                    0\n",
       "Model                19705\n",
       "Kilometer                0\n",
       "RegistrationMonth        0\n",
       "FuelType             32895\n",
       "Brand                    0\n",
       "Repaired             71154\n",
       "DateCreated              0\n",
       "NumberOfPictures         0\n",
       "PostalCode               0\n",
       "LastSeen                 0\n",
       "dtype: int64"
      ]
     },
     "execution_count": 8,
     "metadata": {},
     "output_type": "execute_result"
    }
   ],
   "source": [
    "df.isna().sum()"
   ]
  },
  {
   "cell_type": "markdown",
   "metadata": {},
   "source": [
    "Кол-во пропусков в датасете как минимум превышает 20 % от общего числа, это действительно много.\n",
    "\n",
    "С пропусками в Model и FuelType будет сложнее всего разобраться. Моджель автомобиля должна совпадать с его маркой. Тип топлива же должен соответствовать аналогичным моделям, у которых есть забиси о топливе. В случае с остальными пропусками достаточно будет заполнить наиболее популярным значением."
   ]
  },
  {
   "cell_type": "code",
   "execution_count": 9,
   "metadata": {},
   "outputs": [
    {
     "name": "stdout",
     "output_type": "stream",
     "text": [
      "<class 'pandas.core.frame.DataFrame'>\n",
      "RangeIndex: 354369 entries, 0 to 354368\n",
      "Data columns (total 3 columns):\n",
      " #   Column       Non-Null Count   Dtype         \n",
      "---  ------       --------------   -----         \n",
      " 0   DateCrawled  354369 non-null  datetime64[ns]\n",
      " 1   DateCreated  354369 non-null  datetime64[ns]\n",
      " 2   LastSeen     354369 non-null  datetime64[ns]\n",
      "dtypes: datetime64[ns](3)\n",
      "memory usage: 8.1 MB\n"
     ]
    }
   ],
   "source": [
    "df = df.astype({'DateCrawled':'datetime64','DateCreated':'datetime64','LastSeen':'datetime64',},errors='ignore')\n",
    "df[['DateCrawled', 'DateCreated', 'LastSeen']].info()"
   ]
  },
  {
   "cell_type": "code",
   "execution_count": 10,
   "metadata": {},
   "outputs": [
    {
     "data": {
      "text/plain": [
       "4"
      ]
     },
     "execution_count": 10,
     "metadata": {},
     "output_type": "execute_result"
    }
   ],
   "source": [
    "df.duplicated().sum()"
   ]
  },
  {
   "cell_type": "code",
   "execution_count": 11,
   "metadata": {},
   "outputs": [],
   "source": [
    "df.drop_duplicates(inplace=True)"
   ]
  },
  {
   "cell_type": "markdown",
   "metadata": {},
   "source": [
    "Можно преступать к предобработке"
   ]
  },
  {
   "cell_type": "markdown",
   "metadata": {},
   "source": [
    "#### Обработка пропусков"
   ]
  },
  {
   "cell_type": "markdown",
   "metadata": {},
   "source": [
    "По типу топлива"
   ]
  },
  {
   "cell_type": "code",
   "execution_count": 12,
   "metadata": {},
   "outputs": [
    {
     "data": {
      "text/plain": [
       "7163"
      ]
     },
     "execution_count": 12,
     "metadata": {},
     "output_type": "execute_result"
    }
   ],
   "source": [
    "most_frequent_models = df.groupby(['Brand', 'Model'])['FuelType'].agg(lambda x: x.mode().iloc[0] if not x.mode().empty else None).reset_index()\n",
    "most_frequent_model_dict = {(row['Brand'], row['Model']): row['FuelType'] for _, row in most_frequent_models.iterrows()}\n",
    "\n",
    "def fill_missing_model(row):\n",
    "    if pd.isna(row['FuelType']):\n",
    "        return most_frequent_model_dict.get((row['Brand'], row['Model']), row['FuelType'])\n",
    "    return row['FuelType']\n",
    "\n",
    "df['FuelType'] = df.apply(fill_missing_model, axis=1)\n",
    "\n",
    "df['FuelType'].isna().sum()"
   ]
  },
  {
   "cell_type": "markdown",
   "metadata": {},
   "source": [
    "Оставшиеся пропуски из-за отсутствия пары по бренду и модели для тип топлива, можно заполнить остатки самым популярным значением"
   ]
  },
  {
   "cell_type": "code",
   "execution_count": 13,
   "metadata": {},
   "outputs": [
    {
     "data": {
      "text/plain": [
       "petrol      237182\n",
       "gasoline    103618\n",
       "lpg           5310\n",
       "cng            565\n",
       "hybrid         233\n",
       "other          204\n",
       "electric        90\n",
       "Name: FuelType, dtype: int64"
      ]
     },
     "execution_count": 13,
     "metadata": {},
     "output_type": "execute_result"
    }
   ],
   "source": [
    "df.FuelType.value_counts()"
   ]
  },
  {
   "cell_type": "code",
   "execution_count": 14,
   "metadata": {},
   "outputs": [],
   "source": [
    "df.FuelType.fillna('petrol', inplace=True)"
   ]
  },
  {
   "cell_type": "code",
   "execution_count": 15,
   "metadata": {},
   "outputs": [
    {
     "data": {
      "text/plain": [
       "petrol      244345\n",
       "gasoline    103618\n",
       "lpg           5310\n",
       "cng            565\n",
       "hybrid         233\n",
       "other          204\n",
       "electric        90\n",
       "Name: FuelType, dtype: int64"
      ]
     },
     "execution_count": 15,
     "metadata": {},
     "output_type": "execute_result"
    }
   ],
   "source": [
    "df.FuelType.value_counts()"
   ]
  },
  {
   "cell_type": "markdown",
   "metadata": {},
   "source": [
    "По модели"
   ]
  },
  {
   "cell_type": "code",
   "execution_count": 16,
   "metadata": {},
   "outputs": [
    {
     "data": {
      "text/html": [
       "<div>\n",
       "<style scoped>\n",
       "    .dataframe tbody tr th:only-of-type {\n",
       "        vertical-align: middle;\n",
       "    }\n",
       "\n",
       "    .dataframe tbody tr th {\n",
       "        vertical-align: top;\n",
       "    }\n",
       "\n",
       "    .dataframe thead th {\n",
       "        text-align: right;\n",
       "    }\n",
       "</style>\n",
       "<table border=\"1\" class=\"dataframe\">\n",
       "  <thead>\n",
       "    <tr style=\"text-align: right;\">\n",
       "      <th></th>\n",
       "      <th>Brand</th>\n",
       "      <th>Power</th>\n",
       "      <th>Model</th>\n",
       "    </tr>\n",
       "  </thead>\n",
       "  <tbody>\n",
       "    <tr>\n",
       "      <th>0</th>\n",
       "      <td>alfa_romeo</td>\n",
       "      <td>0</td>\n",
       "      <td>156</td>\n",
       "    </tr>\n",
       "    <tr>\n",
       "      <th>1</th>\n",
       "      <td>alfa_romeo</td>\n",
       "      <td>50</td>\n",
       "      <td>other</td>\n",
       "    </tr>\n",
       "    <tr>\n",
       "      <th>2</th>\n",
       "      <td>alfa_romeo</td>\n",
       "      <td>63</td>\n",
       "      <td>other</td>\n",
       "    </tr>\n",
       "    <tr>\n",
       "      <th>3</th>\n",
       "      <td>alfa_romeo</td>\n",
       "      <td>65</td>\n",
       "      <td>other</td>\n",
       "    </tr>\n",
       "    <tr>\n",
       "      <th>4</th>\n",
       "      <td>alfa_romeo</td>\n",
       "      <td>66</td>\n",
       "      <td>145</td>\n",
       "    </tr>\n",
       "    <tr>\n",
       "      <th>...</th>\n",
       "      <td>...</td>\n",
       "      <td>...</td>\n",
       "      <td>...</td>\n",
       "    </tr>\n",
       "    <tr>\n",
       "      <th>5427</th>\n",
       "      <td>volvo</td>\n",
       "      <td>300</td>\n",
       "      <td>v70</td>\n",
       "    </tr>\n",
       "    <tr>\n",
       "      <th>5428</th>\n",
       "      <td>volvo</td>\n",
       "      <td>315</td>\n",
       "      <td>xc_reihe</td>\n",
       "    </tr>\n",
       "    <tr>\n",
       "      <th>5429</th>\n",
       "      <td>volvo</td>\n",
       "      <td>1056</td>\n",
       "      <td>v40</td>\n",
       "    </tr>\n",
       "    <tr>\n",
       "      <th>5430</th>\n",
       "      <td>volvo</td>\n",
       "      <td>1162</td>\n",
       "      <td>v40</td>\n",
       "    </tr>\n",
       "    <tr>\n",
       "      <th>5431</th>\n",
       "      <td>volvo</td>\n",
       "      <td>2792</td>\n",
       "      <td>other</td>\n",
       "    </tr>\n",
       "  </tbody>\n",
       "</table>\n",
       "<p>5432 rows × 3 columns</p>\n",
       "</div>"
      ],
      "text/plain": [
       "           Brand  Power     Model\n",
       "0     alfa_romeo      0       156\n",
       "1     alfa_romeo     50     other\n",
       "2     alfa_romeo     63     other\n",
       "3     alfa_romeo     65     other\n",
       "4     alfa_romeo     66       145\n",
       "...          ...    ...       ...\n",
       "5427       volvo    300       v70\n",
       "5428       volvo    315  xc_reihe\n",
       "5429       volvo   1056       v40\n",
       "5430       volvo   1162       v40\n",
       "5431       volvo   2792     other\n",
       "\n",
       "[5432 rows x 3 columns]"
      ]
     },
     "execution_count": 16,
     "metadata": {},
     "output_type": "execute_result"
    }
   ],
   "source": [
    "most_frequent_models = df.groupby(['Brand', 'Power'])['Model'].agg(lambda x: x.mode().iloc[0] if not x.mode().empty else None).reset_index()\n",
    "most_frequent_models"
   ]
  },
  {
   "cell_type": "code",
   "execution_count": 17,
   "metadata": {},
   "outputs": [
    {
     "data": {
      "text/plain": [
       "3574"
      ]
     },
     "execution_count": 17,
     "metadata": {},
     "output_type": "execute_result"
    }
   ],
   "source": [
    "most_frequent_model_dict = {(row['Brand'], row['Power']): row['Model'] for _, row in most_frequent_models.iterrows()}\n",
    "\n",
    "def fill_missing_model(row):\n",
    "    if pd.isna(row['Model']):\n",
    "        return most_frequent_model_dict.get((row['Brand'], row['Power']), row['Model'])\n",
    "    return row['Model']\n",
    "\n",
    "df['Model'] = df.apply(fill_missing_model, axis=1)\n",
    "\n",
    "df['Model'].isna().sum()"
   ]
  },
  {
   "cell_type": "code",
   "execution_count": 18,
   "metadata": {},
   "outputs": [],
   "source": [
    "df['Model'].fillna('auto', inplace=True)"
   ]
  },
  {
   "cell_type": "code",
   "execution_count": 19,
   "metadata": {},
   "outputs": [
    {
     "data": {
      "text/plain": [
       "no     247158\n",
       "NaN     71154\n",
       "yes     36053\n",
       "Name: Repaired, dtype: int64"
      ]
     },
     "execution_count": 19,
     "metadata": {},
     "output_type": "execute_result"
    }
   ],
   "source": [
    "df.Repaired.value_counts(dropna=False)"
   ]
  },
  {
   "cell_type": "code",
   "execution_count": 20,
   "metadata": {},
   "outputs": [],
   "source": [
    "df.Repaired.fillna('no', inplace= True)"
   ]
  },
  {
   "cell_type": "code",
   "execution_count": 21,
   "metadata": {},
   "outputs": [],
   "source": [
    "df.Gearbox.fillna('manual', inplace=True)"
   ]
  },
  {
   "cell_type": "code",
   "execution_count": 22,
   "metadata": {},
   "outputs": [],
   "source": [
    "df['VehicleType'] = df['VehicleType'].fillna(df.groupby(['Model'])['VehicleType'].transform(lambda x: mode(x.dropna())))"
   ]
  },
  {
   "cell_type": "code",
   "execution_count": 23,
   "metadata": {
    "scrolled": true
   },
   "outputs": [
    {
     "data": {
      "text/plain": [
       "DateCrawled          0\n",
       "Price                0\n",
       "VehicleType          0\n",
       "RegistrationYear     0\n",
       "Gearbox              0\n",
       "Power                0\n",
       "Model                0\n",
       "Kilometer            0\n",
       "RegistrationMonth    0\n",
       "FuelType             0\n",
       "Brand                0\n",
       "Repaired             0\n",
       "DateCreated          0\n",
       "NumberOfPictures     0\n",
       "PostalCode           0\n",
       "LastSeen             0\n",
       "dtype: int64"
      ]
     },
     "execution_count": 23,
     "metadata": {},
     "output_type": "execute_result"
    }
   ],
   "source": [
    "df.isna().sum()"
   ]
  },
  {
   "cell_type": "markdown",
   "metadata": {},
   "source": [
    "Намучался с этими пропусками, мне бы более внятный алгоритм по работе с некоторыми отдельными, но в целом успех, можно двигшать дальше"
   ]
  },
  {
   "cell_type": "markdown",
   "metadata": {},
   "source": [
    "\n",
    "<div class=\"alert alert-block alert-success\">\n",
    "<b>Успех:</b>  Пропуски обработаны хорошим образом\n",
    "</div>\n"
   ]
  },
  {
   "cell_type": "markdown",
   "metadata": {},
   "source": [
    "### Исследовательский анализ данных"
   ]
  },
  {
   "cell_type": "code",
   "execution_count": 24,
   "metadata": {},
   "outputs": [],
   "source": [
    "df['FuelType'] = df['FuelType'].str.replace('gasoline', 'petrol')"
   ]
  },
  {
   "cell_type": "markdown",
   "metadata": {},
   "source": [
    "\n",
    "<div class=\"alert alert-block alert-success\">\n",
    "<b>Успех:</b> Правильное наблюдение, правда меня удивляет, что  среди категорий  нет дизеля\n",
    "</div>\n",
    "\n"
   ]
  },
  {
   "cell_type": "markdown",
   "metadata": {},
   "source": [
    "<div class=\"alert alert-block alert-info\">\n",
    "<b>Комментарий студента</b> Да, с дизелем бы возникла еще одна инетересная завивимость, с дизельной вариацией двигателя одной и той же модели авто обычно дешевле, бензинового.\n",
    "</div>"
   ]
  },
  {
   "cell_type": "markdown",
   "metadata": {},
   "source": [
    "<div class=\"alert alert-block alert-success\">\n",
    "    \n",
    "<b>Успех[2]:</b> Мне кажется, дизельные дороже бензиновых)\n",
    "</div>"
   ]
  },
  {
   "cell_type": "markdown",
   "metadata": {},
   "source": [
    "gasoline и petrol это и есть бензин"
   ]
  },
  {
   "cell_type": "code",
   "execution_count": 25,
   "metadata": {
    "scrolled": false
   },
   "outputs": [
    {
     "name": "stderr",
     "output_type": "stream",
     "text": [
      "/opt/conda/lib/python3.9/site-packages/seaborn/_decorators.py:36: FutureWarning: Pass the following variable as a keyword arg: x. From version 0.12, the only valid positional argument will be `data`, and passing other arguments without an explicit keyword will result in an error or misinterpretation.\n",
      "  warnings.warn(\n",
      "/opt/conda/lib/python3.9/site-packages/seaborn/_decorators.py:36: FutureWarning: Pass the following variable as a keyword arg: x. From version 0.12, the only valid positional argument will be `data`, and passing other arguments without an explicit keyword will result in an error or misinterpretation.\n",
      "  warnings.warn(\n",
      "/opt/conda/lib/python3.9/site-packages/seaborn/_decorators.py:36: FutureWarning: Pass the following variable as a keyword arg: x. From version 0.12, the only valid positional argument will be `data`, and passing other arguments without an explicit keyword will result in an error or misinterpretation.\n",
      "  warnings.warn(\n",
      "/tmp/ipykernel_31/1371176026.py:13: MatplotlibDeprecationWarning: normalize=None does not normalize if the sum is less than 1 but this behavior is deprecated since 3.3 until two minor releases later. After the deprecation period the default value will be normalize=True. To prevent normalization pass normalize=False \n",
      "  ax[1].pie(df[feat].value_counts(normalize=True),\n",
      "/opt/conda/lib/python3.9/site-packages/seaborn/_decorators.py:36: FutureWarning: Pass the following variable as a keyword arg: x. From version 0.12, the only valid positional argument will be `data`, and passing other arguments without an explicit keyword will result in an error or misinterpretation.\n",
      "  warnings.warn(\n",
      "/opt/conda/lib/python3.9/site-packages/seaborn/_decorators.py:36: FutureWarning: Pass the following variable as a keyword arg: x. From version 0.12, the only valid positional argument will be `data`, and passing other arguments without an explicit keyword will result in an error or misinterpretation.\n",
      "  warnings.warn(\n",
      "/opt/conda/lib/python3.9/site-packages/seaborn/_decorators.py:36: FutureWarning: Pass the following variable as a keyword arg: x. From version 0.12, the only valid positional argument will be `data`, and passing other arguments without an explicit keyword will result in an error or misinterpretation.\n",
      "  warnings.warn(\n"
     ]
    },
    {
     "data": {
      "image/png": "[encoded data removed]",
      "text/plain": [
       "<Figure size 1080x432 with 2 Axes>"
      ]
     },
     "metadata": {
      "needs_background": "light"
     },
     "output_type": "display_data"
    },
    {
     "data": {
      "image/png": "[encoded data removed]",
      "text/plain": [
       "<Figure size 1080x432 with 2 Axes>"
      ]
     },
     "metadata": {
      "needs_background": "light"
     },
     "output_type": "display_data"
    },
    {
     "data": {
      "image/png": "[encoded data removed]",
      "text/plain": [
       "<Figure size 1080x432 with 2 Axes>"
      ]
     },
     "metadata": {
      "needs_background": "light"
     },
     "output_type": "display_data"
    },
    {
     "data": {
      "image/png": "[encoded data removed]",
      "text/plain": [
       "<Figure size 1080x432 with 2 Axes>"
      ]
     },
     "metadata": {
      "needs_background": "light"
     },
     "output_type": "display_data"
    },
    {
     "data": {
      "image/png": "[encoded data removed]",
      "text/plain": [
       "<Figure size 1080x432 with 2 Axes>"
      ]
     },
     "metadata": {
      "needs_background": "light"
     },
     "output_type": "display_data"
    },
    {
     "data": {
      "image/png": "[encoded data removed]",
      "text/plain": [
       "<Figure size 1080x432 with 2 Axes>"
      ]
     },
     "metadata": {
      "needs_background": "light"
     },
     "output_type": "display_data"
    }
   ],
   "source": [
    "cat_cols = ['VehicleType', 'Gearbox', 'RegistrationMonth', 'Repaired', 'FuelType', 'NumberOfPictures']\n",
    "research_vis_cat(df, cat_cols, 'deep')"
   ]
  },
  {
   "cell_type": "markdown",
   "metadata": {},
   "source": [
    "Поскольку в некоторых категориальных признаках множество уникальных значений, я вынесу диаграммы по ним отдельно от шаблона. Для лучшей интерпретируемости ограничу и отсортирую выводимые значения."
   ]
  },
  {
   "cell_type": "code",
   "execution_count": 26,
   "metadata": {},
   "outputs": [
    {
     "data": {
      "text/plain": [
       "Text(0.5, 1.0, 'Топ 25 популярных марок автомобилей')"
      ]
     },
     "execution_count": 26,
     "metadata": {},
     "output_type": "execute_result"
    },
    {
     "data": {
      "image/png": "[encoded data removed]",
      "text/plain": [
       "<Figure size 1008x504 with 1 Axes>"
      ]
     },
     "metadata": {
      "needs_background": "light"
     },
     "output_type": "display_data"
    }
   ],
   "source": [
    "#sns.barplot(df.groupby('Brand').count(), x='Brand', y='count')\n",
    "df['Brand'].value_counts().sort_values(ascending=False)[:25].plot(kind='bar', legend=True, figsize=(14,7))\n",
    "plt.ylabel('Кол-во')\n",
    "plt.xlabel('Марка авто')\n",
    "plt.title('Топ 25 популярных марок автомобилей', fontsize=16)"
   ]
  },
  {
   "cell_type": "code",
   "execution_count": 27,
   "metadata": {},
   "outputs": [
    {
     "data": {
      "text/plain": [
       "Text(0.5, 1.0, 'Топ 25 популярных моделей автомобилей')"
      ]
     },
     "execution_count": 27,
     "metadata": {},
     "output_type": "execute_result"
    },
    {
     "data": {
      "image/png": "[encoded data removed]",
      "text/plain": [
       "<Figure size 1008x504 with 1 Axes>"
      ]
     },
     "metadata": {
      "needs_background": "light"
     },
     "output_type": "display_data"
    }
   ],
   "source": [
    "df['Model'].value_counts().sort_values(ascending=False)[:25].plot(kind='bar', legend=True, figsize=(14,7))\n",
    "plt.ylabel('Кол-во')\n",
    "plt.xlabel('Марка авто')\n",
    "plt.title('Топ 25 популярных моделей автомобилей', fontsize=16)"
   ]
  },
  {
   "cell_type": "code",
   "execution_count": 28,
   "metadata": {},
   "outputs": [
    {
     "data": {
      "text/plain": [
       "2016"
      ]
     },
     "execution_count": 28,
     "metadata": {},
     "output_type": "execute_result"
    }
   ],
   "source": [
    "df.DateCreated.dt.year.max()"
   ]
  },
  {
   "cell_type": "code",
   "execution_count": 29,
   "metadata": {},
   "outputs": [],
   "source": [
    "df = df.query('1970 < RegistrationYear <= 2016')"
   ]
  },
  {
   "cell_type": "code",
   "execution_count": 30,
   "metadata": {},
   "outputs": [
    {
     "data": {
      "text/plain": [
       "Text(0.5, 1.0, 'Топ 25 регистраций авто по годам')"
      ]
     },
     "execution_count": 30,
     "metadata": {},
     "output_type": "execute_result"
    },
    {
     "data": {
      "image/png": "[encoded data removed]",
      "text/plain": [
       "<Figure size 1008x504 with 1 Axes>"
      ]
     },
     "metadata": {
      "needs_background": "light"
     },
     "output_type": "display_data"
    }
   ],
   "source": [
    "df['RegistrationYear'].value_counts().sort_values(ascending=False)[:25].plot(kind='bar', legend=True, figsize=(14,7))\n",
    "plt.ylabel('Кол-во')\n",
    "plt.xlabel('Марка авто')\n",
    "plt.title('Топ 25 регистраций авто по годам', fontsize=16)"
   ]
  },
  {
   "cell_type": "markdown",
   "metadata": {},
   "source": [
    "Первичный вывод по категориальным признакам:\n",
    "\n",
    "    - Самый популярный тип кузова(VehiclelType) это sedan, small, wagon, совокупно занимаю 2/3 всех обьектов датасета. Признак важный и обязателен для обьявления, пользователи часто пользуются фильтром по типу кузова, чтобы найти подходящий авто.\n",
    "    \n",
    "    - Среди объявлений подавляющее кол-во машин с механической коробкой передач, признак Gearbox.\n",
    "    \n",
    "    - Значения по RegistrationMonth уравновешены и никакой пользы не представляют, дата регистрации обычно указана в документах, а доступ к ним покупатель получает непосредственно во время выхода на сделку в реале. Всё тоже самое можно сказать про признаки RegistrationYear. \n",
    "    \n",
    "    - 90 % автомобилей не ремонтировалось, что значит серьзного технического обслуживания с заменой множества деталей у них не было.\n",
    "    \n",
    "    - Абсолютное большинство автомобилей работает на бензине.\n",
    "    \n",
    "    - Признак кол-во фотографий интерпретировать трудно, логичнее будет удалить этот шум из датасета."
   ]
  },
  {
   "cell_type": "markdown",
   "metadata": {},
   "source": [
    "\n",
    "<div class=\"alert alert-block alert-success\">\n",
    "<b>Успех:</b> Неплохой осмотр данных\n",
    "</div>"
   ]
  },
  {
   "cell_type": "markdown",
   "metadata": {},
   "source": [
    "### Количественные признаки"
   ]
  },
  {
   "cell_type": "code",
   "execution_count": 31,
   "metadata": {},
   "outputs": [
    {
     "data": {
      "text/html": [
       "<div>\n",
       "<style scoped>\n",
       "    .dataframe tbody tr th:only-of-type {\n",
       "        vertical-align: middle;\n",
       "    }\n",
       "\n",
       "    .dataframe tbody tr th {\n",
       "        vertical-align: top;\n",
       "    }\n",
       "\n",
       "    .dataframe thead th {\n",
       "        text-align: right;\n",
       "    }\n",
       "</style>\n",
       "<table border=\"1\" class=\"dataframe\">\n",
       "  <thead>\n",
       "    <tr style=\"text-align: right;\">\n",
       "      <th></th>\n",
       "      <th>Price</th>\n",
       "      <th>RegistrationYear</th>\n",
       "      <th>Power</th>\n",
       "      <th>Kilometer</th>\n",
       "      <th>RegistrationMonth</th>\n",
       "      <th>NumberOfPictures</th>\n",
       "      <th>PostalCode</th>\n",
       "    </tr>\n",
       "  </thead>\n",
       "  <tbody>\n",
       "    <tr>\n",
       "      <th>count</th>\n",
       "      <td>338164.000000</td>\n",
       "      <td>338164.000000</td>\n",
       "      <td>338164.000000</td>\n",
       "      <td>338164.000000</td>\n",
       "      <td>338164.000000</td>\n",
       "      <td>338164.0</td>\n",
       "      <td>338164.000000</td>\n",
       "    </tr>\n",
       "    <tr>\n",
       "      <th>mean</th>\n",
       "      <td>4461.486211</td>\n",
       "      <td>2002.684375</td>\n",
       "      <td>111.216652</td>\n",
       "      <td>128336.561550</td>\n",
       "      <td>5.765924</td>\n",
       "      <td>0.0</td>\n",
       "      <td>50614.448132</td>\n",
       "    </tr>\n",
       "    <tr>\n",
       "      <th>std</th>\n",
       "      <td>4535.426539</td>\n",
       "      <td>6.385979</td>\n",
       "      <td>185.152479</td>\n",
       "      <td>37627.266831</td>\n",
       "      <td>3.706376</td>\n",
       "      <td>0.0</td>\n",
       "      <td>25796.921322</td>\n",
       "    </tr>\n",
       "    <tr>\n",
       "      <th>min</th>\n",
       "      <td>0.000000</td>\n",
       "      <td>1971.000000</td>\n",
       "      <td>0.000000</td>\n",
       "      <td>5000.000000</td>\n",
       "      <td>0.000000</td>\n",
       "      <td>0.0</td>\n",
       "      <td>1067.000000</td>\n",
       "    </tr>\n",
       "    <tr>\n",
       "      <th>25%</th>\n",
       "      <td>1099.000000</td>\n",
       "      <td>1999.000000</td>\n",
       "      <td>69.000000</td>\n",
       "      <td>125000.000000</td>\n",
       "      <td>3.000000</td>\n",
       "      <td>0.0</td>\n",
       "      <td>30173.000000</td>\n",
       "    </tr>\n",
       "    <tr>\n",
       "      <th>50%</th>\n",
       "      <td>2799.000000</td>\n",
       "      <td>2003.000000</td>\n",
       "      <td>105.000000</td>\n",
       "      <td>150000.000000</td>\n",
       "      <td>6.000000</td>\n",
       "      <td>0.0</td>\n",
       "      <td>49497.000000</td>\n",
       "    </tr>\n",
       "    <tr>\n",
       "      <th>75%</th>\n",
       "      <td>6500.000000</td>\n",
       "      <td>2007.000000</td>\n",
       "      <td>143.000000</td>\n",
       "      <td>150000.000000</td>\n",
       "      <td>9.000000</td>\n",
       "      <td>0.0</td>\n",
       "      <td>71229.000000</td>\n",
       "    </tr>\n",
       "    <tr>\n",
       "      <th>max</th>\n",
       "      <td>20000.000000</td>\n",
       "      <td>2016.000000</td>\n",
       "      <td>20000.000000</td>\n",
       "      <td>150000.000000</td>\n",
       "      <td>12.000000</td>\n",
       "      <td>0.0</td>\n",
       "      <td>99998.000000</td>\n",
       "    </tr>\n",
       "  </tbody>\n",
       "</table>\n",
       "</div>"
      ],
      "text/plain": [
       "               Price  RegistrationYear          Power      Kilometer  \\\n",
       "count  338164.000000     338164.000000  338164.000000  338164.000000   \n",
       "mean     4461.486211       2002.684375     111.216652  128336.561550   \n",
       "std      4535.426539          6.385979     185.152479   37627.266831   \n",
       "min         0.000000       1971.000000       0.000000    5000.000000   \n",
       "25%      1099.000000       1999.000000      69.000000  125000.000000   \n",
       "50%      2799.000000       2003.000000     105.000000  150000.000000   \n",
       "75%      6500.000000       2007.000000     143.000000  150000.000000   \n",
       "max     20000.000000       2016.000000   20000.000000  150000.000000   \n",
       "\n",
       "       RegistrationMonth  NumberOfPictures     PostalCode  \n",
       "count      338164.000000          338164.0  338164.000000  \n",
       "mean            5.765924               0.0   50614.448132  \n",
       "std             3.706376               0.0   25796.921322  \n",
       "min             0.000000               0.0    1067.000000  \n",
       "25%             3.000000               0.0   30173.000000  \n",
       "50%             6.000000               0.0   49497.000000  \n",
       "75%             9.000000               0.0   71229.000000  \n",
       "max            12.000000               0.0   99998.000000  "
      ]
     },
     "execution_count": 31,
     "metadata": {},
     "output_type": "execute_result"
    }
   ],
   "source": [
    "df.describe()"
   ]
  },
  {
   "cell_type": "code",
   "execution_count": 32,
   "metadata": {},
   "outputs": [
    {
     "data": {
      "text/html": [
       "<div>\n",
       "<style scoped>\n",
       "    .dataframe tbody tr th:only-of-type {\n",
       "        vertical-align: middle;\n",
       "    }\n",
       "\n",
       "    .dataframe tbody tr th {\n",
       "        vertical-align: top;\n",
       "    }\n",
       "\n",
       "    .dataframe thead th {\n",
       "        text-align: right;\n",
       "    }\n",
       "</style>\n",
       "<table border=\"1\" class=\"dataframe\">\n",
       "  <thead>\n",
       "    <tr style=\"text-align: right;\">\n",
       "      <th></th>\n",
       "      <th>count</th>\n",
       "      <th>mean</th>\n",
       "      <th>std</th>\n",
       "      <th>min</th>\n",
       "      <th>25%</th>\n",
       "      <th>50%</th>\n",
       "      <th>75%</th>\n",
       "      <th>max</th>\n",
       "    </tr>\n",
       "  </thead>\n",
       "  <tbody>\n",
       "    <tr>\n",
       "      <th>Price</th>\n",
       "      <td>338164.0</td>\n",
       "      <td>4461.486211</td>\n",
       "      <td>4535.426539</td>\n",
       "      <td>0.0</td>\n",
       "      <td>1099.0</td>\n",
       "      <td>2799.0</td>\n",
       "      <td>6500.0</td>\n",
       "      <td>20000.0</td>\n",
       "    </tr>\n",
       "    <tr>\n",
       "      <th>Power</th>\n",
       "      <td>338164.0</td>\n",
       "      <td>111.216652</td>\n",
       "      <td>185.152479</td>\n",
       "      <td>0.0</td>\n",
       "      <td>69.0</td>\n",
       "      <td>105.0</td>\n",
       "      <td>143.0</td>\n",
       "      <td>20000.0</td>\n",
       "    </tr>\n",
       "    <tr>\n",
       "      <th>Kilometer</th>\n",
       "      <td>338164.0</td>\n",
       "      <td>128336.561550</td>\n",
       "      <td>37627.266831</td>\n",
       "      <td>5000.0</td>\n",
       "      <td>125000.0</td>\n",
       "      <td>150000.0</td>\n",
       "      <td>150000.0</td>\n",
       "      <td>150000.0</td>\n",
       "    </tr>\n",
       "  </tbody>\n",
       "</table>\n",
       "</div>"
      ],
      "text/plain": [
       "              count           mean           std     min       25%       50%  \\\n",
       "Price      338164.0    4461.486211   4535.426539     0.0    1099.0    2799.0   \n",
       "Power      338164.0     111.216652    185.152479     0.0      69.0     105.0   \n",
       "Kilometer  338164.0  128336.561550  37627.266831  5000.0  125000.0  150000.0   \n",
       "\n",
       "                75%       max  \n",
       "Price        6500.0   20000.0  \n",
       "Power         143.0   20000.0  \n",
       "Kilometer  150000.0  150000.0  "
      ]
     },
     "execution_count": 32,
     "metadata": {},
     "output_type": "execute_result"
    }
   ],
   "source": [
    "num_cols=['Price', 'Power', 'Kilometer']\n",
    "df[num_cols].describe().T"
   ]
  },
  {
   "cell_type": "code",
   "execution_count": 33,
   "metadata": {},
   "outputs": [],
   "source": [
    "df = df.query('Price >= 100')"
   ]
  },
  {
   "cell_type": "code",
   "execution_count": 34,
   "metadata": {},
   "outputs": [
    {
     "data": {
      "image/png": "[encoded data removed]",
      "text/plain": [
       "<Figure size 1080x432 with 2 Axes>"
      ]
     },
     "metadata": {
      "needs_background": "light"
     },
     "output_type": "display_data"
    },
    {
     "data": {
      "image/png": "[encoded data removed]",
      "text/plain": [
       "<Figure size 1080x432 with 2 Axes>"
      ]
     },
     "metadata": {
      "needs_background": "light"
     },
     "output_type": "display_data"
    },
    {
     "data": {
      "image/png": "[encoded data removed]",
      "text/plain": [
       "<Figure size 1080x432 with 2 Axes>"
      ]
     },
     "metadata": {
      "needs_background": "light"
     },
     "output_type": "display_data"
    }
   ],
   "source": [
    "researchvis_num_features(df, num_cols, 'darkgreen')"
   ]
  },
  {
   "cell_type": "markdown",
   "metadata": {},
   "source": [
    "По цене авто и пробегу в км никаких нареканий нет, всё выглядит правдоподобно. Но есть явные проблемы с мощностью в л.с, с наличием аномалий с кол-вом лошадиных сил свыше 1000. Скорее всего это опечатка и эти данные не с ледует удалять, а попросту убрать лишние нули."
   ]
  },
  {
   "cell_type": "markdown",
   "metadata": {},
   "source": [
    "<div class=\"alert alert-block alert-info\">\n",
    "<b>Совет:</b>  А около-нулевые цены, не кажется подозрительными? Самое интересное, что на нескольких сайтов по продажам подержанных автомобилей в Германии (страну можно определить по почтовым индексам, большинство из них из Германии) показало, что цены начинаются действительно с 0 и 1 евро, но это единичные объявления и не понятно, то ли это ошибка при заполнении формы, то ли машины на металлолом. Но я  все-таки склоняюсь к тому, чтобы избавиться от таких данных\n",
    "</div>\n"
   ]
  },
  {
   "cell_type": "markdown",
   "metadata": {},
   "source": [
    "<div class=\"alert alert-block alert-info\">\n",
    "<b>Комментарий студента</b> Резонно, ценообразование у таких авто определить сложно, а еще сложнее предсказывать\n",
    "</div>"
   ]
  },
  {
   "cell_type": "markdown",
   "metadata": {},
   "source": [
    "\n",
    "<div class=\"alert alert-block alert-danger\">\n",
    "<b>Ошибка:</b> Упустил неадекватные значения в годе регистрации\n",
    "</div>"
   ]
  },
  {
   "cell_type": "markdown",
   "metadata": {},
   "source": [
    "<div class=\"alert alert-block alert-info\">\n",
    "<b>Комментарий студента</b> Подправил, действительно аномалия, я как-то провозился и забыл вернуться к этим моментам\n",
    "</div>"
   ]
  },
  {
   "cell_type": "markdown",
   "metadata": {},
   "source": [
    "<div class=\"alert alert-block alert-success\">\n",
    "    \n",
    "<b>Успех[2]:</b> Есть\n",
    "</div>"
   ]
  },
  {
   "cell_type": "code",
   "execution_count": 35,
   "metadata": {},
   "outputs": [],
   "source": [
    "def make_power_true(power):\n",
    "    \n",
    "    if 500<power<5_000:\n",
    "        return int(power/10)\n",
    "    \n",
    "    elif power>=5_000:\n",
    "        return int(power/100)\n",
    "    \n",
    "    else:\n",
    "        return power"
   ]
  },
  {
   "cell_type": "markdown",
   "metadata": {},
   "source": [
    "<div class=\"alert alert-block alert-info\">\n",
    "<b>Совет:</b> А около-нулевые мощности?\n",
    "</div>"
   ]
  },
  {
   "cell_type": "markdown",
   "metadata": {},
   "source": [
    "<div class=\"alert alert-block alert-info\">\n",
    "<b>Комментарий студента</b> Согласен, тогда поставлю мининимальное в 15 л.с, начнем с малолитражек)\n",
    "</div>"
   ]
  },
  {
   "cell_type": "markdown",
   "metadata": {},
   "source": [
    "\n",
    "<div class=\"alert alert-block alert-info\">\n",
    "<b>Совет[2]:</b>  Вопрос на подумать: Как думаешь а машины с 0-ой мощностью могут быть просто без двигателя?\n",
    "</div>\n"
   ]
  },
  {
   "cell_type": "code",
   "execution_count": 36,
   "metadata": {},
   "outputs": [],
   "source": [
    "df = df.query('Power >= 15')"
   ]
  },
  {
   "cell_type": "code",
   "execution_count": 37,
   "metadata": {},
   "outputs": [
    {
     "data": {
      "image/png": "[encoded data removed]",
      "text/plain": [
       "<Figure size 1080x432 with 2 Axes>"
      ]
     },
     "metadata": {
      "needs_background": "light"
     },
     "output_type": "display_data"
    }
   ],
   "source": [
    "df.Power = df.Power.apply(make_power_true)\n",
    "researchvis_num_features(df, ['Power'], 'darkgreen')"
   ]
  },
  {
   "cell_type": "markdown",
   "metadata": {},
   "source": [
    "### Корреляционный анализ"
   ]
  },
  {
   "cell_type": "markdown",
   "metadata": {},
   "source": [
    " Не помешает убрать из прогнозирования признаки связанные с датировкой обьявления, а также признаки с почтовым индексом и кол-вом фотографий в объявлении. Эти фичи не вносят никакого вклада в формирование цены"
   ]
  },
  {
   "cell_type": "code",
   "execution_count": 38,
   "metadata": {},
   "outputs": [
    {
     "data": {
      "image/png": "[encoded data removed]",
      "text/plain": [
       "<Figure size 864x648 with 2 Axes>"
      ]
     },
     "metadata": {
      "needs_background": "light"
     },
     "output_type": "display_data"
    }
   ],
   "source": [
    "df = df.drop(['DateCrawled', 'LastSeen', 'DateCreated', 'PostalCode', 'NumberOfPictures'], axis=1)\n",
    "phik_features_matrix(df, num_cols)"
   ]
  },
  {
   "cell_type": "markdown",
   "metadata": {},
   "source": [
    "\n",
    "<div class=\"alert alert-block alert-success\">\n",
    "<b>Успех:</b> Удалить неинформативные признаки - верное решение\n",
    "</div>"
   ]
  },
  {
   "cell_type": "markdown",
   "metadata": {},
   "source": [
    "В основном матрица корреляций выглядит штатно. Присутствует однозначная зависимость между маркой и моделью авто, что абсолютно логично. Можно оставить как есть, а можно обьеденить модели авто с соответсвующими им маркам автомобилей. Также присутсвует сильная корреляция между типом кузова и моделью, в чем нет никаких противоречий, Audi A4 это всегда седан, всё тоже самое и с остальными моделями. Корреляция по Фику между мощностью двигателя и моделью, также высока - 0.75, в этом нет ничего странного каждая модель имеет свой набор конфигураций двигателя. \n",
    "\n",
    "Также следует искулючить из датасета признаки с месяцем регистрации и типом топлива. Поскольку абсолютное большинство автомобилей в ген совокупности бензиновые."
   ]
  },
  {
   "cell_type": "markdown",
   "metadata": {},
   "source": [
    "<div class=\"alert alert-block alert-success\">\n",
    "<b>Успех:</b> С толпивом допустимое решение\n",
    "</div>\n"
   ]
  },
  {
   "cell_type": "markdown",
   "metadata": {},
   "source": [
    "\n",
    "<div class=\"alert alert-block alert-info\">\n",
    "<b>Совет:</b> Но не сильно соглсаен с тем, что удалять нужно и бренд и модель одновременно, я бы что-то из них отставил, например бренд . Ты удалил бренд, потому что есть зависимость с моделью, а модель удалил потому что есть зависимость с мощностью, но потом отмечаешь, что у каждой модели есть свои конфигурации, тогда зачем ее удалять?) \n",
    "</div>"
   ]
  },
  {
   "cell_type": "markdown",
   "metadata": {},
   "source": [
    "<div class=\"alert alert-block alert-info\">\n",
    "<b>Комментарий студента</b> Соглашусь, перебор)\n",
    "</div>"
   ]
  },
  {
   "cell_type": "markdown",
   "metadata": {},
   "source": [
    "<div class=\"alert alert-block alert-success\">\n",
    "    \n",
    "<b>Успех[2]:</b> 👍\n",
    "</div>"
   ]
  },
  {
   "cell_type": "code",
   "execution_count": 39,
   "metadata": {},
   "outputs": [
    {
     "data": {
      "image/png": "[encoded data removed]",
      "text/plain": [
       "<Figure size 864x648 with 2 Axes>"
      ]
     },
     "metadata": {
      "needs_background": "light"
     },
     "output_type": "display_data"
    }
   ],
   "source": [
    "df = df.drop(['RegistrationMonth', 'FuelType'], axis=1)\n",
    "df_matrix = df.drop(['Model'], axis=1)\n",
    "phik_features_matrix(df_matrix, num_cols)"
   ]
  },
  {
   "cell_type": "markdown",
   "metadata": {},
   "source": [
    "После заполнения множества пропусков и удаления колонок могло появиться множество неявных дубликатов, их следует удалить"
   ]
  },
  {
   "cell_type": "code",
   "execution_count": 40,
   "metadata": {},
   "outputs": [
    {
     "data": {
      "text/plain": [
       "51668"
      ]
     },
     "execution_count": 40,
     "metadata": {},
     "output_type": "execute_result"
    }
   ],
   "source": [
    "df.duplicated().sum()"
   ]
  },
  {
   "cell_type": "code",
   "execution_count": 41,
   "metadata": {
    "scrolled": true
   },
   "outputs": [
    {
     "name": "stdout",
     "output_type": "stream",
     "text": [
      "<class 'pandas.core.frame.DataFrame'>\n",
      "Int64Index: 242936 entries, 1 to 354368\n",
      "Data columns (total 9 columns):\n",
      " #   Column            Non-Null Count   Dtype \n",
      "---  ------            --------------   ----- \n",
      " 0   Price             242936 non-null  int64 \n",
      " 1   VehicleType       242936 non-null  object\n",
      " 2   RegistrationYear  242936 non-null  int64 \n",
      " 3   Gearbox           242936 non-null  object\n",
      " 4   Power             242936 non-null  int64 \n",
      " 5   Model             242936 non-null  object\n",
      " 6   Kilometer         242936 non-null  int64 \n",
      " 7   Brand             242936 non-null  object\n",
      " 8   Repaired          242936 non-null  object\n",
      "dtypes: int64(4), object(5)\n",
      "memory usage: 18.5+ MB\n"
     ]
    }
   ],
   "source": [
    "df.drop_duplicates(inplace=True)\n",
    "df.info()"
   ]
  },
  {
   "cell_type": "markdown",
   "metadata": {},
   "source": [
    "\n",
    "<div class=\"alert alert-block alert-success\">\n",
    "<b>Успех:</b> В целом хорошая, детальная предобработка - идем дальше\n",
    "</div>\n",
    "\n",
    "<div class=\"alert alert-block alert-info\">\n",
    "<b>Совет:</b> \n",
    "\n",
    " Советую обратить внимание на библиотеки sweetviz и ydata_profiling помогут в проведении более тщательного EDA анализа. Я использую их в своей работе для первичного осмотра данных, но это можно делать и с помощью ручного вызова функций дефолтных библиотек. Данные библиотеки хороши для максимизации комфорта презентации результатов анализа бизнес-пользователям. \n",
    "    \n",
    "Очень просты в использоовании, на вход кладется датафрейм: ydata_profiling.ProfileReport(df) \n",
    "</div>\n"
   ]
  },
  {
   "cell_type": "markdown",
   "metadata": {},
   "source": [
    "<div class=\"alert alert-block alert-info\">\n",
    "<b>Комментарий студента</b> Подправил, действительно аномалия, я как-то провозился и забыл вернуться к этим моментам\n",
    "</div>"
   ]
  },
  {
   "cell_type": "markdown",
   "metadata": {},
   "source": [
    "## Обучение моделей"
   ]
  },
  {
   "cell_type": "code",
   "execution_count": 42,
   "metadata": {},
   "outputs": [],
   "source": [
    "ohe_cols = ['Gearbox', 'Repaired']\n",
    "ord_cols = ['VehicleType', 'Model', 'Brand', 'RegistrationYear']\n",
    "cat_cols = ohe_cols+ord_cols\n",
    "num_cols = ['Kilometer', 'Power']\n",
    "RANDOM_STATE = 12345"
   ]
  },
  {
   "cell_type": "code",
   "execution_count": 43,
   "metadata": {},
   "outputs": [],
   "source": [
    "ord_pipe = Pipeline([\n",
    "    \n",
    "    ('simpleimputer_before_ord', SimpleImputer(missing_values=np.nan, strategy='most_frequent')),\n",
    "    ('ord', OrdinalEncoder(handle_unknown = 'use_encoded_value', unknown_value=np.nan)),\n",
    "        ( 'simpleImputer_after_ord', SimpleImputer(missing_values=np.nan, strategy='most_frequent')\n",
    "    )\n",
    "])"
   ]
  },
  {
   "cell_type": "code",
   "execution_count": 44,
   "metadata": {},
   "outputs": [],
   "source": [
    "ohe_pipe = Pipeline(\n",
    "    [( 'simpleImputer_ohe', SimpleImputer(missing_values=np.nan, strategy='most_frequent')),   \n",
    "    ( 'ohe', OneHotEncoder(drop='first', handle_unknown='ignore'))\n",
    "])"
   ]
  },
  {
   "cell_type": "code",
   "execution_count": 45,
   "metadata": {},
   "outputs": [],
   "source": [
    "preprocessor_cat = ColumnTransformer(\n",
    "    [\n",
    "        ('ohe', ohe_pipe, ohe_cols),\n",
    "        ('ord', ord_pipe, ord_cols),\n",
    "        ('num', StandardScaler(), num_cols)\n",
    "    ],\n",
    "    remainder='passthrough'\n",
    ")"
   ]
  },
  {
   "cell_type": "markdown",
   "metadata": {},
   "source": [
    "\n",
    "<div class=\"alert alert-block alert-success\">\n",
    "<b>Успех:</b> Микс из кодировщиков хорошее решение. "
   ]
  },
  {
   "cell_type": "code",
   "execution_count": 46,
   "metadata": {},
   "outputs": [],
   "source": [
    "pipe_final = Pipeline([\n",
    "    \n",
    "    ('preprocessor', preprocessor_cat),\n",
    "    ('models', DecisionTreeClassifier(random_state=RANDOM_STATE))\n",
    "])"
   ]
  },
  {
   "cell_type": "code",
   "execution_count": 47,
   "metadata": {},
   "outputs": [],
   "source": [
    "params_grid = [\n",
    "    {\n",
    "        'models': [LinearRegression()],\n",
    "        'preprocessor__num': [StandardScaler(), MinMaxScaler(), 'passthrough']  \n",
    "    }\n",
    "]"
   ]
  },
  {
   "cell_type": "code",
   "execution_count": 48,
   "metadata": {},
   "outputs": [],
   "source": [
    "params_rs = [\n",
    "    \n",
    "    {\n",
    "        'models': [CatBoostRegressor(random_state=RANDOM_STATE, verbose=10), \n",
    "                   LGBMRegressor(random_state=RANDOM_STATE)],\n",
    "        'models__learning_rate':  [0.1, 0.25], \n",
    "        'models__max_depth': [10, 12],\n",
    "        'models__n_estimators': [200], \n",
    "        'preprocessor__num': ['passthrough']\n",
    "    },\n",
    "\n",
    "    {\n",
    "        'models': [DecisionTreeRegressor(random_state=RANDOM_STATE)],\n",
    "        'models__max_depth': range(3, 5),\n",
    "        'models__min_samples_split': range(3, 5),\n",
    "        'models__min_samples_leaf': range(3, 5),\n",
    "        'preprocessor__num': ['passthrough']\n",
    "    }\n",
    "]"
   ]
  },
  {
   "cell_type": "code",
   "execution_count": 49,
   "metadata": {},
   "outputs": [],
   "source": [
    "X = df.drop(columns=['Price'])\n",
    "y = df['Price']\n",
    "X_train, X_test, y_train, y_test = train_test_split(X, y, random_state=RANDOM_STATE)"
   ]
  },
  {
   "cell_type": "code",
   "execution_count": 50,
   "metadata": {},
   "outputs": [],
   "source": [
    "rscv = GridSearchCV(\n",
    "    pipe_final,\n",
    "    param_grid=params_rs,\n",
    "    n_jobs=-1,\n",
    "    scoring='neg_root_mean_squared_error'\n",
    ")"
   ]
  },
  {
   "cell_type": "code",
   "execution_count": 51,
   "metadata": {
    "scrolled": true
   },
   "outputs": [
    {
     "name": "stderr",
     "output_type": "stream",
     "text": [
      "/opt/conda/lib/python3.9/site-packages/sklearn/model_selection/_split.py:776: UserWarning: The least populated class in y has only 1 members, which is less than n_splits=5.\n",
      "  warnings.warn(\n"
     ]
    },
    {
     "name": "stdout",
     "output_type": "stream",
     "text": [
      "0:\tlearn: 4355.2867966\ttotal: 90.8ms\tremaining: 18.1s\n",
      "10:\tlearn: 2581.4955597\ttotal: 432ms\tremaining: 7.42s\n",
      "20:\tlearn: 2084.6637334\ttotal: 773ms\tremaining: 6.59s\n",
      "30:\tlearn: 1919.7805422\ttotal: 1.12s\tremaining: 6.12s\n",
      "40:\tlearn: 1841.1372622\ttotal: 1.49s\tremaining: 5.78s\n",
      "50:\tlearn: 1799.6410844\ttotal: 1.87s\tremaining: 5.46s\n",
      "60:\tlearn: 1767.1546691\ttotal: 2.23s\tremaining: 5.09s\n",
      "70:\tlearn: 1742.3590145\ttotal: 2.58s\tremaining: 4.68s\n",
      "80:\tlearn: 1721.4194805\ttotal: 2.98s\tremaining: 4.37s\n",
      "90:\tlearn: 1705.6490463\ttotal: 3.43s\tremaining: 4.11s\n",
      "100:\tlearn: 1690.3349708\ttotal: 3.78s\tremaining: 3.71s\n",
      "110:\tlearn: 1676.9784149\ttotal: 4.13s\tremaining: 3.31s\n",
      "120:\tlearn: 1664.6656259\ttotal: 4.48s\tremaining: 2.93s\n",
      "130:\tlearn: 1653.4670079\ttotal: 4.84s\tremaining: 2.55s\n",
      "140:\tlearn: 1644.4314376\ttotal: 5.21s\tremaining: 2.18s\n",
      "150:\tlearn: 1636.2628956\ttotal: 5.56s\tremaining: 1.8s\n",
      "160:\tlearn: 1626.2031778\ttotal: 5.91s\tremaining: 1.43s\n",
      "170:\tlearn: 1619.3922190\ttotal: 6.25s\tremaining: 1.06s\n",
      "180:\tlearn: 1611.3742553\ttotal: 6.59s\tremaining: 692ms\n",
      "190:\tlearn: 1603.3202328\ttotal: 6.93s\tremaining: 327ms\n",
      "199:\tlearn: 1597.4177125\ttotal: 7.24s\tremaining: 0us\n",
      "0:\tlearn: 4355.7712780\ttotal: 34.8ms\tremaining: 6.92s\n",
      "10:\tlearn: 2570.1992504\ttotal: 408ms\tremaining: 7.01s\n",
      "20:\tlearn: 2078.9385124\ttotal: 744ms\tremaining: 6.34s\n",
      "30:\tlearn: 1911.2718694\ttotal: 1.12s\tremaining: 6.11s\n",
      "40:\tlearn: 1836.8637773\ttotal: 1.46s\tremaining: 5.68s\n",
      "50:\tlearn: 1793.2735809\ttotal: 1.81s\tremaining: 5.29s\n",
      "60:\tlearn: 1762.6622024\ttotal: 2.17s\tremaining: 4.95s\n",
      "70:\tlearn: 1737.6479239\ttotal: 2.52s\tremaining: 4.57s\n",
      "80:\tlearn: 1717.8819647\ttotal: 2.85s\tremaining: 4.19s\n",
      "90:\tlearn: 1699.6534522\ttotal: 3.19s\tremaining: 3.83s\n",
      "100:\tlearn: 1684.8530260\ttotal: 3.54s\tremaining: 3.48s\n",
      "110:\tlearn: 1670.9407919\ttotal: 3.88s\tremaining: 3.11s\n",
      "120:\tlearn: 1658.1491573\ttotal: 4.24s\tremaining: 2.77s\n",
      "130:\tlearn: 1646.9061300\ttotal: 4.58s\tremaining: 2.42s\n",
      "140:\tlearn: 1636.7775605\ttotal: 4.94s\tremaining: 2.06s\n",
      "150:\tlearn: 1627.4325483\ttotal: 5.28s\tremaining: 1.71s\n",
      "160:\tlearn: 1618.3963076\ttotal: 5.61s\tremaining: 1.36s\n",
      "170:\tlearn: 1609.7677138\ttotal: 5.95s\tremaining: 1.01s\n",
      "180:\tlearn: 1601.6716702\ttotal: 6.29s\tremaining: 660ms\n",
      "190:\tlearn: 1594.9236156\ttotal: 6.64s\tremaining: 313ms\n",
      "199:\tlearn: 1588.7287442\ttotal: 6.95s\tremaining: 0us\n",
      "0:\tlearn: 4355.6330063\ttotal: 32.8ms\tremaining: 6.53s\n",
      "10:\tlearn: 2576.1856375\ttotal: 367ms\tremaining: 6.3s\n",
      "20:\tlearn: 2081.8861437\ttotal: 730ms\tremaining: 6.22s\n",
      "30:\tlearn: 1915.7684091\ttotal: 1.07s\tremaining: 5.84s\n",
      "40:\tlearn: 1836.4359199\ttotal: 1.41s\tremaining: 5.46s\n",
      "50:\tlearn: 1795.7087008\ttotal: 1.75s\tremaining: 5.11s\n",
      "60:\tlearn: 1763.0523027\ttotal: 2.12s\tremaining: 4.82s\n",
      "70:\tlearn: 1739.5692134\ttotal: 2.46s\tremaining: 4.47s\n",
      "80:\tlearn: 1716.5839826\ttotal: 2.81s\tremaining: 4.13s\n",
      "90:\tlearn: 1699.8311208\ttotal: 3.17s\tremaining: 3.79s\n",
      "100:\tlearn: 1685.3393413\ttotal: 3.51s\tremaining: 3.44s\n",
      "110:\tlearn: 1672.8453567\ttotal: 3.86s\tremaining: 3.1s\n",
      "120:\tlearn: 1660.7423435\ttotal: 4.21s\tremaining: 2.75s\n",
      "130:\tlearn: 1648.9540081\ttotal: 4.57s\tremaining: 2.41s\n",
      "140:\tlearn: 1638.2763423\ttotal: 4.92s\tremaining: 2.06s\n",
      "150:\tlearn: 1628.6541667\ttotal: 5.28s\tremaining: 1.71s\n",
      "160:\tlearn: 1618.8388584\ttotal: 5.61s\tremaining: 1.36s\n",
      "170:\tlearn: 1610.6678247\ttotal: 5.96s\tremaining: 1.01s\n",
      "180:\tlearn: 1603.7853746\ttotal: 6.31s\tremaining: 662ms\n",
      "190:\tlearn: 1596.9710353\ttotal: 6.65s\tremaining: 313ms\n",
      "199:\tlearn: 1591.4239206\ttotal: 6.95s\tremaining: 0us\n",
      "0:\tlearn: 4357.1848827\ttotal: 38ms\tremaining: 7.56s\n",
      "10:\tlearn: 2578.9851688\ttotal: 385ms\tremaining: 6.62s\n",
      "20:\tlearn: 2083.7498751\ttotal: 729ms\tremaining: 6.21s\n",
      "30:\tlearn: 1912.3291074\ttotal: 1.07s\tremaining: 5.83s\n",
      "40:\tlearn: 1830.4433705\ttotal: 1.41s\tremaining: 5.48s\n",
      "50:\tlearn: 1790.3162578\ttotal: 1.78s\tremaining: 5.19s\n",
      "60:\tlearn: 1761.6866357\ttotal: 2.12s\tremaining: 4.84s\n",
      "70:\tlearn: 1736.9326909\ttotal: 2.47s\tremaining: 4.49s\n",
      "80:\tlearn: 1715.3407794\ttotal: 2.83s\tremaining: 4.16s\n",
      "90:\tlearn: 1697.9802480\ttotal: 3.17s\tremaining: 3.8s\n",
      "100:\tlearn: 1683.3995908\ttotal: 3.56s\tremaining: 3.49s\n",
      "110:\tlearn: 1671.0385898\ttotal: 3.92s\tremaining: 3.14s\n",
      "120:\tlearn: 1660.0616650\ttotal: 4.27s\tremaining: 2.79s\n",
      "130:\tlearn: 1649.4525472\ttotal: 4.62s\tremaining: 2.44s\n",
      "140:\tlearn: 1638.7800029\ttotal: 4.99s\tremaining: 2.09s\n",
      "150:\tlearn: 1630.0537713\ttotal: 5.34s\tremaining: 1.73s\n",
      "160:\tlearn: 1619.8561839\ttotal: 5.68s\tremaining: 1.38s\n",
      "170:\tlearn: 1612.7942269\ttotal: 6.04s\tremaining: 1.02s\n",
      "180:\tlearn: 1604.8070951\ttotal: 6.38s\tremaining: 670ms\n",
      "190:\tlearn: 1597.0659485\ttotal: 6.73s\tremaining: 317ms\n",
      "199:\tlearn: 1590.6248496\ttotal: 7.04s\tremaining: 0us\n",
      "0:\tlearn: 4356.1253622\ttotal: 33.2ms\tremaining: 6.61s\n",
      "10:\tlearn: 2576.7188319\ttotal: 380ms\tremaining: 6.53s\n",
      "20:\tlearn: 2088.0327245\ttotal: 727ms\tremaining: 6.2s\n",
      "30:\tlearn: 1918.0795872\ttotal: 1.07s\tremaining: 5.84s\n",
      "40:\tlearn: 1842.3422889\ttotal: 1.42s\tremaining: 5.52s\n",
      "50:\tlearn: 1797.5972759\ttotal: 1.76s\tremaining: 5.15s\n",
      "60:\tlearn: 1766.3176234\ttotal: 2.11s\tremaining: 4.8s\n",
      "70:\tlearn: 1742.3320493\ttotal: 2.44s\tremaining: 4.44s\n",
      "80:\tlearn: 1720.8141901\ttotal: 2.78s\tremaining: 4.08s\n",
      "90:\tlearn: 1702.7397833\ttotal: 3.13s\tremaining: 3.75s\n",
      "100:\tlearn: 1688.3653230\ttotal: 3.48s\tremaining: 3.41s\n",
      "110:\tlearn: 1675.9285136\ttotal: 3.82s\tremaining: 3.06s\n",
      "120:\tlearn: 1664.1734486\ttotal: 4.16s\tremaining: 2.72s\n",
      "130:\tlearn: 1653.4070099\ttotal: 4.51s\tremaining: 2.38s\n",
      "140:\tlearn: 1641.8861022\ttotal: 4.9s\tremaining: 2.05s\n",
      "150:\tlearn: 1633.6880955\ttotal: 5.25s\tremaining: 1.71s\n",
      "160:\tlearn: 1624.8508663\ttotal: 5.61s\tremaining: 1.36s\n",
      "170:\tlearn: 1616.0809309\ttotal: 5.96s\tremaining: 1.01s\n",
      "180:\tlearn: 1608.5714426\ttotal: 6.3s\tremaining: 662ms\n",
      "190:\tlearn: 1601.7106623\ttotal: 6.65s\tremaining: 313ms\n",
      "199:\tlearn: 1595.7047867\ttotal: 6.95s\tremaining: 0us\n",
      "0:\tlearn: 4345.7728223\ttotal: 65.8ms\tremaining: 13.1s\n",
      "10:\tlearn: 2516.8401229\ttotal: 692ms\tremaining: 11.9s\n",
      "20:\tlearn: 1998.6378060\ttotal: 1.3s\tremaining: 11.1s\n",
      "30:\tlearn: 1837.0599702\ttotal: 1.91s\tremaining: 10.4s\n",
      "40:\tlearn: 1765.3803911\ttotal: 2.51s\tremaining: 9.72s\n",
      "50:\tlearn: 1724.9959421\ttotal: 3.13s\tremaining: 9.13s\n",
      "60:\tlearn: 1696.5144063\ttotal: 3.73s\tremaining: 8.5s\n",
      "70:\tlearn: 1674.3175379\ttotal: 4.36s\tremaining: 7.92s\n",
      "80:\tlearn: 1650.8080144\ttotal: 5s\tremaining: 7.34s\n",
      "90:\tlearn: 1634.6578298\ttotal: 5.65s\tremaining: 6.76s\n",
      "100:\tlearn: 1618.2052018\ttotal: 6.3s\tremaining: 6.17s\n",
      "110:\tlearn: 1605.4143124\ttotal: 6.94s\tremaining: 5.56s\n",
      "120:\tlearn: 1591.7643509\ttotal: 7.55s\tremaining: 4.93s\n",
      "130:\tlearn: 1580.1876863\ttotal: 8.16s\tremaining: 4.3s\n",
      "140:\tlearn: 1571.0720441\ttotal: 8.79s\tremaining: 3.68s\n",
      "150:\tlearn: 1560.8489049\ttotal: 9.4s\tremaining: 3.05s\n",
      "160:\tlearn: 1550.6270247\ttotal: 10s\tremaining: 2.43s\n",
      "170:\tlearn: 1542.7544731\ttotal: 10.6s\tremaining: 1.8s\n",
      "180:\tlearn: 1534.9802700\ttotal: 11.2s\tremaining: 1.18s\n",
      "190:\tlearn: 1527.8476793\ttotal: 11.8s\tremaining: 558ms\n",
      "199:\tlearn: 1522.1480110\ttotal: 12.4s\tremaining: 0us\n",
      "0:\tlearn: 4346.3432447\ttotal: 60ms\tremaining: 11.9s\n",
      "10:\tlearn: 2506.5309623\ttotal: 680ms\tremaining: 11.7s\n",
      "20:\tlearn: 1999.8098447\ttotal: 1.29s\tremaining: 11s\n",
      "30:\tlearn: 1839.3982732\ttotal: 1.93s\tremaining: 10.5s\n",
      "40:\tlearn: 1769.8563788\ttotal: 2.57s\tremaining: 9.98s\n",
      "50:\tlearn: 1727.2890938\ttotal: 3.19s\tremaining: 9.3s\n",
      "60:\tlearn: 1697.6723904\ttotal: 3.79s\tremaining: 8.64s\n",
      "70:\tlearn: 1671.3317469\ttotal: 4.4s\tremaining: 8s\n",
      "80:\tlearn: 1649.4680773\ttotal: 5.04s\tremaining: 7.4s\n",
      "90:\tlearn: 1631.8093152\ttotal: 5.64s\tremaining: 6.76s\n",
      "100:\tlearn: 1618.7079003\ttotal: 6.2s\tremaining: 6.07s\n",
      "110:\tlearn: 1604.0562343\ttotal: 6.84s\tremaining: 5.48s\n",
      "120:\tlearn: 1591.4874065\ttotal: 7.47s\tremaining: 4.88s\n",
      "130:\tlearn: 1581.2598453\ttotal: 8.11s\tremaining: 4.27s\n",
      "140:\tlearn: 1570.4900242\ttotal: 8.75s\tremaining: 3.66s\n",
      "150:\tlearn: 1560.0449969\ttotal: 9.37s\tremaining: 3.04s\n",
      "160:\tlearn: 1550.6751138\ttotal: 9.99s\tremaining: 2.42s\n",
      "170:\tlearn: 1541.0894294\ttotal: 10.6s\tremaining: 1.8s\n",
      "180:\tlearn: 1533.4349925\ttotal: 11.2s\tremaining: 1.18s\n",
      "190:\tlearn: 1525.6540680\ttotal: 11.9s\tremaining: 559ms\n",
      "199:\tlearn: 1518.8637399\ttotal: 12.5s\tremaining: 0us\n",
      "0:\tlearn: 4345.6405252\ttotal: 58.5ms\tremaining: 11.6s\n",
      "10:\tlearn: 2503.4803892\ttotal: 672ms\tremaining: 11.5s\n",
      "20:\tlearn: 2009.0055384\ttotal: 1.28s\tremaining: 10.9s\n",
      "30:\tlearn: 1831.0422783\ttotal: 1.91s\tremaining: 10.4s\n",
      "40:\tlearn: 1760.7769280\ttotal: 2.51s\tremaining: 9.72s\n",
      "50:\tlearn: 1722.9898039\ttotal: 3.14s\tremaining: 9.17s\n",
      "60:\tlearn: 1695.2948942\ttotal: 3.75s\tremaining: 8.54s\n",
      "70:\tlearn: 1671.8118944\ttotal: 4.35s\tremaining: 7.91s\n",
      "80:\tlearn: 1651.2504872\ttotal: 4.97s\tremaining: 7.3s\n",
      "90:\tlearn: 1633.8929574\ttotal: 5.57s\tremaining: 6.67s\n",
      "100:\tlearn: 1619.3495252\ttotal: 6.21s\tremaining: 6.08s\n",
      "110:\tlearn: 1605.9833090\ttotal: 6.83s\tremaining: 5.47s\n",
      "120:\tlearn: 1592.9030632\ttotal: 7.47s\tremaining: 4.88s\n",
      "130:\tlearn: 1581.3550644\ttotal: 8.1s\tremaining: 4.26s\n",
      "140:\tlearn: 1570.1186916\ttotal: 8.76s\tremaining: 3.66s\n",
      "150:\tlearn: 1561.5373784\ttotal: 9.37s\tremaining: 3.04s\n",
      "160:\tlearn: 1552.9357337\ttotal: 9.99s\tremaining: 2.42s\n",
      "170:\tlearn: 1544.0140112\ttotal: 10.6s\tremaining: 1.8s\n",
      "180:\tlearn: 1535.0101365\ttotal: 11.2s\tremaining: 1.18s\n",
      "190:\tlearn: 1526.4596276\ttotal: 11.9s\tremaining: 559ms\n",
      "199:\tlearn: 1519.7825486\ttotal: 12.4s\tremaining: 0us\n",
      "0:\tlearn: 4347.6558079\ttotal: 62.3ms\tremaining: 12.4s\n",
      "10:\tlearn: 2509.6822103\ttotal: 709ms\tremaining: 12.2s\n",
      "20:\tlearn: 2008.0743374\ttotal: 1.32s\tremaining: 11.3s\n",
      "30:\tlearn: 1835.7626532\ttotal: 1.93s\tremaining: 10.5s\n",
      "40:\tlearn: 1767.3190241\ttotal: 2.54s\tremaining: 9.84s\n",
      "50:\tlearn: 1727.5528368\ttotal: 3.13s\tremaining: 9.15s\n",
      "60:\tlearn: 1697.8132833\ttotal: 3.77s\tremaining: 8.58s\n",
      "70:\tlearn: 1672.6335052\ttotal: 4.49s\tremaining: 8.15s\n",
      "80:\tlearn: 1653.7129508\ttotal: 5.14s\tremaining: 7.55s\n",
      "90:\tlearn: 1636.6221206\ttotal: 5.78s\tremaining: 6.92s\n",
      "100:\tlearn: 1620.1325006\ttotal: 6.42s\tremaining: 6.29s\n",
      "110:\tlearn: 1607.4739926\ttotal: 7.05s\tremaining: 5.66s\n",
      "120:\tlearn: 1594.6851626\ttotal: 7.67s\tremaining: 5.01s\n",
      "130:\tlearn: 1582.3320343\ttotal: 8.27s\tremaining: 4.36s\n",
      "140:\tlearn: 1571.7171937\ttotal: 8.91s\tremaining: 3.73s\n",
      "150:\tlearn: 1562.3080242\ttotal: 9.54s\tremaining: 3.1s\n",
      "160:\tlearn: 1553.5036203\ttotal: 10.2s\tremaining: 2.46s\n",
      "170:\tlearn: 1544.2268012\ttotal: 10.8s\tremaining: 1.82s\n",
      "180:\tlearn: 1535.5781966\ttotal: 11.4s\tremaining: 1.19s\n",
      "190:\tlearn: 1527.6080296\ttotal: 12s\tremaining: 565ms\n",
      "199:\tlearn: 1521.0917279\ttotal: 12.5s\tremaining: 0us\n",
      "0:\tlearn: 4346.5704318\ttotal: 84.1ms\tremaining: 16.7s\n",
      "10:\tlearn: 2514.9143799\ttotal: 724ms\tremaining: 12.4s\n",
      "20:\tlearn: 2015.1955642\ttotal: 1.33s\tremaining: 11.4s\n",
      "30:\tlearn: 1839.0482274\ttotal: 1.94s\tremaining: 10.6s\n",
      "40:\tlearn: 1768.5647372\ttotal: 2.58s\tremaining: 10s\n",
      "50:\tlearn: 1728.4471160\ttotal: 3.2s\tremaining: 9.36s\n",
      "60:\tlearn: 1699.5544507\ttotal: 3.83s\tremaining: 8.74s\n",
      "70:\tlearn: 1677.4487223\ttotal: 4.46s\tremaining: 8.1s\n",
      "80:\tlearn: 1655.6584926\ttotal: 5.1s\tremaining: 7.5s\n",
      "90:\tlearn: 1639.8690613\ttotal: 5.71s\tremaining: 6.84s\n",
      "100:\tlearn: 1624.0803600\ttotal: 6.32s\tremaining: 6.19s\n",
      "110:\tlearn: 1611.3293890\ttotal: 6.93s\tremaining: 5.56s\n",
      "120:\tlearn: 1599.2335060\ttotal: 7.57s\tremaining: 4.94s\n",
      "130:\tlearn: 1587.4786680\ttotal: 8.18s\tremaining: 4.31s\n",
      "140:\tlearn: 1576.8211583\ttotal: 8.79s\tremaining: 3.68s\n",
      "150:\tlearn: 1567.1680390\ttotal: 9.42s\tremaining: 3.06s\n",
      "160:\tlearn: 1557.7969897\ttotal: 10.1s\tremaining: 2.44s\n",
      "170:\tlearn: 1548.9714456\ttotal: 10.7s\tremaining: 1.82s\n",
      "180:\tlearn: 1539.7844115\ttotal: 11.4s\tremaining: 1.19s\n",
      "190:\tlearn: 1532.3054931\ttotal: 12s\tremaining: 565ms\n",
      "199:\tlearn: 1525.2394246\ttotal: 12.6s\tremaining: 0us\n",
      "0:\tlearn: 3875.1593014\ttotal: 32.7ms\tremaining: 6.5s\n",
      "10:\tlearn: 1961.1738582\ttotal: 373ms\tremaining: 6.41s\n",
      "20:\tlearn: 1795.4719309\ttotal: 727ms\tremaining: 6.2s\n",
      "30:\tlearn: 1735.1946890\ttotal: 1.07s\tremaining: 5.84s\n",
      "40:\tlearn: 1697.8912090\ttotal: 1.41s\tremaining: 5.46s\n",
      "50:\tlearn: 1667.7435334\ttotal: 1.75s\tremaining: 5.1s\n",
      "60:\tlearn: 1642.3519517\ttotal: 2.09s\tremaining: 4.76s\n",
      "70:\tlearn: 1620.9914673\ttotal: 2.43s\tremaining: 4.41s\n",
      "80:\tlearn: 1600.8054696\ttotal: 2.76s\tremaining: 4.06s\n",
      "90:\tlearn: 1584.0324395\ttotal: 3.1s\tremaining: 3.72s\n",
      "100:\tlearn: 1568.5353968\ttotal: 3.44s\tremaining: 3.38s\n",
      "110:\tlearn: 1554.2424207\ttotal: 3.78s\tremaining: 3.03s\n",
      "120:\tlearn: 1542.9517991\ttotal: 4.12s\tremaining: 2.69s\n",
      "130:\tlearn: 1531.1520819\ttotal: 4.48s\tremaining: 2.36s\n",
      "140:\tlearn: 1521.2339113\ttotal: 4.83s\tremaining: 2.02s\n",
      "150:\tlearn: 1512.6143247\ttotal: 5.18s\tremaining: 1.68s\n",
      "160:\tlearn: 1503.3880751\ttotal: 5.53s\tremaining: 1.34s\n",
      "170:\tlearn: 1494.6453944\ttotal: 5.91s\tremaining: 1s\n",
      "180:\tlearn: 1486.3413126\ttotal: 6.26s\tremaining: 658ms\n",
      "190:\tlearn: 1479.0478974\ttotal: 6.63s\tremaining: 313ms\n",
      "199:\tlearn: 1473.2457494\ttotal: 6.96s\tremaining: 0us\n",
      "0:\tlearn: 3874.8925158\ttotal: 33ms\tremaining: 6.57s\n",
      "10:\tlearn: 1944.6370443\ttotal: 405ms\tremaining: 6.95s\n",
      "20:\tlearn: 1795.6249562\ttotal: 835ms\tremaining: 7.12s\n",
      "30:\tlearn: 1727.3147744\ttotal: 1.25s\tremaining: 6.8s\n",
      "40:\tlearn: 1690.5621134\ttotal: 1.6s\tremaining: 6.21s\n",
      "50:\tlearn: 1656.8228587\ttotal: 1.95s\tremaining: 5.69s\n",
      "60:\tlearn: 1633.7490942\ttotal: 2.32s\tremaining: 5.29s\n",
      "70:\tlearn: 1611.5451153\ttotal: 2.69s\tremaining: 4.89s\n",
      "80:\tlearn: 1591.8762295\ttotal: 3.05s\tremaining: 4.48s\n",
      "90:\tlearn: 1576.0564073\ttotal: 3.41s\tremaining: 4.09s\n",
      "100:\tlearn: 1561.3073372\ttotal: 3.75s\tremaining: 3.67s\n",
      "110:\tlearn: 1549.4828038\ttotal: 4.08s\tremaining: 3.27s\n",
      "120:\tlearn: 1536.1577887\ttotal: 4.45s\tremaining: 2.9s\n",
      "130:\tlearn: 1525.1288166\ttotal: 4.79s\tremaining: 2.52s\n",
      "140:\tlearn: 1516.3139837\ttotal: 5.14s\tremaining: 2.15s\n",
      "150:\tlearn: 1507.3890308\ttotal: 5.48s\tremaining: 1.78s\n",
      "160:\tlearn: 1498.5865522\ttotal: 5.83s\tremaining: 1.41s\n",
      "170:\tlearn: 1490.7958552\ttotal: 6.17s\tremaining: 1.05s\n",
      "180:\tlearn: 1482.0213771\ttotal: 6.53s\tremaining: 685ms\n",
      "190:\tlearn: 1474.6840178\ttotal: 6.92s\tremaining: 326ms\n",
      "199:\tlearn: 1467.6814116\ttotal: 7.23s\tremaining: 0us\n",
      "0:\tlearn: 3874.7124858\ttotal: 33.1ms\tremaining: 6.58s\n",
      "10:\tlearn: 1944.7823124\ttotal: 422ms\tremaining: 7.25s\n",
      "20:\tlearn: 1788.2015810\ttotal: 757ms\tremaining: 6.45s\n",
      "30:\tlearn: 1733.7129968\ttotal: 1.12s\tremaining: 6.1s\n",
      "40:\tlearn: 1692.2951256\ttotal: 1.46s\tremaining: 5.65s\n",
      "50:\tlearn: 1659.3459406\ttotal: 1.79s\tremaining: 5.23s\n",
      "60:\tlearn: 1635.6065845\ttotal: 2.13s\tremaining: 4.86s\n",
      "70:\tlearn: 1614.6884566\ttotal: 2.48s\tremaining: 4.5s\n",
      "80:\tlearn: 1598.9048333\ttotal: 2.84s\tremaining: 4.17s\n",
      "90:\tlearn: 1583.4058395\ttotal: 3.17s\tremaining: 3.8s\n",
      "100:\tlearn: 1568.5892351\ttotal: 3.5s\tremaining: 3.44s\n",
      "110:\tlearn: 1555.9356968\ttotal: 3.88s\tremaining: 3.11s\n",
      "120:\tlearn: 1542.8453577\ttotal: 4.22s\tremaining: 2.75s\n",
      "130:\tlearn: 1531.3160994\ttotal: 4.56s\tremaining: 2.4s\n",
      "140:\tlearn: 1520.5386551\ttotal: 4.91s\tremaining: 2.06s\n",
      "150:\tlearn: 1510.5142046\ttotal: 5.26s\tremaining: 1.71s\n",
      "160:\tlearn: 1502.2299973\ttotal: 5.61s\tremaining: 1.36s\n",
      "170:\tlearn: 1493.0732947\ttotal: 5.96s\tremaining: 1.01s\n",
      "180:\tlearn: 1485.3525403\ttotal: 6.31s\tremaining: 663ms\n",
      "190:\tlearn: 1477.9168752\ttotal: 6.64s\tremaining: 313ms\n",
      "199:\tlearn: 1472.0885781\ttotal: 6.95s\tremaining: 0us\n",
      "0:\tlearn: 3876.1900443\ttotal: 33ms\tremaining: 6.57s\n",
      "10:\tlearn: 1954.7603878\ttotal: 370ms\tremaining: 6.35s\n",
      "20:\tlearn: 1797.6380721\ttotal: 724ms\tremaining: 6.17s\n",
      "30:\tlearn: 1736.4793479\ttotal: 1.06s\tremaining: 5.79s\n",
      "40:\tlearn: 1695.5576716\ttotal: 1.41s\tremaining: 5.48s\n",
      "50:\tlearn: 1664.4950953\ttotal: 1.74s\tremaining: 5.1s\n",
      "60:\tlearn: 1636.9159771\ttotal: 2.08s\tremaining: 4.74s\n",
      "70:\tlearn: 1616.3192847\ttotal: 2.44s\tremaining: 4.43s\n",
      "80:\tlearn: 1596.2455252\ttotal: 2.77s\tremaining: 4.08s\n",
      "90:\tlearn: 1580.8718662\ttotal: 3.11s\tremaining: 3.72s\n",
      "100:\tlearn: 1565.0026361\ttotal: 3.45s\tremaining: 3.38s\n",
      "110:\tlearn: 1550.1060680\ttotal: 3.79s\tremaining: 3.03s\n",
      "120:\tlearn: 1538.2657564\ttotal: 4.11s\tremaining: 2.68s\n",
      "130:\tlearn: 1527.4073914\ttotal: 4.47s\tremaining: 2.35s\n",
      "140:\tlearn: 1516.3884267\ttotal: 4.79s\tremaining: 2s\n",
      "150:\tlearn: 1507.7304226\ttotal: 5.12s\tremaining: 1.66s\n",
      "160:\tlearn: 1498.8390271\ttotal: 5.45s\tremaining: 1.32s\n",
      "170:\tlearn: 1489.6360461\ttotal: 5.81s\tremaining: 985ms\n",
      "180:\tlearn: 1481.6521328\ttotal: 6.14s\tremaining: 645ms\n",
      "190:\tlearn: 1472.4915849\ttotal: 6.47s\tremaining: 305ms\n",
      "199:\tlearn: 1465.5978733\ttotal: 6.77s\tremaining: 0us\n",
      "0:\tlearn: 3876.8370044\ttotal: 33.2ms\tremaining: 6.6s\n",
      "10:\tlearn: 1959.4843790\ttotal: 377ms\tremaining: 6.48s\n",
      "20:\tlearn: 1801.7428832\ttotal: 719ms\tremaining: 6.13s\n",
      "30:\tlearn: 1740.8672459\ttotal: 1.11s\tremaining: 6.08s\n",
      "40:\tlearn: 1702.4509903\ttotal: 1.46s\tremaining: 5.68s\n",
      "50:\tlearn: 1670.7834719\ttotal: 1.8s\tremaining: 5.27s\n",
      "60:\tlearn: 1643.3690476\ttotal: 2.16s\tremaining: 4.92s\n",
      "70:\tlearn: 1621.3614850\ttotal: 2.5s\tremaining: 4.54s\n",
      "80:\tlearn: 1604.7907530\ttotal: 2.83s\tremaining: 4.15s\n",
      "90:\tlearn: 1588.6679337\ttotal: 3.17s\tremaining: 3.79s\n",
      "100:\tlearn: 1574.3397449\ttotal: 3.52s\tremaining: 3.45s\n",
      "110:\tlearn: 1559.6195507\ttotal: 3.85s\tremaining: 3.08s\n",
      "120:\tlearn: 1548.7193129\ttotal: 4.18s\tremaining: 2.73s\n",
      "130:\tlearn: 1537.7202680\ttotal: 4.52s\tremaining: 2.38s\n",
      "140:\tlearn: 1529.7038780\ttotal: 4.85s\tremaining: 2.03s\n",
      "150:\tlearn: 1519.0685818\ttotal: 5.19s\tremaining: 1.69s\n",
      "160:\tlearn: 1509.1016631\ttotal: 5.54s\tremaining: 1.34s\n",
      "170:\tlearn: 1500.1360142\ttotal: 5.88s\tremaining: 997ms\n",
      "180:\tlearn: 1492.3951881\ttotal: 6.23s\tremaining: 654ms\n",
      "190:\tlearn: 1484.3887343\ttotal: 6.6s\tremaining: 311ms\n",
      "199:\tlearn: 1478.5905546\ttotal: 6.89s\tremaining: 0us\n",
      "0:\tlearn: 3850.1797731\ttotal: 58.7ms\tremaining: 11.7s\n",
      "10:\tlearn: 1870.3215256\ttotal: 665ms\tremaining: 11.4s\n",
      "20:\tlearn: 1732.6470381\ttotal: 1.27s\tremaining: 10.8s\n",
      "30:\tlearn: 1671.7279058\ttotal: 1.91s\tremaining: 10.4s\n",
      "40:\tlearn: 1631.2604042\ttotal: 2.5s\tremaining: 9.7s\n",
      "50:\tlearn: 1598.7027821\ttotal: 3.14s\tremaining: 9.17s\n",
      "60:\tlearn: 1569.8631445\ttotal: 3.74s\tremaining: 8.52s\n",
      "70:\tlearn: 1547.3289419\ttotal: 4.36s\tremaining: 7.92s\n",
      "80:\tlearn: 1525.5449774\ttotal: 4.95s\tremaining: 7.27s\n",
      "90:\tlearn: 1509.2345091\ttotal: 5.57s\tremaining: 6.67s\n",
      "100:\tlearn: 1492.2618123\ttotal: 6.15s\tremaining: 6.03s\n",
      "110:\tlearn: 1477.5439342\ttotal: 6.75s\tremaining: 5.42s\n",
      "120:\tlearn: 1464.7842140\ttotal: 7.36s\tremaining: 4.81s\n",
      "130:\tlearn: 1451.5395700\ttotal: 7.96s\tremaining: 4.2s\n",
      "140:\tlearn: 1441.0476041\ttotal: 8.56s\tremaining: 3.58s\n",
      "150:\tlearn: 1431.3450658\ttotal: 9.16s\tremaining: 2.97s\n",
      "160:\tlearn: 1421.9102653\ttotal: 9.75s\tremaining: 2.36s\n",
      "170:\tlearn: 1413.7789972\ttotal: 10.4s\tremaining: 1.75s\n",
      "180:\tlearn: 1405.0156919\ttotal: 11s\tremaining: 1.15s\n",
      "190:\tlearn: 1396.8235545\ttotal: 11.6s\tremaining: 544ms\n",
      "199:\tlearn: 1388.9092438\ttotal: 12.1s\tremaining: 0us\n",
      "0:\tlearn: 3850.1296759\ttotal: 60ms\tremaining: 11.9s\n",
      "10:\tlearn: 1857.6621963\ttotal: 668ms\tremaining: 11.5s\n",
      "20:\tlearn: 1723.8699233\ttotal: 1.29s\tremaining: 11s\n",
      "30:\tlearn: 1664.5539785\ttotal: 1.91s\tremaining: 10.4s\n",
      "40:\tlearn: 1621.1053833\ttotal: 2.51s\tremaining: 9.73s\n",
      "50:\tlearn: 1588.5114780\ttotal: 3.13s\tremaining: 9.13s\n",
      "60:\tlearn: 1559.8821752\ttotal: 3.73s\tremaining: 8.5s\n",
      "70:\tlearn: 1538.9868450\ttotal: 4.36s\tremaining: 7.91s\n",
      "80:\tlearn: 1519.1352245\ttotal: 4.97s\tremaining: 7.31s\n",
      "90:\tlearn: 1501.2139339\ttotal: 5.62s\tremaining: 6.73s\n",
      "100:\tlearn: 1485.9150646\ttotal: 6.23s\tremaining: 6.1s\n",
      "110:\tlearn: 1471.7027627\ttotal: 6.83s\tremaining: 5.48s\n",
      "120:\tlearn: 1457.7650157\ttotal: 7.44s\tremaining: 4.86s\n",
      "130:\tlearn: 1446.2286236\ttotal: 8.07s\tremaining: 4.25s\n",
      "140:\tlearn: 1435.4787734\ttotal: 8.71s\tremaining: 3.64s\n",
      "150:\tlearn: 1425.2250788\ttotal: 9.4s\tremaining: 3.05s\n",
      "160:\tlearn: 1416.1715685\ttotal: 10s\tremaining: 2.42s\n",
      "170:\tlearn: 1408.4596092\ttotal: 10.6s\tremaining: 1.8s\n",
      "180:\tlearn: 1400.2343201\ttotal: 11.3s\tremaining: 1.18s\n",
      "190:\tlearn: 1392.6364466\ttotal: 11.9s\tremaining: 561ms\n",
      "199:\tlearn: 1385.1859384\ttotal: 12.5s\tremaining: 0us\n",
      "0:\tlearn: 3848.5146502\ttotal: 60.3ms\tremaining: 12s\n",
      "10:\tlearn: 1865.4337220\ttotal: 708ms\tremaining: 12.2s\n",
      "20:\tlearn: 1724.8690032\ttotal: 1.34s\tremaining: 11.5s\n",
      "30:\tlearn: 1668.6988613\ttotal: 1.99s\tremaining: 10.9s\n",
      "40:\tlearn: 1629.1289805\ttotal: 2.58s\tremaining: 10s\n",
      "50:\tlearn: 1599.3583816\ttotal: 3.19s\tremaining: 9.33s\n",
      "60:\tlearn: 1570.1525441\ttotal: 3.81s\tremaining: 8.67s\n",
      "70:\tlearn: 1548.3771436\ttotal: 4.43s\tremaining: 8.05s\n",
      "80:\tlearn: 1525.8598656\ttotal: 5.06s\tremaining: 7.43s\n",
      "90:\tlearn: 1509.9789581\ttotal: 5.69s\tremaining: 6.82s\n",
      "100:\tlearn: 1494.4506331\ttotal: 6.31s\tremaining: 6.18s\n",
      "110:\tlearn: 1479.6227817\ttotal: 6.93s\tremaining: 5.55s\n",
      "120:\tlearn: 1466.4431086\ttotal: 7.55s\tremaining: 4.93s\n",
      "130:\tlearn: 1454.6066705\ttotal: 8.15s\tremaining: 4.29s\n",
      "140:\tlearn: 1444.5163926\ttotal: 8.74s\tremaining: 3.66s\n",
      "150:\tlearn: 1433.0414613\ttotal: 9.35s\tremaining: 3.03s\n",
      "160:\tlearn: 1422.4460042\ttotal: 9.94s\tremaining: 2.41s\n",
      "170:\tlearn: 1413.3261916\ttotal: 10.5s\tremaining: 1.79s\n",
      "180:\tlearn: 1404.8723197\ttotal: 11.1s\tremaining: 1.17s\n",
      "190:\tlearn: 1397.6918802\ttotal: 11.8s\tremaining: 554ms\n",
      "199:\tlearn: 1391.1315151\ttotal: 12.3s\tremaining: 0us\n",
      "0:\tlearn: 3851.1651922\ttotal: 59.5ms\tremaining: 11.8s\n",
      "10:\tlearn: 1868.1135617\ttotal: 694ms\tremaining: 11.9s\n",
      "20:\tlearn: 1723.8326372\ttotal: 1.3s\tremaining: 11.1s\n",
      "30:\tlearn: 1665.9084943\ttotal: 1.91s\tremaining: 10.4s\n",
      "40:\tlearn: 1626.9300934\ttotal: 2.52s\tremaining: 9.76s\n",
      "50:\tlearn: 1593.0206719\ttotal: 3.14s\tremaining: 9.17s\n",
      "60:\tlearn: 1566.0927617\ttotal: 3.72s\tremaining: 8.49s\n",
      "70:\tlearn: 1543.7613161\ttotal: 4.35s\tremaining: 7.9s\n",
      "80:\tlearn: 1523.2252350\ttotal: 4.97s\tremaining: 7.31s\n",
      "90:\tlearn: 1505.6671123\ttotal: 5.58s\tremaining: 6.69s\n",
      "100:\tlearn: 1489.6162781\ttotal: 6.19s\tremaining: 6.07s\n",
      "110:\tlearn: 1473.6339418\ttotal: 6.8s\tremaining: 5.45s\n",
      "120:\tlearn: 1459.5219364\ttotal: 7.42s\tremaining: 4.84s\n",
      "130:\tlearn: 1448.0502185\ttotal: 8.02s\tremaining: 4.22s\n",
      "140:\tlearn: 1436.7226507\ttotal: 8.65s\tremaining: 3.62s\n",
      "150:\tlearn: 1426.6322775\ttotal: 9.25s\tremaining: 3s\n",
      "160:\tlearn: 1417.0727400\ttotal: 9.9s\tremaining: 2.4s\n",
      "170:\tlearn: 1407.4976941\ttotal: 10.5s\tremaining: 1.78s\n",
      "180:\tlearn: 1399.4650440\ttotal: 11.2s\tremaining: 1.17s\n",
      "190:\tlearn: 1390.7888553\ttotal: 11.8s\tremaining: 555ms\n",
      "199:\tlearn: 1384.4804160\ttotal: 12.3s\tremaining: 0us\n",
      "0:\tlearn: 3851.7597123\ttotal: 60ms\tremaining: 11.9s\n",
      "10:\tlearn: 1868.2831863\ttotal: 654ms\tremaining: 11.2s\n",
      "20:\tlearn: 1732.1397018\ttotal: 1.25s\tremaining: 10.7s\n",
      "30:\tlearn: 1669.2207985\ttotal: 1.87s\tremaining: 10.2s\n",
      "40:\tlearn: 1632.1933086\ttotal: 2.49s\tremaining: 9.64s\n",
      "50:\tlearn: 1596.8176618\ttotal: 3.08s\tremaining: 8.98s\n",
      "60:\tlearn: 1570.3026244\ttotal: 3.66s\tremaining: 8.34s\n",
      "70:\tlearn: 1547.1840099\ttotal: 4.26s\tremaining: 7.74s\n",
      "80:\tlearn: 1529.1086642\ttotal: 4.85s\tremaining: 7.13s\n",
      "90:\tlearn: 1511.0702540\ttotal: 5.45s\tremaining: 6.53s\n",
      "100:\tlearn: 1496.1394607\ttotal: 6.04s\tremaining: 5.92s\n",
      "110:\tlearn: 1480.9195949\ttotal: 6.66s\tremaining: 5.34s\n",
      "120:\tlearn: 1467.2487635\ttotal: 7.29s\tremaining: 4.76s\n",
      "130:\tlearn: 1454.5055456\ttotal: 7.89s\tremaining: 4.16s\n",
      "140:\tlearn: 1443.0161464\ttotal: 8.49s\tremaining: 3.55s\n",
      "150:\tlearn: 1431.4846431\ttotal: 9.09s\tremaining: 2.95s\n",
      "160:\tlearn: 1422.2350237\ttotal: 9.69s\tremaining: 2.35s\n",
      "170:\tlearn: 1414.2062013\ttotal: 10.3s\tremaining: 1.74s\n",
      "180:\tlearn: 1406.2995904\ttotal: 10.9s\tremaining: 1.14s\n",
      "190:\tlearn: 1397.4702914\ttotal: 11.5s\tremaining: 542ms\n",
      "199:\tlearn: 1391.0534732\ttotal: 12s\tremaining: 0us\n",
      "0:\tlearn: 3849.6789011\ttotal: 90.2ms\tremaining: 17.9s\n",
      "10:\tlearn: 1866.9849471\ttotal: 782ms\tremaining: 13.4s\n",
      "20:\tlearn: 1731.5933570\ttotal: 1.48s\tremaining: 12.6s\n",
      "30:\tlearn: 1672.8928714\ttotal: 2.17s\tremaining: 11.8s\n",
      "40:\tlearn: 1635.0560123\ttotal: 2.88s\tremaining: 11.2s\n",
      "50:\tlearn: 1605.9965189\ttotal: 3.57s\tremaining: 10.4s\n",
      "60:\tlearn: 1577.2217387\ttotal: 4.26s\tremaining: 9.71s\n",
      "70:\tlearn: 1556.1740661\ttotal: 5.02s\tremaining: 9.12s\n",
      "80:\tlearn: 1537.9981593\ttotal: 5.7s\tremaining: 8.37s\n",
      "90:\tlearn: 1522.2591788\ttotal: 6.39s\tremaining: 7.66s\n",
      "100:\tlearn: 1506.5625724\ttotal: 7.07s\tremaining: 6.93s\n",
      "110:\tlearn: 1493.1064565\ttotal: 7.77s\tremaining: 6.23s\n",
      "120:\tlearn: 1481.0299504\ttotal: 8.48s\tremaining: 5.54s\n",
      "130:\tlearn: 1469.1062184\ttotal: 9.18s\tremaining: 4.83s\n",
      "140:\tlearn: 1459.3012928\ttotal: 9.89s\tremaining: 4.14s\n",
      "150:\tlearn: 1448.9199227\ttotal: 10.6s\tremaining: 3.44s\n",
      "160:\tlearn: 1439.0756766\ttotal: 11.2s\tremaining: 2.73s\n",
      "170:\tlearn: 1430.2471565\ttotal: 11.9s\tremaining: 2.02s\n",
      "180:\tlearn: 1422.5134303\ttotal: 12.6s\tremaining: 1.32s\n",
      "190:\tlearn: 1415.5230833\ttotal: 13.3s\tremaining: 626ms\n",
      "199:\tlearn: 1407.6729167\ttotal: 13.9s\tremaining: 0us\n"
     ]
    },
    {
     "data": {
      "text/html": [
       "<style>#sk-container-id-1 {\n",
       "  /* Definition of color scheme common for light and dark mode */\n",
       "  --sklearn-color-text: black;\n",
       "  --sklearn-color-line: gray;\n",
       "  /* Definition of color scheme for unfitted estimators */\n",
       "  --sklearn-color-unfitted-level-0: #fff5e6;\n",
       "  --sklearn-color-unfitted-level-1: #f6e4d2;\n",
       "  --sklearn-color-unfitted-level-2: #ffe0b3;\n",
       "  --sklearn-color-unfitted-level-3: chocolate;\n",
       "  /* Definition of color scheme for fitted estimators */\n",
       "  --sklearn-color-fitted-level-0: #f0f8ff;\n",
       "  --sklearn-color-fitted-level-1: #d4ebff;\n",
       "  --sklearn-color-fitted-level-2: #b3dbfd;\n",
       "  --sklearn-color-fitted-level-3: cornflowerblue;\n",
       "\n",
       "  /* Specific color for light theme */\n",
       "  --sklearn-color-text-on-default-background: var(--sg-text-color, var(--theme-code-foreground, var(--jp-content-font-color1, black)));\n",
       "  --sklearn-color-background: var(--sg-background-color, var(--theme-background, var(--jp-layout-color0, white)));\n",
       "  --sklearn-color-border-box: var(--sg-text-color, var(--theme-code-foreground, var(--jp-content-font-color1, black)));\n",
       "  --sklearn-color-icon: #696969;\n",
       "\n",
       "  @media (prefers-color-scheme: dark) {\n",
       "    /* Redefinition of color scheme for dark theme */\n",
       "    --sklearn-color-text-on-default-background: var(--sg-text-color, var(--theme-code-foreground, var(--jp-content-font-color1, white)));\n",
       "    --sklearn-color-background: var(--sg-background-color, var(--theme-background, var(--jp-layout-color0, #111)));\n",
       "    --sklearn-color-border-box: var(--sg-text-color, var(--theme-code-foreground, var(--jp-content-font-color1, white)));\n",
       "    --sklearn-color-icon: #878787;\n",
       "  }\n",
       "}\n",
       "\n",
       "#sk-container-id-1 {\n",
       "  color: var(--sklearn-color-text);\n",
       "}\n",
       "\n",
       "#sk-container-id-1 pre {\n",
       "  padding: 0;\n",
       "}\n",
       "\n",
       "#sk-container-id-1 input.sk-hidden--visually {\n",
       "  border: 0;\n",
       "  clip: rect(1px 1px 1px 1px);\n",
       "  clip: rect(1px, 1px, 1px, 1px);\n",
       "  height: 1px;\n",
       "  margin: -1px;\n",
       "  overflow: hidden;\n",
       "  padding: 0;\n",
       "  position: absolute;\n",
       "  width: 1px;\n",
       "}\n",
       "\n",
       "#sk-container-id-1 div.sk-dashed-wrapped {\n",
       "  border: 1px dashed var(--sklearn-color-line);\n",
       "  margin: 0 0.4em 0.5em 0.4em;\n",
       "  box-sizing: border-box;\n",
       "  padding-bottom: 0.4em;\n",
       "  background-color: var(--sklearn-color-background);\n",
       "}\n",
       "\n",
       "#sk-container-id-1 div.sk-container {\n",
       "  /* jupyter's `normalize.less` sets `[hidden] { display: none; }`\n",
       "     but bootstrap.min.css set `[hidden] { display: none !important; }`\n",
       "     so we also need the `!important` here to be able to override the\n",
       "     default hidden behavior on the sphinx rendered scikit-learn.org.\n",
       "     See: https://github.com/scikit-learn/scikit-learn/issues/21755 */\n",
       "  display: inline-block !important;\n",
       "  position: relative;\n",
       "}\n",
       "\n",
       "#sk-container-id-1 div.sk-text-repr-fallback {\n",
       "  display: none;\n",
       "}\n",
       "\n",
       "div.sk-parallel-item,\n",
       "div.sk-serial,\n",
       "div.sk-item {\n",
       "  /* draw centered vertical line to link estimators */\n",
       "  background-image: linear-gradient(var(--sklearn-color-text-on-default-background), var(--sklearn-color-text-on-default-background));\n",
       "  background-size: 2px 100%;\n",
       "  background-repeat: no-repeat;\n",
       "  background-position: center center;\n",
       "}\n",
       "\n",
       "/* Parallel-specific style estimator block */\n",
       "\n",
       "#sk-container-id-1 div.sk-parallel-item::after {\n",
       "  content: \"\";\n",
       "  width: 100%;\n",
       "  border-bottom: 2px solid var(--sklearn-color-text-on-default-background);\n",
       "  flex-grow: 1;\n",
       "}\n",
       "\n",
       "#sk-container-id-1 div.sk-parallel {\n",
       "  display: flex;\n",
       "  align-items: stretch;\n",
       "  justify-content: center;\n",
       "  background-color: var(--sklearn-color-background);\n",
       "  position: relative;\n",
       "}\n",
       "\n",
       "#sk-container-id-1 div.sk-parallel-item {\n",
       "  display: flex;\n",
       "  flex-direction: column;\n",
       "}\n",
       "\n",
       "#sk-container-id-1 div.sk-parallel-item:first-child::after {\n",
       "  align-self: flex-end;\n",
       "  width: 50%;\n",
       "}\n",
       "\n",
       "#sk-container-id-1 div.sk-parallel-item:last-child::after {\n",
       "  align-self: flex-start;\n",
       "  width: 50%;\n",
       "}\n",
       "\n",
       "#sk-container-id-1 div.sk-parallel-item:only-child::after {\n",
       "  width: 0;\n",
       "}\n",
       "\n",
       "/* Serial-specific style estimator block */\n",
       "\n",
       "#sk-container-id-1 div.sk-serial {\n",
       "  display: flex;\n",
       "  flex-direction: column;\n",
       "  align-items: center;\n",
       "  background-color: var(--sklearn-color-background);\n",
       "  padding-right: 1em;\n",
       "  padding-left: 1em;\n",
       "}\n",
       "\n",
       "\n",
       "/* Toggleable style: style used for estimator/Pipeline/ColumnTransformer box that is\n",
       "clickable and can be expanded/collapsed.\n",
       "- Pipeline and ColumnTransformer use this feature and define the default style\n",
       "- Estimators will overwrite some part of the style using the `sk-estimator` class\n",
       "*/\n",
       "\n",
       "/* Pipeline and ColumnTransformer style (default) */\n",
       "\n",
       "#sk-container-id-1 div.sk-toggleable {\n",
       "  /* Default theme specific background. It is overwritten whether we have a\n",
       "  specific estimator or a Pipeline/ColumnTransformer */\n",
       "  background-color: var(--sklearn-color-background);\n",
       "}\n",
       "\n",
       "/* Toggleable label */\n",
       "#sk-container-id-1 label.sk-toggleable__label {\n",
       "  cursor: pointer;\n",
       "  display: block;\n",
       "  width: 100%;\n",
       "  margin-bottom: 0;\n",
       "  padding: 0.5em;\n",
       "  box-sizing: border-box;\n",
       "  text-align: center;\n",
       "}\n",
       "\n",
       "#sk-container-id-1 label.sk-toggleable__label-arrow:before {\n",
       "  /* Arrow on the left of the label */\n",
       "  content: \"▸\";\n",
       "  float: left;\n",
       "  margin-right: 0.25em;\n",
       "  color: var(--sklearn-color-icon);\n",
       "}\n",
       "\n",
       "#sk-container-id-1 label.sk-toggleable__label-arrow:hover:before {\n",
       "  color: var(--sklearn-color-text);\n",
       "}\n",
       "\n",
       "/* Toggleable content - dropdown */\n",
       "\n",
       "#sk-container-id-1 div.sk-toggleable__content {\n",
       "  max-height: 0;\n",
       "  max-width: 0;\n",
       "  overflow: hidden;\n",
       "  text-align: left;\n",
       "  /* unfitted */\n",
       "  background-color: var(--sklearn-color-unfitted-level-0);\n",
       "}\n",
       "\n",
       "#sk-container-id-1 div.sk-toggleable__content.fitted {\n",
       "  /* fitted */\n",
       "  background-color: var(--sklearn-color-fitted-level-0);\n",
       "}\n",
       "\n",
       "#sk-container-id-1 div.sk-toggleable__content pre {\n",
       "  margin: 0.2em;\n",
       "  border-radius: 0.25em;\n",
       "  color: var(--sklearn-color-text);\n",
       "  /* unfitted */\n",
       "  background-color: var(--sklearn-color-unfitted-level-0);\n",
       "}\n",
       "\n",
       "#sk-container-id-1 div.sk-toggleable__content.fitted pre {\n",
       "  /* unfitted */\n",
       "  background-color: var(--sklearn-color-fitted-level-0);\n",
       "}\n",
       "\n",
       "#sk-container-id-1 input.sk-toggleable__control:checked~div.sk-toggleable__content {\n",
       "  /* Expand drop-down */\n",
       "  max-height: 200px;\n",
       "  max-width: 100%;\n",
       "  overflow: auto;\n",
       "}\n",
       "\n",
       "#sk-container-id-1 input.sk-toggleable__control:checked~label.sk-toggleable__label-arrow:before {\n",
       "  content: \"▾\";\n",
       "}\n",
       "\n",
       "/* Pipeline/ColumnTransformer-specific style */\n",
       "\n",
       "#sk-container-id-1 div.sk-label input.sk-toggleable__control:checked~label.sk-toggleable__label {\n",
       "  color: var(--sklearn-color-text);\n",
       "  background-color: var(--sklearn-color-unfitted-level-2);\n",
       "}\n",
       "\n",
       "#sk-container-id-1 div.sk-label.fitted input.sk-toggleable__control:checked~label.sk-toggleable__label {\n",
       "  background-color: var(--sklearn-color-fitted-level-2);\n",
       "}\n",
       "\n",
       "/* Estimator-specific style */\n",
       "\n",
       "/* Colorize estimator box */\n",
       "#sk-container-id-1 div.sk-estimator input.sk-toggleable__control:checked~label.sk-toggleable__label {\n",
       "  /* unfitted */\n",
       "  background-color: var(--sklearn-color-unfitted-level-2);\n",
       "}\n",
       "\n",
       "#sk-container-id-1 div.sk-estimator.fitted input.sk-toggleable__control:checked~label.sk-toggleable__label {\n",
       "  /* fitted */\n",
       "  background-color: var(--sklearn-color-fitted-level-2);\n",
       "}\n",
       "\n",
       "#sk-container-id-1 div.sk-label label.sk-toggleable__label,\n",
       "#sk-container-id-1 div.sk-label label {\n",
       "  /* The background is the default theme color */\n",
       "  color: var(--sklearn-color-text-on-default-background);\n",
       "}\n",
       "\n",
       "/* On hover, darken the color of the background */\n",
       "#sk-container-id-1 div.sk-label:hover label.sk-toggleable__label {\n",
       "  color: var(--sklearn-color-text);\n",
       "  background-color: var(--sklearn-color-unfitted-level-2);\n",
       "}\n",
       "\n",
       "/* Label box, darken color on hover, fitted */\n",
       "#sk-container-id-1 div.sk-label.fitted:hover label.sk-toggleable__label.fitted {\n",
       "  color: var(--sklearn-color-text);\n",
       "  background-color: var(--sklearn-color-fitted-level-2);\n",
       "}\n",
       "\n",
       "/* Estimator label */\n",
       "\n",
       "#sk-container-id-1 div.sk-label label {\n",
       "  font-family: monospace;\n",
       "  font-weight: bold;\n",
       "  display: inline-block;\n",
       "  line-height: 1.2em;\n",
       "}\n",
       "\n",
       "#sk-container-id-1 div.sk-label-container {\n",
       "  text-align: center;\n",
       "}\n",
       "\n",
       "/* Estimator-specific */\n",
       "#sk-container-id-1 div.sk-estimator {\n",
       "  font-family: monospace;\n",
       "  border: 1px dotted var(--sklearn-color-border-box);\n",
       "  border-radius: 0.25em;\n",
       "  box-sizing: border-box;\n",
       "  margin-bottom: 0.5em;\n",
       "  /* unfitted */\n",
       "  background-color: var(--sklearn-color-unfitted-level-0);\n",
       "}\n",
       "\n",
       "#sk-container-id-1 div.sk-estimator.fitted {\n",
       "  /* fitted */\n",
       "  background-color: var(--sklearn-color-fitted-level-0);\n",
       "}\n",
       "\n",
       "/* on hover */\n",
       "#sk-container-id-1 div.sk-estimator:hover {\n",
       "  /* unfitted */\n",
       "  background-color: var(--sklearn-color-unfitted-level-2);\n",
       "}\n",
       "\n",
       "#sk-container-id-1 div.sk-estimator.fitted:hover {\n",
       "  /* fitted */\n",
       "  background-color: var(--sklearn-color-fitted-level-2);\n",
       "}\n",
       "\n",
       "/* Specification for estimator info (e.g. \"i\" and \"?\") */\n",
       "\n",
       "/* Common style for \"i\" and \"?\" */\n",
       "\n",
       ".sk-estimator-doc-link,\n",
       "a:link.sk-estimator-doc-link,\n",
       "a:visited.sk-estimator-doc-link {\n",
       "  float: right;\n",
       "  font-size: smaller;\n",
       "  line-height: 1em;\n",
       "  font-family: monospace;\n",
       "  background-color: var(--sklearn-color-background);\n",
       "  border-radius: 1em;\n",
       "  height: 1em;\n",
       "  width: 1em;\n",
       "  text-decoration: none !important;\n",
       "  margin-left: 1ex;\n",
       "  /* unfitted */\n",
       "  border: var(--sklearn-color-unfitted-level-1) 1pt solid;\n",
       "  color: var(--sklearn-color-unfitted-level-1);\n",
       "}\n",
       "\n",
       ".sk-estimator-doc-link.fitted,\n",
       "a:link.sk-estimator-doc-link.fitted,\n",
       "a:visited.sk-estimator-doc-link.fitted {\n",
       "  /* fitted */\n",
       "  border: var(--sklearn-color-fitted-level-1) 1pt solid;\n",
       "  color: var(--sklearn-color-fitted-level-1);\n",
       "}\n",
       "\n",
       "/* On hover */\n",
       "div.sk-estimator:hover .sk-estimator-doc-link:hover,\n",
       ".sk-estimator-doc-link:hover,\n",
       "div.sk-label-container:hover .sk-estimator-doc-link:hover,\n",
       ".sk-estimator-doc-link:hover {\n",
       "  /* unfitted */\n",
       "  background-color: var(--sklearn-color-unfitted-level-3);\n",
       "  color: var(--sklearn-color-background);\n",
       "  text-decoration: none;\n",
       "}\n",
       "\n",
       "div.sk-estimator.fitted:hover .sk-estimator-doc-link.fitted:hover,\n",
       ".sk-estimator-doc-link.fitted:hover,\n",
       "div.sk-label-container:hover .sk-estimator-doc-link.fitted:hover,\n",
       ".sk-estimator-doc-link.fitted:hover {\n",
       "  /* fitted */\n",
       "  background-color: var(--sklearn-color-fitted-level-3);\n",
       "  color: var(--sklearn-color-background);\n",
       "  text-decoration: none;\n",
       "}\n",
       "\n",
       "/* Span, style for the box shown on hovering the info icon */\n",
       ".sk-estimator-doc-link span {\n",
       "  display: none;\n",
       "  z-index: 9999;\n",
       "  position: relative;\n",
       "  font-weight: normal;\n",
       "  right: .2ex;\n",
       "  padding: .5ex;\n",
       "  margin: .5ex;\n",
       "  width: min-content;\n",
       "  min-width: 20ex;\n",
       "  max-width: 50ex;\n",
       "  color: var(--sklearn-color-text);\n",
       "  box-shadow: 2pt 2pt 4pt #999;\n",
       "  /* unfitted */\n",
       "  background: var(--sklearn-color-unfitted-level-0);\n",
       "  border: .5pt solid var(--sklearn-color-unfitted-level-3);\n",
       "}\n",
       "\n",
       ".sk-estimator-doc-link.fitted span {\n",
       "  /* fitted */\n",
       "  background: var(--sklearn-color-fitted-level-0);\n",
       "  border: var(--sklearn-color-fitted-level-3);\n",
       "}\n",
       "\n",
       ".sk-estimator-doc-link:hover span {\n",
       "  display: block;\n",
       "}\n",
       "\n",
       "/* \"?\"-specific style due to the `<a>` HTML tag */\n",
       "\n",
       "#sk-container-id-1 a.estimator_doc_link {\n",
       "  float: right;\n",
       "  font-size: 1rem;\n",
       "  line-height: 1em;\n",
       "  font-family: monospace;\n",
       "  background-color: var(--sklearn-color-background);\n",
       "  border-radius: 1rem;\n",
       "  height: 1rem;\n",
       "  width: 1rem;\n",
       "  text-decoration: none;\n",
       "  /* unfitted */\n",
       "  color: var(--sklearn-color-unfitted-level-1);\n",
       "  border: var(--sklearn-color-unfitted-level-1) 1pt solid;\n",
       "}\n",
       "\n",
       "#sk-container-id-1 a.estimator_doc_link.fitted {\n",
       "  /* fitted */\n",
       "  border: var(--sklearn-color-fitted-level-1) 1pt solid;\n",
       "  color: var(--sklearn-color-fitted-level-1);\n",
       "}\n",
       "\n",
       "/* On hover */\n",
       "#sk-container-id-1 a.estimator_doc_link:hover {\n",
       "  /* unfitted */\n",
       "  background-color: var(--sklearn-color-unfitted-level-3);\n",
       "  color: var(--sklearn-color-background);\n",
       "  text-decoration: none;\n",
       "}\n",
       "\n",
       "#sk-container-id-1 a.estimator_doc_link.fitted:hover {\n",
       "  /* fitted */\n",
       "  background-color: var(--sklearn-color-fitted-level-3);\n",
       "}\n",
       "</style><div id=\"sk-container-id-1\" class=\"sk-top-container\"><div class=\"sk-text-repr-fallback\"><pre>Pipeline(steps=[(&#x27;preprocessor&#x27;,\n",
       "                 ColumnTransformer(remainder=&#x27;passthrough&#x27;,\n",
       "                                   transformers=[(&#x27;ohe&#x27;,\n",
       "                                                  Pipeline(steps=[(&#x27;simpleImputer_ohe&#x27;,\n",
       "                                                                   SimpleImputer(strategy=&#x27;most_frequent&#x27;)),\n",
       "                                                                  (&#x27;ohe&#x27;,\n",
       "                                                                   OneHotEncoder(drop=&#x27;first&#x27;,\n",
       "                                                                                 handle_unknown=&#x27;ignore&#x27;))]),\n",
       "                                                  [&#x27;Gearbox&#x27;, &#x27;Repaired&#x27;]),\n",
       "                                                 (&#x27;ord&#x27;,\n",
       "                                                  Pipeline(steps=[(&#x27;simpleimputer_before_ord&#x27;,\n",
       "                                                                   SimpleImputer(strategy=&#x27;most_frequent&#x27;)),\n",
       "                                                                  (&#x27;ord&#x27;,\n",
       "                                                                   OrdinalEncoder(handle_unknown=&#x27;use_encoded_value&#x27;,\n",
       "                                                                                  unknown_value=nan)),\n",
       "                                                                  (&#x27;simpleImputer_after_ord&#x27;,\n",
       "                                                                   SimpleImputer(strategy=&#x27;most_frequent&#x27;))]),\n",
       "                                                  [&#x27;VehicleType&#x27;, &#x27;Model&#x27;,\n",
       "                                                   &#x27;Brand&#x27;,\n",
       "                                                   &#x27;RegistrationYear&#x27;]),\n",
       "                                                 (&#x27;num&#x27;, &#x27;passthrough&#x27;,\n",
       "                                                  [&#x27;Kilometer&#x27;, &#x27;Power&#x27;])])),\n",
       "                (&#x27;models&#x27;,\n",
       "                 &lt;catboost.core.CatBoostRegressor object at 0x7f62f8ef86d0&gt;)])</pre><b>In a Jupyter environment, please rerun this cell to show the HTML representation or trust the notebook. <br />On GitHub, the HTML representation is unable to render, please try loading this page with nbviewer.org.</b></div><div class=\"sk-container\" hidden><div class=\"sk-item sk-dashed-wrapped\"><div class=\"sk-label-container\"><div class=\"sk-label fitted sk-toggleable\"><input class=\"sk-toggleable__control sk-hidden--visually\" id=\"sk-estimator-id-1\" type=\"checkbox\" ><label for=\"sk-estimator-id-1\" class=\"sk-toggleable__label fitted sk-toggleable__label-arrow fitted\">&nbsp;&nbsp;Pipeline<a class=\"sk-estimator-doc-link fitted\" rel=\"noreferrer\" target=\"_blank\" href=\"https://scikit-learn.org/1.5/modules/generated/sklearn.pipeline.Pipeline.html\">?<span>Documentation for Pipeline</span></a><span class=\"sk-estimator-doc-link fitted\">i<span>Fitted</span></span></label><div class=\"sk-toggleable__content fitted\"><pre>Pipeline(steps=[(&#x27;preprocessor&#x27;,\n",
       "                 ColumnTransformer(remainder=&#x27;passthrough&#x27;,\n",
       "                                   transformers=[(&#x27;ohe&#x27;,\n",
       "                                                  Pipeline(steps=[(&#x27;simpleImputer_ohe&#x27;,\n",
       "                                                                   SimpleImputer(strategy=&#x27;most_frequent&#x27;)),\n",
       "                                                                  (&#x27;ohe&#x27;,\n",
       "                                                                   OneHotEncoder(drop=&#x27;first&#x27;,\n",
       "                                                                                 handle_unknown=&#x27;ignore&#x27;))]),\n",
       "                                                  [&#x27;Gearbox&#x27;, &#x27;Repaired&#x27;]),\n",
       "                                                 (&#x27;ord&#x27;,\n",
       "                                                  Pipeline(steps=[(&#x27;simpleimputer_before_ord&#x27;,\n",
       "                                                                   SimpleImputer(strategy=&#x27;most_frequent&#x27;)),\n",
       "                                                                  (&#x27;ord&#x27;,\n",
       "                                                                   OrdinalEncoder(handle_unknown=&#x27;use_encoded_value&#x27;,\n",
       "                                                                                  unknown_value=nan)),\n",
       "                                                                  (&#x27;simpleImputer_after_ord&#x27;,\n",
       "                                                                   SimpleImputer(strategy=&#x27;most_frequent&#x27;))]),\n",
       "                                                  [&#x27;VehicleType&#x27;, &#x27;Model&#x27;,\n",
       "                                                   &#x27;Brand&#x27;,\n",
       "                                                   &#x27;RegistrationYear&#x27;]),\n",
       "                                                 (&#x27;num&#x27;, &#x27;passthrough&#x27;,\n",
       "                                                  [&#x27;Kilometer&#x27;, &#x27;Power&#x27;])])),\n",
       "                (&#x27;models&#x27;,\n",
       "                 &lt;catboost.core.CatBoostRegressor object at 0x7f62f8ef86d0&gt;)])</pre></div> </div></div><div class=\"sk-serial\"><div class=\"sk-item sk-dashed-wrapped\"><div class=\"sk-label-container\"><div class=\"sk-label fitted sk-toggleable\"><input class=\"sk-toggleable__control sk-hidden--visually\" id=\"sk-estimator-id-2\" type=\"checkbox\" ><label for=\"sk-estimator-id-2\" class=\"sk-toggleable__label fitted sk-toggleable__label-arrow fitted\">&nbsp;preprocessor: ColumnTransformer<a class=\"sk-estimator-doc-link fitted\" rel=\"noreferrer\" target=\"_blank\" href=\"https://scikit-learn.org/1.5/modules/generated/sklearn.compose.ColumnTransformer.html\">?<span>Documentation for preprocessor: ColumnTransformer</span></a></label><div class=\"sk-toggleable__content fitted\"><pre>ColumnTransformer(remainder=&#x27;passthrough&#x27;,\n",
       "                  transformers=[(&#x27;ohe&#x27;,\n",
       "                                 Pipeline(steps=[(&#x27;simpleImputer_ohe&#x27;,\n",
       "                                                  SimpleImputer(strategy=&#x27;most_frequent&#x27;)),\n",
       "                                                 (&#x27;ohe&#x27;,\n",
       "                                                  OneHotEncoder(drop=&#x27;first&#x27;,\n",
       "                                                                handle_unknown=&#x27;ignore&#x27;))]),\n",
       "                                 [&#x27;Gearbox&#x27;, &#x27;Repaired&#x27;]),\n",
       "                                (&#x27;ord&#x27;,\n",
       "                                 Pipeline(steps=[(&#x27;simpleimputer_before_ord&#x27;,\n",
       "                                                  SimpleImputer(strategy=&#x27;most_frequent&#x27;)),\n",
       "                                                 (&#x27;ord&#x27;,\n",
       "                                                  OrdinalEncoder(handle_unknown=&#x27;use_encoded_value&#x27;,\n",
       "                                                                 unknown_value=nan)),\n",
       "                                                 (&#x27;simpleImputer_after_ord&#x27;,\n",
       "                                                  SimpleImputer(strategy=&#x27;most_frequent&#x27;))]),\n",
       "                                 [&#x27;VehicleType&#x27;, &#x27;Model&#x27;, &#x27;Brand&#x27;,\n",
       "                                  &#x27;RegistrationYear&#x27;]),\n",
       "                                (&#x27;num&#x27;, &#x27;passthrough&#x27;, [&#x27;Kilometer&#x27;, &#x27;Power&#x27;])])</pre></div> </div></div><div class=\"sk-parallel\"><div class=\"sk-parallel-item\"><div class=\"sk-item\"><div class=\"sk-label-container\"><div class=\"sk-label fitted sk-toggleable\"><input class=\"sk-toggleable__control sk-hidden--visually\" id=\"sk-estimator-id-3\" type=\"checkbox\" ><label for=\"sk-estimator-id-3\" class=\"sk-toggleable__label fitted sk-toggleable__label-arrow fitted\">ohe</label><div class=\"sk-toggleable__content fitted\"><pre>[&#x27;Gearbox&#x27;, &#x27;Repaired&#x27;]</pre></div> </div></div><div class=\"sk-serial\"><div class=\"sk-item\"><div class=\"sk-serial\"><div class=\"sk-item\"><div class=\"sk-estimator fitted sk-toggleable\"><input class=\"sk-toggleable__control sk-hidden--visually\" id=\"sk-estimator-id-4\" type=\"checkbox\" ><label for=\"sk-estimator-id-4\" class=\"sk-toggleable__label fitted sk-toggleable__label-arrow fitted\">&nbsp;SimpleImputer<a class=\"sk-estimator-doc-link fitted\" rel=\"noreferrer\" target=\"_blank\" href=\"https://scikit-learn.org/1.5/modules/generated/sklearn.impute.SimpleImputer.html\">?<span>Documentation for SimpleImputer</span></a></label><div class=\"sk-toggleable__content fitted\"><pre>SimpleImputer(strategy=&#x27;most_frequent&#x27;)</pre></div> </div></div><div class=\"sk-item\"><div class=\"sk-estimator fitted sk-toggleable\"><input class=\"sk-toggleable__control sk-hidden--visually\" id=\"sk-estimator-id-5\" type=\"checkbox\" ><label for=\"sk-estimator-id-5\" class=\"sk-toggleable__label fitted sk-toggleable__label-arrow fitted\">&nbsp;OneHotEncoder<a class=\"sk-estimator-doc-link fitted\" rel=\"noreferrer\" target=\"_blank\" href=\"https://scikit-learn.org/1.5/modules/generated/sklearn.preprocessing.OneHotEncoder.html\">?<span>Documentation for OneHotEncoder</span></a></label><div class=\"sk-toggleable__content fitted\"><pre>OneHotEncoder(drop=&#x27;first&#x27;, handle_unknown=&#x27;ignore&#x27;)</pre></div> </div></div></div></div></div></div></div><div class=\"sk-parallel-item\"><div class=\"sk-item\"><div class=\"sk-label-container\"><div class=\"sk-label fitted sk-toggleable\"><input class=\"sk-toggleable__control sk-hidden--visually\" id=\"sk-estimator-id-6\" type=\"checkbox\" ><label for=\"sk-estimator-id-6\" class=\"sk-toggleable__label fitted sk-toggleable__label-arrow fitted\">ord</label><div class=\"sk-toggleable__content fitted\"><pre>[&#x27;VehicleType&#x27;, &#x27;Model&#x27;, &#x27;Brand&#x27;, &#x27;RegistrationYear&#x27;]</pre></div> </div></div><div class=\"sk-serial\"><div class=\"sk-item\"><div class=\"sk-serial\"><div class=\"sk-item\"><div class=\"sk-estimator fitted sk-toggleable\"><input class=\"sk-toggleable__control sk-hidden--visually\" id=\"sk-estimator-id-7\" type=\"checkbox\" ><label for=\"sk-estimator-id-7\" class=\"sk-toggleable__label fitted sk-toggleable__label-arrow fitted\">&nbsp;SimpleImputer<a class=\"sk-estimator-doc-link fitted\" rel=\"noreferrer\" target=\"_blank\" href=\"https://scikit-learn.org/1.5/modules/generated/sklearn.impute.SimpleImputer.html\">?<span>Documentation for SimpleImputer</span></a></label><div class=\"sk-toggleable__content fitted\"><pre>SimpleImputer(strategy=&#x27;most_frequent&#x27;)</pre></div> </div></div><div class=\"sk-item\"><div class=\"sk-estimator fitted sk-toggleable\"><input class=\"sk-toggleable__control sk-hidden--visually\" id=\"sk-estimator-id-8\" type=\"checkbox\" ><label for=\"sk-estimator-id-8\" class=\"sk-toggleable__label fitted sk-toggleable__label-arrow fitted\">&nbsp;OrdinalEncoder<a class=\"sk-estimator-doc-link fitted\" rel=\"noreferrer\" target=\"_blank\" href=\"https://scikit-learn.org/1.5/modules/generated/sklearn.preprocessing.OrdinalEncoder.html\">?<span>Documentation for OrdinalEncoder</span></a></label><div class=\"sk-toggleable__content fitted\"><pre>OrdinalEncoder(handle_unknown=&#x27;use_encoded_value&#x27;, unknown_value=nan)</pre></div> </div></div><div class=\"sk-item\"><div class=\"sk-estimator fitted sk-toggleable\"><input class=\"sk-toggleable__control sk-hidden--visually\" id=\"sk-estimator-id-9\" type=\"checkbox\" ><label for=\"sk-estimator-id-9\" class=\"sk-toggleable__label fitted sk-toggleable__label-arrow fitted\">&nbsp;SimpleImputer<a class=\"sk-estimator-doc-link fitted\" rel=\"noreferrer\" target=\"_blank\" href=\"https://scikit-learn.org/1.5/modules/generated/sklearn.impute.SimpleImputer.html\">?<span>Documentation for SimpleImputer</span></a></label><div class=\"sk-toggleable__content fitted\"><pre>SimpleImputer(strategy=&#x27;most_frequent&#x27;)</pre></div> </div></div></div></div></div></div></div><div class=\"sk-parallel-item\"><div class=\"sk-item\"><div class=\"sk-label-container\"><div class=\"sk-label fitted sk-toggleable\"><input class=\"sk-toggleable__control sk-hidden--visually\" id=\"sk-estimator-id-10\" type=\"checkbox\" ><label for=\"sk-estimator-id-10\" class=\"sk-toggleable__label fitted sk-toggleable__label-arrow fitted\">num</label><div class=\"sk-toggleable__content fitted\"><pre>[&#x27;Kilometer&#x27;, &#x27;Power&#x27;]</pre></div> </div></div><div class=\"sk-serial\"><div class=\"sk-item\"><div class=\"sk-estimator fitted sk-toggleable\"><input class=\"sk-toggleable__control sk-hidden--visually\" id=\"sk-estimator-id-11\" type=\"checkbox\" ><label for=\"sk-estimator-id-11\" class=\"sk-toggleable__label fitted sk-toggleable__label-arrow fitted\">passthrough</label><div class=\"sk-toggleable__content fitted\"><pre>passthrough</pre></div> </div></div></div></div></div><div class=\"sk-parallel-item\"><div class=\"sk-item\"><div class=\"sk-label-container\"><div class=\"sk-label fitted sk-toggleable\"><input class=\"sk-toggleable__control sk-hidden--visually\" id=\"sk-estimator-id-12\" type=\"checkbox\" ><label for=\"sk-estimator-id-12\" class=\"sk-toggleable__label fitted sk-toggleable__label-arrow fitted\">remainder</label><div class=\"sk-toggleable__content fitted\"><pre>[]</pre></div> </div></div><div class=\"sk-serial\"><div class=\"sk-item\"><div class=\"sk-estimator fitted sk-toggleable\"><input class=\"sk-toggleable__control sk-hidden--visually\" id=\"sk-estimator-id-13\" type=\"checkbox\" ><label for=\"sk-estimator-id-13\" class=\"sk-toggleable__label fitted sk-toggleable__label-arrow fitted\">passthrough</label><div class=\"sk-toggleable__content fitted\"><pre>passthrough</pre></div> </div></div></div></div></div></div></div><div class=\"sk-item\"><div class=\"sk-estimator fitted sk-toggleable\"><input class=\"sk-toggleable__control sk-hidden--visually\" id=\"sk-estimator-id-14\" type=\"checkbox\" ><label for=\"sk-estimator-id-14\" class=\"sk-toggleable__label fitted sk-toggleable__label-arrow fitted\">CatBoostRegressor</label><div class=\"sk-toggleable__content fitted\"><pre>&lt;catboost.core.CatBoostRegressor object at 0x7f62f8ef86d0&gt;</pre></div> </div></div></div></div></div></div>"
      ],
      "text/plain": [
       "Pipeline(steps=[('preprocessor',\n",
       "                 ColumnTransformer(remainder='passthrough',\n",
       "                                   transformers=[('ohe',\n",
       "                                                  Pipeline(steps=[('simpleImputer_ohe',\n",
       "                                                                   SimpleImputer(strategy='most_frequent')),\n",
       "                                                                  ('ohe',\n",
       "                                                                   OneHotEncoder(drop='first',\n",
       "                                                                                 handle_unknown='ignore'))]),\n",
       "                                                  ['Gearbox', 'Repaired']),\n",
       "                                                 ('ord',\n",
       "                                                  Pipeline(steps=[('simpleimputer_before_ord',\n",
       "                                                                   SimpleImputer(strategy='most_frequent')),\n",
       "                                                                  ('ord',\n",
       "                                                                   OrdinalEncoder(handle_unknown='use_encoded_value',\n",
       "                                                                                  unknown_value=nan)),\n",
       "                                                                  ('simpleImputer_after_ord',\n",
       "                                                                   SimpleImputer(strategy='most_frequent'))]),\n",
       "                                                  ['VehicleType', 'Model',\n",
       "                                                   'Brand',\n",
       "                                                   'RegistrationYear']),\n",
       "                                                 ('num', 'passthrough',\n",
       "                                                  ['Kilometer', 'Power'])])),\n",
       "                ('models',\n",
       "                 <catboost.core.CatBoostRegressor object at 0x7f62f8ef86d0>)])"
      ]
     },
     "execution_count": 51,
     "metadata": {},
     "output_type": "execute_result"
    }
   ],
   "source": [
    "rscv.fit(X_train, y_train)\n",
    "rscv.best_estimator_"
   ]
  },
  {
   "cell_type": "code",
   "execution_count": 52,
   "metadata": {},
   "outputs": [
    {
     "data": {
      "text/plain": [
       "1631.2128551102805"
      ]
     },
     "execution_count": 52,
     "metadata": {},
     "output_type": "execute_result"
    }
   ],
   "source": [
    "np.abs(rscv.best_score_)"
   ]
  },
  {
   "cell_type": "markdown",
   "metadata": {},
   "source": [
    "Результат посредственный, но меньше 2500 евро, что самое главное"
   ]
  },
  {
   "cell_type": "markdown",
   "metadata": {},
   "source": [
    "## Анализ моделей"
   ]
  },
  {
   "cell_type": "code",
   "execution_count": 53,
   "metadata": {},
   "outputs": [],
   "source": [
    "best_model_df = pd.DataFrame(rscv.cv_results_)[['param_models', 'mean_test_score', 'mean_fit_time', 'mean_score_time']]\n",
    "\n",
    "best_model_df.mean_test_score = -best_model_df.mean_test_score"
   ]
  },
  {
   "cell_type": "code",
   "execution_count": 54,
   "metadata": {},
   "outputs": [],
   "source": [
    "best_model_df['model_name']= best_model_df.param_models.astype(str).apply(lambda x: re.search('[A-Z][A-Za-z]*', x).group())"
   ]
  },
  {
   "cell_type": "code",
   "execution_count": 55,
   "metadata": {},
   "outputs": [
    {
     "data": {
      "text/html": [
       "<div>\n",
       "<style scoped>\n",
       "    .dataframe tbody tr th:only-of-type {\n",
       "        vertical-align: middle;\n",
       "    }\n",
       "\n",
       "    .dataframe tbody tr th {\n",
       "        vertical-align: top;\n",
       "    }\n",
       "\n",
       "    .dataframe thead th {\n",
       "        text-align: right;\n",
       "    }\n",
       "</style>\n",
       "<table border=\"1\" class=\"dataframe\">\n",
       "  <thead>\n",
       "    <tr style=\"text-align: right;\">\n",
       "      <th></th>\n",
       "      <th>mean_test_score</th>\n",
       "      <th>mean_fit_time</th>\n",
       "      <th>mean_score_time</th>\n",
       "    </tr>\n",
       "    <tr>\n",
       "      <th>model_name</th>\n",
       "      <th></th>\n",
       "      <th></th>\n",
       "      <th></th>\n",
       "    </tr>\n",
       "  </thead>\n",
       "  <tbody>\n",
       "    <tr>\n",
       "      <th>DecisionTreeRegressor</th>\n",
       "      <td>2831.016865</td>\n",
       "      <td>0.512709</td>\n",
       "      <td>0.071834</td>\n",
       "    </tr>\n",
       "    <tr>\n",
       "      <th>LGBMRegressor</th>\n",
       "      <td>1666.760234</td>\n",
       "      <td>21.222803</td>\n",
       "      <td>0.522773</td>\n",
       "    </tr>\n",
       "    <tr>\n",
       "      <th>CatBoostRegressor</th>\n",
       "      <td>1650.876992</td>\n",
       "      <td>11.126195</td>\n",
       "      <td>0.175236</td>\n",
       "    </tr>\n",
       "  </tbody>\n",
       "</table>\n",
       "</div>"
      ],
      "text/plain": [
       "                       mean_test_score  mean_fit_time  mean_score_time\n",
       "model_name                                                            \n",
       "DecisionTreeRegressor      2831.016865       0.512709         0.071834\n",
       "LGBMRegressor              1666.760234      21.222803         0.522773\n",
       "CatBoostRegressor          1650.876992      11.126195         0.175236"
      ]
     },
     "execution_count": 55,
     "metadata": {},
     "output_type": "execute_result"
    }
   ],
   "source": [
    "best_model_df.groupby('model_name').agg({'mean_test_score': 'mean',\n",
    "            'mean_fit_time': 'mean',\n",
    "            'mean_score_time': 'mean'}).sort_values(['mean_test_score', 'mean_fit_time', 'mean_score_time'], ascending=False)"
   ]
  },
  {
   "cell_type": "markdown",
   "metadata": {},
   "source": [
    "Лучшие результаты показал CatBoostRegressor\tот яндекса, с RMSE в 1650 евро и с неплохими показателями скорости обучения и выполнения прогноза, относительно DecisionTreeRegressor, который обладает худшими результатами RMSE, несмотря на лучшую скорость работу среди бустингов. "
   ]
  },
  {
   "cell_type": "markdown",
   "metadata": {},
   "source": [
    "<div class=\"alert alert-block alert-success\">\n",
    "    \n",
    "<b>Успех[2]:</b> Анализ проведен, выбор модели обоснован!\n",
    "</div>"
   ]
  },
  {
   "cell_type": "code",
   "execution_count": 56,
   "metadata": {},
   "outputs": [
    {
     "name": "stdout",
     "output_type": "stream",
     "text": [
      "Метрика RMSE на тестовой выборке лучшей модели: 1626.5319928173333\n"
     ]
    }
   ],
   "source": [
    "print(f'Метрика RMSE на тестовой выборке лучшей модели: {root_mean_squared_error(y_test, rscv.best_estimator_.predict(X_test))}')"
   ]
  },
  {
   "cell_type": "markdown",
   "metadata": {},
   "source": [
    "На тестовых данных качество немного подросло."
   ]
  },
  {
   "cell_type": "markdown",
   "metadata": {},
   "source": [
    "<div class=\"alert alert-block alert-success\">\n",
    "    \n",
    "<b>Успех[2]:</b> Отличное качество на тестовых\n",
    "</div>"
   ]
  },
  {
   "cell_type": "markdown",
   "metadata": {},
   "source": [
    "### Выводы:\n",
    "\n",
    "1) Данные были исследованы и обработаны:\n",
    "\n",
    "    -удалены дубликаты;\n",
    "    -отфильтрованы некорректные данные;\n",
    "    -устранены пропуски;\n",
    "    -проведен feature engineering.\n",
    "    \n",
    "2) Выполнен статистический и корреляционный анализ:\n",
    "\n",
    "    -выявлены и устранены аномалии;\n",
    "    -оценена корреляция между переменными;\n",
    "    -удалены неинформативыне для прогноза признаки;\n",
    "    \n",
    "3) Обучены две модели регрессии:\n",
    "\n",
    "    -подготовлен пайплайн;\n",
    "    -использованы модели градиентного бустинга и дерева решений;\n",
    "    -по результатам кросс-валидации наилучшей признана модель CatBoostRegressor с метрикой RMSE 1626 евро.\n",
    "    \n",
    "4) Проведен анализ скорости работы моделей:\n",
    "\n",
    "    ##### Наилучшую скорость показала модель дерева решений, однако с неудовлетворительным значеним целевой метрики;\n",
    "    \n",
    "    ##### Самой быстрой и точной моделью среди градиентного бустинга оказалась CatBoostRegressor."
   ]
  },
  {
   "cell_type": "markdown",
   "metadata": {},
   "source": [
    "<div class=\"alert alert-block alert-success\">\n",
    "<b>Успех:</b> Отлично проделан шаг\n",
    "    \n",
    "- Кросс-валидационные методы успешно использованы. \n",
    "- Все метрики интересующие заказчика лаконично вычислены \n",
    "- Всегда приятно наблюдать информативную таблицу.\n",
    "</div>\n"
   ]
  },
  {
   "cell_type": "markdown",
   "metadata": {},
   "source": [
    "<div class=\"alert alert-block alert-danger\">\n",
    "<b>Ошибка:</b> Нужно провести анализ метрик, не чтобы выбрать худшую модель, а чтобы выбрать одну лучшую модель\n",
    "</div>"
   ]
  },
  {
   "cell_type": "markdown",
   "metadata": {},
   "source": [
    "После твоей проверки добавлю финальный вывод, поскольку я пока не уверен, что тут всё окей."
   ]
  },
  {
   "cell_type": "markdown",
   "metadata": {},
   "source": [
    "<div class=\"alert alert-block alert-danger\">\n",
    "<b>Ошибка:</b> После анализа и выбора одной наилучшей модели, должно идти  ее тестирование. Другие модели тестовую выборку использовать не должны.\n",
    "</div>"
   ]
  },
  {
   "cell_type": "markdown",
   "metadata": {},
   "source": [
    "<div class=\"alert alert-block alert-info\">\n",
    "<b>Совет:</b> \n",
    "\n",
    "Также если говорить, что можно ещё улучшить в подобных проектах, то я бы выделил такие моменты:<br>\n",
    "    \n",
    "1) Для понимания, а какие в итоге факторы важны при моделировании, можно выводить их важность, использую feature_importances_, ну и график заодно. Это будет смотреться очнь здорово: результативная метрика и график важности факторов)))\n",
    "    \n",
    "2) У нас разный возраст машин. Есть гипотеза, что для разных возрастов - своё ценообразование. Поэтому, можно попробовать ввести фактор \"тип возраста\" (ретро, супер-ретро, старая, новая... надо подумать..)..<br>\n",
    "\n",
    "3) У некоторых моделей семейства бустингов, есть внутренний метод кодировки данных, который хорошо было бы попробовать\n",
    "</div>\n"
   ]
  },
  {
   "cell_type": "markdown",
   "metadata": {},
   "source": [
    "## Чек-лист проверки"
   ]
  },
  {
   "cell_type": "markdown",
   "metadata": {},
   "source": [
    "Поставьте 'x' в выполненных пунктах. Далее нажмите Shift+Enter."
   ]
  },
  {
   "cell_type": "markdown",
   "metadata": {},
   "source": [
    "- [x]  Jupyter Notebook открыт\n",
    "- [x]  Весь код выполняется без ошибок\n",
    "- [x]  Ячейки с кодом расположены в порядке исполнения\n",
    "- [x]  Выполнена загрузка и подготовка данных\n",
    "- [x]  Выполнено обучение моделей\n",
    "- [x]  Есть анализ скорости работы и качества моделей"
   ]
  },
  {
   "cell_type": "code",
   "execution_count": null,
   "metadata": {},
   "outputs": [],
   "source": []
  }
 ],
 "metadata": {
  "ExecuteTimeLog": [
   {
    "duration": 17670,
    "start_time": "2024-06-29T12:22:37.938Z"
   },
   {
    "duration": 1945,
    "start_time": "2024-06-29T12:22:55.610Z"
   },
   {
    "duration": 1207,
    "start_time": "2024-06-29T12:22:57.557Z"
   },
   {
    "duration": 147,
    "start_time": "2024-06-29T12:22:58.766Z"
   },
   {
    "duration": 13027,
    "start_time": "2024-06-29T12:51:33.467Z"
   },
   {
    "duration": 6,
    "start_time": "2024-06-29T12:51:46.497Z"
   },
   {
    "duration": 978,
    "start_time": "2024-06-29T12:51:46.504Z"
   },
   {
    "duration": 156,
    "start_time": "2024-06-29T12:51:47.484Z"
   },
   {
    "duration": 157,
    "start_time": "2024-06-29T12:51:47.642Z"
   },
   {
    "duration": 306,
    "start_time": "2024-06-29T12:51:47.801Z"
   },
   {
    "duration": 309,
    "start_time": "2024-06-29T12:51:48.108Z"
   },
   {
    "duration": 346,
    "start_time": "2024-06-29T12:51:48.419Z"
   },
   {
    "duration": 89,
    "start_time": "2024-06-29T13:44:36.978Z"
   },
   {
    "duration": 286,
    "start_time": "2024-06-29T13:44:37.069Z"
   },
   {
    "duration": 310,
    "start_time": "2024-06-29T13:44:37.357Z"
   },
   {
    "duration": 58,
    "start_time": "2024-06-29T13:44:37.669Z"
   },
   {
    "duration": 147,
    "start_time": "2024-06-29T13:45:35.704Z"
   },
   {
    "duration": 31,
    "start_time": "2024-06-29T13:48:06.612Z"
   },
   {
    "duration": 53,
    "start_time": "2024-06-29T13:48:24.199Z"
   },
   {
    "duration": 50,
    "start_time": "2024-06-29T13:49:54.457Z"
   },
   {
    "duration": 483,
    "start_time": "2024-06-29T13:50:11.959Z"
   },
   {
    "duration": 12836,
    "start_time": "2024-06-29T13:51:20.027Z"
   },
   {
    "duration": 6,
    "start_time": "2024-06-29T13:51:32.866Z"
   },
   {
    "duration": 977,
    "start_time": "2024-06-29T13:51:32.874Z"
   },
   {
    "duration": 156,
    "start_time": "2024-06-29T13:51:33.852Z"
   },
   {
    "duration": 217,
    "start_time": "2024-06-29T13:51:34.011Z"
   },
   {
    "duration": 258,
    "start_time": "2024-06-29T13:51:34.229Z"
   },
   {
    "duration": 313,
    "start_time": "2024-06-29T13:51:34.491Z"
   },
   {
    "duration": 282,
    "start_time": "2024-06-29T13:51:34.806Z"
   },
   {
    "duration": 2,
    "start_time": "2024-06-29T13:51:35.091Z"
   },
   {
    "duration": 19,
    "start_time": "2024-06-29T13:51:35.094Z"
   },
   {
    "duration": 171,
    "start_time": "2024-06-29T13:51:42.844Z"
   },
   {
    "duration": 175,
    "start_time": "2024-06-29T13:52:16.588Z"
   },
   {
    "duration": 503,
    "start_time": "2024-06-29T13:52:16.765Z"
   },
   {
    "duration": 8536,
    "start_time": "2024-06-29T14:06:50.095Z"
   },
   {
    "duration": 9230,
    "start_time": "2024-06-29T14:08:14.647Z"
   },
   {
    "duration": 6909,
    "start_time": "2024-06-29T14:08:52.661Z"
   },
   {
    "duration": 1320,
    "start_time": "2024-06-29T14:09:10.370Z"
   },
   {
    "duration": 6865,
    "start_time": "2024-06-29T14:09:11.692Z"
   },
   {
    "duration": 42,
    "start_time": "2024-06-29T14:14:25.848Z"
   },
   {
    "duration": 37,
    "start_time": "2024-06-29T14:23:22.184Z"
   },
   {
    "duration": 17,
    "start_time": "2024-06-29T14:32:46.589Z"
   },
   {
    "duration": 0,
    "start_time": "2024-06-29T14:32:46.608Z"
   },
   {
    "duration": 0,
    "start_time": "2024-06-29T14:32:46.609Z"
   },
   {
    "duration": 0,
    "start_time": "2024-06-29T14:32:46.610Z"
   },
   {
    "duration": 0,
    "start_time": "2024-06-29T14:32:46.611Z"
   },
   {
    "duration": 489,
    "start_time": "2024-06-29T14:33:13.722Z"
   },
   {
    "duration": 0,
    "start_time": "2024-06-29T14:33:14.213Z"
   },
   {
    "duration": 0,
    "start_time": "2024-06-29T14:33:14.214Z"
   },
   {
    "duration": 0,
    "start_time": "2024-06-29T14:33:14.216Z"
   },
   {
    "duration": 0,
    "start_time": "2024-06-29T14:33:14.217Z"
   },
   {
    "duration": 16598,
    "start_time": "2024-06-29T14:34:14.622Z"
   },
   {
    "duration": 7,
    "start_time": "2024-06-29T14:34:31.224Z"
   },
   {
    "duration": 87,
    "start_time": "2024-06-29T14:34:31.233Z"
   },
   {
    "duration": 922,
    "start_time": "2024-06-29T14:34:31.322Z"
   },
   {
    "duration": 162,
    "start_time": "2024-06-29T14:34:32.247Z"
   },
   {
    "duration": 150,
    "start_time": "2024-06-29T14:34:32.413Z"
   },
   {
    "duration": 281,
    "start_time": "2024-06-29T14:34:32.564Z"
   },
   {
    "duration": 315,
    "start_time": "2024-06-29T14:34:32.847Z"
   },
   {
    "duration": 301,
    "start_time": "2024-06-29T14:34:33.164Z"
   },
   {
    "duration": 374,
    "start_time": "2024-06-29T14:34:33.467Z"
   },
   {
    "duration": 0,
    "start_time": "2024-06-29T14:34:33.842Z"
   },
   {
    "duration": 0,
    "start_time": "2024-06-29T14:34:33.843Z"
   },
   {
    "duration": 0,
    "start_time": "2024-06-29T14:34:33.844Z"
   },
   {
    "duration": 0,
    "start_time": "2024-06-29T14:34:33.845Z"
   },
   {
    "duration": 295,
    "start_time": "2024-06-29T14:35:06.072Z"
   },
   {
    "duration": 0,
    "start_time": "2024-06-29T14:35:06.369Z"
   },
   {
    "duration": 0,
    "start_time": "2024-06-29T14:35:06.370Z"
   },
   {
    "duration": 0,
    "start_time": "2024-06-29T14:35:06.371Z"
   },
   {
    "duration": 0,
    "start_time": "2024-06-29T14:35:06.372Z"
   },
   {
    "duration": 338,
    "start_time": "2024-06-29T14:35:24.773Z"
   },
   {
    "duration": 0,
    "start_time": "2024-06-29T14:35:25.113Z"
   },
   {
    "duration": 0,
    "start_time": "2024-06-29T14:35:25.114Z"
   },
   {
    "duration": 0,
    "start_time": "2024-06-29T14:35:25.116Z"
   },
   {
    "duration": 0,
    "start_time": "2024-06-29T14:35:25.118Z"
   },
   {
    "duration": 516,
    "start_time": "2024-06-29T14:35:58.875Z"
   },
   {
    "duration": 221,
    "start_time": "2024-06-29T14:35:59.393Z"
   },
   {
    "duration": 1451,
    "start_time": "2024-06-29T14:35:59.616Z"
   },
   {
    "duration": 12171,
    "start_time": "2024-06-29T14:36:01.070Z"
   },
   {
    "duration": 51,
    "start_time": "2024-06-29T14:36:13.242Z"
   },
   {
    "duration": 190,
    "start_time": "2024-06-29T14:37:09.610Z"
   },
   {
    "duration": 180,
    "start_time": "2024-06-29T14:37:35.841Z"
   },
   {
    "duration": 540,
    "start_time": "2024-06-29T14:39:18.050Z"
   },
   {
    "duration": 7,
    "start_time": "2024-06-29T14:39:18.598Z"
   },
   {
    "duration": 1300,
    "start_time": "2024-06-29T14:39:18.607Z"
   },
   {
    "duration": 11348,
    "start_time": "2024-06-29T14:39:19.909Z"
   },
   {
    "duration": 57,
    "start_time": "2024-06-29T14:39:31.259Z"
   },
   {
    "duration": 315,
    "start_time": "2024-06-29T14:39:31.318Z"
   },
   {
    "duration": 504,
    "start_time": "2024-06-29T14:40:52.869Z"
   },
   {
    "duration": 178,
    "start_time": "2024-06-29T14:40:53.375Z"
   },
   {
    "duration": 2,
    "start_time": "2024-06-29T14:40:53.554Z"
   },
   {
    "duration": 1319,
    "start_time": "2024-06-29T14:40:53.558Z"
   },
   {
    "duration": 11371,
    "start_time": "2024-06-29T14:40:54.879Z"
   },
   {
    "duration": 58,
    "start_time": "2024-06-29T14:41:06.252Z"
   },
   {
    "duration": 207,
    "start_time": "2024-06-29T14:41:06.312Z"
   },
   {
    "duration": 500,
    "start_time": "2024-06-29T14:41:36.062Z"
   },
   {
    "duration": 0,
    "start_time": "2024-06-29T14:41:36.564Z"
   },
   {
    "duration": 0,
    "start_time": "2024-06-29T14:41:36.565Z"
   },
   {
    "duration": 0,
    "start_time": "2024-06-29T14:41:36.566Z"
   },
   {
    "duration": 0,
    "start_time": "2024-06-29T14:41:36.567Z"
   },
   {
    "duration": 0,
    "start_time": "2024-06-29T14:41:36.569Z"
   },
   {
    "duration": 0,
    "start_time": "2024-06-29T14:41:36.570Z"
   },
   {
    "duration": 14206,
    "start_time": "2024-06-29T14:41:52.323Z"
   },
   {
    "duration": 1708,
    "start_time": "2024-06-29T14:42:06.531Z"
   },
   {
    "duration": 6,
    "start_time": "2024-06-29T14:42:08.241Z"
   },
   {
    "duration": 1074,
    "start_time": "2024-06-29T14:42:08.249Z"
   },
   {
    "duration": 169,
    "start_time": "2024-06-29T14:42:09.325Z"
   },
   {
    "duration": 152,
    "start_time": "2024-06-29T14:42:09.506Z"
   },
   {
    "duration": 319,
    "start_time": "2024-06-29T14:42:09.660Z"
   },
   {
    "duration": 379,
    "start_time": "2024-06-29T14:42:09.981Z"
   },
   {
    "duration": 400,
    "start_time": "2024-06-29T14:42:10.362Z"
   },
   {
    "duration": 515,
    "start_time": "2024-06-29T14:42:10.764Z"
   },
   {
    "duration": 0,
    "start_time": "2024-06-29T14:42:11.280Z"
   },
   {
    "duration": 0,
    "start_time": "2024-06-29T14:42:11.281Z"
   },
   {
    "duration": 0,
    "start_time": "2024-06-29T14:42:11.282Z"
   },
   {
    "duration": 0,
    "start_time": "2024-06-29T14:42:11.295Z"
   },
   {
    "duration": 0,
    "start_time": "2024-06-29T14:42:11.296Z"
   },
   {
    "duration": 0,
    "start_time": "2024-06-29T14:42:11.304Z"
   },
   {
    "duration": 94,
    "start_time": "2024-06-29T14:52:17.141Z"
   },
   {
    "duration": 303,
    "start_time": "2024-06-29T14:52:17.237Z"
   },
   {
    "duration": 362,
    "start_time": "2024-06-29T14:52:17.541Z"
   },
   {
    "duration": 7647,
    "start_time": "2024-06-29T14:52:17.905Z"
   },
   {
    "duration": 46,
    "start_time": "2024-06-29T14:52:25.555Z"
   },
   {
    "duration": 5,
    "start_time": "2024-06-29T14:52:25.602Z"
   },
   {
    "duration": 1358,
    "start_time": "2024-06-29T14:52:25.609Z"
   },
   {
    "duration": 7147,
    "start_time": "2024-06-29T14:52:26.969Z"
   },
   {
    "duration": 37,
    "start_time": "2024-06-29T14:52:34.117Z"
   },
   {
    "duration": 142,
    "start_time": "2024-06-29T14:52:34.155Z"
   },
   {
    "duration": 10,
    "start_time": "2024-06-29T14:54:12.532Z"
   },
   {
    "duration": 0,
    "start_time": "2024-06-29T14:54:12.543Z"
   },
   {
    "duration": 0,
    "start_time": "2024-06-29T14:54:12.545Z"
   },
   {
    "duration": 0,
    "start_time": "2024-06-29T14:54:12.546Z"
   },
   {
    "duration": 0,
    "start_time": "2024-06-29T14:54:12.547Z"
   },
   {
    "duration": 0,
    "start_time": "2024-06-29T14:54:12.548Z"
   },
   {
    "duration": 0,
    "start_time": "2024-06-29T14:54:12.548Z"
   },
   {
    "duration": 20,
    "start_time": "2024-06-29T14:54:22.285Z"
   },
   {
    "duration": 82,
    "start_time": "2024-06-29T14:54:22.307Z"
   },
   {
    "duration": 32,
    "start_time": "2024-06-29T14:54:22.391Z"
   },
   {
    "duration": 1328,
    "start_time": "2024-06-29T14:54:22.425Z"
   },
   {
    "duration": 7427,
    "start_time": "2024-06-29T14:54:23.756Z"
   },
   {
    "duration": 43,
    "start_time": "2024-06-29T14:54:31.184Z"
   },
   {
    "duration": 450,
    "start_time": "2024-06-29T14:54:31.229Z"
   },
   {
    "duration": 56,
    "start_time": "2024-06-29T14:55:20.882Z"
   },
   {
    "duration": 126,
    "start_time": "2024-06-29T14:55:27.823Z"
   },
   {
    "duration": 13754,
    "start_time": "2024-06-29T14:55:35.779Z"
   },
   {
    "duration": 1803,
    "start_time": "2024-06-29T14:55:49.536Z"
   },
   {
    "duration": 6,
    "start_time": "2024-06-29T14:55:51.344Z"
   },
   {
    "duration": 1091,
    "start_time": "2024-06-29T14:55:51.352Z"
   },
   {
    "duration": 193,
    "start_time": "2024-06-29T14:55:52.444Z"
   },
   {
    "duration": 169,
    "start_time": "2024-06-29T14:55:52.638Z"
   },
   {
    "duration": 306,
    "start_time": "2024-06-29T14:55:52.808Z"
   },
   {
    "duration": 358,
    "start_time": "2024-06-29T14:55:53.116Z"
   },
   {
    "duration": 401,
    "start_time": "2024-06-29T14:55:53.476Z"
   },
   {
    "duration": 7840,
    "start_time": "2024-06-29T14:55:53.879Z"
   },
   {
    "duration": 22,
    "start_time": "2024-06-29T14:56:01.721Z"
   },
   {
    "duration": 282,
    "start_time": "2024-06-29T14:56:01.745Z"
   },
   {
    "duration": 37,
    "start_time": "2024-06-29T14:56:02.031Z"
   },
   {
    "duration": 1379,
    "start_time": "2024-06-29T14:56:02.070Z"
   },
   {
    "duration": 7883,
    "start_time": "2024-06-29T14:56:03.450Z"
   },
   {
    "duration": 19,
    "start_time": "2024-06-29T14:56:11.335Z"
   },
   {
    "duration": 140,
    "start_time": "2024-06-29T14:56:11.356Z"
   },
   {
    "duration": 138,
    "start_time": "2024-06-29T15:01:59.780Z"
   },
   {
    "duration": 0,
    "start_time": "2024-06-29T15:01:59.920Z"
   },
   {
    "duration": 0,
    "start_time": "2024-06-29T15:01:59.921Z"
   },
   {
    "duration": 0,
    "start_time": "2024-06-29T15:01:59.922Z"
   },
   {
    "duration": 27,
    "start_time": "2024-06-29T15:02:13.776Z"
   },
   {
    "duration": 53,
    "start_time": "2024-06-29T15:02:13.805Z"
   },
   {
    "duration": 27,
    "start_time": "2024-06-29T15:02:13.860Z"
   },
   {
    "duration": 28,
    "start_time": "2024-06-29T15:02:13.889Z"
   },
   {
    "duration": 133,
    "start_time": "2024-06-29T15:02:13.919Z"
   },
   {
    "duration": 38,
    "start_time": "2024-06-29T15:02:27.036Z"
   },
   {
    "duration": 41,
    "start_time": "2024-06-29T15:02:27.076Z"
   },
   {
    "duration": 26,
    "start_time": "2024-06-29T15:02:27.118Z"
   },
   {
    "duration": 164,
    "start_time": "2024-06-29T15:02:27.146Z"
   },
   {
    "duration": 248,
    "start_time": "2024-06-29T15:04:39.426Z"
   },
   {
    "duration": 99,
    "start_time": "2024-06-29T15:04:39.676Z"
   },
   {
    "duration": 15,
    "start_time": "2024-06-29T15:23:13.505Z"
   },
   {
    "duration": 44,
    "start_time": "2024-06-29T15:23:13.521Z"
   },
   {
    "duration": 14,
    "start_time": "2024-06-29T15:25:48.645Z"
   },
   {
    "duration": 28421,
    "start_time": "2024-06-29T15:25:48.662Z"
   },
   {
    "duration": 4151,
    "start_time": "2024-06-29T15:28:00.384Z"
   },
   {
    "duration": 78,
    "start_time": "2024-06-29T15:29:49.363Z"
   },
   {
    "duration": 169,
    "start_time": "2024-06-29T15:33:35.321Z"
   },
   {
    "duration": 172,
    "start_time": "2024-06-29T15:35:42.408Z"
   },
   {
    "duration": 152,
    "start_time": "2024-06-29T15:36:00.906Z"
   },
   {
    "duration": 67,
    "start_time": "2024-06-29T15:36:19.086Z"
   },
   {
    "duration": 387,
    "start_time": "2024-06-29T15:38:48.057Z"
   },
   {
    "duration": 323,
    "start_time": "2024-06-29T15:39:02.109Z"
   },
   {
    "duration": 350,
    "start_time": "2024-06-29T15:40:26.419Z"
   },
   {
    "duration": 340,
    "start_time": "2024-06-29T15:40:26.771Z"
   },
   {
    "duration": 314,
    "start_time": "2024-06-29T15:40:27.113Z"
   },
   {
    "duration": 272,
    "start_time": "2024-06-29T15:43:46.087Z"
   },
   {
    "duration": 356,
    "start_time": "2024-06-29T15:43:46.361Z"
   },
   {
    "duration": 304,
    "start_time": "2024-06-29T15:43:46.719Z"
   },
   {
    "duration": 483,
    "start_time": "2024-06-29T15:44:17.146Z"
   },
   {
    "duration": 343,
    "start_time": "2024-06-29T15:44:17.631Z"
   },
   {
    "duration": 313,
    "start_time": "2024-06-29T15:44:17.976Z"
   },
   {
    "duration": 319,
    "start_time": "2024-06-29T15:46:58.658Z"
   },
   {
    "duration": 0,
    "start_time": "2024-06-29T15:46:58.979Z"
   },
   {
    "duration": 0,
    "start_time": "2024-06-29T15:46:58.980Z"
   },
   {
    "duration": 334,
    "start_time": "2024-06-29T15:47:13.597Z"
   },
   {
    "duration": 0,
    "start_time": "2024-06-29T15:47:13.933Z"
   },
   {
    "duration": 0,
    "start_time": "2024-06-29T15:47:13.934Z"
   },
   {
    "duration": 341,
    "start_time": "2024-06-29T15:47:22.231Z"
   },
   {
    "duration": 319,
    "start_time": "2024-06-29T15:47:22.575Z"
   },
   {
    "duration": 279,
    "start_time": "2024-06-29T15:47:22.895Z"
   },
   {
    "duration": 340,
    "start_time": "2024-06-29T15:47:38.613Z"
   },
   {
    "duration": 323,
    "start_time": "2024-06-29T15:47:38.955Z"
   },
   {
    "duration": 286,
    "start_time": "2024-06-29T15:47:39.279Z"
   },
   {
    "duration": 512,
    "start_time": "2024-06-29T15:47:45.804Z"
   },
   {
    "duration": 315,
    "start_time": "2024-06-29T15:47:46.318Z"
   },
   {
    "duration": 272,
    "start_time": "2024-06-29T15:47:46.635Z"
   },
   {
    "duration": 363,
    "start_time": "2024-06-29T15:47:55.088Z"
   },
   {
    "duration": 334,
    "start_time": "2024-06-29T15:47:55.453Z"
   },
   {
    "duration": 282,
    "start_time": "2024-06-29T15:47:55.789Z"
   },
   {
    "duration": 55,
    "start_time": "2024-06-29T15:58:12.008Z"
   },
   {
    "duration": 3295,
    "start_time": "2024-06-29T15:58:12.066Z"
   },
   {
    "duration": 520,
    "start_time": "2024-06-29T15:58:15.363Z"
   },
   {
    "duration": 327,
    "start_time": "2024-06-29T15:58:15.884Z"
   },
   {
    "duration": 269,
    "start_time": "2024-06-29T15:58:16.213Z"
   },
   {
    "duration": 12,
    "start_time": "2024-06-29T16:13:21.171Z"
   },
   {
    "duration": 0,
    "start_time": "2024-06-29T16:13:21.185Z"
   },
   {
    "duration": 0,
    "start_time": "2024-06-29T16:13:21.187Z"
   },
   {
    "duration": 0,
    "start_time": "2024-06-29T16:13:21.189Z"
   },
   {
    "duration": 0,
    "start_time": "2024-06-29T16:13:21.191Z"
   },
   {
    "duration": 175,
    "start_time": "2024-06-29T16:14:58.686Z"
   },
   {
    "duration": 3417,
    "start_time": "2024-06-29T16:14:58.863Z"
   },
   {
    "duration": 365,
    "start_time": "2024-06-29T16:15:02.282Z"
   },
   {
    "duration": 347,
    "start_time": "2024-06-29T16:15:02.649Z"
   },
   {
    "duration": 310,
    "start_time": "2024-06-29T16:15:02.999Z"
   },
   {
    "duration": 15,
    "start_time": "2024-06-29T16:21:24.874Z"
   },
   {
    "duration": 15,
    "start_time": "2024-06-29T16:24:16.161Z"
   },
   {
    "duration": 68,
    "start_time": "2024-06-29T16:24:16.178Z"
   },
   {
    "duration": 13,
    "start_time": "2024-06-29T16:24:16.247Z"
   },
   {
    "duration": 15115,
    "start_time": "2024-06-29T16:24:34.186Z"
   },
   {
    "duration": 2185,
    "start_time": "2024-06-29T16:24:49.309Z"
   },
   {
    "duration": 8,
    "start_time": "2024-06-29T16:24:51.505Z"
   },
   {
    "duration": 61,
    "start_time": "2024-06-29T16:24:51.516Z"
   },
   {
    "duration": 26,
    "start_time": "2024-06-29T16:24:51.579Z"
   },
   {
    "duration": 1116,
    "start_time": "2024-06-29T16:24:51.607Z"
   },
   {
    "duration": 192,
    "start_time": "2024-06-29T16:24:52.725Z"
   },
   {
    "duration": 270,
    "start_time": "2024-06-29T16:24:52.920Z"
   },
   {
    "duration": 324,
    "start_time": "2024-06-29T16:24:53.192Z"
   },
   {
    "duration": 390,
    "start_time": "2024-06-29T16:24:53.517Z"
   },
   {
    "duration": 440,
    "start_time": "2024-06-29T16:24:53.911Z"
   },
   {
    "duration": 8403,
    "start_time": "2024-06-29T16:24:54.353Z"
   },
   {
    "duration": 22,
    "start_time": "2024-06-29T16:25:02.760Z"
   },
   {
    "duration": 59,
    "start_time": "2024-06-29T16:25:02.791Z"
   },
   {
    "duration": 28,
    "start_time": "2024-06-29T16:25:02.852Z"
   },
   {
    "duration": 1541,
    "start_time": "2024-06-29T16:25:02.882Z"
   },
   {
    "duration": 8198,
    "start_time": "2024-06-29T16:25:04.425Z"
   },
   {
    "duration": 20,
    "start_time": "2024-06-29T16:25:12.625Z"
   },
   {
    "duration": 67,
    "start_time": "2024-06-29T16:25:12.646Z"
   },
   {
    "duration": 36,
    "start_time": "2024-06-29T16:25:12.717Z"
   },
   {
    "duration": 29,
    "start_time": "2024-06-29T16:25:12.755Z"
   },
   {
    "duration": 343,
    "start_time": "2024-06-29T16:25:12.785Z"
   },
   {
    "duration": 114,
    "start_time": "2024-06-29T16:25:13.130Z"
   },
   {
    "duration": 215,
    "start_time": "2024-06-29T16:25:13.246Z"
   },
   {
    "duration": 3941,
    "start_time": "2024-06-29T16:25:13.463Z"
   },
   {
    "duration": 416,
    "start_time": "2024-06-29T16:25:17.406Z"
   },
   {
    "duration": 453,
    "start_time": "2024-06-29T16:25:17.824Z"
   },
   {
    "duration": 296,
    "start_time": "2024-06-29T16:25:18.279Z"
   },
   {
    "duration": 36,
    "start_time": "2024-06-29T16:25:18.577Z"
   },
   {
    "duration": 80,
    "start_time": "2024-06-29T16:25:18.615Z"
   },
   {
    "duration": 6129,
    "start_time": "2024-06-29T16:25:18.697Z"
   },
   {
    "duration": 156,
    "start_time": "2024-06-29T16:34:37.168Z"
   },
   {
    "duration": 3,
    "start_time": "2024-06-29T16:34:47.053Z"
   },
   {
    "duration": 2138,
    "start_time": "2024-06-29T16:34:47.060Z"
   },
   {
    "duration": 5,
    "start_time": "2024-06-29T16:35:52.582Z"
   },
   {
    "duration": 2157,
    "start_time": "2024-06-29T16:35:52.589Z"
   },
   {
    "duration": 4,
    "start_time": "2024-06-29T16:36:07.259Z"
   },
   {
    "duration": 2277,
    "start_time": "2024-06-29T16:36:07.265Z"
   },
   {
    "duration": 16108,
    "start_time": "2024-06-30T17:24:40.639Z"
   },
   {
    "duration": 1775,
    "start_time": "2024-06-30T17:24:56.749Z"
   },
   {
    "duration": 6,
    "start_time": "2024-06-30T17:24:58.526Z"
   },
   {
    "duration": 13,
    "start_time": "2024-06-30T17:24:58.535Z"
   },
   {
    "duration": 25,
    "start_time": "2024-06-30T17:24:58.550Z"
   },
   {
    "duration": 2842,
    "start_time": "2024-06-30T17:24:58.577Z"
   },
   {
    "duration": 142,
    "start_time": "2024-06-30T17:25:01.420Z"
   },
   {
    "duration": 132,
    "start_time": "2024-06-30T17:25:01.564Z"
   },
   {
    "duration": 261,
    "start_time": "2024-06-30T17:25:01.698Z"
   },
   {
    "duration": 284,
    "start_time": "2024-06-30T17:25:01.964Z"
   },
   {
    "duration": 348,
    "start_time": "2024-06-30T17:25:02.249Z"
   },
   {
    "duration": 6392,
    "start_time": "2024-06-30T17:25:02.599Z"
   },
   {
    "duration": 24,
    "start_time": "2024-06-30T17:25:08.993Z"
   },
   {
    "duration": 46,
    "start_time": "2024-06-30T17:25:09.020Z"
   },
   {
    "duration": 10,
    "start_time": "2024-06-30T17:25:09.067Z"
   },
   {
    "duration": 1189,
    "start_time": "2024-06-30T17:25:09.078Z"
   },
   {
    "duration": 6234,
    "start_time": "2024-06-30T17:25:10.269Z"
   },
   {
    "duration": 17,
    "start_time": "2024-06-30T17:25:16.504Z"
   },
   {
    "duration": 42,
    "start_time": "2024-06-30T17:25:16.523Z"
   },
   {
    "duration": 18,
    "start_time": "2024-06-30T17:25:16.567Z"
   },
   {
    "duration": 19,
    "start_time": "2024-06-30T17:25:16.587Z"
   },
   {
    "duration": 261,
    "start_time": "2024-06-30T17:25:16.607Z"
   },
   {
    "duration": 96,
    "start_time": "2024-06-30T17:25:16.870Z"
   },
   {
    "duration": 161,
    "start_time": "2024-06-30T17:25:16.968Z"
   },
   {
    "duration": 2946,
    "start_time": "2024-06-30T17:25:17.130Z"
   },
   {
    "duration": 324,
    "start_time": "2024-06-30T17:25:20.077Z"
   },
   {
    "duration": 307,
    "start_time": "2024-06-30T17:25:20.402Z"
   },
   {
    "duration": 246,
    "start_time": "2024-06-30T17:25:20.712Z"
   },
   {
    "duration": 12,
    "start_time": "2024-06-30T17:25:20.964Z"
   },
   {
    "duration": 54,
    "start_time": "2024-06-30T17:25:20.977Z"
   },
   {
    "duration": 4821,
    "start_time": "2024-06-30T17:25:21.033Z"
   },
   {
    "duration": 2,
    "start_time": "2024-06-30T17:25:25.856Z"
   },
   {
    "duration": 1696,
    "start_time": "2024-06-30T17:25:25.865Z"
   },
   {
    "duration": 44,
    "start_time": "2024-06-30T17:58:06.404Z"
   },
   {
    "duration": 11803,
    "start_time": "2024-06-30T17:58:21.825Z"
   },
   {
    "duration": 2188,
    "start_time": "2024-06-30T17:58:33.630Z"
   },
   {
    "duration": 5,
    "start_time": "2024-06-30T17:58:35.820Z"
   },
   {
    "duration": 23,
    "start_time": "2024-06-30T17:58:35.827Z"
   },
   {
    "duration": 9,
    "start_time": "2024-06-30T17:58:35.852Z"
   },
   {
    "duration": 2840,
    "start_time": "2024-06-30T17:58:35.862Z"
   },
   {
    "duration": 137,
    "start_time": "2024-06-30T17:58:38.704Z"
   },
   {
    "duration": 190,
    "start_time": "2024-06-30T17:58:38.842Z"
   },
   {
    "duration": 255,
    "start_time": "2024-06-30T17:58:39.034Z"
   },
   {
    "duration": 343,
    "start_time": "2024-06-30T17:58:39.290Z"
   },
   {
    "duration": 319,
    "start_time": "2024-06-30T17:58:39.634Z"
   },
   {
    "duration": 6519,
    "start_time": "2024-06-30T17:58:39.955Z"
   },
   {
    "duration": 20,
    "start_time": "2024-06-30T17:58:46.478Z"
   },
   {
    "duration": 34,
    "start_time": "2024-06-30T17:58:46.501Z"
   },
   {
    "duration": 4,
    "start_time": "2024-06-30T17:58:46.537Z"
   },
   {
    "duration": 1087,
    "start_time": "2024-06-30T17:58:46.542Z"
   },
   {
    "duration": 6254,
    "start_time": "2024-06-30T17:58:47.631Z"
   },
   {
    "duration": 18,
    "start_time": "2024-06-30T17:58:53.887Z"
   },
   {
    "duration": 34,
    "start_time": "2024-06-30T17:58:53.906Z"
   },
   {
    "duration": 32,
    "start_time": "2024-06-30T17:58:53.942Z"
   },
   {
    "duration": 21,
    "start_time": "2024-06-30T17:58:53.976Z"
   },
   {
    "duration": 222,
    "start_time": "2024-06-30T17:58:53.998Z"
   },
   {
    "duration": 93,
    "start_time": "2024-06-30T17:58:54.222Z"
   },
   {
    "duration": 165,
    "start_time": "2024-06-30T17:58:54.317Z"
   },
   {
    "duration": 2922,
    "start_time": "2024-06-30T17:58:54.484Z"
   },
   {
    "duration": 318,
    "start_time": "2024-06-30T17:58:57.407Z"
   },
   {
    "duration": 321,
    "start_time": "2024-06-30T17:58:57.727Z"
   },
   {
    "duration": 241,
    "start_time": "2024-06-30T17:58:58.050Z"
   },
   {
    "duration": 13,
    "start_time": "2024-06-30T17:58:58.292Z"
   },
   {
    "duration": 63,
    "start_time": "2024-06-30T17:58:58.307Z"
   },
   {
    "duration": 4790,
    "start_time": "2024-06-30T17:58:58.372Z"
   },
   {
    "duration": 3,
    "start_time": "2024-06-30T17:59:03.165Z"
   },
   {
    "duration": 1682,
    "start_time": "2024-06-30T17:59:03.169Z"
   },
   {
    "duration": 43,
    "start_time": "2024-06-30T18:02:41.217Z"
   },
   {
    "duration": 6,
    "start_time": "2024-06-30T18:03:07.086Z"
   },
   {
    "duration": 11727,
    "start_time": "2024-06-30T18:03:12.430Z"
   },
   {
    "duration": 2199,
    "start_time": "2024-06-30T18:03:24.160Z"
   },
   {
    "duration": 6,
    "start_time": "2024-06-30T18:03:26.360Z"
   },
   {
    "duration": 7,
    "start_time": "2024-06-30T18:03:26.368Z"
   },
   {
    "duration": 4,
    "start_time": "2024-06-30T18:03:26.376Z"
   },
   {
    "duration": 2821,
    "start_time": "2024-06-30T18:03:26.382Z"
   },
   {
    "duration": 135,
    "start_time": "2024-06-30T18:03:29.205Z"
   },
   {
    "duration": 133,
    "start_time": "2024-06-30T18:03:29.341Z"
   },
   {
    "duration": 246,
    "start_time": "2024-06-30T18:03:29.475Z"
   },
   {
    "duration": 302,
    "start_time": "2024-06-30T18:03:29.724Z"
   },
   {
    "duration": 315,
    "start_time": "2024-06-30T18:03:30.027Z"
   },
   {
    "duration": 6430,
    "start_time": "2024-06-30T18:03:30.344Z"
   },
   {
    "duration": 27,
    "start_time": "2024-06-30T18:03:36.776Z"
   },
   {
    "duration": 63,
    "start_time": "2024-06-30T18:03:36.804Z"
   },
   {
    "duration": 6,
    "start_time": "2024-06-30T18:03:36.868Z"
   },
   {
    "duration": 1073,
    "start_time": "2024-06-30T18:03:36.876Z"
   },
   {
    "duration": 6175,
    "start_time": "2024-06-30T18:03:37.950Z"
   },
   {
    "duration": 16,
    "start_time": "2024-06-30T18:03:44.126Z"
   },
   {
    "duration": 44,
    "start_time": "2024-06-30T18:03:44.143Z"
   },
   {
    "duration": 29,
    "start_time": "2024-06-30T18:03:44.189Z"
   },
   {
    "duration": 19,
    "start_time": "2024-06-30T18:03:44.219Z"
   },
   {
    "duration": 233,
    "start_time": "2024-06-30T18:03:44.240Z"
   },
   {
    "duration": 91,
    "start_time": "2024-06-30T18:03:44.475Z"
   },
   {
    "duration": 159,
    "start_time": "2024-06-30T18:03:44.568Z"
   },
   {
    "duration": 2851,
    "start_time": "2024-06-30T18:03:44.729Z"
   },
   {
    "duration": 311,
    "start_time": "2024-06-30T18:03:47.582Z"
   },
   {
    "duration": 272,
    "start_time": "2024-06-30T18:03:47.895Z"
   },
   {
    "duration": 246,
    "start_time": "2024-06-30T18:03:48.170Z"
   },
   {
    "duration": 14,
    "start_time": "2024-06-30T18:03:48.417Z"
   },
   {
    "duration": 63,
    "start_time": "2024-06-30T18:03:48.432Z"
   },
   {
    "duration": 4990,
    "start_time": "2024-06-30T18:03:48.496Z"
   },
   {
    "duration": 3,
    "start_time": "2024-06-30T18:03:53.487Z"
   },
   {
    "duration": 1675,
    "start_time": "2024-06-30T18:03:53.491Z"
   },
   {
    "duration": 2856,
    "start_time": "2024-06-30T18:03:55.168Z"
   },
   {
    "duration": 11711,
    "start_time": "2024-06-30T18:06:47.844Z"
   },
   {
    "duration": 1743,
    "start_time": "2024-06-30T18:06:59.558Z"
   },
   {
    "duration": 0,
    "start_time": "2024-06-30T18:07:01.303Z"
   },
   {
    "duration": 0,
    "start_time": "2024-06-30T18:07:01.304Z"
   },
   {
    "duration": 0,
    "start_time": "2024-06-30T18:07:01.306Z"
   },
   {
    "duration": 1,
    "start_time": "2024-06-30T18:07:01.306Z"
   },
   {
    "duration": 0,
    "start_time": "2024-06-30T18:07:01.307Z"
   },
   {
    "duration": 0,
    "start_time": "2024-06-30T18:07:01.308Z"
   },
   {
    "duration": 0,
    "start_time": "2024-06-30T18:07:01.310Z"
   },
   {
    "duration": 0,
    "start_time": "2024-06-30T18:07:01.311Z"
   },
   {
    "duration": 0,
    "start_time": "2024-06-30T18:07:01.312Z"
   },
   {
    "duration": 0,
    "start_time": "2024-06-30T18:07:01.314Z"
   },
   {
    "duration": 0,
    "start_time": "2024-06-30T18:07:01.315Z"
   },
   {
    "duration": 0,
    "start_time": "2024-06-30T18:07:01.316Z"
   },
   {
    "duration": 0,
    "start_time": "2024-06-30T18:07:01.318Z"
   },
   {
    "duration": 0,
    "start_time": "2024-06-30T18:07:01.319Z"
   },
   {
    "duration": 0,
    "start_time": "2024-06-30T18:07:01.320Z"
   },
   {
    "duration": 0,
    "start_time": "2024-06-30T18:07:01.322Z"
   },
   {
    "duration": 0,
    "start_time": "2024-06-30T18:07:01.323Z"
   },
   {
    "duration": 0,
    "start_time": "2024-06-30T18:07:01.325Z"
   },
   {
    "duration": 0,
    "start_time": "2024-06-30T18:07:01.326Z"
   },
   {
    "duration": 0,
    "start_time": "2024-06-30T18:07:01.366Z"
   },
   {
    "duration": 0,
    "start_time": "2024-06-30T18:07:01.367Z"
   },
   {
    "duration": 0,
    "start_time": "2024-06-30T18:07:01.368Z"
   },
   {
    "duration": 0,
    "start_time": "2024-06-30T18:07:01.370Z"
   },
   {
    "duration": 0,
    "start_time": "2024-06-30T18:07:01.371Z"
   },
   {
    "duration": 0,
    "start_time": "2024-06-30T18:07:01.372Z"
   },
   {
    "duration": 0,
    "start_time": "2024-06-30T18:07:01.373Z"
   },
   {
    "duration": 0,
    "start_time": "2024-06-30T18:07:01.374Z"
   },
   {
    "duration": 0,
    "start_time": "2024-06-30T18:07:01.376Z"
   },
   {
    "duration": 0,
    "start_time": "2024-06-30T18:07:01.377Z"
   },
   {
    "duration": 0,
    "start_time": "2024-06-30T18:07:01.378Z"
   },
   {
    "duration": 0,
    "start_time": "2024-06-30T18:07:01.379Z"
   },
   {
    "duration": 0,
    "start_time": "2024-06-30T18:07:01.380Z"
   },
   {
    "duration": 15646,
    "start_time": "2024-06-30T18:09:10.294Z"
   },
   {
    "duration": 2317,
    "start_time": "2024-06-30T18:09:25.942Z"
   },
   {
    "duration": 5,
    "start_time": "2024-06-30T18:09:28.261Z"
   },
   {
    "duration": 15,
    "start_time": "2024-06-30T18:09:28.267Z"
   },
   {
    "duration": 4,
    "start_time": "2024-06-30T18:09:28.284Z"
   },
   {
    "duration": 822,
    "start_time": "2024-06-30T18:09:28.290Z"
   },
   {
    "duration": 165,
    "start_time": "2024-06-30T18:09:29.114Z"
   },
   {
    "duration": 134,
    "start_time": "2024-06-30T18:09:29.280Z"
   },
   {
    "duration": 258,
    "start_time": "2024-06-30T18:09:29.415Z"
   },
   {
    "duration": 275,
    "start_time": "2024-06-30T18:09:29.675Z"
   },
   {
    "duration": 300,
    "start_time": "2024-06-30T18:09:29.952Z"
   },
   {
    "duration": 6323,
    "start_time": "2024-06-30T18:09:30.254Z"
   },
   {
    "duration": 18,
    "start_time": "2024-06-30T18:09:36.579Z"
   },
   {
    "duration": 36,
    "start_time": "2024-06-30T18:09:36.599Z"
   },
   {
    "duration": 2,
    "start_time": "2024-06-30T18:09:36.637Z"
   },
   {
    "duration": 1114,
    "start_time": "2024-06-30T18:09:36.640Z"
   },
   {
    "duration": 6553,
    "start_time": "2024-06-30T18:09:37.755Z"
   },
   {
    "duration": 17,
    "start_time": "2024-06-30T18:09:44.310Z"
   },
   {
    "duration": 41,
    "start_time": "2024-06-30T18:09:44.328Z"
   },
   {
    "duration": 18,
    "start_time": "2024-06-30T18:09:44.371Z"
   },
   {
    "duration": 27,
    "start_time": "2024-06-30T18:09:44.391Z"
   },
   {
    "duration": 224,
    "start_time": "2024-06-30T18:09:44.419Z"
   },
   {
    "duration": 87,
    "start_time": "2024-06-30T18:09:44.645Z"
   },
   {
    "duration": 170,
    "start_time": "2024-06-30T18:09:44.733Z"
   },
   {
    "duration": 2947,
    "start_time": "2024-06-30T18:09:44.904Z"
   },
   {
    "duration": 307,
    "start_time": "2024-06-30T18:09:47.852Z"
   },
   {
    "duration": 282,
    "start_time": "2024-06-30T18:09:48.161Z"
   },
   {
    "duration": 250,
    "start_time": "2024-06-30T18:09:48.444Z"
   },
   {
    "duration": 18,
    "start_time": "2024-06-30T18:09:48.696Z"
   },
   {
    "duration": 61,
    "start_time": "2024-06-30T18:09:48.716Z"
   },
   {
    "duration": 4893,
    "start_time": "2024-06-30T18:09:48.779Z"
   },
   {
    "duration": 3,
    "start_time": "2024-06-30T18:09:53.674Z"
   },
   {
    "duration": 1615,
    "start_time": "2024-06-30T18:09:53.678Z"
   },
   {
    "duration": 3889,
    "start_time": "2024-06-30T18:09:55.295Z"
   },
   {
    "duration": 8301,
    "start_time": "2024-06-30T18:13:20.835Z"
   },
   {
    "duration": 3656,
    "start_time": "2024-06-30T18:13:29.137Z"
   },
   {
    "duration": 2666,
    "start_time": "2024-06-30T18:26:35.110Z"
   },
   {
    "duration": 163,
    "start_time": "2024-06-30T18:33:38.032Z"
   },
   {
    "duration": 13,
    "start_time": "2024-06-30T18:33:49.714Z"
   },
   {
    "duration": 14524,
    "start_time": "2024-06-30T18:33:58.438Z"
   },
   {
    "duration": 2035,
    "start_time": "2024-06-30T18:34:12.964Z"
   },
   {
    "duration": 5,
    "start_time": "2024-06-30T18:34:15.001Z"
   },
   {
    "duration": 47,
    "start_time": "2024-06-30T18:34:15.008Z"
   },
   {
    "duration": 19,
    "start_time": "2024-06-30T18:34:15.057Z"
   },
   {
    "duration": 892,
    "start_time": "2024-06-30T18:34:15.078Z"
   },
   {
    "duration": 140,
    "start_time": "2024-06-30T18:34:15.971Z"
   },
   {
    "duration": 136,
    "start_time": "2024-06-30T18:34:16.113Z"
   },
   {
    "duration": 246,
    "start_time": "2024-06-30T18:34:16.250Z"
   },
   {
    "duration": 282,
    "start_time": "2024-06-30T18:34:16.498Z"
   },
   {
    "duration": 298,
    "start_time": "2024-06-30T18:34:16.781Z"
   },
   {
    "duration": 6408,
    "start_time": "2024-06-30T18:34:17.080Z"
   },
   {
    "duration": 17,
    "start_time": "2024-06-30T18:34:23.490Z"
   },
   {
    "duration": 102,
    "start_time": "2024-06-30T18:34:23.508Z"
   },
   {
    "duration": 5,
    "start_time": "2024-06-30T18:34:23.611Z"
   },
   {
    "duration": 1167,
    "start_time": "2024-06-30T18:34:23.617Z"
   },
   {
    "duration": 6735,
    "start_time": "2024-06-30T18:34:24.785Z"
   },
   {
    "duration": 18,
    "start_time": "2024-06-30T18:34:31.521Z"
   },
   {
    "duration": 76,
    "start_time": "2024-06-30T18:34:31.540Z"
   },
   {
    "duration": 33,
    "start_time": "2024-06-30T18:34:31.618Z"
   },
   {
    "duration": 71,
    "start_time": "2024-06-30T18:34:31.652Z"
   },
   {
    "duration": 253,
    "start_time": "2024-06-30T18:34:31.724Z"
   },
   {
    "duration": 97,
    "start_time": "2024-06-30T18:34:31.978Z"
   },
   {
    "duration": 161,
    "start_time": "2024-06-30T18:34:32.077Z"
   },
   {
    "duration": 2898,
    "start_time": "2024-06-30T18:34:32.240Z"
   },
   {
    "duration": 320,
    "start_time": "2024-06-30T18:34:35.140Z"
   },
   {
    "duration": 287,
    "start_time": "2024-06-30T18:34:35.461Z"
   },
   {
    "duration": 280,
    "start_time": "2024-06-30T18:34:35.751Z"
   },
   {
    "duration": 14,
    "start_time": "2024-06-30T18:34:36.033Z"
   },
   {
    "duration": 70,
    "start_time": "2024-06-30T18:34:36.049Z"
   },
   {
    "duration": 4982,
    "start_time": "2024-06-30T18:34:36.120Z"
   },
   {
    "duration": 3,
    "start_time": "2024-06-30T18:34:41.104Z"
   },
   {
    "duration": 1839,
    "start_time": "2024-06-30T18:34:41.109Z"
   },
   {
    "duration": 8191,
    "start_time": "2024-06-30T18:34:42.949Z"
   },
   {
    "duration": 2726,
    "start_time": "2024-06-30T18:34:51.142Z"
   },
   {
    "duration": 13918,
    "start_time": "2024-06-30T18:52:06.170Z"
   },
   {
    "duration": 1980,
    "start_time": "2024-06-30T18:52:20.091Z"
   },
   {
    "duration": 7,
    "start_time": "2024-06-30T18:52:22.074Z"
   },
   {
    "duration": 34,
    "start_time": "2024-06-30T18:52:22.083Z"
   },
   {
    "duration": 33,
    "start_time": "2024-06-30T18:52:22.119Z"
   },
   {
    "duration": 816,
    "start_time": "2024-06-30T18:52:22.154Z"
   },
   {
    "duration": 137,
    "start_time": "2024-06-30T18:52:22.971Z"
   },
   {
    "duration": 134,
    "start_time": "2024-06-30T18:52:23.109Z"
   },
   {
    "duration": 234,
    "start_time": "2024-06-30T18:52:23.244Z"
   },
   {
    "duration": 307,
    "start_time": "2024-06-30T18:52:23.480Z"
   },
   {
    "duration": 286,
    "start_time": "2024-06-30T18:52:23.789Z"
   },
   {
    "duration": 6257,
    "start_time": "2024-06-30T18:52:24.077Z"
   },
   {
    "duration": 17,
    "start_time": "2024-06-30T18:52:30.335Z"
   },
   {
    "duration": 61,
    "start_time": "2024-06-30T18:52:30.355Z"
   },
   {
    "duration": 39,
    "start_time": "2024-06-30T18:52:30.417Z"
   },
   {
    "duration": 1172,
    "start_time": "2024-06-30T18:52:30.458Z"
   },
   {
    "duration": 6329,
    "start_time": "2024-06-30T18:52:31.632Z"
   },
   {
    "duration": 17,
    "start_time": "2024-06-30T18:52:37.964Z"
   },
   {
    "duration": 43,
    "start_time": "2024-06-30T18:52:37.982Z"
   },
   {
    "duration": 18,
    "start_time": "2024-06-30T18:52:38.026Z"
   },
   {
    "duration": 27,
    "start_time": "2024-06-30T18:52:38.046Z"
   },
   {
    "duration": 235,
    "start_time": "2024-06-30T18:52:38.075Z"
   },
   {
    "duration": 91,
    "start_time": "2024-06-30T18:52:38.311Z"
   },
   {
    "duration": 154,
    "start_time": "2024-06-30T18:52:38.404Z"
   },
   {
    "duration": 2836,
    "start_time": "2024-06-30T18:52:38.560Z"
   },
   {
    "duration": 320,
    "start_time": "2024-06-30T18:52:41.399Z"
   },
   {
    "duration": 278,
    "start_time": "2024-06-30T18:52:41.721Z"
   },
   {
    "duration": 237,
    "start_time": "2024-06-30T18:52:42.000Z"
   },
   {
    "duration": 14,
    "start_time": "2024-06-30T18:52:42.238Z"
   },
   {
    "duration": 58,
    "start_time": "2024-06-30T18:52:42.253Z"
   },
   {
    "duration": 4736,
    "start_time": "2024-06-30T18:52:42.312Z"
   },
   {
    "duration": 3,
    "start_time": "2024-06-30T18:52:47.049Z"
   },
   {
    "duration": 1685,
    "start_time": "2024-06-30T18:52:47.054Z"
   },
   {
    "duration": 8063,
    "start_time": "2024-06-30T18:52:48.741Z"
   },
   {
    "duration": 3326,
    "start_time": "2024-06-30T18:52:56.805Z"
   },
   {
    "duration": 4,
    "start_time": "2024-06-30T18:53:00.132Z"
   },
   {
    "duration": 57,
    "start_time": "2024-06-30T18:53:00.137Z"
   },
   {
    "duration": 56,
    "start_time": "2024-06-30T18:53:00.196Z"
   },
   {
    "duration": 182,
    "start_time": "2024-06-30T18:53:00.254Z"
   },
   {
    "duration": 0,
    "start_time": "2024-06-30T18:53:00.438Z"
   },
   {
    "duration": 0,
    "start_time": "2024-06-30T18:53:00.439Z"
   },
   {
    "duration": 0,
    "start_time": "2024-06-30T18:53:00.440Z"
   },
   {
    "duration": 14313,
    "start_time": "2024-06-30T19:02:33.573Z"
   },
   {
    "duration": 2036,
    "start_time": "2024-06-30T19:02:47.888Z"
   },
   {
    "duration": 5,
    "start_time": "2024-06-30T19:02:49.926Z"
   },
   {
    "duration": 12,
    "start_time": "2024-06-30T19:02:49.932Z"
   },
   {
    "duration": 10,
    "start_time": "2024-06-30T19:02:49.946Z"
   },
   {
    "duration": 828,
    "start_time": "2024-06-30T19:02:49.957Z"
   },
   {
    "duration": 139,
    "start_time": "2024-06-30T19:02:50.787Z"
   },
   {
    "duration": 158,
    "start_time": "2024-06-30T19:02:50.928Z"
   },
   {
    "duration": 237,
    "start_time": "2024-06-30T19:02:51.088Z"
   },
   {
    "duration": 276,
    "start_time": "2024-06-30T19:02:51.327Z"
   },
   {
    "duration": 302,
    "start_time": "2024-06-30T19:02:51.604Z"
   },
   {
    "duration": 6515,
    "start_time": "2024-06-30T19:02:51.908Z"
   },
   {
    "duration": 18,
    "start_time": "2024-06-30T19:02:58.424Z"
   },
   {
    "duration": 41,
    "start_time": "2024-06-30T19:02:58.445Z"
   },
   {
    "duration": 20,
    "start_time": "2024-06-30T19:02:58.487Z"
   },
   {
    "duration": 1149,
    "start_time": "2024-06-30T19:02:58.508Z"
   },
   {
    "duration": 6599,
    "start_time": "2024-06-30T19:02:59.659Z"
   },
   {
    "duration": 18,
    "start_time": "2024-06-30T19:03:06.260Z"
   },
   {
    "duration": 50,
    "start_time": "2024-06-30T19:03:06.282Z"
   },
   {
    "duration": 34,
    "start_time": "2024-06-30T19:03:06.333Z"
   },
   {
    "duration": 44,
    "start_time": "2024-06-30T19:03:06.369Z"
   },
   {
    "duration": 248,
    "start_time": "2024-06-30T19:03:06.414Z"
   },
   {
    "duration": 91,
    "start_time": "2024-06-30T19:03:06.664Z"
   },
   {
    "duration": 168,
    "start_time": "2024-06-30T19:03:06.756Z"
   },
   {
    "duration": 2989,
    "start_time": "2024-06-30T19:03:06.926Z"
   },
   {
    "duration": 316,
    "start_time": "2024-06-30T19:03:09.917Z"
   },
   {
    "duration": 284,
    "start_time": "2024-06-30T19:03:10.235Z"
   },
   {
    "duration": 248,
    "start_time": "2024-06-30T19:03:10.520Z"
   },
   {
    "duration": 14,
    "start_time": "2024-06-30T19:03:10.769Z"
   },
   {
    "duration": 60,
    "start_time": "2024-06-30T19:03:10.784Z"
   },
   {
    "duration": 4815,
    "start_time": "2024-06-30T19:03:10.846Z"
   },
   {
    "duration": 3,
    "start_time": "2024-06-30T19:03:15.662Z"
   },
   {
    "duration": 1676,
    "start_time": "2024-06-30T19:03:15.667Z"
   },
   {
    "duration": 8303,
    "start_time": "2024-06-30T19:03:17.345Z"
   },
   {
    "duration": 3378,
    "start_time": "2024-06-30T19:03:25.649Z"
   },
   {
    "duration": 3,
    "start_time": "2024-06-30T19:03:29.028Z"
   },
   {
    "duration": 41,
    "start_time": "2024-06-30T19:03:29.032Z"
   },
   {
    "duration": 4,
    "start_time": "2024-06-30T19:03:29.075Z"
   },
   {
    "duration": 131,
    "start_time": "2024-06-30T19:03:29.080Z"
   },
   {
    "duration": 0,
    "start_time": "2024-06-30T19:03:29.213Z"
   },
   {
    "duration": 0,
    "start_time": "2024-06-30T19:03:29.214Z"
   },
   {
    "duration": 0,
    "start_time": "2024-06-30T19:03:29.215Z"
   },
   {
    "duration": 3,
    "start_time": "2024-06-30T19:05:36.055Z"
   },
   {
    "duration": 8,
    "start_time": "2024-06-30T19:05:36.060Z"
   },
   {
    "duration": 6,
    "start_time": "2024-06-30T19:05:36.069Z"
   },
   {
    "duration": 10,
    "start_time": "2024-06-30T19:05:36.077Z"
   },
   {
    "duration": 5,
    "start_time": "2024-06-30T19:05:36.089Z"
   },
   {
    "duration": 24,
    "start_time": "2024-06-30T19:05:36.095Z"
   },
   {
    "duration": 3,
    "start_time": "2024-06-30T19:05:51.866Z"
   },
   {
    "duration": 17,
    "start_time": "2024-06-30T19:05:51.871Z"
   },
   {
    "duration": 128,
    "start_time": "2024-06-30T19:05:51.889Z"
   },
   {
    "duration": 3,
    "start_time": "2024-06-30T19:08:13.979Z"
   },
   {
    "duration": 19,
    "start_time": "2024-06-30T19:08:13.984Z"
   },
   {
    "duration": 27,
    "start_time": "2024-06-30T19:08:14.004Z"
   },
   {
    "duration": 13,
    "start_time": "2024-06-30T19:08:14.032Z"
   },
   {
    "duration": 29,
    "start_time": "2024-06-30T19:08:14.047Z"
   },
   {
    "duration": 22,
    "start_time": "2024-06-30T19:08:14.077Z"
   },
   {
    "duration": 26,
    "start_time": "2024-06-30T19:08:14.100Z"
   },
   {
    "duration": 33,
    "start_time": "2024-06-30T19:08:14.127Z"
   },
   {
    "duration": 122,
    "start_time": "2024-06-30T19:08:14.161Z"
   },
   {
    "duration": 3,
    "start_time": "2024-06-30T19:08:14.284Z"
   },
   {
    "duration": 23,
    "start_time": "2024-06-30T19:08:14.289Z"
   },
   {
    "duration": 3,
    "start_time": "2024-06-30T19:10:57.551Z"
   },
   {
    "duration": 10,
    "start_time": "2024-06-30T19:10:57.555Z"
   },
   {
    "duration": 5,
    "start_time": "2024-06-30T19:10:57.567Z"
   },
   {
    "duration": 12,
    "start_time": "2024-06-30T19:10:57.573Z"
   },
   {
    "duration": 33,
    "start_time": "2024-06-30T19:10:57.587Z"
   },
   {
    "duration": 10,
    "start_time": "2024-06-30T19:10:57.622Z"
   },
   {
    "duration": 51,
    "start_time": "2024-06-30T19:10:57.634Z"
   },
   {
    "duration": 7,
    "start_time": "2024-06-30T19:10:57.687Z"
   },
   {
    "duration": 88,
    "start_time": "2024-06-30T19:10:57.696Z"
   },
   {
    "duration": 3,
    "start_time": "2024-06-30T19:10:57.786Z"
   },
   {
    "duration": 58,
    "start_time": "2024-06-30T19:10:57.791Z"
   },
   {
    "duration": 28,
    "start_time": "2024-06-30T19:10:57.851Z"
   },
   {
    "duration": 0,
    "start_time": "2024-06-30T19:10:57.880Z"
   },
   {
    "duration": 2,
    "start_time": "2024-06-30T19:11:48.495Z"
   },
   {
    "duration": 6,
    "start_time": "2024-06-30T19:11:48.499Z"
   },
   {
    "duration": 64,
    "start_time": "2024-06-30T19:11:48.506Z"
   },
   {
    "duration": 0,
    "start_time": "2024-06-30T19:11:48.572Z"
   },
   {
    "duration": 4,
    "start_time": "2024-06-30T19:13:49.437Z"
   },
   {
    "duration": 13,
    "start_time": "2024-06-30T19:13:49.443Z"
   },
   {
    "duration": 5,
    "start_time": "2024-06-30T19:13:49.458Z"
   },
   {
    "duration": 8,
    "start_time": "2024-06-30T19:13:49.464Z"
   },
   {
    "duration": 6,
    "start_time": "2024-06-30T19:13:49.474Z"
   },
   {
    "duration": 4,
    "start_time": "2024-06-30T19:13:49.481Z"
   },
   {
    "duration": 4,
    "start_time": "2024-06-30T19:13:49.486Z"
   },
   {
    "duration": 12,
    "start_time": "2024-06-30T19:13:49.491Z"
   },
   {
    "duration": 117,
    "start_time": "2024-06-30T19:13:49.504Z"
   },
   {
    "duration": 3,
    "start_time": "2024-06-30T19:13:49.623Z"
   },
   {
    "duration": 4,
    "start_time": "2024-06-30T19:13:49.627Z"
   },
   {
    "duration": 48,
    "start_time": "2024-06-30T19:13:49.633Z"
   },
   {
    "duration": 0,
    "start_time": "2024-06-30T19:13:49.683Z"
   },
   {
    "duration": 3,
    "start_time": "2024-06-30T19:16:06.208Z"
   },
   {
    "duration": 16,
    "start_time": "2024-06-30T19:16:06.213Z"
   },
   {
    "duration": 7,
    "start_time": "2024-06-30T19:16:06.230Z"
   },
   {
    "duration": 13,
    "start_time": "2024-06-30T19:16:06.239Z"
   },
   {
    "duration": 3,
    "start_time": "2024-06-30T19:16:06.253Z"
   },
   {
    "duration": 4,
    "start_time": "2024-06-30T19:16:06.258Z"
   },
   {
    "duration": 4,
    "start_time": "2024-06-30T19:16:06.263Z"
   },
   {
    "duration": 4,
    "start_time": "2024-06-30T19:16:06.268Z"
   },
   {
    "duration": 112,
    "start_time": "2024-06-30T19:16:06.274Z"
   },
   {
    "duration": 4,
    "start_time": "2024-06-30T19:16:06.388Z"
   },
   {
    "duration": 6,
    "start_time": "2024-06-30T19:16:06.393Z"
   },
   {
    "duration": 735891,
    "start_time": "2024-06-30T19:16:06.400Z"
   },
   {
    "duration": 13,
    "start_time": "2024-06-30T19:28:22.292Z"
   },
   {
    "duration": 14066,
    "start_time": "2024-06-30T19:32:21.147Z"
   },
   {
    "duration": 1940,
    "start_time": "2024-06-30T19:32:35.216Z"
   },
   {
    "duration": 8,
    "start_time": "2024-06-30T19:32:37.158Z"
   },
   {
    "duration": 6,
    "start_time": "2024-06-30T19:32:37.167Z"
   },
   {
    "duration": 7,
    "start_time": "2024-06-30T19:32:37.176Z"
   },
   {
    "duration": 854,
    "start_time": "2024-06-30T19:32:37.184Z"
   },
   {
    "duration": 139,
    "start_time": "2024-06-30T19:32:38.040Z"
   },
   {
    "duration": 126,
    "start_time": "2024-06-30T19:32:38.180Z"
   },
   {
    "duration": 240,
    "start_time": "2024-06-30T19:32:38.308Z"
   },
   {
    "duration": 282,
    "start_time": "2024-06-30T19:32:38.550Z"
   },
   {
    "duration": 363,
    "start_time": "2024-06-30T19:32:38.835Z"
   },
   {
    "duration": 6321,
    "start_time": "2024-06-30T19:32:39.200Z"
   },
   {
    "duration": 17,
    "start_time": "2024-06-30T19:32:45.522Z"
   },
   {
    "duration": 54,
    "start_time": "2024-06-30T19:32:45.542Z"
   },
   {
    "duration": 5,
    "start_time": "2024-06-30T19:32:45.598Z"
   },
   {
    "duration": 1064,
    "start_time": "2024-06-30T19:32:45.604Z"
   },
   {
    "duration": 6415,
    "start_time": "2024-06-30T19:32:46.669Z"
   },
   {
    "duration": 17,
    "start_time": "2024-06-30T19:32:53.085Z"
   },
   {
    "duration": 48,
    "start_time": "2024-06-30T19:32:53.104Z"
   },
   {
    "duration": 18,
    "start_time": "2024-06-30T19:32:53.154Z"
   },
   {
    "duration": 18,
    "start_time": "2024-06-30T19:32:53.173Z"
   },
   {
    "duration": 207,
    "start_time": "2024-06-30T19:32:53.193Z"
   },
   {
    "duration": 92,
    "start_time": "2024-06-30T19:32:53.402Z"
   },
   {
    "duration": 161,
    "start_time": "2024-06-30T19:32:53.495Z"
   },
   {
    "duration": 2820,
    "start_time": "2024-06-30T19:32:53.657Z"
   },
   {
    "duration": 304,
    "start_time": "2024-06-30T19:32:56.478Z"
   },
   {
    "duration": 295,
    "start_time": "2024-06-30T19:32:56.783Z"
   },
   {
    "duration": 244,
    "start_time": "2024-06-30T19:32:57.079Z"
   },
   {
    "duration": 13,
    "start_time": "2024-06-30T19:32:57.324Z"
   },
   {
    "duration": 63,
    "start_time": "2024-06-30T19:32:57.338Z"
   },
   {
    "duration": 4731,
    "start_time": "2024-06-30T19:32:57.402Z"
   },
   {
    "duration": 3,
    "start_time": "2024-06-30T19:33:02.134Z"
   },
   {
    "duration": 1714,
    "start_time": "2024-06-30T19:33:02.138Z"
   },
   {
    "duration": 8187,
    "start_time": "2024-06-30T19:33:03.853Z"
   },
   {
    "duration": 3279,
    "start_time": "2024-06-30T19:33:12.042Z"
   },
   {
    "duration": 3,
    "start_time": "2024-06-30T19:33:15.322Z"
   },
   {
    "duration": 21,
    "start_time": "2024-06-30T19:33:15.327Z"
   },
   {
    "duration": 20,
    "start_time": "2024-06-30T19:33:15.350Z"
   },
   {
    "duration": 21,
    "start_time": "2024-06-30T19:33:15.371Z"
   },
   {
    "duration": 12,
    "start_time": "2024-06-30T19:33:15.394Z"
   },
   {
    "duration": 11,
    "start_time": "2024-06-30T19:33:15.409Z"
   },
   {
    "duration": 11,
    "start_time": "2024-06-30T19:33:15.421Z"
   },
   {
    "duration": 4,
    "start_time": "2024-06-30T19:33:15.434Z"
   },
   {
    "duration": 92,
    "start_time": "2024-06-30T19:33:15.439Z"
   },
   {
    "duration": 3,
    "start_time": "2024-06-30T19:33:15.533Z"
   },
   {
    "duration": 5,
    "start_time": "2024-06-30T19:33:15.537Z"
   },
   {
    "duration": 4,
    "start_time": "2024-06-30T19:33:15.543Z"
   },
   {
    "duration": 729,
    "start_time": "2024-06-30T19:33:15.548Z"
   },
   {
    "duration": 0,
    "start_time": "2024-06-30T19:33:16.279Z"
   },
   {
    "duration": 0,
    "start_time": "2024-06-30T19:33:16.280Z"
   },
   {
    "duration": 0,
    "start_time": "2024-06-30T19:33:16.281Z"
   },
   {
    "duration": 0,
    "start_time": "2024-06-30T19:33:16.283Z"
   },
   {
    "duration": 0,
    "start_time": "2024-06-30T19:33:16.283Z"
   },
   {
    "duration": 3,
    "start_time": "2024-06-30T19:34:45.517Z"
   },
   {
    "duration": 10,
    "start_time": "2024-06-30T19:34:45.522Z"
   },
   {
    "duration": 11,
    "start_time": "2024-06-30T19:34:45.534Z"
   },
   {
    "duration": 13,
    "start_time": "2024-06-30T19:34:45.546Z"
   },
   {
    "duration": 9,
    "start_time": "2024-06-30T19:34:45.561Z"
   },
   {
    "duration": 5,
    "start_time": "2024-06-30T19:34:45.571Z"
   },
   {
    "duration": 5,
    "start_time": "2024-06-30T19:34:45.577Z"
   },
   {
    "duration": 5,
    "start_time": "2024-06-30T19:34:45.583Z"
   },
   {
    "duration": 116,
    "start_time": "2024-06-30T19:34:45.589Z"
   },
   {
    "duration": 2,
    "start_time": "2024-06-30T19:34:45.708Z"
   },
   {
    "duration": 87,
    "start_time": "2024-06-30T19:34:45.712Z"
   },
   {
    "duration": 21,
    "start_time": "2024-06-30T19:34:45.801Z"
   },
   {
    "duration": 59004,
    "start_time": "2024-06-30T19:34:45.824Z"
   },
   {
    "duration": 0,
    "start_time": "2024-06-30T19:35:44.830Z"
   },
   {
    "duration": 0,
    "start_time": "2024-06-30T19:35:44.831Z"
   },
   {
    "duration": 0,
    "start_time": "2024-06-30T19:35:44.832Z"
   },
   {
    "duration": 0,
    "start_time": "2024-06-30T19:35:44.833Z"
   },
   {
    "duration": 0,
    "start_time": "2024-06-30T19:35:44.834Z"
   },
   {
    "duration": 14413,
    "start_time": "2024-06-30T19:36:00.388Z"
   },
   {
    "duration": 1935,
    "start_time": "2024-06-30T19:36:14.803Z"
   },
   {
    "duration": 5,
    "start_time": "2024-06-30T19:36:16.740Z"
   },
   {
    "duration": 5,
    "start_time": "2024-06-30T19:36:16.747Z"
   },
   {
    "duration": 13,
    "start_time": "2024-06-30T19:36:16.754Z"
   },
   {
    "duration": 809,
    "start_time": "2024-06-30T19:36:16.768Z"
   },
   {
    "duration": 135,
    "start_time": "2024-06-30T19:36:17.578Z"
   },
   {
    "duration": 134,
    "start_time": "2024-06-30T19:36:17.714Z"
   },
   {
    "duration": 234,
    "start_time": "2024-06-30T19:36:17.850Z"
   },
   {
    "duration": 268,
    "start_time": "2024-06-30T19:36:18.086Z"
   },
   {
    "duration": 288,
    "start_time": "2024-06-30T19:36:18.355Z"
   },
   {
    "duration": 6348,
    "start_time": "2024-06-30T19:36:18.645Z"
   },
   {
    "duration": 17,
    "start_time": "2024-06-30T19:36:24.995Z"
   },
   {
    "duration": 33,
    "start_time": "2024-06-30T19:36:25.015Z"
   },
   {
    "duration": 15,
    "start_time": "2024-06-30T19:36:25.050Z"
   },
   {
    "duration": 1055,
    "start_time": "2024-06-30T19:36:25.067Z"
   },
   {
    "duration": 6557,
    "start_time": "2024-06-30T19:36:26.124Z"
   },
   {
    "duration": 16,
    "start_time": "2024-06-30T19:36:32.682Z"
   },
   {
    "duration": 40,
    "start_time": "2024-06-30T19:36:32.699Z"
   },
   {
    "duration": 17,
    "start_time": "2024-06-30T19:36:32.740Z"
   },
   {
    "duration": 17,
    "start_time": "2024-06-30T19:36:32.765Z"
   },
   {
    "duration": 217,
    "start_time": "2024-06-30T19:36:32.783Z"
   },
   {
    "duration": 105,
    "start_time": "2024-06-30T19:36:33.001Z"
   },
   {
    "duration": 150,
    "start_time": "2024-06-30T19:36:33.108Z"
   },
   {
    "duration": 2880,
    "start_time": "2024-06-30T19:36:33.260Z"
   },
   {
    "duration": 321,
    "start_time": "2024-06-30T19:36:36.142Z"
   },
   {
    "duration": 276,
    "start_time": "2024-06-30T19:36:36.465Z"
   },
   {
    "duration": 253,
    "start_time": "2024-06-30T19:36:36.742Z"
   },
   {
    "duration": 13,
    "start_time": "2024-06-30T19:36:36.997Z"
   },
   {
    "duration": 58,
    "start_time": "2024-06-30T19:36:37.011Z"
   },
   {
    "duration": 4782,
    "start_time": "2024-06-30T19:36:37.071Z"
   },
   {
    "duration": 3,
    "start_time": "2024-06-30T19:36:41.854Z"
   },
   {
    "duration": 1664,
    "start_time": "2024-06-30T19:36:41.858Z"
   },
   {
    "duration": 8348,
    "start_time": "2024-06-30T19:36:43.523Z"
   },
   {
    "duration": 3358,
    "start_time": "2024-06-30T19:36:51.873Z"
   },
   {
    "duration": 4,
    "start_time": "2024-06-30T19:36:55.232Z"
   },
   {
    "duration": 5,
    "start_time": "2024-06-30T19:36:55.238Z"
   },
   {
    "duration": 4,
    "start_time": "2024-06-30T19:36:55.245Z"
   },
   {
    "duration": 19,
    "start_time": "2024-06-30T19:36:55.250Z"
   },
   {
    "duration": 5,
    "start_time": "2024-06-30T19:36:55.270Z"
   },
   {
    "duration": 4,
    "start_time": "2024-06-30T19:36:55.278Z"
   },
   {
    "duration": 3,
    "start_time": "2024-06-30T19:36:55.283Z"
   },
   {
    "duration": 7,
    "start_time": "2024-06-30T19:36:55.288Z"
   },
   {
    "duration": 109,
    "start_time": "2024-06-30T19:36:55.296Z"
   },
   {
    "duration": 3,
    "start_time": "2024-06-30T19:36:55.406Z"
   },
   {
    "duration": 8,
    "start_time": "2024-06-30T19:36:55.410Z"
   },
   {
    "duration": 3,
    "start_time": "2024-06-30T19:36:55.419Z"
   },
   {
    "duration": 14244,
    "start_time": "2024-06-30T19:53:40.323Z"
   },
   {
    "duration": 2005,
    "start_time": "2024-06-30T19:53:54.570Z"
   },
   {
    "duration": 5,
    "start_time": "2024-06-30T19:53:56.577Z"
   },
   {
    "duration": 15,
    "start_time": "2024-06-30T19:53:56.583Z"
   },
   {
    "duration": 4,
    "start_time": "2024-06-30T19:53:56.600Z"
   },
   {
    "duration": 837,
    "start_time": "2024-06-30T19:53:56.605Z"
   },
   {
    "duration": 149,
    "start_time": "2024-06-30T19:53:57.444Z"
   },
   {
    "duration": 137,
    "start_time": "2024-06-30T19:53:57.594Z"
   },
   {
    "duration": 261,
    "start_time": "2024-06-30T19:53:57.733Z"
   },
   {
    "duration": 289,
    "start_time": "2024-06-30T19:53:57.995Z"
   },
   {
    "duration": 302,
    "start_time": "2024-06-30T19:53:58.286Z"
   },
   {
    "duration": 6430,
    "start_time": "2024-06-30T19:53:58.589Z"
   },
   {
    "duration": 17,
    "start_time": "2024-06-30T19:54:05.020Z"
   },
   {
    "duration": 45,
    "start_time": "2024-06-30T19:54:05.040Z"
   },
   {
    "duration": 2,
    "start_time": "2024-06-30T19:54:05.087Z"
   },
   {
    "duration": 1153,
    "start_time": "2024-06-30T19:54:05.091Z"
   },
   {
    "duration": 6483,
    "start_time": "2024-06-30T19:54:06.246Z"
   },
   {
    "duration": 16,
    "start_time": "2024-06-30T19:54:12.731Z"
   },
   {
    "duration": 43,
    "start_time": "2024-06-30T19:54:12.748Z"
   },
   {
    "duration": 19,
    "start_time": "2024-06-30T19:54:12.792Z"
   },
   {
    "duration": 18,
    "start_time": "2024-06-30T19:54:12.812Z"
   },
   {
    "duration": 222,
    "start_time": "2024-06-30T19:54:12.832Z"
   },
   {
    "duration": 87,
    "start_time": "2024-06-30T19:54:13.056Z"
   },
   {
    "duration": 161,
    "start_time": "2024-06-30T19:54:13.144Z"
   },
   {
    "duration": 2892,
    "start_time": "2024-06-30T19:54:13.307Z"
   },
   {
    "duration": 302,
    "start_time": "2024-06-30T19:54:16.201Z"
   },
   {
    "duration": 280,
    "start_time": "2024-06-30T19:54:16.504Z"
   },
   {
    "duration": 253,
    "start_time": "2024-06-30T19:54:16.785Z"
   },
   {
    "duration": 13,
    "start_time": "2024-06-30T19:54:17.039Z"
   },
   {
    "duration": 58,
    "start_time": "2024-06-30T19:54:17.053Z"
   },
   {
    "duration": 4935,
    "start_time": "2024-06-30T19:54:17.113Z"
   },
   {
    "duration": 8,
    "start_time": "2024-06-30T19:54:22.050Z"
   },
   {
    "duration": 1653,
    "start_time": "2024-06-30T19:54:22.059Z"
   },
   {
    "duration": 8570,
    "start_time": "2024-06-30T19:54:23.714Z"
   },
   {
    "duration": 3351,
    "start_time": "2024-06-30T19:54:32.285Z"
   },
   {
    "duration": 3,
    "start_time": "2024-06-30T19:54:35.638Z"
   },
   {
    "duration": 10,
    "start_time": "2024-06-30T19:54:35.643Z"
   },
   {
    "duration": 11,
    "start_time": "2024-06-30T19:54:35.654Z"
   },
   {
    "duration": 11,
    "start_time": "2024-06-30T19:54:35.666Z"
   },
   {
    "duration": 5,
    "start_time": "2024-06-30T19:54:35.678Z"
   },
   {
    "duration": 2,
    "start_time": "2024-06-30T19:54:35.686Z"
   },
   {
    "duration": 3,
    "start_time": "2024-06-30T19:54:35.690Z"
   },
   {
    "duration": 64,
    "start_time": "2024-06-30T19:54:35.694Z"
   },
   {
    "duration": 0,
    "start_time": "2024-06-30T19:54:35.759Z"
   },
   {
    "duration": 0,
    "start_time": "2024-06-30T19:54:35.760Z"
   },
   {
    "duration": 0,
    "start_time": "2024-06-30T19:54:35.761Z"
   },
   {
    "duration": 0,
    "start_time": "2024-06-30T19:54:35.762Z"
   },
   {
    "duration": 0,
    "start_time": "2024-06-30T19:54:35.763Z"
   },
   {
    "duration": 1,
    "start_time": "2024-06-30T19:54:35.764Z"
   },
   {
    "duration": 0,
    "start_time": "2024-06-30T19:54:35.766Z"
   },
   {
    "duration": 0,
    "start_time": "2024-06-30T19:54:35.767Z"
   },
   {
    "duration": 0,
    "start_time": "2024-06-30T19:54:35.768Z"
   },
   {
    "duration": 0,
    "start_time": "2024-06-30T19:54:35.769Z"
   },
   {
    "duration": 3,
    "start_time": "2024-06-30T19:54:56.783Z"
   },
   {
    "duration": 9,
    "start_time": "2024-06-30T19:54:56.788Z"
   },
   {
    "duration": 3,
    "start_time": "2024-06-30T19:54:56.799Z"
   },
   {
    "duration": 7,
    "start_time": "2024-06-30T19:54:56.803Z"
   },
   {
    "duration": 7,
    "start_time": "2024-06-30T19:54:56.812Z"
   },
   {
    "duration": 102,
    "start_time": "2024-06-30T19:54:56.820Z"
   },
   {
    "duration": 3,
    "start_time": "2024-06-30T19:54:56.924Z"
   },
   {
    "duration": 8,
    "start_time": "2024-06-30T19:54:56.928Z"
   },
   {
    "duration": 3,
    "start_time": "2024-06-30T19:54:56.937Z"
   },
   {
    "duration": 628564,
    "start_time": "2024-06-30T19:54:56.941Z"
   },
   {
    "duration": 4,
    "start_time": "2024-06-30T20:05:25.506Z"
   },
   {
    "duration": 12,
    "start_time": "2024-06-30T20:05:25.511Z"
   },
   {
    "duration": 5,
    "start_time": "2024-06-30T20:05:25.525Z"
   },
   {
    "duration": 6,
    "start_time": "2024-06-30T20:05:25.532Z"
   },
   {
    "duration": 27,
    "start_time": "2024-06-30T20:05:25.539Z"
   },
   {
    "duration": 14150,
    "start_time": "2024-06-30T20:11:15.046Z"
   },
   {
    "duration": 2024,
    "start_time": "2024-06-30T20:11:29.198Z"
   },
   {
    "duration": 5,
    "start_time": "2024-06-30T20:11:31.223Z"
   },
   {
    "duration": 84,
    "start_time": "2024-06-30T20:11:31.229Z"
   },
   {
    "duration": 48,
    "start_time": "2024-06-30T20:11:31.315Z"
   },
   {
    "duration": 881,
    "start_time": "2024-06-30T20:11:31.364Z"
   },
   {
    "duration": 135,
    "start_time": "2024-06-30T20:11:32.246Z"
   },
   {
    "duration": 132,
    "start_time": "2024-06-30T20:11:32.384Z"
   },
   {
    "duration": 228,
    "start_time": "2024-06-30T20:11:32.517Z"
   },
   {
    "duration": 267,
    "start_time": "2024-06-30T20:11:32.747Z"
   },
   {
    "duration": 298,
    "start_time": "2024-06-30T20:11:33.016Z"
   },
   {
    "duration": 6373,
    "start_time": "2024-06-30T20:11:33.316Z"
   },
   {
    "duration": 17,
    "start_time": "2024-06-30T20:11:39.691Z"
   },
   {
    "duration": 35,
    "start_time": "2024-06-30T20:11:39.712Z"
   },
   {
    "duration": 2,
    "start_time": "2024-06-30T20:11:39.765Z"
   },
   {
    "duration": 1096,
    "start_time": "2024-06-30T20:11:39.769Z"
   },
   {
    "duration": 6488,
    "start_time": "2024-06-30T20:11:40.867Z"
   },
   {
    "duration": 19,
    "start_time": "2024-06-30T20:11:47.356Z"
   },
   {
    "duration": 33,
    "start_time": "2024-06-30T20:11:47.376Z"
   },
   {
    "duration": 18,
    "start_time": "2024-06-30T20:11:47.411Z"
   },
   {
    "duration": 37,
    "start_time": "2024-06-30T20:11:47.431Z"
   },
   {
    "duration": 229,
    "start_time": "2024-06-30T20:11:47.469Z"
   },
   {
    "duration": 107,
    "start_time": "2024-06-30T20:11:47.700Z"
   },
   {
    "duration": 174,
    "start_time": "2024-06-30T20:11:47.809Z"
   },
   {
    "duration": 2863,
    "start_time": "2024-06-30T20:11:47.984Z"
   },
   {
    "duration": 321,
    "start_time": "2024-06-30T20:11:50.849Z"
   },
   {
    "duration": 285,
    "start_time": "2024-06-30T20:11:51.171Z"
   },
   {
    "duration": 243,
    "start_time": "2024-06-30T20:11:51.457Z"
   },
   {
    "duration": 12,
    "start_time": "2024-06-30T20:11:51.702Z"
   },
   {
    "duration": 81,
    "start_time": "2024-06-30T20:11:51.716Z"
   },
   {
    "duration": 4724,
    "start_time": "2024-06-30T20:11:51.798Z"
   },
   {
    "duration": 3,
    "start_time": "2024-06-30T20:11:56.524Z"
   },
   {
    "duration": 1686,
    "start_time": "2024-06-30T20:11:56.528Z"
   },
   {
    "duration": 8412,
    "start_time": "2024-06-30T20:11:58.216Z"
   },
   {
    "duration": 3412,
    "start_time": "2024-06-30T20:12:06.629Z"
   },
   {
    "duration": 3,
    "start_time": "2024-06-30T20:12:10.042Z"
   },
   {
    "duration": 18,
    "start_time": "2024-06-30T20:12:10.046Z"
   },
   {
    "duration": 11,
    "start_time": "2024-06-30T20:12:10.065Z"
   },
   {
    "duration": 11,
    "start_time": "2024-06-30T20:12:10.077Z"
   },
   {
    "duration": 4,
    "start_time": "2024-06-30T20:12:10.089Z"
   },
   {
    "duration": 2,
    "start_time": "2024-06-30T20:12:10.097Z"
   },
   {
    "duration": 5,
    "start_time": "2024-06-30T20:12:10.100Z"
   },
   {
    "duration": 9,
    "start_time": "2024-06-30T20:12:10.106Z"
   },
   {
    "duration": 106,
    "start_time": "2024-06-30T20:12:10.117Z"
   },
   {
    "duration": 2,
    "start_time": "2024-06-30T20:12:10.225Z"
   },
   {
    "duration": 13,
    "start_time": "2024-06-30T20:12:10.229Z"
   },
   {
    "duration": 750147,
    "start_time": "2024-06-30T20:12:10.243Z"
   },
   {
    "duration": 917995,
    "start_time": "2024-06-30T20:24:40.392Z"
   },
   {
    "duration": 0,
    "start_time": "2024-06-30T20:39:58.389Z"
   },
   {
    "duration": 0,
    "start_time": "2024-06-30T20:39:58.391Z"
   },
   {
    "duration": 0,
    "start_time": "2024-06-30T20:39:58.392Z"
   },
   {
    "duration": 0,
    "start_time": "2024-06-30T20:39:58.394Z"
   },
   {
    "duration": 0,
    "start_time": "2024-06-30T20:39:58.395Z"
   },
   {
    "duration": 13968,
    "start_time": "2024-06-30T22:33:19.441Z"
   },
   {
    "duration": 1947,
    "start_time": "2024-06-30T22:33:33.411Z"
   },
   {
    "duration": 5,
    "start_time": "2024-06-30T22:33:35.361Z"
   },
   {
    "duration": 5,
    "start_time": "2024-06-30T22:33:35.368Z"
   },
   {
    "duration": 4,
    "start_time": "2024-06-30T22:33:35.375Z"
   },
   {
    "duration": 849,
    "start_time": "2024-06-30T22:33:35.381Z"
   },
   {
    "duration": 139,
    "start_time": "2024-06-30T22:33:36.232Z"
   },
   {
    "duration": 132,
    "start_time": "2024-06-30T22:33:36.373Z"
   },
   {
    "duration": 259,
    "start_time": "2024-06-30T22:33:36.506Z"
   },
   {
    "duration": 294,
    "start_time": "2024-06-30T22:33:36.767Z"
   },
   {
    "duration": 326,
    "start_time": "2024-06-30T22:33:37.065Z"
   },
   {
    "duration": 6473,
    "start_time": "2024-06-30T22:33:37.392Z"
   },
   {
    "duration": 35,
    "start_time": "2024-06-30T22:33:43.867Z"
   },
   {
    "duration": 21,
    "start_time": "2024-06-30T22:33:43.903Z"
   },
   {
    "duration": 44,
    "start_time": "2024-06-30T22:33:43.926Z"
   },
   {
    "duration": 1072,
    "start_time": "2024-06-30T22:33:43.971Z"
   },
   {
    "duration": 6595,
    "start_time": "2024-06-30T22:33:45.045Z"
   },
   {
    "duration": 18,
    "start_time": "2024-06-30T22:33:51.641Z"
   },
   {
    "duration": 57,
    "start_time": "2024-06-30T22:33:51.665Z"
   },
   {
    "duration": 55,
    "start_time": "2024-06-30T22:33:51.724Z"
   },
   {
    "duration": 49,
    "start_time": "2024-06-30T22:33:51.780Z"
   },
   {
    "duration": 232,
    "start_time": "2024-06-30T22:33:51.831Z"
   },
   {
    "duration": 86,
    "start_time": "2024-06-30T22:33:52.064Z"
   },
   {
    "duration": 155,
    "start_time": "2024-06-30T22:33:52.152Z"
   },
   {
    "duration": 2822,
    "start_time": "2024-06-30T22:33:52.309Z"
   },
   {
    "duration": 300,
    "start_time": "2024-06-30T22:33:55.132Z"
   },
   {
    "duration": 269,
    "start_time": "2024-06-30T22:33:55.433Z"
   },
   {
    "duration": 245,
    "start_time": "2024-06-30T22:33:55.705Z"
   },
   {
    "duration": 14,
    "start_time": "2024-06-30T22:33:55.951Z"
   },
   {
    "duration": 47,
    "start_time": "2024-06-30T22:33:55.966Z"
   },
   {
    "duration": 4826,
    "start_time": "2024-06-30T22:33:56.015Z"
   },
   {
    "duration": 2,
    "start_time": "2024-06-30T22:34:00.843Z"
   },
   {
    "duration": 1795,
    "start_time": "2024-06-30T22:34:00.847Z"
   },
   {
    "duration": 7953,
    "start_time": "2024-06-30T22:34:02.643Z"
   },
   {
    "duration": 3209,
    "start_time": "2024-06-30T22:34:10.597Z"
   },
   {
    "duration": 3,
    "start_time": "2024-06-30T22:34:13.808Z"
   },
   {
    "duration": 10,
    "start_time": "2024-06-30T22:34:13.813Z"
   },
   {
    "duration": 4,
    "start_time": "2024-06-30T22:34:13.825Z"
   },
   {
    "duration": 4,
    "start_time": "2024-06-30T22:34:13.831Z"
   },
   {
    "duration": 5,
    "start_time": "2024-06-30T22:34:13.836Z"
   },
   {
    "duration": 3,
    "start_time": "2024-06-30T22:34:13.843Z"
   },
   {
    "duration": 19,
    "start_time": "2024-06-30T22:34:13.847Z"
   },
   {
    "duration": 5,
    "start_time": "2024-06-30T22:34:13.867Z"
   },
   {
    "duration": 103,
    "start_time": "2024-06-30T22:34:13.873Z"
   },
   {
    "duration": 3,
    "start_time": "2024-06-30T22:34:13.978Z"
   },
   {
    "duration": 4,
    "start_time": "2024-06-30T22:34:13.982Z"
   },
   {
    "duration": 748110,
    "start_time": "2024-06-30T22:34:13.987Z"
   },
   {
    "duration": 14093,
    "start_time": "2024-06-30T23:47:49.701Z"
   },
   {
    "duration": 1940,
    "start_time": "2024-06-30T23:48:03.797Z"
   },
   {
    "duration": 5,
    "start_time": "2024-06-30T23:48:05.739Z"
   },
   {
    "duration": 44,
    "start_time": "2024-06-30T23:48:05.745Z"
   },
   {
    "duration": 5,
    "start_time": "2024-06-30T23:48:05.791Z"
   },
   {
    "duration": 840,
    "start_time": "2024-06-30T23:48:05.797Z"
   },
   {
    "duration": 131,
    "start_time": "2024-06-30T23:48:06.639Z"
   },
   {
    "duration": 128,
    "start_time": "2024-06-30T23:48:06.771Z"
   },
   {
    "duration": 232,
    "start_time": "2024-06-30T23:48:06.900Z"
   },
   {
    "duration": 286,
    "start_time": "2024-06-30T23:48:07.134Z"
   },
   {
    "duration": 312,
    "start_time": "2024-06-30T23:48:07.422Z"
   },
   {
    "duration": 6383,
    "start_time": "2024-06-30T23:48:07.737Z"
   },
   {
    "duration": 47,
    "start_time": "2024-06-30T23:48:14.122Z"
   },
   {
    "duration": 18,
    "start_time": "2024-06-30T23:48:14.171Z"
   },
   {
    "duration": 37,
    "start_time": "2024-06-30T23:48:14.190Z"
   },
   {
    "duration": 1076,
    "start_time": "2024-06-30T23:48:14.229Z"
   },
   {
    "duration": 6569,
    "start_time": "2024-06-30T23:48:15.306Z"
   },
   {
    "duration": 17,
    "start_time": "2024-06-30T23:48:21.876Z"
   },
   {
    "duration": 34,
    "start_time": "2024-06-30T23:48:21.894Z"
   },
   {
    "duration": 36,
    "start_time": "2024-06-30T23:48:21.929Z"
   },
   {
    "duration": 18,
    "start_time": "2024-06-30T23:48:21.967Z"
   },
   {
    "duration": 238,
    "start_time": "2024-06-30T23:48:21.986Z"
   },
   {
    "duration": 91,
    "start_time": "2024-06-30T23:48:22.226Z"
   },
   {
    "duration": 161,
    "start_time": "2024-06-30T23:48:22.318Z"
   },
   {
    "duration": 2807,
    "start_time": "2024-06-30T23:48:22.481Z"
   },
   {
    "duration": 321,
    "start_time": "2024-06-30T23:48:25.290Z"
   },
   {
    "duration": 277,
    "start_time": "2024-06-30T23:48:25.612Z"
   },
   {
    "duration": 230,
    "start_time": "2024-06-30T23:48:25.891Z"
   },
   {
    "duration": 12,
    "start_time": "2024-06-30T23:48:26.123Z"
   },
   {
    "duration": 65,
    "start_time": "2024-06-30T23:48:26.137Z"
   },
   {
    "duration": 4868,
    "start_time": "2024-06-30T23:48:26.203Z"
   },
   {
    "duration": 3,
    "start_time": "2024-06-30T23:48:31.072Z"
   },
   {
    "duration": 1659,
    "start_time": "2024-06-30T23:48:31.076Z"
   },
   {
    "duration": 8096,
    "start_time": "2024-06-30T23:48:32.736Z"
   },
   {
    "duration": 3398,
    "start_time": "2024-06-30T23:48:40.833Z"
   },
   {
    "duration": 156,
    "start_time": "2024-06-30T23:48:44.234Z"
   },
   {
    "duration": 233,
    "start_time": "2024-06-30T23:48:44.392Z"
   },
   {
    "duration": 2,
    "start_time": "2024-06-30T23:48:44.627Z"
   },
   {
    "duration": 4,
    "start_time": "2024-06-30T23:48:44.631Z"
   },
   {
    "duration": 6,
    "start_time": "2024-06-30T23:48:44.636Z"
   },
   {
    "duration": 4,
    "start_time": "2024-06-30T23:48:44.645Z"
   },
   {
    "duration": 16,
    "start_time": "2024-06-30T23:48:44.650Z"
   },
   {
    "duration": 5,
    "start_time": "2024-06-30T23:48:44.667Z"
   },
   {
    "duration": 10,
    "start_time": "2024-06-30T23:48:44.674Z"
   },
   {
    "duration": 5,
    "start_time": "2024-06-30T23:48:44.686Z"
   },
   {
    "duration": 84,
    "start_time": "2024-06-30T23:48:44.692Z"
   },
   {
    "duration": 3,
    "start_time": "2024-06-30T23:48:44.778Z"
   },
   {
    "duration": 6,
    "start_time": "2024-06-30T23:48:44.782Z"
   },
   {
    "duration": 13963,
    "start_time": "2024-06-30T23:50:11.635Z"
   },
   {
    "duration": 1926,
    "start_time": "2024-06-30T23:50:25.600Z"
   },
   {
    "duration": 6,
    "start_time": "2024-06-30T23:50:27.529Z"
   },
   {
    "duration": 18,
    "start_time": "2024-06-30T23:50:27.536Z"
   },
   {
    "duration": 8,
    "start_time": "2024-06-30T23:50:27.556Z"
   },
   {
    "duration": 807,
    "start_time": "2024-06-30T23:50:27.565Z"
   },
   {
    "duration": 130,
    "start_time": "2024-06-30T23:50:28.373Z"
   },
   {
    "duration": 136,
    "start_time": "2024-06-30T23:50:28.505Z"
   },
   {
    "duration": 241,
    "start_time": "2024-06-30T23:50:28.642Z"
   },
   {
    "duration": 305,
    "start_time": "2024-06-30T23:50:28.885Z"
   },
   {
    "duration": 299,
    "start_time": "2024-06-30T23:50:29.191Z"
   },
   {
    "duration": 6357,
    "start_time": "2024-06-30T23:50:29.491Z"
   },
   {
    "duration": 36,
    "start_time": "2024-06-30T23:50:35.850Z"
   },
   {
    "duration": 27,
    "start_time": "2024-06-30T23:50:35.890Z"
   },
   {
    "duration": 43,
    "start_time": "2024-06-30T23:50:35.918Z"
   },
   {
    "duration": 1058,
    "start_time": "2024-06-30T23:50:35.964Z"
   },
   {
    "duration": 6465,
    "start_time": "2024-06-30T23:50:37.024Z"
   },
   {
    "duration": 17,
    "start_time": "2024-06-30T23:50:43.490Z"
   },
   {
    "duration": 38,
    "start_time": "2024-06-30T23:50:43.508Z"
   },
   {
    "duration": 27,
    "start_time": "2024-06-30T23:50:43.548Z"
   },
   {
    "duration": 34,
    "start_time": "2024-06-30T23:50:43.576Z"
   },
   {
    "duration": 251,
    "start_time": "2024-06-30T23:50:43.611Z"
   },
   {
    "duration": 87,
    "start_time": "2024-06-30T23:50:43.865Z"
   },
   {
    "duration": 162,
    "start_time": "2024-06-30T23:50:43.953Z"
   },
   {
    "duration": 2837,
    "start_time": "2024-06-30T23:50:44.117Z"
   },
   {
    "duration": 301,
    "start_time": "2024-06-30T23:50:46.955Z"
   },
   {
    "duration": 268,
    "start_time": "2024-06-30T23:50:47.258Z"
   },
   {
    "duration": 229,
    "start_time": "2024-06-30T23:50:47.528Z"
   },
   {
    "duration": 17,
    "start_time": "2024-06-30T23:50:47.758Z"
   },
   {
    "duration": 60,
    "start_time": "2024-06-30T23:50:47.776Z"
   },
   {
    "duration": 4891,
    "start_time": "2024-06-30T23:50:47.838Z"
   },
   {
    "duration": 3,
    "start_time": "2024-06-30T23:50:52.731Z"
   },
   {
    "duration": 1696,
    "start_time": "2024-06-30T23:50:52.735Z"
   },
   {
    "duration": 8239,
    "start_time": "2024-06-30T23:50:54.433Z"
   },
   {
    "duration": 3324,
    "start_time": "2024-06-30T23:51:02.674Z"
   },
   {
    "duration": 159,
    "start_time": "2024-06-30T23:51:06.000Z"
   },
   {
    "duration": 238,
    "start_time": "2024-06-30T23:51:06.160Z"
   },
   {
    "duration": 3,
    "start_time": "2024-06-30T23:51:06.399Z"
   },
   {
    "duration": 9,
    "start_time": "2024-06-30T23:51:06.403Z"
   },
   {
    "duration": 5,
    "start_time": "2024-06-30T23:51:06.414Z"
   },
   {
    "duration": 4,
    "start_time": "2024-06-30T23:51:06.422Z"
   },
   {
    "duration": 9,
    "start_time": "2024-06-30T23:51:06.427Z"
   },
   {
    "duration": 8,
    "start_time": "2024-06-30T23:51:06.438Z"
   },
   {
    "duration": 4,
    "start_time": "2024-06-30T23:51:06.447Z"
   },
   {
    "duration": 4,
    "start_time": "2024-06-30T23:51:06.452Z"
   },
   {
    "duration": 59,
    "start_time": "2024-06-30T23:51:06.465Z"
   },
   {
    "duration": 2,
    "start_time": "2024-06-30T23:51:06.525Z"
   },
   {
    "duration": 5,
    "start_time": "2024-06-30T23:51:06.529Z"
   },
   {
    "duration": 3,
    "start_time": "2024-06-30T23:51:06.535Z"
   },
   {
    "duration": 14285,
    "start_time": "2024-07-01T00:10:41.787Z"
   },
   {
    "duration": 2032,
    "start_time": "2024-07-01T00:10:56.074Z"
   },
   {
    "duration": 5,
    "start_time": "2024-07-01T00:10:58.107Z"
   },
   {
    "duration": 12,
    "start_time": "2024-07-01T00:10:58.114Z"
   },
   {
    "duration": 12,
    "start_time": "2024-07-01T00:10:58.128Z"
   },
   {
    "duration": 899,
    "start_time": "2024-07-01T00:10:58.141Z"
   },
   {
    "duration": 138,
    "start_time": "2024-07-01T00:10:59.042Z"
   },
   {
    "duration": 132,
    "start_time": "2024-07-01T00:10:59.181Z"
   },
   {
    "duration": 244,
    "start_time": "2024-07-01T00:10:59.315Z"
   },
   {
    "duration": 284,
    "start_time": "2024-07-01T00:10:59.564Z"
   },
   {
    "duration": 317,
    "start_time": "2024-07-01T00:10:59.850Z"
   },
   {
    "duration": 6402,
    "start_time": "2024-07-01T00:11:00.169Z"
   },
   {
    "duration": 34,
    "start_time": "2024-07-01T00:11:06.572Z"
   },
   {
    "duration": 29,
    "start_time": "2024-07-01T00:11:06.609Z"
   },
   {
    "duration": 52,
    "start_time": "2024-07-01T00:11:06.639Z"
   },
   {
    "duration": 1048,
    "start_time": "2024-07-01T00:11:06.693Z"
   },
   {
    "duration": 6581,
    "start_time": "2024-07-01T00:11:07.743Z"
   },
   {
    "duration": 18,
    "start_time": "2024-07-01T00:11:14.325Z"
   },
   {
    "duration": 44,
    "start_time": "2024-07-01T00:11:14.344Z"
   },
   {
    "duration": 30,
    "start_time": "2024-07-01T00:11:14.390Z"
   },
   {
    "duration": 31,
    "start_time": "2024-07-01T00:11:14.422Z"
   },
   {
    "duration": 224,
    "start_time": "2024-07-01T00:11:14.455Z"
   },
   {
    "duration": 103,
    "start_time": "2024-07-01T00:11:14.681Z"
   },
   {
    "duration": 158,
    "start_time": "2024-07-01T00:11:14.785Z"
   },
   {
    "duration": 2843,
    "start_time": "2024-07-01T00:11:14.945Z"
   },
   {
    "duration": 325,
    "start_time": "2024-07-01T00:11:17.790Z"
   },
   {
    "duration": 278,
    "start_time": "2024-07-01T00:11:18.116Z"
   },
   {
    "duration": 236,
    "start_time": "2024-07-01T00:11:18.396Z"
   },
   {
    "duration": 12,
    "start_time": "2024-07-01T00:11:18.634Z"
   },
   {
    "duration": 60,
    "start_time": "2024-07-01T00:11:18.648Z"
   },
   {
    "duration": 4704,
    "start_time": "2024-07-01T00:11:18.709Z"
   },
   {
    "duration": 3,
    "start_time": "2024-07-01T00:11:23.415Z"
   },
   {
    "duration": 1635,
    "start_time": "2024-07-01T00:11:23.419Z"
   },
   {
    "duration": 8216,
    "start_time": "2024-07-01T00:11:25.056Z"
   },
   {
    "duration": 3281,
    "start_time": "2024-07-01T00:11:33.273Z"
   },
   {
    "duration": 149,
    "start_time": "2024-07-01T00:11:36.555Z"
   },
   {
    "duration": 232,
    "start_time": "2024-07-01T00:11:36.706Z"
   },
   {
    "duration": 3,
    "start_time": "2024-07-01T00:11:36.939Z"
   },
   {
    "duration": 13,
    "start_time": "2024-07-01T00:11:36.943Z"
   },
   {
    "duration": 7,
    "start_time": "2024-07-01T00:11:36.958Z"
   },
   {
    "duration": 6,
    "start_time": "2024-07-01T00:11:36.968Z"
   },
   {
    "duration": 8,
    "start_time": "2024-07-01T00:11:36.975Z"
   },
   {
    "duration": 4,
    "start_time": "2024-07-01T00:11:36.984Z"
   },
   {
    "duration": 19,
    "start_time": "2024-07-01T00:11:36.989Z"
   },
   {
    "duration": 66,
    "start_time": "2024-07-01T00:11:37.009Z"
   },
   {
    "duration": 149,
    "start_time": "2024-07-01T00:11:37.076Z"
   },
   {
    "duration": 0,
    "start_time": "2024-07-01T00:11:37.227Z"
   },
   {
    "duration": 0,
    "start_time": "2024-07-01T00:11:37.228Z"
   },
   {
    "duration": 0,
    "start_time": "2024-07-01T00:11:37.229Z"
   },
   {
    "duration": 0,
    "start_time": "2024-07-01T00:11:37.230Z"
   },
   {
    "duration": 0,
    "start_time": "2024-07-01T00:11:37.231Z"
   },
   {
    "duration": 0,
    "start_time": "2024-07-01T00:11:37.233Z"
   },
   {
    "duration": 14059,
    "start_time": "2024-07-01T00:12:24.066Z"
   },
   {
    "duration": 1961,
    "start_time": "2024-07-01T00:12:38.127Z"
   },
   {
    "duration": 5,
    "start_time": "2024-07-01T00:12:40.089Z"
   },
   {
    "duration": 8,
    "start_time": "2024-07-01T00:12:40.095Z"
   },
   {
    "duration": 4,
    "start_time": "2024-07-01T00:12:40.104Z"
   },
   {
    "duration": 792,
    "start_time": "2024-07-01T00:12:40.109Z"
   },
   {
    "duration": 136,
    "start_time": "2024-07-01T00:12:40.903Z"
   },
   {
    "duration": 136,
    "start_time": "2024-07-01T00:12:41.041Z"
   },
   {
    "duration": 247,
    "start_time": "2024-07-01T00:12:41.179Z"
   },
   {
    "duration": 279,
    "start_time": "2024-07-01T00:12:41.428Z"
   },
   {
    "duration": 319,
    "start_time": "2024-07-01T00:12:41.709Z"
   },
   {
    "duration": 6422,
    "start_time": "2024-07-01T00:12:42.029Z"
   },
   {
    "duration": 37,
    "start_time": "2024-07-01T00:12:48.452Z"
   },
   {
    "duration": 27,
    "start_time": "2024-07-01T00:12:48.492Z"
   },
   {
    "duration": 43,
    "start_time": "2024-07-01T00:12:48.520Z"
   },
   {
    "duration": 1136,
    "start_time": "2024-07-01T00:12:48.565Z"
   },
   {
    "duration": 6479,
    "start_time": "2024-07-01T00:12:49.702Z"
   },
   {
    "duration": 17,
    "start_time": "2024-07-01T00:12:56.182Z"
   },
   {
    "duration": 47,
    "start_time": "2024-07-01T00:12:56.201Z"
   },
   {
    "duration": 20,
    "start_time": "2024-07-01T00:12:56.250Z"
   },
   {
    "duration": 20,
    "start_time": "2024-07-01T00:12:56.271Z"
   },
   {
    "duration": 225,
    "start_time": "2024-07-01T00:12:56.293Z"
   },
   {
    "duration": 93,
    "start_time": "2024-07-01T00:12:56.520Z"
   },
   {
    "duration": 153,
    "start_time": "2024-07-01T00:12:56.614Z"
   },
   {
    "duration": 3016,
    "start_time": "2024-07-01T00:12:56.768Z"
   },
   {
    "duration": 315,
    "start_time": "2024-07-01T00:12:59.786Z"
   },
   {
    "duration": 289,
    "start_time": "2024-07-01T00:13:00.103Z"
   },
   {
    "duration": 250,
    "start_time": "2024-07-01T00:13:00.394Z"
   },
   {
    "duration": 20,
    "start_time": "2024-07-01T00:13:00.645Z"
   },
   {
    "duration": 88,
    "start_time": "2024-07-01T00:13:00.666Z"
   },
   {
    "duration": 4765,
    "start_time": "2024-07-01T00:13:00.756Z"
   },
   {
    "duration": 3,
    "start_time": "2024-07-01T00:13:05.522Z"
   },
   {
    "duration": 1642,
    "start_time": "2024-07-01T00:13:05.527Z"
   },
   {
    "duration": 8205,
    "start_time": "2024-07-01T00:13:07.171Z"
   },
   {
    "duration": 3372,
    "start_time": "2024-07-01T00:13:15.377Z"
   },
   {
    "duration": 165,
    "start_time": "2024-07-01T00:13:18.751Z"
   },
   {
    "duration": 240,
    "start_time": "2024-07-01T00:13:18.918Z"
   },
   {
    "duration": 5,
    "start_time": "2024-07-01T00:13:19.160Z"
   },
   {
    "duration": 6,
    "start_time": "2024-07-01T00:13:19.166Z"
   },
   {
    "duration": 5,
    "start_time": "2024-07-01T00:13:19.173Z"
   },
   {
    "duration": 11,
    "start_time": "2024-07-01T00:13:19.181Z"
   },
   {
    "duration": 4,
    "start_time": "2024-07-01T00:13:19.193Z"
   },
   {
    "duration": 3,
    "start_time": "2024-07-01T00:13:19.198Z"
   },
   {
    "duration": 6,
    "start_time": "2024-07-01T00:13:19.202Z"
   },
   {
    "duration": 69,
    "start_time": "2024-07-01T00:13:19.209Z"
   },
   {
    "duration": 2,
    "start_time": "2024-07-01T00:13:19.280Z"
   },
   {
    "duration": 522377,
    "start_time": "2024-07-01T00:13:19.283Z"
   },
   {
    "duration": 4,
    "start_time": "2024-07-01T00:22:01.662Z"
   },
   {
    "duration": 59,
    "start_time": "2024-07-01T00:22:01.667Z"
   },
   {
    "duration": 187,
    "start_time": "2024-07-01T00:22:01.727Z"
   },
   {
    "duration": 0,
    "start_time": "2024-07-01T00:22:01.915Z"
   },
   {
    "duration": 4,
    "start_time": "2024-07-01T00:24:40.716Z"
   },
   {
    "duration": 9,
    "start_time": "2024-07-01T00:24:40.722Z"
   },
   {
    "duration": 8,
    "start_time": "2024-07-01T00:24:40.733Z"
   },
   {
    "duration": 14,
    "start_time": "2024-07-01T00:24:40.742Z"
   },
   {
    "duration": 6,
    "start_time": "2024-07-01T00:24:52.119Z"
   },
   {
    "duration": 12,
    "start_time": "2024-07-01T00:24:52.127Z"
   },
   {
    "duration": 20,
    "start_time": "2024-07-01T00:24:52.140Z"
   },
   {
    "duration": 14124,
    "start_time": "2024-07-01T00:32:44.130Z"
   },
   {
    "duration": 2041,
    "start_time": "2024-07-01T00:32:58.256Z"
   },
   {
    "duration": 5,
    "start_time": "2024-07-01T00:33:00.298Z"
   },
   {
    "duration": 68,
    "start_time": "2024-07-01T00:33:00.305Z"
   },
   {
    "duration": 36,
    "start_time": "2024-07-01T00:33:00.374Z"
   },
   {
    "duration": 874,
    "start_time": "2024-07-01T00:33:00.412Z"
   },
   {
    "duration": 131,
    "start_time": "2024-07-01T00:33:01.287Z"
   },
   {
    "duration": 151,
    "start_time": "2024-07-01T00:33:01.420Z"
   },
   {
    "duration": 240,
    "start_time": "2024-07-01T00:33:01.572Z"
   },
   {
    "duration": 277,
    "start_time": "2024-07-01T00:33:01.814Z"
   },
   {
    "duration": 311,
    "start_time": "2024-07-01T00:33:02.093Z"
   },
   {
    "duration": 6506,
    "start_time": "2024-07-01T00:33:02.406Z"
   },
   {
    "duration": 40,
    "start_time": "2024-07-01T00:33:08.914Z"
   },
   {
    "duration": 26,
    "start_time": "2024-07-01T00:33:08.956Z"
   },
   {
    "duration": 35,
    "start_time": "2024-07-01T00:33:08.984Z"
   },
   {
    "duration": 1139,
    "start_time": "2024-07-01T00:33:09.020Z"
   },
   {
    "duration": 6594,
    "start_time": "2024-07-01T00:33:10.160Z"
   },
   {
    "duration": 19,
    "start_time": "2024-07-01T00:33:16.755Z"
   },
   {
    "duration": 39,
    "start_time": "2024-07-01T00:33:16.775Z"
   },
   {
    "duration": 18,
    "start_time": "2024-07-01T00:33:16.816Z"
   },
   {
    "duration": 30,
    "start_time": "2024-07-01T00:33:16.835Z"
   },
   {
    "duration": 217,
    "start_time": "2024-07-01T00:33:16.867Z"
   },
   {
    "duration": 89,
    "start_time": "2024-07-01T00:33:17.086Z"
   },
   {
    "duration": 153,
    "start_time": "2024-07-01T00:33:17.177Z"
   },
   {
    "duration": 2835,
    "start_time": "2024-07-01T00:33:17.332Z"
   },
   {
    "duration": 305,
    "start_time": "2024-07-01T00:33:20.168Z"
   },
   {
    "duration": 273,
    "start_time": "2024-07-01T00:33:20.474Z"
   },
   {
    "duration": 257,
    "start_time": "2024-07-01T00:33:20.751Z"
   },
   {
    "duration": 14,
    "start_time": "2024-07-01T00:33:21.010Z"
   },
   {
    "duration": 91,
    "start_time": "2024-07-01T00:33:21.025Z"
   },
   {
    "duration": 4825,
    "start_time": "2024-07-01T00:33:21.118Z"
   },
   {
    "duration": 2,
    "start_time": "2024-07-01T00:33:25.945Z"
   },
   {
    "duration": 1798,
    "start_time": "2024-07-01T00:33:25.949Z"
   },
   {
    "duration": 8135,
    "start_time": "2024-07-01T00:33:27.749Z"
   },
   {
    "duration": 2568,
    "start_time": "2024-07-01T00:33:35.885Z"
   },
   {
    "duration": 133,
    "start_time": "2024-07-01T00:33:38.454Z"
   },
   {
    "duration": 209,
    "start_time": "2024-07-01T00:33:38.589Z"
   },
   {
    "duration": 3,
    "start_time": "2024-07-01T00:33:38.800Z"
   },
   {
    "duration": 5,
    "start_time": "2024-07-01T00:33:38.805Z"
   },
   {
    "duration": 5,
    "start_time": "2024-07-01T00:33:38.811Z"
   },
   {
    "duration": 11,
    "start_time": "2024-07-01T00:33:38.817Z"
   },
   {
    "duration": 8,
    "start_time": "2024-07-01T00:33:38.829Z"
   },
   {
    "duration": 12,
    "start_time": "2024-07-01T00:33:38.838Z"
   },
   {
    "duration": 6,
    "start_time": "2024-07-01T00:33:38.852Z"
   },
   {
    "duration": 71,
    "start_time": "2024-07-01T00:33:38.859Z"
   },
   {
    "duration": 3,
    "start_time": "2024-07-01T00:33:38.932Z"
   },
   {
    "duration": 498736,
    "start_time": "2024-07-01T00:33:38.937Z"
   },
   {
    "duration": 4,
    "start_time": "2024-07-01T00:41:57.675Z"
   },
   {
    "duration": 8,
    "start_time": "2024-07-01T00:41:57.680Z"
   },
   {
    "duration": 18,
    "start_time": "2024-07-01T00:41:57.689Z"
   },
   {
    "duration": 15,
    "start_time": "2024-07-01T00:41:57.708Z"
   },
   {
    "duration": 66,
    "start_time": "2024-07-01T00:53:06.832Z"
   },
   {
    "duration": 0,
    "start_time": "2024-07-01T00:53:06.900Z"
   },
   {
    "duration": 0,
    "start_time": "2024-07-01T00:53:06.900Z"
   },
   {
    "duration": 79,
    "start_time": "2024-07-01T00:53:14.228Z"
   },
   {
    "duration": 0,
    "start_time": "2024-07-01T00:53:14.308Z"
   },
   {
    "duration": 0,
    "start_time": "2024-07-01T00:53:14.309Z"
   },
   {
    "duration": 6,
    "start_time": "2024-07-01T00:53:23.947Z"
   },
   {
    "duration": 7,
    "start_time": "2024-07-01T00:53:23.955Z"
   },
   {
    "duration": 11,
    "start_time": "2024-07-01T00:53:23.964Z"
   },
   {
    "duration": 14206,
    "start_time": "2024-07-01T00:59:40.872Z"
   },
   {
    "duration": 1955,
    "start_time": "2024-07-01T00:59:55.080Z"
   },
   {
    "duration": 5,
    "start_time": "2024-07-01T00:59:57.039Z"
   },
   {
    "duration": 15,
    "start_time": "2024-07-01T00:59:57.045Z"
   },
   {
    "duration": 5,
    "start_time": "2024-07-01T00:59:57.061Z"
   },
   {
    "duration": 833,
    "start_time": "2024-07-01T00:59:57.068Z"
   },
   {
    "duration": 134,
    "start_time": "2024-07-01T00:59:57.902Z"
   },
   {
    "duration": 135,
    "start_time": "2024-07-01T00:59:58.038Z"
   },
   {
    "duration": 242,
    "start_time": "2024-07-01T00:59:58.176Z"
   },
   {
    "duration": 283,
    "start_time": "2024-07-01T00:59:58.419Z"
   },
   {
    "duration": 352,
    "start_time": "2024-07-01T00:59:58.704Z"
   },
   {
    "duration": 6464,
    "start_time": "2024-07-01T00:59:59.059Z"
   },
   {
    "duration": 47,
    "start_time": "2024-07-01T01:00:05.524Z"
   },
   {
    "duration": 48,
    "start_time": "2024-07-01T01:00:05.573Z"
   },
   {
    "duration": 48,
    "start_time": "2024-07-01T01:00:05.623Z"
   },
   {
    "duration": 1044,
    "start_time": "2024-07-01T01:00:05.672Z"
   },
   {
    "duration": 6437,
    "start_time": "2024-07-01T01:00:06.717Z"
   },
   {
    "duration": 24,
    "start_time": "2024-07-01T01:00:13.155Z"
   },
   {
    "duration": 37,
    "start_time": "2024-07-01T01:00:13.180Z"
   },
   {
    "duration": 27,
    "start_time": "2024-07-01T01:00:13.218Z"
   },
   {
    "duration": 24,
    "start_time": "2024-07-01T01:00:13.246Z"
   },
   {
    "duration": 238,
    "start_time": "2024-07-01T01:00:13.271Z"
   },
   {
    "duration": 89,
    "start_time": "2024-07-01T01:00:13.511Z"
   },
   {
    "duration": 168,
    "start_time": "2024-07-01T01:00:13.602Z"
   },
   {
    "duration": 2823,
    "start_time": "2024-07-01T01:00:13.772Z"
   },
   {
    "duration": 318,
    "start_time": "2024-07-01T01:00:16.597Z"
   },
   {
    "duration": 281,
    "start_time": "2024-07-01T01:00:16.920Z"
   },
   {
    "duration": 243,
    "start_time": "2024-07-01T01:00:17.203Z"
   },
   {
    "duration": 57,
    "start_time": "2024-07-01T01:00:17.448Z"
   },
   {
    "duration": 4686,
    "start_time": "2024-07-01T01:00:17.507Z"
   },
   {
    "duration": 4,
    "start_time": "2024-07-01T01:00:22.195Z"
   },
   {
    "duration": 1745,
    "start_time": "2024-07-01T01:00:22.200Z"
   },
   {
    "duration": 8285,
    "start_time": "2024-07-01T01:00:23.947Z"
   },
   {
    "duration": 2604,
    "start_time": "2024-07-01T01:00:32.234Z"
   },
   {
    "duration": 144,
    "start_time": "2024-07-01T01:00:34.839Z"
   },
   {
    "duration": 196,
    "start_time": "2024-07-01T01:00:34.984Z"
   },
   {
    "duration": 3,
    "start_time": "2024-07-01T01:00:35.181Z"
   },
   {
    "duration": 4,
    "start_time": "2024-07-01T01:00:35.185Z"
   },
   {
    "duration": 6,
    "start_time": "2024-07-01T01:00:35.190Z"
   },
   {
    "duration": 3,
    "start_time": "2024-07-01T01:00:35.198Z"
   },
   {
    "duration": 6,
    "start_time": "2024-07-01T01:00:35.202Z"
   },
   {
    "duration": 5,
    "start_time": "2024-07-01T01:00:35.209Z"
   },
   {
    "duration": 103,
    "start_time": "2024-07-01T01:00:35.215Z"
   },
   {
    "duration": 68,
    "start_time": "2024-07-01T01:00:35.319Z"
   },
   {
    "duration": 2,
    "start_time": "2024-07-01T01:00:35.389Z"
   },
   {
    "duration": 14020,
    "start_time": "2024-07-01T01:01:34.328Z"
   },
   {
    "duration": 1999,
    "start_time": "2024-07-01T01:01:48.351Z"
   },
   {
    "duration": 14,
    "start_time": "2024-07-01T01:01:50.351Z"
   },
   {
    "duration": 9,
    "start_time": "2024-07-01T01:01:50.367Z"
   },
   {
    "duration": 4,
    "start_time": "2024-07-01T01:01:50.378Z"
   },
   {
    "duration": 811,
    "start_time": "2024-07-01T01:01:50.384Z"
   },
   {
    "duration": 131,
    "start_time": "2024-07-01T01:01:51.197Z"
   },
   {
    "duration": 140,
    "start_time": "2024-07-01T01:01:51.329Z"
   },
   {
    "duration": 229,
    "start_time": "2024-07-01T01:01:51.471Z"
   },
   {
    "duration": 296,
    "start_time": "2024-07-01T01:01:51.702Z"
   },
   {
    "duration": 316,
    "start_time": "2024-07-01T01:01:51.999Z"
   },
   {
    "duration": 6250,
    "start_time": "2024-07-01T01:01:52.317Z"
   },
   {
    "duration": 37,
    "start_time": "2024-07-01T01:01:58.569Z"
   },
   {
    "duration": 36,
    "start_time": "2024-07-01T01:01:58.608Z"
   },
   {
    "duration": 49,
    "start_time": "2024-07-01T01:01:58.646Z"
   },
   {
    "duration": 1100,
    "start_time": "2024-07-01T01:01:58.696Z"
   },
   {
    "duration": 6421,
    "start_time": "2024-07-01T01:01:59.798Z"
   },
   {
    "duration": 18,
    "start_time": "2024-07-01T01:02:06.221Z"
   },
   {
    "duration": 99,
    "start_time": "2024-07-01T01:02:06.240Z"
   },
   {
    "duration": 25,
    "start_time": "2024-07-01T01:02:06.340Z"
   },
   {
    "duration": 34,
    "start_time": "2024-07-01T01:02:06.367Z"
   },
   {
    "duration": 236,
    "start_time": "2024-07-01T01:02:06.403Z"
   },
   {
    "duration": 97,
    "start_time": "2024-07-01T01:02:06.641Z"
   },
   {
    "duration": 163,
    "start_time": "2024-07-01T01:02:06.739Z"
   },
   {
    "duration": 2824,
    "start_time": "2024-07-01T01:02:06.903Z"
   },
   {
    "duration": 345,
    "start_time": "2024-07-01T01:02:09.729Z"
   },
   {
    "duration": 289,
    "start_time": "2024-07-01T01:02:10.075Z"
   },
   {
    "duration": 251,
    "start_time": "2024-07-01T01:02:10.365Z"
   },
   {
    "duration": 60,
    "start_time": "2024-07-01T01:02:10.618Z"
   },
   {
    "duration": 4708,
    "start_time": "2024-07-01T01:02:10.679Z"
   },
   {
    "duration": 4,
    "start_time": "2024-07-01T01:02:15.388Z"
   },
   {
    "duration": 1643,
    "start_time": "2024-07-01T01:02:15.393Z"
   },
   {
    "duration": 8187,
    "start_time": "2024-07-01T01:02:17.037Z"
   },
   {
    "duration": 2657,
    "start_time": "2024-07-01T01:02:25.225Z"
   },
   {
    "duration": 125,
    "start_time": "2024-07-01T01:02:27.883Z"
   },
   {
    "duration": 198,
    "start_time": "2024-07-01T01:02:28.010Z"
   },
   {
    "duration": 3,
    "start_time": "2024-07-01T01:02:28.209Z"
   },
   {
    "duration": 7,
    "start_time": "2024-07-01T01:02:28.213Z"
   },
   {
    "duration": 17,
    "start_time": "2024-07-01T01:02:28.221Z"
   },
   {
    "duration": 4,
    "start_time": "2024-07-01T01:02:28.239Z"
   },
   {
    "duration": 3,
    "start_time": "2024-07-01T01:02:28.246Z"
   },
   {
    "duration": 4,
    "start_time": "2024-07-01T01:02:28.250Z"
   },
   {
    "duration": 10,
    "start_time": "2024-07-01T01:02:28.255Z"
   },
   {
    "duration": 64,
    "start_time": "2024-07-01T01:02:28.266Z"
   },
   {
    "duration": 2,
    "start_time": "2024-07-01T01:02:28.332Z"
   },
   {
    "duration": 494097,
    "start_time": "2024-07-01T01:02:28.336Z"
   },
   {
    "duration": 4,
    "start_time": "2024-07-01T01:10:42.435Z"
   },
   {
    "duration": 8,
    "start_time": "2024-07-01T01:10:42.440Z"
   },
   {
    "duration": 16,
    "start_time": "2024-07-01T01:10:42.449Z"
   },
   {
    "duration": 18,
    "start_time": "2024-07-01T01:10:42.467Z"
   },
   {
    "duration": 1508,
    "start_time": "2024-07-01T05:34:10.329Z"
   },
   {
    "duration": 2621,
    "start_time": "2024-07-01T05:34:17.921Z"
   },
   {
    "duration": 1204,
    "start_time": "2024-07-01T05:34:26.095Z"
   },
   {
    "duration": 5,
    "start_time": "2024-07-01T05:34:32.352Z"
   },
   {
    "duration": 543,
    "start_time": "2024-07-01T05:34:32.528Z"
   },
   {
    "duration": 120,
    "start_time": "2024-07-01T05:34:33.073Z"
   },
   {
    "duration": 2899,
    "start_time": "2024-07-01T05:34:34.384Z"
   },
   {
    "duration": 158,
    "start_time": "2024-07-01T05:34:37.285Z"
   },
   {
    "duration": 157,
    "start_time": "2024-07-01T05:34:37.445Z"
   },
   {
    "duration": 282,
    "start_time": "2024-07-01T05:34:37.604Z"
   },
   {
    "duration": 362,
    "start_time": "2024-07-01T05:34:37.888Z"
   },
   {
    "duration": 374,
    "start_time": "2024-07-01T05:34:38.252Z"
   },
   {
    "duration": 7168,
    "start_time": "2024-07-01T05:34:38.628Z"
   },
   {
    "duration": 48,
    "start_time": "2024-07-01T05:34:45.798Z"
   },
   {
    "duration": 88,
    "start_time": "2024-07-01T05:34:45.849Z"
   },
   {
    "duration": 88,
    "start_time": "2024-07-01T05:34:45.940Z"
   },
   {
    "duration": 1253,
    "start_time": "2024-07-01T05:34:46.029Z"
   },
   {
    "duration": 6989,
    "start_time": "2024-07-01T05:34:47.284Z"
   },
   {
    "duration": 20,
    "start_time": "2024-07-01T05:34:54.275Z"
   },
   {
    "duration": 91,
    "start_time": "2024-07-01T05:34:54.296Z"
   },
   {
    "duration": 40,
    "start_time": "2024-07-01T05:34:54.389Z"
   },
   {
    "duration": 29,
    "start_time": "2024-07-01T05:34:54.430Z"
   },
   {
    "duration": 285,
    "start_time": "2024-07-01T05:34:54.460Z"
   },
   {
    "duration": 105,
    "start_time": "2024-07-01T05:34:54.747Z"
   },
   {
    "duration": 189,
    "start_time": "2024-07-01T05:34:54.854Z"
   },
   {
    "duration": 3291,
    "start_time": "2024-07-01T05:34:55.045Z"
   },
   {
    "duration": 359,
    "start_time": "2024-07-01T05:34:58.337Z"
   },
   {
    "duration": 337,
    "start_time": "2024-07-01T05:34:58.697Z"
   },
   {
    "duration": 287,
    "start_time": "2024-07-01T05:34:59.036Z"
   },
   {
    "duration": 119,
    "start_time": "2024-07-01T05:34:59.360Z"
   },
   {
    "duration": 22287,
    "start_time": "2024-07-01T08:09:42.835Z"
   },
   {
    "duration": 2208,
    "start_time": "2024-07-01T08:10:05.124Z"
   },
   {
    "duration": 5,
    "start_time": "2024-07-01T08:10:07.334Z"
   },
   {
    "duration": 32,
    "start_time": "2024-07-01T08:10:07.341Z"
   },
   {
    "duration": 11,
    "start_time": "2024-07-01T08:10:07.375Z"
   },
   {
    "duration": 1023,
    "start_time": "2024-07-01T08:10:07.387Z"
   },
   {
    "duration": 111,
    "start_time": "2024-07-01T08:10:08.412Z"
   },
   {
    "duration": 128,
    "start_time": "2024-07-01T08:10:08.524Z"
   },
   {
    "duration": 231,
    "start_time": "2024-07-01T08:10:08.654Z"
   },
   {
    "duration": 264,
    "start_time": "2024-07-01T08:10:08.886Z"
   },
   {
    "duration": 284,
    "start_time": "2024-07-01T08:10:09.151Z"
   },
   {
    "duration": 6690,
    "start_time": "2024-07-01T08:10:09.437Z"
   },
   {
    "duration": 38,
    "start_time": "2024-07-01T08:10:16.128Z"
   },
   {
    "duration": 14,
    "start_time": "2024-07-01T08:10:16.170Z"
   },
   {
    "duration": 48,
    "start_time": "2024-07-01T08:10:16.185Z"
   },
   {
    "duration": 1117,
    "start_time": "2024-07-01T08:10:16.235Z"
   },
   {
    "duration": 6845,
    "start_time": "2024-07-01T08:10:17.353Z"
   },
   {
    "duration": 18,
    "start_time": "2024-07-01T08:10:24.199Z"
   },
   {
    "duration": 34,
    "start_time": "2024-07-01T08:10:24.218Z"
   },
   {
    "duration": 17,
    "start_time": "2024-07-01T08:10:24.254Z"
   },
   {
    "duration": 26,
    "start_time": "2024-07-01T08:10:24.272Z"
   },
   {
    "duration": 215,
    "start_time": "2024-07-01T08:10:24.299Z"
   },
   {
    "duration": 83,
    "start_time": "2024-07-01T08:10:24.516Z"
   },
   {
    "duration": 175,
    "start_time": "2024-07-01T08:10:24.600Z"
   },
   {
    "duration": 2605,
    "start_time": "2024-07-01T08:10:24.777Z"
   },
   {
    "duration": 302,
    "start_time": "2024-07-01T08:10:27.384Z"
   },
   {
    "duration": 297,
    "start_time": "2024-07-01T08:10:27.687Z"
   },
   {
    "duration": 258,
    "start_time": "2024-07-01T08:10:27.985Z"
   },
   {
    "duration": 95,
    "start_time": "2024-07-01T08:10:28.245Z"
   },
   {
    "duration": 45,
    "start_time": "2024-07-01T08:10:28.342Z"
   },
   {
    "duration": 4793,
    "start_time": "2024-07-01T08:10:28.389Z"
   },
   {
    "duration": 3,
    "start_time": "2024-07-01T08:10:33.183Z"
   },
   {
    "duration": 1602,
    "start_time": "2024-07-01T08:10:33.187Z"
   },
   {
    "duration": 7797,
    "start_time": "2024-07-01T08:10:34.790Z"
   },
   {
    "duration": 2506,
    "start_time": "2024-07-01T08:10:42.588Z"
   },
   {
    "duration": 159,
    "start_time": "2024-07-01T08:10:45.096Z"
   },
   {
    "duration": 186,
    "start_time": "2024-07-01T08:10:45.256Z"
   },
   {
    "duration": 3,
    "start_time": "2024-07-01T08:10:45.443Z"
   },
   {
    "duration": 12,
    "start_time": "2024-07-01T08:10:45.447Z"
   },
   {
    "duration": 14,
    "start_time": "2024-07-01T08:10:45.461Z"
   },
   {
    "duration": 4,
    "start_time": "2024-07-01T08:10:45.479Z"
   },
   {
    "duration": 11,
    "start_time": "2024-07-01T08:10:45.484Z"
   },
   {
    "duration": 3,
    "start_time": "2024-07-01T08:10:45.496Z"
   },
   {
    "duration": 4,
    "start_time": "2024-07-01T08:10:45.500Z"
   },
   {
    "duration": 45,
    "start_time": "2024-07-01T08:10:45.505Z"
   },
   {
    "duration": 2,
    "start_time": "2024-07-01T08:10:45.552Z"
   },
   {
    "duration": 553645,
    "start_time": "2024-07-01T08:10:45.555Z"
   },
   {
    "duration": 4,
    "start_time": "2024-07-01T08:19:59.208Z"
   },
   {
    "duration": 7,
    "start_time": "2024-07-01T08:19:59.213Z"
   },
   {
    "duration": 12,
    "start_time": "2024-07-01T08:19:59.221Z"
   },
   {
    "duration": 28,
    "start_time": "2024-07-01T08:19:59.234Z"
   },
   {
    "duration": 16896,
    "start_time": "2024-07-01T08:55:14.706Z"
   },
   {
    "duration": 2064,
    "start_time": "2024-07-01T08:55:31.605Z"
   },
   {
    "duration": 5,
    "start_time": "2024-07-01T08:55:33.671Z"
   },
   {
    "duration": 13,
    "start_time": "2024-07-01T08:55:33.678Z"
   },
   {
    "duration": 4,
    "start_time": "2024-07-01T08:55:33.692Z"
   },
   {
    "duration": 795,
    "start_time": "2024-07-01T08:55:33.697Z"
   },
   {
    "duration": 130,
    "start_time": "2024-07-01T08:55:34.493Z"
   },
   {
    "duration": 108,
    "start_time": "2024-07-01T08:55:34.628Z"
   },
   {
    "duration": 259,
    "start_time": "2024-07-01T08:55:34.738Z"
   },
   {
    "duration": 290,
    "start_time": "2024-07-01T08:55:35.000Z"
   },
   {
    "duration": 306,
    "start_time": "2024-07-01T08:55:35.292Z"
   },
   {
    "duration": 7065,
    "start_time": "2024-07-01T08:55:35.600Z"
   },
   {
    "duration": 29,
    "start_time": "2024-07-01T08:55:42.667Z"
   },
   {
    "duration": 39,
    "start_time": "2024-07-01T08:55:42.698Z"
   },
   {
    "duration": 31,
    "start_time": "2024-07-01T08:55:42.738Z"
   },
   {
    "duration": 1239,
    "start_time": "2024-07-01T08:55:42.771Z"
   },
   {
    "duration": 7159,
    "start_time": "2024-07-01T08:55:44.012Z"
   },
   {
    "duration": 14,
    "start_time": "2024-07-01T08:55:51.173Z"
   },
   {
    "duration": 50,
    "start_time": "2024-07-01T08:55:51.188Z"
   },
   {
    "duration": 17,
    "start_time": "2024-07-01T08:55:51.239Z"
   },
   {
    "duration": 19,
    "start_time": "2024-07-01T08:55:51.258Z"
   },
   {
    "duration": 262,
    "start_time": "2024-07-01T08:55:51.278Z"
   },
   {
    "duration": 85,
    "start_time": "2024-07-01T08:55:51.542Z"
   },
   {
    "duration": 163,
    "start_time": "2024-07-01T08:55:51.629Z"
   },
   {
    "duration": 2829,
    "start_time": "2024-07-01T08:55:51.793Z"
   },
   {
    "duration": 300,
    "start_time": "2024-07-01T08:55:54.623Z"
   },
   {
    "duration": 299,
    "start_time": "2024-07-01T08:55:54.925Z"
   },
   {
    "duration": 146,
    "start_time": "2024-07-01T08:55:55.227Z"
   },
   {
    "duration": 0,
    "start_time": "2024-07-01T08:55:55.375Z"
   },
   {
    "duration": 0,
    "start_time": "2024-07-01T08:55:55.376Z"
   },
   {
    "duration": 0,
    "start_time": "2024-07-01T08:55:55.376Z"
   },
   {
    "duration": 0,
    "start_time": "2024-07-01T08:55:55.377Z"
   },
   {
    "duration": 0,
    "start_time": "2024-07-01T08:55:55.378Z"
   },
   {
    "duration": 0,
    "start_time": "2024-07-01T08:55:55.379Z"
   },
   {
    "duration": 0,
    "start_time": "2024-07-01T08:55:55.381Z"
   },
   {
    "duration": 0,
    "start_time": "2024-07-01T08:55:55.382Z"
   },
   {
    "duration": 0,
    "start_time": "2024-07-01T08:55:55.383Z"
   },
   {
    "duration": 0,
    "start_time": "2024-07-01T08:55:55.384Z"
   },
   {
    "duration": 0,
    "start_time": "2024-07-01T08:55:55.385Z"
   },
   {
    "duration": 0,
    "start_time": "2024-07-01T08:55:55.386Z"
   },
   {
    "duration": 0,
    "start_time": "2024-07-01T08:55:55.409Z"
   },
   {
    "duration": 0,
    "start_time": "2024-07-01T08:55:55.409Z"
   },
   {
    "duration": 0,
    "start_time": "2024-07-01T08:55:55.410Z"
   },
   {
    "duration": 0,
    "start_time": "2024-07-01T08:55:55.410Z"
   },
   {
    "duration": 0,
    "start_time": "2024-07-01T08:55:55.411Z"
   },
   {
    "duration": 0,
    "start_time": "2024-07-01T08:55:55.412Z"
   },
   {
    "duration": 0,
    "start_time": "2024-07-01T08:55:55.412Z"
   },
   {
    "duration": 0,
    "start_time": "2024-07-01T08:55:55.413Z"
   },
   {
    "duration": 0,
    "start_time": "2024-07-01T08:55:55.420Z"
   },
   {
    "duration": 0,
    "start_time": "2024-07-01T08:55:55.423Z"
   },
   {
    "duration": 0,
    "start_time": "2024-07-01T08:55:55.424Z"
   },
   {
    "duration": 0,
    "start_time": "2024-07-01T08:55:55.425Z"
   },
   {
    "duration": 0,
    "start_time": "2024-07-01T08:55:55.427Z"
   },
   {
    "duration": 0,
    "start_time": "2024-07-01T08:55:55.428Z"
   },
   {
    "duration": 0,
    "start_time": "2024-07-01T08:55:55.430Z"
   },
   {
    "duration": 0,
    "start_time": "2024-07-01T08:55:55.431Z"
   },
   {
    "duration": 16412,
    "start_time": "2024-07-01T08:57:04.137Z"
   },
   {
    "duration": 1978,
    "start_time": "2024-07-01T08:57:20.551Z"
   },
   {
    "duration": 5,
    "start_time": "2024-07-01T08:57:22.533Z"
   },
   {
    "duration": 18,
    "start_time": "2024-07-01T08:57:22.539Z"
   },
   {
    "duration": 7,
    "start_time": "2024-07-01T08:57:22.559Z"
   },
   {
    "duration": 770,
    "start_time": "2024-07-01T08:57:22.568Z"
   },
   {
    "duration": 120,
    "start_time": "2024-07-01T08:57:23.340Z"
   },
   {
    "duration": 115,
    "start_time": "2024-07-01T08:57:23.462Z"
   },
   {
    "duration": 232,
    "start_time": "2024-07-01T08:57:23.580Z"
   },
   {
    "duration": 249,
    "start_time": "2024-07-01T08:57:23.814Z"
   },
   {
    "duration": 280,
    "start_time": "2024-07-01T08:57:24.065Z"
   },
   {
    "duration": 6728,
    "start_time": "2024-07-01T08:57:24.347Z"
   },
   {
    "duration": 36,
    "start_time": "2024-07-01T08:57:31.076Z"
   },
   {
    "duration": 101,
    "start_time": "2024-07-01T08:57:31.113Z"
   },
   {
    "duration": 277,
    "start_time": "2024-07-01T08:57:31.216Z"
   },
   {
    "duration": 1204,
    "start_time": "2024-07-01T08:57:31.495Z"
   },
   {
    "duration": 6994,
    "start_time": "2024-07-01T08:57:32.700Z"
   },
   {
    "duration": 19,
    "start_time": "2024-07-01T08:57:39.695Z"
   },
   {
    "duration": 36,
    "start_time": "2024-07-01T08:57:39.716Z"
   },
   {
    "duration": 17,
    "start_time": "2024-07-01T08:57:39.753Z"
   },
   {
    "duration": 19,
    "start_time": "2024-07-01T08:57:39.771Z"
   },
   {
    "duration": 228,
    "start_time": "2024-07-01T08:57:39.791Z"
   },
   {
    "duration": 71,
    "start_time": "2024-07-01T08:57:40.020Z"
   },
   {
    "duration": 167,
    "start_time": "2024-07-01T08:57:40.093Z"
   },
   {
    "duration": 2745,
    "start_time": "2024-07-01T08:57:40.261Z"
   },
   {
    "duration": 313,
    "start_time": "2024-07-01T08:57:43.008Z"
   },
   {
    "duration": 294,
    "start_time": "2024-07-01T08:57:43.324Z"
   },
   {
    "duration": 17,
    "start_time": "2024-07-01T08:57:43.619Z"
   },
   {
    "duration": 42,
    "start_time": "2024-07-01T08:57:43.637Z"
   },
   {
    "duration": 263,
    "start_time": "2024-07-01T08:57:43.681Z"
   },
   {
    "duration": 84,
    "start_time": "2024-07-01T08:57:43.946Z"
   },
   {
    "duration": 43,
    "start_time": "2024-07-01T08:57:44.032Z"
   },
   {
    "duration": 53,
    "start_time": "2024-07-01T08:57:44.077Z"
   },
   {
    "duration": 4696,
    "start_time": "2024-07-01T08:57:44.132Z"
   },
   {
    "duration": 3,
    "start_time": "2024-07-01T08:57:48.829Z"
   },
   {
    "duration": 43,
    "start_time": "2024-07-01T08:57:48.834Z"
   },
   {
    "duration": 1607,
    "start_time": "2024-07-01T08:57:48.878Z"
   },
   {
    "duration": 6255,
    "start_time": "2024-07-01T08:57:50.487Z"
   },
   {
    "duration": 2233,
    "start_time": "2024-07-01T08:57:56.744Z"
   },
   {
    "duration": 119,
    "start_time": "2024-07-01T08:57:58.979Z"
   },
   {
    "duration": 168,
    "start_time": "2024-07-01T08:57:59.099Z"
   },
   {
    "duration": 3,
    "start_time": "2024-07-01T08:57:59.269Z"
   },
   {
    "duration": 5,
    "start_time": "2024-07-01T08:57:59.273Z"
   },
   {
    "duration": 26,
    "start_time": "2024-07-01T08:57:59.279Z"
   },
   {
    "duration": 6,
    "start_time": "2024-07-01T08:57:59.306Z"
   },
   {
    "duration": 5,
    "start_time": "2024-07-01T08:57:59.314Z"
   },
   {
    "duration": 2,
    "start_time": "2024-07-01T08:57:59.322Z"
   },
   {
    "duration": 12,
    "start_time": "2024-07-01T08:57:59.325Z"
   },
   {
    "duration": 39,
    "start_time": "2024-07-01T08:57:59.339Z"
   },
   {
    "duration": 2,
    "start_time": "2024-07-01T08:57:59.380Z"
   },
   {
    "duration": 2345653,
    "start_time": "2024-07-01T08:57:59.383Z"
   },
   {
    "duration": 3,
    "start_time": "2024-07-01T09:37:05.038Z"
   },
   {
    "duration": 14,
    "start_time": "2024-07-01T09:37:05.043Z"
   },
   {
    "duration": 12,
    "start_time": "2024-07-01T09:37:05.058Z"
   },
   {
    "duration": 28,
    "start_time": "2024-07-01T09:37:05.071Z"
   },
   {
    "duration": 272,
    "start_time": "2024-07-01T09:37:05.100Z"
   },
   {
    "duration": 21275,
    "start_time": "2024-07-05T11:02:52.358Z"
   },
   {
    "duration": 2186,
    "start_time": "2024-07-05T11:03:13.635Z"
   },
   {
    "duration": 6,
    "start_time": "2024-07-05T11:03:15.823Z"
   },
   {
    "duration": 13,
    "start_time": "2024-07-05T11:03:15.831Z"
   },
   {
    "duration": 5,
    "start_time": "2024-07-05T11:03:15.845Z"
   },
   {
    "duration": 1209,
    "start_time": "2024-07-05T11:03:15.854Z"
   },
   {
    "duration": 149,
    "start_time": "2024-07-05T11:03:17.064Z"
   },
   {
    "duration": 143,
    "start_time": "2024-07-05T11:03:17.214Z"
   },
   {
    "duration": 253,
    "start_time": "2024-07-05T11:03:17.358Z"
   },
   {
    "duration": 323,
    "start_time": "2024-07-05T11:03:17.614Z"
   },
   {
    "duration": 323,
    "start_time": "2024-07-05T11:03:17.939Z"
   },
   {
    "duration": 6862,
    "start_time": "2024-07-05T11:03:18.263Z"
   },
   {
    "duration": 40,
    "start_time": "2024-07-05T11:03:25.127Z"
   },
   {
    "duration": 34,
    "start_time": "2024-07-05T11:03:25.169Z"
   },
   {
    "duration": 39,
    "start_time": "2024-07-05T11:03:25.205Z"
   },
   {
    "duration": 1216,
    "start_time": "2024-07-05T11:03:25.246Z"
   },
   {
    "duration": 7015,
    "start_time": "2024-07-05T11:03:26.464Z"
   },
   {
    "duration": 19,
    "start_time": "2024-07-05T11:03:33.480Z"
   },
   {
    "duration": 34,
    "start_time": "2024-07-05T11:03:33.501Z"
   },
   {
    "duration": 20,
    "start_time": "2024-07-05T11:03:33.536Z"
   },
   {
    "duration": 21,
    "start_time": "2024-07-05T11:03:33.558Z"
   },
   {
    "duration": 231,
    "start_time": "2024-07-05T11:03:33.599Z"
   },
   {
    "duration": 109,
    "start_time": "2024-07-05T11:03:33.832Z"
   },
   {
    "duration": 182,
    "start_time": "2024-07-05T11:03:33.943Z"
   },
   {
    "duration": 3161,
    "start_time": "2024-07-05T11:03:34.126Z"
   },
   {
    "duration": 344,
    "start_time": "2024-07-05T11:03:37.288Z"
   },
   {
    "duration": 321,
    "start_time": "2024-07-05T11:03:37.633Z"
   },
   {
    "duration": 31,
    "start_time": "2024-07-05T11:03:37.957Z"
   },
   {
    "duration": 43,
    "start_time": "2024-07-05T11:03:38.000Z"
   },
   {
    "duration": 282,
    "start_time": "2024-07-05T11:03:38.045Z"
   },
   {
    "duration": 90,
    "start_time": "2024-07-05T11:03:38.329Z"
   },
   {
    "duration": 48,
    "start_time": "2024-07-05T11:03:38.421Z"
   },
   {
    "duration": 54,
    "start_time": "2024-07-05T11:03:38.470Z"
   },
   {
    "duration": 4897,
    "start_time": "2024-07-05T11:03:38.526Z"
   },
   {
    "duration": 3,
    "start_time": "2024-07-05T11:03:43.425Z"
   },
   {
    "duration": 27,
    "start_time": "2024-07-05T11:03:43.429Z"
   },
   {
    "duration": 1714,
    "start_time": "2024-07-05T11:03:43.458Z"
   },
   {
    "duration": 6557,
    "start_time": "2024-07-05T11:03:45.174Z"
   },
   {
    "duration": 3067,
    "start_time": "2024-07-05T11:03:51.733Z"
   },
   {
    "duration": 133,
    "start_time": "2024-07-05T11:03:54.802Z"
   },
   {
    "duration": 181,
    "start_time": "2024-07-05T11:03:54.936Z"
   },
   {
    "duration": 3,
    "start_time": "2024-07-05T11:03:55.119Z"
   },
   {
    "duration": 24,
    "start_time": "2024-07-05T11:03:55.123Z"
   },
   {
    "duration": 8,
    "start_time": "2024-07-05T11:03:55.149Z"
   },
   {
    "duration": 4,
    "start_time": "2024-07-05T11:03:55.158Z"
   },
   {
    "duration": 5,
    "start_time": "2024-07-05T11:03:55.163Z"
   },
   {
    "duration": 5,
    "start_time": "2024-07-05T11:03:55.169Z"
   },
   {
    "duration": 5,
    "start_time": "2024-07-05T11:03:55.175Z"
   },
   {
    "duration": 55,
    "start_time": "2024-07-05T11:03:55.182Z"
   },
   {
    "duration": 3,
    "start_time": "2024-07-05T11:03:55.239Z"
   },
   {
    "duration": 700748,
    "start_time": "2024-07-05T11:03:55.243Z"
   },
   {
    "duration": 4,
    "start_time": "2024-07-05T11:15:35.993Z"
   },
   {
    "duration": 6,
    "start_time": "2024-07-05T11:15:35.999Z"
   },
   {
    "duration": 7,
    "start_time": "2024-07-05T11:15:36.007Z"
   },
   {
    "duration": 18,
    "start_time": "2024-07-05T11:15:36.015Z"
   },
   {
    "duration": 309,
    "start_time": "2024-07-05T11:15:36.034Z"
   }
  ],
  "kernelspec": {
   "display_name": "Python 3 (ipykernel)",
   "language": "python",
   "name": "python3"
  },
  "language_info": {
   "codemirror_mode": {
    "name": "ipython",
    "version": 3
   },
   "file_extension": ".py",
   "mimetype": "text/x-python",
   "name": "python",
   "nbconvert_exporter": "python",
   "pygments_lexer": "ipython3",
   "version": "3.9.5"
  },
  "toc": {
   "base_numbering": 1,
   "nav_menu": {},
   "number_sections": true,
   "sideBar": true,
   "skip_h1_title": true,
   "title_cell": "Table of Contents",
   "title_sidebar": "Contents",
   "toc_cell": false,
   "toc_position": {},
   "toc_section_display": true,
   "toc_window_display": false
  }
 },
 "nbformat": 4,
 "nbformat_minor": 2
}
